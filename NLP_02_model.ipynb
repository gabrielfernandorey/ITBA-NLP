{
  "cells": [
    {
      "cell_type": "markdown",
      "metadata": {
        "colab_type": "text",
        "id": "view-in-github"
      },
      "source": [
        "<a href=\"https://colab.research.google.com/github/gabrielfernandorey/ITBA-NLP/blob/main/NLP_02_model.ipynb\" target=\"_parent\"><img src=\"https://colab.research.google.com/assets/colab-badge.svg\" alt=\"Open In Colab\"/></a>"
      ]
    },
    {
      "cell_type": "markdown",
      "metadata": {
        "id": "g6GzUxPz0r9-"
      },
      "source": [
        "# Trabajo Practico NLP - Detección de Tópicos y clasificación\n",
        "- ITBA 2024\n",
        "- Alumno: Gabriel Rey\n",
        "---"
      ]
    },
    {
      "cell_type": "markdown",
      "metadata": {},
      "source": [
        "### NLP_02_model\n",
        "\n",
        "Esta notebook se utiliza para:\n",
        "- armar el modelo de estimación de tópicos\n",
        "- validar resultados obtenidos\n",
        "- guardar datos en los indices de opensearch\n",
        "\n",
        "Esta y las consecuentes notebooks son el desarrollo de base de procesos y funciones para la web app provista."
      ]
    },
    {
      "cell_type": "markdown",
      "metadata": {
        "id": "e59GBP66N_BK"
      },
      "source": [
        "### MODELO"
      ]
    },
    {
      "cell_type": "code",
      "execution_count": 1,
      "metadata": {
        "colab": {
          "base_uri": "https://localhost:8080/",
          "height": 366
        },
        "collapsed": true,
        "id": "P7eCyxiT1rcu",
        "outputId": "5c718fba-d95f-4b07-91d3-cad4d8c81c00"
      },
      "outputs": [],
      "source": [
        "import warnings\n",
        "warnings.filterwarnings('ignore')\n",
        "\n",
        "import pandas as pd\n",
        "pd.set_option('display.max_colwidth', None)\n",
        "import numpy as np\n",
        "from matplotlib import pyplot as plt\n",
        "import os\n",
        "import json\n",
        "import pickle\n",
        "from datetime import datetime, date\n",
        "from dateutil.parser import parse\n",
        "from dotenv import load_dotenv\n",
        "\n",
        "from NLP_tools import Cleaning_text, top_keywords, top_entities, get_topic_name, best_document, clean_all\n",
        "from core.functions import *"
      ]
    },
    {
      "cell_type": "code",
      "execution_count": 2,
      "metadata": {
        "id": "7QSVkkTWN_BP"
      },
      "outputs": [],
      "source": [
        "from sklearn.feature_extraction.text import CountVectorizer, TfidfVectorizer\n",
        "from sklearn.metrics.pairwise import cosine_similarity\n",
        "from sklearn.decomposition import NMF\n",
        "\n",
        "from tqdm import tqdm\n",
        "\n",
        "from umap import UMAP\n",
        "from hdbscan import HDBSCAN\n",
        "from sentence_transformers import SentenceTransformer\n",
        "from bertopic import BERTopic\n",
        "from bertopic.representation import KeyBERTInspired\n",
        "from bertopic.vectorizers import ClassTfidfTransformer"
      ]
    },
    {
      "cell_type": "code",
      "execution_count": 3,
      "metadata": {
        "id": "yECzCViiN_BP"
      },
      "outputs": [],
      "source": [
        "from opensearch_data_model import Topic, TopicKeyword, News, os_client, TOPIC_INDEX_NAME, NEWS_INDEX_NAME\n",
        "from opensearch_io import init_opensearch, get_news, get_entities_news, get_title_news  \n",
        "from opensearchpy import helpers\n",
        "\n",
        "from openai import OpenAI"
      ]
    },
    {
      "cell_type": "markdown",
      "metadata": {
        "id": "ZmkslbsDN_BT"
      },
      "source": [
        "### Path"
      ]
    },
    {
      "cell_type": "code",
      "execution_count": 4,
      "metadata": {
        "colab": {
          "base_uri": "https://localhost:8080/",
          "height": 35
        },
        "id": "ZAu1QkwYN_BU",
        "outputId": "86b5d60e-88a3-4ffa-cfab-e89ce3e6086c"
      },
      "outputs": [
        {
          "data": {
            "text/plain": [
              "'C:/Users/gabri/OneDrive/Machine Learning/Github/ITBA-NLP/data/'"
            ]
          },
          "execution_count": 4,
          "metadata": {},
          "output_type": "execute_result"
        }
      ],
      "source": [
        "load_dotenv()\n",
        "PATH_REMOTO='/content/ITBA-NLP/data/'\n",
        "PATH=os.environ.get('PATH_LOCAL', PATH_REMOTO)\n",
        "PATH"
      ]
    },
    {
      "cell_type": "code",
      "execution_count": 5,
      "metadata": {
        "colab": {
          "base_uri": "https://localhost:8080/",
          "height": 176
        },
        "id": "ofyYU7FzN_BU",
        "outputId": "cbbb459c-53ed-445a-b37b-5eb0a94bc370"
      },
      "outputs": [
        {
          "name": "stdout",
          "output_type": "stream",
          "text": [
            "<openai.OpenAI object at 0x000002CE5EEEC550>\n"
          ]
        }
      ],
      "source": [
        "if PATH == os.environ.get('PATH_LOCAL'):\n",
        "    if os.environ.get('OPENAI_API_KEY'):\n",
        "        client = OpenAI(api_key= os.environ.get('OPENAI_API_KEY'))\n",
        "    else:\n",
        "        client = None\n",
        "    print(client)"
      ]
    },
    {
      "cell_type": "markdown",
      "metadata": {
        "id": "PrAEQ0VIN_BR"
      },
      "source": [
        "### Inicializamos la base vectorial"
      ]
    },
    {
      "cell_type": "code",
      "execution_count": 6,
      "metadata": {
        "id": "wOEOjKN4N_BS",
        "outputId": "2e883aa5-49ab-4a7a-8dfb-8574ba88700b"
      },
      "outputs": [
        {
          "name": "stdout",
          "output_type": "stream",
          "text": [
            "El índice Topic ya existe. Saltando inicialización de base de datos.\n",
            "El índice News ya existe. Saltando inicialización de base de datos.\n"
          ]
        }
      ],
      "source": [
        "init_opensearch()"
      ]
    },
    {
      "cell_type": "markdown",
      "metadata": {
        "id": "mHLnakcu2MOq"
      },
      "source": [
        "### Data de noticias original"
      ]
    },
    {
      "cell_type": "code",
      "execution_count": 7,
      "metadata": {
        "id": "cmp3cLLv28-T"
      },
      "outputs": [],
      "source": [
        "# Cargar archivo previamente preprocesado en NLP_01_data \n",
        "choice = \"20240716\"   \n",
        "df_parquet = pd.read_parquet(PATH+choice+\".parquet\")\n",
        "data = list(df_parquet['text'])\n",
        "id_data = list(df_parquet['asset_id'])\n",
        "title_data = list(df_parquet['title'])"
      ]
    },
    {
      "cell_type": "code",
      "execution_count": 8,
      "metadata": {
        "id": "DxbMdlz-N_BV"
      },
      "outputs": [
        {
          "data": {
            "text/plain": [
              "3517"
            ]
          },
          "execution_count": 8,
          "metadata": {},
          "output_type": "execute_result"
        }
      ],
      "source": [
        "# Cargar entidades previamente procesadas\n",
        "with open(PATH+f'preproc_notebook/entities_{choice}.json', 'r') as json_file:\n",
        "    vocab = json.load(json_file)\n",
        "len(vocab)\n",
        "\n",
        "# Cargar vocabulario previamente procesado\n",
        "with open(PATH+f'preproc_notebook/vocabulary_{choice}.json', 'r') as json_file:\n",
        "    vocab = json.load(json_file)\n",
        "len(vocab)"
      ]
    },
    {
      "cell_type": "markdown",
      "metadata": {},
      "source": [
        "### Preprocesar las noticias\n",
        "Se realiza un preprocesamiento mínimo del texto, pero no se le quita el sentido semántico para que mediante SentenceTransformer se puedan capturar embeddings de mejor calidad."
      ]
    },
    {
      "cell_type": "code",
      "execution_count": 9,
      "metadata": {},
      "outputs": [],
      "source": [
        "# Stopwords\n",
        "SPANISH_STOPWORDS = list(pd.read_csv(PATH+'spanish_stop_words.csv' )['stopwords'].values)\n",
        "SPANISH_STOPWORDS_SPECIAL = list(pd.read_csv(PATH+'spanish_stop_words_spec.csv' )['stopwords'].values)"
      ]
    },
    {
      "cell_type": "code",
      "execution_count": 10,
      "metadata": {},
      "outputs": [
        {
          "name": "stderr",
          "output_type": "stream",
          "text": [
            "100%|██████████| 500/500 [00:00<00:00, 1853.80it/s]\n"
          ]
        }
      ],
      "source": [
        "clean_data = Cleaning_text()\n",
        "\n",
        "proc_data = []\n",
        "for data_in in tqdm(data):\n",
        "    aux = clean_data.unicode(data_in)\n",
        "    aux = clean_data.urls(aux)\n",
        "    aux = clean_data.simbols(aux)\n",
        "    aux = clean_data.escape_sequence(aux)\n",
        "    aux = \" \".join([ word for word in aux.split() if word.lower() not in SPANISH_STOPWORDS_SPECIAL])\n",
        "    proc_data.append(aux)\n"
      ]
    },
    {
      "cell_type": "markdown",
      "metadata": {
        "id": "Hl06QkGoN_BW"
      },
      "source": [
        "### Modelo"
      ]
    },
    {
      "cell_type": "code",
      "execution_count": 11,
      "metadata": {
        "id": "6U8qmnllN_BW"
      },
      "outputs": [
        {
          "data": {
            "text/html": [
              "<style>#sk-container-id-1 {\n",
              "  /* Definition of color scheme common for light and dark mode */\n",
              "  --sklearn-color-text: black;\n",
              "  --sklearn-color-line: gray;\n",
              "  /* Definition of color scheme for unfitted estimators */\n",
              "  --sklearn-color-unfitted-level-0: #fff5e6;\n",
              "  --sklearn-color-unfitted-level-1: #f6e4d2;\n",
              "  --sklearn-color-unfitted-level-2: #ffe0b3;\n",
              "  --sklearn-color-unfitted-level-3: chocolate;\n",
              "  /* Definition of color scheme for fitted estimators */\n",
              "  --sklearn-color-fitted-level-0: #f0f8ff;\n",
              "  --sklearn-color-fitted-level-1: #d4ebff;\n",
              "  --sklearn-color-fitted-level-2: #b3dbfd;\n",
              "  --sklearn-color-fitted-level-3: cornflowerblue;\n",
              "\n",
              "  /* Specific color for light theme */\n",
              "  --sklearn-color-text-on-default-background: var(--sg-text-color, var(--theme-code-foreground, var(--jp-content-font-color1, black)));\n",
              "  --sklearn-color-background: var(--sg-background-color, var(--theme-background, var(--jp-layout-color0, white)));\n",
              "  --sklearn-color-border-box: var(--sg-text-color, var(--theme-code-foreground, var(--jp-content-font-color1, black)));\n",
              "  --sklearn-color-icon: #696969;\n",
              "\n",
              "  @media (prefers-color-scheme: dark) {\n",
              "    /* Redefinition of color scheme for dark theme */\n",
              "    --sklearn-color-text-on-default-background: var(--sg-text-color, var(--theme-code-foreground, var(--jp-content-font-color1, white)));\n",
              "    --sklearn-color-background: var(--sg-background-color, var(--theme-background, var(--jp-layout-color0, #111)));\n",
              "    --sklearn-color-border-box: var(--sg-text-color, var(--theme-code-foreground, var(--jp-content-font-color1, white)));\n",
              "    --sklearn-color-icon: #878787;\n",
              "  }\n",
              "}\n",
              "\n",
              "#sk-container-id-1 {\n",
              "  color: var(--sklearn-color-text);\n",
              "}\n",
              "\n",
              "#sk-container-id-1 pre {\n",
              "  padding: 0;\n",
              "}\n",
              "\n",
              "#sk-container-id-1 input.sk-hidden--visually {\n",
              "  border: 0;\n",
              "  clip: rect(1px 1px 1px 1px);\n",
              "  clip: rect(1px, 1px, 1px, 1px);\n",
              "  height: 1px;\n",
              "  margin: -1px;\n",
              "  overflow: hidden;\n",
              "  padding: 0;\n",
              "  position: absolute;\n",
              "  width: 1px;\n",
              "}\n",
              "\n",
              "#sk-container-id-1 div.sk-dashed-wrapped {\n",
              "  border: 1px dashed var(--sklearn-color-line);\n",
              "  margin: 0 0.4em 0.5em 0.4em;\n",
              "  box-sizing: border-box;\n",
              "  padding-bottom: 0.4em;\n",
              "  background-color: var(--sklearn-color-background);\n",
              "}\n",
              "\n",
              "#sk-container-id-1 div.sk-container {\n",
              "  /* jupyter's `normalize.less` sets `[hidden] { display: none; }`\n",
              "     but bootstrap.min.css set `[hidden] { display: none !important; }`\n",
              "     so we also need the `!important` here to be able to override the\n",
              "     default hidden behavior on the sphinx rendered scikit-learn.org.\n",
              "     See: https://github.com/scikit-learn/scikit-learn/issues/21755 */\n",
              "  display: inline-block !important;\n",
              "  position: relative;\n",
              "}\n",
              "\n",
              "#sk-container-id-1 div.sk-text-repr-fallback {\n",
              "  display: none;\n",
              "}\n",
              "\n",
              "div.sk-parallel-item,\n",
              "div.sk-serial,\n",
              "div.sk-item {\n",
              "  /* draw centered vertical line to link estimators */\n",
              "  background-image: linear-gradient(var(--sklearn-color-text-on-default-background), var(--sklearn-color-text-on-default-background));\n",
              "  background-size: 2px 100%;\n",
              "  background-repeat: no-repeat;\n",
              "  background-position: center center;\n",
              "}\n",
              "\n",
              "/* Parallel-specific style estimator block */\n",
              "\n",
              "#sk-container-id-1 div.sk-parallel-item::after {\n",
              "  content: \"\";\n",
              "  width: 100%;\n",
              "  border-bottom: 2px solid var(--sklearn-color-text-on-default-background);\n",
              "  flex-grow: 1;\n",
              "}\n",
              "\n",
              "#sk-container-id-1 div.sk-parallel {\n",
              "  display: flex;\n",
              "  align-items: stretch;\n",
              "  justify-content: center;\n",
              "  background-color: var(--sklearn-color-background);\n",
              "  position: relative;\n",
              "}\n",
              "\n",
              "#sk-container-id-1 div.sk-parallel-item {\n",
              "  display: flex;\n",
              "  flex-direction: column;\n",
              "}\n",
              "\n",
              "#sk-container-id-1 div.sk-parallel-item:first-child::after {\n",
              "  align-self: flex-end;\n",
              "  width: 50%;\n",
              "}\n",
              "\n",
              "#sk-container-id-1 div.sk-parallel-item:last-child::after {\n",
              "  align-self: flex-start;\n",
              "  width: 50%;\n",
              "}\n",
              "\n",
              "#sk-container-id-1 div.sk-parallel-item:only-child::after {\n",
              "  width: 0;\n",
              "}\n",
              "\n",
              "/* Serial-specific style estimator block */\n",
              "\n",
              "#sk-container-id-1 div.sk-serial {\n",
              "  display: flex;\n",
              "  flex-direction: column;\n",
              "  align-items: center;\n",
              "  background-color: var(--sklearn-color-background);\n",
              "  padding-right: 1em;\n",
              "  padding-left: 1em;\n",
              "}\n",
              "\n",
              "\n",
              "/* Toggleable style: style used for estimator/Pipeline/ColumnTransformer box that is\n",
              "clickable and can be expanded/collapsed.\n",
              "- Pipeline and ColumnTransformer use this feature and define the default style\n",
              "- Estimators will overwrite some part of the style using the `sk-estimator` class\n",
              "*/\n",
              "\n",
              "/* Pipeline and ColumnTransformer style (default) */\n",
              "\n",
              "#sk-container-id-1 div.sk-toggleable {\n",
              "  /* Default theme specific background. It is overwritten whether we have a\n",
              "  specific estimator or a Pipeline/ColumnTransformer */\n",
              "  background-color: var(--sklearn-color-background);\n",
              "}\n",
              "\n",
              "/* Toggleable label */\n",
              "#sk-container-id-1 label.sk-toggleable__label {\n",
              "  cursor: pointer;\n",
              "  display: block;\n",
              "  width: 100%;\n",
              "  margin-bottom: 0;\n",
              "  padding: 0.5em;\n",
              "  box-sizing: border-box;\n",
              "  text-align: center;\n",
              "}\n",
              "\n",
              "#sk-container-id-1 label.sk-toggleable__label-arrow:before {\n",
              "  /* Arrow on the left of the label */\n",
              "  content: \"▸\";\n",
              "  float: left;\n",
              "  margin-right: 0.25em;\n",
              "  color: var(--sklearn-color-icon);\n",
              "}\n",
              "\n",
              "#sk-container-id-1 label.sk-toggleable__label-arrow:hover:before {\n",
              "  color: var(--sklearn-color-text);\n",
              "}\n",
              "\n",
              "/* Toggleable content - dropdown */\n",
              "\n",
              "#sk-container-id-1 div.sk-toggleable__content {\n",
              "  max-height: 0;\n",
              "  max-width: 0;\n",
              "  overflow: hidden;\n",
              "  text-align: left;\n",
              "  /* unfitted */\n",
              "  background-color: var(--sklearn-color-unfitted-level-0);\n",
              "}\n",
              "\n",
              "#sk-container-id-1 div.sk-toggleable__content.fitted {\n",
              "  /* fitted */\n",
              "  background-color: var(--sklearn-color-fitted-level-0);\n",
              "}\n",
              "\n",
              "#sk-container-id-1 div.sk-toggleable__content pre {\n",
              "  margin: 0.2em;\n",
              "  border-radius: 0.25em;\n",
              "  color: var(--sklearn-color-text);\n",
              "  /* unfitted */\n",
              "  background-color: var(--sklearn-color-unfitted-level-0);\n",
              "}\n",
              "\n",
              "#sk-container-id-1 div.sk-toggleable__content.fitted pre {\n",
              "  /* unfitted */\n",
              "  background-color: var(--sklearn-color-fitted-level-0);\n",
              "}\n",
              "\n",
              "#sk-container-id-1 input.sk-toggleable__control:checked~div.sk-toggleable__content {\n",
              "  /* Expand drop-down */\n",
              "  max-height: 200px;\n",
              "  max-width: 100%;\n",
              "  overflow: auto;\n",
              "}\n",
              "\n",
              "#sk-container-id-1 input.sk-toggleable__control:checked~label.sk-toggleable__label-arrow:before {\n",
              "  content: \"▾\";\n",
              "}\n",
              "\n",
              "/* Pipeline/ColumnTransformer-specific style */\n",
              "\n",
              "#sk-container-id-1 div.sk-label input.sk-toggleable__control:checked~label.sk-toggleable__label {\n",
              "  color: var(--sklearn-color-text);\n",
              "  background-color: var(--sklearn-color-unfitted-level-2);\n",
              "}\n",
              "\n",
              "#sk-container-id-1 div.sk-label.fitted input.sk-toggleable__control:checked~label.sk-toggleable__label {\n",
              "  background-color: var(--sklearn-color-fitted-level-2);\n",
              "}\n",
              "\n",
              "/* Estimator-specific style */\n",
              "\n",
              "/* Colorize estimator box */\n",
              "#sk-container-id-1 div.sk-estimator input.sk-toggleable__control:checked~label.sk-toggleable__label {\n",
              "  /* unfitted */\n",
              "  background-color: var(--sklearn-color-unfitted-level-2);\n",
              "}\n",
              "\n",
              "#sk-container-id-1 div.sk-estimator.fitted input.sk-toggleable__control:checked~label.sk-toggleable__label {\n",
              "  /* fitted */\n",
              "  background-color: var(--sklearn-color-fitted-level-2);\n",
              "}\n",
              "\n",
              "#sk-container-id-1 div.sk-label label.sk-toggleable__label,\n",
              "#sk-container-id-1 div.sk-label label {\n",
              "  /* The background is the default theme color */\n",
              "  color: var(--sklearn-color-text-on-default-background);\n",
              "}\n",
              "\n",
              "/* On hover, darken the color of the background */\n",
              "#sk-container-id-1 div.sk-label:hover label.sk-toggleable__label {\n",
              "  color: var(--sklearn-color-text);\n",
              "  background-color: var(--sklearn-color-unfitted-level-2);\n",
              "}\n",
              "\n",
              "/* Label box, darken color on hover, fitted */\n",
              "#sk-container-id-1 div.sk-label.fitted:hover label.sk-toggleable__label.fitted {\n",
              "  color: var(--sklearn-color-text);\n",
              "  background-color: var(--sklearn-color-fitted-level-2);\n",
              "}\n",
              "\n",
              "/* Estimator label */\n",
              "\n",
              "#sk-container-id-1 div.sk-label label {\n",
              "  font-family: monospace;\n",
              "  font-weight: bold;\n",
              "  display: inline-block;\n",
              "  line-height: 1.2em;\n",
              "}\n",
              "\n",
              "#sk-container-id-1 div.sk-label-container {\n",
              "  text-align: center;\n",
              "}\n",
              "\n",
              "/* Estimator-specific */\n",
              "#sk-container-id-1 div.sk-estimator {\n",
              "  font-family: monospace;\n",
              "  border: 1px dotted var(--sklearn-color-border-box);\n",
              "  border-radius: 0.25em;\n",
              "  box-sizing: border-box;\n",
              "  margin-bottom: 0.5em;\n",
              "  /* unfitted */\n",
              "  background-color: var(--sklearn-color-unfitted-level-0);\n",
              "}\n",
              "\n",
              "#sk-container-id-1 div.sk-estimator.fitted {\n",
              "  /* fitted */\n",
              "  background-color: var(--sklearn-color-fitted-level-0);\n",
              "}\n",
              "\n",
              "/* on hover */\n",
              "#sk-container-id-1 div.sk-estimator:hover {\n",
              "  /* unfitted */\n",
              "  background-color: var(--sklearn-color-unfitted-level-2);\n",
              "}\n",
              "\n",
              "#sk-container-id-1 div.sk-estimator.fitted:hover {\n",
              "  /* fitted */\n",
              "  background-color: var(--sklearn-color-fitted-level-2);\n",
              "}\n",
              "\n",
              "/* Specification for estimator info (e.g. \"i\" and \"?\") */\n",
              "\n",
              "/* Common style for \"i\" and \"?\" */\n",
              "\n",
              ".sk-estimator-doc-link,\n",
              "a:link.sk-estimator-doc-link,\n",
              "a:visited.sk-estimator-doc-link {\n",
              "  float: right;\n",
              "  font-size: smaller;\n",
              "  line-height: 1em;\n",
              "  font-family: monospace;\n",
              "  background-color: var(--sklearn-color-background);\n",
              "  border-radius: 1em;\n",
              "  height: 1em;\n",
              "  width: 1em;\n",
              "  text-decoration: none !important;\n",
              "  margin-left: 1ex;\n",
              "  /* unfitted */\n",
              "  border: var(--sklearn-color-unfitted-level-1) 1pt solid;\n",
              "  color: var(--sklearn-color-unfitted-level-1);\n",
              "}\n",
              "\n",
              ".sk-estimator-doc-link.fitted,\n",
              "a:link.sk-estimator-doc-link.fitted,\n",
              "a:visited.sk-estimator-doc-link.fitted {\n",
              "  /* fitted */\n",
              "  border: var(--sklearn-color-fitted-level-1) 1pt solid;\n",
              "  color: var(--sklearn-color-fitted-level-1);\n",
              "}\n",
              "\n",
              "/* On hover */\n",
              "div.sk-estimator:hover .sk-estimator-doc-link:hover,\n",
              ".sk-estimator-doc-link:hover,\n",
              "div.sk-label-container:hover .sk-estimator-doc-link:hover,\n",
              ".sk-estimator-doc-link:hover {\n",
              "  /* unfitted */\n",
              "  background-color: var(--sklearn-color-unfitted-level-3);\n",
              "  color: var(--sklearn-color-background);\n",
              "  text-decoration: none;\n",
              "}\n",
              "\n",
              "div.sk-estimator.fitted:hover .sk-estimator-doc-link.fitted:hover,\n",
              ".sk-estimator-doc-link.fitted:hover,\n",
              "div.sk-label-container:hover .sk-estimator-doc-link.fitted:hover,\n",
              ".sk-estimator-doc-link.fitted:hover {\n",
              "  /* fitted */\n",
              "  background-color: var(--sklearn-color-fitted-level-3);\n",
              "  color: var(--sklearn-color-background);\n",
              "  text-decoration: none;\n",
              "}\n",
              "\n",
              "/* Span, style for the box shown on hovering the info icon */\n",
              ".sk-estimator-doc-link span {\n",
              "  display: none;\n",
              "  z-index: 9999;\n",
              "  position: relative;\n",
              "  font-weight: normal;\n",
              "  right: .2ex;\n",
              "  padding: .5ex;\n",
              "  margin: .5ex;\n",
              "  width: min-content;\n",
              "  min-width: 20ex;\n",
              "  max-width: 50ex;\n",
              "  color: var(--sklearn-color-text);\n",
              "  box-shadow: 2pt 2pt 4pt #999;\n",
              "  /* unfitted */\n",
              "  background: var(--sklearn-color-unfitted-level-0);\n",
              "  border: .5pt solid var(--sklearn-color-unfitted-level-3);\n",
              "}\n",
              "\n",
              ".sk-estimator-doc-link.fitted span {\n",
              "  /* fitted */\n",
              "  background: var(--sklearn-color-fitted-level-0);\n",
              "  border: var(--sklearn-color-fitted-level-3);\n",
              "}\n",
              "\n",
              ".sk-estimator-doc-link:hover span {\n",
              "  display: block;\n",
              "}\n",
              "\n",
              "/* \"?\"-specific style due to the `<a>` HTML tag */\n",
              "\n",
              "#sk-container-id-1 a.estimator_doc_link {\n",
              "  float: right;\n",
              "  font-size: 1rem;\n",
              "  line-height: 1em;\n",
              "  font-family: monospace;\n",
              "  background-color: var(--sklearn-color-background);\n",
              "  border-radius: 1rem;\n",
              "  height: 1rem;\n",
              "  width: 1rem;\n",
              "  text-decoration: none;\n",
              "  /* unfitted */\n",
              "  color: var(--sklearn-color-unfitted-level-1);\n",
              "  border: var(--sklearn-color-unfitted-level-1) 1pt solid;\n",
              "}\n",
              "\n",
              "#sk-container-id-1 a.estimator_doc_link.fitted {\n",
              "  /* fitted */\n",
              "  border: var(--sklearn-color-fitted-level-1) 1pt solid;\n",
              "  color: var(--sklearn-color-fitted-level-1);\n",
              "}\n",
              "\n",
              "/* On hover */\n",
              "#sk-container-id-1 a.estimator_doc_link:hover {\n",
              "  /* unfitted */\n",
              "  background-color: var(--sklearn-color-unfitted-level-3);\n",
              "  color: var(--sklearn-color-background);\n",
              "  text-decoration: none;\n",
              "}\n",
              "\n",
              "#sk-container-id-1 a.estimator_doc_link.fitted:hover {\n",
              "  /* fitted */\n",
              "  background-color: var(--sklearn-color-fitted-level-3);\n",
              "}\n",
              "</style><div id=\"sk-container-id-1\" class=\"sk-top-container\"><div class=\"sk-text-repr-fallback\"><pre>TfidfVectorizer(max_df=0.9, min_df=0.1, ngram_range=(1, 2),\n",
              "                vocabulary=[&#x27;Ciudad A&#x27;, &#x27;Ingreso&#x27;, &#x27;auto&#x27;, &#x27;b&#x27;, &#x27;verdad&#x27;,\n",
              "                            &#x27;Zalazar Navarro&#x27;, &#x27;olfato&#x27;, &#x27;Marcelo&#x27;, &#x27;RAE&#x27;,\n",
              "                            &#x27;STM&#x27;, &#x27;plataforma&#x27;, &#x27;ganancias&#x27;,\n",
              "                            &#x27;Expedición Robinson&#x27;, &#x27;asistencias&#x27;,\n",
              "                            &#x27;Partido Republicano&#x27;, &#x27;Blessd&#x27;, &#x27;Lanús&#x27;, &#x27;Unidad&#x27;,\n",
              "                            &#x27;valores térmicos&#x27;, &#x27;dinero&#x27;, &#x27;Rubén Alderete&#x27;,\n",
              "                            &#x27;tabla&#x27;, &#x27;partido&#x27;, &#x27;estadio Santiago Bernabéu&#x27;,\n",
              "                            &#x27;Río de Janeiro&#x27;, &#x27;Huachipato&#x27;,\n",
              "                            &#x27;transacciones financieras&#x27;, &#x27;Mate Rojo&#x27;,\n",
              "                            &#x27;aprendizaje&#x27;, &#x27;provincia de Misiones&#x27;, ...])</pre><b>In a Jupyter environment, please rerun this cell to show the HTML representation or trust the notebook. <br />On GitHub, the HTML representation is unable to render, please try loading this page with nbviewer.org.</b></div><div class=\"sk-container\" hidden><div class=\"sk-item\"><div class=\"sk-estimator fitted sk-toggleable\"><input class=\"sk-toggleable__control sk-hidden--visually\" id=\"sk-estimator-id-1\" type=\"checkbox\" checked><label for=\"sk-estimator-id-1\" class=\"sk-toggleable__label fitted sk-toggleable__label-arrow fitted\">&nbsp;&nbsp;TfidfVectorizer<a class=\"sk-estimator-doc-link fitted\" rel=\"noreferrer\" target=\"_blank\" href=\"https://scikit-learn.org/1.4/modules/generated/sklearn.feature_extraction.text.TfidfVectorizer.html\">?<span>Documentation for TfidfVectorizer</span></a><span class=\"sk-estimator-doc-link fitted\">i<span>Fitted</span></span></label><div class=\"sk-toggleable__content fitted\"><pre>TfidfVectorizer(max_df=0.9, min_df=0.1, ngram_range=(1, 2),\n",
              "                vocabulary=[&#x27;Ciudad A&#x27;, &#x27;Ingreso&#x27;, &#x27;auto&#x27;, &#x27;b&#x27;, &#x27;verdad&#x27;,\n",
              "                            &#x27;Zalazar Navarro&#x27;, &#x27;olfato&#x27;, &#x27;Marcelo&#x27;, &#x27;RAE&#x27;,\n",
              "                            &#x27;STM&#x27;, &#x27;plataforma&#x27;, &#x27;ganancias&#x27;,\n",
              "                            &#x27;Expedición Robinson&#x27;, &#x27;asistencias&#x27;,\n",
              "                            &#x27;Partido Republicano&#x27;, &#x27;Blessd&#x27;, &#x27;Lanús&#x27;, &#x27;Unidad&#x27;,\n",
              "                            &#x27;valores térmicos&#x27;, &#x27;dinero&#x27;, &#x27;Rubén Alderete&#x27;,\n",
              "                            &#x27;tabla&#x27;, &#x27;partido&#x27;, &#x27;estadio Santiago Bernabéu&#x27;,\n",
              "                            &#x27;Río de Janeiro&#x27;, &#x27;Huachipato&#x27;,\n",
              "                            &#x27;transacciones financieras&#x27;, &#x27;Mate Rojo&#x27;,\n",
              "                            &#x27;aprendizaje&#x27;, &#x27;provincia de Misiones&#x27;, ...])</pre></div> </div></div></div></div>"
            ],
            "text/plain": [
              "TfidfVectorizer(max_df=0.9, min_df=0.1, ngram_range=(1, 2),\n",
              "                vocabulary=['Ciudad A', 'Ingreso', 'auto', 'b', 'verdad',\n",
              "                            'Zalazar Navarro', 'olfato', 'Marcelo', 'RAE',\n",
              "                            'STM', 'plataforma', 'ganancias',\n",
              "                            'Expedición Robinson', 'asistencias',\n",
              "                            'Partido Republicano', 'Blessd', 'Lanús', 'Unidad',\n",
              "                            'valores térmicos', 'dinero', 'Rubén Alderete',\n",
              "                            'tabla', 'partido', 'estadio Santiago Bernabéu',\n",
              "                            'Río de Janeiro', 'Huachipato',\n",
              "                            'transacciones financieras', 'Mate Rojo',\n",
              "                            'aprendizaje', 'provincia de Misiones', ...])"
            ]
          },
          "execution_count": 11,
          "metadata": {},
          "output_type": "execute_result"
        }
      ],
      "source": [
        "tfidf_vectorizer = TfidfVectorizer(\n",
        "        tokenizer=None,\n",
        "        max_df=0.9,\n",
        "        min_df=0.1,\n",
        "        ngram_range=(1, 2),\n",
        "        vocabulary=vocab,\n",
        "        # max_features=100_000\n",
        ")\n",
        "tfidf_vectorizer.fit(data)"
      ]
    },
    {
      "cell_type": "markdown",
      "metadata": {
        "id": "6KB5tMtLN_BW"
      },
      "source": [
        "Capas del modelo BERTopic"
      ]
    },
    {
      "cell_type": "code",
      "execution_count": 12,
      "metadata": {
        "id": "Mpb75EAM3R53"
      },
      "outputs": [],
      "source": [
        "# Step 1 - Extract embeddings\n",
        "embedding_model = SentenceTransformer(\"paraphrase-multilingual-MiniLM-L12-v2\")\n",
        "# Step 2 - Reduce dimensionality\n",
        "umap_model = UMAP(n_neighbors=15, n_components=5, min_dist=0.0, metric='cosine', random_state=42)\n",
        "# Step 3 - Cluster reduced embeddings\n",
        "hdbscan_model = HDBSCAN(min_cluster_size=10, metric='euclidean', cluster_selection_method='eom', prediction_data=True)\n",
        "# Step 4 - Tokenize topics\n",
        "vectorizer_model = tfidf_vectorizer\n",
        "# Step 5 - Create topic representation\n",
        "ctfidf_model = ClassTfidfTransformer()\n",
        "# Step 6 - (Optional) Fine-tune topic representations with a `bertopic.representation` model\n",
        "# representation_model = KeyBERTInspired()\n",
        "\n",
        "# All steps together\n",
        "topic_model = BERTopic(\n",
        "  embedding_model=embedding_model,              # Step 1 - Extract embeddings\n",
        "  umap_model=umap_model,                        # Step 2 - Reduce dimensionality\n",
        "  hdbscan_model=hdbscan_model,                  # Step 3 - Cluster reduced embeddings\n",
        "  vectorizer_model=vectorizer_model,            # Step 4 - Tokenize topics\n",
        "  ctfidf_model=ctfidf_model,                    # Step 5 - Extract topic words\n",
        "  # representation_model=representation_model,  # Step 6 - (Optional) Fine-tune topic represenations\n",
        "  # language='multilingual',                    # This is not used if embedding_model is used.\n",
        "  verbose=True,\n",
        "  # calculate_probabilities=True\n",
        ")"
      ]
    },
    {
      "cell_type": "markdown",
      "metadata": {
        "id": "RYk1SbbdN_BX"
      },
      "source": [
        "### Datos de Entrenamiento a recuperar"
      ]
    },
    {
      "cell_type": "code",
      "execution_count": 13,
      "metadata": {
        "id": "uZb5UYa5N_BX"
      },
      "outputs": [],
      "source": [
        "# Cargar modelo entrenado o saltar celda y entrenar\n",
        "topic_model = BERTopic.load(PATH+f\"modelos_notebook/bertopic_model_{choice}\")\n",
        "#topics = np.load(PATH+f\"modelos_notebook/topics_{choice}.npy\")\n",
        "#probs = np.load(PATH+f\"modelos_notebook/probs_{choice}.npy\")\n",
        "\n",
        "# Cargar los embeddings\n",
        "docs_embedding = np.load(PATH+f\"modelos_notebook/docs_embeddings_{choice}.npy\")"
      ]
    },
    {
      "cell_type": "markdown",
      "metadata": {},
      "source": [
        "### Entrenamiento"
      ]
    },
    {
      "cell_type": "code",
      "execution_count": null,
      "metadata": {
        "id": "MUSgR75RN_BY"
      },
      "outputs": [],
      "source": [
        "# Entrenamiento\n",
        "topics, probs = topic_model.fit_transform(proc_data)"
      ]
    },
    {
      "cell_type": "code",
      "execution_count": null,
      "metadata": {
        "id": "7fssvPfyN_BY"
      },
      "outputs": [],
      "source": [
        "# Obtenemos embeddings de todos los documentos\n",
        "docs_embedding = topic_model.embedding_model.embed(data)"
      ]
    },
    {
      "cell_type": "markdown",
      "metadata": {},
      "source": [
        "### Datos de entrenamiento a guardar"
      ]
    },
    {
      "cell_type": "code",
      "execution_count": null,
      "metadata": {
        "id": "4NXVfA04N_BY"
      },
      "outputs": [],
      "source": [
        "# Grabar modelo\n",
        "topic_model.save(PATH+f\"modelos_notebook/bertopic_model_{choice}\")\n",
        "#np.save(PATH+f\"modelos_notebook/topics_{choice}.npy\", topics)\n",
        "#np.save(PATH+f\"modelos_notebook/probs_{choice}.npy\", probs)\n",
        "\n",
        "# Guardar los embeddings en un archivo de NumPy\n",
        "np.save(PATH+f\"modelos_notebook/docs_embeddings_{choice}.npy\", docs_embedding)"
      ]
    },
    {
      "cell_type": "markdown",
      "metadata": {
        "id": "McTgk142N_BY"
      },
      "source": [
        "## Resultados y operaciones con el modelo"
      ]
    },
    {
      "cell_type": "code",
      "execution_count": 14,
      "metadata": {
        "id": "-oHKP19MN_BY"
      },
      "outputs": [
        {
          "name": "stdout",
          "output_type": "stream",
          "text": [
            "Cantidad de tópicos 9 (incluye topico -1)\n"
          ]
        }
      ],
      "source": [
        "print(f\"Cantidad de tópicos {len(set(topic_model.topics_))} (incluye topico -1)\")"
      ]
    },
    {
      "cell_type": "code",
      "execution_count": 15,
      "metadata": {
        "id": "qZusn9JUN_BY"
      },
      "outputs": [
        {
          "name": "stdout",
          "output_type": "stream",
          "text": [
            "Número de tópicos encontrados: 9 (incluye el topico -1)\n",
            " Topic  Count\n",
            "     0    134\n",
            "    -1     87\n",
            "     1     66\n",
            "     2     60\n",
            "     3     41\n",
            "     4     38\n",
            "     5     37\n",
            "     6     25\n",
            "     7     12\n"
          ]
        }
      ],
      "source": [
        "# Obtener documentos de cada tópico\n",
        "topic_freq = topic_model.get_topic_freq()\n",
        "\n",
        "# Imprimir el número de tópicos encontrados (incluyendo el tópico -1)\n",
        "num_topics = len(topic_freq)\n",
        "print(f\"Número de tópicos encontrados: {num_topics} (incluye el topico -1)\")\n",
        "\n",
        "# Imprimir la cant de documentos de cada tópico\n",
        "print(topic_freq.to_string(index=False))"
      ]
    },
    {
      "cell_type": "markdown",
      "metadata": {
        "id": "J8NuMpv7N_BZ"
      },
      "source": [
        "### Recuperar todos los topicos y sus etiquetas generadas por el modelo"
      ]
    },
    {
      "cell_type": "code",
      "execution_count": 16,
      "metadata": {
        "id": "QyGA8qOBN_BZ"
      },
      "outputs": [
        {
          "data": {
            "text/plain": [
              "['-1_productos_etiquetado_también',\n",
              " '0_selección_final_2024',\n",
              " '1_años_joven_víctima',\n",
              " '2_sociedades anónimas_presidente_gobierno',\n",
              " '3_sendas_camiones_residuos',\n",
              " '4_julio_vacaciones_día',\n",
              " '5_reservas_banco central_brecha',\n",
              " '6_cuotas_obligaciones_régimen',\n",
              " '7_incendio_temperaturas_fuego']"
            ]
          },
          "execution_count": 16,
          "metadata": {},
          "output_type": "execute_result"
        }
      ],
      "source": [
        "topic_labels = topic_model.generate_topic_labels()\n",
        "topic_labels"
      ]
    },
    {
      "cell_type": "markdown",
      "metadata": {
        "id": "szmrk5CcN_BZ"
      },
      "source": [
        "### Buscar topicos ingresando un texto"
      ]
    },
    {
      "cell_type": "code",
      "execution_count": 17,
      "metadata": {
        "id": "IDMc0KZVN_BZ"
      },
      "outputs": [
        {
          "name": "stdout",
          "output_type": "stream",
          "text": [
            "([7, -1, 4, 3, 5], [0.4688509, 0.31840295, 0.24485709, 0.23814145, 0.23002827])\n"
          ]
        },
        {
          "data": {
            "text/plain": [
              "'7_incendio_temperaturas_fuego'"
            ]
          },
          "execution_count": 17,
          "metadata": {},
          "output_type": "execute_result"
        }
      ],
      "source": [
        "topic_res = topic_model.find_topics(\"cambio climatico\")\n",
        "print(topic_res)\n",
        "topic_labels[topic_res[0][np.argmax(topic_res[1])]+1]"
      ]
    },
    {
      "cell_type": "markdown",
      "metadata": {
        "id": "p4lJj7ySN_BZ"
      },
      "source": [
        "### Buscar los titulos de los primeros n documentos de un topico"
      ]
    },
    {
      "cell_type": "code",
      "execution_count": 18,
      "metadata": {
        "id": "mDaQzIduN_BZ"
      },
      "outputs": [
        {
          "name": "stdout",
          "output_type": "stream",
          "text": [
            "Topico N°: 3 --> 3_sendas_camiones_residuos\n",
            "5 de 41 titulos de noticias encontrados en el tópico 3\n",
            "-  Adorni quiere restringir el acceso de periodistas a la Rosada: \"No todos merecen estar cerca de Milei\"\n",
            "-  Así fue recibida la selección bicampeona de América\n",
            "-  Industria: el uso de la capacidad instalada cayó 11 puntos en mayo\n",
            "-  La ONU llamó al régimen de Corea del Norte a poner fin al trabajo forzado, la esclavitud y las prácticas esclavistas\n",
            "-  Venezuela: Maduro eliminó un impuesto y anunció un nuevo plan económico\n"
          ]
        }
      ],
      "source": [
        "# Obtener los n documentos de un tópico\n",
        "topic_id = np.random.randint(len(set(topic_model.topics_))-1)\n",
        "print(f\"Topico N°: {topic_id} --> {topic_labels[topic_id+1]}\" )\n",
        "\n",
        "n_docs = 5  # N documentos a recuperar\n",
        "topic_docs_idx = [i for i, (doc, topic) in enumerate(zip(list(df_parquet['title']), topic_model.topics_)) if topic == topic_id]\n",
        "n_docs = n_docs if n_docs <= len(topic_docs_idx) else len(topic_docs_idx)\n",
        "\n",
        "print(f\"{n_docs} de {len(topic_docs_idx)} titulos de noticias encontrados en el tópico {topic_id:}\")\n",
        "for idx in topic_docs_idx[:n_docs]:\n",
        "    print(\"- \",df_parquet.iloc[idx]['title'])"
      ]
    },
    {
      "cell_type": "markdown",
      "metadata": {
        "id": "Oe7n7ofuN_Ba"
      },
      "source": [
        "#### Busqueda de documentos por topico, ordenados por mayor probabilidad"
      ]
    },
    {
      "cell_type": "code",
      "execution_count": 19,
      "metadata": {
        "id": "KFpaYMzpN_Ba"
      },
      "outputs": [
        {
          "name": "stdout",
          "output_type": "stream",
          "text": [
            "Topico N°: 3 --> 3_sendas_camiones_residuos\n",
            "41 docs encontrados\n"
          ]
        },
        {
          "data": {
            "text/html": [
              "<style type=\"text/css\">\n",
              "#T_8cc6f_row0_col1, #T_8cc6f_row1_col1, #T_8cc6f_row2_col1, #T_8cc6f_row3_col1, #T_8cc6f_row4_col1, #T_8cc6f_row5_col1, #T_8cc6f_row6_col1, #T_8cc6f_row7_col1, #T_8cc6f_row8_col1, #T_8cc6f_row9_col1, #T_8cc6f_row10_col1, #T_8cc6f_row11_col1, #T_8cc6f_row12_col1, #T_8cc6f_row13_col1, #T_8cc6f_row14_col1, #T_8cc6f_row15_col1, #T_8cc6f_row16_col1, #T_8cc6f_row17_col1, #T_8cc6f_row18_col1, #T_8cc6f_row19_col1, #T_8cc6f_row20_col1, #T_8cc6f_row21_col1, #T_8cc6f_row22_col1, #T_8cc6f_row23_col1, #T_8cc6f_row24_col1, #T_8cc6f_row25_col1, #T_8cc6f_row26_col1, #T_8cc6f_row27_col1, #T_8cc6f_row28_col1, #T_8cc6f_row29_col1, #T_8cc6f_row30_col1, #T_8cc6f_row31_col1, #T_8cc6f_row32_col1, #T_8cc6f_row33_col1, #T_8cc6f_row34_col1, #T_8cc6f_row35_col1, #T_8cc6f_row36_col1, #T_8cc6f_row37_col1, #T_8cc6f_row38_col1, #T_8cc6f_row39_col1, #T_8cc6f_row40_col1 {\n",
              "  text-align: left;\n",
              "}\n",
              "</style>\n",
              "<table id=\"T_8cc6f\">\n",
              "  <thead>\n",
              "    <tr>\n",
              "      <th class=\"blank level0\" >&nbsp;</th>\n",
              "      <th id=\"T_8cc6f_level0_col0\" class=\"col_heading level0 col0\" >ID</th>\n",
              "      <th id=\"T_8cc6f_level0_col1\" class=\"col_heading level0 col1\" >titulo</th>\n",
              "      <th id=\"T_8cc6f_level0_col2\" class=\"col_heading level0 col2\" >score</th>\n",
              "    </tr>\n",
              "  </thead>\n",
              "  <tbody>\n",
              "    <tr>\n",
              "      <th id=\"T_8cc6f_level0_row0\" class=\"row_heading level0 row0\" >20</th>\n",
              "      <td id=\"T_8cc6f_row0_col0\" class=\"data row0 col0\" >114855058</td>\n",
              "      <td id=\"T_8cc6f_row0_col1\" class=\"data row0 col1\" >Manes le habló al arquero Milei: \"Las pelotas que van afuera no las meta adentro del arco\"</td>\n",
              "      <td id=\"T_8cc6f_row0_col2\" class=\"data row0 col2\" >1.000000</td>\n",
              "    </tr>\n",
              "    <tr>\n",
              "      <th id=\"T_8cc6f_level0_row1\" class=\"row_heading level0 row1\" >32</th>\n",
              "      <td id=\"T_8cc6f_row1_col0\" class=\"data row1 col0\" >114857812</td>\n",
              "      <td id=\"T_8cc6f_row1_col1\" class=\"data row1 col1\" >L-Gante se cayó a la fosa de un escenario en Paraguay</td>\n",
              "      <td id=\"T_8cc6f_row1_col2\" class=\"data row1 col2\" >1.000000</td>\n",
              "    </tr>\n",
              "    <tr>\n",
              "      <th id=\"T_8cc6f_level0_row2\" class=\"row_heading level0 row2\" >24</th>\n",
              "      <td id=\"T_8cc6f_row2_col0\" class=\"data row2 col0\" >114847609</td>\n",
              "      <td id=\"T_8cc6f_row2_col1\" class=\"data row2 col1\" >Terminó la renovación integral y el jueves reabre la estación Pasteur-AMIA</td>\n",
              "      <td id=\"T_8cc6f_row2_col2\" class=\"data row2 col2\" >1.000000</td>\n",
              "    </tr>\n",
              "    <tr>\n",
              "      <th id=\"T_8cc6f_level0_row3\" class=\"row_heading level0 row3\" >26</th>\n",
              "      <td id=\"T_8cc6f_row3_col0\" class=\"data row3 col0\" >114822410</td>\n",
              "      <td id=\"T_8cc6f_row3_col1\" class=\"data row3 col1\" >Ethereum: cuál es la cotización de esta criptomoneda</td>\n",
              "      <td id=\"T_8cc6f_row3_col2\" class=\"data row3 col2\" >1.000000</td>\n",
              "    </tr>\n",
              "    <tr>\n",
              "      <th id=\"T_8cc6f_level0_row4\" class=\"row_heading level0 row4\" >13</th>\n",
              "      <td id=\"T_8cc6f_row4_col0\" class=\"data row4 col0\" >114881107</td>\n",
              "      <td id=\"T_8cc6f_row4_col1\" class=\"data row4 col1\" >Se tomó un avión y en pleno despegue descubrió que sus valijas estaban tiradas en la pista</td>\n",
              "      <td id=\"T_8cc6f_row4_col2\" class=\"data row4 col2\" >1.000000</td>\n",
              "    </tr>\n",
              "    <tr>\n",
              "      <th id=\"T_8cc6f_level0_row5\" class=\"row_heading level0 row5\" >21</th>\n",
              "      <td id=\"T_8cc6f_row5_col0\" class=\"data row5 col0\" >114851041</td>\n",
              "      <td id=\"T_8cc6f_row5_col1\" class=\"data row5 col1\" >LA MATANZA: ASESINARON A UN JOVEN – RADIO EN VIVO</td>\n",
              "      <td id=\"T_8cc6f_row5_col2\" class=\"data row5 col2\" >1.000000</td>\n",
              "    </tr>\n",
              "    <tr>\n",
              "      <th id=\"T_8cc6f_level0_row6\" class=\"row_heading level0 row6\" >9</th>\n",
              "      <td id=\"T_8cc6f_row6_col0\" class=\"data row6 col0\" >114846569</td>\n",
              "      <td id=\"T_8cc6f_row6_col1\" class=\"data row6 col1\" >El descuido de Enzo Fernández por el que quieren multar a toda la Selección Argentina</td>\n",
              "      <td id=\"T_8cc6f_row6_col2\" class=\"data row6 col2\" >1.000000</td>\n",
              "    </tr>\n",
              "    <tr>\n",
              "      <th id=\"T_8cc6f_level0_row7\" class=\"row_heading level0 row7\" >31</th>\n",
              "      <td id=\"T_8cc6f_row7_col0\" class=\"data row7 col0\" >114861494</td>\n",
              "      <td id=\"T_8cc6f_row7_col1\" class=\"data row7 col1\" >Baja el dólar, los bonos vuelven a caer y el riesgo país supera los 1600 puntos</td>\n",
              "      <td id=\"T_8cc6f_row7_col2\" class=\"data row7 col2\" >1.000000</td>\n",
              "    </tr>\n",
              "    <tr>\n",
              "      <th id=\"T_8cc6f_level0_row8\" class=\"row_heading level0 row8\" >3</th>\n",
              "      <td id=\"T_8cc6f_row8_col0\" class=\"data row8 col0\" >114816786</td>\n",
              "      <td id=\"T_8cc6f_row8_col1\" class=\"data row8 col1\" >La ONU llamó al régimen de Corea del Norte a poner fin al trabajo forzado, la esclavitud y las prácticas esclavistas</td>\n",
              "      <td id=\"T_8cc6f_row8_col2\" class=\"data row8 col2\" >1.000000</td>\n",
              "    </tr>\n",
              "    <tr>\n",
              "      <th id=\"T_8cc6f_level0_row9\" class=\"row_heading level0 row9\" >2</th>\n",
              "      <td id=\"T_8cc6f_row9_col0\" class=\"data row9 col0\" >114830629</td>\n",
              "      <td id=\"T_8cc6f_row9_col1\" class=\"data row9 col1\" >Industria: el uso de la capacidad instalada cayó 11 puntos en mayo</td>\n",
              "      <td id=\"T_8cc6f_row9_col2\" class=\"data row9 col2\" >1.000000</td>\n",
              "    </tr>\n",
              "    <tr>\n",
              "      <th id=\"T_8cc6f_level0_row10\" class=\"row_heading level0 row10\" >23</th>\n",
              "      <td id=\"T_8cc6f_row10_col0\" class=\"data row10 col0\" >114847281</td>\n",
              "      <td id=\"T_8cc6f_row10_col1\" class=\"data row10 col1\" >El nuevo parche en la camiseta de la selección argentina tras ganar la Copa América</td>\n",
              "      <td id=\"T_8cc6f_row10_col2\" class=\"data row10 col2\" >0.994300</td>\n",
              "    </tr>\n",
              "    <tr>\n",
              "      <th id=\"T_8cc6f_level0_row11\" class=\"row_heading level0 row11\" >6</th>\n",
              "      <td id=\"T_8cc6f_row11_col0\" class=\"data row11 col0\" >114838446</td>\n",
              "      <td id=\"T_8cc6f_row11_col1\" class=\"data row11 col1\" >Video: violento asalto a una familia de Córdoba mientras miraba en su casa la final de la Copa América.</td>\n",
              "      <td id=\"T_8cc6f_row11_col2\" class=\"data row11 col2\" >0.979500</td>\n",
              "    </tr>\n",
              "    <tr>\n",
              "      <th id=\"T_8cc6f_level0_row12\" class=\"row_heading level0 row12\" >17</th>\n",
              "      <td id=\"T_8cc6f_row12_col0\" class=\"data row12 col0\" >114849706</td>\n",
              "      <td id=\"T_8cc6f_row12_col1\" class=\"data row12 col1\" >Milei disuelve la AFI, resucita la SIDE y la divide en cuatro organismos</td>\n",
              "      <td id=\"T_8cc6f_row12_col2\" class=\"data row12 col2\" >0.951500</td>\n",
              "    </tr>\n",
              "    <tr>\n",
              "      <th id=\"T_8cc6f_level0_row13\" class=\"row_heading level0 row13\" >38</th>\n",
              "      <td id=\"T_8cc6f_row13_col0\" class=\"data row13 col0\" >114870342</td>\n",
              "      <td id=\"T_8cc6f_row13_col1\" class=\"data row13 col1\" >El ejército israelí anunció que empezará a reclutar a hombres ultraortodoxos</td>\n",
              "      <td id=\"T_8cc6f_row13_col2\" class=\"data row13 col2\" >0.941600</td>\n",
              "    </tr>\n",
              "    <tr>\n",
              "      <th id=\"T_8cc6f_level0_row14\" class=\"row_heading level0 row14\" >8</th>\n",
              "      <td id=\"T_8cc6f_row14_col0\" class=\"data row14 col0\" >114847350</td>\n",
              "      <td id=\"T_8cc6f_row14_col1\" class=\"data row14 col1\" >Bomberos combaten el fuego en el Cerro Champaquí</td>\n",
              "      <td id=\"T_8cc6f_row14_col2\" class=\"data row14 col2\" >0.930200</td>\n",
              "    </tr>\n",
              "    <tr>\n",
              "      <th id=\"T_8cc6f_level0_row15\" class=\"row_heading level0 row15\" >27</th>\n",
              "      <td id=\"T_8cc6f_row15_col0\" class=\"data row15 col0\" >114863560</td>\n",
              "      <td id=\"T_8cc6f_row15_col1\" class=\"data row15 col1\" >Huevos revueltos cremosos y sabrosos, la receta fácil con 4 ingredientes y en 5 minutos</td>\n",
              "      <td id=\"T_8cc6f_row15_col2\" class=\"data row15 col2\" >0.900900</td>\n",
              "    </tr>\n",
              "    <tr>\n",
              "      <th id=\"T_8cc6f_level0_row16\" class=\"row_heading level0 row16\" >11</th>\n",
              "      <td id=\"T_8cc6f_row16_col0\" class=\"data row16 col0\" >114874218</td>\n",
              "      <td id=\"T_8cc6f_row16_col1\" class=\"data row16 col1\" >El dólar blue sigue bajando en Córdoba: así cerró este martes 16 de julio</td>\n",
              "      <td id=\"T_8cc6f_row16_col2\" class=\"data row16 col2\" >0.887700</td>\n",
              "    </tr>\n",
              "    <tr>\n",
              "      <th id=\"T_8cc6f_level0_row17\" class=\"row_heading level0 row17\" >12</th>\n",
              "      <td id=\"T_8cc6f_row17_col0\" class=\"data row17 col0\" >114818069</td>\n",
              "      <td id=\"T_8cc6f_row17_col1\" class=\"data row17 col1\" >Habló el abogado de Millapi y Ramírez: «Nuestra hipótesis es que se lo llevaron»</td>\n",
              "      <td id=\"T_8cc6f_row17_col2\" class=\"data row17 col2\" >0.864700</td>\n",
              "    </tr>\n",
              "    <tr>\n",
              "      <th id=\"T_8cc6f_level0_row18\" class=\"row_heading level0 row18\" >19</th>\n",
              "      <td id=\"T_8cc6f_row18_col0\" class=\"data row18 col0\" >114819048</td>\n",
              "      <td id=\"T_8cc6f_row18_col1\" class=\"data row18 col1\" >José Luis Espert: \"Con el dólar tendremos vaivenes, pero que la gente no tenga miedo\"</td>\n",
              "      <td id=\"T_8cc6f_row18_col2\" class=\"data row18 col2\" >0.864700</td>\n",
              "    </tr>\n",
              "    <tr>\n",
              "      <th id=\"T_8cc6f_level0_row19\" class=\"row_heading level0 row19\" >33</th>\n",
              "      <td id=\"T_8cc6f_row19_col0\" class=\"data row19 col0\" >114847296</td>\n",
              "      <td id=\"T_8cc6f_row19_col1\" class=\"data row19 col1\" >Al menos 21 muertos por caída de un ómnibus a un abismo en Perú</td>\n",
              "      <td id=\"T_8cc6f_row19_col2\" class=\"data row19 col2\" >0.849100</td>\n",
              "    </tr>\n",
              "    <tr>\n",
              "      <th id=\"T_8cc6f_level0_row20\" class=\"row_heading level0 row20\" >40</th>\n",
              "      <td id=\"T_8cc6f_row20_col0\" class=\"data row20 col0\" >114862882</td>\n",
              "      <td id=\"T_8cc6f_row20_col1\" class=\"data row20 col1\" >Rafael Nadal reapareció en el ATP de Bastad y venció al hijo de una leyenda del tenis</td>\n",
              "      <td id=\"T_8cc6f_row20_col2\" class=\"data row20 col2\" >0.848000</td>\n",
              "    </tr>\n",
              "    <tr>\n",
              "      <th id=\"T_8cc6f_level0_row21\" class=\"row_heading level0 row21\" >0</th>\n",
              "      <td id=\"T_8cc6f_row21_col0\" class=\"data row21 col0\" >114837606</td>\n",
              "      <td id=\"T_8cc6f_row21_col1\" class=\"data row21 col1\" >Adorni quiere restringir el acceso de periodistas a la Rosada: \"No todos merecen estar cerca de Milei\"</td>\n",
              "      <td id=\"T_8cc6f_row21_col2\" class=\"data row21 col2\" >0.846700</td>\n",
              "    </tr>\n",
              "    <tr>\n",
              "      <th id=\"T_8cc6f_level0_row22\" class=\"row_heading level0 row22\" >1</th>\n",
              "      <td id=\"T_8cc6f_row22_col0\" class=\"data row22 col0\" >114839460</td>\n",
              "      <td id=\"T_8cc6f_row22_col1\" class=\"data row22 col1\" >Así fue recibida la selección bicampeona de América</td>\n",
              "      <td id=\"T_8cc6f_row22_col2\" class=\"data row22 col2\" >0.828900</td>\n",
              "    </tr>\n",
              "    <tr>\n",
              "      <th id=\"T_8cc6f_level0_row23\" class=\"row_heading level0 row23\" >16</th>\n",
              "      <td id=\"T_8cc6f_row23_col0\" class=\"data row23 col0\" >114852635</td>\n",
              "      <td id=\"T_8cc6f_row23_col1\" class=\"data row23 col1\" >Vacaciones Divertidas llega a las Casas de la Provincia</td>\n",
              "      <td id=\"T_8cc6f_row23_col2\" class=\"data row23 col2\" >0.822300</td>\n",
              "    </tr>\n",
              "    <tr>\n",
              "      <th id=\"T_8cc6f_level0_row24\" class=\"row_heading level0 row24\" >37</th>\n",
              "      <td id=\"T_8cc6f_row24_col0\" class=\"data row24 col0\" >114828155</td>\n",
              "      <td id=\"T_8cc6f_row24_col1\" class=\"data row24 col1\" >Accidente fatal en la Fuerza Aérea: murió un piloto luego de que le fallara el avión en un entrenamiento</td>\n",
              "      <td id=\"T_8cc6f_row24_col2\" class=\"data row24 col2\" >0.798100</td>\n",
              "    </tr>\n",
              "    <tr>\n",
              "      <th id=\"T_8cc6f_level0_row25\" class=\"row_heading level0 row25\" >34</th>\n",
              "      <td id=\"T_8cc6f_row25_col0\" class=\"data row25 col0\" >114864421</td>\n",
              "      <td id=\"T_8cc6f_row25_col1\" class=\"data row25 col1\" >Una docente de Chubut, acusada de abuso sexual, recibió prisión domiciliaria con tobillera para cuidar a su hija</td>\n",
              "      <td id=\"T_8cc6f_row25_col2\" class=\"data row25 col2\" >0.792400</td>\n",
              "    </tr>\n",
              "    <tr>\n",
              "      <th id=\"T_8cc6f_level0_row26\" class=\"row_heading level0 row26\" >5</th>\n",
              "      <td id=\"T_8cc6f_row26_col0\" class=\"data row26 col0\" >114818311</td>\n",
              "      <td id=\"T_8cc6f_row26_col1\" class=\"data row26 col1\" >HOY X HOY. No te olvides de saludarlos en su cumple.</td>\n",
              "      <td id=\"T_8cc6f_row26_col2\" class=\"data row26 col2\" >0.792000</td>\n",
              "    </tr>\n",
              "    <tr>\n",
              "      <th id=\"T_8cc6f_level0_row27\" class=\"row_heading level0 row27\" >4</th>\n",
              "      <td id=\"T_8cc6f_row27_col0\" class=\"data row27 col0\" >114828777</td>\n",
              "      <td id=\"T_8cc6f_row27_col1\" class=\"data row27 col1\" >Venezuela: Maduro eliminó un impuesto y anunció un nuevo plan económico</td>\n",
              "      <td id=\"T_8cc6f_row27_col2\" class=\"data row27 col2\" >0.790300</td>\n",
              "    </tr>\n",
              "    <tr>\n",
              "      <th id=\"T_8cc6f_level0_row28\" class=\"row_heading level0 row28\" >35</th>\n",
              "      <td id=\"T_8cc6f_row28_col0\" class=\"data row28 col0\" >114847534</td>\n",
              "      <td id=\"T_8cc6f_row28_col1\" class=\"data row28 col1\" >Hernan: São Paulo empaca e pode ficar sem Alex Sandro e Thiago Mendes</td>\n",
              "      <td id=\"T_8cc6f_row28_col2\" class=\"data row28 col2\" >0.788400</td>\n",
              "    </tr>\n",
              "    <tr>\n",
              "      <th id=\"T_8cc6f_level0_row29\" class=\"row_heading level0 row29\" >18</th>\n",
              "      <td id=\"T_8cc6f_row29_col0\" class=\"data row29 col0\" >114869503</td>\n",
              "      <td id=\"T_8cc6f_row29_col1\" class=\"data row29 col1\" >Marina Calabró hecha una diosa de Miami y se refirió a Barbano: \"Me da un poco de odio\"</td>\n",
              "      <td id=\"T_8cc6f_row29_col2\" class=\"data row29 col2\" >0.779900</td>\n",
              "    </tr>\n",
              "    <tr>\n",
              "      <th id=\"T_8cc6f_level0_row30\" class=\"row_heading level0 row30\" >30</th>\n",
              "      <td id=\"T_8cc6f_row30_col0\" class=\"data row30 col0\" >114823837</td>\n",
              "      <td id=\"T_8cc6f_row30_col1\" class=\"data row30 col1\" >Deportes</td>\n",
              "      <td id=\"T_8cc6f_row30_col2\" class=\"data row30 col2\" >0.761600</td>\n",
              "    </tr>\n",
              "    <tr>\n",
              "      <th id=\"T_8cc6f_level0_row31\" class=\"row_heading level0 row31\" >10</th>\n",
              "      <td id=\"T_8cc6f_row31_col0\" class=\"data row31 col0\" >114879235</td>\n",
              "      <td id=\"T_8cc6f_row31_col1\" class=\"data row31 col1\" >Volvió a bajar el dólar blue y a subir el Riesgo País</td>\n",
              "      <td id=\"T_8cc6f_row31_col2\" class=\"data row31 col2\" >0.761500</td>\n",
              "    </tr>\n",
              "    <tr>\n",
              "      <th id=\"T_8cc6f_level0_row32\" class=\"row_heading level0 row32\" >15</th>\n",
              "      <td id=\"T_8cc6f_row32_col0\" class=\"data row32 col0\" >114863814</td>\n",
              "      <td id=\"T_8cc6f_row32_col1\" class=\"data row32 col1\" >Cecilia Bolocco dio detalles reveladores sobre la personalidad de Máximo Bolocco: qué dijo</td>\n",
              "      <td id=\"T_8cc6f_row32_col2\" class=\"data row32 col2\" >0.760300</td>\n",
              "    </tr>\n",
              "    <tr>\n",
              "      <th id=\"T_8cc6f_level0_row33\" class=\"row_heading level0 row33\" >7</th>\n",
              "      <td id=\"T_8cc6f_row33_col0\" class=\"data row33 col0\" >114848018</td>\n",
              "      <td id=\"T_8cc6f_row33_col1\" class=\"data row33 col1\" >La UNRWA advirtió que no hay zonas \"seguras\" o \"humanitarias\" en Gaza</td>\n",
              "      <td id=\"T_8cc6f_row33_col2\" class=\"data row33 col2\" >0.760000</td>\n",
              "    </tr>\n",
              "    <tr>\n",
              "      <th id=\"T_8cc6f_level0_row34\" class=\"row_heading level0 row34\" >25</th>\n",
              "      <td id=\"T_8cc6f_row34_col0\" class=\"data row34 col0\" >114818684</td>\n",
              "      <td id=\"T_8cc6f_row34_col1\" class=\"data row34 col1\" >El concejal Redruello informó sobre un procedimiento antidrogas con policías heridos y reclamó mayor compromiso judicial</td>\n",
              "      <td id=\"T_8cc6f_row34_col2\" class=\"data row34 col2\" >0.755100</td>\n",
              "    </tr>\n",
              "    <tr>\n",
              "      <th id=\"T_8cc6f_level0_row35\" class=\"row_heading level0 row35\" >22</th>\n",
              "      <td id=\"T_8cc6f_row35_col0\" class=\"data row35 col0\" >114803416</td>\n",
              "      <td id=\"T_8cc6f_row35_col1\" class=\"data row35 col1\" >Escándalo total en Boca de cara al repechaje con Independiente del Valle por Copa Sudamericana</td>\n",
              "      <td id=\"T_8cc6f_row35_col2\" class=\"data row35 col2\" >0.752100</td>\n",
              "    </tr>\n",
              "    <tr>\n",
              "      <th id=\"T_8cc6f_level0_row36\" class=\"row_heading level0 row36\" >29</th>\n",
              "      <td id=\"T_8cc6f_row36_col0\" class=\"data row36 col0\" >114828267</td>\n",
              "      <td id=\"T_8cc6f_row36_col1\" class=\"data row36 col1\" >El manejo de malezas requiere de una mirada holística</td>\n",
              "      <td id=\"T_8cc6f_row36_col2\" class=\"data row36 col2\" >0.749800</td>\n",
              "    </tr>\n",
              "    <tr>\n",
              "      <th id=\"T_8cc6f_level0_row37\" class=\"row_heading level0 row37\" >39</th>\n",
              "      <td id=\"T_8cc6f_row37_col0\" class=\"data row37 col0\" >114878858</td>\n",
              "      <td id=\"T_8cc6f_row37_col1\" class=\"data row37 col1\" >Se realizará el 4° Encuentro de Películas en la Confraternidad</td>\n",
              "      <td id=\"T_8cc6f_row37_col2\" class=\"data row37 col2\" >0.734100</td>\n",
              "    </tr>\n",
              "    <tr>\n",
              "      <th id=\"T_8cc6f_level0_row38\" class=\"row_heading level0 row38\" >28</th>\n",
              "      <td id=\"T_8cc6f_row38_col0\" class=\"data row38 col0\" >114829746</td>\n",
              "      <td id=\"T_8cc6f_row38_col1\" class=\"data row38 col1\" >Llegaron los bicampeones y los hinchas explotaron de alegría</td>\n",
              "      <td id=\"T_8cc6f_row38_col2\" class=\"data row38 col2\" >0.732100</td>\n",
              "    </tr>\n",
              "    <tr>\n",
              "      <th id=\"T_8cc6f_level0_row39\" class=\"row_heading level0 row39\" >36</th>\n",
              "      <td id=\"T_8cc6f_row39_col0\" class=\"data row39 col0\" >114797819</td>\n",
              "      <td id=\"T_8cc6f_row39_col1\" class=\"data row39 col1\" >Caso Loan: hallaron sin vida al primer abogado de la madre del pequeño</td>\n",
              "      <td id=\"T_8cc6f_row39_col2\" class=\"data row39 col2\" >0.729600</td>\n",
              "    </tr>\n",
              "    <tr>\n",
              "      <th id=\"T_8cc6f_level0_row40\" class=\"row_heading level0 row40\" >14</th>\n",
              "      <td id=\"T_8cc6f_row40_col0\" class=\"data row40 col0\" >114864425</td>\n",
              "      <td id=\"T_8cc6f_row40_col1\" class=\"data row40 col1\" >\"A nosotros no nos preocupa ni el dólar ni el riesgo país\", aseguró Adorni</td>\n",
              "      <td id=\"T_8cc6f_row40_col2\" class=\"data row40 col2\" >0.729100</td>\n",
              "    </tr>\n",
              "  </tbody>\n",
              "</table>\n"
            ],
            "text/plain": [
              "<pandas.io.formats.style.Styler at 0x2ce5bbe9c50>"
            ]
          },
          "execution_count": 19,
          "metadata": {},
          "output_type": "execute_result"
        }
      ],
      "source": [
        "docs_per_topics = [i for i, x in enumerate(topic_model.topics_) if x == topic_id]\n",
        "score_docs = topic_model.probabilities_[docs_per_topics]\n",
        "\n",
        "print(f\"Topico N°: {topic_id} --> {topic_labels[topic_id+1]}\" )\n",
        "\n",
        "reg_data = []\n",
        "for i, doc in enumerate(docs_per_topics):\n",
        "    reg_data.append([df_parquet.iloc[doc].asset_id, df_parquet.iloc[doc].title, round(score_docs[i],4)])\n",
        "\n",
        "df_query = pd.DataFrame(reg_data, columns=['ID','titulo','score'])\n",
        "print(len(df_query), \"docs encontrados\")\n",
        "df_query.sort_values('score', ascending=False).style.set_properties(subset=['titulo'], **{'text-align': 'left'})"
      ]
    },
    {
      "cell_type": "markdown",
      "metadata": {
        "id": "G9oQK911N_Bf"
      },
      "source": [
        "### Criterio de corte (umbral)\n",
        "El criterio de corte utilizado para filtrar las noticias que pertenecen a un topico es la \"media\""
      ]
    },
    {
      "cell_type": "code",
      "execution_count": 20,
      "metadata": {
        "id": "tAt7-_Q8N_Bf"
      },
      "outputs": [
        {
          "data": {
            "image/png": "[encoded data removed]",
            "text/plain": [
              "<Figure size 640x480 with 1 Axes>"
            ]
          },
          "metadata": {},
          "output_type": "display_data"
        }
      ],
      "source": [
        "# Calcular la media, el desvío estándar\n",
        "\n",
        "mean = np.mean([fila[2] for fila in reg_data])\n",
        "std_dev = np.std([fila[2] for fila in reg_data])\n",
        "\n",
        "# Crear el histograma\n",
        "plt.hist([fila[2] for fila in reg_data], bins=10, edgecolor='black')\n",
        "\n",
        "# Añadir líneas para la media, la moda y el desvío estándar\n",
        "plt.axvline(mean, color='r', linestyle='dashed', linewidth=1, label=f'Media: {mean:.2f}')\n",
        "plt.axvline(mean - std_dev, color='b', linestyle='dashed', linewidth=1, label=f'-1 STD: {mean - std_dev:.2f}')\n",
        "\n",
        "\n",
        "# Añadir títulos y etiquetas\n",
        "plt.title(f'Histograma de probabilidades topico: {topic_id}')\n",
        "plt.xlabel('Valor')\n",
        "plt.ylabel('Frecuencia')\n",
        "plt.legend()\n",
        "\n",
        "# Mostrar el gráfico\n",
        "plt.show()"
      ]
    },
    {
      "cell_type": "code",
      "execution_count": 21,
      "metadata": {},
      "outputs": [
        {
          "name": "stdout",
          "output_type": "stream",
          "text": [
            "Topico N°: 3 --> 3_sendas_camiones_residuos\n",
            "Umbral de corte 0.8652804878048781\n"
          ]
        },
        {
          "data": {
            "text/html": [
              "<style type=\"text/css\">\n",
              "#T_2d37c_row0_col0, #T_2d37c_row0_col2, #T_2d37c_row1_col0, #T_2d37c_row1_col2, #T_2d37c_row2_col0, #T_2d37c_row2_col2, #T_2d37c_row3_col0, #T_2d37c_row3_col2, #T_2d37c_row4_col0, #T_2d37c_row4_col2, #T_2d37c_row5_col0, #T_2d37c_row5_col2, #T_2d37c_row6_col0, #T_2d37c_row6_col2, #T_2d37c_row7_col0, #T_2d37c_row7_col2, #T_2d37c_row8_col0, #T_2d37c_row8_col2, #T_2d37c_row9_col0, #T_2d37c_row9_col2, #T_2d37c_row10_col0, #T_2d37c_row10_col2, #T_2d37c_row11_col0, #T_2d37c_row11_col2, #T_2d37c_row12_col0, #T_2d37c_row12_col2, #T_2d37c_row13_col0, #T_2d37c_row13_col2, #T_2d37c_row14_col0, #T_2d37c_row14_col2, #T_2d37c_row15_col0, #T_2d37c_row15_col2, #T_2d37c_row16_col0, #T_2d37c_row16_col2 {\n",
              "  color: cyan;\n",
              "}\n",
              "#T_2d37c_row0_col1, #T_2d37c_row1_col1, #T_2d37c_row2_col1, #T_2d37c_row3_col1, #T_2d37c_row4_col1, #T_2d37c_row5_col1, #T_2d37c_row6_col1, #T_2d37c_row7_col1, #T_2d37c_row8_col1, #T_2d37c_row9_col1, #T_2d37c_row10_col1, #T_2d37c_row11_col1, #T_2d37c_row12_col1, #T_2d37c_row13_col1, #T_2d37c_row14_col1, #T_2d37c_row15_col1, #T_2d37c_row16_col1 {\n",
              "  color: cyan;\n",
              "  text-align: left;\n",
              "}\n",
              "#T_2d37c_row17_col1, #T_2d37c_row18_col1, #T_2d37c_row19_col1, #T_2d37c_row20_col1, #T_2d37c_row21_col1, #T_2d37c_row22_col1, #T_2d37c_row23_col1, #T_2d37c_row24_col1, #T_2d37c_row25_col1, #T_2d37c_row26_col1, #T_2d37c_row27_col1, #T_2d37c_row28_col1, #T_2d37c_row29_col1, #T_2d37c_row30_col1, #T_2d37c_row31_col1, #T_2d37c_row32_col1, #T_2d37c_row33_col1, #T_2d37c_row34_col1, #T_2d37c_row35_col1, #T_2d37c_row36_col1, #T_2d37c_row37_col1, #T_2d37c_row38_col1, #T_2d37c_row39_col1, #T_2d37c_row40_col1 {\n",
              "  text-align: left;\n",
              "}\n",
              "</style>\n",
              "<table id=\"T_2d37c\">\n",
              "  <thead>\n",
              "    <tr>\n",
              "      <th class=\"blank level0\" >&nbsp;</th>\n",
              "      <th id=\"T_2d37c_level0_col0\" class=\"col_heading level0 col0\" >ID</th>\n",
              "      <th id=\"T_2d37c_level0_col1\" class=\"col_heading level0 col1\" >titulo</th>\n",
              "      <th id=\"T_2d37c_level0_col2\" class=\"col_heading level0 col2\" >score</th>\n",
              "    </tr>\n",
              "  </thead>\n",
              "  <tbody>\n",
              "    <tr>\n",
              "      <th id=\"T_2d37c_level0_row0\" class=\"row_heading level0 row0\" >20</th>\n",
              "      <td id=\"T_2d37c_row0_col0\" class=\"data row0 col0\" >114855058</td>\n",
              "      <td id=\"T_2d37c_row0_col1\" class=\"data row0 col1\" >Manes le habló al arquero Milei: \"Las pelotas que van afuera no las meta adentro del arco\"</td>\n",
              "      <td id=\"T_2d37c_row0_col2\" class=\"data row0 col2\" >1.000000</td>\n",
              "    </tr>\n",
              "    <tr>\n",
              "      <th id=\"T_2d37c_level0_row1\" class=\"row_heading level0 row1\" >32</th>\n",
              "      <td id=\"T_2d37c_row1_col0\" class=\"data row1 col0\" >114857812</td>\n",
              "      <td id=\"T_2d37c_row1_col1\" class=\"data row1 col1\" >L-Gante se cayó a la fosa de un escenario en Paraguay</td>\n",
              "      <td id=\"T_2d37c_row1_col2\" class=\"data row1 col2\" >1.000000</td>\n",
              "    </tr>\n",
              "    <tr>\n",
              "      <th id=\"T_2d37c_level0_row2\" class=\"row_heading level0 row2\" >24</th>\n",
              "      <td id=\"T_2d37c_row2_col0\" class=\"data row2 col0\" >114847609</td>\n",
              "      <td id=\"T_2d37c_row2_col1\" class=\"data row2 col1\" >Terminó la renovación integral y el jueves reabre la estación Pasteur-AMIA</td>\n",
              "      <td id=\"T_2d37c_row2_col2\" class=\"data row2 col2\" >1.000000</td>\n",
              "    </tr>\n",
              "    <tr>\n",
              "      <th id=\"T_2d37c_level0_row3\" class=\"row_heading level0 row3\" >26</th>\n",
              "      <td id=\"T_2d37c_row3_col0\" class=\"data row3 col0\" >114822410</td>\n",
              "      <td id=\"T_2d37c_row3_col1\" class=\"data row3 col1\" >Ethereum: cuál es la cotización de esta criptomoneda</td>\n",
              "      <td id=\"T_2d37c_row3_col2\" class=\"data row3 col2\" >1.000000</td>\n",
              "    </tr>\n",
              "    <tr>\n",
              "      <th id=\"T_2d37c_level0_row4\" class=\"row_heading level0 row4\" >13</th>\n",
              "      <td id=\"T_2d37c_row4_col0\" class=\"data row4 col0\" >114881107</td>\n",
              "      <td id=\"T_2d37c_row4_col1\" class=\"data row4 col1\" >Se tomó un avión y en pleno despegue descubrió que sus valijas estaban tiradas en la pista</td>\n",
              "      <td id=\"T_2d37c_row4_col2\" class=\"data row4 col2\" >1.000000</td>\n",
              "    </tr>\n",
              "    <tr>\n",
              "      <th id=\"T_2d37c_level0_row5\" class=\"row_heading level0 row5\" >21</th>\n",
              "      <td id=\"T_2d37c_row5_col0\" class=\"data row5 col0\" >114851041</td>\n",
              "      <td id=\"T_2d37c_row5_col1\" class=\"data row5 col1\" >LA MATANZA: ASESINARON A UN JOVEN – RADIO EN VIVO</td>\n",
              "      <td id=\"T_2d37c_row5_col2\" class=\"data row5 col2\" >1.000000</td>\n",
              "    </tr>\n",
              "    <tr>\n",
              "      <th id=\"T_2d37c_level0_row6\" class=\"row_heading level0 row6\" >9</th>\n",
              "      <td id=\"T_2d37c_row6_col0\" class=\"data row6 col0\" >114846569</td>\n",
              "      <td id=\"T_2d37c_row6_col1\" class=\"data row6 col1\" >El descuido de Enzo Fernández por el que quieren multar a toda la Selección Argentina</td>\n",
              "      <td id=\"T_2d37c_row6_col2\" class=\"data row6 col2\" >1.000000</td>\n",
              "    </tr>\n",
              "    <tr>\n",
              "      <th id=\"T_2d37c_level0_row7\" class=\"row_heading level0 row7\" >31</th>\n",
              "      <td id=\"T_2d37c_row7_col0\" class=\"data row7 col0\" >114861494</td>\n",
              "      <td id=\"T_2d37c_row7_col1\" class=\"data row7 col1\" >Baja el dólar, los bonos vuelven a caer y el riesgo país supera los 1600 puntos</td>\n",
              "      <td id=\"T_2d37c_row7_col2\" class=\"data row7 col2\" >1.000000</td>\n",
              "    </tr>\n",
              "    <tr>\n",
              "      <th id=\"T_2d37c_level0_row8\" class=\"row_heading level0 row8\" >3</th>\n",
              "      <td id=\"T_2d37c_row8_col0\" class=\"data row8 col0\" >114816786</td>\n",
              "      <td id=\"T_2d37c_row8_col1\" class=\"data row8 col1\" >La ONU llamó al régimen de Corea del Norte a poner fin al trabajo forzado, la esclavitud y las prácticas esclavistas</td>\n",
              "      <td id=\"T_2d37c_row8_col2\" class=\"data row8 col2\" >1.000000</td>\n",
              "    </tr>\n",
              "    <tr>\n",
              "      <th id=\"T_2d37c_level0_row9\" class=\"row_heading level0 row9\" >2</th>\n",
              "      <td id=\"T_2d37c_row9_col0\" class=\"data row9 col0\" >114830629</td>\n",
              "      <td id=\"T_2d37c_row9_col1\" class=\"data row9 col1\" >Industria: el uso de la capacidad instalada cayó 11 puntos en mayo</td>\n",
              "      <td id=\"T_2d37c_row9_col2\" class=\"data row9 col2\" >1.000000</td>\n",
              "    </tr>\n",
              "    <tr>\n",
              "      <th id=\"T_2d37c_level0_row10\" class=\"row_heading level0 row10\" >23</th>\n",
              "      <td id=\"T_2d37c_row10_col0\" class=\"data row10 col0\" >114847281</td>\n",
              "      <td id=\"T_2d37c_row10_col1\" class=\"data row10 col1\" >El nuevo parche en la camiseta de la selección argentina tras ganar la Copa América</td>\n",
              "      <td id=\"T_2d37c_row10_col2\" class=\"data row10 col2\" >0.994300</td>\n",
              "    </tr>\n",
              "    <tr>\n",
              "      <th id=\"T_2d37c_level0_row11\" class=\"row_heading level0 row11\" >6</th>\n",
              "      <td id=\"T_2d37c_row11_col0\" class=\"data row11 col0\" >114838446</td>\n",
              "      <td id=\"T_2d37c_row11_col1\" class=\"data row11 col1\" >Video: violento asalto a una familia de Córdoba mientras miraba en su casa la final de la Copa América.</td>\n",
              "      <td id=\"T_2d37c_row11_col2\" class=\"data row11 col2\" >0.979500</td>\n",
              "    </tr>\n",
              "    <tr>\n",
              "      <th id=\"T_2d37c_level0_row12\" class=\"row_heading level0 row12\" >17</th>\n",
              "      <td id=\"T_2d37c_row12_col0\" class=\"data row12 col0\" >114849706</td>\n",
              "      <td id=\"T_2d37c_row12_col1\" class=\"data row12 col1\" >Milei disuelve la AFI, resucita la SIDE y la divide en cuatro organismos</td>\n",
              "      <td id=\"T_2d37c_row12_col2\" class=\"data row12 col2\" >0.951500</td>\n",
              "    </tr>\n",
              "    <tr>\n",
              "      <th id=\"T_2d37c_level0_row13\" class=\"row_heading level0 row13\" >38</th>\n",
              "      <td id=\"T_2d37c_row13_col0\" class=\"data row13 col0\" >114870342</td>\n",
              "      <td id=\"T_2d37c_row13_col1\" class=\"data row13 col1\" >El ejército israelí anunció que empezará a reclutar a hombres ultraortodoxos</td>\n",
              "      <td id=\"T_2d37c_row13_col2\" class=\"data row13 col2\" >0.941600</td>\n",
              "    </tr>\n",
              "    <tr>\n",
              "      <th id=\"T_2d37c_level0_row14\" class=\"row_heading level0 row14\" >8</th>\n",
              "      <td id=\"T_2d37c_row14_col0\" class=\"data row14 col0\" >114847350</td>\n",
              "      <td id=\"T_2d37c_row14_col1\" class=\"data row14 col1\" >Bomberos combaten el fuego en el Cerro Champaquí</td>\n",
              "      <td id=\"T_2d37c_row14_col2\" class=\"data row14 col2\" >0.930200</td>\n",
              "    </tr>\n",
              "    <tr>\n",
              "      <th id=\"T_2d37c_level0_row15\" class=\"row_heading level0 row15\" >27</th>\n",
              "      <td id=\"T_2d37c_row15_col0\" class=\"data row15 col0\" >114863560</td>\n",
              "      <td id=\"T_2d37c_row15_col1\" class=\"data row15 col1\" >Huevos revueltos cremosos y sabrosos, la receta fácil con 4 ingredientes y en 5 minutos</td>\n",
              "      <td id=\"T_2d37c_row15_col2\" class=\"data row15 col2\" >0.900900</td>\n",
              "    </tr>\n",
              "    <tr>\n",
              "      <th id=\"T_2d37c_level0_row16\" class=\"row_heading level0 row16\" >11</th>\n",
              "      <td id=\"T_2d37c_row16_col0\" class=\"data row16 col0\" >114874218</td>\n",
              "      <td id=\"T_2d37c_row16_col1\" class=\"data row16 col1\" >El dólar blue sigue bajando en Córdoba: así cerró este martes 16 de julio</td>\n",
              "      <td id=\"T_2d37c_row16_col2\" class=\"data row16 col2\" >0.887700</td>\n",
              "    </tr>\n",
              "    <tr>\n",
              "      <th id=\"T_2d37c_level0_row17\" class=\"row_heading level0 row17\" >12</th>\n",
              "      <td id=\"T_2d37c_row17_col0\" class=\"data row17 col0\" >114818069</td>\n",
              "      <td id=\"T_2d37c_row17_col1\" class=\"data row17 col1\" >Habló el abogado de Millapi y Ramírez: «Nuestra hipótesis es que se lo llevaron»</td>\n",
              "      <td id=\"T_2d37c_row17_col2\" class=\"data row17 col2\" >0.864700</td>\n",
              "    </tr>\n",
              "    <tr>\n",
              "      <th id=\"T_2d37c_level0_row18\" class=\"row_heading level0 row18\" >19</th>\n",
              "      <td id=\"T_2d37c_row18_col0\" class=\"data row18 col0\" >114819048</td>\n",
              "      <td id=\"T_2d37c_row18_col1\" class=\"data row18 col1\" >José Luis Espert: \"Con el dólar tendremos vaivenes, pero que la gente no tenga miedo\"</td>\n",
              "      <td id=\"T_2d37c_row18_col2\" class=\"data row18 col2\" >0.864700</td>\n",
              "    </tr>\n",
              "    <tr>\n",
              "      <th id=\"T_2d37c_level0_row19\" class=\"row_heading level0 row19\" >33</th>\n",
              "      <td id=\"T_2d37c_row19_col0\" class=\"data row19 col0\" >114847296</td>\n",
              "      <td id=\"T_2d37c_row19_col1\" class=\"data row19 col1\" >Al menos 21 muertos por caída de un ómnibus a un abismo en Perú</td>\n",
              "      <td id=\"T_2d37c_row19_col2\" class=\"data row19 col2\" >0.849100</td>\n",
              "    </tr>\n",
              "    <tr>\n",
              "      <th id=\"T_2d37c_level0_row20\" class=\"row_heading level0 row20\" >40</th>\n",
              "      <td id=\"T_2d37c_row20_col0\" class=\"data row20 col0\" >114862882</td>\n",
              "      <td id=\"T_2d37c_row20_col1\" class=\"data row20 col1\" >Rafael Nadal reapareció en el ATP de Bastad y venció al hijo de una leyenda del tenis</td>\n",
              "      <td id=\"T_2d37c_row20_col2\" class=\"data row20 col2\" >0.848000</td>\n",
              "    </tr>\n",
              "    <tr>\n",
              "      <th id=\"T_2d37c_level0_row21\" class=\"row_heading level0 row21\" >0</th>\n",
              "      <td id=\"T_2d37c_row21_col0\" class=\"data row21 col0\" >114837606</td>\n",
              "      <td id=\"T_2d37c_row21_col1\" class=\"data row21 col1\" >Adorni quiere restringir el acceso de periodistas a la Rosada: \"No todos merecen estar cerca de Milei\"</td>\n",
              "      <td id=\"T_2d37c_row21_col2\" class=\"data row21 col2\" >0.846700</td>\n",
              "    </tr>\n",
              "    <tr>\n",
              "      <th id=\"T_2d37c_level0_row22\" class=\"row_heading level0 row22\" >1</th>\n",
              "      <td id=\"T_2d37c_row22_col0\" class=\"data row22 col0\" >114839460</td>\n",
              "      <td id=\"T_2d37c_row22_col1\" class=\"data row22 col1\" >Así fue recibida la selección bicampeona de América</td>\n",
              "      <td id=\"T_2d37c_row22_col2\" class=\"data row22 col2\" >0.828900</td>\n",
              "    </tr>\n",
              "    <tr>\n",
              "      <th id=\"T_2d37c_level0_row23\" class=\"row_heading level0 row23\" >16</th>\n",
              "      <td id=\"T_2d37c_row23_col0\" class=\"data row23 col0\" >114852635</td>\n",
              "      <td id=\"T_2d37c_row23_col1\" class=\"data row23 col1\" >Vacaciones Divertidas llega a las Casas de la Provincia</td>\n",
              "      <td id=\"T_2d37c_row23_col2\" class=\"data row23 col2\" >0.822300</td>\n",
              "    </tr>\n",
              "    <tr>\n",
              "      <th id=\"T_2d37c_level0_row24\" class=\"row_heading level0 row24\" >37</th>\n",
              "      <td id=\"T_2d37c_row24_col0\" class=\"data row24 col0\" >114828155</td>\n",
              "      <td id=\"T_2d37c_row24_col1\" class=\"data row24 col1\" >Accidente fatal en la Fuerza Aérea: murió un piloto luego de que le fallara el avión en un entrenamiento</td>\n",
              "      <td id=\"T_2d37c_row24_col2\" class=\"data row24 col2\" >0.798100</td>\n",
              "    </tr>\n",
              "    <tr>\n",
              "      <th id=\"T_2d37c_level0_row25\" class=\"row_heading level0 row25\" >34</th>\n",
              "      <td id=\"T_2d37c_row25_col0\" class=\"data row25 col0\" >114864421</td>\n",
              "      <td id=\"T_2d37c_row25_col1\" class=\"data row25 col1\" >Una docente de Chubut, acusada de abuso sexual, recibió prisión domiciliaria con tobillera para cuidar a su hija</td>\n",
              "      <td id=\"T_2d37c_row25_col2\" class=\"data row25 col2\" >0.792400</td>\n",
              "    </tr>\n",
              "    <tr>\n",
              "      <th id=\"T_2d37c_level0_row26\" class=\"row_heading level0 row26\" >5</th>\n",
              "      <td id=\"T_2d37c_row26_col0\" class=\"data row26 col0\" >114818311</td>\n",
              "      <td id=\"T_2d37c_row26_col1\" class=\"data row26 col1\" >HOY X HOY. No te olvides de saludarlos en su cumple.</td>\n",
              "      <td id=\"T_2d37c_row26_col2\" class=\"data row26 col2\" >0.792000</td>\n",
              "    </tr>\n",
              "    <tr>\n",
              "      <th id=\"T_2d37c_level0_row27\" class=\"row_heading level0 row27\" >4</th>\n",
              "      <td id=\"T_2d37c_row27_col0\" class=\"data row27 col0\" >114828777</td>\n",
              "      <td id=\"T_2d37c_row27_col1\" class=\"data row27 col1\" >Venezuela: Maduro eliminó un impuesto y anunció un nuevo plan económico</td>\n",
              "      <td id=\"T_2d37c_row27_col2\" class=\"data row27 col2\" >0.790300</td>\n",
              "    </tr>\n",
              "    <tr>\n",
              "      <th id=\"T_2d37c_level0_row28\" class=\"row_heading level0 row28\" >35</th>\n",
              "      <td id=\"T_2d37c_row28_col0\" class=\"data row28 col0\" >114847534</td>\n",
              "      <td id=\"T_2d37c_row28_col1\" class=\"data row28 col1\" >Hernan: São Paulo empaca e pode ficar sem Alex Sandro e Thiago Mendes</td>\n",
              "      <td id=\"T_2d37c_row28_col2\" class=\"data row28 col2\" >0.788400</td>\n",
              "    </tr>\n",
              "    <tr>\n",
              "      <th id=\"T_2d37c_level0_row29\" class=\"row_heading level0 row29\" >18</th>\n",
              "      <td id=\"T_2d37c_row29_col0\" class=\"data row29 col0\" >114869503</td>\n",
              "      <td id=\"T_2d37c_row29_col1\" class=\"data row29 col1\" >Marina Calabró hecha una diosa de Miami y se refirió a Barbano: \"Me da un poco de odio\"</td>\n",
              "      <td id=\"T_2d37c_row29_col2\" class=\"data row29 col2\" >0.779900</td>\n",
              "    </tr>\n",
              "    <tr>\n",
              "      <th id=\"T_2d37c_level0_row30\" class=\"row_heading level0 row30\" >30</th>\n",
              "      <td id=\"T_2d37c_row30_col0\" class=\"data row30 col0\" >114823837</td>\n",
              "      <td id=\"T_2d37c_row30_col1\" class=\"data row30 col1\" >Deportes</td>\n",
              "      <td id=\"T_2d37c_row30_col2\" class=\"data row30 col2\" >0.761600</td>\n",
              "    </tr>\n",
              "    <tr>\n",
              "      <th id=\"T_2d37c_level0_row31\" class=\"row_heading level0 row31\" >10</th>\n",
              "      <td id=\"T_2d37c_row31_col0\" class=\"data row31 col0\" >114879235</td>\n",
              "      <td id=\"T_2d37c_row31_col1\" class=\"data row31 col1\" >Volvió a bajar el dólar blue y a subir el Riesgo País</td>\n",
              "      <td id=\"T_2d37c_row31_col2\" class=\"data row31 col2\" >0.761500</td>\n",
              "    </tr>\n",
              "    <tr>\n",
              "      <th id=\"T_2d37c_level0_row32\" class=\"row_heading level0 row32\" >15</th>\n",
              "      <td id=\"T_2d37c_row32_col0\" class=\"data row32 col0\" >114863814</td>\n",
              "      <td id=\"T_2d37c_row32_col1\" class=\"data row32 col1\" >Cecilia Bolocco dio detalles reveladores sobre la personalidad de Máximo Bolocco: qué dijo</td>\n",
              "      <td id=\"T_2d37c_row32_col2\" class=\"data row32 col2\" >0.760300</td>\n",
              "    </tr>\n",
              "    <tr>\n",
              "      <th id=\"T_2d37c_level0_row33\" class=\"row_heading level0 row33\" >7</th>\n",
              "      <td id=\"T_2d37c_row33_col0\" class=\"data row33 col0\" >114848018</td>\n",
              "      <td id=\"T_2d37c_row33_col1\" class=\"data row33 col1\" >La UNRWA advirtió que no hay zonas \"seguras\" o \"humanitarias\" en Gaza</td>\n",
              "      <td id=\"T_2d37c_row33_col2\" class=\"data row33 col2\" >0.760000</td>\n",
              "    </tr>\n",
              "    <tr>\n",
              "      <th id=\"T_2d37c_level0_row34\" class=\"row_heading level0 row34\" >25</th>\n",
              "      <td id=\"T_2d37c_row34_col0\" class=\"data row34 col0\" >114818684</td>\n",
              "      <td id=\"T_2d37c_row34_col1\" class=\"data row34 col1\" >El concejal Redruello informó sobre un procedimiento antidrogas con policías heridos y reclamó mayor compromiso judicial</td>\n",
              "      <td id=\"T_2d37c_row34_col2\" class=\"data row34 col2\" >0.755100</td>\n",
              "    </tr>\n",
              "    <tr>\n",
              "      <th id=\"T_2d37c_level0_row35\" class=\"row_heading level0 row35\" >22</th>\n",
              "      <td id=\"T_2d37c_row35_col0\" class=\"data row35 col0\" >114803416</td>\n",
              "      <td id=\"T_2d37c_row35_col1\" class=\"data row35 col1\" >Escándalo total en Boca de cara al repechaje con Independiente del Valle por Copa Sudamericana</td>\n",
              "      <td id=\"T_2d37c_row35_col2\" class=\"data row35 col2\" >0.752100</td>\n",
              "    </tr>\n",
              "    <tr>\n",
              "      <th id=\"T_2d37c_level0_row36\" class=\"row_heading level0 row36\" >29</th>\n",
              "      <td id=\"T_2d37c_row36_col0\" class=\"data row36 col0\" >114828267</td>\n",
              "      <td id=\"T_2d37c_row36_col1\" class=\"data row36 col1\" >El manejo de malezas requiere de una mirada holística</td>\n",
              "      <td id=\"T_2d37c_row36_col2\" class=\"data row36 col2\" >0.749800</td>\n",
              "    </tr>\n",
              "    <tr>\n",
              "      <th id=\"T_2d37c_level0_row37\" class=\"row_heading level0 row37\" >39</th>\n",
              "      <td id=\"T_2d37c_row37_col0\" class=\"data row37 col0\" >114878858</td>\n",
              "      <td id=\"T_2d37c_row37_col1\" class=\"data row37 col1\" >Se realizará el 4° Encuentro de Películas en la Confraternidad</td>\n",
              "      <td id=\"T_2d37c_row37_col2\" class=\"data row37 col2\" >0.734100</td>\n",
              "    </tr>\n",
              "    <tr>\n",
              "      <th id=\"T_2d37c_level0_row38\" class=\"row_heading level0 row38\" >28</th>\n",
              "      <td id=\"T_2d37c_row38_col0\" class=\"data row38 col0\" >114829746</td>\n",
              "      <td id=\"T_2d37c_row38_col1\" class=\"data row38 col1\" >Llegaron los bicampeones y los hinchas explotaron de alegría</td>\n",
              "      <td id=\"T_2d37c_row38_col2\" class=\"data row38 col2\" >0.732100</td>\n",
              "    </tr>\n",
              "    <tr>\n",
              "      <th id=\"T_2d37c_level0_row39\" class=\"row_heading level0 row39\" >36</th>\n",
              "      <td id=\"T_2d37c_row39_col0\" class=\"data row39 col0\" >114797819</td>\n",
              "      <td id=\"T_2d37c_row39_col1\" class=\"data row39 col1\" >Caso Loan: hallaron sin vida al primer abogado de la madre del pequeño</td>\n",
              "      <td id=\"T_2d37c_row39_col2\" class=\"data row39 col2\" >0.729600</td>\n",
              "    </tr>\n",
              "    <tr>\n",
              "      <th id=\"T_2d37c_level0_row40\" class=\"row_heading level0 row40\" >14</th>\n",
              "      <td id=\"T_2d37c_row40_col0\" class=\"data row40 col0\" >114864425</td>\n",
              "      <td id=\"T_2d37c_row40_col1\" class=\"data row40 col1\" >\"A nosotros no nos preocupa ni el dólar ni el riesgo país\", aseguró Adorni</td>\n",
              "      <td id=\"T_2d37c_row40_col2\" class=\"data row40 col2\" >0.729100</td>\n",
              "    </tr>\n",
              "  </tbody>\n",
              "</table>\n"
            ],
            "text/plain": [
              "<pandas.io.formats.style.Styler at 0x2ce5b430510>"
            ]
          },
          "execution_count": 21,
          "metadata": {},
          "output_type": "execute_result"
        }
      ],
      "source": [
        "# Definir la función de estilo\n",
        "def color_rows(row, label, value):\n",
        "    if row[label] >= value:\n",
        "        return ['color: cyan'] * len(row)\n",
        "    else:\n",
        "        return [''] * len(row)\n",
        "\n",
        "# Calcular la media\n",
        "threshold = df_query.score.mean()\n",
        "\n",
        "print(f\"Topico N°: {topic_id} --> {topic_labels[topic_id+1]}\" )\n",
        "print(f\"Umbral de corte {threshold}\")\n",
        "\n",
        "df_query.sort_values('score', ascending=False, inplace=True)\n",
        "df_query.style.apply(lambda row: color_rows(row, 'score', threshold), axis=1).set_properties(subset=['titulo'], **{'text-align': 'left'})"
      ]
    },
    {
      "cell_type": "markdown",
      "metadata": {
        "id": "_P-1fHJ2N_Bf"
      },
      "source": [
        "#### Documentos mas representativos de un topico"
      ]
    },
    {
      "cell_type": "markdown",
      "metadata": {
        "id": "X7uKkzfWN_Bg"
      },
      "source": [
        "- [1]  Desde el metodo del modelo"
      ]
    },
    {
      "cell_type": "code",
      "execution_count": 22,
      "metadata": {
        "id": "LifmcWPCN_Bg"
      },
      "outputs": [
        {
          "name": "stdout",
          "output_type": "stream",
          "text": [
            "Topico N°: 3 --> 3_sendas_camiones_residuos\n"
          ]
        },
        {
          "data": {
            "text/plain": [
              "['La Secretaría de Ambiente y Espacio Público a través de la Dirección de Higiene Urbana erradicó 30 puntos crónicos de arrojo de residuos ubicados en distintos sectores de la ciudad en los primeros seis meses de 2024 Las tareas –que forman parte de las acciones periódicas que se llevan a cabo para mejorar los espacios de uso público– se ejecutaron en los barrios 23 de febrero Acindar Alvear Bella Vista Fisherton Fisherton Industrial Fisherton Norte Fontanarrosa Hospitales Larrea Las Flores Ludueña Roca Martín A Santa Lucía Santa Lucía Viejo Santa Teresita y Triángulo y Moderno Los trabajos incluyeron limpieza de cada lugar relleno con tierra de sectores donde se producen anegamientos colocación de pretiles que además fueron pintados para mayor visibilidad y mesas y bancos tipo Z También se colocó cartelería con la leyenda «Cuidemos nuestro barrio» Los espacios públicos intervenidos están ubicados en Avenida Pellegrini y Carriego barrio Bella Vista distrito Oeste Saavedra 6100 Felipe Moré y Dean Funes Felipe Moré y Uruguay Felipe Moré y Garay Felipe Moré y Gaboto Triángulo y Moderno distrito Oeste Salvat 2700 Fontanarrosa distrito Norte Juan B Busto y Wilde Génova y Olmos Fisherton Norte distrito Noroeste Heliotropo 1700 Las Flores distrito Sudoeste La República y Tarragona La República y Colombres Fisherton distrito Noroeste Gaucho Rivero y Comandos 602 barrio Roca distrito Oeste Castellanos y 24 de septiembre Centeno 2800 Alvear distrito Sudoeste Gorriti 6650 Bielsa y Provincias Unidas Ludueña distrito Noroeste Gorriti 6711 Fisherton Industrial distrito Noroeste Juan José Paso 7150 Larrea distrito Noroeste Chubut 7800 Santa Lucía Viejo distrito Oeste Presidente Roca y Garay Hospitales distrito Sur Laguna del Desierto 3400 Laguna del Desierto y Crespo Acindar distrito Sudoeste Comodoro Rivadavia y Crespo Comodoro Rivadavia e Iriondo Santa Teresita distrito Sudoeste Maradona y Felipe Moré 23 de febrero distrito Oeste España y Piedras España y Brandoni Martín A distrito Sur Rojas y calle 1743 Santa Lucía Cabe remarcar que en estos espacios se colocaron carteles un total de 142 pretiles 52 bancos Z y 18 mesas Además se ejecutaron 108 metros cuadrados de vereda El Plan de modernización y mejora del equipamiento de higiene urbana fue presentado en agosto de 2023 tras un acuerdo previo realizado con todas las empresas prestadoras del servicio con el objetivo de mejorar dicho servicio público agilizar y eficientizar la recolección de residuos mantener limpios y en buenas condiciones los diferentes espacios públicos y lograr una mayor capacidad de respuesta en materia de higiene en toda la ciudad El nuevo equipamiento incluye 2 240 contenedores de carga trasera y color verde para residuos domiciliarios y un total de 16 vehículos para higiene urbana 14 camiones compactadores de carga trasera una barredora mecánica y un camión abierto con equipo hidráulico tipo almeja Ya se llevan colocados 1 340 nuevos contenedores en los siguientes barrios Belgrano Antártida Argentina Itatí 25 de mayo Carlos Casado Roque Sáenz Peña Las Heras La Florida Norte Carranza Sarmiento La Florida Alberdi La Guardia Tiro Suizo y Matheu Los 14 camiones compactadores de carga trasera se incorporaron a las empresas Limpar y Lime Rosario SA Limpar sumó 8 camiones mientras que a Lime se entregaron los 6 restantes una barredora mecánica y un camión abierto con equipo hidráulico tipo almeja Se colocaron 413 cestos paqueteros en los barrios Stela Maris Triángulo y Moderno Florida Norte y Las Flores Sur También en plazas y los parques Nacional a la Bandera Alem y Urquiza Además se realizó el recambio de cestos ubicados en paradas de colectivo y en necesario la colocación en nuevas ubicaciones Personal de la Dirección de Higiene Urbana realizó en los primeros seis meses del año 8 intervenciones integrales en la vera del arroyo en diversos puntos donde se producía arrojo de residuos y también en su desembocadura a la altura de Salvador Allende y avenida de los Trabajadores parque Alem También se ejecutaron trabajos de limpieza de barrancas en bajada Pellegrini entre Necochea y avenida Belgrano ambas veredas y en avenida Belgrano desde avenida Pellegrini a 27 de febrero vereda oeste Se trabajó en el raspado y limpieza del cantero central de bulevar Oroño entre las avenidas Uriburu y Batlle y Ordóñez y desde bulevar a avenida 27 de febrero Y también en avenida Francia desde Urquiza a Güemes Otra tarea realizada en el primer semestre fue el raspado de bicisendas ubicadas sobre avenida Presidente Perón ex Godoy desde Ovidio Lagos a Felipe Moré y en bulevar desde avenida Francia a bulevar Avellaneda Owner BONITA SRL',\n",
              " 'El gobernador de la provincia de Buenos Aires Axel Kicillof encabezó este martes el acto de inauguración de un nuevo puente sobre el Río Reconquista que mejora la conectividad entre los municipios de Moreno e Ituzaingó Fue junto a los ministros de Infraestructura y Servicios Públicos Gabriel Katopodis y de Trabajo Walter Correa la intendenta Mariel Fernández y su par Pablo Descalzo En ese marco Kicillof destacó que cada derecho que se conquista este puente sobre el Río Reconquista esperado hace décadas para mejorar la seguridad vial y el tránsito es el resultado de la lucha de los vecinos y vecinas de Moreno e Ituzaingó Una mentira se puede repetir mil veces pero eso no va a hacer que sea cierta esta obra fundamental para la zona solamente la podía hacer un Estado presente agregó Es la sociedad la que determina sus prioridades se organiza y elige a sus representantes para que respuestas a las necesidades de nuestro pueblo Eso es lo que estamos haciendo en la provincia de Buenos Aires las obras públicas se empiezan y se terminan explicó el Gobernador y añadió Aunque nos insulten y nos quiten los recursos que nos corresponden vamos a hacer todos los esfuerzos para terminar también las obras cruciales que ha abandonado el Gobierno nacional Con una inversión de $1 091 millones que contó con financiamiento del Banco Interamericano de Desarrollo BID la obra realizada sobre la avenida Néstor Kirchner complementa al actual puente Roca y permite una circulación más fluida entre las localidades de Villa Udaondo y Trujui Al respecto la intendenta Fernández resaltó Mientras desde Nación nos sugieren que los vecinos deben juntar la plata necesaria para financiar obras este puente que da respuesta a demandas históricas contamos con un Gobierno provincial presente que con decisión política y mucho esfuerzo sostiene los proyectos que le transforman la vida a la gente Ante un Gobierno nacional que solamente mira los números en nuestros municipios sabemos que tenemos el apoyo de una Provincia que nos acompaña y que trabaja para seguir ampliando derechos subrayó Descalzo Los trabajos consistieron en la construcción de dos carriles a lo largo de 71 metros en sentido Ituzaingó Moreno e incluyeron defensas vehiculares una vereda lateral para la circulación peatonal mejorado de calles de acceso desagües pluviales y colocación de señalización y luces led Por último Kicillof señaló que ante la enorme estafa electoral y el ajuste que recae sobre nuestro pueblo nuestra respuesta es organizarnos ser solidarios y trabajar todos los días para acompañar y proteger a los y las bonaerenses Estuvieron presentes los diputados nacionales Daniel Gollan y Juan Marino la legisladora bonaerense Noelia Saavedra los dirigentes Alberto Descalzo y Ariel Basteiro funcionarios locales concejales y concejalas',\n",
              " 'Diario El Sureño Tierra del Fuego Argentina USHUAIA Una de las principales recomendaciones que hicieron desde el parque es que al descender de los vehículos se debe tener extremo cuidado dadas las condiciones de suelo resbaladizo Desde la Intendencia del PNTDF agradecieron a Vialidad Nacional por el esfuerzo realizado para garantizar las condiciones mínimas de circulación y destacaron que los caminos internos hacia Ensenada Zaratiegui y Lago Roca permanecen intransitables por lo que se encuentran cerrados al acceso Además se informó que personal del parque nacional se encuentra trabajando en la senda Castorera Turística y el estacionamiento de Bahía Lapataia para mantener estas áreas accesibles y seguras para los visitantes Las sendas abiertas son Castorera Turística y las pasarelas de Bahía Lapataia El parte de ruta establece precaución en la circulación Se recomienda a los visitantes Conducir con cuidado y respetar los límites de velocidad Usar cubiertas y cadenas adecuadas para las condiciones invernales Vestir ropa adecuada para el frío y calzado antideslizante de ser posible utilizar grampines Informarse sobre el estado de los caminos y sendas antes de salir Respetar todas las indicaciones proporcionadas por personal del parque en el ingreso Desde la Intendencia del PNTDF agradecieron a Vialidad Nacional por el esfuerzo realizado para garantizar las condiciones mínimas de circulación y destacaron que los caminos internos hacia Ensenada Zaratiegui y Lago Roca permanecen intransitables por lo que se encuentran cerrados al acceso Además se informó que personal del parque nacional se encuentra trabajando en la senda Castorera Turística y el estacionamiento de Bahía Lapataia para mantener estas áreas accesibles y seguras para los visitantes Las sendas abiertas son Castorera Turística y las pasarelas de Bahía Lapataia El parte de ruta establece precaución en la circulación Se recomienda a los visitantes Conducir con cuidado y respetar los límites de velocidad Usar cubiertas y cadenas adecuadas para las condiciones invernales Vestir ropa adecuada para el frío y calzado antideslizante de ser posible utilizar grampines Informarse sobre el estado de los caminos y sendas antes de salir Respetar todas las indicaciones proporcionadas por personal del parque en el ingreso Además se informó que personal del parque nacional se encuentra trabajando en la senda Castorera Turística y el estacionamiento de Bahía Lapataia para mantener estas áreas accesibles y seguras para los visitantes Las sendas abiertas son Castorera Turística y las pasarelas de Bahía Lapataia El parte de ruta establece precaución en la circulación Se recomienda a los visitantes Conducir con cuidado y respetar los límites de velocidad Usar cubiertas y cadenas adecuadas para las condiciones invernales Vestir ropa adecuada para el frío y calzado antideslizante de ser posible utilizar grampines Informarse sobre el estado de los caminos y sendas antes de salir Respetar todas las indicaciones proporcionadas por personal del parque en el ingreso Las sendas abiertas son Castorera Turística y las pasarelas de Bahía Lapataia El parte de ruta establece precaución en la circulación Se recomienda a los visitantes Conducir con cuidado y respetar los límites de velocidad Usar cubiertas y cadenas adecuadas para las condiciones invernales Vestir ropa adecuada para el frío y calzado antideslizante de ser posible utilizar grampines Informarse sobre el estado de los caminos y sendas antes de salir Respetar todas las indicaciones proporcionadas por personal del parque en el ingreso El parte de ruta establece precaución en la circulación Se recomienda a los visitantes Conducir con cuidado y respetar los límites de velocidad Usar cubiertas y cadenas adecuadas para las condiciones invernales Vestir ropa adecuada para el frío y calzado antideslizante de ser posible utilizar grampines Informarse sobre el estado de los caminos y sendas antes de salir Respetar todas las indicaciones proporcionadas por personal del parque en el ingreso Conducir con cuidado y respetar los límites de velocidad Usar cubiertas y cadenas adecuadas para las condiciones invernales Vestir ropa adecuada para el frío y calzado antideslizante de ser posible utilizar grampines Informarse sobre el estado de los caminos y sendas antes de salir Respetar todas las indicaciones proporcionadas por personal del parque en el ingreso Usar cubiertas y cadenas adecuadas para las condiciones invernales Vestir ropa adecuada para el frío y calzado antideslizante de ser posible utilizar grampines Informarse sobre el estado de los caminos y sendas antes de salir Respetar todas las indicaciones proporcionadas por personal del parque en el ingreso Vestir ropa adecuada para el frío y calzado antideslizante de ser posible utilizar grampines Informarse sobre el estado de los caminos y sendas antes de salir Respetar todas las indicaciones proporcionadas por personal del parque en el ingreso Informarse sobre el estado de los caminos y sendas antes de salir Respetar todas las indicaciones proporcionadas por personal del parque en el ingreso Respetar todas las indicaciones proporcionadas por personal del parque en el ingreso Tu dirección de correo electrónico no será publicada Los campos obligatorios están marcados con Comentario Nombre Correo electrónico Web']"
            ]
          },
          "execution_count": 22,
          "metadata": {},
          "output_type": "execute_result"
        }
      ],
      "source": [
        "docs_representative = topic_model.get_representative_docs(topic=topic_id)\n",
        "print(f\"Topico N°: {topic_id} --> {topic_labels[topic_id+1]}\" )\n",
        "docs_representative"
      ]
    },
    {
      "cell_type": "markdown",
      "metadata": {
        "id": "a-1Q3ReVN_Bg"
      },
      "source": [
        "- [2] Por similitud coseno del topico a los tres documento mas cercanos"
      ]
    },
    {
      "cell_type": "code",
      "execution_count": 23,
      "metadata": {
        "id": "vFCtpfj-N_Bh"
      },
      "outputs": [
        {
          "data": {
            "text/plain": [
              "(9, 500)"
            ]
          },
          "execution_count": 23,
          "metadata": {},
          "output_type": "execute_result"
        }
      ],
      "source": [
        "# Obtenemos la matriz de similitud coseno entre topicos y documentos\n",
        "sim_matrix = cosine_similarity(topic_model.topic_embeddings_, docs_embedding)\n",
        "sim_matrix.shape"
      ]
    },
    {
      "cell_type": "code",
      "execution_count": 24,
      "metadata": {
        "id": "sCtO8yBMN_Bh"
      },
      "outputs": [
        {
          "name": "stdout",
          "output_type": "stream",
          "text": [
            "Topico N°: 3 --> 3_sendas_camiones_residuos\n",
            "32 L-Gante se cayó a la fosa de un escenario en Paraguay\n",
            "21 LA MATANZA: ASESINARON A UN JOVEN – RADIO EN VIVO\n",
            "33 Al menos 21 muertos por caída de un ómnibus a un abismo en Perú\n"
          ]
        }
      ],
      "source": [
        "# Similitud coseno entre el topico y los documentos del topico elegido\n",
        "s_coseno = []\n",
        "for i in docs_per_topics:\n",
        "    s_coseno.append(cosine_similarity([topic_model.topic_embeddings_[topic_id + 1]], [docs_embedding[i]])[0][0])\n",
        "\n",
        "# Indices\n",
        "idx_coseno_sort = np.argsort(s_coseno)[::-1]\n",
        "\n",
        "print(f\"Topico N°: {topic_id} --> {topic_labels[topic_id+1]}\" )\n",
        "\n",
        "for idx in idx_coseno_sort[:3]:\n",
        "    print(idx, df_parquet.iloc[docs_per_topics[idx]].title)\n"
      ]
    },
    {
      "cell_type": "markdown",
      "metadata": {
        "id": "QAvGGp2JN_Bh"
      },
      "source": [
        "- [3] Primer documento mas cercano al embedding del topico"
      ]
    },
    {
      "cell_type": "code",
      "execution_count": 25,
      "metadata": {
        "id": "CmKsuTeVN_Bi"
      },
      "outputs": [
        {
          "name": "stdout",
          "output_type": "stream",
          "text": [
            "Noticia de maxima similitud con el topico: 3\n",
            "Doc ID: 7138\n",
            "Titulo: L-Gante se cayó a la fosa de un escenario en Paraguay\n"
          ]
        }
      ],
      "source": [
        "# Documento de maxima similitud con el topico\n",
        "\n",
        "simil_docs_topic = sim_matrix[topic_id+ 1].argmax()\n",
        "print(f\"Noticia de maxima similitud con el topico: {topic_id}\")\n",
        "print(f\"Doc ID: {df_parquet.index[simil_docs_topic]}\")\n",
        "print(f\"Titulo: {df_parquet.iloc[simil_docs_topic].title}\")\n",
        "best_doc = data[simil_docs_topic]"
      ]
    },
    {
      "cell_type": "markdown",
      "metadata": {},
      "source": [
        "#### Keywords de un topico (modelo)"
      ]
    },
    {
      "cell_type": "code",
      "execution_count": 26,
      "metadata": {},
      "outputs": [
        {
          "name": "stdout",
          "output_type": "stream",
          "text": [
            "Topico N°: 3 --> 3_sendas_camiones_residuos\n",
            "[('sendas', 0.04788483098955453), ('camiones', 0.04144611615673001), ('residuos', 0.04139452329668747), ('vecinos', 0.04019490746922541), ('indicaciones proporcionadas', 0.03894483379243303), ('distrito', 0.03878659880285258), ('puente', 0.037157428226719), ('agua', 0.0326089368232948), ('ropa adecuada', 0.03259470021085322), ('calzado antideslizante', 0.03259470021085322)]\n"
          ]
        }
      ],
      "source": [
        "# Obtener las palabras clave para un topico dado\n",
        "topic_keywords = topic_model.get_topic(topic_id)\n",
        "print(f\"Topico N°: {topic_id} --> {topic_labels[topic_id+1]}\" )\n",
        "print(topic_keywords)"
      ]
    },
    {
      "cell_type": "markdown",
      "metadata": {
        "id": "PyWurS2NN_Bi"
      },
      "source": [
        "#### Keywords de un topico (otra forma de obtenerlos)"
      ]
    },
    {
      "cell_type": "code",
      "execution_count": 27,
      "metadata": {
        "id": "9pK_nj_pN_Bi"
      },
      "outputs": [
        {
          "name": "stdout",
          "output_type": "stream",
          "text": [
            "Topico N°: 3 --> 3_sendas_camiones_residuos\n"
          ]
        },
        {
          "data": {
            "text/plain": [
              "[{'name': 'sendas', 'score': 0.04788483098955453},\n",
              " {'name': 'camiones', 'score': 0.04144611615673001},\n",
              " {'name': 'residuos', 'score': 0.04139452329668747},\n",
              " {'name': 'vecinos', 'score': 0.04019490746922541},\n",
              " {'name': 'indicaciones proporcionadas', 'score': 0.038944833...},\n",
              " {'name': 'distrito', 'score': 0.03878659880285258},\n",
              " {'name': 'puente', 'score': 0.037157428226719},\n",
              " {'name': 'agua', 'score': 0.0326089368232948},\n",
              " {'name': 'ropa adecuada', 'score': 0.03259470021085322},\n",
              " {'name': 'calzado antideslizante', 'score': 0.03259470021085...}]"
            ]
          },
          "execution_count": 27,
          "metadata": {},
          "output_type": "execute_result"
        }
      ],
      "source": [
        "keywords = topic_model.topic_representations_[topic_id]\n",
        "topic_keywords = [TopicKeyword(name=keyword, score=score) for keyword, score in keywords if keyword != '']\n",
        "print(f\"Topico N°: {topic_id} --> {topic_labels[topic_id+1]}\" )\n",
        "topic_keywords"
      ]
    },
    {
      "cell_type": "markdown",
      "metadata": {},
      "source": [
        "### Top keywords de un topico"
      ]
    },
    {
      "cell_type": "code",
      "execution_count": 28,
      "metadata": {
        "id": "6nCejcoRN_Bi"
      },
      "outputs": [
        {
          "name": "stdout",
          "output_type": "stream",
          "text": [
            "umbral keywords: 0.03836075759792033\n"
          ]
        },
        {
          "data": {
            "text/plain": [
              "{'sendas': 0.04788483098955453,\n",
              " 'camiones': 0.04144611615673001,\n",
              " 'residuos': 0.04139452329668747,\n",
              " 'vecinos': 0.04019490746922541,\n",
              " 'indicaciones proporcionadas': 0.03894483379243303,\n",
              " 'distrito': 0.03878659880285258}"
            ]
          },
          "execution_count": 28,
          "metadata": {},
          "output_type": "execute_result"
        }
      ],
      "source": [
        "# Calculo de umbral de corte para las keywords\n",
        "def keywords_umbral(topic_keywords):\n",
        "    freq_k = []\n",
        "    for name_score in topic_keywords:\n",
        "        freq_k.append(name_score['score'])\n",
        "    umbral_k = np.array(freq_k).mean()\n",
        "    print(f\"umbral keywords: {umbral_k}\")\n",
        "\n",
        "    topic_keywords_top = {}\n",
        "    for name_score in topic_keywords:\n",
        "        if name_score['score'] >= umbral_k:\n",
        "            topic_keywords_top[name_score['name']] = name_score['score']\n",
        "\n",
        "    return topic_keywords_top\n",
        "\n",
        "keywords_umbral(topic_keywords)"
      ]
    },
    {
      "cell_type": "markdown",
      "metadata": {},
      "source": [
        "### Top Entities de un topico"
      ]
    },
    {
      "cell_type": "code",
      "execution_count": 29,
      "metadata": {},
      "outputs": [
        {
          "name": "stdout",
          "output_type": "stream",
          "text": [
            "umbral entities: 0.8652804878048781\n"
          ]
        },
        {
          "data": {
            "text/plain": [
              "{'Argentina': 2, 'Gobierno': 2, 'Facundo Manes': 1, 'Lionel Messi': 1}"
            ]
          },
          "execution_count": 29,
          "metadata": {},
          "output_type": "execute_result"
        }
      ],
      "source": [
        "threshold = df_query.score.mean()\n",
        "print(f\"umbral entities: {threshold}\")\n",
        "\n",
        "entities_topic = []\n",
        "for doc_ID in list(df_query[df_query[\"score\"] > threshold]['ID']):\n",
        "    entities_topic.append(get_entities_news(doc_ID))\n",
        "\n",
        "# Crear un diccionario para contar en cuántos documentos aparece cada palabra\n",
        "document_frequencies = defaultdict(int)\n",
        "\n",
        "# Crear un conjunto para cada documento y contar las palabras únicas\n",
        "for lista in entities_topic:\n",
        "    unique_words = set(lista)\n",
        "    for palabra in unique_words:\n",
        "        document_frequencies[palabra] += 1\n",
        "\n",
        "# Ordenar las palabras por la frecuencia de documentos de mayor a menor\n",
        "sorted_frequencies = sorted(document_frequencies.items(), key=lambda item: item[1], reverse=True)\n",
        "\n",
        "# Calcular el umbral\n",
        "freq_e = [item[1] for item in sorted_frequencies]\n",
        "umbral_e = np.mean(freq_e)\n",
        "\n",
        "# Obtener el resultado ordenado de las primeras 10 entidades segun criterio de corte\n",
        "topic_entities_top = {}\n",
        "c=0\n",
        "for idx in range(len(sorted_frequencies)):\n",
        "    if sorted_frequencies[idx][1] >= umbral_e:\n",
        "        if c != 10:\n",
        "            topic_entities_top[sorted_frequencies[idx][0]] = sorted_frequencies[idx][1]\n",
        "        else:\n",
        "            break\n",
        "        c += 1 \n",
        "\n",
        "    elif len(topic_entities_top) <= 3:\n",
        "        topic_entities_top[sorted_frequencies[idx][0]] = sorted_frequencies[idx][1]\n",
        "\n",
        "topic_entities_top\n",
        "\n"
      ]
    },
    {
      "cell_type": "markdown",
      "metadata": {},
      "source": [
        "### Obtener los titulos de noticias del topico filtrado por umbral de corte "
      ]
    },
    {
      "cell_type": "code",
      "execution_count": 30,
      "metadata": {},
      "outputs": [
        {
          "name": "stdout",
          "output_type": "stream",
          "text": [
            "0.8652804878048781\n"
          ]
        },
        {
          "data": {
            "text/plain": [
              "['Manes le habló al arquero Milei: \"Las pelotas que van afuera no las meta adentro del arco\"',\n",
              " 'L-Gante se cayó a la fosa de un escenario en Paraguay',\n",
              " 'Terminó la renovación integral y el jueves reabre la estación Pasteur-AMIA',\n",
              " 'Ethereum: cuál es la cotización de esta criptomoneda',\n",
              " 'Se tomó un avión y en pleno despegue descubrió que sus valijas estaban tiradas en la pista',\n",
              " 'LA MATANZA: ASESINARON A UN JOVEN – RADIO EN VIVO',\n",
              " 'El descuido de Enzo Fernández por el que quieren multar a toda la Selección Argentina',\n",
              " 'Baja el dólar, los bonos vuelven a caer y el riesgo país supera los 1600 puntos',\n",
              " 'La ONU llamó al régimen de Corea del Norte a poner fin al trabajo forzado, la esclavitud y las prácticas esclavistas',\n",
              " 'Industria: el uso de la capacidad instalada cayó 11 puntos en mayo',\n",
              " 'El nuevo parche en la camiseta de la selección argentina tras ganar la Copa América',\n",
              " 'Video: violento asalto a una familia de Córdoba mientras miraba en su casa la final de la Copa América.',\n",
              " 'Milei disuelve la AFI, resucita la SIDE y la divide en cuatro organismos',\n",
              " 'El ejército israelí anunció que empezará a reclutar a hombres ultraortodoxos',\n",
              " 'Bomberos combaten el fuego en el Cerro Champaquí',\n",
              " 'Huevos revueltos cremosos y sabrosos, la receta fácil con 4 ingredientes y en 5 minutos',\n",
              " 'El dólar blue sigue bajando en Córdoba: así cerró este martes 16 de julio']"
            ]
          },
          "execution_count": 30,
          "metadata": {},
          "output_type": "execute_result"
        }
      ],
      "source": [
        "topic_documents_title, threshold = topic_documents(topic_id, topic_model, df_parquet)\n",
        "print(threshold)\n",
        "topic_documents_title"
      ]
    },
    {
      "cell_type": "markdown",
      "metadata": {},
      "source": [
        "### Generar un nombre de topico con LLM ( Open AI)\n",
        "- Validar OPENAI_API_KEY en .env"
      ]
    },
    {
      "cell_type": "code",
      "execution_count": 31,
      "metadata": {},
      "outputs": [
        {
          "data": {
            "text/plain": [
              "'Actualidad y noticias diversas'"
            ]
          },
          "execution_count": 31,
          "metadata": {},
          "output_type": "execute_result"
        }
      ],
      "source": [
        "get_topic_name(''.join(topic_documents_title), topic_id, topic_model, client)"
      ]
    },
    {
      "cell_type": "markdown",
      "metadata": {
        "id": "BUUejCL-N_Bj"
      },
      "source": [
        "### Grabar todos los registros en Topic y actualizar en News"
      ]
    },
    {
      "cell_type": "code",
      "execution_count": 37,
      "metadata": {},
      "outputs": [],
      "source": [
        "# Grabar todos los topicos en la base\n",
        "date_choice = choice[:4]+\"-\"+choice[4:6]+\"-\"+choice[6:8]\n",
        "\n",
        "for topic_id in topic_model.get_topics().keys():\n",
        "    if topic_id > -1:\n",
        "\n",
        "        topic_keywords_top  = top_keywords(topic_id, topic_model, PATH)\n",
        "        topic_entities_top  = top_entities(topic_id, topic_model, df_parquet)\n",
        "        topic_documents_title, threshold  = topic_documents(topic_id, topic_model, df_parquet)\n",
        "        id_best_doc, title_best_doc, best_doc = best_document(topic_id, topic_model, docs_embedding, id_data, title_data, data)\n",
        "        \n",
        "\n",
        "        topic_doc = Topic(\n",
        "            index = topic_id,\n",
        "            name = get_topic_name(''.join(topic_documents_title), topic_id, topic_model, client),\n",
        "            vector = list(topic_model.topic_embeddings_[topic_id + 1 ]),\n",
        "            similarity_threshold = threshold,\n",
        "            created_at = datetime.now(),\n",
        "            from_date = parse(date_choice),\n",
        "            to_date = datetime.strptime(date_choice, '%Y-%m-%d') + timedelta(days=1),\n",
        "            keywords = topic_keywords_top,\n",
        "            entities = topic_entities_top,\n",
        "            id_best_doc = id_best_doc,\n",
        "            title_best_doc = title_best_doc,\n",
        "            best_doc = best_doc,\n",
        "        )\n",
        "\n",
        "        topic_doc.save()"
      ]
    },
    {
      "cell_type": "code",
      "execution_count": null,
      "metadata": {},
      "outputs": [],
      "source": [
        "# Marcar registros de noticias como procesados y grabar sus embeddings, topicos, etc \n",
        "update_news( id_data, idx_data, docs_embedding, topics, probs ) "
      ]
    },
    {
      "cell_type": "markdown",
      "metadata": {
        "id": "AJUr6_NTN_Bk"
      },
      "source": [
        "### Recuperar todos los topicos desde el indice Topic de la base"
      ]
    },
    {
      "cell_type": "code",
      "execution_count": 38,
      "metadata": {
        "id": "hgldS9M_N_Bk"
      },
      "outputs": [
        {
          "name": "stdout",
          "output_type": "stream",
          "text": [
            "0 Temas de actualidad y noticias.\n",
            "1 Hábitos y eventos sociales actuales\n",
            "2 Actualidad y noticias diversas\n",
            "3 Actualidad y noticias diversas\n",
            "4 Solidaridad y eventos sociales recientes\n",
            "5 Problemas sociales y económicos en Argentina\n",
            "6 Deportes y actualidad en Argentina\n",
            "7 Transformaciones y eventos en Argentina\n"
          ]
        }
      ],
      "source": [
        "index_name = 'topic'\n",
        "\n",
        "topics_list = []\n",
        "for i, doc in enumerate(Topic.search().query().scan()):\n",
        "    topics_list.append(doc.to_dict())\n",
        "    print(topics_list[i]['index'], topics_list[i]['name'])"
      ]
    },
    {
      "cell_type": "markdown",
      "metadata": {},
      "source": [
        "### Busqueda de 5 documentos del indice news de la base correspondiente a un topico\n",
        "** (devuelve los docs que han sido marcados en el campo process en True )"
      ]
    },
    {
      "cell_type": "code",
      "execution_count": 40,
      "metadata": {},
      "outputs": [
        {
          "name": "stdout",
          "output_type": "stream",
          "text": [
            "No se encontraron documentos cercanos al topico dado.\n"
          ]
        }
      ],
      "source": [
        "topic = 1\n",
        "topic_embedding = topics_list[topic]['vector']\n",
        "\n",
        "index_name = 'news'\n",
        "# Crear una consulta KNN para buscar embeddings cercanos\n",
        "knn_query = {\n",
        "    \"size\": 5,  # Número de resultados que deseas obtener\n",
        "    \"query\": {\n",
        "        \"bool\": {\n",
        "            \"must\": [\n",
        "                {\n",
        "                    \"knn\": {\n",
        "                        \"vector\": {\n",
        "                            \"vector\": topic_embedding,\n",
        "                            \"k\": 10  # Número de vecinos más cercanos\n",
        "                        }\n",
        "                    }\n",
        "                },\n",
        "                {\n",
        "                    \"term\": {\n",
        "                        \"process\": True  # Solo incluir documentos donde 'process' es True\n",
        "                    }\n",
        "                }\n",
        "            ],\n",
        "            \"filter\": {\n",
        "                \"exists\": {\n",
        "                    \"field\": \"vector\"  # Solo incluir documentos que tienen el campo 'vector'\n",
        "                }\n",
        "            }\n",
        "        }\n",
        "    }\n",
        "}\n",
        "# Realizar la búsqueda\n",
        "response_topic = os_client.search(index=index_name, body=knn_query)\n",
        "\n",
        "# Obtener el tópico más cercano\n",
        "if response_topic['hits']['total']['value'] > 0:\n",
        "    for i in [hit['_source']['title'] for hit in response_topic['hits']['hits']]:\n",
        "        print(i)\n",
        "else:\n",
        "    print(\"No se encontraron documentos cercanos al topico dado.\")"
      ]
    },
    {
      "cell_type": "markdown",
      "metadata": {
        "id": "gx1i9yqZN_Bl"
      },
      "source": [
        "### Recuperar de la base el documento mas cercano a un topico"
      ]
    },
    {
      "cell_type": "code",
      "execution_count": null,
      "metadata": {
        "id": "2Yg_ryV3N_Bl"
      },
      "outputs": [],
      "source": [
        "index_name = 'topic'\n",
        "search_query = {\n",
        "    'query': {\n",
        "        'match': {\n",
        "            'index': 10  # Sustituir 'campo' y 'valor' por campo y valor de búsqueda\n",
        "        }\n",
        "    }\n",
        "}\n",
        "\n",
        "# Realizar la búsqueda\n",
        "response = os_client.search(\n",
        "                            body=search_query,\n",
        "                            index=index_name\n",
        ")\n",
        "\n",
        "texto = response['hits']['hits'][0]['_source']\n",
        "\n",
        "#Imprimir los resultados\n",
        "print(f\"Topico: {response['hits']['hits'][0]['_source']['name']}\")\n",
        "print(\"\\n\"+ texto['best_doc'])"
      ]
    },
    {
      "cell_type": "markdown",
      "metadata": {
        "id": "jMH2jt5YN_Bl"
      },
      "source": [
        "### Nuevo documento consultando embeddings generados por el modelo"
      ]
    },
    {
      "cell_type": "code",
      "execution_count": null,
      "metadata": {
        "id": "3c0ZTllTN_Bl"
      },
      "outputs": [],
      "source": [
        "new_doc = \"Fuga de presos en San Telmo\"\n",
        "\n",
        "new_doc_embedding = topic_model.embedding_model.embed(new_doc)\n",
        "sim_matrix_new = cosine_similarity(topic_model.topic_embeddings_, new_doc_embedding.reshape(1, -1))\n",
        "\n",
        "idx = np.argmax(sim_matrix_new)-1         # Topicos desde -1, 0, 1, ..., n\n",
        "print(topics_list[idx]['index'], topics_list[idx]['name'])"
      ]
    },
    {
      "cell_type": "markdown",
      "metadata": {
        "id": "lae8_RU7N_Bm"
      },
      "source": [
        "### Nuevo documento consultando embeddings de la base"
      ]
    },
    {
      "cell_type": "code",
      "execution_count": null,
      "metadata": {
        "id": "VVylIBiFN_Bm"
      },
      "outputs": [],
      "source": [
        "new_doc = \"Fuga de presos en San Telmo\"\n",
        "\n",
        "new_doc_embedding = topic_model.embedding_model.embed(new_doc)\n",
        "\n",
        "# Buscamos en la base a que topico pertenece el nuevo documento\n",
        "knn_query = {\n",
        "    \"size\": 1,\n",
        "    \"query\": {\n",
        "        \"knn\": {\n",
        "            \"vector\": {\n",
        "                \"vector\": new_doc_embedding,\n",
        "                \"k\" : 3\n",
        "            }\n",
        "        }\n",
        "    }\n",
        "}\n",
        "response = os_client.search(index='topic', body=knn_query)\n",
        "\n",
        "if response['hits']['total']['value'] > 0:\n",
        "    print(f\"Topico: {response['hits']['hits'][0]['_source']['name']}\")\n",
        "    print(f\"Estimacion: {response['hits']['hits'][0]['_score']}\")\n",
        "else:\n",
        "    print(f\"Topico no encontrado\")"
      ]
    },
    {
      "cell_type": "markdown",
      "metadata": {
        "id": "fzKqZk3HN_Bm"
      },
      "source": [
        "### Graficar los topicos en 3d"
      ]
    },
    {
      "cell_type": "code",
      "execution_count": null,
      "metadata": {
        "id": "SKNFKczxN_Bm"
      },
      "outputs": [],
      "source": [
        "import plotly.express as px\n",
        "\n",
        "# Obtener los embeddings de los tópicos\n",
        "topic_embeddings = topic_model.topic_embeddings_\n",
        "\n",
        "new_doc = \"Fuga de presos en San Telmo\"\n",
        "new_doc_embedding = topic_model.embedding_model.embed([new_doc])[0]\n",
        "\n",
        "total = np.vstack((topic_embeddings, new_doc_embedding))\n",
        "\n",
        "# Reducir la dimensionalidad de los embeddings a 3D usando UMAP\n",
        "umap_model = UMAP(n_components=3)\n",
        "embeddings_3d = umap_model.fit_transform(total)\n",
        "\n",
        "# Obtener las etiquetas de los tópicos\n",
        "topics_labels = [str(i)+\" \"+name['name'] for i, name in enumerate(topics_list) ]\n",
        "\n",
        "# Crear un DataFrame para Plotly\n",
        "df = pd.DataFrame(embeddings_3d, columns=['Dim1', 'Dim2', 'Dim3'])\n",
        "df['Topico'] = [\"-1\"] + topics_labels + ['>>'+new_doc[:15]] # Identificamos el nuevo documento\n",
        "df['Etiqueta'] = list(range(-1, len(topic_embeddings)-1)) + [new_doc[:15]]\n",
        "\n",
        "# Graficar los tópicos en 3D de manera interactiva usando Plotly, ajustando el tamaño del gráfico\n",
        "fig = px.scatter_3d(df, x='Dim1', y='Dim2', z='Dim3', color='Topico', text='Etiqueta', title='Visualización 3D de Tópicos con BERTopic')\n",
        "\n",
        "\n",
        "# Ajustar el tamaño del gráfico\n",
        "fig.update_layout(\n",
        "    autosize=False,\n",
        "    width=1200,  # Ancho del gráfico\n",
        "    height=800,  # Altura del gráfico\n",
        "    margin=dict(l=65, r=50, b=65, t=90)\n",
        ")\n",
        "\n",
        "# Mostrar el gráfico\n",
        "fig.show()"
      ]
    },
    {
      "cell_type": "markdown",
      "metadata": {
        "id": "kq_OuRNGN_Bn"
      },
      "source": [
        "### Busqueda de un documento por su indice, topico asociado, keywords, entities."
      ]
    },
    {
      "cell_type": "code",
      "execution_count": null,
      "metadata": {
        "id": "PXk-XIFWN_Bn"
      },
      "outputs": [],
      "source": [
        "\n",
        "index_name = 'news'\n",
        "search_query = {\n",
        "    'query': {\n",
        "        'match': {\n",
        "            '_id': '105594124'\n",
        "        }\n",
        "    }\n",
        "}\n",
        "\n",
        "# Realizar la búsqueda\n",
        "response = os_client.search(\n",
        "                            body=search_query,\n",
        "                            index=index_name\n",
        ")\n",
        "print(f\"Texto de Noticia: {response['hits']['hits'][0]['_source']['news'][:200]}...\\n\")\n",
        "\n",
        "new_doc_embedding = topic_model.embedding_model.embed(response['hits']['hits'][0]['_source']['news'])\n",
        "\n",
        "# Define el índice y el campo del vector\n",
        "index_name = 'topic'\n",
        "vector_field = 'vector'\n",
        "\n",
        "# Crear una consulta KNN para buscar el embedding más similar\n",
        "knn_query = {\n",
        "    \"size\": 1,  # Número de resultados que deseas obtener, en este caso 1\n",
        "    \"query\": {\n",
        "        \"knn\": {\n",
        "            vector_field: {\n",
        "                \"vector\": new_doc_embedding,\n",
        "                \"k\": 3  # Número de vecinos más cercanos\n",
        "            }\n",
        "        }\n",
        "    }\n",
        "}\n",
        "\n",
        "# Realizar la búsqueda\n",
        "response_topic = os_client.search(index=index_name, body=knn_query)\n",
        "\n",
        "# Obtener el tópico más cercano\n",
        "if response_topic['hits']['total']['value'] > 0:\n",
        "    closest_topic = response_topic['hits']['hits'][0]['_source']\n",
        "    print(f\"El nuevo documento pertenece al tópico: {closest_topic['index']}\")\n",
        "    print(closest_topic['name'])\n",
        "    print(f\"Estimacion: {closest_topic['similarity_threshold']}\")\n",
        "    print(f\"Keywords del topico: {closest_topic['keywords']}\")\n",
        "    print(f\"Entidades del topico: {closest_topic['entities']}\")\n",
        "\n",
        "else:\n",
        "    print(\"No se encontró un tópico cercano.\")"
      ]
    },
    {
      "cell_type": "markdown",
      "metadata": {
        "id": "kzGhZXeHN_Bn"
      },
      "source": [
        "#### Agrupando por embeddings cercanos"
      ]
    },
    {
      "cell_type": "code",
      "execution_count": null,
      "metadata": {
        "id": "YaBUMOTJN_Bo"
      },
      "outputs": [],
      "source": [
        "# Eliminamos el topico -1\n",
        "new_topic_embeddings = topic_embeddings[1:]\n",
        "\n",
        "# Calcular la similitud del coseno entre los embeddings de los tópicos\n",
        "similarities = cosine_similarity(new_topic_embeddings)\n",
        "\n",
        "# Crear una matriz de similitud excluyendo la diagonal\n",
        "np.fill_diagonal(similarities, 0)\n",
        "\n",
        "# Encontrar los pares de tópicos más cercanos\n",
        "topic_pairs = np.dstack(np.unravel_index(np.argsort(similarities.ravel())[::-1], similarities.shape))[0]\n",
        "\n",
        "# Mostrar los 5 pares de tópicos más cercanos\n",
        "for i in range(10):\n",
        "    topic_id_1, topic_id_2 = topic_pairs[i]\n",
        "    similarity_score = similarities[topic_id_1, topic_id_2]\n",
        "    print(f\"Topico {topic_id_1} y Topico {topic_id_2} tienen una similitud de: {similarity_score:.4f}\")"
      ]
    },
    {
      "cell_type": "markdown",
      "metadata": {},
      "source": [
        "### Recuperar topicos de Opensearch dado una fecha"
      ]
    },
    {
      "cell_type": "code",
      "execution_count": null,
      "metadata": {},
      "outputs": [],
      "source": [
        "def get_topics_opensearch(date_filter=None):\n",
        "\n",
        "    index_name = 'topic'\n",
        "    if date_filter:\n",
        "        # Crear el rango de fecha para filtrar el mismo día completo\n",
        "        date_filter_gte = f\"{date_filter}T00:00:00\"\n",
        "        date_filter_lte = f\"{date_filter}T23:59:59\"\n",
        "\n",
        "        query = {\n",
        "            \"size\": 100,  \n",
        "            \"query\": {\n",
        "                \"bool\": {\n",
        "                    \"must\": [\n",
        "                        {\"range\": {\"to_date\": {\"gte\": date_filter_gte, \"lte\": date_filter_lte}}}\n",
        "                    ]\n",
        "                }\n",
        "            }\n",
        "        }\n",
        "    else:\n",
        "        query = {\n",
        "            \"query\": {\n",
        "                \"match_all\": {}\n",
        "            }\n",
        "        }\n",
        "    \n",
        "    response = os_client.search(index=index_name, body=query)\n",
        "\n",
        "    topics = [hit['_source'] for hit in response['hits']['hits']]\n",
        "    return topics\n",
        "\n",
        "\n",
        "\n",
        "topics_os = get_topics_opensearch(date_filter=\"2024-04-02\")\n",
        "\n",
        "for i in enumerate([hit['name'] for hit in topics_os]):\n",
        "    print(i)"
      ]
    },
    {
      "cell_type": "markdown",
      "metadata": {},
      "source": [
        "### Obtener la ultima fecha actualizada de cualquier topico"
      ]
    },
    {
      "cell_type": "code",
      "execution_count": null,
      "metadata": {},
      "outputs": [],
      "source": [
        "def format_date(date_str):\n",
        "    date_obj = datetime.strptime(date_str, '%Y-%m-%dT%H:%M:%S.%f')\n",
        "    formatted_date = date_obj.strftime('%Y-%m-%d %H:%M')\n",
        "    return formatted_date"
      ]
    },
    {
      "cell_type": "code",
      "execution_count": null,
      "metadata": {},
      "outputs": [],
      "source": [
        "\n",
        "db_topics = []\n",
        "data_topics = {}\n",
        "for reg in topics_os:\n",
        "    index = reg['index']\n",
        "    name = reg['name']\n",
        "    vector = reg['vector']\n",
        "    similarity_threshold = reg['similarity_threshold']\n",
        "    create_at = format_date(reg['created_at'])\n",
        "    from_date = reg['from_date'][:10]\n",
        "    to_date = reg['to_date'][:10]\n",
        "    title_best_doc = reg['title_best_doc']\n",
        "    id_best_doc = reg['id_best_doc']\n",
        "\n",
        "    db_topics.append([index, name, round(similarity_threshold, 4), create_at, from_date, to_date])\n",
        "    data_topics[index] = [name,\n",
        "                          vector,\n",
        "                          title_best_doc,\n",
        "                          reg['best_doc'],\n",
        "                          reg['entities'],\n",
        "                          reg['keywords'],\n",
        "                          similarity_threshold]\n",
        "\n",
        "# Convertir a DataFrame\n",
        "df = pd.DataFrame(db_topics, columns=[\"indice\", \"nombre\", \"umbral\", \"creado\", \"desde\", \"hasta\"])                      \n",
        "df"
      ]
    },
    {
      "cell_type": "code",
      "execution_count": null,
      "metadata": {},
      "outputs": [],
      "source": [
        "db_news = get_news()"
      ]
    },
    {
      "cell_type": "code",
      "execution_count": null,
      "metadata": {},
      "outputs": [],
      "source": [
        "# Crear un diccionario para agrupar los registros por fecha (solo día, mes y año)\n",
        "def dates_count(db_news) -> dict:\n",
        "    fechas_dict = defaultdict(list)\n",
        "\n",
        "    # Agrupar registros por fecha\n",
        "    for registro in db_news:\n",
        "        fecha_completa = registro[-1]\n",
        "        fecha_solo_dia = fecha_completa.split('T')[0]  # Tomar solo el día, mes y año\n",
        "        if fecha_solo_dia not in fechas_dict:\n",
        "            fechas_dict[fecha_solo_dia] = 1\n",
        "        else:\n",
        "            fechas_dict[fecha_solo_dia] += 1\n",
        "    \n",
        "    return fechas_dict"
      ]
    },
    {
      "cell_type": "code",
      "execution_count": null,
      "metadata": {},
      "outputs": [],
      "source": [
        "def funcion_aux(ID):\n",
        "    keywords_df = df_parquet[df_parquet.index==ID]['Keyword Name'].values[0]\n",
        "    entities_df = df_parquet[df_parquet.index==ID]['Entity Name'].values[0]\n",
        "    fila = df_parquet.index.get_loc(ID)\n",
        "    print(f\"Noticia ID: {ID} {df_parquet[df_parquet.index==ID]['in__title'].values}\\n\")\n",
        "    print(f\"Entities de dataframe: {entities_df}\")\n",
        "    print(f\"Keywords de dataframe: {keywords_df}\")\n",
        "    print(\"-\"*80)\n",
        "    print(f\"Fila: {fila}\")\n",
        "    print(f\"Prob. modelo: {probs[fila]}\")\n",
        "    #print(f\"Entities calculadas: {entities[fila]}\")\n",
        "    #print(f\"Keywords calculadas: {filtered_k_w_n[fila]}\")\n",
        "\n",
        "funcion_aux(105558429)"
      ]
    },
    {
      "cell_type": "markdown",
      "metadata": {},
      "source": [
        "### Buscar n noticias de la base relacionadas a un topico"
      ]
    },
    {
      "cell_type": "code",
      "execution_count": null,
      "metadata": {},
      "outputs": [],
      "source": [
        "topic = 13\n",
        "topic_embedding = data_topics[topic][1]\n",
        "print(\"Topico: \", data_topics[topic][0])\n",
        "\n",
        "# Buscamos en la base los documentos del topico elegido\n",
        "knn_query = {\n",
        "    \"size\": 100,\n",
        "    \"query\": {\n",
        "                \"knn\": {\n",
        "                        \"vector\": {\n",
        "                            \"vector\": topic_embedding,\n",
        "                            \"k\": 120\n",
        "                        }\n",
        "                }\n",
        "            }\n",
        "    }\n",
        "\n",
        "response = os_client.search(index='news', body=knn_query)\n",
        "[f\"{str(hit['_score'])} : {hit['_source']['title']}\" for hit in response['hits']['hits']]"
      ]
    },
    {
      "cell_type": "code",
      "execution_count": null,
      "metadata": {},
      "outputs": [],
      "source": [
        "id_news     = [hit['_id'] for hit in response['hits']['hits']]\n",
        "title_news  = [hit['_source']['title'] for hit in response['hits']['hits']]\n",
        "score_news  = [hit['_score'] for hit in response['hits']['hits']]\n",
        "\n",
        "others_docs = []\n",
        "for i in range(len(id_news)):\n",
        "    others_docs.append([id_news[i], title_news[i], score_news[i]])\n",
        "\n",
        "df_other_docs = pd.DataFrame(others_docs, columns=['indice', 'titulo', 'probs']) \n",
        "df_other_docs"
      ]
    },
    {
      "cell_type": "code",
      "execution_count": null,
      "metadata": {},
      "outputs": [],
      "source": []
    },
    {
      "cell_type": "code",
      "execution_count": null,
      "metadata": {},
      "outputs": [],
      "source": []
    },
    {
      "cell_type": "code",
      "execution_count": null,
      "metadata": {},
      "outputs": [],
      "source": []
    },
    {
      "cell_type": "code",
      "execution_count": null,
      "metadata": {},
      "outputs": [],
      "source": []
    },
    {
      "cell_type": "code",
      "execution_count": null,
      "metadata": {},
      "outputs": [],
      "source": [
        "\n",
        "# Cargar el modelo\n",
        "embedding_model_x = SentenceTransformer(\"paraphrase-multilingual-MiniLM-L12-v2\")\n",
        "\n",
        "# Lista de documentos o frases\n",
        "sentences = [\"Este es un documento de ejemplo.\", \"Otro ejemplo de documento para generar embedding.\"]\n",
        "\n",
        "# Generar embeddings\n",
        "embeddings_x = embedding_model_x.encode(sentences)\n",
        "\n",
        "# Imprimir los embeddings\n",
        "for i, embedding in enumerate(embeddings_x):\n",
        "    print(f\"Documento {i+1}: {embedding}\")"
      ]
    },
    {
      "cell_type": "code",
      "execution_count": null,
      "metadata": {},
      "outputs": [],
      "source": [
        "len(embeddings_x)"
      ]
    },
    {
      "cell_type": "code",
      "execution_count": null,
      "metadata": {},
      "outputs": [],
      "source": [
        "topic = 14\n",
        "documents_ids = [entry['id'] for entry in doc_info if entry['topic'] == topic]\n",
        "documents_ids"
      ]
    },
    {
      "cell_type": "code",
      "execution_count": null,
      "metadata": {},
      "outputs": [],
      "source": [
        "len(documents_ids)"
      ]
    },
    {
      "cell_type": "code",
      "execution_count": null,
      "metadata": {},
      "outputs": [],
      "source": [
        "def update_news(documents_ids: list, docs_embedding, topics: list) -> bool:\n",
        "    \"\"\"\n",
        "    Marcar en True los registros de noticias procesadas y guardar el embedding correspondiente.\n",
        "    \"\"\"\n",
        "\n",
        "    if len(documents_ids) != len(docs_embedding):\n",
        "        raise ValueError(\"El número de IDs de documentos y embeddings no coinciden.\")\n",
        "        return False\n",
        "    \n",
        "    index_name = 'news'\n",
        "\n",
        "    # Construir el cuerpo de la solicitud para el API _bulk\n",
        "    acciones = []\n",
        "    for doc_id, embedding, topic in zip(documents_ids, docs_embedding, topics):\n",
        "        update_body = { \n",
        "                        \"doc\": {\n",
        "                            \"vector\": embedding,\n",
        "                            \"topics\": topic,   \n",
        "                            \"process\": True,\n",
        "                        }\n",
        "        }\n",
        "        accion = {\n",
        "            \"_op_type\": \"update\",\n",
        "            \"_index\": index_name,\n",
        "            \"_id\": doc_id,\n",
        "            \"doc\": update_body[\"doc\"]\n",
        "        }\n",
        "        acciones.append(accion)\n",
        "\n",
        "    # Realizar la actualización por lotes\n",
        "    helpers.bulk(os_client, acciones)\n",
        "\n",
        "    return True"
      ]
    },
    {
      "cell_type": "code",
      "execution_count": null,
      "metadata": {},
      "outputs": [],
      "source": [
        "for doc_id, embedding, topic in zip(documents_ids, docs_embedding, topics):\n",
        "    print(doc_id, embedding, topic)\n",
        "    break"
      ]
    },
    {
      "cell_type": "code",
      "execution_count": null,
      "metadata": {},
      "outputs": [],
      "source": [
        "query = {\n",
        "    \"size\": 100,\n",
        "    \"query\": {\n",
        "        \"bool\": {\n",
        "            \"must\": [\n",
        "                {\"term\": {\n",
        "                    \"topics\": 10\n",
        "                }}\n",
        "            ],\n",
        "        }\n",
        "    }\n",
        "}\n",
        "                    \n",
        "response = os_client.search(index='news', body=query)"
      ]
    },
    {
      "cell_type": "code",
      "execution_count": null,
      "metadata": {},
      "outputs": [],
      "source": [
        "for i in [hit['_id'] for hit in response['hits']['hits']]:\n",
        "        print(i)"
      ]
    },
    {
      "cell_type": "code",
      "execution_count": null,
      "metadata": {},
      "outputs": [],
      "source": []
    },
    {
      "cell_type": "code",
      "execution_count": null,
      "metadata": {},
      "outputs": [],
      "source": [
        "docs_per_topics"
      ]
    },
    {
      "cell_type": "code",
      "execution_count": null,
      "metadata": {},
      "outputs": [],
      "source": [
        "titles_per_topic"
      ]
    },
    {
      "cell_type": "code",
      "execution_count": null,
      "metadata": {},
      "outputs": [],
      "source": [
        "# Stopwords\n",
        "SPANISH_STOPWORDS = list(pd.read_csv(PATH+'spanish_stop_words.csv' )['stopwords'].values)\n",
        "SPANISH_STOPWORDS_SPECIAL = list(pd.read_csv(PATH+'spanish_stop_words_spec.csv' )['stopwords'].values)\n",
        "\n",
        "clean_data = Cleaning_text()\n",
        "\n",
        "count_vectorizer = CountVectorizer(\n",
        "                    tokenizer=None,\n",
        "                    token_pattern=r'(?u)\\b\\w\\w+\\b',\n",
        "                    encoding ='utf-8',\n",
        "                    ngram_range=(1, 2),\n",
        "                    max_df=0.8, # significa que cualquier término que aparezca en más del 0.x % de los documentos será ignorado.\n",
        "                    min_df=2,\n",
        "                    stop_words=SPANISH_STOPWORDS,\n",
        "                    # vocabulary=all_tokens,\n",
        "                    )\n",
        "\n",
        "nmf_model = NMF(n_components= 2, init='nndsvd' )\n",
        "\n"
      ]
    },
    {
      "cell_type": "code",
      "execution_count": null,
      "metadata": {},
      "outputs": [],
      "source": [
        "from sklearn.cluster import KMeans\n",
        "\n",
        "topic = 17\n",
        "# topic = np.random.randint(0, len(docs_per_topics)-1) # Aleatorio\n",
        "\n",
        "docs_per_topics = [i for i, x in enumerate(topic_model.topics_) if x == topic]\n",
        "probs = topic_model.probabilities_[docs_per_topics]\n",
        "corpus = [data[doc] for doc in docs_per_topics]\n",
        "\n",
        "titles_per_topic = [df_parquet.iloc[doc]['in__title'] for doc in docs_per_topics]\n",
        "titles_per_topic"
      ]
    },
    {
      "cell_type": "code",
      "execution_count": null,
      "metadata": {},
      "outputs": [],
      "source": [
        "proc_data = []\n",
        "for data_in in corpus:\n",
        "    aux = clean_data.unicode(data_in)\n",
        "    aux = clean_data.urls(aux)\n",
        "    aux = clean_data.simbols(aux)\n",
        "    aux = clean_data.escape_sequence(aux)\n",
        "    aux = clean_data.str_lower(aux)\n",
        "    aux = \" \".join([ word for word in aux.split() if word.lower() not in SPANISH_STOPWORDS_SPECIAL])\n",
        "    proc_data.append(aux)\n",
        "\n",
        "corpus_vect = count_vectorizer.fit_transform(proc_data)\n",
        "\n",
        "sim = cosine_similarity(corpus_vect, corpus_vect)\n",
        "\n",
        "# Aplica K-means clustering para dividir en 2 grupos\n",
        "kmeans = KMeans(n_clusters=2, random_state=42)\n",
        "kmeans.fit(sim)\n",
        "\n",
        "# Obtiene las etiquetas de los clusters\n",
        "labels = kmeans.labels_\n",
        "\n",
        "\n",
        "A = [title if labels[i] == 1 else \" \" for i, title in enumerate(titles_per_topic) ]\n",
        "B = [title if labels[i] == 0 else \" \" for i, title in enumerate(titles_per_topic) ]\n",
        "\n",
        "data_combined = np.stack((labels, A, B), axis=1)\n",
        "\n",
        "combined = pd.DataFrame(data_combined)\n",
        "combined\n"
      ]
    },
    {
      "cell_type": "code",
      "execution_count": null,
      "metadata": {},
      "outputs": [],
      "source": []
    },
    {
      "cell_type": "code",
      "execution_count": null,
      "metadata": {},
      "outputs": [],
      "source": []
    },
    {
      "cell_type": "code",
      "execution_count": null,
      "metadata": {},
      "outputs": [],
      "source": []
    },
    {
      "cell_type": "code",
      "execution_count": null,
      "metadata": {},
      "outputs": [],
      "source": []
    }
  ],
  "metadata": {
    "colab": {
      "include_colab_link": true,
      "provenance": []
    },
    "kernelspec": {
      "display_name": "Python 3",
      "name": "python3"
    },
    "language_info": {
      "codemirror_mode": {
        "name": "ipython",
        "version": 3
      },
      "file_extension": ".py",
      "mimetype": "text/x-python",
      "name": "python",
      "nbconvert_exporter": "python",
      "pygments_lexer": "ipython3",
      "version": "3.11.8"
    }
  },
  "nbformat": 4,
  "nbformat_minor": 0
}
