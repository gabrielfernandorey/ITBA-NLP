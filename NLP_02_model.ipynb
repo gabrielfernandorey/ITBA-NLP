{
  "cells": [
    {
      "cell_type": "markdown",
      "metadata": {
        "colab_type": "text",
        "id": "view-in-github"
      },
      "source": [
        "<a href=\"https://colab.research.google.com/github/gabrielfernandorey/ITBA-NLP/blob/main/NLP_02_model.ipynb\" target=\"_parent\"><img src=\"https://colab.research.google.com/assets/colab-badge.svg\" alt=\"Open In Colab\"/></a>"
      ]
    },
    {
      "cell_type": "markdown",
      "metadata": {
        "id": "g6GzUxPz0r9-"
      },
      "source": [
        "# Trabajo Practico NLP - Detección de Tópicos y clasificación\n",
        "- ITBA 2024\n",
        "- Alumno: Gabriel Rey\n",
        "---"
      ]
    },
    {
      "cell_type": "markdown",
      "metadata": {},
      "source": [
        "### NLP_02_model\n",
        "\n",
        "Esta notebook se utiliza para:\n",
        "- armar el modelo de estimación de tópicos\n",
        "- validar resultados obtenidos\n",
        "- guardar datos en los indices de opensearch\n",
        "\n",
        "Esta y las consecuentes notebooks son el desarrollo de base de procesos y funciones para la web app provista."
      ]
    },
    {
      "cell_type": "markdown",
      "metadata": {
        "id": "e59GBP66N_BK"
      },
      "source": [
        "### MODELO"
      ]
    },
    {
      "cell_type": "code",
      "execution_count": 32,
      "metadata": {
        "colab": {
          "base_uri": "https://localhost:8080/",
          "height": 366
        },
        "collapsed": true,
        "id": "P7eCyxiT1rcu",
        "outputId": "5c718fba-d95f-4b07-91d3-cad4d8c81c00"
      },
      "outputs": [],
      "source": [
        "import warnings\n",
        "warnings.filterwarnings('ignore')\n",
        "\n",
        "import pandas as pd\n",
        "pd.set_option('display.max_colwidth', None)\n",
        "import numpy as np\n",
        "from matplotlib import pyplot as plt\n",
        "import os\n",
        "import json\n",
        "import pickle\n",
        "from datetime import datetime, date, timedelta\n",
        "from dateutil.parser import parse\n",
        "from dotenv import load_dotenv\n",
        "\n",
        "from NLP_tools import *\n"
      ]
    },
    {
      "cell_type": "code",
      "execution_count": 33,
      "metadata": {
        "id": "7QSVkkTWN_BP"
      },
      "outputs": [],
      "source": [
        "from sklearn.feature_extraction.text import CountVectorizer, TfidfVectorizer\n",
        "from sklearn.metrics.pairwise import cosine_similarity\n",
        "from sklearn.decomposition import NMF\n",
        "\n",
        "from tqdm import tqdm\n",
        "\n",
        "from umap import UMAP\n",
        "from hdbscan import HDBSCAN\n",
        "from sentence_transformers import SentenceTransformer\n",
        "from bertopic import BERTopic\n",
        "from bertopic.representation import KeyBERTInspired\n",
        "from bertopic.vectorizers import ClassTfidfTransformer"
      ]
    },
    {
      "cell_type": "code",
      "execution_count": 34,
      "metadata": {
        "id": "yECzCViiN_BP"
      },
      "outputs": [],
      "source": [
        "from opensearch_data_model import Topic, TopicKeyword, News, os_client, TOPIC_INDEX_NAME, NEWS_INDEX_NAME\n",
        "from opensearch_io import init_opensearch, get_news, get_entities_news, get_title_news, update_news, get_pos_id\n",
        "from opensearchpy import helpers\n",
        "\n",
        "from openai import OpenAI"
      ]
    },
    {
      "cell_type": "markdown",
      "metadata": {
        "id": "ZmkslbsDN_BT"
      },
      "source": [
        "### Path"
      ]
    },
    {
      "cell_type": "code",
      "execution_count": 35,
      "metadata": {
        "colab": {
          "base_uri": "https://localhost:8080/",
          "height": 35
        },
        "id": "ZAu1QkwYN_BU",
        "outputId": "86b5d60e-88a3-4ffa-cfab-e89ce3e6086c"
      },
      "outputs": [
        {
          "data": {
            "text/plain": [
              "'C:/Users/gabri/OneDrive/Machine Learning/Github/ITBA-NLP/data/'"
            ]
          },
          "execution_count": 35,
          "metadata": {},
          "output_type": "execute_result"
        }
      ],
      "source": [
        "load_dotenv()\n",
        "PATH_REMOTO='/content/ITBA-NLP/data/'\n",
        "PATH=os.environ.get('PATH_LOCAL', PATH_REMOTO)\n",
        "PATH"
      ]
    },
    {
      "cell_type": "code",
      "execution_count": 36,
      "metadata": {
        "colab": {
          "base_uri": "https://localhost:8080/",
          "height": 176
        },
        "id": "ofyYU7FzN_BU",
        "outputId": "cbbb459c-53ed-445a-b37b-5eb0a94bc370"
      },
      "outputs": [
        {
          "name": "stdout",
          "output_type": "stream",
          "text": [
            "<openai.OpenAI object at 0x00000250B94E7510>\n"
          ]
        }
      ],
      "source": [
        "if PATH == os.environ.get('PATH_LOCAL'):\n",
        "    if os.environ.get('OPENAI_API_KEY'):\n",
        "        client = OpenAI(api_key= os.environ.get('OPENAI_API_KEY'))\n",
        "    else:\n",
        "        client = None\n",
        "    print(client)"
      ]
    },
    {
      "cell_type": "markdown",
      "metadata": {
        "id": "PrAEQ0VIN_BR"
      },
      "source": [
        "### Inicializamos la base vectorial"
      ]
    },
    {
      "cell_type": "code",
      "execution_count": 37,
      "metadata": {
        "id": "wOEOjKN4N_BS",
        "outputId": "2e883aa5-49ab-4a7a-8dfb-8574ba88700b"
      },
      "outputs": [
        {
          "name": "stdout",
          "output_type": "stream",
          "text": [
            "Indice Topic creado\n",
            "El índice News ya existe. Saltando inicialización de base de datos.\n"
          ]
        }
      ],
      "source": [
        "init_opensearch()"
      ]
    },
    {
      "cell_type": "markdown",
      "metadata": {
        "id": "mHLnakcu2MOq"
      },
      "source": [
        "### Data de noticias original"
      ]
    },
    {
      "cell_type": "code",
      "execution_count": 38,
      "metadata": {
        "id": "cmp3cLLv28-T"
      },
      "outputs": [],
      "source": [
        "# Cargar archivo previamente preprocesado en NLP_01_data \n",
        "choice = \"20240716\"   \n",
        "df_parquet = pd.read_parquet(PATH+choice+\".parquet\").reset_index()\n",
        "data = list(df_parquet['text'])\n",
        "id_data = list(df_parquet['asset_id'])\n",
        "title_data = list(df_parquet['title'])"
      ]
    },
    {
      "cell_type": "code",
      "execution_count": 39,
      "metadata": {
        "id": "DxbMdlz-N_BV"
      },
      "outputs": [
        {
          "data": {
            "text/plain": [
              "3798"
            ]
          },
          "execution_count": 39,
          "metadata": {},
          "output_type": "execute_result"
        }
      ],
      "source": [
        "# Cargar vocabulario previamente procesado\n",
        "with open(PATH+f'preproc_notebook/vocabulary_{choice}.json', 'r') as json_file:\n",
        "    vocab = json.load(json_file)\n",
        "len(vocab)"
      ]
    },
    {
      "cell_type": "markdown",
      "metadata": {},
      "source": [
        "### Preprocesar las noticias\n",
        "Se realiza un preprocesamiento mínimo del texto, pero no se le quita el sentido semántico para que mediante SentenceTransformer se puedan capturar embeddings de mejor calidad."
      ]
    },
    {
      "cell_type": "code",
      "execution_count": 40,
      "metadata": {},
      "outputs": [],
      "source": [
        "# Stopwords\n",
        "SPANISH_STOPWORDS = list(pd.read_csv(PATH+'spanish_stop_words.csv' )['stopwords'].values)\n",
        "SPANISH_STOPWORDS_SPECIAL = list(pd.read_csv(PATH+'spanish_stop_words_spec.csv' )['stopwords'].values)"
      ]
    },
    {
      "cell_type": "code",
      "execution_count": 41,
      "metadata": {},
      "outputs": [
        {
          "name": "stderr",
          "output_type": "stream",
          "text": [
            "100%|██████████| 500/500 [00:00<00:00, 928.73it/s]\n"
          ]
        }
      ],
      "source": [
        "clean_data = Cleaning_text()\n",
        "\n",
        "proc_data = []\n",
        "for data_in in tqdm(data):\n",
        "    aux = clean_data.unicode(data_in)\n",
        "    aux = clean_data.urls(aux)\n",
        "    aux = clean_data.simbols(aux)\n",
        "    aux = clean_data.escape_sequence(aux)\n",
        "    aux = \" \".join([ word for word in aux.split() if word.lower() not in SPANISH_STOPWORDS_SPECIAL])\n",
        "    proc_data.append(aux)\n"
      ]
    },
    {
      "cell_type": "markdown",
      "metadata": {
        "id": "Hl06QkGoN_BW"
      },
      "source": [
        "### Modelo"
      ]
    },
    {
      "cell_type": "code",
      "execution_count": 42,
      "metadata": {
        "id": "6U8qmnllN_BW"
      },
      "outputs": [
        {
          "data": {
            "text/html": [
              "<style>#sk-container-id-2 {\n",
              "  /* Definition of color scheme common for light and dark mode */\n",
              "  --sklearn-color-text: black;\n",
              "  --sklearn-color-line: gray;\n",
              "  /* Definition of color scheme for unfitted estimators */\n",
              "  --sklearn-color-unfitted-level-0: #fff5e6;\n",
              "  --sklearn-color-unfitted-level-1: #f6e4d2;\n",
              "  --sklearn-color-unfitted-level-2: #ffe0b3;\n",
              "  --sklearn-color-unfitted-level-3: chocolate;\n",
              "  /* Definition of color scheme for fitted estimators */\n",
              "  --sklearn-color-fitted-level-0: #f0f8ff;\n",
              "  --sklearn-color-fitted-level-1: #d4ebff;\n",
              "  --sklearn-color-fitted-level-2: #b3dbfd;\n",
              "  --sklearn-color-fitted-level-3: cornflowerblue;\n",
              "\n",
              "  /* Specific color for light theme */\n",
              "  --sklearn-color-text-on-default-background: var(--sg-text-color, var(--theme-code-foreground, var(--jp-content-font-color1, black)));\n",
              "  --sklearn-color-background: var(--sg-background-color, var(--theme-background, var(--jp-layout-color0, white)));\n",
              "  --sklearn-color-border-box: var(--sg-text-color, var(--theme-code-foreground, var(--jp-content-font-color1, black)));\n",
              "  --sklearn-color-icon: #696969;\n",
              "\n",
              "  @media (prefers-color-scheme: dark) {\n",
              "    /* Redefinition of color scheme for dark theme */\n",
              "    --sklearn-color-text-on-default-background: var(--sg-text-color, var(--theme-code-foreground, var(--jp-content-font-color1, white)));\n",
              "    --sklearn-color-background: var(--sg-background-color, var(--theme-background, var(--jp-layout-color0, #111)));\n",
              "    --sklearn-color-border-box: var(--sg-text-color, var(--theme-code-foreground, var(--jp-content-font-color1, white)));\n",
              "    --sklearn-color-icon: #878787;\n",
              "  }\n",
              "}\n",
              "\n",
              "#sk-container-id-2 {\n",
              "  color: var(--sklearn-color-text);\n",
              "}\n",
              "\n",
              "#sk-container-id-2 pre {\n",
              "  padding: 0;\n",
              "}\n",
              "\n",
              "#sk-container-id-2 input.sk-hidden--visually {\n",
              "  border: 0;\n",
              "  clip: rect(1px 1px 1px 1px);\n",
              "  clip: rect(1px, 1px, 1px, 1px);\n",
              "  height: 1px;\n",
              "  margin: -1px;\n",
              "  overflow: hidden;\n",
              "  padding: 0;\n",
              "  position: absolute;\n",
              "  width: 1px;\n",
              "}\n",
              "\n",
              "#sk-container-id-2 div.sk-dashed-wrapped {\n",
              "  border: 1px dashed var(--sklearn-color-line);\n",
              "  margin: 0 0.4em 0.5em 0.4em;\n",
              "  box-sizing: border-box;\n",
              "  padding-bottom: 0.4em;\n",
              "  background-color: var(--sklearn-color-background);\n",
              "}\n",
              "\n",
              "#sk-container-id-2 div.sk-container {\n",
              "  /* jupyter's `normalize.less` sets `[hidden] { display: none; }`\n",
              "     but bootstrap.min.css set `[hidden] { display: none !important; }`\n",
              "     so we also need the `!important` here to be able to override the\n",
              "     default hidden behavior on the sphinx rendered scikit-learn.org.\n",
              "     See: https://github.com/scikit-learn/scikit-learn/issues/21755 */\n",
              "  display: inline-block !important;\n",
              "  position: relative;\n",
              "}\n",
              "\n",
              "#sk-container-id-2 div.sk-text-repr-fallback {\n",
              "  display: none;\n",
              "}\n",
              "\n",
              "div.sk-parallel-item,\n",
              "div.sk-serial,\n",
              "div.sk-item {\n",
              "  /* draw centered vertical line to link estimators */\n",
              "  background-image: linear-gradient(var(--sklearn-color-text-on-default-background), var(--sklearn-color-text-on-default-background));\n",
              "  background-size: 2px 100%;\n",
              "  background-repeat: no-repeat;\n",
              "  background-position: center center;\n",
              "}\n",
              "\n",
              "/* Parallel-specific style estimator block */\n",
              "\n",
              "#sk-container-id-2 div.sk-parallel-item::after {\n",
              "  content: \"\";\n",
              "  width: 100%;\n",
              "  border-bottom: 2px solid var(--sklearn-color-text-on-default-background);\n",
              "  flex-grow: 1;\n",
              "}\n",
              "\n",
              "#sk-container-id-2 div.sk-parallel {\n",
              "  display: flex;\n",
              "  align-items: stretch;\n",
              "  justify-content: center;\n",
              "  background-color: var(--sklearn-color-background);\n",
              "  position: relative;\n",
              "}\n",
              "\n",
              "#sk-container-id-2 div.sk-parallel-item {\n",
              "  display: flex;\n",
              "  flex-direction: column;\n",
              "}\n",
              "\n",
              "#sk-container-id-2 div.sk-parallel-item:first-child::after {\n",
              "  align-self: flex-end;\n",
              "  width: 50%;\n",
              "}\n",
              "\n",
              "#sk-container-id-2 div.sk-parallel-item:last-child::after {\n",
              "  align-self: flex-start;\n",
              "  width: 50%;\n",
              "}\n",
              "\n",
              "#sk-container-id-2 div.sk-parallel-item:only-child::after {\n",
              "  width: 0;\n",
              "}\n",
              "\n",
              "/* Serial-specific style estimator block */\n",
              "\n",
              "#sk-container-id-2 div.sk-serial {\n",
              "  display: flex;\n",
              "  flex-direction: column;\n",
              "  align-items: center;\n",
              "  background-color: var(--sklearn-color-background);\n",
              "  padding-right: 1em;\n",
              "  padding-left: 1em;\n",
              "}\n",
              "\n",
              "\n",
              "/* Toggleable style: style used for estimator/Pipeline/ColumnTransformer box that is\n",
              "clickable and can be expanded/collapsed.\n",
              "- Pipeline and ColumnTransformer use this feature and define the default style\n",
              "- Estimators will overwrite some part of the style using the `sk-estimator` class\n",
              "*/\n",
              "\n",
              "/* Pipeline and ColumnTransformer style (default) */\n",
              "\n",
              "#sk-container-id-2 div.sk-toggleable {\n",
              "  /* Default theme specific background. It is overwritten whether we have a\n",
              "  specific estimator or a Pipeline/ColumnTransformer */\n",
              "  background-color: var(--sklearn-color-background);\n",
              "}\n",
              "\n",
              "/* Toggleable label */\n",
              "#sk-container-id-2 label.sk-toggleable__label {\n",
              "  cursor: pointer;\n",
              "  display: block;\n",
              "  width: 100%;\n",
              "  margin-bottom: 0;\n",
              "  padding: 0.5em;\n",
              "  box-sizing: border-box;\n",
              "  text-align: center;\n",
              "}\n",
              "\n",
              "#sk-container-id-2 label.sk-toggleable__label-arrow:before {\n",
              "  /* Arrow on the left of the label */\n",
              "  content: \"▸\";\n",
              "  float: left;\n",
              "  margin-right: 0.25em;\n",
              "  color: var(--sklearn-color-icon);\n",
              "}\n",
              "\n",
              "#sk-container-id-2 label.sk-toggleable__label-arrow:hover:before {\n",
              "  color: var(--sklearn-color-text);\n",
              "}\n",
              "\n",
              "/* Toggleable content - dropdown */\n",
              "\n",
              "#sk-container-id-2 div.sk-toggleable__content {\n",
              "  max-height: 0;\n",
              "  max-width: 0;\n",
              "  overflow: hidden;\n",
              "  text-align: left;\n",
              "  /* unfitted */\n",
              "  background-color: var(--sklearn-color-unfitted-level-0);\n",
              "}\n",
              "\n",
              "#sk-container-id-2 div.sk-toggleable__content.fitted {\n",
              "  /* fitted */\n",
              "  background-color: var(--sklearn-color-fitted-level-0);\n",
              "}\n",
              "\n",
              "#sk-container-id-2 div.sk-toggleable__content pre {\n",
              "  margin: 0.2em;\n",
              "  border-radius: 0.25em;\n",
              "  color: var(--sklearn-color-text);\n",
              "  /* unfitted */\n",
              "  background-color: var(--sklearn-color-unfitted-level-0);\n",
              "}\n",
              "\n",
              "#sk-container-id-2 div.sk-toggleable__content.fitted pre {\n",
              "  /* unfitted */\n",
              "  background-color: var(--sklearn-color-fitted-level-0);\n",
              "}\n",
              "\n",
              "#sk-container-id-2 input.sk-toggleable__control:checked~div.sk-toggleable__content {\n",
              "  /* Expand drop-down */\n",
              "  max-height: 200px;\n",
              "  max-width: 100%;\n",
              "  overflow: auto;\n",
              "}\n",
              "\n",
              "#sk-container-id-2 input.sk-toggleable__control:checked~label.sk-toggleable__label-arrow:before {\n",
              "  content: \"▾\";\n",
              "}\n",
              "\n",
              "/* Pipeline/ColumnTransformer-specific style */\n",
              "\n",
              "#sk-container-id-2 div.sk-label input.sk-toggleable__control:checked~label.sk-toggleable__label {\n",
              "  color: var(--sklearn-color-text);\n",
              "  background-color: var(--sklearn-color-unfitted-level-2);\n",
              "}\n",
              "\n",
              "#sk-container-id-2 div.sk-label.fitted input.sk-toggleable__control:checked~label.sk-toggleable__label {\n",
              "  background-color: var(--sklearn-color-fitted-level-2);\n",
              "}\n",
              "\n",
              "/* Estimator-specific style */\n",
              "\n",
              "/* Colorize estimator box */\n",
              "#sk-container-id-2 div.sk-estimator input.sk-toggleable__control:checked~label.sk-toggleable__label {\n",
              "  /* unfitted */\n",
              "  background-color: var(--sklearn-color-unfitted-level-2);\n",
              "}\n",
              "\n",
              "#sk-container-id-2 div.sk-estimator.fitted input.sk-toggleable__control:checked~label.sk-toggleable__label {\n",
              "  /* fitted */\n",
              "  background-color: var(--sklearn-color-fitted-level-2);\n",
              "}\n",
              "\n",
              "#sk-container-id-2 div.sk-label label.sk-toggleable__label,\n",
              "#sk-container-id-2 div.sk-label label {\n",
              "  /* The background is the default theme color */\n",
              "  color: var(--sklearn-color-text-on-default-background);\n",
              "}\n",
              "\n",
              "/* On hover, darken the color of the background */\n",
              "#sk-container-id-2 div.sk-label:hover label.sk-toggleable__label {\n",
              "  color: var(--sklearn-color-text);\n",
              "  background-color: var(--sklearn-color-unfitted-level-2);\n",
              "}\n",
              "\n",
              "/* Label box, darken color on hover, fitted */\n",
              "#sk-container-id-2 div.sk-label.fitted:hover label.sk-toggleable__label.fitted {\n",
              "  color: var(--sklearn-color-text);\n",
              "  background-color: var(--sklearn-color-fitted-level-2);\n",
              "}\n",
              "\n",
              "/* Estimator label */\n",
              "\n",
              "#sk-container-id-2 div.sk-label label {\n",
              "  font-family: monospace;\n",
              "  font-weight: bold;\n",
              "  display: inline-block;\n",
              "  line-height: 1.2em;\n",
              "}\n",
              "\n",
              "#sk-container-id-2 div.sk-label-container {\n",
              "  text-align: center;\n",
              "}\n",
              "\n",
              "/* Estimator-specific */\n",
              "#sk-container-id-2 div.sk-estimator {\n",
              "  font-family: monospace;\n",
              "  border: 1px dotted var(--sklearn-color-border-box);\n",
              "  border-radius: 0.25em;\n",
              "  box-sizing: border-box;\n",
              "  margin-bottom: 0.5em;\n",
              "  /* unfitted */\n",
              "  background-color: var(--sklearn-color-unfitted-level-0);\n",
              "}\n",
              "\n",
              "#sk-container-id-2 div.sk-estimator.fitted {\n",
              "  /* fitted */\n",
              "  background-color: var(--sklearn-color-fitted-level-0);\n",
              "}\n",
              "\n",
              "/* on hover */\n",
              "#sk-container-id-2 div.sk-estimator:hover {\n",
              "  /* unfitted */\n",
              "  background-color: var(--sklearn-color-unfitted-level-2);\n",
              "}\n",
              "\n",
              "#sk-container-id-2 div.sk-estimator.fitted:hover {\n",
              "  /* fitted */\n",
              "  background-color: var(--sklearn-color-fitted-level-2);\n",
              "}\n",
              "\n",
              "/* Specification for estimator info (e.g. \"i\" and \"?\") */\n",
              "\n",
              "/* Common style for \"i\" and \"?\" */\n",
              "\n",
              ".sk-estimator-doc-link,\n",
              "a:link.sk-estimator-doc-link,\n",
              "a:visited.sk-estimator-doc-link {\n",
              "  float: right;\n",
              "  font-size: smaller;\n",
              "  line-height: 1em;\n",
              "  font-family: monospace;\n",
              "  background-color: var(--sklearn-color-background);\n",
              "  border-radius: 1em;\n",
              "  height: 1em;\n",
              "  width: 1em;\n",
              "  text-decoration: none !important;\n",
              "  margin-left: 1ex;\n",
              "  /* unfitted */\n",
              "  border: var(--sklearn-color-unfitted-level-1) 1pt solid;\n",
              "  color: var(--sklearn-color-unfitted-level-1);\n",
              "}\n",
              "\n",
              ".sk-estimator-doc-link.fitted,\n",
              "a:link.sk-estimator-doc-link.fitted,\n",
              "a:visited.sk-estimator-doc-link.fitted {\n",
              "  /* fitted */\n",
              "  border: var(--sklearn-color-fitted-level-1) 1pt solid;\n",
              "  color: var(--sklearn-color-fitted-level-1);\n",
              "}\n",
              "\n",
              "/* On hover */\n",
              "div.sk-estimator:hover .sk-estimator-doc-link:hover,\n",
              ".sk-estimator-doc-link:hover,\n",
              "div.sk-label-container:hover .sk-estimator-doc-link:hover,\n",
              ".sk-estimator-doc-link:hover {\n",
              "  /* unfitted */\n",
              "  background-color: var(--sklearn-color-unfitted-level-3);\n",
              "  color: var(--sklearn-color-background);\n",
              "  text-decoration: none;\n",
              "}\n",
              "\n",
              "div.sk-estimator.fitted:hover .sk-estimator-doc-link.fitted:hover,\n",
              ".sk-estimator-doc-link.fitted:hover,\n",
              "div.sk-label-container:hover .sk-estimator-doc-link.fitted:hover,\n",
              ".sk-estimator-doc-link.fitted:hover {\n",
              "  /* fitted */\n",
              "  background-color: var(--sklearn-color-fitted-level-3);\n",
              "  color: var(--sklearn-color-background);\n",
              "  text-decoration: none;\n",
              "}\n",
              "\n",
              "/* Span, style for the box shown on hovering the info icon */\n",
              ".sk-estimator-doc-link span {\n",
              "  display: none;\n",
              "  z-index: 9999;\n",
              "  position: relative;\n",
              "  font-weight: normal;\n",
              "  right: .2ex;\n",
              "  padding: .5ex;\n",
              "  margin: .5ex;\n",
              "  width: min-content;\n",
              "  min-width: 20ex;\n",
              "  max-width: 50ex;\n",
              "  color: var(--sklearn-color-text);\n",
              "  box-shadow: 2pt 2pt 4pt #999;\n",
              "  /* unfitted */\n",
              "  background: var(--sklearn-color-unfitted-level-0);\n",
              "  border: .5pt solid var(--sklearn-color-unfitted-level-3);\n",
              "}\n",
              "\n",
              ".sk-estimator-doc-link.fitted span {\n",
              "  /* fitted */\n",
              "  background: var(--sklearn-color-fitted-level-0);\n",
              "  border: var(--sklearn-color-fitted-level-3);\n",
              "}\n",
              "\n",
              ".sk-estimator-doc-link:hover span {\n",
              "  display: block;\n",
              "}\n",
              "\n",
              "/* \"?\"-specific style due to the `<a>` HTML tag */\n",
              "\n",
              "#sk-container-id-2 a.estimator_doc_link {\n",
              "  float: right;\n",
              "  font-size: 1rem;\n",
              "  line-height: 1em;\n",
              "  font-family: monospace;\n",
              "  background-color: var(--sklearn-color-background);\n",
              "  border-radius: 1rem;\n",
              "  height: 1rem;\n",
              "  width: 1rem;\n",
              "  text-decoration: none;\n",
              "  /* unfitted */\n",
              "  color: var(--sklearn-color-unfitted-level-1);\n",
              "  border: var(--sklearn-color-unfitted-level-1) 1pt solid;\n",
              "}\n",
              "\n",
              "#sk-container-id-2 a.estimator_doc_link.fitted {\n",
              "  /* fitted */\n",
              "  border: var(--sklearn-color-fitted-level-1) 1pt solid;\n",
              "  color: var(--sklearn-color-fitted-level-1);\n",
              "}\n",
              "\n",
              "/* On hover */\n",
              "#sk-container-id-2 a.estimator_doc_link:hover {\n",
              "  /* unfitted */\n",
              "  background-color: var(--sklearn-color-unfitted-level-3);\n",
              "  color: var(--sklearn-color-background);\n",
              "  text-decoration: none;\n",
              "}\n",
              "\n",
              "#sk-container-id-2 a.estimator_doc_link.fitted:hover {\n",
              "  /* fitted */\n",
              "  background-color: var(--sklearn-color-fitted-level-3);\n",
              "}\n",
              "</style><div id=\"sk-container-id-2\" class=\"sk-top-container\"><div class=\"sk-text-repr-fallback\"><pre>TfidfVectorizer(max_df=0.9, min_df=0.1, ngram_range=(1, 2),\n",
              "                vocabulary=[&#x27;Miami Dolphins&#x27;, &#x27;Juzgado Federal&#x27;, &#x27;adolescentes&#x27;,\n",
              "                            &#x27;Congreso Judío Latinoamericano&#x27;, &#x27;Libertad&#x27;,\n",
              "                            &#x27;FC Bunge&#x27;, &#x27;presentación multitudinario&#x27;,\n",
              "                            &#x27;Policía Federal Argentina&#x27;, &#x27;Sale&#x27;,\n",
              "                            &#x27;camiseta blanca&#x27;, &#x27;Fotos&#x27;, &#x27;agentes&#x27;,\n",
              "                            &#x27;Dique Potrerillos&#x27;, &#x27;temperaturas&#x27;, &#x27;noviembre&#x27;,\n",
              "                            &#x27;vistas&#x27;, &#x27;Pronóstico&#x27;, &#x27;Celia Cruz&#x27;, &#x27;San Luis&#x27;,\n",
              "                            &#x27;Aguas Rionegrinas&#x27;, &#x27;DEIE&#x27;, &#x27;sombra&#x27;,\n",
              "                            &#x27;aniversario&#x27;, &#x27;Santa Regina&#x27;, &#x27;encargado&#x27;,\n",
              "                            &#x27;aeronave&#x27;, &#x27;Liga Profesional&#x27;, &#x27;estado físico&#x27;,\n",
              "                            &#x27;La Libertad Avanza&#x27;, &#x27;Will Byers&#x27;, ...])</pre><b>In a Jupyter environment, please rerun this cell to show the HTML representation or trust the notebook. <br />On GitHub, the HTML representation is unable to render, please try loading this page with nbviewer.org.</b></div><div class=\"sk-container\" hidden><div class=\"sk-item\"><div class=\"sk-estimator fitted sk-toggleable\"><input class=\"sk-toggleable__control sk-hidden--visually\" id=\"sk-estimator-id-2\" type=\"checkbox\" checked><label for=\"sk-estimator-id-2\" class=\"sk-toggleable__label fitted sk-toggleable__label-arrow fitted\">&nbsp;&nbsp;TfidfVectorizer<a class=\"sk-estimator-doc-link fitted\" rel=\"noreferrer\" target=\"_blank\" href=\"https://scikit-learn.org/1.4/modules/generated/sklearn.feature_extraction.text.TfidfVectorizer.html\">?<span>Documentation for TfidfVectorizer</span></a><span class=\"sk-estimator-doc-link fitted\">i<span>Fitted</span></span></label><div class=\"sk-toggleable__content fitted\"><pre>TfidfVectorizer(max_df=0.9, min_df=0.1, ngram_range=(1, 2),\n",
              "                vocabulary=[&#x27;Miami Dolphins&#x27;, &#x27;Juzgado Federal&#x27;, &#x27;adolescentes&#x27;,\n",
              "                            &#x27;Congreso Judío Latinoamericano&#x27;, &#x27;Libertad&#x27;,\n",
              "                            &#x27;FC Bunge&#x27;, &#x27;presentación multitudinario&#x27;,\n",
              "                            &#x27;Policía Federal Argentina&#x27;, &#x27;Sale&#x27;,\n",
              "                            &#x27;camiseta blanca&#x27;, &#x27;Fotos&#x27;, &#x27;agentes&#x27;,\n",
              "                            &#x27;Dique Potrerillos&#x27;, &#x27;temperaturas&#x27;, &#x27;noviembre&#x27;,\n",
              "                            &#x27;vistas&#x27;, &#x27;Pronóstico&#x27;, &#x27;Celia Cruz&#x27;, &#x27;San Luis&#x27;,\n",
              "                            &#x27;Aguas Rionegrinas&#x27;, &#x27;DEIE&#x27;, &#x27;sombra&#x27;,\n",
              "                            &#x27;aniversario&#x27;, &#x27;Santa Regina&#x27;, &#x27;encargado&#x27;,\n",
              "                            &#x27;aeronave&#x27;, &#x27;Liga Profesional&#x27;, &#x27;estado físico&#x27;,\n",
              "                            &#x27;La Libertad Avanza&#x27;, &#x27;Will Byers&#x27;, ...])</pre></div> </div></div></div></div>"
            ],
            "text/plain": [
              "TfidfVectorizer(max_df=0.9, min_df=0.1, ngram_range=(1, 2),\n",
              "                vocabulary=['Miami Dolphins', 'Juzgado Federal', 'adolescentes',\n",
              "                            'Congreso Judío Latinoamericano', 'Libertad',\n",
              "                            'FC Bunge', 'presentación multitudinario',\n",
              "                            'Policía Federal Argentina', 'Sale',\n",
              "                            'camiseta blanca', 'Fotos', 'agentes',\n",
              "                            'Dique Potrerillos', 'temperaturas', 'noviembre',\n",
              "                            'vistas', 'Pronóstico', 'Celia Cruz', 'San Luis',\n",
              "                            'Aguas Rionegrinas', 'DEIE', 'sombra',\n",
              "                            'aniversario', 'Santa Regina', 'encargado',\n",
              "                            'aeronave', 'Liga Profesional', 'estado físico',\n",
              "                            'La Libertad Avanza', 'Will Byers', ...])"
            ]
          },
          "execution_count": 42,
          "metadata": {},
          "output_type": "execute_result"
        }
      ],
      "source": [
        "tfidf_vectorizer = TfidfVectorizer(\n",
        "        tokenizer=None,\n",
        "        max_df=0.9,\n",
        "        min_df=0.1,\n",
        "        ngram_range=(1, 2),\n",
        "        vocabulary=vocab,\n",
        "        # max_features=100_000\n",
        ")\n",
        "tfidf_vectorizer.fit(proc_data)"
      ]
    },
    {
      "cell_type": "markdown",
      "metadata": {
        "id": "6KB5tMtLN_BW"
      },
      "source": [
        "Capas del modelo BERTopic"
      ]
    },
    {
      "cell_type": "code",
      "execution_count": 43,
      "metadata": {
        "id": "Mpb75EAM3R53"
      },
      "outputs": [],
      "source": [
        "# Step 1 - Extract embeddings\n",
        "embedding_model = SentenceTransformer(\"paraphrase-multilingual-MiniLM-L12-v2\")\n",
        "# Step 2 - Reduce dimensionality\n",
        "umap_model = UMAP(n_neighbors=15, n_components=5, min_dist=0.0, metric='cosine', random_state=42)\n",
        "# Step 3 - Cluster reduced embeddings\n",
        "hdbscan_model = HDBSCAN(min_cluster_size=10, metric='euclidean', cluster_selection_method='eom', prediction_data=True)\n",
        "# Step 4 - Tokenize topics\n",
        "vectorizer_model = tfidf_vectorizer\n",
        "# Step 5 - Create topic representation\n",
        "ctfidf_model = ClassTfidfTransformer()\n",
        "# Step 6 - (Optional) Fine-tune topic representations with a `bertopic.representation` model\n",
        "# representation_model = KeyBERTInspired()\n",
        "\n",
        "# All steps together\n",
        "topic_model = BERTopic(\n",
        "  embedding_model=embedding_model,              # Step 1 - Extract embeddings\n",
        "  umap_model=umap_model,                        # Step 2 - Reduce dimensionality\n",
        "  hdbscan_model=hdbscan_model,                  # Step 3 - Cluster reduced embeddings\n",
        "  vectorizer_model=vectorizer_model,            # Step 4 - Tokenize topics\n",
        "  ctfidf_model=ctfidf_model,                    # Step 5 - Extract topic words\n",
        "  # representation_model=representation_model,  # Step 6 - (Optional) Fine-tune topic represenations\n",
        "  # language='multilingual',                    # This is not used if embedding_model is used.\n",
        "  verbose=True,\n",
        "  # calculate_probabilities=True\n",
        ")"
      ]
    },
    {
      "cell_type": "markdown",
      "metadata": {
        "id": "RYk1SbbdN_BX"
      },
      "source": [
        "### Datos de Entrenamiento a recuperar"
      ]
    },
    {
      "cell_type": "code",
      "execution_count": 44,
      "metadata": {
        "id": "uZb5UYa5N_BX"
      },
      "outputs": [],
      "source": [
        "# Cargar modelo entrenado o saltar celda y entrenar\n",
        "#topic_model = BERTopic.load(PATH+f\"modelos_notebook/bertopic_model_{choice}\")\n",
        "#topics = np.load(PATH+f\"modelos_notebook/topics_{choice}.npy\")\n",
        "#probs = np.load(PATH+f\"modelos_notebook/probs_{choice}.npy\")\n",
        "\n",
        "# Cargar los embeddings\n",
        "#docs_embedding = np.load(PATH+f\"modelos_notebook/docs_embeddings_{choice}.npy\")"
      ]
    },
    {
      "cell_type": "markdown",
      "metadata": {},
      "source": [
        "### Entrenamiento"
      ]
    },
    {
      "cell_type": "code",
      "execution_count": 45,
      "metadata": {
        "id": "MUSgR75RN_BY"
      },
      "outputs": [
        {
          "name": "stderr",
          "output_type": "stream",
          "text": [
            "2024-08-28 12:54:49,349 - BERTopic - Embedding - Transforming documents to embeddings.\n"
          ]
        },
        {
          "data": {
            "application/vnd.jupyter.widget-view+json": {
              "model_id": "2b278a3d5be4421fbbcf15f4fb374804",
              "version_major": 2,
              "version_minor": 0
            },
            "text/plain": [
              "Batches:   0%|          | 0/16 [00:00<?, ?it/s]"
            ]
          },
          "metadata": {},
          "output_type": "display_data"
        },
        {
          "name": "stderr",
          "output_type": "stream",
          "text": [
            "2024-08-28 12:55:58,667 - BERTopic - Embedding - Completed ✓\n",
            "2024-08-28 12:55:58,667 - BERTopic - Dimensionality - Fitting the dimensionality reduction algorithm\n",
            "2024-08-28 12:56:02,022 - BERTopic - Dimensionality - Completed ✓\n",
            "2024-08-28 12:56:02,024 - BERTopic - Cluster - Start clustering the reduced embeddings\n",
            "2024-08-28 12:56:02,054 - BERTopic - Cluster - Completed ✓\n",
            "2024-08-28 12:56:02,059 - BERTopic - Representation - Extracting topics from clusters using representation models.\n",
            "2024-08-28 12:56:02,585 - BERTopic - Representation - Completed ✓\n"
          ]
        }
      ],
      "source": [
        "# Entrenamiento\n",
        "topics, probs = topic_model.fit_transform(proc_data)"
      ]
    },
    {
      "cell_type": "code",
      "execution_count": 46,
      "metadata": {
        "id": "7fssvPfyN_BY"
      },
      "outputs": [],
      "source": [
        "# Obtenemos embeddings de todos los documentos\n",
        "docs_embedding = topic_model.embedding_model.embed(data)"
      ]
    },
    {
      "cell_type": "markdown",
      "metadata": {},
      "source": [
        "### Datos de entrenamiento a guardar"
      ]
    },
    {
      "cell_type": "code",
      "execution_count": 47,
      "metadata": {
        "id": "4NXVfA04N_BY"
      },
      "outputs": [
        {
          "name": "stderr",
          "output_type": "stream",
          "text": [
            "2024-08-28 12:57:14,687 - BERTopic - WARNING: When you use `pickle` to save/load a BERTopic model,please make sure that the environments in which you saveand load the model are **exactly** the same. The version of BERTopic,its dependencies, and python need to remain the same.\n"
          ]
        }
      ],
      "source": [
        "# Grabar modelo\n",
        "topic_model.save(PATH+f\"modelos_notebook/bertopic_model_last\")\n",
        "#np.save(PATH+f\"modelos_notebook/topics_{choice}.npy\", topics)\n",
        "#np.save(PATH+f\"modelos_notebook/probs_{choice}.npy\", probs)\n",
        "\n",
        "# Guardar los embeddings en un archivo de NumPy\n",
        "np.save(PATH+f\"modelos_notebook/docs_embeddings_last.npy\", docs_embedding)"
      ]
    },
    {
      "cell_type": "markdown",
      "metadata": {},
      "source": [
        "## Grabar solo resultados del primer modelo en Topic y News\n",
        "*** El segundo modelo corre en NLP_03_merged, para luego fusionar. ***"
      ]
    },
    {
      "cell_type": "markdown",
      "metadata": {},
      "source": [
        "### Actualizar datos en news "
      ]
    },
    {
      "cell_type": "code",
      "execution_count": 48,
      "metadata": {},
      "outputs": [
        {
          "data": {
            "text/plain": [
              "True"
            ]
          },
          "execution_count": 48,
          "metadata": {},
          "output_type": "execute_result"
        }
      ],
      "source": [
        "# Marcar registros de noticias como procesados y grabar sus embeddings, topicos, probs \n",
        "update_news( id_data, docs_embedding, topics, probs )"
      ]
    },
    {
      "cell_type": "markdown",
      "metadata": {},
      "source": [
        "### Grabar todos los registros en Topic y la actualizacion en news"
      ]
    },
    {
      "cell_type": "code",
      "execution_count": 49,
      "metadata": {},
      "outputs": [],
      "source": [
        "# Grabar todos los topicos en la base\n",
        "date_choice = choice[:4]+\"-\"+choice[4:6]+\"-\"+choice[6:8]\n",
        "\n",
        "for topic_id in topic_model.get_topics().keys():\n",
        "    if topic_id > -1:\n",
        "\n",
        "        topic_keywords_top  = top_keywords(topic_id, topic_model, PATH)\n",
        "        topic_entities_top  = top_entities(topic_id, topic_model, df_parquet)\n",
        "        topic_documents_title, threshold  = topic_documents(topic_id, topic_model, df_parquet)\n",
        "        id_best_doc, title_best_doc, best_doc = best_document(topic_id, topic_model, docs_embedding, id_data, title_data, data)\n",
        "        \n",
        "\n",
        "        topic_doc = Topic(\n",
        "            index = topic_id,\n",
        "            name =  get_topic_name(''.join(topic_documents_title), topic_id, topic_model, client),\n",
        "            vector = list(topic_model.topic_embeddings_[topic_id + 1 ]),\n",
        "            similarity_threshold = threshold,\n",
        "            created_at = datetime.now(),\n",
        "            from_date = parse(date_choice),\n",
        "            to_date = datetime.strptime(date_choice, '%Y-%m-%d') + timedelta(days=1),\n",
        "            keywords = topic_keywords_top,\n",
        "            entities = topic_entities_top,\n",
        "            id_best_doc = id_best_doc,\n",
        "            title_best_doc = title_best_doc,\n",
        "            best_doc = best_doc,\n",
        "        )\n",
        "\n",
        "        topic_doc.save()\n",
        "\n"
      ]
    },
    {
      "cell_type": "markdown",
      "metadata": {
        "id": "McTgk142N_BY"
      },
      "source": [
        "## Resultados y operaciones con el modelo"
      ]
    },
    {
      "cell_type": "code",
      "execution_count": 50,
      "metadata": {
        "id": "-oHKP19MN_BY"
      },
      "outputs": [
        {
          "name": "stdout",
          "output_type": "stream",
          "text": [
            "Cantidad de tópicos 13 (incluye topico -1)\n"
          ]
        }
      ],
      "source": [
        "print(f\"Cantidad de tópicos {len(set(topic_model.topics_))} (incluye topico -1)\")"
      ]
    },
    {
      "cell_type": "code",
      "execution_count": 51,
      "metadata": {
        "id": "qZusn9JUN_BY"
      },
      "outputs": [
        {
          "name": "stdout",
          "output_type": "stream",
          "text": [
            "Número de tópicos encontrados: 13 (incluye el topico -1)\n",
            " Topic  Count\n",
            "    -1    140\n",
            "     0    115\n",
            "     1     73\n",
            "     2     36\n",
            "     3     29\n",
            "     4     19\n",
            "     5     17\n",
            "     6     16\n",
            "     7     12\n",
            "     8     12\n",
            "     9     11\n",
            "    10     10\n",
            "    11     10\n"
          ]
        }
      ],
      "source": [
        "# Obtener documentos de cada tópico\n",
        "topic_freq = topic_model.get_topic_freq()\n",
        "\n",
        "# Imprimir el número de tópicos encontrados (incluyendo el tópico -1)\n",
        "num_topics = len(topic_freq)\n",
        "print(f\"Número de tópicos encontrados: {num_topics} (incluye el topico -1)\")\n",
        "\n",
        "# Imprimir la cant de documentos de cada tópico\n",
        "print(topic_freq.to_string(index=False))"
      ]
    },
    {
      "cell_type": "markdown",
      "metadata": {
        "id": "J8NuMpv7N_BZ"
      },
      "source": [
        "### Recuperar todos los topicos y sus etiquetas generadas por el modelo"
      ]
    },
    {
      "cell_type": "code",
      "execution_count": 52,
      "metadata": {
        "id": "QyGA8qOBN_BZ"
      },
      "outputs": [
        {
          "data": {
            "text/plain": [
              "['-1_es_em_años',\n",
              " '0_años_policía_investigación',\n",
              " '1_copa_selección_jugadores',\n",
              " '2_actividades_vacaciones_visitantes',\n",
              " '3_inteligencia_agencia_agencias',\n",
              " '4_merenderos_agua_calle',\n",
              " '5_ley_reforma laboral_trabajo',\n",
              " '6_dólar_bitcoin_riesgo país',\n",
              " '7_temperatura_precipitaciones_variedades',\n",
              " '8_caída_toneladas_producción',\n",
              " '9_copa_dato confiable_quinta pata',\n",
              " '10_sociedades_sociedades anónimas_clubes',\n",
              " '11_cementerio_inscriptos_restos']"
            ]
          },
          "execution_count": 52,
          "metadata": {},
          "output_type": "execute_result"
        }
      ],
      "source": [
        "topic_labels = topic_model.generate_topic_labels()\n",
        "topic_labels"
      ]
    },
    {
      "cell_type": "markdown",
      "metadata": {
        "id": "szmrk5CcN_BZ"
      },
      "source": [
        "### Buscar topicos ingresando un texto"
      ]
    },
    {
      "cell_type": "code",
      "execution_count": 53,
      "metadata": {
        "id": "IDMc0KZVN_BZ"
      },
      "outputs": [
        {
          "name": "stdout",
          "output_type": "stream",
          "text": [
            "([7, 8, 4, 6, -1], [0.58300036, 0.27193683, 0.26861697, 0.25462782, 0.2482473])\n"
          ]
        },
        {
          "data": {
            "text/plain": [
              "'7_temperatura_precipitaciones_variedades'"
            ]
          },
          "execution_count": 53,
          "metadata": {},
          "output_type": "execute_result"
        }
      ],
      "source": [
        "topic_res = topic_model.find_topics(\"cambio climatico\")\n",
        "print(topic_res)\n",
        "topic_labels[topic_res[0][np.argmax(topic_res[1])]+1]"
      ]
    },
    {
      "cell_type": "markdown",
      "metadata": {},
      "source": [
        "## Elegir un topico para pruebas"
      ]
    },
    {
      "cell_type": "code",
      "execution_count": 54,
      "metadata": {},
      "outputs": [
        {
          "name": "stdout",
          "output_type": "stream",
          "text": [
            "Topico N°: 5 --> 5_ley_reforma laboral_trabajo\n"
          ]
        }
      ],
      "source": [
        "# Obtener los n documentos de un tópico\n",
        "topic_id = np.random.randint(len(set(topic_model.topics_))-1) # Obtener un topico al azar\n",
        "print(f\"Topico N°: {topic_id} --> {topic_labels[topic_id+1]}\" )"
      ]
    },
    {
      "cell_type": "markdown",
      "metadata": {
        "id": "p4lJj7ySN_BZ"
      },
      "source": [
        "### Buscar los titulos de los primeros n documentos de un topico"
      ]
    },
    {
      "cell_type": "code",
      "execution_count": 55,
      "metadata": {
        "id": "mDaQzIduN_BZ"
      },
      "outputs": [
        {
          "name": "stdout",
          "output_type": "stream",
          "text": [
            "5 de 17 titulos de noticias encontrados en el tópico 5\n",
            "-  El Gobierno recibe a la CGT para evitar otro paro e intentar acercar posiciones sobre la reforma laboral\n",
            "-  Primer encuentro por el Consejo de Mayo: el Gobierno recibe hoy al triunvirato de la CGT\n",
            "-  Con dificultades, Guillermo Francos intenta reunir a toda la oposición para consensuar la agenda parlamentaria\n",
            "-  Paro docente: Llaryora dijo que harán una nueva propuesta y pedirán la conciliación obligatoria\n",
            "-  La CGT le planteó al Gobierno dos condiciones para integrar el Consejo de Mayo\n"
          ]
        }
      ],
      "source": [
        "n_docs = 5  # N documentos a recuperar\n",
        "topic_docs_idx = [i for i, (doc, topic) in enumerate(zip(list(df_parquet['title']), topic_model.topics_)) if topic == topic_id]\n",
        "n_docs = n_docs if n_docs <= len(topic_docs_idx) else len(topic_docs_idx)\n",
        "\n",
        "print(f\"{n_docs} de {len(topic_docs_idx)} titulos de noticias encontrados en el tópico {topic_id:}\")\n",
        "for idx in topic_docs_idx[:n_docs]:\n",
        "    print(\"- \",df_parquet.iloc[idx]['title'])"
      ]
    },
    {
      "cell_type": "markdown",
      "metadata": {
        "id": "Oe7n7ofuN_Ba"
      },
      "source": [
        "#### Busqueda de documentos por topico, ordenados por mayor probabilidad"
      ]
    },
    {
      "cell_type": "code",
      "execution_count": 56,
      "metadata": {
        "id": "KFpaYMzpN_Ba"
      },
      "outputs": [
        {
          "name": "stdout",
          "output_type": "stream",
          "text": [
            "Topico N°: 5 --> 5_ley_reforma laboral_trabajo\n",
            "17 docs encontrados\n"
          ]
        },
        {
          "data": {
            "text/html": [
              "<style type=\"text/css\">\n",
              "#T_c09d2_row0_col1, #T_c09d2_row1_col1, #T_c09d2_row2_col1, #T_c09d2_row3_col1, #T_c09d2_row4_col1, #T_c09d2_row5_col1, #T_c09d2_row6_col1, #T_c09d2_row7_col1, #T_c09d2_row8_col1, #T_c09d2_row9_col1, #T_c09d2_row10_col1, #T_c09d2_row11_col1, #T_c09d2_row12_col1, #T_c09d2_row13_col1, #T_c09d2_row14_col1, #T_c09d2_row15_col1, #T_c09d2_row16_col1 {\n",
              "  text-align: left;\n",
              "}\n",
              "</style>\n",
              "<table id=\"T_c09d2\">\n",
              "  <thead>\n",
              "    <tr>\n",
              "      <th class=\"blank level0\" >&nbsp;</th>\n",
              "      <th id=\"T_c09d2_level0_col0\" class=\"col_heading level0 col0\" >ID</th>\n",
              "      <th id=\"T_c09d2_level0_col1\" class=\"col_heading level0 col1\" >titulo</th>\n",
              "      <th id=\"T_c09d2_level0_col2\" class=\"col_heading level0 col2\" >score</th>\n",
              "    </tr>\n",
              "  </thead>\n",
              "  <tbody>\n",
              "    <tr>\n",
              "      <th id=\"T_c09d2_level0_row0\" class=\"row_heading level0 row0\" >0</th>\n",
              "      <td id=\"T_c09d2_row0_col0\" class=\"data row0 col0\" >114827690</td>\n",
              "      <td id=\"T_c09d2_row0_col1\" class=\"data row0 col1\" >El Gobierno recibe a la CGT para evitar otro paro e intentar acercar posiciones sobre la reforma laboral</td>\n",
              "      <td id=\"T_c09d2_row0_col2\" class=\"data row0 col2\" >1.000000</td>\n",
              "    </tr>\n",
              "    <tr>\n",
              "      <th id=\"T_c09d2_level0_row1\" class=\"row_heading level0 row1\" >6</th>\n",
              "      <td id=\"T_c09d2_row1_col0\" class=\"data row1 col0\" >114816992</td>\n",
              "      <td id=\"T_c09d2_row1_col1\" class=\"data row1 col1\" >En busca de básicos por encima del millón de pesos, UTA se reúne con empresas de transporte del interior</td>\n",
              "      <td id=\"T_c09d2_row1_col2\" class=\"data row1 col2\" >1.000000</td>\n",
              "    </tr>\n",
              "    <tr>\n",
              "      <th id=\"T_c09d2_level0_row2\" class=\"row_heading level0 row2\" >15</th>\n",
              "      <td id=\"T_c09d2_row2_col0\" class=\"data row2 col0\" >114882117</td>\n",
              "      <td id=\"T_c09d2_row2_col1\" class=\"data row2 col1\" >La CGT se reunió con el Gobierno y pidió que se retire parte de la reforma laboral del DNU</td>\n",
              "      <td id=\"T_c09d2_row2_col2\" class=\"data row2 col2\" >1.000000</td>\n",
              "    </tr>\n",
              "    <tr>\n",
              "      <th id=\"T_c09d2_level0_row3\" class=\"row_heading level0 row3\" >12</th>\n",
              "      <td id=\"T_c09d2_row3_col0\" class=\"data row3 col0\" >114878548</td>\n",
              "      <td id=\"T_c09d2_row3_col1\" class=\"data row3 col1\" >La CGT le reclamó al gobierno que eleve el piso de Ganancias y reglamente con precisión la reforma laboral</td>\n",
              "      <td id=\"T_c09d2_row3_col2\" class=\"data row3 col2\" >1.000000</td>\n",
              "    </tr>\n",
              "    <tr>\n",
              "      <th id=\"T_c09d2_level0_row4\" class=\"row_heading level0 row4\" >9</th>\n",
              "      <td id=\"T_c09d2_row4_col0\" class=\"data row4 col0\" >114864256</td>\n",
              "      <td id=\"T_c09d2_row4_col1\" class=\"data row4 col1\" >Un paso más para la ley de Función Pública, con la que se introducen nuevos complementos salariales y evaluaciones a los funcionarios</td>\n",
              "      <td id=\"T_c09d2_row4_col2\" class=\"data row4 col2\" >1.000000</td>\n",
              "    </tr>\n",
              "    <tr>\n",
              "      <th id=\"T_c09d2_level0_row5\" class=\"row_heading level0 row5\" >7</th>\n",
              "      <td id=\"T_c09d2_row5_col0\" class=\"data row5 col0\" >114850460</td>\n",
              "      <td id=\"T_c09d2_row5_col1\" class=\"data row5 col1\" >Acindar firmó un incremento salarial del 107% y la UOM levantó la huega</td>\n",
              "      <td id=\"T_c09d2_row5_col2\" class=\"data row5 col2\" >1.000000</td>\n",
              "    </tr>\n",
              "    <tr>\n",
              "      <th id=\"T_c09d2_level0_row6\" class=\"row_heading level0 row6\" >8</th>\n",
              "      <td id=\"T_c09d2_row6_col0\" class=\"data row6 col0\" >114882910</td>\n",
              "      <td id=\"T_c09d2_row6_col1\" class=\"data row6 col1\" >La CGT se reunió con el Gobierno: cuáles fueron los principales temas que trataron</td>\n",
              "      <td id=\"T_c09d2_row6_col2\" class=\"data row6 col2\" >1.000000</td>\n",
              "    </tr>\n",
              "    <tr>\n",
              "      <th id=\"T_c09d2_level0_row7\" class=\"row_heading level0 row7\" >5</th>\n",
              "      <td id=\"T_c09d2_row7_col0\" class=\"data row7 col0\" >114828214</td>\n",
              "      <td id=\"T_c09d2_row7_col1\" class=\"data row7 col1\" >Fallo ordena pagar las quincenas a tres albañiles que armaron la estructura de un edificio</td>\n",
              "      <td id=\"T_c09d2_row7_col2\" class=\"data row7 col2\" >1.000000</td>\n",
              "    </tr>\n",
              "    <tr>\n",
              "      <th id=\"T_c09d2_level0_row8\" class=\"row_heading level0 row8\" >4</th>\n",
              "      <td id=\"T_c09d2_row8_col0\" class=\"data row8 col0\" >114879768</td>\n",
              "      <td id=\"T_c09d2_row8_col1\" class=\"data row8 col1\" >La CGT le planteó al Gobierno dos condiciones para integrar el Consejo de Mayo</td>\n",
              "      <td id=\"T_c09d2_row8_col2\" class=\"data row8 col2\" >1.000000</td>\n",
              "    </tr>\n",
              "    <tr>\n",
              "      <th id=\"T_c09d2_level0_row9\" class=\"row_heading level0 row9\" >3</th>\n",
              "      <td id=\"T_c09d2_row9_col0\" class=\"data row9 col0\" >114846558</td>\n",
              "      <td id=\"T_c09d2_row9_col1\" class=\"data row9 col1\" >Paro docente: Llaryora dijo que harán una nueva propuesta y pedirán la conciliación obligatoria</td>\n",
              "      <td id=\"T_c09d2_row9_col2\" class=\"data row9 col2\" >1.000000</td>\n",
              "    </tr>\n",
              "    <tr>\n",
              "      <th id=\"T_c09d2_level0_row10\" class=\"row_heading level0 row10\" >11</th>\n",
              "      <td id=\"T_c09d2_row10_col0\" class=\"data row10 col0\" >114850545</td>\n",
              "      <td id=\"T_c09d2_row10_col1\" class=\"data row10 col1\" >Subsidios de energía : El Municipio de La Plata informa casa por casa a los vecinos que podrían perder el beneficio</td>\n",
              "      <td id=\"T_c09d2_row10_col2\" class=\"data row10 col2\" >0.963400</td>\n",
              "    </tr>\n",
              "    <tr>\n",
              "      <th id=\"T_c09d2_level0_row11\" class=\"row_heading level0 row11\" >16</th>\n",
              "      <td id=\"T_c09d2_row11_col0\" class=\"data row11 col0\" >114852757</td>\n",
              "      <td id=\"T_c09d2_row11_col1\" class=\"data row11 col1\" >Destacan la reanudación del diálogo entre el Ejecutivo y el Sindicato de Municipales</td>\n",
              "      <td id=\"T_c09d2_row11_col2\" class=\"data row11 col2\" >0.946100</td>\n",
              "    </tr>\n",
              "    <tr>\n",
              "      <th id=\"T_c09d2_level0_row12\" class=\"row_heading level0 row12\" >2</th>\n",
              "      <td id=\"T_c09d2_row12_col0\" class=\"data row12 col0\" >114850341</td>\n",
              "      <td id=\"T_c09d2_row12_col1\" class=\"data row12 col1\" >Con dificultades, Guillermo Francos intenta reunir a toda la oposición para consensuar la agenda parlamentaria</td>\n",
              "      <td id=\"T_c09d2_row12_col2\" class=\"data row12 col2\" >0.921300</td>\n",
              "    </tr>\n",
              "    <tr>\n",
              "      <th id=\"T_c09d2_level0_row13\" class=\"row_heading level0 row13\" >13</th>\n",
              "      <td id=\"T_c09d2_row13_col0\" class=\"data row13 col0\" >114879626</td>\n",
              "      <td id=\"T_c09d2_row13_col1\" class=\"data row13 col1\" >Maximiliano Abad presentó un proyecto para cambiar la Ley de Lavado de Activos</td>\n",
              "      <td id=\"T_c09d2_row13_col2\" class=\"data row13 col2\" >0.893900</td>\n",
              "    </tr>\n",
              "    <tr>\n",
              "      <th id=\"T_c09d2_level0_row14\" class=\"row_heading level0 row14\" >1</th>\n",
              "      <td id=\"T_c09d2_row14_col0\" class=\"data row14 col0\" >114836014</td>\n",
              "      <td id=\"T_c09d2_row14_col1\" class=\"data row14 col1\" >Primer encuentro por el Consejo de Mayo: el Gobierno recibe hoy al triunvirato de la CGT</td>\n",
              "      <td id=\"T_c09d2_row14_col2\" class=\"data row14 col2\" >0.856500</td>\n",
              "    </tr>\n",
              "    <tr>\n",
              "      <th id=\"T_c09d2_level0_row15\" class=\"row_heading level0 row15\" >14</th>\n",
              "      <td id=\"T_c09d2_row15_col0\" class=\"data row15 col0\" >114828603</td>\n",
              "      <td id=\"T_c09d2_row15_col1\" class=\"data row15 col1\" >Sturzenegger adelantó cuándo la mandará al Congreso la Ley Hojarasca y aseguró que es \"una limpieza legislativa\"</td>\n",
              "      <td id=\"T_c09d2_row15_col2\" class=\"data row15 col2\" >0.787600</td>\n",
              "    </tr>\n",
              "    <tr>\n",
              "      <th id=\"T_c09d2_level0_row16\" class=\"row_heading level0 row16\" >10</th>\n",
              "      <td id=\"T_c09d2_row16_col0\" class=\"data row16 col0\" >114818767</td>\n",
              "      <td id=\"T_c09d2_row16_col1\" class=\"data row16 col1\" >\"Esperamos que el proyecto de Kicillof sea superador, si no deberemos adherir al RIGI\"</td>\n",
              "      <td id=\"T_c09d2_row16_col2\" class=\"data row16 col2\" >0.780700</td>\n",
              "    </tr>\n",
              "  </tbody>\n",
              "</table>\n"
            ],
            "text/plain": [
              "<pandas.io.formats.style.Styler at 0x250b6ee6f50>"
            ]
          },
          "execution_count": 56,
          "metadata": {},
          "output_type": "execute_result"
        }
      ],
      "source": [
        "docs_per_topics = [i for i, x in enumerate(topic_model.topics_) if x == topic_id]\n",
        "score_docs = topic_model.probabilities_[docs_per_topics]\n",
        "\n",
        "print(f\"Topico N°: {topic_id} --> {topic_labels[topic_id+1]}\" )\n",
        "\n",
        "reg_data = []\n",
        "for i, doc in enumerate(docs_per_topics):\n",
        "    reg_data.append([df_parquet.iloc[doc].asset_id, df_parquet.iloc[doc].title, round(score_docs[i],4)])\n",
        "\n",
        "df_query = pd.DataFrame(reg_data, columns=['ID','titulo','score'])\n",
        "print(len(df_query), \"docs encontrados\")\n",
        "df_query.sort_values('score', ascending=False).style.set_properties(subset=['titulo'], **{'text-align': 'left'})"
      ]
    },
    {
      "cell_type": "markdown",
      "metadata": {
        "id": "G9oQK911N_Bf"
      },
      "source": [
        "### Criterio de corte (umbral)\n",
        "El criterio de corte utilizado para filtrar las noticias que pertenecen a un topico es la \"media\""
      ]
    },
    {
      "cell_type": "code",
      "execution_count": 57,
      "metadata": {
        "id": "tAt7-_Q8N_Bf"
      },
      "outputs": [
        {
          "data": {
            "image/png": "[encoded data removed]",
            "text/plain": [
              "<Figure size 640x480 with 1 Axes>"
            ]
          },
          "metadata": {},
          "output_type": "display_data"
        }
      ],
      "source": [
        "# Calcular la media, el desvío estándar\n",
        "\n",
        "mean = np.mean([fila[2] for fila in reg_data])\n",
        "std_dev = np.std([fila[2] for fila in reg_data])\n",
        "\n",
        "# Crear el histograma\n",
        "plt.hist([fila[2] for fila in reg_data], bins=10, edgecolor='black')\n",
        "\n",
        "# Añadir líneas para la media, la moda y el desvío estándar\n",
        "plt.axvline(mean, color='r', linestyle='dashed', linewidth=1, label=f'Media: {mean:.2f}')\n",
        "plt.axvline(mean - std_dev, color='b', linestyle='dashed', linewidth=1, label=f'-1 STD: {mean - std_dev:.2f}')\n",
        "\n",
        "\n",
        "# Añadir títulos y etiquetas\n",
        "plt.title(f'Histograma de probabilidades topico: {topic_id}')\n",
        "plt.xlabel('Valor')\n",
        "plt.ylabel('Frecuencia')\n",
        "plt.legend()\n",
        "\n",
        "# Mostrar el gráfico\n",
        "plt.show()"
      ]
    },
    {
      "cell_type": "code",
      "execution_count": 58,
      "metadata": {},
      "outputs": [
        {
          "name": "stdout",
          "output_type": "stream",
          "text": [
            "Topico N°: 5 --> 5_ley_reforma laboral_trabajo\n",
            "Umbral de corte 0.9499705882352941\n"
          ]
        },
        {
          "data": {
            "text/html": [
              "<style type=\"text/css\">\n",
              "#T_7fe31_row0_col0, #T_7fe31_row0_col2, #T_7fe31_row1_col0, #T_7fe31_row1_col2, #T_7fe31_row2_col0, #T_7fe31_row2_col2, #T_7fe31_row3_col0, #T_7fe31_row3_col2, #T_7fe31_row4_col0, #T_7fe31_row4_col2, #T_7fe31_row5_col0, #T_7fe31_row5_col2, #T_7fe31_row6_col0, #T_7fe31_row6_col2, #T_7fe31_row7_col0, #T_7fe31_row7_col2, #T_7fe31_row8_col0, #T_7fe31_row8_col2, #T_7fe31_row9_col0, #T_7fe31_row9_col2, #T_7fe31_row10_col0, #T_7fe31_row10_col2 {\n",
              "  color: cyan;\n",
              "}\n",
              "#T_7fe31_row0_col1, #T_7fe31_row1_col1, #T_7fe31_row2_col1, #T_7fe31_row3_col1, #T_7fe31_row4_col1, #T_7fe31_row5_col1, #T_7fe31_row6_col1, #T_7fe31_row7_col1, #T_7fe31_row8_col1, #T_7fe31_row9_col1, #T_7fe31_row10_col1 {\n",
              "  color: cyan;\n",
              "  text-align: left;\n",
              "}\n",
              "#T_7fe31_row11_col1, #T_7fe31_row12_col1, #T_7fe31_row13_col1, #T_7fe31_row14_col1, #T_7fe31_row15_col1, #T_7fe31_row16_col1 {\n",
              "  text-align: left;\n",
              "}\n",
              "</style>\n",
              "<table id=\"T_7fe31\">\n",
              "  <thead>\n",
              "    <tr>\n",
              "      <th class=\"blank level0\" >&nbsp;</th>\n",
              "      <th id=\"T_7fe31_level0_col0\" class=\"col_heading level0 col0\" >ID</th>\n",
              "      <th id=\"T_7fe31_level0_col1\" class=\"col_heading level0 col1\" >titulo</th>\n",
              "      <th id=\"T_7fe31_level0_col2\" class=\"col_heading level0 col2\" >score</th>\n",
              "    </tr>\n",
              "  </thead>\n",
              "  <tbody>\n",
              "    <tr>\n",
              "      <th id=\"T_7fe31_level0_row0\" class=\"row_heading level0 row0\" >0</th>\n",
              "      <td id=\"T_7fe31_row0_col0\" class=\"data row0 col0\" >114827690</td>\n",
              "      <td id=\"T_7fe31_row0_col1\" class=\"data row0 col1\" >El Gobierno recibe a la CGT para evitar otro paro e intentar acercar posiciones sobre la reforma laboral</td>\n",
              "      <td id=\"T_7fe31_row0_col2\" class=\"data row0 col2\" >1.000000</td>\n",
              "    </tr>\n",
              "    <tr>\n",
              "      <th id=\"T_7fe31_level0_row1\" class=\"row_heading level0 row1\" >6</th>\n",
              "      <td id=\"T_7fe31_row1_col0\" class=\"data row1 col0\" >114816992</td>\n",
              "      <td id=\"T_7fe31_row1_col1\" class=\"data row1 col1\" >En busca de básicos por encima del millón de pesos, UTA se reúne con empresas de transporte del interior</td>\n",
              "      <td id=\"T_7fe31_row1_col2\" class=\"data row1 col2\" >1.000000</td>\n",
              "    </tr>\n",
              "    <tr>\n",
              "      <th id=\"T_7fe31_level0_row2\" class=\"row_heading level0 row2\" >15</th>\n",
              "      <td id=\"T_7fe31_row2_col0\" class=\"data row2 col0\" >114882117</td>\n",
              "      <td id=\"T_7fe31_row2_col1\" class=\"data row2 col1\" >La CGT se reunió con el Gobierno y pidió que se retire parte de la reforma laboral del DNU</td>\n",
              "      <td id=\"T_7fe31_row2_col2\" class=\"data row2 col2\" >1.000000</td>\n",
              "    </tr>\n",
              "    <tr>\n",
              "      <th id=\"T_7fe31_level0_row3\" class=\"row_heading level0 row3\" >12</th>\n",
              "      <td id=\"T_7fe31_row3_col0\" class=\"data row3 col0\" >114878548</td>\n",
              "      <td id=\"T_7fe31_row3_col1\" class=\"data row3 col1\" >La CGT le reclamó al gobierno que eleve el piso de Ganancias y reglamente con precisión la reforma laboral</td>\n",
              "      <td id=\"T_7fe31_row3_col2\" class=\"data row3 col2\" >1.000000</td>\n",
              "    </tr>\n",
              "    <tr>\n",
              "      <th id=\"T_7fe31_level0_row4\" class=\"row_heading level0 row4\" >9</th>\n",
              "      <td id=\"T_7fe31_row4_col0\" class=\"data row4 col0\" >114864256</td>\n",
              "      <td id=\"T_7fe31_row4_col1\" class=\"data row4 col1\" >Un paso más para la ley de Función Pública, con la que se introducen nuevos complementos salariales y evaluaciones a los funcionarios</td>\n",
              "      <td id=\"T_7fe31_row4_col2\" class=\"data row4 col2\" >1.000000</td>\n",
              "    </tr>\n",
              "    <tr>\n",
              "      <th id=\"T_7fe31_level0_row5\" class=\"row_heading level0 row5\" >7</th>\n",
              "      <td id=\"T_7fe31_row5_col0\" class=\"data row5 col0\" >114850460</td>\n",
              "      <td id=\"T_7fe31_row5_col1\" class=\"data row5 col1\" >Acindar firmó un incremento salarial del 107% y la UOM levantó la huega</td>\n",
              "      <td id=\"T_7fe31_row5_col2\" class=\"data row5 col2\" >1.000000</td>\n",
              "    </tr>\n",
              "    <tr>\n",
              "      <th id=\"T_7fe31_level0_row6\" class=\"row_heading level0 row6\" >8</th>\n",
              "      <td id=\"T_7fe31_row6_col0\" class=\"data row6 col0\" >114882910</td>\n",
              "      <td id=\"T_7fe31_row6_col1\" class=\"data row6 col1\" >La CGT se reunió con el Gobierno: cuáles fueron los principales temas que trataron</td>\n",
              "      <td id=\"T_7fe31_row6_col2\" class=\"data row6 col2\" >1.000000</td>\n",
              "    </tr>\n",
              "    <tr>\n",
              "      <th id=\"T_7fe31_level0_row7\" class=\"row_heading level0 row7\" >5</th>\n",
              "      <td id=\"T_7fe31_row7_col0\" class=\"data row7 col0\" >114828214</td>\n",
              "      <td id=\"T_7fe31_row7_col1\" class=\"data row7 col1\" >Fallo ordena pagar las quincenas a tres albañiles que armaron la estructura de un edificio</td>\n",
              "      <td id=\"T_7fe31_row7_col2\" class=\"data row7 col2\" >1.000000</td>\n",
              "    </tr>\n",
              "    <tr>\n",
              "      <th id=\"T_7fe31_level0_row8\" class=\"row_heading level0 row8\" >4</th>\n",
              "      <td id=\"T_7fe31_row8_col0\" class=\"data row8 col0\" >114879768</td>\n",
              "      <td id=\"T_7fe31_row8_col1\" class=\"data row8 col1\" >La CGT le planteó al Gobierno dos condiciones para integrar el Consejo de Mayo</td>\n",
              "      <td id=\"T_7fe31_row8_col2\" class=\"data row8 col2\" >1.000000</td>\n",
              "    </tr>\n",
              "    <tr>\n",
              "      <th id=\"T_7fe31_level0_row9\" class=\"row_heading level0 row9\" >3</th>\n",
              "      <td id=\"T_7fe31_row9_col0\" class=\"data row9 col0\" >114846558</td>\n",
              "      <td id=\"T_7fe31_row9_col1\" class=\"data row9 col1\" >Paro docente: Llaryora dijo que harán una nueva propuesta y pedirán la conciliación obligatoria</td>\n",
              "      <td id=\"T_7fe31_row9_col2\" class=\"data row9 col2\" >1.000000</td>\n",
              "    </tr>\n",
              "    <tr>\n",
              "      <th id=\"T_7fe31_level0_row10\" class=\"row_heading level0 row10\" >11</th>\n",
              "      <td id=\"T_7fe31_row10_col0\" class=\"data row10 col0\" >114850545</td>\n",
              "      <td id=\"T_7fe31_row10_col1\" class=\"data row10 col1\" >Subsidios de energía : El Municipio de La Plata informa casa por casa a los vecinos que podrían perder el beneficio</td>\n",
              "      <td id=\"T_7fe31_row10_col2\" class=\"data row10 col2\" >0.963400</td>\n",
              "    </tr>\n",
              "    <tr>\n",
              "      <th id=\"T_7fe31_level0_row11\" class=\"row_heading level0 row11\" >16</th>\n",
              "      <td id=\"T_7fe31_row11_col0\" class=\"data row11 col0\" >114852757</td>\n",
              "      <td id=\"T_7fe31_row11_col1\" class=\"data row11 col1\" >Destacan la reanudación del diálogo entre el Ejecutivo y el Sindicato de Municipales</td>\n",
              "      <td id=\"T_7fe31_row11_col2\" class=\"data row11 col2\" >0.946100</td>\n",
              "    </tr>\n",
              "    <tr>\n",
              "      <th id=\"T_7fe31_level0_row12\" class=\"row_heading level0 row12\" >2</th>\n",
              "      <td id=\"T_7fe31_row12_col0\" class=\"data row12 col0\" >114850341</td>\n",
              "      <td id=\"T_7fe31_row12_col1\" class=\"data row12 col1\" >Con dificultades, Guillermo Francos intenta reunir a toda la oposición para consensuar la agenda parlamentaria</td>\n",
              "      <td id=\"T_7fe31_row12_col2\" class=\"data row12 col2\" >0.921300</td>\n",
              "    </tr>\n",
              "    <tr>\n",
              "      <th id=\"T_7fe31_level0_row13\" class=\"row_heading level0 row13\" >13</th>\n",
              "      <td id=\"T_7fe31_row13_col0\" class=\"data row13 col0\" >114879626</td>\n",
              "      <td id=\"T_7fe31_row13_col1\" class=\"data row13 col1\" >Maximiliano Abad presentó un proyecto para cambiar la Ley de Lavado de Activos</td>\n",
              "      <td id=\"T_7fe31_row13_col2\" class=\"data row13 col2\" >0.893900</td>\n",
              "    </tr>\n",
              "    <tr>\n",
              "      <th id=\"T_7fe31_level0_row14\" class=\"row_heading level0 row14\" >1</th>\n",
              "      <td id=\"T_7fe31_row14_col0\" class=\"data row14 col0\" >114836014</td>\n",
              "      <td id=\"T_7fe31_row14_col1\" class=\"data row14 col1\" >Primer encuentro por el Consejo de Mayo: el Gobierno recibe hoy al triunvirato de la CGT</td>\n",
              "      <td id=\"T_7fe31_row14_col2\" class=\"data row14 col2\" >0.856500</td>\n",
              "    </tr>\n",
              "    <tr>\n",
              "      <th id=\"T_7fe31_level0_row15\" class=\"row_heading level0 row15\" >14</th>\n",
              "      <td id=\"T_7fe31_row15_col0\" class=\"data row15 col0\" >114828603</td>\n",
              "      <td id=\"T_7fe31_row15_col1\" class=\"data row15 col1\" >Sturzenegger adelantó cuándo la mandará al Congreso la Ley Hojarasca y aseguró que es \"una limpieza legislativa\"</td>\n",
              "      <td id=\"T_7fe31_row15_col2\" class=\"data row15 col2\" >0.787600</td>\n",
              "    </tr>\n",
              "    <tr>\n",
              "      <th id=\"T_7fe31_level0_row16\" class=\"row_heading level0 row16\" >10</th>\n",
              "      <td id=\"T_7fe31_row16_col0\" class=\"data row16 col0\" >114818767</td>\n",
              "      <td id=\"T_7fe31_row16_col1\" class=\"data row16 col1\" >\"Esperamos que el proyecto de Kicillof sea superador, si no deberemos adherir al RIGI\"</td>\n",
              "      <td id=\"T_7fe31_row16_col2\" class=\"data row16 col2\" >0.780700</td>\n",
              "    </tr>\n",
              "  </tbody>\n",
              "</table>\n"
            ],
            "text/plain": [
              "<pandas.io.formats.style.Styler at 0x250b711efd0>"
            ]
          },
          "execution_count": 58,
          "metadata": {},
          "output_type": "execute_result"
        }
      ],
      "source": [
        "# Definir la función de estilo\n",
        "def color_rows(row, label, value):\n",
        "    if row[label] >= value:\n",
        "        return ['color: cyan'] * len(row)\n",
        "    else:\n",
        "        return [''] * len(row)\n",
        "\n",
        "# Calcular la media\n",
        "threshold = df_query.score.mean()\n",
        "\n",
        "print(f\"Topico N°: {topic_id} --> {topic_labels[topic_id+1]}\" )\n",
        "print(f\"Umbral de corte {threshold}\")\n",
        "\n",
        "df_query.sort_values('score', ascending=False, inplace=True)\n",
        "df_query.style.apply(lambda row: color_rows(row, 'score', threshold), axis=1).set_properties(subset=['titulo'], **{'text-align': 'left'})"
      ]
    },
    {
      "cell_type": "markdown",
      "metadata": {
        "id": "_P-1fHJ2N_Bf"
      },
      "source": [
        "#### Documentos mas representativos de un topico"
      ]
    },
    {
      "cell_type": "markdown",
      "metadata": {
        "id": "X7uKkzfWN_Bg"
      },
      "source": [
        "- [1]  Desde el metodo del modelo"
      ]
    },
    {
      "cell_type": "code",
      "execution_count": 59,
      "metadata": {
        "id": "LifmcWPCN_Bg"
      },
      "outputs": [
        {
          "name": "stdout",
          "output_type": "stream",
          "text": [
            "Topico N°: 5 --> 5_ley_reforma laboral_trabajo\n"
          ]
        },
        {
          "data": {
            "text/plain": [
              "['Dos de los tres dirigentes de la CGT se reunieron con el Secretario de Trabajo para reclamar que se revise el piso de Ganancias y que se retire parte del DNU en relación a la reforma laboral Convocados por el Gobierno dos miembros del triunvirato que lidera la Confederación General de Trabajo CGT se reunieron este martes a las 13 en la sede de la Secretaría de Trabajo para reclamar la revisión de los puntos de la reforma laboral y del piso del pago del impuesto a las Ganancias entre otros temas Vamos a solicitarle que retire parte del DNU buen gesto Vamos a plantear las incoherencias de un texto muy mal escrito anunció Héctor Daer antes de entrar a la reunión con Carlos Acuña por parte de la CGT y con el titular de Trabajo Julio Cordero cara del Gobierno Sin la participación de Pablo Moyano los triunviros dialoguistas insistieron en la necesidad de que el Gobierno desista del apartado laboral del DNU de diciembre de 2023 que no está en vigencia debido a la presentación judicial de la CGT La semana que viene se juntan con los empresarios y la otra semana va a haber una mesa técnica para definir con precisión la reglamentación de estos artículos que tienen una gran vaguedad y que salieron del capítulo laboral de la Ley Bases dijo Daer tras el encuentro Vamos a tener respuesta sobre dos temas que pedimos que son la Corte y la modificación del punto de partida del Impuesto a las Ganancias anticipó Lo de la Corte se refiere al pedido de que se retire la apelación hecha por la Procuraduría General de la Nación ante la Corte Suprema de Justicia a la sentencia favorable a la postura de CGT sobre la inconstitucionalidad por el capitulo laboral del DNU 70 23 obtenida en Cámara de Apelaciones del Trabajo Héctor Daer confirmó que hoy en día no hay relación entre la CGT y el Gobierno de Javier Milei y desde la entidad sindicalista hicieron cuestionamientos a los artículos que fueran votados por el Congreso respecto a aspectos de la llamada reforma Laboral Libertad Sindical Protección antidiscriminatoria Intermediación Laboral trabajadores colaboradores autónomos y fiscalización del empleo informal El compromiso es el de permitir dentro de la reglamentación pertinente las observaciones que el equipo técnico legal de CGT acerque a la secretaria que se mantendrán reuniones al respecto dentro de los próximos 15 días agregó Daer La CGT rechazó la reincorporación del impuesto de Ganancias sobre la cuarta categoría y consideró que más allá de las presentaciones judiciales que cada gremio considere realizar a este respecto son inviables los pisos salariales que fueron tenidos en cuenta a los efectos de esta ley en diciembre del año pasado lo cual debieran considerarse de persistir este capitulo legal la actualización por inflación desde entonces En esa línea la entidad pidió al Gobierno la agilización inmediata de los acuerdos ya firmados y aun no homologados y manifestó la postura que la gestión de Javier Milei no contempla la producción el desarrollo y el trabajo privilegiando solo la cuestión monetaria e inflacionaria Destacamos el actual estado de profunda recesión perdidas de empleos en todas las actividades y caída del poder adquisitivo de trabajadores activos regulares e informales y pasivos con una falta de perspectivas de mejoras de recuperación económica en el corto plazo expresaron desde la central El contenido al que quiere acceder es exclusivo para suscriptores Temas Dejá tu comentario Te puede interesar Lo que se lee ahora Las Más Leídas MEDIAKIT MINUTOUNO TARIFARIO MINUTOUNO Propietario Desarrollos Electrónicos Informáticos S A Domicilio Uriarte 1899 CABA RNPI En trámite',\n",
              " 'La central obrera llevó esas propuestas a la reunión con el secretario de Trabajo Julio Cordero La dirigencia sindical sostiene que el proyecto de ley para reinstalar el Impuesto a las Ganancias y que estableció un piso de $1 800 000 se hizo en enero y hoy los valores son otros Héctor Daer el único de los cosecretarios de la CGT que se acercó esta tarde a la Secretaría de Trabajo Los titulares de la CGT Héctor Daer y Carlos Acuña le reclamaron al secretario de Trabajo Julio Cordero que el Gobierno eleve el piso a partir del cual se volverá a pagar el impuesto a las Ganancias que arroje precisión en la reglamentación de la reforma laboral contenida en la Ley Bases y que retire la apelación ante la Corte Suprema de Justicia contra un reclamo de inconstitucionalidad del capítulo laboral del mega DNU 70 23 Respecto del mínimo no imponible del Impuesto a las Ganancias que se reinstaló para los trabajadores en relación de dependencia Daer sostuvo que el proyecto de ley se hizo en enero y hoy los valores son otros La inflación de enero a esta parte generó que los $1 800 000 tenían un valor que hoy ya no tienen Con lo que en enero se compraban diez kilos de pan hoy se compran cinco La central obrera ya recurrió a la Justicia para reclamar por la reversión del impuesto a las Ganancias porque sostiene que la modificación no cuenta con el aval del Senado cuya mayoría votó en contra Sobre la mesa está la posibilidad de que decenas de gremios presenten amparos de manera independiente Si el proyecto original de enero fue de $1 800 000 para solteros y 2 2 millones para casados hace 5 meses no puede seguir siendo lo porque en el medio hubo 60 por ciento de inflación argumentó Daer Los sindicalistas creen que el Gobierno podría ajustar el mínimo no imponible por decreto Junto a una comitiva sindical los cegetistas fueron recibidos este martes por Cordero y funcionarios del área en un gesto del Gobierno con miras a romper el hielo evitar un nuevo paro contra la gestión de Javier Milei y abrir un diálogo tripartito del que también formarán parte los empresarios más poderosos del país con quienes habrá otro encuentro la semana próxima En la reunión realizada en el piso 18 de la Secretaría de Trabajo participaron además de Daer y Acuña Abel Furlán UOM Gerardo Martínez Uocra Andrés Rodríguez UPCN José Luis Lingeri Obras Sanitarias y Jorge Sola Seguros entre otros Pablo Moyano el tercer cotitular de la CGT estuvo ausente con aviso Cordero quien estuvo acompañado por subsecretarios de Trabajo calificó la cumbre cordial Recibimos las principales preocupaciones planteadas por los dirigentes de la CGT y hemos propuesto la constitución de una mesa de diálogo social tripartito que incluya al sector empresario agregó Cordero En ese sentido el funcionario recibirá la semana próxima a los popes del Grupo de los Seis G6 integrado por la Unión Industrial Argentina UIA que preside Daniel Funes de Rioja la Cámara Argentina de la Construcción Camarco la Asociación de Bancos Argentinos Adeba la Bolsa de Comercio de Buenos Aires la Cámara Argentina de Comercio CAC y la Sociedad Rural Argentina Para la semana siguiente se espera una mesa tripartita entre el Gobierno la CGT y los empresarios en una especie de reunión preparatoria del Consejo de Mayo el organismo ideado por Milei en el Pacto de Mayo que por ahora no parece concitar mayor interés en la central obrera Suba del piso del Impuesto a las Ganancias Por el contrario los cegetistas abordaron a Cordero con un pliego de pedidos y uno de los principales fue la suba del mínimo no imponible de Ganancias un impuesto que volvió a cobrar vigencia con la sanción del paquete fiscal con un piso de $ 1 800 000 para solteros y $ 2 200 000 para casados con hijos Si el proyecto original fue a fines de diciembre con estos mismos valores transcurridos todos estos meses hasta que se promulga el paquete fiscal lo que habría que hacer es modificar la base de cálculo porque en el medio tuvimos un 60% 70% de inflación que no está contemplada en el paquete fiscal y hoy es un valor en términos reales muchísimo menor planteó Daer En una rueda de prensa el titular del gremio de Sanidad ratificó que la CGT no llevará a la Justicia el planteo de la restitución de Ganancias pero habilita a que los sindicatos que la integran realicen presentaciones individuales Se basan en que el Senado rechazó la vuelta del impuesto la Cámara de Diputados no podría haber insistido El no haber tenido tratamiento bicameral rompe con el criterio de formación de las leyes consideró Daer Por otra parte la CGT espera que en la reunión con empresarios se aborde la reglamentación de la reforma laboral para finalmente cerrar el tema en la reunión tripartita Ven con preocupación la vaguedad de algunos artículos de la Ley Bases el 94 que establece que los bloqueos o tomas de establecimientos configuran una grave injuria laboral y pueden ser causal de despido Otro de los ítems que tildan de ambiguo es la posibilidad de un trabajador independiente de contratar hasta otros tres trabajadores independientes colaboradores sin que exista relación de dependencia También hubo un pedido especial en torno a la eliminación de multas por trabajo no registrado la CGT solicitó que haya un acuerdo con las provincias para fiscalizar la situación del trabajo informal en todo el país Hay un montón de provincias que prácticamente no tienen inspectores Inclusive en el propio Ministerio Nacional hay cinco inspectores con eso no se puede verificar nada Hay que fortalecer ese tema para que no sea un jubileo de tomar trabajadores en la informalidad dijo',\n",
              " 'Se ausentaron dos miembros del triunvirato Pablo Moyano y el barrionuevista Carlos Acuña Buenos Aires 16 julio NA La cúpula de la CGT sin la presencia del miembro del triunvirato Pablo Moyano se reunió con el secretario de Trabajo Julio Cordero a quien le solicitó que se retire la reforma laboral del DNU luego de los cambios en esa materia que se implementarán con la aprobación de la Ley de Bases en el Congreso Vamos a solicitarle que retire parte del DNU buen gesto Vamos a plantear las incoherencias de un texto muy mal escrito dijo el cosecretario general Héctor Daer antes de a la reunión realizada en la sede de la cartera laboral en la calle Leandro N Alem El apartado laboral del mega DNU no está en vigencia debido a la el sindicalismo logró trabarlo en la Justicia laboral La semana que viene se juntan con los empresarios y la otra semana va a haber una mesa técnica para definir con precisión la reglamentación de estos artículos que tienen una gran vaguedad y que salieron del capítulo laboral de la Ley Bases Y vamos a tener respuesta sobre dos temas que pedimos que son la Corte y la modificación del punto de partida del Impuesto a las Ganancias agregó Daer tras retirarse del lugar La central obrera luego difundió los pedidos que hicieron a la gestión libertaria en medio de las tensiones y de que la CGT remarcara días atrás que no hay relación con el Gobierno Se solicitó que se retire la apelación hecha por la Procuraduría General de la Nación ante la Corte Suprema de Justicia a la sentencia favorable a la postura de CGT sobre la inconstitucionalidad por el capitulo laboral del DNU 70 23 obtenida en Cámara de Apelaciones del Trabajo sostuvo la entidad de la calle Azopardo También se precisó que sobre la aprobada Ley Bases hicieron cuestionamientos a los artículos que fueran votados por el Congreso respecto a aspectos de la llamada reforma Laboral Libertad Sindical Protección antidiscriminatoria Intermediación Laboral trabajadores colaboradores autónomos y fiscalización del empleo informal El compromiso es el de permitir dentro de la reglamentación pertinente las observaciones que el equipo técnico legal de CGT acerque a la secretaria que se mantendrán reuniones al respecto dentro de los próximos 15 días se precisó También la CGT expresó el rechazo a la reincorporación del impuesto de Ganancias sobre la cuarta categoría y consideró que más allá de las presentaciones judiciales que cada gremio considere realizar a este respecto son inviables los pisos salariales que fueron tenidos en cuenta a los efectos de esta ley en diciembre del año pasado lo cual debieran considerarse de persistir este capitulo legal la actualización por inflación desde entonces Además solicitó al Gobierno la agilización inmediata de los acuerdos ya firmados y aun no homologados y manifestó la postura que la gestión de Javier Milei no contempla la producción el desarrollo y el trabajo privilegiando solo la cuestión monetaria e inflacionaria Destacamos el actual estado de profunda recesión perdidas de empleos en todas las actividades y caída del poder adquisitivo de trabajadores activos regulares e informales y pasivos con una falta de perspectivas de mejoras de recuperación económica en el corto plazo finalizó la central Las tensiones internas en CGT volvieron a aflorar en las semanas tras la aprobación de la Ley de Bases que los gremialistas buscaron bloquear en el Congreso sin éxito en especial sobre la estrategia a desplegar ante el gobierno de Javier Milei Esto quedó reflejado este martes ya que a la reunión no asistió el camionero Pablo Moyano ni ningún otro dirigente de ese sector el FRESIMONA Concurrió una comitiva de la central integrada en su mayoría por dirigentes de perfil dialoguista entre ellos los cosecretarios generales Héctor Daer y Carlos Acuña además Andrés Rodríguez UPCN Gerardo Martínez UOCRA Armando Cavalieri Comercio José Luis Lingeri Obras Sanitarias Jorge Sola Seguros Noe Ruíz Modelos y Maia Volcovinsky Judiciales']"
            ]
          },
          "execution_count": 59,
          "metadata": {},
          "output_type": "execute_result"
        }
      ],
      "source": [
        "docs_representative = topic_model.get_representative_docs(topic=topic_id)\n",
        "print(f\"Topico N°: {topic_id} --> {topic_labels[topic_id+1]}\" )\n",
        "docs_representative"
      ]
    },
    {
      "cell_type": "markdown",
      "metadata": {
        "id": "a-1Q3ReVN_Bg"
      },
      "source": [
        "- [2] Por similitud coseno del topico a los tres documento mas cercanos"
      ]
    },
    {
      "cell_type": "code",
      "execution_count": 60,
      "metadata": {
        "id": "vFCtpfj-N_Bh"
      },
      "outputs": [
        {
          "data": {
            "text/plain": [
              "(13, 500)"
            ]
          },
          "execution_count": 60,
          "metadata": {},
          "output_type": "execute_result"
        }
      ],
      "source": [
        "# Obtenemos la matriz de similitud coseno entre topicos y documentos\n",
        "sim_matrix = cosine_similarity(topic_model.topic_embeddings_, docs_embedding)\n",
        "sim_matrix.shape"
      ]
    },
    {
      "cell_type": "code",
      "execution_count": 61,
      "metadata": {
        "id": "sCtO8yBMN_Bh"
      },
      "outputs": [
        {
          "name": "stdout",
          "output_type": "stream",
          "text": [
            "Topico N°: 5 --> 5_ley_reforma laboral_trabajo\n",
            "8 La CGT se reunió con el Gobierno: cuáles fueron los principales temas que trataron\n",
            "0 El Gobierno recibe a la CGT para evitar otro paro e intentar acercar posiciones sobre la reforma laboral\n",
            "9 Un paso más para la ley de Función Pública, con la que se introducen nuevos complementos salariales y evaluaciones a los funcionarios\n"
          ]
        }
      ],
      "source": [
        "# Similitud coseno entre el topico y los documentos del topico elegido\n",
        "s_coseno = []\n",
        "for i in docs_per_topics:\n",
        "    s_coseno.append(cosine_similarity([topic_model.topic_embeddings_[topic_id + 1]], [docs_embedding[i]])[0][0])\n",
        "\n",
        "# Indices\n",
        "idx_coseno_sort = np.argsort(s_coseno)[::-1]\n",
        "\n",
        "print(f\"Topico N°: {topic_id} --> {topic_labels[topic_id+1]}\" )\n",
        "\n",
        "for idx in idx_coseno_sort[:3]:\n",
        "    print(idx, df_parquet.iloc[docs_per_topics[idx]].title)\n"
      ]
    },
    {
      "cell_type": "markdown",
      "metadata": {
        "id": "QAvGGp2JN_Bh"
      },
      "source": [
        "- [3] Primer documento mas cercano al embedding del topico"
      ]
    },
    {
      "cell_type": "code",
      "execution_count": 62,
      "metadata": {
        "id": "CmKsuTeVN_Bi"
      },
      "outputs": [
        {
          "name": "stdout",
          "output_type": "stream",
          "text": [
            "Noticia de maxima similitud con el topico: 5\n",
            "Doc ID: 270\n",
            "Titulo: La CGT se reunió con el Gobierno: cuáles fueron los principales temas que trataron\n"
          ]
        }
      ],
      "source": [
        "# Documento de maxima similitud con el topico\n",
        "\n",
        "simil_docs_topic = sim_matrix[topic_id+ 1].argmax()\n",
        "print(f\"Noticia de maxima similitud con el topico: {topic_id}\")\n",
        "print(f\"Doc ID: {df_parquet.index[simil_docs_topic]}\")\n",
        "print(f\"Titulo: {df_parquet.iloc[simil_docs_topic].title}\")\n",
        "best_doc = data[simil_docs_topic]"
      ]
    },
    {
      "cell_type": "markdown",
      "metadata": {},
      "source": [
        "#### Keywords de un topico (modelo)"
      ]
    },
    {
      "cell_type": "code",
      "execution_count": 63,
      "metadata": {},
      "outputs": [
        {
          "name": "stdout",
          "output_type": "stream",
          "text": [
            "Topico N°: 5 --> 5_ley_reforma laboral_trabajo\n",
            "[('ley', 0.08245241915831054), ('reforma laboral', 0.07461784397199081), ('trabajo', 0.068597288734888), ('trabajadores', 0.05942632711064971), ('impuesto', 0.05822546706153823), ('central obrera', 0.05596016274610773), ('gobierno', 0.05040611461608377), ('reforma', 0.04999193554441989), ('reunión', 0.0412411796698818), ('mayo', 0.040234227138189485)]\n"
          ]
        }
      ],
      "source": [
        "# Obtener las palabras clave para un topico dado\n",
        "topic_keywords = topic_model.get_topic(topic_id)\n",
        "print(f\"Topico N°: {topic_id} --> {topic_labels[topic_id+1]}\" )\n",
        "print(topic_keywords)"
      ]
    },
    {
      "cell_type": "markdown",
      "metadata": {
        "id": "PyWurS2NN_Bi"
      },
      "source": [
        "#### Keywords de un topico (otra forma de obtenerlos)"
      ]
    },
    {
      "cell_type": "code",
      "execution_count": 64,
      "metadata": {
        "id": "9pK_nj_pN_Bi"
      },
      "outputs": [
        {
          "name": "stdout",
          "output_type": "stream",
          "text": [
            "Topico N°: 5 --> 5_ley_reforma laboral_trabajo\n"
          ]
        },
        {
          "data": {
            "text/plain": [
              "[{'name': 'ley', 'score': 0.08245241915831054},\n",
              " {'name': 'reforma laboral', 'score': 0.07461784397199081},\n",
              " {'name': 'trabajo', 'score': 0.068597288734888},\n",
              " {'name': 'trabajadores', 'score': 0.05942632711064971},\n",
              " {'name': 'impuesto', 'score': 0.05822546706153823},\n",
              " {'name': 'central obrera', 'score': 0.05596016274610773},\n",
              " {'name': 'gobierno', 'score': 0.05040611461608377},\n",
              " {'name': 'reforma', 'score': 0.04999193554441989},\n",
              " {'name': 'reunión', 'score': 0.0412411796698818},\n",
              " {'name': 'mayo', 'score': 0.040234227138189485}]"
            ]
          },
          "execution_count": 64,
          "metadata": {},
          "output_type": "execute_result"
        }
      ],
      "source": [
        "keywords = topic_model.topic_representations_[topic_id]\n",
        "topic_keywords = [TopicKeyword(name=keyword, score=score) for keyword, score in keywords if keyword != '']\n",
        "print(f\"Topico N°: {topic_id} --> {topic_labels[topic_id+1]}\" )\n",
        "topic_keywords"
      ]
    },
    {
      "cell_type": "markdown",
      "metadata": {},
      "source": [
        "### Top keywords de un topico"
      ]
    },
    {
      "cell_type": "code",
      "execution_count": 65,
      "metadata": {
        "id": "6nCejcoRN_Bi"
      },
      "outputs": [
        {
          "name": "stdout",
          "output_type": "stream",
          "text": [
            "umbral keywords: 0.058115296575206\n"
          ]
        },
        {
          "data": {
            "text/plain": [
              "{'ley': 0.08245241915831054,\n",
              " 'reforma laboral': 0.07461784397199081,\n",
              " 'trabajo': 0.068597288734888,\n",
              " 'trabajadores': 0.05942632711064971,\n",
              " 'impuesto': 0.05822546706153823}"
            ]
          },
          "execution_count": 65,
          "metadata": {},
          "output_type": "execute_result"
        }
      ],
      "source": [
        "# Calculo de umbral de corte para las keywords\n",
        "def keywords_umbral(topic_keywords):\n",
        "    freq_k = []\n",
        "    for name_score in topic_keywords:\n",
        "        freq_k.append(name_score['score'])\n",
        "    umbral_k = np.array(freq_k).mean()\n",
        "    print(f\"umbral keywords: {umbral_k}\")\n",
        "\n",
        "    topic_keywords_top = {}\n",
        "    for name_score in topic_keywords:\n",
        "        if name_score['score'] >= umbral_k:\n",
        "            topic_keywords_top[name_score['name']] = name_score['score']\n",
        "\n",
        "    return topic_keywords_top\n",
        "\n",
        "keywords_umbral(topic_keywords)"
      ]
    },
    {
      "cell_type": "markdown",
      "metadata": {},
      "source": [
        "### Top Entities de un topico"
      ]
    },
    {
      "cell_type": "code",
      "execution_count": 66,
      "metadata": {},
      "outputs": [
        {
          "name": "stdout",
          "output_type": "stream",
          "text": [
            "umbral entities: 0.9499705882352941\n"
          ]
        },
        {
          "data": {
            "text/plain": [
              "{'Javier Milei': 4,\n",
              " 'Ganancias': 4,\n",
              " 'Gobierno': 4,\n",
              " 'CGT': 3,\n",
              " 'Héctor Daer': 3,\n",
              " 'Julio Cordero': 2,\n",
              " 'Gobierno nacional': 2,\n",
              " 'Corte': 2,\n",
              " 'agregó Daer': 2,\n",
              " 'Carlos Acuña': 2}"
            ]
          },
          "execution_count": 66,
          "metadata": {},
          "output_type": "execute_result"
        }
      ],
      "source": [
        "threshold = df_query.score.mean()\n",
        "print(f\"umbral entities: {threshold}\")\n",
        "\n",
        "entities_topic = []\n",
        "for doc_ID in list(df_query[df_query[\"score\"] > threshold]['ID']):\n",
        "    entities_topic.append(get_entities_news(doc_ID))\n",
        "\n",
        "# Crear un diccionario para contar en cuántos documentos aparece cada palabra\n",
        "document_frequencies = defaultdict(int)\n",
        "\n",
        "# Crear un conjunto para cada documento y contar las palabras únicas\n",
        "for lista in entities_topic:\n",
        "    unique_words = set(lista)\n",
        "    for palabra in unique_words:\n",
        "        document_frequencies[palabra] += 1\n",
        "\n",
        "# Ordenar las palabras por la frecuencia de documentos de mayor a menor\n",
        "sorted_frequencies = sorted(document_frequencies.items(), key=lambda item: item[1], reverse=True)\n",
        "\n",
        "# Calcular el umbral\n",
        "freq_e = [item[1] for item in sorted_frequencies]\n",
        "umbral_e = np.mean(freq_e)\n",
        "\n",
        "# Obtener el resultado ordenado de las primeras 10 entidades segun criterio de corte\n",
        "topic_entities_top = {}\n",
        "c=0\n",
        "for idx in range(len(sorted_frequencies)):\n",
        "    if sorted_frequencies[idx][1] >= umbral_e:\n",
        "        if c != 10:\n",
        "            topic_entities_top[sorted_frequencies[idx][0]] = sorted_frequencies[idx][1]\n",
        "        else:\n",
        "            break\n",
        "        c += 1 \n",
        "\n",
        "    elif len(topic_entities_top) <= 3:\n",
        "        topic_entities_top[sorted_frequencies[idx][0]] = sorted_frequencies[idx][1]\n",
        "\n",
        "topic_entities_top\n",
        "\n"
      ]
    },
    {
      "cell_type": "markdown",
      "metadata": {},
      "source": [
        "### Obtener los titulos de noticias del topico filtrado por umbral de corte "
      ]
    },
    {
      "cell_type": "code",
      "execution_count": 67,
      "metadata": {},
      "outputs": [
        {
          "name": "stdout",
          "output_type": "stream",
          "text": [
            "0.9499705882352941\n"
          ]
        },
        {
          "data": {
            "text/plain": [
              "['El Gobierno recibe a la CGT para evitar otro paro e intentar acercar posiciones sobre la reforma laboral',\n",
              " 'En busca de básicos por encima del millón de pesos, UTA se reúne con empresas de transporte del interior',\n",
              " 'La CGT se reunió con el Gobierno y pidió que se retire parte de la reforma laboral del DNU',\n",
              " 'La CGT le reclamó al gobierno que eleve el piso de Ganancias y reglamente con precisión la reforma laboral',\n",
              " 'Un paso más para la ley de Función Pública, con la que se introducen nuevos complementos salariales y evaluaciones a los funcionarios',\n",
              " 'Acindar firmó un incremento salarial del 107% y la UOM levantó la huega',\n",
              " 'La CGT se reunió con el Gobierno: cuáles fueron los principales temas que trataron',\n",
              " 'Fallo ordena pagar las quincenas a tres albañiles que armaron la estructura de un edificio',\n",
              " 'La CGT le planteó al Gobierno dos condiciones para integrar el Consejo de Mayo',\n",
              " 'Paro docente: Llaryora dijo que harán una nueva propuesta y pedirán la conciliación obligatoria',\n",
              " 'Subsidios de energía : El Municipio de La Plata informa casa por casa a los vecinos que podrían perder el beneficio']"
            ]
          },
          "execution_count": 67,
          "metadata": {},
          "output_type": "execute_result"
        }
      ],
      "source": [
        "topic_documents_title, threshold = topic_documents(topic_id, topic_model, df_parquet)\n",
        "print(threshold)\n",
        "topic_documents_title"
      ]
    },
    {
      "cell_type": "markdown",
      "metadata": {},
      "source": [
        "### Generar un nombre de topico con LLM ( Open AI)\n",
        "- Validar OPENAI_API_KEY en .env"
      ]
    },
    {
      "cell_type": "code",
      "execution_count": 68,
      "metadata": {},
      "outputs": [
        {
          "name": "stdout",
          "output_type": "stream",
          "text": [
            "0 Actualidad y sucesos impactantes.\n",
            "1 Crisis y cambios en Boca Juniors\n",
            "2 Actividades culturales en vacaciones\n",
            "3 Reestructuración de servicios de inteligencia\n",
            "4 Problemas sociales y servicios públicos\n",
            "5 Negociaciones laborales y reformas sociales\n",
            "6 Mercados financieros y criptomonedas.\n",
            "7 Pronóstico del clima en Argentina\n",
            "8 Crisis económica y agrícola actual\n",
            "9 Impacto del Pacto de Mayo en Neuquén\n",
            "10 Transformación de clubes en SAD\n",
            "11 Iniciativas y proyectos comunitarios locales\n"
          ]
        }
      ],
      "source": [
        "for topic_id in topic_model.get_topics().keys():\n",
        "    if topic_id > -1:\n",
        "        topic_documents_title, threshold  = topic_documents(topic_id, topic_model, df_parquet)        \n",
        "        print(f\"{topic_id} {get_topic_name(''.join(topic_documents_title), topic_id, topic_model, client)}\")"
      ]
    },
    {
      "cell_type": "markdown",
      "metadata": {
        "id": "AJUr6_NTN_Bk"
      },
      "source": [
        "### Recuperar todos los topicos desde el indice Topic de la base"
      ]
    },
    {
      "cell_type": "code",
      "execution_count": 69,
      "metadata": {
        "id": "hgldS9M_N_Bk"
      },
      "outputs": [
        {
          "name": "stdout",
          "output_type": "stream",
          "text": [
            "0 Actualidad y sucesos impactantes.\n",
            "1 Crisis y cambios en Boca Juniors\n",
            "2 Actividades culturales en invierno\n",
            "3 Reestructuración de servicios de inteligencia\n",
            "4 Problemas sociales y servicios básicos\n",
            "5 Negociaciones laborales y reformas gubernamentales\n",
            "6 Mercados financieros y criptomonedas.\n",
            "7 Pronóstico del clima en Argentina\n",
            "8 Impacto económico en la agricultura\n",
            "9 Impacto del Pacto de Mayo en Neuquén\n",
            "10 Transformación de clubes deportivos\n",
            "11 Iniciativas comunitarias y desarrollo local\n"
          ]
        }
      ],
      "source": [
        "index_name = 'topic'\n",
        "\n",
        "topics_list = []\n",
        "for i, doc in enumerate(Topic.search().query().scan()):\n",
        "    topics_list.append(doc.to_dict())\n",
        "    print(topics_list[i]['index'], topics_list[i]['name'])"
      ]
    },
    {
      "cell_type": "markdown",
      "metadata": {},
      "source": [
        "### Busqueda de 5 documentos del indice news de la base correspondiente a un topico\n",
        "** (devuelve los docs que han sido marcados en el campo process en True )"
      ]
    },
    {
      "cell_type": "code",
      "execution_count": 70,
      "metadata": {},
      "outputs": [
        {
          "name": "stdout",
          "output_type": "stream",
          "text": [
            "Topico N°: 9 --> Impacto del Pacto de Mayo en Neuquén\n"
          ]
        }
      ],
      "source": [
        "topic_id = np.random.randint(len(set(topic_model.topics_))-1) # Obtener un topico al azar\n",
        "print(f\"Topico N°: {topic_id} --> {topics_list[topic_id]['name']}\" )"
      ]
    },
    {
      "cell_type": "code",
      "execution_count": 71,
      "metadata": {},
      "outputs": [
        {
          "name": "stdout",
          "output_type": "stream",
          "text": [
            "Topico N°: 9 --> Impacto del Pacto de Mayo en Neuquén\n",
            "La insólita explicación de Riquelme sobre la polémica en Boca\n",
            "El Gobierno anunció superávit financiero por sexto mes consecutivo\n",
            "La insólita explicación de Riquelme sobre la polémica por los refuerzos en Boca\n",
            "Qué son las SAD y qué cambios implican para los clubes deportivos del país\n",
            "La Voz -Martes 16/07/2024\n"
          ]
        }
      ],
      "source": [
        "topic_embedding = topics_list[topic_id]['vector']\n",
        "\n",
        "index_name = 'news'\n",
        "# Crear una consulta KNN para buscar embeddings cercanos\n",
        "knn_query = {\n",
        "    \"size\": 5,  # Número de resultados que deseas obtener\n",
        "    \"query\": {\n",
        "        \"bool\": {\n",
        "            \"must\": [\n",
        "                {\n",
        "                    \"knn\": {\n",
        "                        \"vector\": {\n",
        "                            \"vector\": topic_embedding,\n",
        "                            \"k\": 10  # Número de vecinos más cercanos\n",
        "                        }\n",
        "                    }\n",
        "                },\n",
        "                {\n",
        "                    \"term\": {\n",
        "                        \"process\": True  # Solo incluir documentos donde 'process' es True\n",
        "                    }\n",
        "                }\n",
        "            ],\n",
        "            \"filter\": {\n",
        "                \"exists\": {\n",
        "                    \"field\": \"vector\"  # Solo incluir documentos que tienen el campo 'vector'\n",
        "                }\n",
        "            }\n",
        "        }\n",
        "    }\n",
        "}\n",
        "# Realizar la búsqueda\n",
        "response_topic = os_client.search(index=index_name, body=knn_query)\n",
        "\n",
        "# Obtener el tópico más cercano\n",
        "print(f\"Topico N°: {topic_id} --> {topics_list[topic_id]['name']}\" )\n",
        "\n",
        "if response_topic['hits']['total']['value'] > 0:\n",
        "    for i in [hit['_source']['title'] for hit in response_topic['hits']['hits']]:\n",
        "        print(i)\n",
        "else:\n",
        "    print(\"No se encontraron documentos cercanos al topico dado.\")"
      ]
    },
    {
      "cell_type": "markdown",
      "metadata": {
        "id": "jMH2jt5YN_Bl"
      },
      "source": [
        "### Nuevo documento consultando embeddings generados por el modelo"
      ]
    },
    {
      "cell_type": "code",
      "execution_count": 72,
      "metadata": {
        "id": "3c0ZTllTN_Bl"
      },
      "outputs": [
        {
          "name": "stdout",
          "output_type": "stream",
          "text": [
            "Topico N°: 0 --> Actualidad y sucesos impactantes.\n"
          ]
        }
      ],
      "source": [
        "new_doc = \"Fuga de presos en San Telmo\"\n",
        "\n",
        "new_doc_embedding = topic_model.embedding_model.embed(new_doc)\n",
        "sim_matrix_new = cosine_similarity(topic_model.topic_embeddings_, new_doc_embedding.reshape(1, -1))\n",
        "\n",
        "idx = np.argmax(sim_matrix_new)-1         # Topicos desde -1, 0, 1, ..., n\n",
        "print(f\"Topico N°: {topics_list[idx]['index']} --> {topics_list[idx]['name']}\" )"
      ]
    },
    {
      "cell_type": "markdown",
      "metadata": {
        "id": "lae8_RU7N_Bm"
      },
      "source": [
        "### Nuevo documento consultando embeddings de la base"
      ]
    },
    {
      "cell_type": "code",
      "execution_count": 73,
      "metadata": {
        "id": "VVylIBiFN_Bm"
      },
      "outputs": [
        {
          "name": "stdout",
          "output_type": "stream",
          "text": [
            "Topico no encontrado\n"
          ]
        }
      ],
      "source": [
        "new_doc = \"Fuga de presos en San Telmo\"\n",
        "\n",
        "new_doc_embedding = topic_model.embedding_model.embed(new_doc)\n",
        "\n",
        "# Buscamos en la base a que topico pertenece el nuevo documento\n",
        "knn_query = {\n",
        "    \"size\": 1,\n",
        "    \"query\": {\n",
        "        \"knn\": {\n",
        "            \"vector\": {\n",
        "                \"vector\": new_doc_embedding,\n",
        "                \"k\" : 3\n",
        "            }\n",
        "        }\n",
        "    }\n",
        "}\n",
        "response = os_client.search(index='topic', body=knn_query)\n",
        "\n",
        "if response['hits']['total']['value'] > 0:\n",
        "    print(f\"Topico: {response['hits']['hits'][0]['_source']['name']}\")\n",
        "    print(f\"Estimacion: {response['hits']['hits'][0]['_score']}\")\n",
        "else:\n",
        "    print(f\"Topico no encontrado\")"
      ]
    },
    {
      "cell_type": "markdown",
      "metadata": {
        "id": "fzKqZk3HN_Bm"
      },
      "source": [
        "### Graficar los topicos en 3d"
      ]
    },
    {
      "cell_type": "code",
      "execution_count": 74,
      "metadata": {
        "id": "SKNFKczxN_Bm"
      },
      "outputs": [
        {
          "data": {
            "application/vnd.plotly.v1+json": {
              "config": {
                "plotlyServerURL": "https://plot.ly"
              },
              "data": [
                {
                  "hovertemplate": "Topico=-1<br>Dim1=%{x}<br>Dim2=%{y}<br>Dim3=%{z}<br>Etiqueta=%{text}<extra></extra>",
                  "legendgroup": "-1",
                  "marker": {
                    "color": "#636efa",
                    "symbol": "circle"
                  },
                  "mode": "markers+text",
                  "name": "-1",
                  "scene": "scene",
                  "showlegend": true,
                  "text": [
                    -1
                  ],
                  "type": "scatter3d",
                  "x": [
                    13.014519691467285
                  ],
                  "y": [
                    -2.917353630065918
                  ],
                  "z": [
                    1.875910758972168
                  ]
                },
                {
                  "hovertemplate": "Topico=0 Actualidad y sucesos impactantes.<br>Dim1=%{x}<br>Dim2=%{y}<br>Dim3=%{z}<br>Etiqueta=%{text}<extra></extra>",
                  "legendgroup": "0 Actualidad y sucesos impactantes.",
                  "marker": {
                    "color": "#EF553B",
                    "symbol": "circle"
                  },
                  "mode": "markers+text",
                  "name": "0 Actualidad y sucesos impactantes.",
                  "scene": "scene",
                  "showlegend": true,
                  "text": [
                    0
                  ],
                  "type": "scatter3d",
                  "x": [
                    12.454195022583008
                  ],
                  "y": [
                    -2.2006301879882812
                  ],
                  "z": [
                    1.9982692003250122
                  ]
                },
                {
                  "hovertemplate": "Topico=1 Crisis y cambios en Boca Juniors<br>Dim1=%{x}<br>Dim2=%{y}<br>Dim3=%{z}<br>Etiqueta=%{text}<extra></extra>",
                  "legendgroup": "1 Crisis y cambios en Boca Juniors",
                  "marker": {
                    "color": "#00cc96",
                    "symbol": "circle"
                  },
                  "mode": "markers+text",
                  "name": "1 Crisis y cambios en Boca Juniors",
                  "scene": "scene",
                  "showlegend": true,
                  "text": [
                    1
                  ],
                  "type": "scatter3d",
                  "x": [
                    12.220904350280762
                  ],
                  "y": [
                    -2.771735191345215
                  ],
                  "z": [
                    2.69228458404541
                  ]
                },
                {
                  "hovertemplate": "Topico=2 Actividades culturales en invierno<br>Dim1=%{x}<br>Dim2=%{y}<br>Dim3=%{z}<br>Etiqueta=%{text}<extra></extra>",
                  "legendgroup": "2 Actividades culturales en invierno",
                  "marker": {
                    "color": "#ab63fa",
                    "symbol": "circle"
                  },
                  "mode": "markers+text",
                  "name": "2 Actividades culturales en invierno",
                  "scene": "scene",
                  "showlegend": true,
                  "text": [
                    2
                  ],
                  "type": "scatter3d",
                  "x": [
                    12.311725616455078
                  ],
                  "y": [
                    -3.103074550628662
                  ],
                  "z": [
                    1.2959537506103516
                  ]
                },
                {
                  "hovertemplate": "Topico=3 Reestructuración de servicios de inteligencia<br>Dim1=%{x}<br>Dim2=%{y}<br>Dim3=%{z}<br>Etiqueta=%{text}<extra></extra>",
                  "legendgroup": "3 Reestructuración de servicios de inteligencia",
                  "marker": {
                    "color": "#FFA15A",
                    "symbol": "circle"
                  },
                  "mode": "markers+text",
                  "name": "3 Reestructuración de servicios de inteligencia",
                  "scene": "scene",
                  "showlegend": true,
                  "text": [
                    3
                  ],
                  "type": "scatter3d",
                  "x": [
                    13.666101455688477
                  ],
                  "y": [
                    -2.600741147994995
                  ],
                  "z": [
                    2.760730743408203
                  ]
                },
                {
                  "hovertemplate": "Topico=4 Problemas sociales y servicios básicos<br>Dim1=%{x}<br>Dim2=%{y}<br>Dim3=%{z}<br>Etiqueta=%{text}<extra></extra>",
                  "legendgroup": "4 Problemas sociales y servicios básicos",
                  "marker": {
                    "color": "#19d3f3",
                    "symbol": "circle"
                  },
                  "mode": "markers+text",
                  "name": "4 Problemas sociales y servicios básicos",
                  "scene": "scene",
                  "showlegend": true,
                  "text": [
                    4
                  ],
                  "type": "scatter3d",
                  "x": [
                    13.234931945800781
                  ],
                  "y": [
                    -2.6349639892578125
                  ],
                  "z": [
                    1.1278607845306396
                  ]
                },
                {
                  "hovertemplate": "Topico=5 Negociaciones laborales y reformas gubernamentales<br>Dim1=%{x}<br>Dim2=%{y}<br>Dim3=%{z}<br>Etiqueta=%{text}<extra></extra>",
                  "legendgroup": "5 Negociaciones laborales y reformas gubernamentales",
                  "marker": {
                    "color": "#FF6692",
                    "symbol": "circle"
                  },
                  "mode": "markers+text",
                  "name": "5 Negociaciones laborales y reformas gubernamentales",
                  "scene": "scene",
                  "showlegend": true,
                  "text": [
                    5
                  ],
                  "type": "scatter3d",
                  "x": [
                    13.955708503723145
                  ],
                  "y": [
                    -2.7641143798828125
                  ],
                  "z": [
                    2.0934600830078125
                  ]
                },
                {
                  "hovertemplate": "Topico=6 Mercados financieros y criptomonedas.<br>Dim1=%{x}<br>Dim2=%{y}<br>Dim3=%{z}<br>Etiqueta=%{text}<extra></extra>",
                  "legendgroup": "6 Mercados financieros y criptomonedas.",
                  "marker": {
                    "color": "#B6E880",
                    "symbol": "circle"
                  },
                  "mode": "markers+text",
                  "name": "6 Mercados financieros y criptomonedas.",
                  "scene": "scene",
                  "showlegend": true,
                  "text": [
                    6
                  ],
                  "type": "scatter3d",
                  "x": [
                    13.208581924438477
                  ],
                  "y": [
                    -3.3296167850494385
                  ],
                  "z": [
                    2.707517385482788
                  ]
                },
                {
                  "hovertemplate": "Topico=7 Pronóstico del clima en Argentina<br>Dim1=%{x}<br>Dim2=%{y}<br>Dim3=%{z}<br>Etiqueta=%{text}<extra></extra>",
                  "legendgroup": "7 Pronóstico del clima en Argentina",
                  "marker": {
                    "color": "#FF97FF",
                    "symbol": "circle"
                  },
                  "mode": "markers+text",
                  "name": "7 Pronóstico del clima en Argentina",
                  "scene": "scene",
                  "showlegend": true,
                  "text": [
                    7
                  ],
                  "type": "scatter3d",
                  "x": [
                    13.003239631652832
                  ],
                  "y": [
                    -3.4747302532196045
                  ],
                  "z": [
                    1.2199293375015259
                  ]
                },
                {
                  "hovertemplate": "Topico=8 Impacto económico en la agricultura<br>Dim1=%{x}<br>Dim2=%{y}<br>Dim3=%{z}<br>Etiqueta=%{text}<extra></extra>",
                  "legendgroup": "8 Impacto económico en la agricultura",
                  "marker": {
                    "color": "#FECB52",
                    "symbol": "circle"
                  },
                  "mode": "markers+text",
                  "name": "8 Impacto económico en la agricultura",
                  "scene": "scene",
                  "showlegend": true,
                  "text": [
                    8
                  ],
                  "type": "scatter3d",
                  "x": [
                    12.630396842956543
                  ],
                  "y": [
                    -3.6799917221069336
                  ],
                  "z": [
                    2.1601994037628174
                  ]
                },
                {
                  "hovertemplate": "Topico=9 Impacto del Pacto de Mayo en Neuquén<br>Dim1=%{x}<br>Dim2=%{y}<br>Dim3=%{z}<br>Etiqueta=%{text}<extra></extra>",
                  "legendgroup": "9 Impacto del Pacto de Mayo en Neuquén",
                  "marker": {
                    "color": "#636efa",
                    "symbol": "circle"
                  },
                  "mode": "markers+text",
                  "name": "9 Impacto del Pacto de Mayo en Neuquén",
                  "scene": "scene",
                  "showlegend": true,
                  "text": [
                    9
                  ],
                  "type": "scatter3d",
                  "x": [
                    11.809294700622559
                  ],
                  "y": [
                    -2.545999050140381
                  ],
                  "z": [
                    1.9518436193466187
                  ]
                },
                {
                  "hovertemplate": "Topico=10 Transformación de clubes deportivos<br>Dim1=%{x}<br>Dim2=%{y}<br>Dim3=%{z}<br>Etiqueta=%{text}<extra></extra>",
                  "legendgroup": "10 Transformación de clubes deportivos",
                  "marker": {
                    "color": "#EF553B",
                    "symbol": "circle"
                  },
                  "mode": "markers+text",
                  "name": "10 Transformación de clubes deportivos",
                  "scene": "scene",
                  "showlegend": true,
                  "text": [
                    10
                  ],
                  "type": "scatter3d",
                  "x": [
                    12.870403289794922
                  ],
                  "y": [
                    -2.398040771484375
                  ],
                  "z": [
                    2.972116470336914
                  ]
                },
                {
                  "hovertemplate": "Topico=11 Iniciativas comunitarias y desarrollo local<br>Dim1=%{x}<br>Dim2=%{y}<br>Dim3=%{z}<br>Etiqueta=%{text}<extra></extra>",
                  "legendgroup": "11 Iniciativas comunitarias y desarrollo local",
                  "marker": {
                    "color": "#00cc96",
                    "symbol": "circle"
                  },
                  "mode": "markers+text",
                  "name": "11 Iniciativas comunitarias y desarrollo local",
                  "scene": "scene",
                  "showlegend": true,
                  "text": [
                    11
                  ],
                  "type": "scatter3d",
                  "x": [
                    13.835502624511719
                  ],
                  "y": [
                    -3.2621309757232666
                  ],
                  "z": [
                    1.5744035243988037
                  ]
                },
                {
                  "hovertemplate": "Topico=>>Fuga de presos <br>Dim1=%{x}<br>Dim2=%{y}<br>Dim3=%{z}<br>Etiqueta=%{text}<extra></extra>",
                  "legendgroup": ">>Fuga de presos ",
                  "marker": {
                    "color": "#ab63fa",
                    "symbol": "circle"
                  },
                  "mode": "markers+text",
                  "name": ">>Fuga de presos ",
                  "scene": "scene",
                  "showlegend": true,
                  "text": [
                    "Fuga de presos "
                  ],
                  "type": "scatter3d",
                  "x": [
                    12.988417625427246
                  ],
                  "y": [
                    -1.8133745193481445
                  ],
                  "z": [
                    1.7503727674484253
                  ]
                }
              ],
              "layout": {
                "autosize": false,
                "height": 800,
                "legend": {
                  "title": {
                    "text": "Topico"
                  },
                  "tracegroupgap": 0
                },
                "margin": {
                  "b": 65,
                  "l": 65,
                  "r": 50,
                  "t": 90
                },
                "scene": {
                  "domain": {
                    "x": [
                      0,
                      1
                    ],
                    "y": [
                      0,
                      1
                    ]
                  },
                  "xaxis": {
                    "title": {
                      "text": "Dim1"
                    }
                  },
                  "yaxis": {
                    "title": {
                      "text": "Dim2"
                    }
                  },
                  "zaxis": {
                    "title": {
                      "text": "Dim3"
                    }
                  }
                },
                "template": {
                  "data": {
                    "bar": [
                      {
                        "error_x": {
                          "color": "#2a3f5f"
                        },
                        "error_y": {
                          "color": "#2a3f5f"
                        },
                        "marker": {
                          "line": {
                            "color": "#E5ECF6",
                            "width": 0.5
                          },
                          "pattern": {
                            "fillmode": "overlay",
                            "size": 10,
                            "solidity": 0.2
                          }
                        },
                        "type": "bar"
                      }
                    ],
                    "barpolar": [
                      {
                        "marker": {
                          "line": {
                            "color": "#E5ECF6",
                            "width": 0.5
                          },
                          "pattern": {
                            "fillmode": "overlay",
                            "size": 10,
                            "solidity": 0.2
                          }
                        },
                        "type": "barpolar"
                      }
                    ],
                    "carpet": [
                      {
                        "aaxis": {
                          "endlinecolor": "#2a3f5f",
                          "gridcolor": "white",
                          "linecolor": "white",
                          "minorgridcolor": "white",
                          "startlinecolor": "#2a3f5f"
                        },
                        "baxis": {
                          "endlinecolor": "#2a3f5f",
                          "gridcolor": "white",
                          "linecolor": "white",
                          "minorgridcolor": "white",
                          "startlinecolor": "#2a3f5f"
                        },
                        "type": "carpet"
                      }
                    ],
                    "choropleth": [
                      {
                        "colorbar": {
                          "outlinewidth": 0,
                          "ticks": ""
                        },
                        "type": "choropleth"
                      }
                    ],
                    "contour": [
                      {
                        "colorbar": {
                          "outlinewidth": 0,
                          "ticks": ""
                        },
                        "colorscale": [
                          [
                            0,
                            "#0d0887"
                          ],
                          [
                            0.1111111111111111,
                            "#46039f"
                          ],
                          [
                            0.2222222222222222,
                            "#7201a8"
                          ],
                          [
                            0.3333333333333333,
                            "#9c179e"
                          ],
                          [
                            0.4444444444444444,
                            "#bd3786"
                          ],
                          [
                            0.5555555555555556,
                            "#d8576b"
                          ],
                          [
                            0.6666666666666666,
                            "#ed7953"
                          ],
                          [
                            0.7777777777777778,
                            "#fb9f3a"
                          ],
                          [
                            0.8888888888888888,
                            "#fdca26"
                          ],
                          [
                            1,
                            "#f0f921"
                          ]
                        ],
                        "type": "contour"
                      }
                    ],
                    "contourcarpet": [
                      {
                        "colorbar": {
                          "outlinewidth": 0,
                          "ticks": ""
                        },
                        "type": "contourcarpet"
                      }
                    ],
                    "heatmap": [
                      {
                        "colorbar": {
                          "outlinewidth": 0,
                          "ticks": ""
                        },
                        "colorscale": [
                          [
                            0,
                            "#0d0887"
                          ],
                          [
                            0.1111111111111111,
                            "#46039f"
                          ],
                          [
                            0.2222222222222222,
                            "#7201a8"
                          ],
                          [
                            0.3333333333333333,
                            "#9c179e"
                          ],
                          [
                            0.4444444444444444,
                            "#bd3786"
                          ],
                          [
                            0.5555555555555556,
                            "#d8576b"
                          ],
                          [
                            0.6666666666666666,
                            "#ed7953"
                          ],
                          [
                            0.7777777777777778,
                            "#fb9f3a"
                          ],
                          [
                            0.8888888888888888,
                            "#fdca26"
                          ],
                          [
                            1,
                            "#f0f921"
                          ]
                        ],
                        "type": "heatmap"
                      }
                    ],
                    "heatmapgl": [
                      {
                        "colorbar": {
                          "outlinewidth": 0,
                          "ticks": ""
                        },
                        "colorscale": [
                          [
                            0,
                            "#0d0887"
                          ],
                          [
                            0.1111111111111111,
                            "#46039f"
                          ],
                          [
                            0.2222222222222222,
                            "#7201a8"
                          ],
                          [
                            0.3333333333333333,
                            "#9c179e"
                          ],
                          [
                            0.4444444444444444,
                            "#bd3786"
                          ],
                          [
                            0.5555555555555556,
                            "#d8576b"
                          ],
                          [
                            0.6666666666666666,
                            "#ed7953"
                          ],
                          [
                            0.7777777777777778,
                            "#fb9f3a"
                          ],
                          [
                            0.8888888888888888,
                            "#fdca26"
                          ],
                          [
                            1,
                            "#f0f921"
                          ]
                        ],
                        "type": "heatmapgl"
                      }
                    ],
                    "histogram": [
                      {
                        "marker": {
                          "pattern": {
                            "fillmode": "overlay",
                            "size": 10,
                            "solidity": 0.2
                          }
                        },
                        "type": "histogram"
                      }
                    ],
                    "histogram2d": [
                      {
                        "colorbar": {
                          "outlinewidth": 0,
                          "ticks": ""
                        },
                        "colorscale": [
                          [
                            0,
                            "#0d0887"
                          ],
                          [
                            0.1111111111111111,
                            "#46039f"
                          ],
                          [
                            0.2222222222222222,
                            "#7201a8"
                          ],
                          [
                            0.3333333333333333,
                            "#9c179e"
                          ],
                          [
                            0.4444444444444444,
                            "#bd3786"
                          ],
                          [
                            0.5555555555555556,
                            "#d8576b"
                          ],
                          [
                            0.6666666666666666,
                            "#ed7953"
                          ],
                          [
                            0.7777777777777778,
                            "#fb9f3a"
                          ],
                          [
                            0.8888888888888888,
                            "#fdca26"
                          ],
                          [
                            1,
                            "#f0f921"
                          ]
                        ],
                        "type": "histogram2d"
                      }
                    ],
                    "histogram2dcontour": [
                      {
                        "colorbar": {
                          "outlinewidth": 0,
                          "ticks": ""
                        },
                        "colorscale": [
                          [
                            0,
                            "#0d0887"
                          ],
                          [
                            0.1111111111111111,
                            "#46039f"
                          ],
                          [
                            0.2222222222222222,
                            "#7201a8"
                          ],
                          [
                            0.3333333333333333,
                            "#9c179e"
                          ],
                          [
                            0.4444444444444444,
                            "#bd3786"
                          ],
                          [
                            0.5555555555555556,
                            "#d8576b"
                          ],
                          [
                            0.6666666666666666,
                            "#ed7953"
                          ],
                          [
                            0.7777777777777778,
                            "#fb9f3a"
                          ],
                          [
                            0.8888888888888888,
                            "#fdca26"
                          ],
                          [
                            1,
                            "#f0f921"
                          ]
                        ],
                        "type": "histogram2dcontour"
                      }
                    ],
                    "mesh3d": [
                      {
                        "colorbar": {
                          "outlinewidth": 0,
                          "ticks": ""
                        },
                        "type": "mesh3d"
                      }
                    ],
                    "parcoords": [
                      {
                        "line": {
                          "colorbar": {
                            "outlinewidth": 0,
                            "ticks": ""
                          }
                        },
                        "type": "parcoords"
                      }
                    ],
                    "pie": [
                      {
                        "automargin": true,
                        "type": "pie"
                      }
                    ],
                    "scatter": [
                      {
                        "fillpattern": {
                          "fillmode": "overlay",
                          "size": 10,
                          "solidity": 0.2
                        },
                        "type": "scatter"
                      }
                    ],
                    "scatter3d": [
                      {
                        "line": {
                          "colorbar": {
                            "outlinewidth": 0,
                            "ticks": ""
                          }
                        },
                        "marker": {
                          "colorbar": {
                            "outlinewidth": 0,
                            "ticks": ""
                          }
                        },
                        "type": "scatter3d"
                      }
                    ],
                    "scattercarpet": [
                      {
                        "marker": {
                          "colorbar": {
                            "outlinewidth": 0,
                            "ticks": ""
                          }
                        },
                        "type": "scattercarpet"
                      }
                    ],
                    "scattergeo": [
                      {
                        "marker": {
                          "colorbar": {
                            "outlinewidth": 0,
                            "ticks": ""
                          }
                        },
                        "type": "scattergeo"
                      }
                    ],
                    "scattergl": [
                      {
                        "marker": {
                          "colorbar": {
                            "outlinewidth": 0,
                            "ticks": ""
                          }
                        },
                        "type": "scattergl"
                      }
                    ],
                    "scattermapbox": [
                      {
                        "marker": {
                          "colorbar": {
                            "outlinewidth": 0,
                            "ticks": ""
                          }
                        },
                        "type": "scattermapbox"
                      }
                    ],
                    "scatterpolar": [
                      {
                        "marker": {
                          "colorbar": {
                            "outlinewidth": 0,
                            "ticks": ""
                          }
                        },
                        "type": "scatterpolar"
                      }
                    ],
                    "scatterpolargl": [
                      {
                        "marker": {
                          "colorbar": {
                            "outlinewidth": 0,
                            "ticks": ""
                          }
                        },
                        "type": "scatterpolargl"
                      }
                    ],
                    "scatterternary": [
                      {
                        "marker": {
                          "colorbar": {
                            "outlinewidth": 0,
                            "ticks": ""
                          }
                        },
                        "type": "scatterternary"
                      }
                    ],
                    "surface": [
                      {
                        "colorbar": {
                          "outlinewidth": 0,
                          "ticks": ""
                        },
                        "colorscale": [
                          [
                            0,
                            "#0d0887"
                          ],
                          [
                            0.1111111111111111,
                            "#46039f"
                          ],
                          [
                            0.2222222222222222,
                            "#7201a8"
                          ],
                          [
                            0.3333333333333333,
                            "#9c179e"
                          ],
                          [
                            0.4444444444444444,
                            "#bd3786"
                          ],
                          [
                            0.5555555555555556,
                            "#d8576b"
                          ],
                          [
                            0.6666666666666666,
                            "#ed7953"
                          ],
                          [
                            0.7777777777777778,
                            "#fb9f3a"
                          ],
                          [
                            0.8888888888888888,
                            "#fdca26"
                          ],
                          [
                            1,
                            "#f0f921"
                          ]
                        ],
                        "type": "surface"
                      }
                    ],
                    "table": [
                      {
                        "cells": {
                          "fill": {
                            "color": "#EBF0F8"
                          },
                          "line": {
                            "color": "white"
                          }
                        },
                        "header": {
                          "fill": {
                            "color": "#C8D4E3"
                          },
                          "line": {
                            "color": "white"
                          }
                        },
                        "type": "table"
                      }
                    ]
                  },
                  "layout": {
                    "annotationdefaults": {
                      "arrowcolor": "#2a3f5f",
                      "arrowhead": 0,
                      "arrowwidth": 1
                    },
                    "autotypenumbers": "strict",
                    "coloraxis": {
                      "colorbar": {
                        "outlinewidth": 0,
                        "ticks": ""
                      }
                    },
                    "colorscale": {
                      "diverging": [
                        [
                          0,
                          "#8e0152"
                        ],
                        [
                          0.1,
                          "#c51b7d"
                        ],
                        [
                          0.2,
                          "#de77ae"
                        ],
                        [
                          0.3,
                          "#f1b6da"
                        ],
                        [
                          0.4,
                          "#fde0ef"
                        ],
                        [
                          0.5,
                          "#f7f7f7"
                        ],
                        [
                          0.6,
                          "#e6f5d0"
                        ],
                        [
                          0.7,
                          "#b8e186"
                        ],
                        [
                          0.8,
                          "#7fbc41"
                        ],
                        [
                          0.9,
                          "#4d9221"
                        ],
                        [
                          1,
                          "#276419"
                        ]
                      ],
                      "sequential": [
                        [
                          0,
                          "#0d0887"
                        ],
                        [
                          0.1111111111111111,
                          "#46039f"
                        ],
                        [
                          0.2222222222222222,
                          "#7201a8"
                        ],
                        [
                          0.3333333333333333,
                          "#9c179e"
                        ],
                        [
                          0.4444444444444444,
                          "#bd3786"
                        ],
                        [
                          0.5555555555555556,
                          "#d8576b"
                        ],
                        [
                          0.6666666666666666,
                          "#ed7953"
                        ],
                        [
                          0.7777777777777778,
                          "#fb9f3a"
                        ],
                        [
                          0.8888888888888888,
                          "#fdca26"
                        ],
                        [
                          1,
                          "#f0f921"
                        ]
                      ],
                      "sequentialminus": [
                        [
                          0,
                          "#0d0887"
                        ],
                        [
                          0.1111111111111111,
                          "#46039f"
                        ],
                        [
                          0.2222222222222222,
                          "#7201a8"
                        ],
                        [
                          0.3333333333333333,
                          "#9c179e"
                        ],
                        [
                          0.4444444444444444,
                          "#bd3786"
                        ],
                        [
                          0.5555555555555556,
                          "#d8576b"
                        ],
                        [
                          0.6666666666666666,
                          "#ed7953"
                        ],
                        [
                          0.7777777777777778,
                          "#fb9f3a"
                        ],
                        [
                          0.8888888888888888,
                          "#fdca26"
                        ],
                        [
                          1,
                          "#f0f921"
                        ]
                      ]
                    },
                    "colorway": [
                      "#636efa",
                      "#EF553B",
                      "#00cc96",
                      "#ab63fa",
                      "#FFA15A",
                      "#19d3f3",
                      "#FF6692",
                      "#B6E880",
                      "#FF97FF",
                      "#FECB52"
                    ],
                    "font": {
                      "color": "#2a3f5f"
                    },
                    "geo": {
                      "bgcolor": "white",
                      "lakecolor": "white",
                      "landcolor": "#E5ECF6",
                      "showlakes": true,
                      "showland": true,
                      "subunitcolor": "white"
                    },
                    "hoverlabel": {
                      "align": "left"
                    },
                    "hovermode": "closest",
                    "mapbox": {
                      "style": "light"
                    },
                    "paper_bgcolor": "white",
                    "plot_bgcolor": "#E5ECF6",
                    "polar": {
                      "angularaxis": {
                        "gridcolor": "white",
                        "linecolor": "white",
                        "ticks": ""
                      },
                      "bgcolor": "#E5ECF6",
                      "radialaxis": {
                        "gridcolor": "white",
                        "linecolor": "white",
                        "ticks": ""
                      }
                    },
                    "scene": {
                      "xaxis": {
                        "backgroundcolor": "#E5ECF6",
                        "gridcolor": "white",
                        "gridwidth": 2,
                        "linecolor": "white",
                        "showbackground": true,
                        "ticks": "",
                        "zerolinecolor": "white"
                      },
                      "yaxis": {
                        "backgroundcolor": "#E5ECF6",
                        "gridcolor": "white",
                        "gridwidth": 2,
                        "linecolor": "white",
                        "showbackground": true,
                        "ticks": "",
                        "zerolinecolor": "white"
                      },
                      "zaxis": {
                        "backgroundcolor": "#E5ECF6",
                        "gridcolor": "white",
                        "gridwidth": 2,
                        "linecolor": "white",
                        "showbackground": true,
                        "ticks": "",
                        "zerolinecolor": "white"
                      }
                    },
                    "shapedefaults": {
                      "line": {
                        "color": "#2a3f5f"
                      }
                    },
                    "ternary": {
                      "aaxis": {
                        "gridcolor": "white",
                        "linecolor": "white",
                        "ticks": ""
                      },
                      "baxis": {
                        "gridcolor": "white",
                        "linecolor": "white",
                        "ticks": ""
                      },
                      "bgcolor": "#E5ECF6",
                      "caxis": {
                        "gridcolor": "white",
                        "linecolor": "white",
                        "ticks": ""
                      }
                    },
                    "title": {
                      "x": 0.05
                    },
                    "xaxis": {
                      "automargin": true,
                      "gridcolor": "white",
                      "linecolor": "white",
                      "ticks": "",
                      "title": {
                        "standoff": 15
                      },
                      "zerolinecolor": "white",
                      "zerolinewidth": 2
                    },
                    "yaxis": {
                      "automargin": true,
                      "gridcolor": "white",
                      "linecolor": "white",
                      "ticks": "",
                      "title": {
                        "standoff": 15
                      },
                      "zerolinecolor": "white",
                      "zerolinewidth": 2
                    }
                  }
                },
                "title": {
                  "text": "Visualización 3D de Tópicos con BERTopic"
                },
                "width": 1200
              }
            }
          },
          "metadata": {},
          "output_type": "display_data"
        }
      ],
      "source": [
        "import plotly.express as px\n",
        "\n",
        "# Obtener los embeddings de los tópicos\n",
        "topic_embeddings = topic_model.topic_embeddings_\n",
        "\n",
        "new_doc = \"Fuga de presos en San Telmo\"  # nuevo texto\n",
        "new_doc_embedding = topic_model.embedding_model.embed([new_doc])[0] # embedding de nuevo texto\n",
        "\n",
        "total = np.vstack((topic_embeddings, new_doc_embedding))\n",
        "\n",
        "# Reducir la dimensionalidad de los embeddings a 3D usando UMAP\n",
        "umap_model = UMAP(n_components=3)\n",
        "embeddings_3d = umap_model.fit_transform(total)\n",
        "\n",
        "# Obtener las etiquetas de los tópicos\n",
        "topics_labels = [str(i)+\" \"+name['name'][:50] for i, name in enumerate(topics_list) ]\n",
        "\n",
        "# Crear un DataFrame para Plotly\n",
        "df_plotly = pd.DataFrame(embeddings_3d, columns=['Dim1', 'Dim2', 'Dim3'])\n",
        "df_plotly['Topico'] = [\"-1\"] + topics_labels + ['>>'+new_doc[:15]] # Identificamos el nuevo documento\n",
        "df_plotly['Etiqueta'] = list(range(-1, len(topic_embeddings)-1)) + [new_doc[:15]]\n",
        "\n",
        "# Graficar los tópicos en 3D de manera interactiva usando Plotly, ajustando el tamaño del gráfico\n",
        "fig = px.scatter_3d(df_plotly, x='Dim1', y='Dim2', z='Dim3', color='Topico', text='Etiqueta', title='Visualización 3D de Tópicos con BERTopic')\n",
        "\n",
        "\n",
        "# Ajustar el tamaño del gráfico\n",
        "fig.update_layout(\n",
        "    autosize=False,\n",
        "    width=1200,  # Ancho del gráfico\n",
        "    height=800,  # Altura del gráfico\n",
        "    margin=dict(l=65, r=50, b=65, t=90)\n",
        ")\n",
        "\n",
        "# Mostrar el gráfico\n",
        "fig.show()"
      ]
    },
    {
      "cell_type": "markdown",
      "metadata": {
        "id": "kzGhZXeHN_Bn"
      },
      "source": [
        "#### Agrupando por embeddings cercanos"
      ]
    },
    {
      "cell_type": "code",
      "execution_count": 75,
      "metadata": {
        "id": "YaBUMOTJN_Bo"
      },
      "outputs": [
        {
          "name": "stdout",
          "output_type": "stream",
          "text": [
            "Topico 11 y Topico 4 tienen una similitud de: 0.7760\n",
            "Topico 4 y Topico 11 tienen una similitud de: 0.7760\n",
            "Topico 5 y Topico 11 tienen una similitud de: 0.7438\n",
            "Topico 11 y Topico 5 tienen una similitud de: 0.7438\n",
            "Topico 3 y Topico 5 tienen una similitud de: 0.6840\n",
            "Topico 5 y Topico 3 tienen una similitud de: 0.6840\n",
            "Topico 0 y Topico 1 tienen una similitud de: 0.6596\n",
            "Topico 1 y Topico 0 tienen una similitud de: 0.6596\n",
            "Topico 11 y Topico 2 tienen una similitud de: 0.6447\n",
            "Topico 2 y Topico 11 tienen una similitud de: 0.6447\n"
          ]
        }
      ],
      "source": [
        "# Eliminamos el topico -1\n",
        "new_topic_embeddings = topic_embeddings[1:]\n",
        "\n",
        "# Calcular la similitud del coseno entre los embeddings de los tópicos\n",
        "similarities = cosine_similarity(new_topic_embeddings)\n",
        "\n",
        "# Crear una matriz de similitud excluyendo la diagonal\n",
        "np.fill_diagonal(similarities, 0)\n",
        "\n",
        "# Encontrar los pares de tópicos más cercanos\n",
        "topic_pairs = np.dstack(np.unravel_index(np.argsort(similarities.ravel())[::-1], similarities.shape))[0]\n",
        "\n",
        "# Mostrar los 5 pares de tópicos más cercanos\n",
        "for i in range(10):\n",
        "    topic_id_1, topic_id_2 = topic_pairs[i]\n",
        "    similarity_score = similarities[topic_id_1, topic_id_2]\n",
        "    print(f\"Topico {topic_id_1} y Topico {topic_id_2} tienen una similitud de: {similarity_score:.4f}\")"
      ]
    },
    {
      "cell_type": "code",
      "execution_count": null,
      "metadata": {},
      "outputs": [],
      "source": []
    }
  ],
  "metadata": {
    "colab": {
      "include_colab_link": true,
      "provenance": []
    },
    "kernelspec": {
      "display_name": "Python 3",
      "name": "python3"
    },
    "language_info": {
      "codemirror_mode": {
        "name": "ipython",
        "version": 3
      },
      "file_extension": ".py",
      "mimetype": "text/x-python",
      "name": "python",
      "nbconvert_exporter": "python",
      "pygments_lexer": "ipython3",
      "version": "3.11.8"
    }
  },
  "nbformat": 4,
  "nbformat_minor": 0
}
