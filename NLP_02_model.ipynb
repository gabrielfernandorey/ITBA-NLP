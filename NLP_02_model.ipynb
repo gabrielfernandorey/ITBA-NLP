{
  "cells": [
    {
      "cell_type": "markdown",
      "metadata": {
        "colab_type": "text",
        "id": "view-in-github"
      },
      "source": [
        "<a href=\"https://colab.research.google.com/github/gabrielfernandorey/ITBA-NLP/blob/main/NLP_02_model.ipynb\" target=\"_parent\"><img src=\"https://colab.research.google.com/assets/colab-badge.svg\" alt=\"Open In Colab\"/></a>"
      ]
    },
    {
      "cell_type": "markdown",
      "metadata": {
        "id": "g6GzUxPz0r9-"
      },
      "source": [
        "# Trabajo Practico NLP - Detección de Tópicos y clasificación\n",
        "- ITBA 2024\n",
        "- Alumno: Gabriel Rey\n",
        "---"
      ]
    },
    {
      "cell_type": "markdown",
      "metadata": {
        "id": "GHn0MELjOcoY"
      },
      "source": [
        "### >>> Solo para correr en Colab"
      ]
    },
    {
      "cell_type": "code",
      "execution_count": null,
      "metadata": {
        "colab": {
          "base_uri": "https://localhost:8080/"
        },
        "collapsed": true,
        "id": "svVAqf7jOkko",
        "outputId": "c0fbcd3a-4044-4c92-c574-b4edb81eea9c"
      },
      "outputs": [],
      "source": [
        "from google.colab import userdata\n",
        "\n",
        "git_token = userdata.get('GIT_TOKEN')\n",
        "git_username = \"gabrielfernandorey\"\n",
        "git_repository = \"ITBA-NLP.git\"\n",
        "\n",
        "!git clone https://{git_token}@github.com/{git_username}/{git_repository}\n",
        "\n",
        "!pip install -r /content/ITBA-NLP/requirements.txt\n",
        "!pip install python-dotenv"
      ]
    },
    {
      "cell_type": "markdown",
      "metadata": {
        "id": "e59GBP66N_BK"
      },
      "source": [
        "## MODELO"
      ]
    },
    {
      "cell_type": "code",
      "execution_count": 1,
      "metadata": {
        "colab": {
          "base_uri": "https://localhost:8080/",
          "height": 366
        },
        "collapsed": true,
        "id": "P7eCyxiT1rcu",
        "outputId": "5c718fba-d95f-4b07-91d3-cad4d8c81c00"
      },
      "outputs": [],
      "source": [
        "import warnings\n",
        "warnings.filterwarnings('ignore')\n",
        "\n",
        "import pandas as pd\n",
        "pd.set_option('display.max_colwidth', None)\n",
        "import numpy as np\n",
        "from matplotlib import pyplot as plt\n",
        "import os\n",
        "import json\n",
        "import pickle\n",
        "from datetime import datetime, date\n",
        "from dateutil.parser import parse\n",
        "from dotenv import load_dotenv\n",
        "\n",
        "from NLP_tools import Cleaning_text, top_keywords, top_entities, get_topic_name, best_document, clean_all, topic_documents\n",
        "from core.functions import *"
      ]
    },
    {
      "cell_type": "code",
      "execution_count": 2,
      "metadata": {
        "id": "7QSVkkTWN_BP"
      },
      "outputs": [],
      "source": [
        "from sklearn.feature_extraction.text import CountVectorizer, TfidfVectorizer\n",
        "from sklearn.metrics.pairwise import cosine_similarity\n",
        "from sklearn.decomposition import NMF\n",
        "\n",
        "from tqdm import tqdm\n",
        "\n",
        "from umap import UMAP\n",
        "from hdbscan import HDBSCAN\n",
        "from sentence_transformers import SentenceTransformer\n",
        "from bertopic import BERTopic\n",
        "from bertopic.representation import KeyBERTInspired\n",
        "from bertopic.vectorizers import ClassTfidfTransformer"
      ]
    },
    {
      "cell_type": "code",
      "execution_count": 3,
      "metadata": {
        "id": "yECzCViiN_BP"
      },
      "outputs": [],
      "source": [
        "from opensearch_data_model import Topic, TopicKeyword, News, os_client, TOPIC_INDEX_NAME, NEWS_INDEX_NAME\n",
        "from opensearch_io import init_opensearch, get_news\n",
        "from opensearchpy import helpers\n",
        "\n",
        "from openai import OpenAI"
      ]
    },
    {
      "cell_type": "markdown",
      "metadata": {
        "id": "ZmkslbsDN_BT"
      },
      "source": [
        "### Path"
      ]
    },
    {
      "cell_type": "code",
      "execution_count": 4,
      "metadata": {
        "colab": {
          "base_uri": "https://localhost:8080/",
          "height": 35
        },
        "id": "ZAu1QkwYN_BU",
        "outputId": "86b5d60e-88a3-4ffa-cfab-e89ce3e6086c"
      },
      "outputs": [
        {
          "data": {
            "text/plain": [
              "'C:/Users/gabri/OneDrive/Machine Learning/Github/ITBA-NLP/data/'"
            ]
          },
          "execution_count": 4,
          "metadata": {},
          "output_type": "execute_result"
        }
      ],
      "source": [
        "load_dotenv()\n",
        "PATH_REMOTO='/content/ITBA-NLP/data/'\n",
        "PATH=os.environ.get('PATH_LOCAL', PATH_REMOTO)\n",
        "PATH"
      ]
    },
    {
      "cell_type": "code",
      "execution_count": 5,
      "metadata": {
        "colab": {
          "base_uri": "https://localhost:8080/",
          "height": 176
        },
        "id": "ofyYU7FzN_BU",
        "outputId": "cbbb459c-53ed-445a-b37b-5eb0a94bc370"
      },
      "outputs": [],
      "source": [
        "if PATH == os.environ.get('PATH_LOCAL'):\n",
        "    client = OpenAI(api_key= os.environ.get('OPENAI_API_KEY'))\n",
        "else:\n",
        "    # from google.colab import userdata\n",
        "    client = OpenAI(api_key= userdata.get('OPENAI_API_KEY'))"
      ]
    },
    {
      "cell_type": "markdown",
      "metadata": {
        "id": "PrAEQ0VIN_BR"
      },
      "source": [
        "### Inicializamos la base vectorial"
      ]
    },
    {
      "cell_type": "code",
      "execution_count": 6,
      "metadata": {
        "id": "wOEOjKN4N_BS",
        "outputId": "2e883aa5-49ab-4a7a-8dfb-8574ba88700b"
      },
      "outputs": [
        {
          "name": "stdout",
          "output_type": "stream",
          "text": [
            "El índice Topic ya existe. Saltando inicialización de base de datos.\n",
            "El índice News ya existe. Saltando inicialización de base de datos.\n"
          ]
        }
      ],
      "source": [
        "init_opensearch()"
      ]
    },
    {
      "cell_type": "markdown",
      "metadata": {
        "id": "mHLnakcu2MOq"
      },
      "source": [
        "### Data de noticias original"
      ]
    },
    {
      "cell_type": "code",
      "execution_count": 7,
      "metadata": {
        "id": "cmp3cLLv28-T"
      },
      "outputs": [
        {
          "name": "stdout",
          "output_type": "stream",
          "text": [
            "0_1000\n"
          ]
        }
      ],
      "source": [
        "df_params = {'0_1000':'0_1000_data.parquet',\n",
        "             '1000_2000':'1000_2000_data.parquet',\n",
        "             '2000_3000':'2000_3000_data.parquet',\n",
        "             'df_joined':'df_joined_2024-04-01 00_00_00.parquet'\n",
        "            }\n",
        "\n",
        "chunk = '0_1000' \n",
        "#chunk = '1000_2000' \n",
        "df_parquet = pd.read_parquet(PATH+df_params[chunk])\n",
        "data = list(df_parquet['in__text'])\n",
        "\n",
        "# Cantidad total de documentos\n",
        "print(chunk)\n"
      ]
    },
    {
      "cell_type": "code",
      "execution_count": 8,
      "metadata": {
        "id": "DxbMdlz-N_BV"
      },
      "outputs": [
        {
          "data": {
            "text/plain": [
              "6833"
            ]
          },
          "execution_count": 8,
          "metadata": {},
          "output_type": "execute_result"
        }
      ],
      "source": [
        "# Cargar vocabulario\n",
        "with open(PATH+f'modelos/vocabulary_{chunk}.json', 'r') as json_file:\n",
        "    vocab = json.load(json_file)\n",
        "len(vocab)"
      ]
    },
    {
      "cell_type": "code",
      "execution_count": 9,
      "metadata": {},
      "outputs": [
        {
          "data": {
            "text/plain": [
              "1000"
            ]
          },
          "execution_count": 9,
          "metadata": {},
          "output_type": "execute_result"
        }
      ],
      "source": [
        "# Cargar documentos preprocesados\n",
        "with open(PATH+f'modelos/proc_data_{chunk}.json', 'r') as json_file:\n",
        "    proc_data = json.load(json_file)\n",
        "len(proc_data)"
      ]
    },
    {
      "cell_type": "markdown",
      "metadata": {
        "id": "gPRI0LxLN_BV"
      },
      "source": [
        "### StopWords"
      ]
    },
    {
      "cell_type": "code",
      "execution_count": 10,
      "metadata": {
        "id": "Ly9P34g0N_BW"
      },
      "outputs": [],
      "source": [
        "# Stopwords\n",
        "SPANISH_STOPWORDS = list(pd.read_csv(PATH+'spanish_stop_words.csv' )['stopwords'].values)"
      ]
    },
    {
      "cell_type": "markdown",
      "metadata": {
        "id": "Hl06QkGoN_BW"
      },
      "source": [
        "### Modelo"
      ]
    },
    {
      "cell_type": "code",
      "execution_count": 11,
      "metadata": {
        "id": "6U8qmnllN_BW"
      },
      "outputs": [
        {
          "data": {
            "text/html": [
              "<style>#sk-container-id-1 {\n",
              "  /* Definition of color scheme common for light and dark mode */\n",
              "  --sklearn-color-text: black;\n",
              "  --sklearn-color-line: gray;\n",
              "  /* Definition of color scheme for unfitted estimators */\n",
              "  --sklearn-color-unfitted-level-0: #fff5e6;\n",
              "  --sklearn-color-unfitted-level-1: #f6e4d2;\n",
              "  --sklearn-color-unfitted-level-2: #ffe0b3;\n",
              "  --sklearn-color-unfitted-level-3: chocolate;\n",
              "  /* Definition of color scheme for fitted estimators */\n",
              "  --sklearn-color-fitted-level-0: #f0f8ff;\n",
              "  --sklearn-color-fitted-level-1: #d4ebff;\n",
              "  --sklearn-color-fitted-level-2: #b3dbfd;\n",
              "  --sklearn-color-fitted-level-3: cornflowerblue;\n",
              "\n",
              "  /* Specific color for light theme */\n",
              "  --sklearn-color-text-on-default-background: var(--sg-text-color, var(--theme-code-foreground, var(--jp-content-font-color1, black)));\n",
              "  --sklearn-color-background: var(--sg-background-color, var(--theme-background, var(--jp-layout-color0, white)));\n",
              "  --sklearn-color-border-box: var(--sg-text-color, var(--theme-code-foreground, var(--jp-content-font-color1, black)));\n",
              "  --sklearn-color-icon: #696969;\n",
              "\n",
              "  @media (prefers-color-scheme: dark) {\n",
              "    /* Redefinition of color scheme for dark theme */\n",
              "    --sklearn-color-text-on-default-background: var(--sg-text-color, var(--theme-code-foreground, var(--jp-content-font-color1, white)));\n",
              "    --sklearn-color-background: var(--sg-background-color, var(--theme-background, var(--jp-layout-color0, #111)));\n",
              "    --sklearn-color-border-box: var(--sg-text-color, var(--theme-code-foreground, var(--jp-content-font-color1, white)));\n",
              "    --sklearn-color-icon: #878787;\n",
              "  }\n",
              "}\n",
              "\n",
              "#sk-container-id-1 {\n",
              "  color: var(--sklearn-color-text);\n",
              "}\n",
              "\n",
              "#sk-container-id-1 pre {\n",
              "  padding: 0;\n",
              "}\n",
              "\n",
              "#sk-container-id-1 input.sk-hidden--visually {\n",
              "  border: 0;\n",
              "  clip: rect(1px 1px 1px 1px);\n",
              "  clip: rect(1px, 1px, 1px, 1px);\n",
              "  height: 1px;\n",
              "  margin: -1px;\n",
              "  overflow: hidden;\n",
              "  padding: 0;\n",
              "  position: absolute;\n",
              "  width: 1px;\n",
              "}\n",
              "\n",
              "#sk-container-id-1 div.sk-dashed-wrapped {\n",
              "  border: 1px dashed var(--sklearn-color-line);\n",
              "  margin: 0 0.4em 0.5em 0.4em;\n",
              "  box-sizing: border-box;\n",
              "  padding-bottom: 0.4em;\n",
              "  background-color: var(--sklearn-color-background);\n",
              "}\n",
              "\n",
              "#sk-container-id-1 div.sk-container {\n",
              "  /* jupyter's `normalize.less` sets `[hidden] { display: none; }`\n",
              "     but bootstrap.min.css set `[hidden] { display: none !important; }`\n",
              "     so we also need the `!important` here to be able to override the\n",
              "     default hidden behavior on the sphinx rendered scikit-learn.org.\n",
              "     See: https://github.com/scikit-learn/scikit-learn/issues/21755 */\n",
              "  display: inline-block !important;\n",
              "  position: relative;\n",
              "}\n",
              "\n",
              "#sk-container-id-1 div.sk-text-repr-fallback {\n",
              "  display: none;\n",
              "}\n",
              "\n",
              "div.sk-parallel-item,\n",
              "div.sk-serial,\n",
              "div.sk-item {\n",
              "  /* draw centered vertical line to link estimators */\n",
              "  background-image: linear-gradient(var(--sklearn-color-text-on-default-background), var(--sklearn-color-text-on-default-background));\n",
              "  background-size: 2px 100%;\n",
              "  background-repeat: no-repeat;\n",
              "  background-position: center center;\n",
              "}\n",
              "\n",
              "/* Parallel-specific style estimator block */\n",
              "\n",
              "#sk-container-id-1 div.sk-parallel-item::after {\n",
              "  content: \"\";\n",
              "  width: 100%;\n",
              "  border-bottom: 2px solid var(--sklearn-color-text-on-default-background);\n",
              "  flex-grow: 1;\n",
              "}\n",
              "\n",
              "#sk-container-id-1 div.sk-parallel {\n",
              "  display: flex;\n",
              "  align-items: stretch;\n",
              "  justify-content: center;\n",
              "  background-color: var(--sklearn-color-background);\n",
              "  position: relative;\n",
              "}\n",
              "\n",
              "#sk-container-id-1 div.sk-parallel-item {\n",
              "  display: flex;\n",
              "  flex-direction: column;\n",
              "}\n",
              "\n",
              "#sk-container-id-1 div.sk-parallel-item:first-child::after {\n",
              "  align-self: flex-end;\n",
              "  width: 50%;\n",
              "}\n",
              "\n",
              "#sk-container-id-1 div.sk-parallel-item:last-child::after {\n",
              "  align-self: flex-start;\n",
              "  width: 50%;\n",
              "}\n",
              "\n",
              "#sk-container-id-1 div.sk-parallel-item:only-child::after {\n",
              "  width: 0;\n",
              "}\n",
              "\n",
              "/* Serial-specific style estimator block */\n",
              "\n",
              "#sk-container-id-1 div.sk-serial {\n",
              "  display: flex;\n",
              "  flex-direction: column;\n",
              "  align-items: center;\n",
              "  background-color: var(--sklearn-color-background);\n",
              "  padding-right: 1em;\n",
              "  padding-left: 1em;\n",
              "}\n",
              "\n",
              "\n",
              "/* Toggleable style: style used for estimator/Pipeline/ColumnTransformer box that is\n",
              "clickable and can be expanded/collapsed.\n",
              "- Pipeline and ColumnTransformer use this feature and define the default style\n",
              "- Estimators will overwrite some part of the style using the `sk-estimator` class\n",
              "*/\n",
              "\n",
              "/* Pipeline and ColumnTransformer style (default) */\n",
              "\n",
              "#sk-container-id-1 div.sk-toggleable {\n",
              "  /* Default theme specific background. It is overwritten whether we have a\n",
              "  specific estimator or a Pipeline/ColumnTransformer */\n",
              "  background-color: var(--sklearn-color-background);\n",
              "}\n",
              "\n",
              "/* Toggleable label */\n",
              "#sk-container-id-1 label.sk-toggleable__label {\n",
              "  cursor: pointer;\n",
              "  display: block;\n",
              "  width: 100%;\n",
              "  margin-bottom: 0;\n",
              "  padding: 0.5em;\n",
              "  box-sizing: border-box;\n",
              "  text-align: center;\n",
              "}\n",
              "\n",
              "#sk-container-id-1 label.sk-toggleable__label-arrow:before {\n",
              "  /* Arrow on the left of the label */\n",
              "  content: \"▸\";\n",
              "  float: left;\n",
              "  margin-right: 0.25em;\n",
              "  color: var(--sklearn-color-icon);\n",
              "}\n",
              "\n",
              "#sk-container-id-1 label.sk-toggleable__label-arrow:hover:before {\n",
              "  color: var(--sklearn-color-text);\n",
              "}\n",
              "\n",
              "/* Toggleable content - dropdown */\n",
              "\n",
              "#sk-container-id-1 div.sk-toggleable__content {\n",
              "  max-height: 0;\n",
              "  max-width: 0;\n",
              "  overflow: hidden;\n",
              "  text-align: left;\n",
              "  /* unfitted */\n",
              "  background-color: var(--sklearn-color-unfitted-level-0);\n",
              "}\n",
              "\n",
              "#sk-container-id-1 div.sk-toggleable__content.fitted {\n",
              "  /* fitted */\n",
              "  background-color: var(--sklearn-color-fitted-level-0);\n",
              "}\n",
              "\n",
              "#sk-container-id-1 div.sk-toggleable__content pre {\n",
              "  margin: 0.2em;\n",
              "  border-radius: 0.25em;\n",
              "  color: var(--sklearn-color-text);\n",
              "  /* unfitted */\n",
              "  background-color: var(--sklearn-color-unfitted-level-0);\n",
              "}\n",
              "\n",
              "#sk-container-id-1 div.sk-toggleable__content.fitted pre {\n",
              "  /* unfitted */\n",
              "  background-color: var(--sklearn-color-fitted-level-0);\n",
              "}\n",
              "\n",
              "#sk-container-id-1 input.sk-toggleable__control:checked~div.sk-toggleable__content {\n",
              "  /* Expand drop-down */\n",
              "  max-height: 200px;\n",
              "  max-width: 100%;\n",
              "  overflow: auto;\n",
              "}\n",
              "\n",
              "#sk-container-id-1 input.sk-toggleable__control:checked~label.sk-toggleable__label-arrow:before {\n",
              "  content: \"▾\";\n",
              "}\n",
              "\n",
              "/* Pipeline/ColumnTransformer-specific style */\n",
              "\n",
              "#sk-container-id-1 div.sk-label input.sk-toggleable__control:checked~label.sk-toggleable__label {\n",
              "  color: var(--sklearn-color-text);\n",
              "  background-color: var(--sklearn-color-unfitted-level-2);\n",
              "}\n",
              "\n",
              "#sk-container-id-1 div.sk-label.fitted input.sk-toggleable__control:checked~label.sk-toggleable__label {\n",
              "  background-color: var(--sklearn-color-fitted-level-2);\n",
              "}\n",
              "\n",
              "/* Estimator-specific style */\n",
              "\n",
              "/* Colorize estimator box */\n",
              "#sk-container-id-1 div.sk-estimator input.sk-toggleable__control:checked~label.sk-toggleable__label {\n",
              "  /* unfitted */\n",
              "  background-color: var(--sklearn-color-unfitted-level-2);\n",
              "}\n",
              "\n",
              "#sk-container-id-1 div.sk-estimator.fitted input.sk-toggleable__control:checked~label.sk-toggleable__label {\n",
              "  /* fitted */\n",
              "  background-color: var(--sklearn-color-fitted-level-2);\n",
              "}\n",
              "\n",
              "#sk-container-id-1 div.sk-label label.sk-toggleable__label,\n",
              "#sk-container-id-1 div.sk-label label {\n",
              "  /* The background is the default theme color */\n",
              "  color: var(--sklearn-color-text-on-default-background);\n",
              "}\n",
              "\n",
              "/* On hover, darken the color of the background */\n",
              "#sk-container-id-1 div.sk-label:hover label.sk-toggleable__label {\n",
              "  color: var(--sklearn-color-text);\n",
              "  background-color: var(--sklearn-color-unfitted-level-2);\n",
              "}\n",
              "\n",
              "/* Label box, darken color on hover, fitted */\n",
              "#sk-container-id-1 div.sk-label.fitted:hover label.sk-toggleable__label.fitted {\n",
              "  color: var(--sklearn-color-text);\n",
              "  background-color: var(--sklearn-color-fitted-level-2);\n",
              "}\n",
              "\n",
              "/* Estimator label */\n",
              "\n",
              "#sk-container-id-1 div.sk-label label {\n",
              "  font-family: monospace;\n",
              "  font-weight: bold;\n",
              "  display: inline-block;\n",
              "  line-height: 1.2em;\n",
              "}\n",
              "\n",
              "#sk-container-id-1 div.sk-label-container {\n",
              "  text-align: center;\n",
              "}\n",
              "\n",
              "/* Estimator-specific */\n",
              "#sk-container-id-1 div.sk-estimator {\n",
              "  font-family: monospace;\n",
              "  border: 1px dotted var(--sklearn-color-border-box);\n",
              "  border-radius: 0.25em;\n",
              "  box-sizing: border-box;\n",
              "  margin-bottom: 0.5em;\n",
              "  /* unfitted */\n",
              "  background-color: var(--sklearn-color-unfitted-level-0);\n",
              "}\n",
              "\n",
              "#sk-container-id-1 div.sk-estimator.fitted {\n",
              "  /* fitted */\n",
              "  background-color: var(--sklearn-color-fitted-level-0);\n",
              "}\n",
              "\n",
              "/* on hover */\n",
              "#sk-container-id-1 div.sk-estimator:hover {\n",
              "  /* unfitted */\n",
              "  background-color: var(--sklearn-color-unfitted-level-2);\n",
              "}\n",
              "\n",
              "#sk-container-id-1 div.sk-estimator.fitted:hover {\n",
              "  /* fitted */\n",
              "  background-color: var(--sklearn-color-fitted-level-2);\n",
              "}\n",
              "\n",
              "/* Specification for estimator info (e.g. \"i\" and \"?\") */\n",
              "\n",
              "/* Common style for \"i\" and \"?\" */\n",
              "\n",
              ".sk-estimator-doc-link,\n",
              "a:link.sk-estimator-doc-link,\n",
              "a:visited.sk-estimator-doc-link {\n",
              "  float: right;\n",
              "  font-size: smaller;\n",
              "  line-height: 1em;\n",
              "  font-family: monospace;\n",
              "  background-color: var(--sklearn-color-background);\n",
              "  border-radius: 1em;\n",
              "  height: 1em;\n",
              "  width: 1em;\n",
              "  text-decoration: none !important;\n",
              "  margin-left: 1ex;\n",
              "  /* unfitted */\n",
              "  border: var(--sklearn-color-unfitted-level-1) 1pt solid;\n",
              "  color: var(--sklearn-color-unfitted-level-1);\n",
              "}\n",
              "\n",
              ".sk-estimator-doc-link.fitted,\n",
              "a:link.sk-estimator-doc-link.fitted,\n",
              "a:visited.sk-estimator-doc-link.fitted {\n",
              "  /* fitted */\n",
              "  border: var(--sklearn-color-fitted-level-1) 1pt solid;\n",
              "  color: var(--sklearn-color-fitted-level-1);\n",
              "}\n",
              "\n",
              "/* On hover */\n",
              "div.sk-estimator:hover .sk-estimator-doc-link:hover,\n",
              ".sk-estimator-doc-link:hover,\n",
              "div.sk-label-container:hover .sk-estimator-doc-link:hover,\n",
              ".sk-estimator-doc-link:hover {\n",
              "  /* unfitted */\n",
              "  background-color: var(--sklearn-color-unfitted-level-3);\n",
              "  color: var(--sklearn-color-background);\n",
              "  text-decoration: none;\n",
              "}\n",
              "\n",
              "div.sk-estimator.fitted:hover .sk-estimator-doc-link.fitted:hover,\n",
              ".sk-estimator-doc-link.fitted:hover,\n",
              "div.sk-label-container:hover .sk-estimator-doc-link.fitted:hover,\n",
              ".sk-estimator-doc-link.fitted:hover {\n",
              "  /* fitted */\n",
              "  background-color: var(--sklearn-color-fitted-level-3);\n",
              "  color: var(--sklearn-color-background);\n",
              "  text-decoration: none;\n",
              "}\n",
              "\n",
              "/* Span, style for the box shown on hovering the info icon */\n",
              ".sk-estimator-doc-link span {\n",
              "  display: none;\n",
              "  z-index: 9999;\n",
              "  position: relative;\n",
              "  font-weight: normal;\n",
              "  right: .2ex;\n",
              "  padding: .5ex;\n",
              "  margin: .5ex;\n",
              "  width: min-content;\n",
              "  min-width: 20ex;\n",
              "  max-width: 50ex;\n",
              "  color: var(--sklearn-color-text);\n",
              "  box-shadow: 2pt 2pt 4pt #999;\n",
              "  /* unfitted */\n",
              "  background: var(--sklearn-color-unfitted-level-0);\n",
              "  border: .5pt solid var(--sklearn-color-unfitted-level-3);\n",
              "}\n",
              "\n",
              ".sk-estimator-doc-link.fitted span {\n",
              "  /* fitted */\n",
              "  background: var(--sklearn-color-fitted-level-0);\n",
              "  border: var(--sklearn-color-fitted-level-3);\n",
              "}\n",
              "\n",
              ".sk-estimator-doc-link:hover span {\n",
              "  display: block;\n",
              "}\n",
              "\n",
              "/* \"?\"-specific style due to the `<a>` HTML tag */\n",
              "\n",
              "#sk-container-id-1 a.estimator_doc_link {\n",
              "  float: right;\n",
              "  font-size: 1rem;\n",
              "  line-height: 1em;\n",
              "  font-family: monospace;\n",
              "  background-color: var(--sklearn-color-background);\n",
              "  border-radius: 1rem;\n",
              "  height: 1rem;\n",
              "  width: 1rem;\n",
              "  text-decoration: none;\n",
              "  /* unfitted */\n",
              "  color: var(--sklearn-color-unfitted-level-1);\n",
              "  border: var(--sklearn-color-unfitted-level-1) 1pt solid;\n",
              "}\n",
              "\n",
              "#sk-container-id-1 a.estimator_doc_link.fitted {\n",
              "  /* fitted */\n",
              "  border: var(--sklearn-color-fitted-level-1) 1pt solid;\n",
              "  color: var(--sklearn-color-fitted-level-1);\n",
              "}\n",
              "\n",
              "/* On hover */\n",
              "#sk-container-id-1 a.estimator_doc_link:hover {\n",
              "  /* unfitted */\n",
              "  background-color: var(--sklearn-color-unfitted-level-3);\n",
              "  color: var(--sklearn-color-background);\n",
              "  text-decoration: none;\n",
              "}\n",
              "\n",
              "#sk-container-id-1 a.estimator_doc_link.fitted:hover {\n",
              "  /* fitted */\n",
              "  background-color: var(--sklearn-color-fitted-level-3);\n",
              "}\n",
              "</style><div id=\"sk-container-id-1\" class=\"sk-top-container\"><div class=\"sk-text-repr-fallback\"><pre>TfidfVectorizer(max_df=0.9, min_df=0.1, ngram_range=(1, 2),\n",
              "                vocabulary=[&#x27;tasas&#x27;, &#x27;Cemar de Rosario&#x27;, &#x27;Sporting&#x27;,\n",
              "                            &#x27;Gimena Accardi&#x27;, &#x27;Universidad Austral&#x27;,\n",
              "                            &#x27;Duncan Burrage&#x27;, &#x27;Turquía&#x27;, &#x27;Joaquín Furriel&#x27;,\n",
              "                            &#x27;Serú&#x27;, &#x27;ocupación plena&#x27;, &#x27;denunciante indignado&#x27;,\n",
              "                            &#x27;Furriel Instagram&#x27;, &#x27;Deportivo de Tucumán&#x27;,\n",
              "                            &#x27;entrenador físico&#x27;, &#x27;Cataratas del Niágara&#x27;,\n",
              "                            &#x27;curso&#x27;, &#x27;riqueza&#x27;, &#x27;Brigada de Comandos&#x27;,\n",
              "                            &#x27;segunda ciudad&#x27;, &#x27;Ruta 2&#x27;, &#x27;actitud&#x27;, &#x27;hijitos&#x27;,\n",
              "                            &#x27;FA Cup&#x27;, &#x27;granos&#x27;, &#x27;Bravo Argentina&#x27;, &#x27;esculturas&#x27;,\n",
              "                            &#x27;autoridades&#x27;, &#x27;rápido operativo&#x27;,\n",
              "                            &#x27;Historia Ximena Capristo&#x27;, &#x27;Sant Joan Despí&#x27;, ...])</pre><b>In a Jupyter environment, please rerun this cell to show the HTML representation or trust the notebook. <br />On GitHub, the HTML representation is unable to render, please try loading this page with nbviewer.org.</b></div><div class=\"sk-container\" hidden><div class=\"sk-item\"><div class=\"sk-estimator fitted sk-toggleable\"><input class=\"sk-toggleable__control sk-hidden--visually\" id=\"sk-estimator-id-1\" type=\"checkbox\" checked><label for=\"sk-estimator-id-1\" class=\"sk-toggleable__label fitted sk-toggleable__label-arrow fitted\">&nbsp;&nbsp;TfidfVectorizer<a class=\"sk-estimator-doc-link fitted\" rel=\"noreferrer\" target=\"_blank\" href=\"https://scikit-learn.org/1.4/modules/generated/sklearn.feature_extraction.text.TfidfVectorizer.html\">?<span>Documentation for TfidfVectorizer</span></a><span class=\"sk-estimator-doc-link fitted\">i<span>Fitted</span></span></label><div class=\"sk-toggleable__content fitted\"><pre>TfidfVectorizer(max_df=0.9, min_df=0.1, ngram_range=(1, 2),\n",
              "                vocabulary=[&#x27;tasas&#x27;, &#x27;Cemar de Rosario&#x27;, &#x27;Sporting&#x27;,\n",
              "                            &#x27;Gimena Accardi&#x27;, &#x27;Universidad Austral&#x27;,\n",
              "                            &#x27;Duncan Burrage&#x27;, &#x27;Turquía&#x27;, &#x27;Joaquín Furriel&#x27;,\n",
              "                            &#x27;Serú&#x27;, &#x27;ocupación plena&#x27;, &#x27;denunciante indignado&#x27;,\n",
              "                            &#x27;Furriel Instagram&#x27;, &#x27;Deportivo de Tucumán&#x27;,\n",
              "                            &#x27;entrenador físico&#x27;, &#x27;Cataratas del Niágara&#x27;,\n",
              "                            &#x27;curso&#x27;, &#x27;riqueza&#x27;, &#x27;Brigada de Comandos&#x27;,\n",
              "                            &#x27;segunda ciudad&#x27;, &#x27;Ruta 2&#x27;, &#x27;actitud&#x27;, &#x27;hijitos&#x27;,\n",
              "                            &#x27;FA Cup&#x27;, &#x27;granos&#x27;, &#x27;Bravo Argentina&#x27;, &#x27;esculturas&#x27;,\n",
              "                            &#x27;autoridades&#x27;, &#x27;rápido operativo&#x27;,\n",
              "                            &#x27;Historia Ximena Capristo&#x27;, &#x27;Sant Joan Despí&#x27;, ...])</pre></div> </div></div></div></div>"
            ],
            "text/plain": [
              "TfidfVectorizer(max_df=0.9, min_df=0.1, ngram_range=(1, 2),\n",
              "                vocabulary=['tasas', 'Cemar de Rosario', 'Sporting',\n",
              "                            'Gimena Accardi', 'Universidad Austral',\n",
              "                            'Duncan Burrage', 'Turquía', 'Joaquín Furriel',\n",
              "                            'Serú', 'ocupación plena', 'denunciante indignado',\n",
              "                            'Furriel Instagram', 'Deportivo de Tucumán',\n",
              "                            'entrenador físico', 'Cataratas del Niágara',\n",
              "                            'curso', 'riqueza', 'Brigada de Comandos',\n",
              "                            'segunda ciudad', 'Ruta 2', 'actitud', 'hijitos',\n",
              "                            'FA Cup', 'granos', 'Bravo Argentina', 'esculturas',\n",
              "                            'autoridades', 'rápido operativo',\n",
              "                            'Historia Ximena Capristo', 'Sant Joan Despí', ...])"
            ]
          },
          "execution_count": 11,
          "metadata": {},
          "output_type": "execute_result"
        }
      ],
      "source": [
        "tfidf_vectorizer = TfidfVectorizer(\n",
        "        tokenizer=None,\n",
        "        max_df=0.9,\n",
        "        min_df=0.1,\n",
        "        ngram_range=(1, 2),\n",
        "        vocabulary=vocab,\n",
        "        # max_features=100_000\n",
        ")\n",
        "tfidf_vectorizer.fit(data)"
      ]
    },
    {
      "cell_type": "markdown",
      "metadata": {
        "id": "6KB5tMtLN_BW"
      },
      "source": [
        "Capas del modelo BERTopic"
      ]
    },
    {
      "cell_type": "code",
      "execution_count": 12,
      "metadata": {
        "id": "Mpb75EAM3R53"
      },
      "outputs": [],
      "source": [
        "# Step 1 - Extract embeddings\n",
        "embedding_model = SentenceTransformer(\"paraphrase-multilingual-MiniLM-L12-v2\")\n",
        "# Step 2 - Reduce dimensionality\n",
        "umap_model = UMAP(n_neighbors=15, n_components=5, min_dist=0.0, metric='cosine', random_state=42)\n",
        "# Step 3 - Cluster reduced embeddings\n",
        "hdbscan_model = HDBSCAN(min_cluster_size=10, metric='euclidean', cluster_selection_method='eom', prediction_data=True)\n",
        "# Step 4 - Tokenize topics\n",
        "vectorizer_model = tfidf_vectorizer\n",
        "# Step 5 - Create topic representation\n",
        "ctfidf_model = ClassTfidfTransformer()\n",
        "# Step 6 - (Optional) Fine-tune topic representations with a `bertopic.representation` model\n",
        "# representation_model = KeyBERTInspired()\n",
        "\n",
        "# All steps together\n",
        "topic_model = BERTopic(\n",
        "  embedding_model=embedding_model,              # Step 1 - Extract embeddings\n",
        "  umap_model=umap_model,                        # Step 2 - Reduce dimensionality\n",
        "  hdbscan_model=hdbscan_model,                  # Step 3 - Cluster reduced embeddings\n",
        "  vectorizer_model=vectorizer_model,            # Step 4 - Tokenize topics\n",
        "  ctfidf_model=ctfidf_model,                    # Step 5 - Extract topic words\n",
        "  # representation_model=representation_model,  # Step 6 - (Optional) Fine-tune topic represenations\n",
        "  # language='multilingual',                    # This is not used if embedding_model is used.\n",
        "  verbose=True,\n",
        "  # calculate_probabilities=True\n",
        ")"
      ]
    },
    {
      "cell_type": "markdown",
      "metadata": {
        "id": "RYk1SbbdN_BX"
      },
      "source": [
        "### Datos de Entrenamiento a recuperar"
      ]
    },
    {
      "cell_type": "code",
      "execution_count": 11,
      "metadata": {
        "id": "uZb5UYa5N_BX"
      },
      "outputs": [],
      "source": [
        "chunk = \"app\"\n",
        "# Cargar modelo entrenado o saltar celda y entrenar\n",
        "topic_model = BERTopic.load(PATH+f\"modelos/bertopic_model_{chunk}\")\n",
        "#topics = np.load(PATH+f\"modelos/topics_{chunk}.npy\")\n",
        "#probs = np.load(PATH+f\"modelos/probs_{chunk}.npy\")\n",
        "\n",
        "# Cargar los embeddings\n",
        "docs_embedding = np.load(PATH+f\"modelos/docs_embeddings_{chunk}.npy\")"
      ]
    },
    {
      "cell_type": "markdown",
      "metadata": {},
      "source": [
        "### Entrenamiento"
      ]
    },
    {
      "cell_type": "code",
      "execution_count": 13,
      "metadata": {
        "id": "MUSgR75RN_BY"
      },
      "outputs": [
        {
          "name": "stderr",
          "output_type": "stream",
          "text": [
            "2024-07-30 10:29:00,055 - BERTopic - Embedding - Transforming documents to embeddings.\n"
          ]
        },
        {
          "data": {
            "application/vnd.jupyter.widget-view+json": {
              "model_id": "0bb490b78461453581d123b935016f74",
              "version_major": 2,
              "version_minor": 0
            },
            "text/plain": [
              "Batches:   0%|          | 0/32 [00:00<?, ?it/s]"
            ]
          },
          "metadata": {},
          "output_type": "display_data"
        },
        {
          "name": "stderr",
          "output_type": "stream",
          "text": [
            "2024-07-30 10:31:00,625 - BERTopic - Embedding - Completed ✓\n",
            "2024-07-30 10:31:00,627 - BERTopic - Dimensionality - Fitting the dimensionality reduction algorithm\n",
            "2024-07-30 10:31:19,883 - BERTopic - Dimensionality - Completed ✓\n",
            "2024-07-30 10:31:19,891 - BERTopic - Cluster - Start clustering the reduced embeddings\n",
            "2024-07-30 10:31:20,048 - BERTopic - Cluster - Completed ✓\n",
            "2024-07-30 10:31:20,055 - BERTopic - Representation - Extracting topics from clusters using representation models.\n",
            "2024-07-30 10:31:21,741 - BERTopic - Representation - Completed ✓\n"
          ]
        }
      ],
      "source": [
        "# Entrenamiento\n",
        "topics, probs = topic_model.fit_transform(proc_data)"
      ]
    },
    {
      "cell_type": "code",
      "execution_count": 14,
      "metadata": {
        "id": "7fssvPfyN_BY"
      },
      "outputs": [],
      "source": [
        "# Obtenemos embeddings de todos los documentos\n",
        "docs_embedding = topic_model.embedding_model.embed(data)"
      ]
    },
    {
      "cell_type": "markdown",
      "metadata": {},
      "source": [
        "### Datos de entrenamiento a guardar"
      ]
    },
    {
      "cell_type": "code",
      "execution_count": 18,
      "metadata": {
        "id": "4NXVfA04N_BY"
      },
      "outputs": [
        {
          "name": "stderr",
          "output_type": "stream",
          "text": [
            "2024-07-30 10:33:46,929 - BERTopic - WARNING: When you use `pickle` to save/load a BERTopic model,please make sure that the environments in which you saveand load the model are **exactly** the same. The version of BERTopic,its dependencies, and python need to remain the same.\n"
          ]
        }
      ],
      "source": [
        "# Grabar modelo\n",
        "topic_model.save(PATH+f\"modelos/bertopic_model_{chunk}\")\n",
        "np.save(PATH+f\"modelos/topics_{chunk}.npy\", topics)\n",
        "np.save(PATH+f\"modelos/probs_{chunk}.npy\", probs)\n",
        "\n",
        "# Guardar los embeddings en un archivo de NumPy\n",
        "np.save(PATH+f\"modelos/docs_embeddings_{chunk}.npy\", docs_embedding)"
      ]
    },
    {
      "cell_type": "markdown",
      "metadata": {
        "id": "McTgk142N_BY"
      },
      "source": [
        "## Resultados y operaciones con el modelo"
      ]
    },
    {
      "cell_type": "code",
      "execution_count": 15,
      "metadata": {
        "id": "-oHKP19MN_BY"
      },
      "outputs": [
        {
          "name": "stdout",
          "output_type": "stream",
          "text": [
            "Cantidad de tópicos 14 (incluye topico -1)\n"
          ]
        }
      ],
      "source": [
        "print(f\"Cantidad de tópicos {len(set(topics))} (incluye topico -1)\")"
      ]
    },
    {
      "cell_type": "code",
      "execution_count": 12,
      "metadata": {
        "id": "qZusn9JUN_BY"
      },
      "outputs": [
        {
          "name": "stdout",
          "output_type": "stream",
          "text": [
            "Número de tópicos encontrados: 16 (incluye el topico -1)\n",
            "    Topic  Count\n",
            "4       0    163\n",
            "0      -1    129\n",
            "6       1    126\n",
            "7       2    120\n",
            "1       3    112\n",
            "9       4     93\n",
            "13      5     45\n",
            "8       6     43\n",
            "10      7     31\n",
            "5       8     28\n",
            "12      9     26\n",
            "2      10     22\n",
            "14     11     20\n",
            "3      12     18\n",
            "11     13     12\n",
            "15     14     12\n"
          ]
        }
      ],
      "source": [
        "# Obtener documentos de cada tópico\n",
        "topic_freq = topic_model.get_topic_freq()\n",
        "\n",
        "# Imprimir el número de tópicos encontrados (incluyendo el tópico -1)\n",
        "num_topics = len(topic_freq)\n",
        "print(f\"Número de tópicos encontrados: {num_topics} (incluye el topico -1)\")\n",
        "\n",
        "# Imprimir la cant de documentos de cada tópico\n",
        "print(topic_freq)"
      ]
    },
    {
      "cell_type": "markdown",
      "metadata": {
        "id": "J8NuMpv7N_BZ"
      },
      "source": [
        "### Recuperar todos los topicos y sus etiquetas generadas por el modelo"
      ]
    },
    {
      "cell_type": "code",
      "execution_count": 13,
      "metadata": {
        "id": "QyGA8qOBN_BZ"
      },
      "outputs": [
        {
          "data": {
            "text/plain": [
              "['-1_es_tarjeta_años',\n",
              " '0_vs_estadio_partido',\n",
              " '1_relojes_presidenta_congresistas',\n",
              " '2_precios_es_aumento',\n",
              " '3_policía_mujer_robo',\n",
              " '4_furia_es_película',\n",
              " '5_estafadores_feria artesanal_víctima',\n",
              " '6_guerra_islas_veteranos',\n",
              " '7_reacción alérgica_periodista_cirugía',\n",
              " '8_ocupación_semana_turismo',\n",
              " '9_cadena_radio_mañana',\n",
              " '10_siria_ataque_consulado',\n",
              " '11_victoria_golf_mujer',\n",
              " '12_dengue_mosquitos_repelente',\n",
              " '13_dólar_notificaciones_deporte',\n",
              " '14_vientos_alerta naranja_viento']"
            ]
          },
          "execution_count": 13,
          "metadata": {},
          "output_type": "execute_result"
        }
      ],
      "source": [
        "topic_labels = topic_model.generate_topic_labels()\n",
        "topic_labels"
      ]
    },
    {
      "cell_type": "markdown",
      "metadata": {
        "id": "szmrk5CcN_BZ"
      },
      "source": [
        "### Buscar topicos ingresando un texto"
      ]
    },
    {
      "cell_type": "code",
      "execution_count": 23,
      "metadata": {
        "id": "IDMc0KZVN_BZ"
      },
      "outputs": [
        {
          "data": {
            "text/plain": [
              "([10, 9, 0, 12, 4], [0.48604098, 0.27345338, 0.2677128, 0.2284346, 0.2185418])"
            ]
          },
          "execution_count": 23,
          "metadata": {},
          "output_type": "execute_result"
        }
      ],
      "source": [
        "topic_res = topic_model.find_topics(\"cambio climatico\")\n",
        "topic_res"
      ]
    },
    {
      "cell_type": "code",
      "execution_count": 37,
      "metadata": {},
      "outputs": [
        {
          "data": {
            "text/plain": [
              "'10_vientos_la luna_alerta naranja'"
            ]
          },
          "execution_count": 37,
          "metadata": {},
          "output_type": "execute_result"
        }
      ],
      "source": [
        "topic_labels[topic_res[0][np.argmax(topic_res[1])]+1]"
      ]
    },
    {
      "cell_type": "markdown",
      "metadata": {
        "id": "p4lJj7ySN_BZ"
      },
      "source": [
        "### Buscar los titulos de los primeros n documentos de un topico"
      ]
    },
    {
      "cell_type": "code",
      "execution_count": 38,
      "metadata": {
        "id": "mDaQzIduN_BZ"
      },
      "outputs": [
        {
          "name": "stdout",
          "output_type": "stream",
          "text": [
            "5 de 22 titulos de noticias encontrados en el tópico 7\n",
            "-  Darío Barassi habló de su salud tras una complicación luego de su cirugía: \"Me aconsejaron quedarme internado\"\n",
            "-  Darío Barassi tuvo que ser internado nuevamente: qué le pasó\n",
            "-  Internaron nuevamente a Jorge Lanata\n",
            "-  Dieron de alta a Roxy Vázquez tras ser internada: \"Fue un cuadro viral severo\"\n",
            "-  Jorge Lanata, internado: el conductor volvió a la Fundación Favaloro por un problema respiratorio\n"
          ]
        }
      ],
      "source": [
        "# Obtener los n documentos de un tópico\n",
        "topic_id = 7\n",
        "n_docs = 5\n",
        "topic_docs_idx = [i for i, (doc, topic) in enumerate(zip(list(df_parquet['in__title']), topics)) if topic == topic_id]\n",
        "n_docs = n_docs if n_docs <= len(topic_docs_idx) else len(topic_docs_idx)\n",
        "\n",
        "print(f\"{n_docs} de {len(topic_docs_idx)} titulos de noticias encontrados en el tópico {topic_id:}\")\n",
        "for idx in topic_docs_idx[:n_docs]:\n",
        "    print(\"- \",df_parquet.iloc[idx]['in__title'])"
      ]
    },
    {
      "cell_type": "markdown",
      "metadata": {
        "id": "Oe7n7ofuN_Ba"
      },
      "source": [
        "#### Busqueda de documentos por topico, ordenados por mayor probabilidad"
      ]
    },
    {
      "cell_type": "code",
      "execution_count": 14,
      "metadata": {
        "id": "KFpaYMzpN_Ba"
      },
      "outputs": [
        {
          "name": "stdout",
          "output_type": "stream",
          "text": [
            "Ejemplo para tópico: 14\n",
            "12 docs encontrados\n"
          ]
        },
        {
          "data": {
            "text/html": [
              "<div>\n",
              "<style scoped>\n",
              "    .dataframe tbody tr th:only-of-type {\n",
              "        vertical-align: middle;\n",
              "    }\n",
              "\n",
              "    .dataframe tbody tr th {\n",
              "        vertical-align: top;\n",
              "    }\n",
              "\n",
              "    .dataframe thead th {\n",
              "        text-align: right;\n",
              "    }\n",
              "</style>\n",
              "<table border=\"1\" class=\"dataframe\">\n",
              "  <thead>\n",
              "    <tr style=\"text-align: right;\">\n",
              "      <th></th>\n",
              "      <th>ID</th>\n",
              "      <th>titulo</th>\n",
              "      <th>score</th>\n",
              "    </tr>\n",
              "  </thead>\n",
              "  <tbody>\n",
              "    <tr>\n",
              "      <th>0</th>\n",
              "      <td>105641112</td>\n",
              "      <td>La inteligencia artificial responde mejor si somos emocionales en nuestras preguntas, demuestra estudio</td>\n",
              "      <td>1.0000</td>\n",
              "    </tr>\n",
              "    <tr>\n",
              "      <th>1</th>\n",
              "      <td>105585338</td>\n",
              "      <td>Flor Vigna se quebró al hablar sobre su separación de Luciano Castro</td>\n",
              "      <td>1.0000</td>\n",
              "    </tr>\n",
              "    <tr>\n",
              "      <th>2</th>\n",
              "      <td>105591758</td>\n",
              "      <td>Israel bombardeó el consulado de Irán en Damasco y mató a un importante general de la Guardia Revolucionaria Iraní</td>\n",
              "      <td>1.0000</td>\n",
              "    </tr>\n",
              "    <tr>\n",
              "      <th>4</th>\n",
              "      <td>105638589</td>\n",
              "      <td>Spotify lanza una nueva opción de suscripción para audiolibros: cuánto cuestan y dónde se puede acceder</td>\n",
              "      <td>1.0000</td>\n",
              "    </tr>\n",
              "    <tr>\n",
              "      <th>5</th>\n",
              "      <td>105595234</td>\n",
              "      <td>Advierten demoras en la frontera con Chile por el regreso de turistas a Mendoza</td>\n",
              "      <td>1.0000</td>\n",
              "    </tr>\n",
              "    <tr>\n",
              "      <th>7</th>\n",
              "      <td>105595297</td>\n",
              "      <td>Bolivia: por un accidente fatal, le pidieron a Boca no regresar cuando termine el partido</td>\n",
              "      <td>1.0000</td>\n",
              "    </tr>\n",
              "    <tr>\n",
              "      <th>8</th>\n",
              "      <td>105594647</td>\n",
              "      <td>Denunció al vecino por comerse un asado en el Viernes Santo</td>\n",
              "      <td>1.0000</td>\n",
              "    </tr>\n",
              "    <tr>\n",
              "      <th>9</th>\n",
              "      <td>105558425</td>\n",
              "      <td>Clima en Córdoba: fuerte descenso de la temperatura para el lunes, ¿llega la lluvia?</td>\n",
              "      <td>1.0000</td>\n",
              "    </tr>\n",
              "    <tr>\n",
              "      <th>10</th>\n",
              "      <td>105594412</td>\n",
              "      <td>Alerta por viento y lluvia, este martes y miércoles, en Neuquén y Río Negro: habrá ráfagas de 120 km/h</td>\n",
              "      <td>1.0000</td>\n",
              "    </tr>\n",
              "    <tr>\n",
              "      <th>11</th>\n",
              "      <td>105640874</td>\n",
              "      <td>🟠 Lanzaron una alerta naranja por fuertes vientos: qué provincias serán afectadas</td>\n",
              "      <td>1.0000</td>\n",
              "    </tr>\n",
              "    <tr>\n",
              "      <th>6</th>\n",
              "      <td>105595291</td>\n",
              "      <td>Martín Menem apuntó contra Lousteau tras sus críticas al Gobierno por los casos de dengue: \"Asesorate mejor\"</td>\n",
              "      <td>0.9885</td>\n",
              "    </tr>\n",
              "    <tr>\n",
              "      <th>3</th>\n",
              "      <td>105579290</td>\n",
              "      <td>Jorge Lanata, internado: el conductor volvió a la Fundación Favaloro por un problema respiratorio</td>\n",
              "      <td>0.6264</td>\n",
              "    </tr>\n",
              "  </tbody>\n",
              "</table>\n",
              "</div>"
            ],
            "text/plain": [
              "           ID  \\\n",
              "0   105641112   \n",
              "1   105585338   \n",
              "2   105591758   \n",
              "4   105638589   \n",
              "5   105595234   \n",
              "7   105595297   \n",
              "8   105594647   \n",
              "9   105558425   \n",
              "10  105594412   \n",
              "11  105640874   \n",
              "6   105595291   \n",
              "3   105579290   \n",
              "\n",
              "                                                                                                                titulo  \\\n",
              "0              La inteligencia artificial responde mejor si somos emocionales en nuestras preguntas, demuestra estudio   \n",
              "1                                                 Flor Vigna se quebró al hablar sobre su separación de Luciano Castro   \n",
              "2   Israel bombardeó el consulado de Irán en Damasco y mató a un importante general de la Guardia Revolucionaria Iraní   \n",
              "4              Spotify lanza una nueva opción de suscripción para audiolibros: cuánto cuestan y dónde se puede acceder   \n",
              "5                                      Advierten demoras en la frontera con Chile por el regreso de turistas a Mendoza   \n",
              "7                            Bolivia: por un accidente fatal, le pidieron a Boca no regresar cuando termine el partido   \n",
              "8                                                          Denunció al vecino por comerse un asado en el Viernes Santo   \n",
              "9                                 Clima en Córdoba: fuerte descenso de la temperatura para el lunes, ¿llega la lluvia?   \n",
              "10              Alerta por viento y lluvia, este martes y miércoles, en Neuquén y Río Negro: habrá ráfagas de 120 km/h   \n",
              "11                                   🟠 Lanzaron una alerta naranja por fuertes vientos: qué provincias serán afectadas   \n",
              "6         Martín Menem apuntó contra Lousteau tras sus críticas al Gobierno por los casos de dengue: \"Asesorate mejor\"   \n",
              "3                    Jorge Lanata, internado: el conductor volvió a la Fundación Favaloro por un problema respiratorio   \n",
              "\n",
              "     score  \n",
              "0   1.0000  \n",
              "1   1.0000  \n",
              "2   1.0000  \n",
              "4   1.0000  \n",
              "5   1.0000  \n",
              "7   1.0000  \n",
              "8   1.0000  \n",
              "9   1.0000  \n",
              "10  1.0000  \n",
              "11  1.0000  \n",
              "6   0.9885  \n",
              "3   0.6264  "
            ]
          },
          "execution_count": 14,
          "metadata": {},
          "output_type": "execute_result"
        }
      ],
      "source": [
        "topic = 14\n",
        "# topic = np.random.randint(0, len(docs_per_topics)-1) # Aleatorio\n",
        "\n",
        "docs_per_topics = [i for i, x in enumerate(topic_model.topics_) if x == topic]\n",
        "probs = topic_model.probabilities_[docs_per_topics]\n",
        "\n",
        "print(\"Ejemplo para tópico:\", topic)\n",
        "\n",
        "doc_probs_x_topic = []\n",
        "news_nmf = []\n",
        "title_nmf = []\n",
        "for i, doc in enumerate(docs_per_topics):\n",
        "    doc_probs_x_topic.append([df_parquet.index[doc], df_parquet.iloc[doc].in__title, round(probs[i],4)])\n",
        "    news_nmf.append(df_parquet.iloc[doc].in__text)\n",
        "    title_nmf.append(df_parquet.iloc[doc].in__title)\n",
        "\n",
        "df_query_1 = pd.DataFrame(doc_probs_x_topic, columns=['ID','titulo','score'])\n",
        "print(len(df_query_1), \"docs encontrados\")\n",
        "df_query_1.sort_values('score', ascending=False)"
      ]
    },
    {
      "cell_type": "markdown",
      "metadata": {
        "id": "NaIQUMQfN_Ba"
      },
      "source": [
        "#### Palabras clave del topico"
      ]
    },
    {
      "cell_type": "code",
      "execution_count": 46,
      "metadata": {
        "id": "COEmgwdeN_Bf"
      },
      "outputs": [
        {
          "name": "stdout",
          "output_type": "stream",
          "text": [
            "Topico: 10\n",
            "[('vientos', 0.09977259625176492), ('la luna', 0.07679682318570355), ('alerta naranja', 0.06944336127359137), ('eclipse solar', 0.0630739403005475), ('eclipse total', 0.05979648139110144), ('lluvias', 0.058534794760510815), ('viento', 0.05738810416124283), ('ráfagas', 0.05337818505336163), ('martes', 0.05330110094984347), ('grados', 0.052292204405395185)]\n"
          ]
        }
      ],
      "source": [
        "# Obtener las palabras clave para un topico dado\n",
        "topic = 10\n",
        "topic_keywords = topic_model.get_topic(topic)\n",
        "print(\"Topico:\", topic)\n",
        "print(topic_keywords)"
      ]
    },
    {
      "cell_type": "markdown",
      "metadata": {
        "id": "G9oQK911N_Bf"
      },
      "source": [
        "### Criterio de corte (umbral)\n",
        "El criterio de corte utilizado para filtrar las noticias que pertenecen a un topico es la media."
      ]
    },
    {
      "cell_type": "code",
      "execution_count": 47,
      "metadata": {
        "id": "tAt7-_Q8N_Bf"
      },
      "outputs": [
        {
          "data": {
            "image/png": "[encoded data removed]",
            "text/plain": [
              "<Figure size 640x480 with 1 Axes>"
            ]
          },
          "metadata": {},
          "output_type": "display_data"
        }
      ],
      "source": [
        "# Calcular la media, el desvío estándar\n",
        "\n",
        "mean = np.mean([fila[2] for fila in doc_probs_x_topic])\n",
        "std_dev = np.std([fila[2] for fila in doc_probs_x_topic])\n",
        "\n",
        "# Crear el histograma\n",
        "plt.hist([fila[2] for fila in doc_probs_x_topic], bins=10, edgecolor='black')\n",
        "\n",
        "# Añadir líneas para la media, la moda y el desvío estándar\n",
        "plt.axvline(mean, color='r', linestyle='dashed', linewidth=1, label=f'Media: {mean:.2f}')\n",
        "plt.axvline(mean - std_dev, color='b', linestyle='dashed', linewidth=1, label=f'-1 STD: {mean - std_dev:.2f}')\n",
        "\n",
        "\n",
        "# Añadir títulos y etiquetas\n",
        "plt.title(f'Histograma de probabilidades topico: {topic}')\n",
        "plt.xlabel('Valor')\n",
        "plt.ylabel('Frecuencia')\n",
        "plt.legend()\n",
        "\n",
        "# Mostrar el gráfico\n",
        "plt.show()"
      ]
    },
    {
      "cell_type": "markdown",
      "metadata": {
        "id": "_P-1fHJ2N_Bf"
      },
      "source": [
        "#### Documentos mas representativos de un topico"
      ]
    },
    {
      "cell_type": "code",
      "execution_count": 15,
      "metadata": {},
      "outputs": [],
      "source": [
        "topic = 14"
      ]
    },
    {
      "cell_type": "markdown",
      "metadata": {
        "id": "X7uKkzfWN_Bg"
      },
      "source": [
        "- [1]  Desde el metodo del modelo"
      ]
    },
    {
      "cell_type": "code",
      "execution_count": 16,
      "metadata": {
        "id": "LifmcWPCN_Bg"
      },
      "outputs": [
        {
          "data": {
            "text/plain": [
              "['Se espera una jornada mayormente nublada en AMBA.\\n\\nPara este martes, el Servicio Meteorológico Nacional (SMN) mantiene advertencias por lluvias, vientos y el viento local Zonda en la Patagonia, la región pampeana y Cuyo respectivamente. Con 0% de probabilidad de precipitaciones, en AMBA se pronostica una jornada mayormente nublada, con una temperatura máxima de 22 grados y una mínima de 16.\\n\\nEl tiempo nublado se sostiene en ciudades costeras como Mar del Plata, Pinamar y Cariló, aunque en estas localidades se espera una mañana con neblina. La situación es similar en algunos de los principales destinos turísticos del interior del país: en las capitales de Mendoza, Santa Fe y Córdoba el cielo estará parcialmente nublado durante todo el día y sin probabilidad de precipitaciones.\\n\\nVientos fuertes y lluvias: el pronóstico en el interior del país\\n\\nLas provincias de Chubut, Neuquén y Río Negro se encuentran en alerta naranja por lluvias. Se trata de un nivel intermedio de advertencia, por por lo que se sugiere buscar un lugar bajo techo, mantenerse lejos de zonas costeras y ribereñas, cortar la electricidad en caso de riesgo de que ingrese agua al hogar, alejarse de postes de luz o cables de electricidad y tener una mochila de emergencias con linterna, radio, documentos y teléfono.\\n\\nLas alertas por lluvias en este 2 de abril (SMN)\\n\\nEl sur de Buenos Aires, casi la totalidad de La Pampa, el oeste de Río Negro y una porción pequeña del este de Mendoza mantienen una advertencia amarilla por vientos, en tanto, el nivel sube a naranja en Neuquén, gran parte de Chubut y la mitad este de Río Negro. No refugiarse cerca de árboles y postes de electricidad, buscar un sitio seguro bajo techo y preparar un bolso con los artículos de emergencia mencionados son algunas de las sugerencias del organismo.\\n\\nLas advertencias, en nivel amarillo y naranja, por vientos (SMN)\\n\\nPor último, se prevé que sople el Zonda en la región de Cuyo: la advertencia es amarilla para una pequeña porción del sur de San Juan y el norte de Mendoza, mientras que en el sur de esta última provincia también rige el alerta en nivel naranja. Este fenómeno meteorológico se caracteriza por ser un viento fuerte, seco y de temperatura elevada.\\n\\nSe debe reducir al mínimo la permanencia en el exterior debido a la exposición a la radiación del sol, y mantenerse alejado de cables, porque llevan corriente eléctrica. Además, durante la zonda, aumenta el riesgo de incendios por la sequedad del ambiente, por lo que no se deben generar fuegos ni usar materiales inflamables.\\n\\nLa región de Cuyo espera viento Zonda, fuerte, seco y de temperatura elevada (SMN)\\n\\nPara este miércoles, el SMN prevé que regirá una alerta amarilla por tormentas en Entre Ríos y Santa Fe, así como una advertencia por vientos en varias provincias del sur: Neuquén, Río Negro, Chubut y Santa Cruz.\\n\\nLos números del fin de semana extra largo\\n\\nEl Sistema de Información Turística de Argentina (SINTA) registra un nivel alto de ocupación en el sector hotelero desde el jueves pasado (considerado día no laborable) hasta este martes 2 de abril, feriado nacional. Los números alcanzan el 90% o más en varias localidades del país.\\n\\nEntre los destinos con mayor demanda se destacan Tandil y Villa Carlos Paz, ambos con un 93% de reservas; Villa Elisa con un 96%, y Merlo con un 90%. La ocupación en Bariloche y la ciudad de Mendoza también supera el 80%.\\n\\nLa ocupación en Bariloche y la ciudad de Mendoza también supera el 80%.\\n\\nA nivel provincial, Jujuy lidera con el 85,2% de ocupación, seguido por San Juan y Misiones con un 80%, mientras que Corrientes y La Rioja registran un 79%, y Mendoza un 75%.\\n\\nAdemás, Aerolíneas Argentinas informó un incremento del 40% en la emisión de pasajes en comparación con el mismo período del año anterior.\\n\\n“Este fin de semana extra largo se presenta con gran actividad para el sector, con el aporte de Cuota Simple que representa una gran oportunidad para quienes se proponen disfrutar de unos días de descanso y, a la vez, un impulso para la reactivación de las economías regionales que generan puestos de trabajo genuinos y sustentables”, indicó la subsecretaria nacional de Turismo, Yanina Martínez.',\n",
              " 'El temporal llegará en medio del regreso a casa de miles de turistas. Conocé los puntos afectados.\\n\\nEl Servicio Meteorológico Nacional (SMN) emitió una alerta naranja por viento y lluvia en distintos puntos de la provincia de Neuquén. Por eso, desde las autoridades solicitaron a los automovilistas tener mayor precaución durante el regreso a casa tras el éxodo turístico por el finde XXL que unió Semana Santa con el feriado del 2 de abril.\\n\\nEl SMN emitió alerta naranja por lluvias y viento en la región cordillerana, mientras que en la zona de la Confluencia hay alerta naranja sólo por vientos a partir del martes por la tarde. En la región norte de Neuquén, en cambio, hay alerta naranja por vientos y alerta amarilla por lluvias.\\n\\nSegún los datos del Autoridad Interjurisdiccional de Cuencas (AIC), para el martes, se espera tiempo más inestable, con el cielo más cubierto en la ciudad de Neuquén. \"A partir del martes, nuevamente ingreso de aire húmedo y frío del Océano Pacífico, provocará viento zonda, moderado a fuerte del noroeste, cálido, brusco descenso de la presión atmosférica. A partir del miércoles tiempo bueno y fresco\", expresaron desde la AIC.\\n\\nEl viento será muy intenso, sobre todo en horas de la mañana y tarde, cuando está previsto que alcance una velocidad promedio de 44 kilómetros por hora y ráfagas que alcanzarán los 80 kilómetros. Por la tarde, la velocidad promedio será de 36 kilómetros, y se espera que las ráfagas lleguen a los 50 kilómetros por hora.\\n\\nSegún el servicio meteorológico nacional, las ráfagas podrían ser incluso más intensas durante la noche, cuando se espera que las velocidades más altas lleguen cerca de los 100 kilómetros por hora.\\n\\nLa lluvia afecta a las localidades cordilleranas Fabián González (Lácar Digital)\\n\\nEn la cordillera, por su parte, se esperan fuertes lluvias durante la tarde del martes. Se esperan valores de precipitación acumulada entre 15 y 25 mm, que podrán ser superados en algunos sectores. En la misma zona, se esperan vientos del sector oeste con velocidades entre 45 y 65 kilómetro por hora y ráfagas que pueden superar los 100 kilómetros por hora.\\n\\nLa alerta naranja por vientos rige desde el martes por la tarde en las regiones de Los Lagos, la región de Bariloche y Aluminé. En la zona norte de la provincia, en cambio, hay alerta por vientos fuertes pero se espera sólo alerta amarilla por lluvias.\\n\\nEn Añelo y la región de la Confluencia, por su parte, se esperan vientos fuertes, pero no lluvias. Sin embargo, se aconseja mantener la precaución, sobre todo porque las inclemencias del tiempo comienzan en la tarde del martes, justo cuando se espera un intenso tránsito vehicular por la cantidad de personas de Neuquén capital y alrededores que viajaron por el fin de semana largo y buscarán regresar a casa.\\n\\nRetorno seguro en medio de la alerta meteorológica\\n\\nDado el importante movimiento turístico que se registra en la provincia, se pide a todos los visitantes realizar un retorno seguro, dado que se prevé un intenso movimiento vehicular en cada una de las rutas de la provincia.\\n\\nPara colaborar en esta tarea, se lleva adelante el operativo de seguridad vial “Rutas Seguras”, a cargo de la secretaría de Emergencia y Gestión de Riesgo, con el apoyo del Servicio Integrado de Emergencias del Neuquén (SIEN), Seguridad Vial y la policía provincial.\\n\\nLos dispositivos se realizan hasta el martes 2 de abril y se encuentran ubicados estratégicamente en la Autovía Norte de la ciudad de Neuquén, con acceso a Ruta 67, y Ruta 7 Centenario; en Arroyito, sobre la intersección de Rutas 22 y 234, y otros adicionales en Picún Leufú, Piedra del Águila, Zapala y San Martín de los Andes, con cobertura en la Ruta de los Siete Lagos.',\n",
              " 'Alerta por viento y lluvia, este martes y miércoles, en Neuquén y Río Negro: habrá ráfagas de 120 km/h\\n\\nEl Servicio Meteorológico Nacional (SMN) emitió un alerta amarillo y naranja por lluvia y viento para Neuquén y Río Negro, para este martes 2 y miércoles 3 de abril . Las ráfagas podrían superar los 120 kilómetros por hora en algunas zonas de la región. Acá el detalle por lugares.\\n\\nEl organismo nacional informó que en los lugares donde reguirá el alerta amarillo se esperan valores de precipitación acumulada entre 15 y 25 mm, y en las zonas con la advertencia de nivel naranja, que haya lluvias fuertes «con una precipitación acumulada entre 30 y 60 mm que pueden ser superados en forma puntual».\\n\\nTambién comunicó el SMN que las zonas alcanzadas por alerta naranja, tendrán «vientos del sector norte con velocidades entre 50 y 75 km/h, y ráfagas que pueden superar los 120 km/h» y que la visibilidad podrá verse reducida. En los sitios con advertencia amarilla, se registrarán vientos con velocidades entre 45 y 65 km/h y ráfagas que pueden superar los 100 km/h.\\n\\nAlerta por viento y lluvias en Neuquén: los peores horarios\\n\\nLos Lasgos – Cordillera de Aluminé – Cordillera de Chos Malal – Cordillera de Loncopué – Departamento Minas – Las Lajas – Cordillera de Ñorquín: hay alerta amarillo por lluvia para el martes por la mañana, la cual ascenderá a naranja por la tarde y regresará a amarillo por la noche. En cuanto a los vientos regirá un alerta naranja durante la mañana y tarde del martes 2.\\n\\nEste de Loncopué – Este de Picunches (ciudad cabecera Las Lajas), Este de Ñorquín – Oeste de Añelo – Oeste de Pehuenches (ciudad cabecera Rincón de los Sauces) – Sur de Chos Malal – Sur de Minas– Catán Lil – Collón Curá – Zapala – Zona baja de Aluminé – Zona baja de Huiliches (cabecera Junín de los Ande) – Zona baja de Lácar: alerta naranja por viento desde la mañana hasta la noche del martes. El miércoles por la madrugada descenderá a alerta amarilla.\\n\\nNeuquén, Plottier, Centenario y alrededores – Este de Añelo – Este de Pehuenches – Picún Leufú: alerta amarillo por viento para el martes por la tarde, alertar narajan para la noche y alerta amarillo para la madrugada del miércoles.\\n\\nJunín de los Andes – San Martín de los Andes- Sur de Aluminé- Villa La Angostura: alerta por lluvia, de nivel amarillo para la tarde y noche del martes. Y también el martes, advertencia naranja por viento para la mañana y tarde del martes.\\n\\nAlerta por viento y lluvias en Río Negro: los peores horarios\\n\\nEl Cuy – General Roca: alerta amarillo por viento para el martes por la tarde y madrugada del miércoles. Ascenderá a naranja durante la noche del martes.\\n\\nBariloche – Cordillera de Pilcaniyeu – Cordillera de Ñorquinco: alerta por lluvia, de nivel amarillo, mañana y noche del martes, y naranja, el 2 de abril por la tarde. Y también el martes, advertencia por viento (por la mañana de nivel naranja y amarillo durante la tarde).\\n\\nMeseta de Pilcaniyeu – Meseta de Ñorquinco – Nueve de Julio – Veinticinco de Mayo: alerta naranja por viento el martes por la tarde y noche, y amarillo, en la mañana del 2 de abril y madrugrada del miércoles 3.\\n\\nConesa – Meseta de Adolfo Alsina – Meseta de San Antonio – Valcheta Avellaneda – Pichi Mahuida: alerta amarillo por viento para el martes durante la mañana, tarde y noche.\\n\\nAlerta por vientos y lluvias: recomiendan circular con extrema precaución\\n\\nPor su parte, desde el Parque Nacional Nahuel Huapi también informaron sobre el alerta meteoreológico en la zona patagónica, donde pronosticaron ráfagas que podrían llegar a superar los 100 km/h.\\n\\nAnte la alerta, advirtieron que las condiciones climáticas podrían producir diversas situaciones de riesgo en los ambientes naturales, como aludes, caídas de árboles y piedras, crecimiento abrupto de ríos y arroyos.\\n\\nRecomiendan circular con extrema precaución y tomar todos los recaudos pertinentes, «teniendo en cuenta estas condiciones al planificar la salida, quedando bajo absoluta responsabilidad de los prestadores turísticos y visitantes no respetar las indicaciones», señalaron.\\n\\nQué significa alerta amarillo y naranja\\n\\nSegún indicó el SMN, el alerta amarillo significa hay posibles fenómenos meteorológicos con capacidad de daño y riesgo de interrupción momentánea de actividades cotidianas».\\n\\nEn tanto, el naranja, que se esperan «fenómenos meteorológicos peligrosos para la sociedad, la vida, los bienes y el medio ambiente».\\n\\nFuente: SMN\\n\\nAlerta por viento y lluvia: las recomendaciones del Gobierno de Río Negro\\n\\n«Ante cualquier emergencia, no dudes en comunicarte al 911«, señalaron desde el Gobierno de Río Negro ante la llegada de fuertes vientos y lluvias para este martes.\\n\\nAlgunas medidas a tener en cuenta frente a las alertas meteorológicas:\\n\\n– No salir del hogar si no es necesario\\n\\n– No estacionar bajo árboles ni objetos sueltos.\\n\\n– Tener cuidado con los objetos en altura (sobre todo en balcones y techos).\\n\\n– Asegurar las coberturas de los techos.\\n\\n– Tomar las precauciones necesarias en caso de que haya un corte de energía (se recomienda tener elementos de iluminación, como velas o linternas).']"
            ]
          },
          "execution_count": 16,
          "metadata": {},
          "output_type": "execute_result"
        }
      ],
      "source": [
        "docs_representative = topic_model.get_representative_docs(topic=topic)\n",
        "docs_representative"
      ]
    },
    {
      "cell_type": "markdown",
      "metadata": {
        "id": "z5X4ReLMN_Bg"
      },
      "source": [
        "- [2] Por busqueda de probabilidad de documentos (en opensearch) perteneciente al topico ( utilizando el umbral de corte )"
      ]
    },
    {
      "cell_type": "code",
      "execution_count": 17,
      "metadata": {
        "id": "5Ydu-y_jN_Bg"
      },
      "outputs": [
        {
          "name": "stderr",
          "output_type": "stream",
          "text": [
            "  0%|          | 0/12 [00:00<?, ?it/s]\n"
          ]
        },
        {
          "ename": "IndexError",
          "evalue": "index 96 is out of bounds for axis 0 with size 12",
          "output_type": "error",
          "traceback": [
            "\u001b[1;31m---------------------------------------------------------------------------\u001b[0m",
            "\u001b[1;31mIndexError\u001b[0m                                Traceback (most recent call last)",
            "Cell \u001b[1;32mIn[17], line 17\u001b[0m\n\u001b[0;32m     15\u001b[0m \u001b[38;5;28;01mfor\u001b[39;00m doc_ID \u001b[38;5;129;01min\u001b[39;00m tqdm(docs_per_topics):\n\u001b[0;32m     16\u001b[0m     docs_ids\u001b[38;5;241m.\u001b[39mappend(df_parquet\u001b[38;5;241m.\u001b[39mindex[doc_ID])\n\u001b[1;32m---> 17\u001b[0m     doc_probs_x_topic\u001b[38;5;241m.\u001b[39mappend(\u001b[43mprobs\u001b[49m\u001b[43m[\u001b[49m\u001b[43mdoc_ID\u001b[49m\u001b[43m]\u001b[49m)\n\u001b[0;32m     19\u001b[0m \u001b[38;5;66;03m# Calcular la media, el desvío estándar\u001b[39;00m\n\u001b[0;32m     20\u001b[0m threshold \u001b[38;5;241m=\u001b[39m np\u001b[38;5;241m.\u001b[39mmean(doc_probs_x_topic)\n",
            "\u001b[1;31mIndexError\u001b[0m: index 96 is out of bounds for axis 0 with size 12"
          ]
        }
      ],
      "source": [
        "\n",
        "# Definir la función de estilo\n",
        "def color_rows(row, label, value):\n",
        "    if row[label] >= value:\n",
        "        return ['color: cyan'] * len(row)\n",
        "    else:\n",
        "        return [''] * len(row)\n",
        "\n",
        "# Agrupamos documentos por topico\n",
        "docs_per_topics = [i for i, x in enumerate(topic_model.topics_) if x == topic]\n",
        "\n",
        "# Obtener los IDs de los documentos y sus probabilidades\n",
        "docs_ids = []\n",
        "docs_topic = []\n",
        "doc_probs_x_topic = []\n",
        "for doc_ID in tqdm(docs_per_topics):\n",
        "    docs_ids.append(df_parquet.index[doc_ID])\n",
        "    doc_probs_x_topic.append(probs[doc_ID])\n",
        "\n",
        "# Calcular la media, el desvío estándar\n",
        "threshold = np.mean(doc_probs_x_topic)\n",
        "\n",
        "# Crear una consulta de múltiples IDs\n",
        "index_name = 'news'\n",
        "mget_query = {\n",
        "    \"docs\": [{\"_index\": index_name, \"_id\": doc_id} for doc_id in docs_ids]\n",
        "}\n",
        "\n",
        "# Realizar la búsqueda de múltiples IDs\n",
        "response = os_client.mget(body=mget_query, index=index_name)\n",
        "\n",
        "# Procesar la respuesta\n",
        "for i, doc in enumerate(response['docs']):\n",
        "    if doc['found']:\n",
        "        idx = doc['_id']\n",
        "        title = df_parquet.iloc[docs_per_topics[i]].in__title\n",
        "        text = df_parquet.iloc[docs_per_topics[i]].in__text\n",
        "        prob_doc = probs[docs_per_topics[i]]\n",
        "\n",
        "        docs_topic.append([idx, title, prob_doc, text[:40]])\n",
        "\n",
        "\n",
        "df_view = pd.DataFrame(docs_topic, columns = ['indice','titulo','prob','text']).sort_values('prob', ascending=False)\n",
        "df_view.style.apply(lambda row: color_rows(row, 'prob', threshold), axis=1)\n"
      ]
    },
    {
      "cell_type": "markdown",
      "metadata": {
        "id": "Bwt-eN0tN_Bg"
      },
      "source": [
        "Nota: Los documentos mas representativos encontrados utilizando el metodo \"get_representative_docs\" no refleja lo mismo que encontrando los documentos por probabilidades maximas"
      ]
    },
    {
      "cell_type": "markdown",
      "metadata": {
        "id": "a-1Q3ReVN_Bg"
      },
      "source": [
        "- [3] Por similitud coseno del topico a los tres documento mas cercanos"
      ]
    },
    {
      "cell_type": "code",
      "execution_count": 19,
      "metadata": {
        "id": "vFCtpfj-N_Bh"
      },
      "outputs": [
        {
          "data": {
            "text/plain": [
              "(16, 1000)"
            ]
          },
          "execution_count": 19,
          "metadata": {},
          "output_type": "execute_result"
        }
      ],
      "source": [
        "# Obtenemos la matriz de similitud coseno entre topicos y documentos\n",
        "sim_matrix = cosine_similarity(topic_model.topic_embeddings_, docs_embedding)\n",
        "sim_matrix.shape"
      ]
    },
    {
      "cell_type": "code",
      "execution_count": 20,
      "metadata": {
        "id": "sCtO8yBMN_Bh"
      },
      "outputs": [
        {
          "name": "stdout",
          "output_type": "stream",
          "text": [
            "0 La inteligencia artificial responde mejor si somos emocionales en nuestras preguntas, demuestra estudio\n",
            "2 Israel bombardeó el consulado de Irán en Damasco y mató a un importante general de la Guardia Revolucionaria Iraní\n",
            "1 Flor Vigna se quebró al hablar sobre su separación de Luciano Castro\n"
          ]
        }
      ],
      "source": [
        "# Similitud coseno entre el topico y los documentos del topico elegido\n",
        "s_coseno = []\n",
        "for i in docs_per_topics:\n",
        "    s_coseno.append(cosine_similarity([topic_model.topic_embeddings_[topic + 1]], [docs_embedding[i]])[0][0])\n",
        "\n",
        "# Indices\n",
        "idx_coseno_sort = np.argsort(s_coseno)[::-1]\n",
        "\n",
        "for idx in idx_coseno_sort[:3]:\n",
        "    print(idx, df_parquet.iloc[docs_per_topics[idx]].in__title)\n"
      ]
    },
    {
      "cell_type": "markdown",
      "metadata": {
        "id": "HRRm3tWeN_Bh"
      },
      "source": [
        "Nota: Del mismo modo que en el punto anterior, los documentos mas cercanos al topico no coinciden, no son exactamente los mismos que los hallados en el punto 1"
      ]
    },
    {
      "cell_type": "markdown",
      "metadata": {
        "id": "QAvGGp2JN_Bh"
      },
      "source": [
        "- [4] Primer documento mas cercano al embedding del topico"
      ]
    },
    {
      "cell_type": "code",
      "execution_count": 21,
      "metadata": {
        "id": "CmKsuTeVN_Bi"
      },
      "outputs": [
        {
          "name": "stdout",
          "output_type": "stream",
          "text": [
            "Noticia de maxima similitud con el topico: 14\n",
            "Doc ID: 105641112\n",
            "Titulo: La inteligencia artificial responde mejor si somos emocionales en nuestras preguntas, demuestra estudio\n",
            "Noticia: La amabilidad y las emociones hacen que Chat GPT brinde mejores respuestas - (Im...\n"
          ]
        }
      ],
      "source": [
        "# Documento de maxima similitud con el topico\n",
        "\n",
        "simil_docs_topic = sim_matrix[topic + 1].argmax()\n",
        "print(f\"Noticia de maxima similitud con el topico: {topic}\")\n",
        "print(f\"Doc ID: {df_parquet.index[simil_docs_topic]}\")\n",
        "print(f\"Titulo: {df_parquet.iloc[simil_docs_topic].in__title}\")\n",
        "print(f\"Noticia: {data[simil_docs_topic][:80]}...\")\n",
        "best_doc = data[simil_docs_topic]"
      ]
    },
    {
      "cell_type": "markdown",
      "metadata": {},
      "source": [
        "### keywords de un topico y documentos pertenecientes (vista del dataframe)"
      ]
    },
    {
      "cell_type": "code",
      "execution_count": 92,
      "metadata": {},
      "outputs": [
        {
          "name": "stdout",
          "output_type": "stream",
          "text": [
            "7_reacción alérgica_cuerdas vocales_cirugía_periodista\n"
          ]
        },
        {
          "data": {
            "text/html": [
              "<div>\n",
              "<style scoped>\n",
              "    .dataframe tbody tr th:only-of-type {\n",
              "        vertical-align: middle;\n",
              "    }\n",
              "\n",
              "    .dataframe tbody tr th {\n",
              "        vertical-align: top;\n",
              "    }\n",
              "\n",
              "    .dataframe thead th {\n",
              "        text-align: right;\n",
              "    }\n",
              "</style>\n",
              "<table border=\"1\" class=\"dataframe\">\n",
              "  <thead>\n",
              "    <tr style=\"text-align: right;\">\n",
              "      <th></th>\n",
              "      <th>idx</th>\n",
              "      <th>title</th>\n",
              "      <th>umbral</th>\n",
              "    </tr>\n",
              "  </thead>\n",
              "  <tbody>\n",
              "    <tr>\n",
              "      <th>7</th>\n",
              "      <td>328</td>\n",
              "      <td>Preocupación por Lanata: internado por problemas respiratorios</td>\n",
              "      <td>0.877170</td>\n",
              "    </tr>\n",
              "    <tr>\n",
              "      <th>5</th>\n",
              "      <td>289</td>\n",
              "      <td>Internaron nuevamente al periodista Jorge Lanata</td>\n",
              "      <td>0.839079</td>\n",
              "    </tr>\n",
              "    <tr>\n",
              "      <th>4</th>\n",
              "      <td>262</td>\n",
              "      <td>Jorge Lanata, internado: el conductor volvió a la Fundación Favaloro por un problema respiratorio</td>\n",
              "      <td>0.824902</td>\n",
              "    </tr>\n",
              "    <tr>\n",
              "      <th>11</th>\n",
              "      <td>623</td>\n",
              "      <td>Darío Barassi explicó por qué tuvieron que internarlo de urgencia</td>\n",
              "      <td>0.817513</td>\n",
              "    </tr>\n",
              "    <tr>\n",
              "      <th>15</th>\n",
              "      <td>751</td>\n",
              "      <td>Preocupación por la salud de Darío Barassi: fue internado de urgencia</td>\n",
              "      <td>0.798851</td>\n",
              "    </tr>\n",
              "    <tr>\n",
              "      <th>18</th>\n",
              "      <td>778</td>\n",
              "      <td>Darío Barassi volvió a ser internado y generó suma preocupación en sus fanáticos</td>\n",
              "      <td>0.792726</td>\n",
              "    </tr>\n",
              "    <tr>\n",
              "      <th>10</th>\n",
              "      <td>501</td>\n",
              "      <td>Darío Barassi tuvo que volver a ser internado tras su operación: las razones</td>\n",
              "      <td>0.779267</td>\n",
              "    </tr>\n",
              "    <tr>\n",
              "      <th>0</th>\n",
              "      <td>200</td>\n",
              "      <td>Darío Barassi habló de su salud tras una complicación luego de su cirugía: \"Me aconsejaron quedarme internado\"</td>\n",
              "      <td>0.772089</td>\n",
              "    </tr>\n",
              "    <tr>\n",
              "      <th>6</th>\n",
              "      <td>302</td>\n",
              "      <td>Internaron a Darío Barassi: el conductor contó qué le pasa</td>\n",
              "      <td>0.760845</td>\n",
              "    </tr>\n",
              "    <tr>\n",
              "      <th>14</th>\n",
              "      <td>716</td>\n",
              "      <td>Darío Barassi tuvo que volver a ser internado tras su cirugía: \"A veces las cosas no son como uno quiere\"</td>\n",
              "      <td>0.753838</td>\n",
              "    </tr>\n",
              "    <tr>\n",
              "      <th>13</th>\n",
              "      <td>651</td>\n",
              "      <td>La famosa conductora de TN que deberá afrontar un duro tratamiento tras su segunda internación por dengue - MDZ Online</td>\n",
              "      <td>0.734034</td>\n",
              "    </tr>\n",
              "    <tr>\n",
              "      <th>1</th>\n",
              "      <td>231</td>\n",
              "      <td>Darío Barassi tuvo que ser internado nuevamente: qué le pasó</td>\n",
              "      <td>0.732456</td>\n",
              "    </tr>\n",
              "  </tbody>\n",
              "</table>\n",
              "</div>"
            ],
            "text/plain": [
              "    idx  \\\n",
              "7   328   \n",
              "5   289   \n",
              "4   262   \n",
              "11  623   \n",
              "15  751   \n",
              "18  778   \n",
              "10  501   \n",
              "0   200   \n",
              "6   302   \n",
              "14  716   \n",
              "13  651   \n",
              "1   231   \n",
              "\n",
              "                                                                                                                     title  \\\n",
              "7                                                           Preocupación por Lanata: internado por problemas respiratorios   \n",
              "5                                                                         Internaron nuevamente al periodista Jorge Lanata   \n",
              "4                        Jorge Lanata, internado: el conductor volvió a la Fundación Favaloro por un problema respiratorio   \n",
              "11                                                       Darío Barassi explicó por qué tuvieron que internarlo de urgencia   \n",
              "15                                                   Preocupación por la salud de Darío Barassi: fue internado de urgencia   \n",
              "18                                        Darío Barassi volvió a ser internado y generó suma preocupación en sus fanáticos   \n",
              "10                                            Darío Barassi tuvo que volver a ser internado tras su operación: las razones   \n",
              "0           Darío Barassi habló de su salud tras una complicación luego de su cirugía: \"Me aconsejaron quedarme internado\"   \n",
              "6                                                               Internaron a Darío Barassi: el conductor contó qué le pasa   \n",
              "14               Darío Barassi tuvo que volver a ser internado tras su cirugía: \"A veces las cosas no son como uno quiere\"   \n",
              "13  La famosa conductora de TN que deberá afrontar un duro tratamiento tras su segunda internación por dengue - MDZ Online   \n",
              "1                                                             Darío Barassi tuvo que ser internado nuevamente: qué le pasó   \n",
              "\n",
              "      umbral  \n",
              "7   0.877170  \n",
              "5   0.839079  \n",
              "4   0.824902  \n",
              "11  0.817513  \n",
              "15  0.798851  \n",
              "18  0.792726  \n",
              "10  0.779267  \n",
              "0   0.772089  \n",
              "6   0.760845  \n",
              "14  0.753838  \n",
              "13  0.734034  \n",
              "1   0.732456  "
            ]
          },
          "execution_count": 92,
          "metadata": {},
          "output_type": "execute_result"
        }
      ],
      "source": [
        "# Observamos keywords del topico y documentos\n",
        "topic_docs_idx = [i for i, (_, topic) in enumerate(zip(list(df_parquet.index), topics)) if topic == topic_id]\n",
        "hstack = np.hstack((np.array(topic_docs_idx).reshape(-1,1), np.array(df_parquet[\"in__title\"])[topic_docs_idx].reshape(-1,1)))\n",
        "\n",
        "df_data = pd.DataFrame(hstack, columns=[\"idx\",\"title\"])\n",
        "\n",
        "s_coseno = []\n",
        "for i in topic_docs_idx:\n",
        "    s_coseno.append(cosine_similarity([topic_model.topic_embeddings_[topic_id + 1]], [docs_embedding[i]])[0][0])\n",
        "\n",
        "print(topic_model.topic_labels_[topic_id])\n",
        "\n",
        "df_data['similitud'] = s_coseno\n",
        "\n",
        "umbral = 0.7 # umbral discrecional\n",
        "\n",
        "df_filtered = df_data[df_data[\"similitud\"] > umbral].sort_values(\"similitud\", ascending=False)\n",
        "df_filtered"
      ]
    },
    {
      "cell_type": "code",
      "execution_count": null,
      "metadata": {},
      "outputs": [],
      "source": []
    },
    {
      "cell_type": "markdown",
      "metadata": {
        "id": "PyWurS2NN_Bi"
      },
      "source": [
        "#### Keywords de solo un topico"
      ]
    },
    {
      "cell_type": "code",
      "execution_count": 76,
      "metadata": {
        "id": "9pK_nj_pN_Bi"
      },
      "outputs": [
        {
          "data": {
            "text/plain": [
              "[{'name': 'estafadores', 'score': 0.0937460832042136},\n",
              " {'name': 'feria artesanal', 'score': 0.04601777559626258},\n",
              " {'name': 'víctima', 'score': 0.04311696223115434},\n",
              " {'name': 'fraudes', 'score': 0.04102924950063795},\n",
              " {'name': 'anuncio', 'score': 0.03963630779135704},\n",
              " {'name': 'internet', 'score': 0.03834823764090838},\n",
              " {'name': 'es', 'score': 0.036737074629876215},\n",
              " {'name': 'delincuentes', 'score': 0.03650861205370464},\n",
              " {'name': 'tu', 'score': 0.03627480362971385},\n",
              " {'name': 'contenido', 'score': 0.03615993019809183}]"
            ]
          },
          "execution_count": 76,
          "metadata": {},
          "output_type": "execute_result"
        }
      ],
      "source": [
        "keywords = topic_model.topic_representations_[topic]\n",
        "topic_keywords = [TopicKeyword(name=keyword, score=score) for keyword, score in keywords if keyword != '']\n",
        "topic_keywords"
      ]
    },
    {
      "cell_type": "code",
      "execution_count": 77,
      "metadata": {
        "id": "6nCejcoRN_Bi"
      },
      "outputs": [
        {
          "name": "stdout",
          "output_type": "stream",
          "text": [
            "0.044757503647592047\n"
          ]
        },
        {
          "data": {
            "text/plain": [
              "{'estafadores': 0.0937460832042136, 'feria artesanal': 0.04601777559626258}"
            ]
          },
          "execution_count": 77,
          "metadata": {},
          "output_type": "execute_result"
        }
      ],
      "source": [
        "# Calculo de umbral de corte para las keywords\n",
        "def keywords_umbral(topic_keywords):\n",
        "    freq_k = []\n",
        "    for name_score in topic_keywords:\n",
        "        freq_k.append(name_score['score'])\n",
        "    umbral_k = np.array(freq_k).mean()\n",
        "    print(umbral_k)\n",
        "\n",
        "    topic_keywords_top = {}\n",
        "    for name_score in topic_keywords:\n",
        "        if name_score['score'] >= umbral_k:\n",
        "            topic_keywords_top[name_score['name']] = name_score['score']\n",
        "\n",
        "    return topic_keywords_top\n",
        "\n",
        "keywords_umbral(topic_keywords)"
      ]
    },
    {
      "cell_type": "markdown",
      "metadata": {
        "id": "z6rf17PMN_Bi"
      },
      "source": [
        "#### Entidades de los n documentos mas cercanos al embedding del topico (buscando en opensearch)"
      ]
    },
    {
      "cell_type": "code",
      "execution_count": 89,
      "metadata": {},
      "outputs": [
        {
          "name": "stderr",
          "output_type": "stream",
          "text": [
            "100%|██████████| 19/19 [00:00<00:00, 33067.13it/s]\n"
          ]
        },
        {
          "data": {
            "text/plain": [
              "{'SMN': 3,\n",
              " 'Neuquén': 3,\n",
              " 'Río Negro': 2,\n",
              " 'Chubut': 2,\n",
              " 'Mendoza': 2,\n",
              " 'Servicio Meteorológico Nacional': 2}"
            ]
          },
          "execution_count": 89,
          "metadata": {},
          "output_type": "execute_result"
        }
      ],
      "source": [
        "# Agrupamos documentos por topico\n",
        "docs_per_topic = [i for i, x in enumerate(topic_model.topics_) if x == topic]\n",
        "\n",
        "# Obtener los IDs de los documentos y sus probabilidades\n",
        "docs_ids = []\n",
        "docs_topic = []\n",
        "\n",
        "#doc_probs_x_topic = []\n",
        "for doc_ID in tqdm(docs_per_topic):\n",
        "    docs_ids.append(df_parquet.index[doc_ID])\n",
        "\n",
        "# Crear una consulta de múltiples IDs\n",
        "index_name = 'news'\n",
        "mget_query = { \"docs\": [{\"_index\": index_name, \"_id\": doc_id} for doc_id in docs_ids] }\n",
        "\n",
        "# Realizar la búsqueda de múltiples IDs\n",
        "response = os_client.mget(body=mget_query, index=index_name)\n",
        "\n",
        "# Procesar la respuesta\n",
        "for i, doc in enumerate(response['docs']):\n",
        "    if doc['found']:\n",
        "        idx = doc['_id']\n",
        "        title = doc['_source']['title']\n",
        "        prob = doc['_source']['prob']\n",
        "        entities = doc['_source']['entities']\n",
        "        \n",
        "        docs_topic.append([idx, title, prob, entities])\n",
        "\n",
        "df_view = pd.DataFrame(docs_topic, columns = ['indice','titulo','prob','entidades']).sort_values('prob', ascending=False)\n",
        "\n",
        "n_docs = 5 # n docs cercanos\n",
        "entities_topic = []\n",
        "for doc in df_view[:n_docs].iterrows():\n",
        "    entities_topic.append(doc[1][3])\n",
        "\n",
        "# Crear un diccionario para contar en cuántos documentos aparece cada palabra\n",
        "document_frequencies = defaultdict(int)\n",
        "\n",
        "# Crear un conjunto para cada documento y contar las palabras únicas\n",
        "for lista in entities_topic:\n",
        "    unique_words = set(lista)\n",
        "    for palabra in unique_words:\n",
        "        document_frequencies[palabra] += 1\n",
        "\n",
        "# Ordenar las palabras por la frecuencia de documentos de mayor a menor\n",
        "sorted_frequencies = sorted(document_frequencies.items(), key=lambda item: item[1], reverse=True)\n",
        "\n",
        "freq_e = []\n",
        "for item in sorted_frequencies:\n",
        "    freq_e.append(item[1])\n",
        "umbral_e = np.array(freq_e).mean()\n",
        "\n",
        "# Imprimir el resultado ordenado de las primeras 10 entidades segun criterio de corte\n",
        "topic_entities_top = {}\n",
        "c=0\n",
        "for idx in range(len(sorted_frequencies)):\n",
        "    if sorted_frequencies[idx][1] >= umbral_e:\n",
        "        if c != 10:\n",
        "            topic_entities_top[sorted_frequencies[idx][0]] = sorted_frequencies[idx][1]\n",
        "        else:\n",
        "            break\n",
        "        c += 1\n",
        "\n",
        "topic_entities_top\n"
      ]
    },
    {
      "cell_type": "code",
      "execution_count": 79,
      "metadata": {},
      "outputs": [
        {
          "data": {
            "text/plain": [
              "{'vientos': 0.09977259625176492,\n",
              " 'la luna': 0.07679682318570355,\n",
              " 'alerta naranja': 0.06944336127359137}"
            ]
          },
          "execution_count": 79,
          "metadata": {},
          "output_type": "execute_result"
        }
      ],
      "source": [
        "topic =10\n",
        "top_keywords(topic, topic_model)"
      ]
    },
    {
      "cell_type": "markdown",
      "metadata": {
        "id": "BUUejCL-N_Bj"
      },
      "source": [
        "### Grabar todos los registros en Topic y actualizar en News"
      ]
    },
    {
      "cell_type": "code",
      "execution_count": null,
      "metadata": {},
      "outputs": [],
      "source": [
        "# Grabar todos los topicos en la base\n",
        "for topic in topic_model.get_topics().keys():\n",
        "    if topic > -1:\n",
        "\n",
        "        topic_keywords_top  = top_keywords(topic, topic_model)\n",
        "        topic_entities_top  = top_entities(topic, topic_model, docs_embedding, data, entities)\n",
        "        topic_documents_ids, topic_documents_title, threshold  = topic_documents(topic, topic_model, probs, df_parquet, data)\n",
        "        id_best_doc, title_best_doc, best_doc = best_document(topic, topic_model, docs_embedding, id_data, title_data, data)\n",
        "\n",
        "        topic_doc = Topic(\n",
        "            index = topic,\n",
        "            name = get_topic_name(''.join(topic_documents_title), client),\n",
        "            vector = list(topic_model.topic_embeddings_[topic + 1 ]),\n",
        "            similarity_threshold = threshold,\n",
        "            created_at = datetime.now(),\n",
        "            to_date = parse('2024-04-02'),\n",
        "            from_date = parse('2024-04-01'),\n",
        "            keywords = topic_keywords_top,\n",
        "            entities = topic_entities_top,\n",
        "            id_best_doc = id_best_doc,\n",
        "            title_best_doc = title_best_doc,\n",
        "            best_doc = best_doc,\n",
        "        )\n",
        "\n",
        "        topic_doc.save()"
      ]
    },
    {
      "cell_type": "markdown",
      "metadata": {
        "id": "AJUr6_NTN_Bk"
      },
      "source": [
        "### Recuperar todos los topicos desde el indice Topic de la base"
      ]
    },
    {
      "cell_type": "code",
      "execution_count": null,
      "metadata": {
        "id": "hgldS9M_N_Bk"
      },
      "outputs": [],
      "source": [
        "index_name = 'topic'\n",
        "\n",
        "topics_list = []\n",
        "for i, doc in enumerate(Topic.search().query().scan()):\n",
        "    topics_list.append(doc.to_dict())\n",
        "    print(topics_list[i]['index'], topics_list[i]['name'])"
      ]
    },
    {
      "cell_type": "markdown",
      "metadata": {},
      "source": [
        "### Busqueda de 5 documentos del indice de la base news correspondiente a un topico\n",
        "** (devuelve los docs que han sido marcados en el campo process en True )"
      ]
    },
    {
      "cell_type": "code",
      "execution_count": null,
      "metadata": {},
      "outputs": [],
      "source": [
        "topic_embedding = topics_list[topic]['vector']\n",
        "\n",
        "index_name = 'news'\n",
        "# Crear una consulta KNN para buscar embeddings cercanos\n",
        "knn_query = {\n",
        "    \"size\": 5,  # Número de resultados que deseas obtener\n",
        "    \"query\": {\n",
        "        \"bool\": {\n",
        "            \"must\": [\n",
        "                {\n",
        "                    \"knn\": {\n",
        "                        \"vector\": {\n",
        "                            \"vector\": topic_embedding,\n",
        "                            \"k\": 10  # Número de vecinos más cercanos\n",
        "                        }\n",
        "                    }\n",
        "                },\n",
        "                {\n",
        "                    \"term\": {\n",
        "                        \"process\": True  # Solo incluir documentos donde 'process' es True\n",
        "                    }\n",
        "                }\n",
        "            ],\n",
        "            \"filter\": {\n",
        "                \"exists\": {\n",
        "                    \"field\": \"vector\"  # Solo incluir documentos que tienen el campo 'vector'\n",
        "                }\n",
        "            }\n",
        "        }\n",
        "    }\n",
        "}\n",
        "# Realizar la búsqueda\n",
        "response_topic = os_client.search(index=index_name, body=knn_query)\n",
        "\n",
        "# Obtener el tópico más cercano\n",
        "if response_topic['hits']['total']['value'] > 0:\n",
        "    for i in [hit['_source']['title'] for hit in response_topic['hits']['hits']]:\n",
        "        print(i)\n",
        "else:\n",
        "    print(\"No se encontraron documentos cercanos al topico dado.\")"
      ]
    },
    {
      "cell_type": "markdown",
      "metadata": {
        "id": "gx1i9yqZN_Bl"
      },
      "source": [
        "### Recuperar de la base el documento mas cercano a un topico"
      ]
    },
    {
      "cell_type": "code",
      "execution_count": null,
      "metadata": {
        "id": "2Yg_ryV3N_Bl"
      },
      "outputs": [],
      "source": [
        "index_name = 'topic'\n",
        "search_query = {\n",
        "    'query': {\n",
        "        'match': {\n",
        "            'index': 10  # Sustituir 'campo' y 'valor' por campo y valor de búsqueda\n",
        "        }\n",
        "    }\n",
        "}\n",
        "\n",
        "# Realizar la búsqueda\n",
        "response = os_client.search(\n",
        "                            body=search_query,\n",
        "                            index=index_name\n",
        ")\n",
        "\n",
        "texto = response['hits']['hits'][0]['_source']\n",
        "\n",
        "#Imprimir los resultados\n",
        "print(f\"Topico: {response['hits']['hits'][0]['_source']['name']}\")\n",
        "print(\"\\n\"+ texto['best_doc'])"
      ]
    },
    {
      "cell_type": "markdown",
      "metadata": {
        "id": "jMH2jt5YN_Bl"
      },
      "source": [
        "### Nuevo documento consultando embeddings generados por el modelo"
      ]
    },
    {
      "cell_type": "code",
      "execution_count": null,
      "metadata": {
        "id": "3c0ZTllTN_Bl"
      },
      "outputs": [],
      "source": [
        "new_doc = \"Fuga de presos en San Telmo\"\n",
        "\n",
        "new_doc_embedding = topic_model.embedding_model.embed(new_doc)\n",
        "sim_matrix_new = cosine_similarity(topic_model.topic_embeddings_, new_doc_embedding.reshape(1, -1))\n",
        "\n",
        "idx = np.argmax(sim_matrix_new)-1         # Topicos desde -1, 0, 1, ..., n\n",
        "print(topics_list[idx]['index'], topics_list[idx]['name'])"
      ]
    },
    {
      "cell_type": "markdown",
      "metadata": {
        "id": "lae8_RU7N_Bm"
      },
      "source": [
        "### Nuevo documento consultando embeddings de la base"
      ]
    },
    {
      "cell_type": "code",
      "execution_count": null,
      "metadata": {
        "id": "VVylIBiFN_Bm"
      },
      "outputs": [],
      "source": [
        "new_doc = \"Fuga de presos en San Telmo\"\n",
        "\n",
        "new_doc_embedding = topic_model.embedding_model.embed(new_doc)\n",
        "\n",
        "# Buscamos en la base a que topico pertenece el nuevo documento\n",
        "knn_query = {\n",
        "    \"size\": 1,\n",
        "    \"query\": {\n",
        "        \"knn\": {\n",
        "            \"vector\": {\n",
        "                \"vector\": new_doc_embedding,\n",
        "                \"k\" : 3\n",
        "            }\n",
        "        }\n",
        "    }\n",
        "}\n",
        "response = os_client.search(index='topic', body=knn_query)\n",
        "\n",
        "if response['hits']['total']['value'] > 0:\n",
        "    print(f\"Topico: {response['hits']['hits'][0]['_source']['name']}\")\n",
        "    print(f\"Estimacion: {response['hits']['hits'][0]['_score']}\")\n",
        "else:\n",
        "    print(f\"Topico no encontrado\")"
      ]
    },
    {
      "cell_type": "markdown",
      "metadata": {
        "id": "fzKqZk3HN_Bm"
      },
      "source": [
        "### Graficar los topicos en 3d"
      ]
    },
    {
      "cell_type": "code",
      "execution_count": null,
      "metadata": {
        "id": "SKNFKczxN_Bm"
      },
      "outputs": [],
      "source": [
        "import plotly.express as px\n",
        "\n",
        "# Obtener los embeddings de los tópicos\n",
        "topic_embeddings = topic_model.topic_embeddings_\n",
        "\n",
        "new_doc = \"Fuga de presos en San Telmo\"\n",
        "new_doc_embedding = topic_model.embedding_model.embed([new_doc])[0]\n",
        "\n",
        "total = np.vstack((topic_embeddings, new_doc_embedding))\n",
        "\n",
        "# Reducir la dimensionalidad de los embeddings a 3D usando UMAP\n",
        "umap_model = UMAP(n_components=3)\n",
        "embeddings_3d = umap_model.fit_transform(total)\n",
        "\n",
        "# Obtener las etiquetas de los tópicos\n",
        "topics_labels = [str(i)+\" \"+name['name'] for i, name in enumerate(topics_list) ]\n",
        "\n",
        "# Crear un DataFrame para Plotly\n",
        "df = pd.DataFrame(embeddings_3d, columns=['Dim1', 'Dim2', 'Dim3'])\n",
        "df['Topico'] = [\"-1\"] + topics_labels + ['>>'+new_doc[:15]] # Identificamos el nuevo documento\n",
        "df['Etiqueta'] = list(range(-1, len(topic_embeddings)-1)) + [new_doc[:15]]\n",
        "\n",
        "# Graficar los tópicos en 3D de manera interactiva usando Plotly, ajustando el tamaño del gráfico\n",
        "fig = px.scatter_3d(df, x='Dim1', y='Dim2', z='Dim3', color='Topico', text='Etiqueta', title='Visualización 3D de Tópicos con BERTopic')\n",
        "\n",
        "\n",
        "# Ajustar el tamaño del gráfico\n",
        "fig.update_layout(\n",
        "    autosize=False,\n",
        "    width=1200,  # Ancho del gráfico\n",
        "    height=800,  # Altura del gráfico\n",
        "    margin=dict(l=65, r=50, b=65, t=90)\n",
        ")\n",
        "\n",
        "# Mostrar el gráfico\n",
        "fig.show()"
      ]
    },
    {
      "cell_type": "markdown",
      "metadata": {
        "id": "kq_OuRNGN_Bn"
      },
      "source": [
        "### Busqueda de un documento por su indice, topico asociado, keywords, entities."
      ]
    },
    {
      "cell_type": "code",
      "execution_count": null,
      "metadata": {
        "id": "PXk-XIFWN_Bn"
      },
      "outputs": [],
      "source": [
        "\n",
        "index_name = 'news'\n",
        "search_query = {\n",
        "    'query': {\n",
        "        'match': {\n",
        "            '_id': '105594124'\n",
        "        }\n",
        "    }\n",
        "}\n",
        "\n",
        "# Realizar la búsqueda\n",
        "response = os_client.search(\n",
        "                            body=search_query,\n",
        "                            index=index_name\n",
        ")\n",
        "print(f\"Texto de Noticia: {response['hits']['hits'][0]['_source']['news'][:200]}...\\n\")\n",
        "\n",
        "new_doc_embedding = topic_model.embedding_model.embed(response['hits']['hits'][0]['_source']['news'])\n",
        "\n",
        "# Define el índice y el campo del vector\n",
        "index_name = 'topic'\n",
        "vector_field = 'vector'\n",
        "\n",
        "# Crear una consulta KNN para buscar el embedding más similar\n",
        "knn_query = {\n",
        "    \"size\": 1,  # Número de resultados que deseas obtener, en este caso 1\n",
        "    \"query\": {\n",
        "        \"knn\": {\n",
        "            vector_field: {\n",
        "                \"vector\": new_doc_embedding,\n",
        "                \"k\": 3  # Número de vecinos más cercanos\n",
        "            }\n",
        "        }\n",
        "    }\n",
        "}\n",
        "\n",
        "# Realizar la búsqueda\n",
        "response_topic = os_client.search(index=index_name, body=knn_query)\n",
        "\n",
        "# Obtener el tópico más cercano\n",
        "if response_topic['hits']['total']['value'] > 0:\n",
        "    closest_topic = response_topic['hits']['hits'][0]['_source']\n",
        "    print(f\"El nuevo documento pertenece al tópico: {closest_topic['index']}\")\n",
        "    print(closest_topic['name'])\n",
        "    print(f\"Estimacion: {closest_topic['similarity_threshold']}\")\n",
        "    print(f\"Keywords del topico: {closest_topic['keywords']}\")\n",
        "    print(f\"Entidades del topico: {closest_topic['entities']}\")\n",
        "\n",
        "else:\n",
        "    print(\"No se encontró un tópico cercano.\")"
      ]
    },
    {
      "cell_type": "markdown",
      "metadata": {
        "id": "kzGhZXeHN_Bn"
      },
      "source": [
        "#### Agrupando por embeddings cercanos"
      ]
    },
    {
      "cell_type": "code",
      "execution_count": null,
      "metadata": {
        "id": "YaBUMOTJN_Bo"
      },
      "outputs": [],
      "source": [
        "# Eliminamos el topico -1\n",
        "new_topic_embeddings = topic_embeddings[1:]\n",
        "\n",
        "# Calcular la similitud del coseno entre los embeddings de los tópicos\n",
        "similarities = cosine_similarity(new_topic_embeddings)\n",
        "\n",
        "# Crear una matriz de similitud excluyendo la diagonal\n",
        "np.fill_diagonal(similarities, 0)\n",
        "\n",
        "# Encontrar los pares de tópicos más cercanos\n",
        "topic_pairs = np.dstack(np.unravel_index(np.argsort(similarities.ravel())[::-1], similarities.shape))[0]\n",
        "\n",
        "# Mostrar los 5 pares de tópicos más cercanos\n",
        "for i in range(10):\n",
        "    topic_id_1, topic_id_2 = topic_pairs[i]\n",
        "    similarity_score = similarities[topic_id_1, topic_id_2]\n",
        "    print(f\"Topico {topic_id_1} y Topico {topic_id_2} tienen una similitud de: {similarity_score:.4f}\")"
      ]
    },
    {
      "cell_type": "markdown",
      "metadata": {},
      "source": [
        "### Recuperar topicos de Opensearch dado una fecha"
      ]
    },
    {
      "cell_type": "code",
      "execution_count": null,
      "metadata": {},
      "outputs": [],
      "source": [
        "def get_topics_opensearch(date_filter=None):\n",
        "\n",
        "    index_name = 'topic'\n",
        "    if date_filter:\n",
        "        # Crear el rango de fecha para filtrar el mismo día completo\n",
        "        date_filter_gte = f\"{date_filter}T00:00:00\"\n",
        "        date_filter_lte = f\"{date_filter}T23:59:59\"\n",
        "\n",
        "        query = {\n",
        "            \"size\": 100,  \n",
        "            \"query\": {\n",
        "                \"bool\": {\n",
        "                    \"must\": [\n",
        "                        {\"range\": {\"to_date\": {\"gte\": date_filter_gte, \"lte\": date_filter_lte}}}\n",
        "                    ]\n",
        "                }\n",
        "            }\n",
        "        }\n",
        "    else:\n",
        "        query = {\n",
        "            \"query\": {\n",
        "                \"match_all\": {}\n",
        "            }\n",
        "        }\n",
        "    \n",
        "    response = os_client.search(index=index_name, body=query)\n",
        "\n",
        "    topics = [hit['_source'] for hit in response['hits']['hits']]\n",
        "    return topics\n",
        "\n",
        "\n",
        "\n",
        "topics_os = get_topics_opensearch(date_filter=\"2024-04-02\")\n",
        "\n",
        "for i in enumerate([hit['name'] for hit in topics_os]):\n",
        "    print(i)"
      ]
    },
    {
      "cell_type": "markdown",
      "metadata": {},
      "source": [
        "### Obtener la ultima fecha actualizada de cualquier topico"
      ]
    },
    {
      "cell_type": "code",
      "execution_count": null,
      "metadata": {},
      "outputs": [],
      "source": [
        "def format_date(date_str):\n",
        "    date_obj = datetime.strptime(date_str, '%Y-%m-%dT%H:%M:%S.%f')\n",
        "    formatted_date = date_obj.strftime('%Y-%m-%d %H:%M')\n",
        "    return formatted_date"
      ]
    },
    {
      "cell_type": "code",
      "execution_count": null,
      "metadata": {},
      "outputs": [],
      "source": [
        "\n",
        "db_topics = []\n",
        "data_topics = {}\n",
        "for reg in topics_os:\n",
        "    index = reg['index']\n",
        "    name = reg['name']\n",
        "    vector = reg['vector']\n",
        "    similarity_threshold = reg['similarity_threshold']\n",
        "    create_at = format_date(reg['created_at'])\n",
        "    from_date = reg['from_date'][:10]\n",
        "    to_date = reg['to_date'][:10]\n",
        "    title_best_doc = reg['title_best_doc']\n",
        "    id_best_doc = reg['id_best_doc']\n",
        "\n",
        "    db_topics.append([index, name, round(similarity_threshold, 4), create_at, from_date, to_date])\n",
        "    data_topics[index] = [name,\n",
        "                          vector,\n",
        "                          title_best_doc,\n",
        "                          reg['best_doc'],\n",
        "                          reg['entities'],\n",
        "                          reg['keywords'],\n",
        "                          similarity_threshold]\n",
        "\n",
        "# Convertir a DataFrame\n",
        "df = pd.DataFrame(db_topics, columns=[\"indice\", \"nombre\", \"umbral\", \"creado\", \"desde\", \"hasta\"])                      \n",
        "df"
      ]
    },
    {
      "cell_type": "code",
      "execution_count": null,
      "metadata": {},
      "outputs": [],
      "source": [
        "db_news = get_news()"
      ]
    },
    {
      "cell_type": "code",
      "execution_count": null,
      "metadata": {},
      "outputs": [],
      "source": [
        "# Crear un diccionario para agrupar los registros por fecha (solo día, mes y año)\n",
        "def dates_count(db_news) -> dict:\n",
        "    fechas_dict = defaultdict(list)\n",
        "\n",
        "    # Agrupar registros por fecha\n",
        "    for registro in db_news:\n",
        "        fecha_completa = registro[-1]\n",
        "        fecha_solo_dia = fecha_completa.split('T')[0]  # Tomar solo el día, mes y año\n",
        "        if fecha_solo_dia not in fechas_dict:\n",
        "            fechas_dict[fecha_solo_dia] = 1\n",
        "        else:\n",
        "            fechas_dict[fecha_solo_dia] += 1\n",
        "    \n",
        "    return fechas_dict"
      ]
    },
    {
      "cell_type": "code",
      "execution_count": 22,
      "metadata": {},
      "outputs": [
        {
          "name": "stdout",
          "output_type": "stream",
          "text": [
            "Noticia ID: 105558429 ['Inicio de semana fresco y con un cielo parcialmente nublado - MDZ Online']\n",
            "\n",
            "Entities de dataframe: ['']\n",
            "Keywords de dataframe: ['noreste' 'actividades diarias' 'contingencias climáticas'\n",
            " 'nubosidad parcial' 'cielo parcialmente nublado']\n",
            "--------------------------------------------------------------------------------\n",
            "Fila: 359\n"
          ]
        },
        {
          "ename": "IndexError",
          "evalue": "index 359 is out of bounds for axis 0 with size 12",
          "output_type": "error",
          "traceback": [
            "\u001b[1;31m---------------------------------------------------------------------------\u001b[0m",
            "\u001b[1;31mIndexError\u001b[0m                                Traceback (most recent call last)",
            "Cell \u001b[1;32mIn[22], line 14\u001b[0m\n\u001b[0;32m     10\u001b[0m     \u001b[38;5;28mprint\u001b[39m(\u001b[38;5;124mf\u001b[39m\u001b[38;5;124m\"\u001b[39m\u001b[38;5;124mProb. modelo: \u001b[39m\u001b[38;5;132;01m{\u001b[39;00mprobs[fila]\u001b[38;5;132;01m}\u001b[39;00m\u001b[38;5;124m\"\u001b[39m)\n\u001b[0;32m     11\u001b[0m     \u001b[38;5;66;03m#print(f\"Entities calculadas: {entities[fila]}\")\u001b[39;00m\n\u001b[0;32m     12\u001b[0m     \u001b[38;5;66;03m#print(f\"Keywords calculadas: {filtered_k_w_n[fila]}\")\u001b[39;00m\n\u001b[1;32m---> 14\u001b[0m \u001b[43mfuncion_aux\u001b[49m\u001b[43m(\u001b[49m\u001b[38;5;241;43m105558429\u001b[39;49m\u001b[43m)\u001b[49m\n",
            "Cell \u001b[1;32mIn[22], line 10\u001b[0m, in \u001b[0;36mfuncion_aux\u001b[1;34m(ID)\u001b[0m\n\u001b[0;32m      8\u001b[0m \u001b[38;5;28mprint\u001b[39m(\u001b[38;5;124m\"\u001b[39m\u001b[38;5;124m-\u001b[39m\u001b[38;5;124m\"\u001b[39m\u001b[38;5;241m*\u001b[39m\u001b[38;5;241m80\u001b[39m)\n\u001b[0;32m      9\u001b[0m \u001b[38;5;28mprint\u001b[39m(\u001b[38;5;124mf\u001b[39m\u001b[38;5;124m\"\u001b[39m\u001b[38;5;124mFila: \u001b[39m\u001b[38;5;132;01m{\u001b[39;00mfila\u001b[38;5;132;01m}\u001b[39;00m\u001b[38;5;124m\"\u001b[39m)\n\u001b[1;32m---> 10\u001b[0m \u001b[38;5;28mprint\u001b[39m(\u001b[38;5;124mf\u001b[39m\u001b[38;5;124m\"\u001b[39m\u001b[38;5;124mProb. modelo: \u001b[39m\u001b[38;5;132;01m{\u001b[39;00m\u001b[43mprobs\u001b[49m\u001b[43m[\u001b[49m\u001b[43mfila\u001b[49m\u001b[43m]\u001b[49m\u001b[38;5;132;01m}\u001b[39;00m\u001b[38;5;124m\"\u001b[39m)\n",
            "\u001b[1;31mIndexError\u001b[0m: index 359 is out of bounds for axis 0 with size 12"
          ]
        }
      ],
      "source": [
        "def funcion_aux(ID):\n",
        "    keywords_df = df_parquet[df_parquet.index==ID]['Keyword Name'].values[0]\n",
        "    entities_df = df_parquet[df_parquet.index==ID]['Entity Name'].values[0]\n",
        "    fila = df_parquet.index.get_loc(ID)\n",
        "    print(f\"Noticia ID: {ID} {df_parquet[df_parquet.index==ID]['in__title'].values}\\n\")\n",
        "    print(f\"Entities de dataframe: {entities_df}\")\n",
        "    print(f\"Keywords de dataframe: {keywords_df}\")\n",
        "    print(\"-\"*80)\n",
        "    print(f\"Fila: {fila}\")\n",
        "    print(f\"Prob. modelo: {probs[fila]}\")\n",
        "    #print(f\"Entities calculadas: {entities[fila]}\")\n",
        "    #print(f\"Keywords calculadas: {filtered_k_w_n[fila]}\")\n",
        "\n",
        "funcion_aux(105558429)"
      ]
    },
    {
      "cell_type": "markdown",
      "metadata": {},
      "source": [
        "### Buscar n noticias de la base relacionadas a un topico"
      ]
    },
    {
      "cell_type": "code",
      "execution_count": null,
      "metadata": {},
      "outputs": [],
      "source": [
        "topic = 13\n",
        "topic_embedding = data_topics[topic][1]\n",
        "print(\"Topico: \", data_topics[topic][0])\n",
        "\n",
        "# Buscamos en la base los documentos del topico elegido\n",
        "knn_query = {\n",
        "    \"size\": 100,\n",
        "    \"query\": {\n",
        "                \"knn\": {\n",
        "                        \"vector\": {\n",
        "                            \"vector\": topic_embedding,\n",
        "                            \"k\": 120\n",
        "                        }\n",
        "                }\n",
        "            }\n",
        "    }\n",
        "\n",
        "response = os_client.search(index='news', body=knn_query)\n",
        "[f\"{str(hit['_score'])} : {hit['_source']['title']}\" for hit in response['hits']['hits']]"
      ]
    },
    {
      "cell_type": "code",
      "execution_count": null,
      "metadata": {},
      "outputs": [],
      "source": [
        "id_news     = [hit['_id'] for hit in response['hits']['hits']]\n",
        "title_news  = [hit['_source']['title'] for hit in response['hits']['hits']]\n",
        "score_news  = [hit['_score'] for hit in response['hits']['hits']]\n",
        "\n",
        "others_docs = []\n",
        "for i in range(len(id_news)):\n",
        "    others_docs.append([id_news[i], title_news[i], score_news[i]])\n",
        "\n",
        "df_other_docs = pd.DataFrame(others_docs, columns=['indice', 'titulo', 'probs']) \n",
        "df_other_docs"
      ]
    },
    {
      "cell_type": "code",
      "execution_count": null,
      "metadata": {},
      "outputs": [],
      "source": []
    },
    {
      "cell_type": "code",
      "execution_count": null,
      "metadata": {},
      "outputs": [],
      "source": []
    },
    {
      "cell_type": "code",
      "execution_count": null,
      "metadata": {},
      "outputs": [],
      "source": []
    },
    {
      "cell_type": "code",
      "execution_count": null,
      "metadata": {},
      "outputs": [],
      "source": []
    },
    {
      "cell_type": "code",
      "execution_count": null,
      "metadata": {},
      "outputs": [],
      "source": [
        "\n",
        "# Cargar el modelo\n",
        "embedding_model_x = SentenceTransformer(\"paraphrase-multilingual-MiniLM-L12-v2\")\n",
        "\n",
        "# Lista de documentos o frases\n",
        "sentences = [\"Este es un documento de ejemplo.\", \"Otro ejemplo de documento para generar embedding.\"]\n",
        "\n",
        "# Generar embeddings\n",
        "embeddings_x = embedding_model_x.encode(sentences)\n",
        "\n",
        "# Imprimir los embeddings\n",
        "for i, embedding in enumerate(embeddings_x):\n",
        "    print(f\"Documento {i+1}: {embedding}\")"
      ]
    },
    {
      "cell_type": "code",
      "execution_count": null,
      "metadata": {},
      "outputs": [],
      "source": [
        "len(embeddings_x)"
      ]
    },
    {
      "cell_type": "code",
      "execution_count": null,
      "metadata": {},
      "outputs": [],
      "source": [
        "topic = 14\n",
        "documents_ids = [entry['id'] for entry in doc_info if entry['topic'] == topic]\n",
        "documents_ids"
      ]
    },
    {
      "cell_type": "code",
      "execution_count": null,
      "metadata": {},
      "outputs": [],
      "source": [
        "len(documents_ids)"
      ]
    },
    {
      "cell_type": "code",
      "execution_count": null,
      "metadata": {},
      "outputs": [],
      "source": [
        "def update_news(documents_ids: list, docs_embedding, topics: list) -> bool:\n",
        "    \"\"\"\n",
        "    Marcar en True los registros de noticias procesadas y guardar el embedding correspondiente.\n",
        "    \"\"\"\n",
        "\n",
        "    if len(documents_ids) != len(docs_embedding):\n",
        "        raise ValueError(\"El número de IDs de documentos y embeddings no coinciden.\")\n",
        "        return False\n",
        "    \n",
        "    index_name = 'news'\n",
        "\n",
        "    # Construir el cuerpo de la solicitud para el API _bulk\n",
        "    acciones = []\n",
        "    for doc_id, embedding, topic in zip(documents_ids, docs_embedding, topics):\n",
        "        update_body = { \n",
        "                        \"doc\": {\n",
        "                            \"vector\": embedding,\n",
        "                            \"topics\": topic,   \n",
        "                            \"process\": True,\n",
        "                        }\n",
        "        }\n",
        "        accion = {\n",
        "            \"_op_type\": \"update\",\n",
        "            \"_index\": index_name,\n",
        "            \"_id\": doc_id,\n",
        "            \"doc\": update_body[\"doc\"]\n",
        "        }\n",
        "        acciones.append(accion)\n",
        "\n",
        "    # Realizar la actualización por lotes\n",
        "    helpers.bulk(os_client, acciones)\n",
        "\n",
        "    return True"
      ]
    },
    {
      "cell_type": "code",
      "execution_count": null,
      "metadata": {},
      "outputs": [],
      "source": [
        "for doc_id, embedding, topic in zip(documents_ids, docs_embedding, topics):\n",
        "    print(doc_id, embedding, topic)\n",
        "    break"
      ]
    },
    {
      "cell_type": "code",
      "execution_count": null,
      "metadata": {},
      "outputs": [],
      "source": [
        "query = {\n",
        "    \"size\": 100,\n",
        "    \"query\": {\n",
        "        \"bool\": {\n",
        "            \"must\": [\n",
        "                {\"term\": {\n",
        "                    \"topics\": 10\n",
        "                }}\n",
        "            ],\n",
        "        }\n",
        "    }\n",
        "}\n",
        "                    \n",
        "response = os_client.search(index='news', body=query)"
      ]
    },
    {
      "cell_type": "code",
      "execution_count": null,
      "metadata": {},
      "outputs": [],
      "source": [
        "for i in [hit['_id'] for hit in response['hits']['hits']]:\n",
        "        print(i)"
      ]
    },
    {
      "cell_type": "code",
      "execution_count": null,
      "metadata": {},
      "outputs": [],
      "source": []
    },
    {
      "cell_type": "code",
      "execution_count": null,
      "metadata": {},
      "outputs": [],
      "source": [
        "docs_per_topics"
      ]
    },
    {
      "cell_type": "code",
      "execution_count": null,
      "metadata": {},
      "outputs": [],
      "source": [
        "titles_per_topic"
      ]
    },
    {
      "cell_type": "code",
      "execution_count": null,
      "metadata": {},
      "outputs": [],
      "source": [
        "# Stopwords\n",
        "SPANISH_STOPWORDS = list(pd.read_csv(PATH+'spanish_stop_words.csv' )['stopwords'].values)\n",
        "SPANISH_STOPWORDS_SPECIAL = list(pd.read_csv(PATH+'spanish_stop_words_spec.csv' )['stopwords'].values)\n",
        "\n",
        "clean_data = Cleaning_text()\n",
        "\n",
        "count_vectorizer = CountVectorizer(\n",
        "                    tokenizer=None,\n",
        "                    token_pattern=r'(?u)\\b\\w\\w+\\b',\n",
        "                    encoding ='utf-8',\n",
        "                    ngram_range=(1, 2),\n",
        "                    max_df=0.8, # significa que cualquier término que aparezca en más del 0.x % de los documentos será ignorado.\n",
        "                    min_df=2,\n",
        "                    stop_words=SPANISH_STOPWORDS,\n",
        "                    # vocabulary=all_tokens,\n",
        "                    )\n",
        "\n",
        "nmf_model = NMF(n_components= 2, init='nndsvd' )\n",
        "\n"
      ]
    },
    {
      "cell_type": "code",
      "execution_count": null,
      "metadata": {},
      "outputs": [],
      "source": [
        "from sklearn.cluster import KMeans\n",
        "\n",
        "topic = 17\n",
        "# topic = np.random.randint(0, len(docs_per_topics)-1) # Aleatorio\n",
        "\n",
        "docs_per_topics = [i for i, x in enumerate(topic_model.topics_) if x == topic]\n",
        "probs = topic_model.probabilities_[docs_per_topics]\n",
        "corpus = [data[doc] for doc in docs_per_topics]\n",
        "\n",
        "titles_per_topic = [df_parquet.iloc[doc]['in__title'] for doc in docs_per_topics]\n",
        "titles_per_topic"
      ]
    },
    {
      "cell_type": "code",
      "execution_count": null,
      "metadata": {},
      "outputs": [],
      "source": [
        "proc_data = []\n",
        "for data_in in corpus:\n",
        "    aux = clean_data.unicode(data_in)\n",
        "    aux = clean_data.urls(aux)\n",
        "    aux = clean_data.simbols(aux)\n",
        "    aux = clean_data.escape_sequence(aux)\n",
        "    aux = clean_data.str_lower(aux)\n",
        "    aux = \" \".join([ word for word in aux.split() if word.lower() not in SPANISH_STOPWORDS_SPECIAL])\n",
        "    proc_data.append(aux)\n",
        "\n",
        "corpus_vect = count_vectorizer.fit_transform(proc_data)\n",
        "\n",
        "sim = cosine_similarity(corpus_vect, corpus_vect)\n",
        "\n",
        "# Aplica K-means clustering para dividir en 2 grupos\n",
        "kmeans = KMeans(n_clusters=2, random_state=42)\n",
        "kmeans.fit(sim)\n",
        "\n",
        "# Obtiene las etiquetas de los clusters\n",
        "labels = kmeans.labels_\n",
        "\n",
        "\n",
        "A = [title if labels[i] == 1 else \" \" for i, title in enumerate(titles_per_topic) ]\n",
        "B = [title if labels[i] == 0 else \" \" for i, title in enumerate(titles_per_topic) ]\n",
        "\n",
        "data_combined = np.stack((labels, A, B), axis=1)\n",
        "\n",
        "combined = pd.DataFrame(data_combined)\n",
        "combined\n"
      ]
    },
    {
      "cell_type": "code",
      "execution_count": null,
      "metadata": {},
      "outputs": [],
      "source": []
    },
    {
      "cell_type": "code",
      "execution_count": null,
      "metadata": {},
      "outputs": [],
      "source": []
    },
    {
      "cell_type": "code",
      "execution_count": null,
      "metadata": {},
      "outputs": [],
      "source": []
    },
    {
      "cell_type": "code",
      "execution_count": null,
      "metadata": {},
      "outputs": [],
      "source": []
    }
  ],
  "metadata": {
    "colab": {
      "include_colab_link": true,
      "provenance": []
    },
    "kernelspec": {
      "display_name": "Python 3",
      "name": "python3"
    },
    "language_info": {
      "codemirror_mode": {
        "name": "ipython",
        "version": 3
      },
      "file_extension": ".py",
      "mimetype": "text/x-python",
      "name": "python",
      "nbconvert_exporter": "python",
      "pygments_lexer": "ipython3",
      "version": "3.11.8"
    }
  },
  "nbformat": 4,
  "nbformat_minor": 0
}
