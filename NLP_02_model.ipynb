{
  "cells": [
    {
      "cell_type": "markdown",
      "metadata": {
        "id": "g6GzUxPz0r9-"
      },
      "source": [
        "# Trabajo Practico NLP - Detección de Tópicos y clasificación\n",
        "- ITBA 2024\n",
        "- Alumno: Gabriel Rey\n",
        "---"
      ]
    },
    {
      "cell_type": "markdown",
      "metadata": {},
      "source": [
        "### NLP_02_model\n",
        "\n",
        "Esta notebook se utiliza para:\n",
        "- armar el modelo de estimación de tópicos\n",
        "- validar resultados obtenidos\n",
        "- guardar datos en los indices de opensearch\n",
        "\n",
        "Esta y las consecuentes notebooks son el desarrollo de base de procesos y funciones para la web app provista."
      ]
    },
    {
      "cell_type": "markdown",
      "metadata": {
        "id": "e59GBP66N_BK"
      },
      "source": [
        "### MODELO"
      ]
    },
    {
      "cell_type": "code",
      "execution_count": 1,
      "metadata": {
        "colab": {
          "base_uri": "https://localhost:8080/",
          "height": 366
        },
        "collapsed": true,
        "id": "P7eCyxiT1rcu",
        "outputId": "5c718fba-d95f-4b07-91d3-cad4d8c81c00"
      },
      "outputs": [],
      "source": [
        "import warnings\n",
        "warnings.filterwarnings('ignore')\n",
        "\n",
        "import pandas as pd\n",
        "pd.set_option('display.max_colwidth', None)\n",
        "import numpy as np\n",
        "from matplotlib import pyplot as plt\n",
        "import os\n",
        "import json\n",
        "import pickle\n",
        "from datetime import datetime, date, timedelta\n",
        "from dateutil.parser import parse\n",
        "from dotenv import load_dotenv\n",
        "from IPython.display import Image, display\n",
        "\n",
        "from NLP_tools import *\n"
      ]
    },
    {
      "cell_type": "code",
      "execution_count": 2,
      "metadata": {
        "id": "7QSVkkTWN_BP"
      },
      "outputs": [],
      "source": [
        "from sklearn.feature_extraction.text import CountVectorizer, TfidfVectorizer\n",
        "from sklearn.metrics.pairwise import cosine_similarity\n",
        "from sklearn.decomposition import NMF\n",
        "\n",
        "from tqdm import tqdm\n",
        "\n",
        "from umap import UMAP\n",
        "from hdbscan import HDBSCAN\n",
        "from sentence_transformers import SentenceTransformer\n",
        "from bertopic import BERTopic\n",
        "from bertopic.representation import KeyBERTInspired\n",
        "from bertopic.vectorizers import ClassTfidfTransformer"
      ]
    },
    {
      "cell_type": "code",
      "execution_count": 3,
      "metadata": {
        "id": "yECzCViiN_BP"
      },
      "outputs": [],
      "source": [
        "from opensearch_data_model import Topic, TopicKeyword, News, os_client, TOPIC_INDEX_NAME, NEWS_INDEX_NAME\n",
        "from opensearch_io import init_opensearch, get_news, get_entities_news, get_title_news, update_news, get_pos_id\n",
        "from opensearchpy import helpers\n",
        "\n",
        "from openai import OpenAI"
      ]
    },
    {
      "cell_type": "markdown",
      "metadata": {
        "id": "ZmkslbsDN_BT"
      },
      "source": [
        "### Path"
      ]
    },
    {
      "cell_type": "code",
      "execution_count": 4,
      "metadata": {
        "colab": {
          "base_uri": "https://localhost:8080/",
          "height": 35
        },
        "id": "ZAu1QkwYN_BU",
        "outputId": "86b5d60e-88a3-4ffa-cfab-e89ce3e6086c"
      },
      "outputs": [
        {
          "data": {
            "text/plain": [
              "'C:/Users/gabri/OneDrive/Machine Learning/Github/ITBA-NLP/data/'"
            ]
          },
          "execution_count": 4,
          "metadata": {},
          "output_type": "execute_result"
        }
      ],
      "source": [
        "load_dotenv()\n",
        "PATH_REMOTO='/content/ITBA-NLP/data/'\n",
        "PATH=os.environ.get('PATH_LOCAL', PATH_REMOTO)\n",
        "PATH"
      ]
    },
    {
      "cell_type": "code",
      "execution_count": 5,
      "metadata": {
        "colab": {
          "base_uri": "https://localhost:8080/",
          "height": 176
        },
        "id": "ofyYU7FzN_BU",
        "outputId": "cbbb459c-53ed-445a-b37b-5eb0a94bc370"
      },
      "outputs": [
        {
          "name": "stdout",
          "output_type": "stream",
          "text": [
            "<openai.OpenAI object at 0x0000021C48696110>\n"
          ]
        }
      ],
      "source": [
        "if PATH == os.environ.get('PATH_LOCAL'):\n",
        "    if os.environ.get('OPENAI_API_KEY'):\n",
        "        client = OpenAI(api_key= os.environ.get('OPENAI_API_KEY'))\n",
        "    else:\n",
        "        client = None\n",
        "    print(client)"
      ]
    },
    {
      "cell_type": "markdown",
      "metadata": {
        "id": "PrAEQ0VIN_BR"
      },
      "source": [
        "### Inicializamos la base vectorial"
      ]
    },
    {
      "cell_type": "code",
      "execution_count": 6,
      "metadata": {
        "id": "wOEOjKN4N_BS",
        "outputId": "2e883aa5-49ab-4a7a-8dfb-8574ba88700b"
      },
      "outputs": [
        {
          "name": "stdout",
          "output_type": "stream",
          "text": [
            "El índice Topic ya existe. Saltando inicialización de base de datos.\n",
            "El índice News ya existe. Saltando inicialización de base de datos.\n"
          ]
        }
      ],
      "source": [
        "init_opensearch()"
      ]
    },
    {
      "cell_type": "markdown",
      "metadata": {
        "id": "mHLnakcu2MOq"
      },
      "source": [
        "### Data de noticias original"
      ]
    },
    {
      "cell_type": "code",
      "execution_count": 7,
      "metadata": {
        "id": "cmp3cLLv28-T"
      },
      "outputs": [],
      "source": [
        "# Cargar archivo previamente preprocesado en NLP_01_data \n",
        "choice = \"20240716\"   \n",
        "df_parquet = pd.read_parquet(PATH+choice+\".parquet\").reset_index()\n",
        "data = list(df_parquet['text'])\n",
        "id_data = list(df_parquet['asset_id'])\n",
        "title_data = list(df_parquet['title'])"
      ]
    },
    {
      "cell_type": "code",
      "execution_count": 8,
      "metadata": {
        "id": "DxbMdlz-N_BV"
      },
      "outputs": [
        {
          "data": {
            "text/plain": [
              "5975"
            ]
          },
          "execution_count": 8,
          "metadata": {},
          "output_type": "execute_result"
        }
      ],
      "source": [
        "# Cargar vocabulario previamente procesado\n",
        "with open(PATH+f'preproc_notebook/vocabulary_{choice}.json', 'r') as json_file:\n",
        "    vocab = json.load(json_file)\n",
        "len(vocab)"
      ]
    },
    {
      "cell_type": "markdown",
      "metadata": {},
      "source": [
        "### Preprocesar las noticias\n",
        "Se realiza un preprocesamiento mínimo del texto, pero no se le quita el sentido semántico para que mediante SentenceTransformer se puedan capturar embeddings de mejor calidad."
      ]
    },
    {
      "cell_type": "code",
      "execution_count": 9,
      "metadata": {},
      "outputs": [],
      "source": [
        "# Stopwords\n",
        "SPANISH_STOPWORDS = list(pd.read_csv(PATH+'spanish_stop_words.csv' )['stopwords'].values)\n",
        "SPANISH_STOPWORDS_SPECIAL = list(pd.read_csv(PATH+'spanish_stop_words_spec.csv' )['stopwords'].values)"
      ]
    },
    {
      "cell_type": "code",
      "execution_count": 10,
      "metadata": {},
      "outputs": [
        {
          "name": "stderr",
          "output_type": "stream",
          "text": [
            "  0%|          | 0/1000 [00:00<?, ?it/s]"
          ]
        },
        {
          "name": "stderr",
          "output_type": "stream",
          "text": [
            "100%|██████████| 1000/1000 [00:01<00:00, 544.08it/s]\n"
          ]
        }
      ],
      "source": [
        "clean_data = Cleaning_text()\n",
        "\n",
        "proc_data = []\n",
        "for data_in in tqdm(data):\n",
        "    aux = clean_data.unicode(data_in)\n",
        "    aux = clean_data.urls(aux)\n",
        "    aux = clean_data.simbols(aux)\n",
        "    aux = clean_data.escape_sequence(aux)\n",
        "    aux = \" \".join([ word for word in aux.split() if word.lower() not in SPANISH_STOPWORDS_SPECIAL])\n",
        "    proc_data.append(aux)\n"
      ]
    },
    {
      "cell_type": "markdown",
      "metadata": {
        "id": "Hl06QkGoN_BW"
      },
      "source": [
        "### Modelo"
      ]
    },
    {
      "cell_type": "code",
      "execution_count": 11,
      "metadata": {
        "id": "6U8qmnllN_BW"
      },
      "outputs": [
        {
          "data": {
            "text/html": [
              "<style>#sk-container-id-1 {\n",
              "  /* Definition of color scheme common for light and dark mode */\n",
              "  --sklearn-color-text: black;\n",
              "  --sklearn-color-line: gray;\n",
              "  /* Definition of color scheme for unfitted estimators */\n",
              "  --sklearn-color-unfitted-level-0: #fff5e6;\n",
              "  --sklearn-color-unfitted-level-1: #f6e4d2;\n",
              "  --sklearn-color-unfitted-level-2: #ffe0b3;\n",
              "  --sklearn-color-unfitted-level-3: chocolate;\n",
              "  /* Definition of color scheme for fitted estimators */\n",
              "  --sklearn-color-fitted-level-0: #f0f8ff;\n",
              "  --sklearn-color-fitted-level-1: #d4ebff;\n",
              "  --sklearn-color-fitted-level-2: #b3dbfd;\n",
              "  --sklearn-color-fitted-level-3: cornflowerblue;\n",
              "\n",
              "  /* Specific color for light theme */\n",
              "  --sklearn-color-text-on-default-background: var(--sg-text-color, var(--theme-code-foreground, var(--jp-content-font-color1, black)));\n",
              "  --sklearn-color-background: var(--sg-background-color, var(--theme-background, var(--jp-layout-color0, white)));\n",
              "  --sklearn-color-border-box: var(--sg-text-color, var(--theme-code-foreground, var(--jp-content-font-color1, black)));\n",
              "  --sklearn-color-icon: #696969;\n",
              "\n",
              "  @media (prefers-color-scheme: dark) {\n",
              "    /* Redefinition of color scheme for dark theme */\n",
              "    --sklearn-color-text-on-default-background: var(--sg-text-color, var(--theme-code-foreground, var(--jp-content-font-color1, white)));\n",
              "    --sklearn-color-background: var(--sg-background-color, var(--theme-background, var(--jp-layout-color0, #111)));\n",
              "    --sklearn-color-border-box: var(--sg-text-color, var(--theme-code-foreground, var(--jp-content-font-color1, white)));\n",
              "    --sklearn-color-icon: #878787;\n",
              "  }\n",
              "}\n",
              "\n",
              "#sk-container-id-1 {\n",
              "  color: var(--sklearn-color-text);\n",
              "}\n",
              "\n",
              "#sk-container-id-1 pre {\n",
              "  padding: 0;\n",
              "}\n",
              "\n",
              "#sk-container-id-1 input.sk-hidden--visually {\n",
              "  border: 0;\n",
              "  clip: rect(1px 1px 1px 1px);\n",
              "  clip: rect(1px, 1px, 1px, 1px);\n",
              "  height: 1px;\n",
              "  margin: -1px;\n",
              "  overflow: hidden;\n",
              "  padding: 0;\n",
              "  position: absolute;\n",
              "  width: 1px;\n",
              "}\n",
              "\n",
              "#sk-container-id-1 div.sk-dashed-wrapped {\n",
              "  border: 1px dashed var(--sklearn-color-line);\n",
              "  margin: 0 0.4em 0.5em 0.4em;\n",
              "  box-sizing: border-box;\n",
              "  padding-bottom: 0.4em;\n",
              "  background-color: var(--sklearn-color-background);\n",
              "}\n",
              "\n",
              "#sk-container-id-1 div.sk-container {\n",
              "  /* jupyter's `normalize.less` sets `[hidden] { display: none; }`\n",
              "     but bootstrap.min.css set `[hidden] { display: none !important; }`\n",
              "     so we also need the `!important` here to be able to override the\n",
              "     default hidden behavior on the sphinx rendered scikit-learn.org.\n",
              "     See: https://github.com/scikit-learn/scikit-learn/issues/21755 */\n",
              "  display: inline-block !important;\n",
              "  position: relative;\n",
              "}\n",
              "\n",
              "#sk-container-id-1 div.sk-text-repr-fallback {\n",
              "  display: none;\n",
              "}\n",
              "\n",
              "div.sk-parallel-item,\n",
              "div.sk-serial,\n",
              "div.sk-item {\n",
              "  /* draw centered vertical line to link estimators */\n",
              "  background-image: linear-gradient(var(--sklearn-color-text-on-default-background), var(--sklearn-color-text-on-default-background));\n",
              "  background-size: 2px 100%;\n",
              "  background-repeat: no-repeat;\n",
              "  background-position: center center;\n",
              "}\n",
              "\n",
              "/* Parallel-specific style estimator block */\n",
              "\n",
              "#sk-container-id-1 div.sk-parallel-item::after {\n",
              "  content: \"\";\n",
              "  width: 100%;\n",
              "  border-bottom: 2px solid var(--sklearn-color-text-on-default-background);\n",
              "  flex-grow: 1;\n",
              "}\n",
              "\n",
              "#sk-container-id-1 div.sk-parallel {\n",
              "  display: flex;\n",
              "  align-items: stretch;\n",
              "  justify-content: center;\n",
              "  background-color: var(--sklearn-color-background);\n",
              "  position: relative;\n",
              "}\n",
              "\n",
              "#sk-container-id-1 div.sk-parallel-item {\n",
              "  display: flex;\n",
              "  flex-direction: column;\n",
              "}\n",
              "\n",
              "#sk-container-id-1 div.sk-parallel-item:first-child::after {\n",
              "  align-self: flex-end;\n",
              "  width: 50%;\n",
              "}\n",
              "\n",
              "#sk-container-id-1 div.sk-parallel-item:last-child::after {\n",
              "  align-self: flex-start;\n",
              "  width: 50%;\n",
              "}\n",
              "\n",
              "#sk-container-id-1 div.sk-parallel-item:only-child::after {\n",
              "  width: 0;\n",
              "}\n",
              "\n",
              "/* Serial-specific style estimator block */\n",
              "\n",
              "#sk-container-id-1 div.sk-serial {\n",
              "  display: flex;\n",
              "  flex-direction: column;\n",
              "  align-items: center;\n",
              "  background-color: var(--sklearn-color-background);\n",
              "  padding-right: 1em;\n",
              "  padding-left: 1em;\n",
              "}\n",
              "\n",
              "\n",
              "/* Toggleable style: style used for estimator/Pipeline/ColumnTransformer box that is\n",
              "clickable and can be expanded/collapsed.\n",
              "- Pipeline and ColumnTransformer use this feature and define the default style\n",
              "- Estimators will overwrite some part of the style using the `sk-estimator` class\n",
              "*/\n",
              "\n",
              "/* Pipeline and ColumnTransformer style (default) */\n",
              "\n",
              "#sk-container-id-1 div.sk-toggleable {\n",
              "  /* Default theme specific background. It is overwritten whether we have a\n",
              "  specific estimator or a Pipeline/ColumnTransformer */\n",
              "  background-color: var(--sklearn-color-background);\n",
              "}\n",
              "\n",
              "/* Toggleable label */\n",
              "#sk-container-id-1 label.sk-toggleable__label {\n",
              "  cursor: pointer;\n",
              "  display: block;\n",
              "  width: 100%;\n",
              "  margin-bottom: 0;\n",
              "  padding: 0.5em;\n",
              "  box-sizing: border-box;\n",
              "  text-align: center;\n",
              "}\n",
              "\n",
              "#sk-container-id-1 label.sk-toggleable__label-arrow:before {\n",
              "  /* Arrow on the left of the label */\n",
              "  content: \"▸\";\n",
              "  float: left;\n",
              "  margin-right: 0.25em;\n",
              "  color: var(--sklearn-color-icon);\n",
              "}\n",
              "\n",
              "#sk-container-id-1 label.sk-toggleable__label-arrow:hover:before {\n",
              "  color: var(--sklearn-color-text);\n",
              "}\n",
              "\n",
              "/* Toggleable content - dropdown */\n",
              "\n",
              "#sk-container-id-1 div.sk-toggleable__content {\n",
              "  max-height: 0;\n",
              "  max-width: 0;\n",
              "  overflow: hidden;\n",
              "  text-align: left;\n",
              "  /* unfitted */\n",
              "  background-color: var(--sklearn-color-unfitted-level-0);\n",
              "}\n",
              "\n",
              "#sk-container-id-1 div.sk-toggleable__content.fitted {\n",
              "  /* fitted */\n",
              "  background-color: var(--sklearn-color-fitted-level-0);\n",
              "}\n",
              "\n",
              "#sk-container-id-1 div.sk-toggleable__content pre {\n",
              "  margin: 0.2em;\n",
              "  border-radius: 0.25em;\n",
              "  color: var(--sklearn-color-text);\n",
              "  /* unfitted */\n",
              "  background-color: var(--sklearn-color-unfitted-level-0);\n",
              "}\n",
              "\n",
              "#sk-container-id-1 div.sk-toggleable__content.fitted pre {\n",
              "  /* unfitted */\n",
              "  background-color: var(--sklearn-color-fitted-level-0);\n",
              "}\n",
              "\n",
              "#sk-container-id-1 input.sk-toggleable__control:checked~div.sk-toggleable__content {\n",
              "  /* Expand drop-down */\n",
              "  max-height: 200px;\n",
              "  max-width: 100%;\n",
              "  overflow: auto;\n",
              "}\n",
              "\n",
              "#sk-container-id-1 input.sk-toggleable__control:checked~label.sk-toggleable__label-arrow:before {\n",
              "  content: \"▾\";\n",
              "}\n",
              "\n",
              "/* Pipeline/ColumnTransformer-specific style */\n",
              "\n",
              "#sk-container-id-1 div.sk-label input.sk-toggleable__control:checked~label.sk-toggleable__label {\n",
              "  color: var(--sklearn-color-text);\n",
              "  background-color: var(--sklearn-color-unfitted-level-2);\n",
              "}\n",
              "\n",
              "#sk-container-id-1 div.sk-label.fitted input.sk-toggleable__control:checked~label.sk-toggleable__label {\n",
              "  background-color: var(--sklearn-color-fitted-level-2);\n",
              "}\n",
              "\n",
              "/* Estimator-specific style */\n",
              "\n",
              "/* Colorize estimator box */\n",
              "#sk-container-id-1 div.sk-estimator input.sk-toggleable__control:checked~label.sk-toggleable__label {\n",
              "  /* unfitted */\n",
              "  background-color: var(--sklearn-color-unfitted-level-2);\n",
              "}\n",
              "\n",
              "#sk-container-id-1 div.sk-estimator.fitted input.sk-toggleable__control:checked~label.sk-toggleable__label {\n",
              "  /* fitted */\n",
              "  background-color: var(--sklearn-color-fitted-level-2);\n",
              "}\n",
              "\n",
              "#sk-container-id-1 div.sk-label label.sk-toggleable__label,\n",
              "#sk-container-id-1 div.sk-label label {\n",
              "  /* The background is the default theme color */\n",
              "  color: var(--sklearn-color-text-on-default-background);\n",
              "}\n",
              "\n",
              "/* On hover, darken the color of the background */\n",
              "#sk-container-id-1 div.sk-label:hover label.sk-toggleable__label {\n",
              "  color: var(--sklearn-color-text);\n",
              "  background-color: var(--sklearn-color-unfitted-level-2);\n",
              "}\n",
              "\n",
              "/* Label box, darken color on hover, fitted */\n",
              "#sk-container-id-1 div.sk-label.fitted:hover label.sk-toggleable__label.fitted {\n",
              "  color: var(--sklearn-color-text);\n",
              "  background-color: var(--sklearn-color-fitted-level-2);\n",
              "}\n",
              "\n",
              "/* Estimator label */\n",
              "\n",
              "#sk-container-id-1 div.sk-label label {\n",
              "  font-family: monospace;\n",
              "  font-weight: bold;\n",
              "  display: inline-block;\n",
              "  line-height: 1.2em;\n",
              "}\n",
              "\n",
              "#sk-container-id-1 div.sk-label-container {\n",
              "  text-align: center;\n",
              "}\n",
              "\n",
              "/* Estimator-specific */\n",
              "#sk-container-id-1 div.sk-estimator {\n",
              "  font-family: monospace;\n",
              "  border: 1px dotted var(--sklearn-color-border-box);\n",
              "  border-radius: 0.25em;\n",
              "  box-sizing: border-box;\n",
              "  margin-bottom: 0.5em;\n",
              "  /* unfitted */\n",
              "  background-color: var(--sklearn-color-unfitted-level-0);\n",
              "}\n",
              "\n",
              "#sk-container-id-1 div.sk-estimator.fitted {\n",
              "  /* fitted */\n",
              "  background-color: var(--sklearn-color-fitted-level-0);\n",
              "}\n",
              "\n",
              "/* on hover */\n",
              "#sk-container-id-1 div.sk-estimator:hover {\n",
              "  /* unfitted */\n",
              "  background-color: var(--sklearn-color-unfitted-level-2);\n",
              "}\n",
              "\n",
              "#sk-container-id-1 div.sk-estimator.fitted:hover {\n",
              "  /* fitted */\n",
              "  background-color: var(--sklearn-color-fitted-level-2);\n",
              "}\n",
              "\n",
              "/* Specification for estimator info (e.g. \"i\" and \"?\") */\n",
              "\n",
              "/* Common style for \"i\" and \"?\" */\n",
              "\n",
              ".sk-estimator-doc-link,\n",
              "a:link.sk-estimator-doc-link,\n",
              "a:visited.sk-estimator-doc-link {\n",
              "  float: right;\n",
              "  font-size: smaller;\n",
              "  line-height: 1em;\n",
              "  font-family: monospace;\n",
              "  background-color: var(--sklearn-color-background);\n",
              "  border-radius: 1em;\n",
              "  height: 1em;\n",
              "  width: 1em;\n",
              "  text-decoration: none !important;\n",
              "  margin-left: 1ex;\n",
              "  /* unfitted */\n",
              "  border: var(--sklearn-color-unfitted-level-1) 1pt solid;\n",
              "  color: var(--sklearn-color-unfitted-level-1);\n",
              "}\n",
              "\n",
              ".sk-estimator-doc-link.fitted,\n",
              "a:link.sk-estimator-doc-link.fitted,\n",
              "a:visited.sk-estimator-doc-link.fitted {\n",
              "  /* fitted */\n",
              "  border: var(--sklearn-color-fitted-level-1) 1pt solid;\n",
              "  color: var(--sklearn-color-fitted-level-1);\n",
              "}\n",
              "\n",
              "/* On hover */\n",
              "div.sk-estimator:hover .sk-estimator-doc-link:hover,\n",
              ".sk-estimator-doc-link:hover,\n",
              "div.sk-label-container:hover .sk-estimator-doc-link:hover,\n",
              ".sk-estimator-doc-link:hover {\n",
              "  /* unfitted */\n",
              "  background-color: var(--sklearn-color-unfitted-level-3);\n",
              "  color: var(--sklearn-color-background);\n",
              "  text-decoration: none;\n",
              "}\n",
              "\n",
              "div.sk-estimator.fitted:hover .sk-estimator-doc-link.fitted:hover,\n",
              ".sk-estimator-doc-link.fitted:hover,\n",
              "div.sk-label-container:hover .sk-estimator-doc-link.fitted:hover,\n",
              ".sk-estimator-doc-link.fitted:hover {\n",
              "  /* fitted */\n",
              "  background-color: var(--sklearn-color-fitted-level-3);\n",
              "  color: var(--sklearn-color-background);\n",
              "  text-decoration: none;\n",
              "}\n",
              "\n",
              "/* Span, style for the box shown on hovering the info icon */\n",
              ".sk-estimator-doc-link span {\n",
              "  display: none;\n",
              "  z-index: 9999;\n",
              "  position: relative;\n",
              "  font-weight: normal;\n",
              "  right: .2ex;\n",
              "  padding: .5ex;\n",
              "  margin: .5ex;\n",
              "  width: min-content;\n",
              "  min-width: 20ex;\n",
              "  max-width: 50ex;\n",
              "  color: var(--sklearn-color-text);\n",
              "  box-shadow: 2pt 2pt 4pt #999;\n",
              "  /* unfitted */\n",
              "  background: var(--sklearn-color-unfitted-level-0);\n",
              "  border: .5pt solid var(--sklearn-color-unfitted-level-3);\n",
              "}\n",
              "\n",
              ".sk-estimator-doc-link.fitted span {\n",
              "  /* fitted */\n",
              "  background: var(--sklearn-color-fitted-level-0);\n",
              "  border: var(--sklearn-color-fitted-level-3);\n",
              "}\n",
              "\n",
              ".sk-estimator-doc-link:hover span {\n",
              "  display: block;\n",
              "}\n",
              "\n",
              "/* \"?\"-specific style due to the `<a>` HTML tag */\n",
              "\n",
              "#sk-container-id-1 a.estimator_doc_link {\n",
              "  float: right;\n",
              "  font-size: 1rem;\n",
              "  line-height: 1em;\n",
              "  font-family: monospace;\n",
              "  background-color: var(--sklearn-color-background);\n",
              "  border-radius: 1rem;\n",
              "  height: 1rem;\n",
              "  width: 1rem;\n",
              "  text-decoration: none;\n",
              "  /* unfitted */\n",
              "  color: var(--sklearn-color-unfitted-level-1);\n",
              "  border: var(--sklearn-color-unfitted-level-1) 1pt solid;\n",
              "}\n",
              "\n",
              "#sk-container-id-1 a.estimator_doc_link.fitted {\n",
              "  /* fitted */\n",
              "  border: var(--sklearn-color-fitted-level-1) 1pt solid;\n",
              "  color: var(--sklearn-color-fitted-level-1);\n",
              "}\n",
              "\n",
              "/* On hover */\n",
              "#sk-container-id-1 a.estimator_doc_link:hover {\n",
              "  /* unfitted */\n",
              "  background-color: var(--sklearn-color-unfitted-level-3);\n",
              "  color: var(--sklearn-color-background);\n",
              "  text-decoration: none;\n",
              "}\n",
              "\n",
              "#sk-container-id-1 a.estimator_doc_link.fitted:hover {\n",
              "  /* fitted */\n",
              "  background-color: var(--sklearn-color-fitted-level-3);\n",
              "}\n",
              "</style><div id=\"sk-container-id-1\" class=\"sk-top-container\"><div class=\"sk-text-repr-fallback\"><pre>TfidfVectorizer(max_df=0.9, min_df=0.1, ngram_range=(1, 2),\n",
              "                vocabulary=[&#x27;producción industrial&#x27;, &#x27;convivencia familiar&#x27;,\n",
              "                            &#x27;empleo registrado&#x27;, &#x27;SoD&#x27;, &#x27;Petronas&#x27;,\n",
              "                            &#x27;exposición directa&#x27;, &#x27;elementos&#x27;, &#x27;ingreso&#x27;,\n",
              "                            &#x27;Sergio Antonio Martínez&#x27;, &#x27;es indispensable&#x27;,\n",
              "                            &#x27;pequeñas empresas&#x27;, &#x27;La Fiscalía&#x27;,\n",
              "                            &#x27;Circuitos Turísticos&#x27;, &#x27;Atlético de Madrid&#x27;,\n",
              "                            &#x27;metros cuadrados&#x27;, &#x27;emociones&#x27;, &#x27;Sena&#x27;,\n",
              "                            &#x27;ataque cardíaco&#x27;, &#x27;tasa fija&#x27;, &#x27;Banco Macro&#x27;,\n",
              "                            &#x27;circo&#x27;, &#x27;futura enfermera&#x27;, &#x27;facha&#x27;, &#x27;liqui&#x27;,\n",
              "                            &#x27;Asunción de Paraguay&#x27;, &#x27;Salchicha de Vienal&#x27;,\n",
              "                            &#x27;dólar cripto&#x27;, &#x27;Estado nacional&#x27;,\n",
              "                            &#x27;plantel albiceleste&#x27;, &#x27;Von der Leyen&#x27;, ...])</pre><b>In a Jupyter environment, please rerun this cell to show the HTML representation or trust the notebook. <br />On GitHub, the HTML representation is unable to render, please try loading this page with nbviewer.org.</b></div><div class=\"sk-container\" hidden><div class=\"sk-item\"><div class=\"sk-estimator fitted sk-toggleable\"><input class=\"sk-toggleable__control sk-hidden--visually\" id=\"sk-estimator-id-1\" type=\"checkbox\" checked><label for=\"sk-estimator-id-1\" class=\"sk-toggleable__label fitted sk-toggleable__label-arrow fitted\">&nbsp;&nbsp;TfidfVectorizer<a class=\"sk-estimator-doc-link fitted\" rel=\"noreferrer\" target=\"_blank\" href=\"https://scikit-learn.org/1.4/modules/generated/sklearn.feature_extraction.text.TfidfVectorizer.html\">?<span>Documentation for TfidfVectorizer</span></a><span class=\"sk-estimator-doc-link fitted\">i<span>Fitted</span></span></label><div class=\"sk-toggleable__content fitted\"><pre>TfidfVectorizer(max_df=0.9, min_df=0.1, ngram_range=(1, 2),\n",
              "                vocabulary=[&#x27;producción industrial&#x27;, &#x27;convivencia familiar&#x27;,\n",
              "                            &#x27;empleo registrado&#x27;, &#x27;SoD&#x27;, &#x27;Petronas&#x27;,\n",
              "                            &#x27;exposición directa&#x27;, &#x27;elementos&#x27;, &#x27;ingreso&#x27;,\n",
              "                            &#x27;Sergio Antonio Martínez&#x27;, &#x27;es indispensable&#x27;,\n",
              "                            &#x27;pequeñas empresas&#x27;, &#x27;La Fiscalía&#x27;,\n",
              "                            &#x27;Circuitos Turísticos&#x27;, &#x27;Atlético de Madrid&#x27;,\n",
              "                            &#x27;metros cuadrados&#x27;, &#x27;emociones&#x27;, &#x27;Sena&#x27;,\n",
              "                            &#x27;ataque cardíaco&#x27;, &#x27;tasa fija&#x27;, &#x27;Banco Macro&#x27;,\n",
              "                            &#x27;circo&#x27;, &#x27;futura enfermera&#x27;, &#x27;facha&#x27;, &#x27;liqui&#x27;,\n",
              "                            &#x27;Asunción de Paraguay&#x27;, &#x27;Salchicha de Vienal&#x27;,\n",
              "                            &#x27;dólar cripto&#x27;, &#x27;Estado nacional&#x27;,\n",
              "                            &#x27;plantel albiceleste&#x27;, &#x27;Von der Leyen&#x27;, ...])</pre></div> </div></div></div></div>"
            ],
            "text/plain": [
              "TfidfVectorizer(max_df=0.9, min_df=0.1, ngram_range=(1, 2),\n",
              "                vocabulary=['producción industrial', 'convivencia familiar',\n",
              "                            'empleo registrado', 'SoD', 'Petronas',\n",
              "                            'exposición directa', 'elementos', 'ingreso',\n",
              "                            'Sergio Antonio Martínez', 'es indispensable',\n",
              "                            'pequeñas empresas', 'La Fiscalía',\n",
              "                            'Circuitos Turísticos', 'Atlético de Madrid',\n",
              "                            'metros cuadrados', 'emociones', 'Sena',\n",
              "                            'ataque cardíaco', 'tasa fija', 'Banco Macro',\n",
              "                            'circo', 'futura enfermera', 'facha', 'liqui',\n",
              "                            'Asunción de Paraguay', 'Salchicha de Vienal',\n",
              "                            'dólar cripto', 'Estado nacional',\n",
              "                            'plantel albiceleste', 'Von der Leyen', ...])"
            ]
          },
          "execution_count": 11,
          "metadata": {},
          "output_type": "execute_result"
        }
      ],
      "source": [
        "tfidf_vectorizer = TfidfVectorizer(\n",
        "        tokenizer=None,\n",
        "        max_df=0.9,\n",
        "        min_df=0.1,\n",
        "        ngram_range=(1, 2),\n",
        "        vocabulary=vocab,\n",
        "        # max_features=100_000\n",
        ")\n",
        "tfidf_vectorizer.fit(proc_data)"
      ]
    },
    {
      "cell_type": "markdown",
      "metadata": {
        "id": "6KB5tMtLN_BW"
      },
      "source": [
        "Capas del modelo BERTopic"
      ]
    },
    {
      "cell_type": "code",
      "execution_count": 12,
      "metadata": {
        "id": "Mpb75EAM3R53"
      },
      "outputs": [],
      "source": [
        "# Step 1 - Extract embeddings\n",
        "embedding_model = SentenceTransformer(\"paraphrase-multilingual-MiniLM-L12-v2\")\n",
        "# Step 2 - Reduce dimensionality\n",
        "umap_model = UMAP(n_neighbors=15, n_components=5, min_dist=0.0, metric='cosine', random_state=42)\n",
        "# Step 3 - Cluster reduced embeddings\n",
        "hdbscan_model = HDBSCAN(min_cluster_size=10, metric='euclidean', cluster_selection_method='eom', prediction_data=True)\n",
        "# Step 4 - Tokenize topics\n",
        "vectorizer_model = tfidf_vectorizer\n",
        "# Step 5 - Create topic representation\n",
        "ctfidf_model = ClassTfidfTransformer()\n",
        "# Step 6 - (Optional) Fine-tune topic representations with a `bertopic.representation` model\n",
        "# representation_model = KeyBERTInspired()\n",
        "\n",
        "# All steps together\n",
        "topic_model = BERTopic(\n",
        "  embedding_model=embedding_model,              # Step 1 - Extract embeddings\n",
        "  umap_model=umap_model,                        # Step 2 - Reduce dimensionality\n",
        "  hdbscan_model=hdbscan_model,                  # Step 3 - Cluster reduced embeddings\n",
        "  vectorizer_model=vectorizer_model,            # Step 4 - Tokenize topics\n",
        "  ctfidf_model=ctfidf_model,                    # Step 5 - Extract topic words\n",
        "  # representation_model=representation_model,  # Step 6 - (Optional) Fine-tune topic represenations\n",
        "  # language='multilingual',                    # This is not used if embedding_model is used.\n",
        "  verbose=True,\n",
        "  # calculate_probabilities=True\n",
        ")"
      ]
    },
    {
      "cell_type": "markdown",
      "metadata": {
        "id": "RYk1SbbdN_BX"
      },
      "source": [
        "### Datos de Entrenamiento a recuperar"
      ]
    },
    {
      "cell_type": "code",
      "execution_count": 13,
      "metadata": {
        "id": "uZb5UYa5N_BX"
      },
      "outputs": [],
      "source": [
        "# Cargar modelo entrenado o saltar celda y entrenar\n",
        "#topic_model = BERTopic.load(PATH+f\"modelos_notebook/bertopic_model_{choice}\")\n",
        "#topics = np.load(PATH+f\"modelos_notebook/topics_{choice}.npy\")\n",
        "#probs = np.load(PATH+f\"modelos_notebook/probs_{choice}.npy\")\n",
        "\n",
        "# Cargar los embeddings\n",
        "#docs_embedding = np.load(PATH+f\"modelos_notebook/docs_embeddings_{choice}.npy\")"
      ]
    },
    {
      "cell_type": "markdown",
      "metadata": {},
      "source": [
        "### Entrenamiento"
      ]
    },
    {
      "cell_type": "code",
      "execution_count": 14,
      "metadata": {
        "id": "MUSgR75RN_BY"
      },
      "outputs": [
        {
          "name": "stderr",
          "output_type": "stream",
          "text": [
            "2024-08-29 17:45:55,958 - BERTopic - Embedding - Transforming documents to embeddings.\n"
          ]
        },
        {
          "data": {
            "application/vnd.jupyter.widget-view+json": {
              "model_id": "b50611a4b39e4279aa07f6a9854fc2b9",
              "version_major": 2,
              "version_minor": 0
            },
            "text/plain": [
              "Batches:   0%|          | 0/32 [00:00<?, ?it/s]"
            ]
          },
          "metadata": {},
          "output_type": "display_data"
        },
        {
          "name": "stderr",
          "output_type": "stream",
          "text": [
            "2024-08-29 17:50:21,879 - BERTopic - Embedding - Completed ✓\n",
            "2024-08-29 17:50:21,882 - BERTopic - Dimensionality - Fitting the dimensionality reduction algorithm\n",
            "2024-08-29 17:50:59,728 - BERTopic - Dimensionality - Completed ✓\n",
            "2024-08-29 17:50:59,731 - BERTopic - Cluster - Start clustering the reduced embeddings\n",
            "2024-08-29 17:50:59,868 - BERTopic - Cluster - Completed ✓\n",
            "2024-08-29 17:50:59,896 - BERTopic - Representation - Extracting topics from clusters using representation models.\n",
            "2024-08-29 17:51:02,162 - BERTopic - Representation - Completed ✓\n"
          ]
        }
      ],
      "source": [
        "# Entrenamiento\n",
        "topics, probs = topic_model.fit_transform(proc_data)"
      ]
    },
    {
      "cell_type": "code",
      "execution_count": 15,
      "metadata": {
        "id": "7fssvPfyN_BY"
      },
      "outputs": [],
      "source": [
        "# Obtenemos embeddings de todos los documentos\n",
        "docs_embedding = topic_model.embedding_model.embed(data)"
      ]
    },
    {
      "cell_type": "markdown",
      "metadata": {},
      "source": [
        "### Datos de entrenamiento a guardar"
      ]
    },
    {
      "cell_type": "code",
      "execution_count": 16,
      "metadata": {
        "id": "4NXVfA04N_BY"
      },
      "outputs": [
        {
          "name": "stderr",
          "output_type": "stream",
          "text": [
            "2024-08-29 17:56:11,951 - BERTopic - WARNING: When you use `pickle` to save/load a BERTopic model,please make sure that the environments in which you saveand load the model are **exactly** the same. The version of BERTopic,its dependencies, and python need to remain the same.\n"
          ]
        }
      ],
      "source": [
        "# Grabar modelo\n",
        "topic_model.save(PATH+f\"modelos_notebook/bertopic_model_last\")\n",
        "#np.save(PATH+f\"modelos_notebook/topics_{choice}.npy\", topics)\n",
        "#np.save(PATH+f\"modelos_notebook/probs_{choice}.npy\", probs)\n",
        "\n",
        "# Guardar los embeddings en un archivo de NumPy\n",
        "np.save(PATH+f\"modelos_notebook/docs_embeddings_last.npy\", docs_embedding)"
      ]
    },
    {
      "cell_type": "markdown",
      "metadata": {},
      "source": [
        "## Grabar solo resultados del primer modelo en Topic y News\n",
        "*** El segundo modelo corre en NLP_03_merged, para luego fusionar. ***"
      ]
    },
    {
      "cell_type": "markdown",
      "metadata": {},
      "source": [
        "### Actualizar datos en news "
      ]
    },
    {
      "cell_type": "code",
      "execution_count": 45,
      "metadata": {},
      "outputs": [
        {
          "data": {
            "text/plain": [
              "True"
            ]
          },
          "execution_count": 45,
          "metadata": {},
          "output_type": "execute_result"
        }
      ],
      "source": [
        "# Marcar registros de noticias como procesados y grabar sus embeddings, topicos, probs \n",
        "update_news( id_data, docs_embedding, topics, probs )"
      ]
    },
    {
      "cell_type": "markdown",
      "metadata": {},
      "source": [
        "### Grabar todos los registros en Topic y la actualizacion en news"
      ]
    },
    {
      "cell_type": "code",
      "execution_count": 18,
      "metadata": {},
      "outputs": [],
      "source": [
        "# Grabar todos los topicos en la base\n",
        "date_choice = choice[:4]+\"-\"+choice[4:6]+\"-\"+choice[6:8]\n",
        "\n",
        "for topic_id in topic_model.get_topics().keys():\n",
        "    if topic_id > -1:\n",
        "\n",
        "        topic_keywords_top  = top_keywords(topic_id, topic_model, PATH)\n",
        "        topic_entities_top  = top_entities(topic_id, topic_model, df_parquet)\n",
        "        topic_documents_title, threshold  = topic_documents(topic_id, topic_model, df_parquet)\n",
        "        id_best_doc, title_best_doc, best_doc = best_document(topic_id, topic_model, docs_embedding, id_data, title_data, data)\n",
        "        \n",
        "\n",
        "        topic_doc = Topic(\n",
        "            index = topic_id,\n",
        "            name =  get_topic_name(''.join(topic_documents_title), topic_id, topic_model, client),\n",
        "            vector = list(topic_model.topic_embeddings_[topic_id + 1 ]),\n",
        "            similarity_threshold = threshold,\n",
        "            created_at = datetime.now(),\n",
        "            from_date = parse(date_choice),\n",
        "            to_date = datetime.strptime(date_choice, '%Y-%m-%d') + timedelta(days=1),\n",
        "            keywords = topic_keywords_top,\n",
        "            entities = topic_entities_top,\n",
        "            id_best_doc = id_best_doc,\n",
        "            title_best_doc = title_best_doc,\n",
        "            best_doc = best_doc,\n",
        "        )\n",
        "\n",
        "        topic_doc.save()\n",
        "\n"
      ]
    },
    {
      "cell_type": "markdown",
      "metadata": {
        "id": "McTgk142N_BY"
      },
      "source": [
        "## Resultados y operaciones con el modelo"
      ]
    },
    {
      "cell_type": "code",
      "execution_count": 19,
      "metadata": {
        "id": "-oHKP19MN_BY"
      },
      "outputs": [
        {
          "name": "stdout",
          "output_type": "stream",
          "text": [
            "Cantidad de tópicos 21 (incluye topico -1)\n"
          ]
        }
      ],
      "source": [
        "print(f\"Cantidad de tópicos {len(set(topic_model.topics_))} (incluye topico -1)\")"
      ]
    },
    {
      "cell_type": "code",
      "execution_count": 20,
      "metadata": {
        "id": "qZusn9JUN_BY"
      },
      "outputs": [
        {
          "name": "stdout",
          "output_type": "stream",
          "text": [
            "Número de tópicos encontrados: 21 (incluye el topico -1)\n",
            " Topic  Count\n",
            "    -1    335\n",
            "     0    156\n",
            "     1     91\n",
            "     2     70\n",
            "     3     49\n",
            "     4     32\n",
            "     5     27\n",
            "     6     25\n",
            "     7     24\n",
            "     8     23\n",
            "     9     21\n",
            "    10     18\n",
            "    11     18\n",
            "    12     18\n",
            "    13     18\n",
            "    14     13\n",
            "    15     13\n",
            "    16     13\n",
            "    17     12\n",
            "    18     12\n",
            "    19     12\n"
          ]
        }
      ],
      "source": [
        "# Obtener documentos de cada tópico\n",
        "topic_freq = topic_model.get_topic_freq()\n",
        "\n",
        "# Imprimir el número de tópicos encontrados (incluyendo el tópico -1)\n",
        "num_topics = len(topic_freq)\n",
        "print(f\"Número de tópicos encontrados: {num_topics} (incluye el topico -1)\")\n",
        "\n",
        "# Imprimir la cant de documentos de cada tópico\n",
        "print(topic_freq.to_string(index=False))"
      ]
    },
    {
      "cell_type": "markdown",
      "metadata": {
        "id": "J8NuMpv7N_BZ"
      },
      "source": [
        "### Recuperar todos los topicos y sus etiquetas generadas por el modelo"
      ]
    },
    {
      "cell_type": "code",
      "execution_count": 21,
      "metadata": {
        "id": "QyGA8qOBN_BZ"
      },
      "outputs": [
        {
          "data": {
            "text/plain": [
              "['-1_argentina_sociedades_2024',\n",
              " '0_víctima_penal_policía',\n",
              " '1_viviendas_pacto_ley',\n",
              " '2_actividades_cultura_turismo',\n",
              " '3_cuotas_categoría_multas',\n",
              " '4_show_cantante_fanáticos',\n",
              " '5_incendio_bomberos_incendios',\n",
              " '6_refuerzos_club_jugadores',\n",
              " '7_dólar_compra_brecha',\n",
              " '8_demencia_azúcar_salud',\n",
              " '9_temperatura_precipitaciones_temperaturas',\n",
              " '10_inteligencia_agencia_agencias',\n",
              " '11_soles_empleo_em',\n",
              " '12_periodistas_periodista_presidente',\n",
              " '13_millones_bancos_liquidez',\n",
              " '14_crecimiento_inflación_alza',\n",
              " '15_jugador_español_ciudad deportiva',\n",
              " '16_lesión_tobillo_selección',\n",
              " '17_juego_rompecabezas_batalla',\n",
              " '18_participantes_isla_inmunidad',\n",
              " '19_hs_música_piano']"
            ]
          },
          "execution_count": 21,
          "metadata": {},
          "output_type": "execute_result"
        }
      ],
      "source": [
        "topic_labels = topic_model.generate_topic_labels()\n",
        "topic_labels"
      ]
    },
    {
      "cell_type": "markdown",
      "metadata": {
        "id": "szmrk5CcN_BZ"
      },
      "source": [
        "### Buscar topicos ingresando un texto"
      ]
    },
    {
      "cell_type": "code",
      "execution_count": 22,
      "metadata": {
        "id": "IDMc0KZVN_BZ"
      },
      "outputs": [
        {
          "name": "stdout",
          "output_type": "stream",
          "text": [
            "([9, 14, 13, 8, 11], [0.5958034, 0.30266076, 0.25599703, 0.2507847, 0.24953091])\n"
          ]
        },
        {
          "data": {
            "text/plain": [
              "'9_temperatura_precipitaciones_temperaturas'"
            ]
          },
          "execution_count": 22,
          "metadata": {},
          "output_type": "execute_result"
        }
      ],
      "source": [
        "topic_res = topic_model.find_topics(\"cambio climatico\")\n",
        "print(topic_res)\n",
        "topic_labels[topic_res[0][np.argmax(topic_res[1])]+1]"
      ]
    },
    {
      "cell_type": "markdown",
      "metadata": {},
      "source": [
        "## Elegir un topico para pruebas"
      ]
    },
    {
      "cell_type": "code",
      "execution_count": 23,
      "metadata": {},
      "outputs": [
        {
          "name": "stdout",
          "output_type": "stream",
          "text": [
            "Topico N°: 14 --> 14_crecimiento_inflación_alza\n"
          ]
        }
      ],
      "source": [
        "# Obtener los n documentos de un tópico\n",
        "topic_id = np.random.randint(len(set(topic_model.topics_))-1) # Obtener un topico al azar\n",
        "print(f\"Topico N°: {topic_id} --> {topic_labels[topic_id+1]}\" )"
      ]
    },
    {
      "cell_type": "markdown",
      "metadata": {
        "id": "p4lJj7ySN_BZ"
      },
      "source": [
        "### Buscar los titulos de los primeros n documentos de un topico"
      ]
    },
    {
      "cell_type": "code",
      "execution_count": 24,
      "metadata": {
        "id": "mDaQzIduN_BZ"
      },
      "outputs": [
        {
          "name": "stdout",
          "output_type": "stream",
          "text": [
            "5 de 13 titulos de noticias encontrados en el tópico 14\n",
            "-  El FMI pronostica una recesión más profunda en Argentina para 2024\n",
            "-  Se pronostica que la recesión económica del país será más fuerte a fin de año\n",
            "-  El FMI advierte una profundización de la contracción económica en Argentina y proyecta que el PBI caerá 3,5% este año\n",
            "-  El FMI empeoró las previsiones sobre la caída de la economía argentina en 2024\n",
            "-  FMI recorta previsiones económicas para Argentina: Se espera una caída más pronunciada\n"
          ]
        }
      ],
      "source": [
        "n_docs = 5  # N documentos a recuperar\n",
        "topic_docs_idx = [i for i, (doc, topic) in enumerate(zip(list(df_parquet['title']), topic_model.topics_)) if topic == topic_id]\n",
        "n_docs = n_docs if n_docs <= len(topic_docs_idx) else len(topic_docs_idx)\n",
        "\n",
        "print(f\"{n_docs} de {len(topic_docs_idx)} titulos de noticias encontrados en el tópico {topic_id:}\")\n",
        "for idx in topic_docs_idx[:n_docs]:\n",
        "    print(\"- \",df_parquet.iloc[idx]['title'])"
      ]
    },
    {
      "cell_type": "markdown",
      "metadata": {
        "id": "Oe7n7ofuN_Ba"
      },
      "source": [
        "#### Busqueda de documentos por topico, ordenados por mayor probabilidad"
      ]
    },
    {
      "cell_type": "code",
      "execution_count": 25,
      "metadata": {
        "id": "KFpaYMzpN_Ba"
      },
      "outputs": [
        {
          "name": "stdout",
          "output_type": "stream",
          "text": [
            "Topico N°: 14 --> 14_crecimiento_inflación_alza\n",
            "13 docs encontrados\n"
          ]
        },
        {
          "data": {
            "text/html": [
              "<style type=\"text/css\">\n",
              "#T_99454_row0_col1, #T_99454_row1_col1, #T_99454_row2_col1, #T_99454_row3_col1, #T_99454_row4_col1, #T_99454_row5_col1, #T_99454_row6_col1, #T_99454_row7_col1, #T_99454_row8_col1, #T_99454_row9_col1, #T_99454_row10_col1, #T_99454_row11_col1, #T_99454_row12_col1 {\n",
              "  text-align: left;\n",
              "}\n",
              "</style>\n",
              "<table id=\"T_99454\">\n",
              "  <thead>\n",
              "    <tr>\n",
              "      <th class=\"blank level0\" >&nbsp;</th>\n",
              "      <th id=\"T_99454_level0_col0\" class=\"col_heading level0 col0\" >ID</th>\n",
              "      <th id=\"T_99454_level0_col1\" class=\"col_heading level0 col1\" >titulo</th>\n",
              "      <th id=\"T_99454_level0_col2\" class=\"col_heading level0 col2\" >score</th>\n",
              "    </tr>\n",
              "  </thead>\n",
              "  <tbody>\n",
              "    <tr>\n",
              "      <th id=\"T_99454_level0_row0\" class=\"row_heading level0 row0\" >0</th>\n",
              "      <td id=\"T_99454_row0_col0\" class=\"data row0 col0\" >114863267</td>\n",
              "      <td id=\"T_99454_row0_col1\" class=\"data row0 col1\" >El FMI pronostica una recesión más profunda en Argentina para 2024</td>\n",
              "      <td id=\"T_99454_row0_col2\" class=\"data row0 col2\" >1.000000</td>\n",
              "    </tr>\n",
              "    <tr>\n",
              "      <th id=\"T_99454_level0_row1\" class=\"row_heading level0 row1\" >1</th>\n",
              "      <td id=\"T_99454_row1_col0\" class=\"data row1 col0\" >114880736</td>\n",
              "      <td id=\"T_99454_row1_col1\" class=\"data row1 col1\" >Se pronostica que la recesión económica del país será más fuerte a fin de año</td>\n",
              "      <td id=\"T_99454_row1_col2\" class=\"data row1 col2\" >1.000000</td>\n",
              "    </tr>\n",
              "    <tr>\n",
              "      <th id=\"T_99454_level0_row2\" class=\"row_heading level0 row2\" >2</th>\n",
              "      <td id=\"T_99454_row2_col0\" class=\"data row2 col0\" >114836975</td>\n",
              "      <td id=\"T_99454_row2_col1\" class=\"data row2 col1\" >El FMI advierte una profundización de la contracción económica en Argentina y proyecta que el PBI caerá 3,5% este año</td>\n",
              "      <td id=\"T_99454_row2_col2\" class=\"data row2 col2\" >1.000000</td>\n",
              "    </tr>\n",
              "    <tr>\n",
              "      <th id=\"T_99454_level0_row3\" class=\"row_heading level0 row3\" >3</th>\n",
              "      <td id=\"T_99454_row3_col0\" class=\"data row3 col0\" >114837382</td>\n",
              "      <td id=\"T_99454_row3_col1\" class=\"data row3 col1\" >El FMI empeoró las previsiones sobre la caída de la economía argentina en 2024</td>\n",
              "      <td id=\"T_99454_row3_col2\" class=\"data row3 col2\" >1.000000</td>\n",
              "    </tr>\n",
              "    <tr>\n",
              "      <th id=\"T_99454_level0_row4\" class=\"row_heading level0 row4\" >4</th>\n",
              "      <td id=\"T_99454_row4_col0\" class=\"data row4 col0\" >114846527</td>\n",
              "      <td id=\"T_99454_row4_col1\" class=\"data row4 col1\" >FMI recorta previsiones económicas para Argentina: Se espera una caída más pronunciada</td>\n",
              "      <td id=\"T_99454_row4_col2\" class=\"data row4 col2\" >1.000000</td>\n",
              "    </tr>\n",
              "    <tr>\n",
              "      <th id=\"T_99454_level0_row5\" class=\"row_heading level0 row5\" >6</th>\n",
              "      <td id=\"T_99454_row5_col0\" class=\"data row5 col0\" >114850984</td>\n",
              "      <td id=\"T_99454_row5_col1\" class=\"data row5 col1\" >El FMI prevé que la actividad en Argentina caiga más de lo esperado y subió el riesgo país</td>\n",
              "      <td id=\"T_99454_row5_col2\" class=\"data row5 col2\" >1.000000</td>\n",
              "    </tr>\n",
              "    <tr>\n",
              "      <th id=\"T_99454_level0_row6\" class=\"row_heading level0 row6\" >8</th>\n",
              "      <td id=\"T_99454_row6_col0\" class=\"data row6 col0\" >114847003</td>\n",
              "      <td id=\"T_99454_row6_col1\" class=\"data row6 col1\" >El FMI estimó que el PBI en Argentina caerá 3,5%</td>\n",
              "      <td id=\"T_99454_row6_col2\" class=\"data row6 col2\" >1.000000</td>\n",
              "    </tr>\n",
              "    <tr>\n",
              "      <th id=\"T_99454_level0_row7\" class=\"row_heading level0 row7\" >10</th>\n",
              "      <td id=\"T_99454_row7_col0\" class=\"data row7 col0\" >114839206</td>\n",
              "      <td id=\"T_99454_row7_col1\" class=\"data row7 col1\" >El FMI se corrige y proyecta que la recesión argentina será peor</td>\n",
              "      <td id=\"T_99454_row7_col2\" class=\"data row7 col2\" >1.000000</td>\n",
              "    </tr>\n",
              "    <tr>\n",
              "      <th id=\"T_99454_level0_row8\" class=\"row_heading level0 row8\" >11</th>\n",
              "      <td id=\"T_99454_row8_col0\" class=\"data row8 col0\" >114847513</td>\n",
              "      <td id=\"T_99454_row8_col1\" class=\"data row8 col1\" >El FMI pide diálogo político en Argentina tras revisar al alza su contracción para 2024</td>\n",
              "      <td id=\"T_99454_row8_col2\" class=\"data row8 col2\" >1.000000</td>\n",
              "    </tr>\n",
              "    <tr>\n",
              "      <th id=\"T_99454_level0_row9\" class=\"row_heading level0 row9\" >12</th>\n",
              "      <td id=\"T_99454_row9_col0\" class=\"data row9 col0\" >114805524</td>\n",
              "      <td id=\"T_99454_row9_col1\" class=\"data row9 col1\" >Argentina tiene la nafta más cara de la región</td>\n",
              "      <td id=\"T_99454_row9_col2\" class=\"data row9 col2\" >1.000000</td>\n",
              "    </tr>\n",
              "    <tr>\n",
              "      <th id=\"T_99454_level0_row10\" class=\"row_heading level0 row10\" >5</th>\n",
              "      <td id=\"T_99454_row10_col0\" class=\"data row10 col0\" >114851566</td>\n",
              "      <td id=\"T_99454_row10_col1\" class=\"data row10 col1\" >Proponen fijar la cantidad máxima de empleados por cada legislador</td>\n",
              "      <td id=\"T_99454_row10_col2\" class=\"data row10 col2\" >0.968500</td>\n",
              "    </tr>\n",
              "    <tr>\n",
              "      <th id=\"T_99454_level0_row11\" class=\"row_heading level0 row11\" >7</th>\n",
              "      <td id=\"T_99454_row11_col0\" class=\"data row11 col0\" >114880251</td>\n",
              "      <td id=\"T_99454_row11_col1\" class=\"data row11 col1\" >El FMI destacó la baja de la inflación en Argentina, pero proyectó que la economía caerá más de lo esperado</td>\n",
              "      <td id=\"T_99454_row11_col2\" class=\"data row11 col2\" >0.826900</td>\n",
              "    </tr>\n",
              "    <tr>\n",
              "      <th id=\"T_99454_level0_row12\" class=\"row_heading level0 row12\" >9</th>\n",
              "      <td id=\"T_99454_row12_col0\" class=\"data row12 col0\" >114839614</td>\n",
              "      <td id=\"T_99454_row12_col1\" class=\"data row12 col1\" >El Gobierno reveló la \"fase 3\" del plan y los millones que prevé por el Rigi</td>\n",
              "      <td id=\"T_99454_row12_col2\" class=\"data row12 col2\" >0.586500</td>\n",
              "    </tr>\n",
              "  </tbody>\n",
              "</table>\n"
            ],
            "text/plain": [
              "<pandas.io.formats.style.Styler at 0x21c5a856c10>"
            ]
          },
          "execution_count": 25,
          "metadata": {},
          "output_type": "execute_result"
        }
      ],
      "source": [
        "docs_per_topics = [i for i, x in enumerate(topic_model.topics_) if x == topic_id]\n",
        "score_docs = topic_model.probabilities_[docs_per_topics]\n",
        "\n",
        "print(f\"Topico N°: {topic_id} --> {topic_labels[topic_id+1]}\" )\n",
        "\n",
        "reg_data = []\n",
        "for i, doc in enumerate(docs_per_topics):\n",
        "    reg_data.append([df_parquet.iloc[doc].asset_id, df_parquet.iloc[doc].title, round(score_docs[i],4)])\n",
        "\n",
        "df_query = pd.DataFrame(reg_data, columns=['ID','titulo','score'])\n",
        "print(len(df_query), \"docs encontrados\")\n",
        "df_query.sort_values('score', ascending=False).style.set_properties(subset=['titulo'], **{'text-align': 'left'})"
      ]
    },
    {
      "cell_type": "markdown",
      "metadata": {
        "id": "G9oQK911N_Bf"
      },
      "source": [
        "### Criterio de corte (umbral)\n",
        "El criterio de corte utilizado para filtrar las noticias que pertenecen a un topico es la \"media\""
      ]
    },
    {
      "cell_type": "code",
      "execution_count": 26,
      "metadata": {
        "id": "tAt7-_Q8N_Bf"
      },
      "outputs": [
        {
          "data": {
            "image/png": "[encoded data removed]",
            "text/plain": [
              "<Figure size 640x480 with 1 Axes>"
            ]
          },
          "metadata": {},
          "output_type": "display_data"
        }
      ],
      "source": [
        "# Calcular la media, el desvío estándar\n",
        "\n",
        "mean = np.mean([fila[2] for fila in reg_data])\n",
        "std_dev = np.std([fila[2] for fila in reg_data])\n",
        "\n",
        "# Crear el histograma\n",
        "plt.hist([fila[2] for fila in reg_data], bins=10, edgecolor='black')\n",
        "\n",
        "# Añadir líneas para la media, la moda y el desvío estándar\n",
        "plt.axvline(mean, color='r', linestyle='dashed', linewidth=1, label=f'Media: {mean:.2f}')\n",
        "plt.axvline(mean - std_dev, color='b', linestyle='dashed', linewidth=1, label=f'-1 STD: {mean - std_dev:.2f}')\n",
        "\n",
        "\n",
        "# Añadir títulos y etiquetas\n",
        "plt.title(f'Histograma de probabilidades topico: {topic_id}')\n",
        "plt.xlabel('Valor')\n",
        "plt.ylabel('Frecuencia')\n",
        "plt.legend()\n",
        "\n",
        "# Mostrar el gráfico\n",
        "plt.show()"
      ]
    },
    {
      "cell_type": "code",
      "execution_count": 27,
      "metadata": {},
      "outputs": [
        {
          "name": "stdout",
          "output_type": "stream",
          "text": [
            "Topico N°: 14 --> 14_crecimiento_inflación_alza\n",
            "Umbral de corte 0.9524538461538463\n"
          ]
        },
        {
          "data": {
            "text/html": [
              "<style type=\"text/css\">\n",
              "#T_4cd7b_row0_col0, #T_4cd7b_row0_col2, #T_4cd7b_row1_col0, #T_4cd7b_row1_col2, #T_4cd7b_row2_col0, #T_4cd7b_row2_col2, #T_4cd7b_row3_col0, #T_4cd7b_row3_col2, #T_4cd7b_row4_col0, #T_4cd7b_row4_col2, #T_4cd7b_row5_col0, #T_4cd7b_row5_col2, #T_4cd7b_row6_col0, #T_4cd7b_row6_col2, #T_4cd7b_row7_col0, #T_4cd7b_row7_col2, #T_4cd7b_row8_col0, #T_4cd7b_row8_col2, #T_4cd7b_row9_col0, #T_4cd7b_row9_col2, #T_4cd7b_row10_col0, #T_4cd7b_row10_col2 {\n",
              "  color: cyan;\n",
              "}\n",
              "#T_4cd7b_row0_col1, #T_4cd7b_row1_col1, #T_4cd7b_row2_col1, #T_4cd7b_row3_col1, #T_4cd7b_row4_col1, #T_4cd7b_row5_col1, #T_4cd7b_row6_col1, #T_4cd7b_row7_col1, #T_4cd7b_row8_col1, #T_4cd7b_row9_col1, #T_4cd7b_row10_col1 {\n",
              "  color: cyan;\n",
              "  text-align: left;\n",
              "}\n",
              "#T_4cd7b_row11_col1, #T_4cd7b_row12_col1 {\n",
              "  text-align: left;\n",
              "}\n",
              "</style>\n",
              "<table id=\"T_4cd7b\">\n",
              "  <thead>\n",
              "    <tr>\n",
              "      <th class=\"blank level0\" >&nbsp;</th>\n",
              "      <th id=\"T_4cd7b_level0_col0\" class=\"col_heading level0 col0\" >ID</th>\n",
              "      <th id=\"T_4cd7b_level0_col1\" class=\"col_heading level0 col1\" >titulo</th>\n",
              "      <th id=\"T_4cd7b_level0_col2\" class=\"col_heading level0 col2\" >score</th>\n",
              "    </tr>\n",
              "  </thead>\n",
              "  <tbody>\n",
              "    <tr>\n",
              "      <th id=\"T_4cd7b_level0_row0\" class=\"row_heading level0 row0\" >0</th>\n",
              "      <td id=\"T_4cd7b_row0_col0\" class=\"data row0 col0\" >114863267</td>\n",
              "      <td id=\"T_4cd7b_row0_col1\" class=\"data row0 col1\" >El FMI pronostica una recesión más profunda en Argentina para 2024</td>\n",
              "      <td id=\"T_4cd7b_row0_col2\" class=\"data row0 col2\" >1.000000</td>\n",
              "    </tr>\n",
              "    <tr>\n",
              "      <th id=\"T_4cd7b_level0_row1\" class=\"row_heading level0 row1\" >1</th>\n",
              "      <td id=\"T_4cd7b_row1_col0\" class=\"data row1 col0\" >114880736</td>\n",
              "      <td id=\"T_4cd7b_row1_col1\" class=\"data row1 col1\" >Se pronostica que la recesión económica del país será más fuerte a fin de año</td>\n",
              "      <td id=\"T_4cd7b_row1_col2\" class=\"data row1 col2\" >1.000000</td>\n",
              "    </tr>\n",
              "    <tr>\n",
              "      <th id=\"T_4cd7b_level0_row2\" class=\"row_heading level0 row2\" >2</th>\n",
              "      <td id=\"T_4cd7b_row2_col0\" class=\"data row2 col0\" >114836975</td>\n",
              "      <td id=\"T_4cd7b_row2_col1\" class=\"data row2 col1\" >El FMI advierte una profundización de la contracción económica en Argentina y proyecta que el PBI caerá 3,5% este año</td>\n",
              "      <td id=\"T_4cd7b_row2_col2\" class=\"data row2 col2\" >1.000000</td>\n",
              "    </tr>\n",
              "    <tr>\n",
              "      <th id=\"T_4cd7b_level0_row3\" class=\"row_heading level0 row3\" >3</th>\n",
              "      <td id=\"T_4cd7b_row3_col0\" class=\"data row3 col0\" >114837382</td>\n",
              "      <td id=\"T_4cd7b_row3_col1\" class=\"data row3 col1\" >El FMI empeoró las previsiones sobre la caída de la economía argentina en 2024</td>\n",
              "      <td id=\"T_4cd7b_row3_col2\" class=\"data row3 col2\" >1.000000</td>\n",
              "    </tr>\n",
              "    <tr>\n",
              "      <th id=\"T_4cd7b_level0_row4\" class=\"row_heading level0 row4\" >4</th>\n",
              "      <td id=\"T_4cd7b_row4_col0\" class=\"data row4 col0\" >114846527</td>\n",
              "      <td id=\"T_4cd7b_row4_col1\" class=\"data row4 col1\" >FMI recorta previsiones económicas para Argentina: Se espera una caída más pronunciada</td>\n",
              "      <td id=\"T_4cd7b_row4_col2\" class=\"data row4 col2\" >1.000000</td>\n",
              "    </tr>\n",
              "    <tr>\n",
              "      <th id=\"T_4cd7b_level0_row5\" class=\"row_heading level0 row5\" >6</th>\n",
              "      <td id=\"T_4cd7b_row5_col0\" class=\"data row5 col0\" >114850984</td>\n",
              "      <td id=\"T_4cd7b_row5_col1\" class=\"data row5 col1\" >El FMI prevé que la actividad en Argentina caiga más de lo esperado y subió el riesgo país</td>\n",
              "      <td id=\"T_4cd7b_row5_col2\" class=\"data row5 col2\" >1.000000</td>\n",
              "    </tr>\n",
              "    <tr>\n",
              "      <th id=\"T_4cd7b_level0_row6\" class=\"row_heading level0 row6\" >8</th>\n",
              "      <td id=\"T_4cd7b_row6_col0\" class=\"data row6 col0\" >114847003</td>\n",
              "      <td id=\"T_4cd7b_row6_col1\" class=\"data row6 col1\" >El FMI estimó que el PBI en Argentina caerá 3,5%</td>\n",
              "      <td id=\"T_4cd7b_row6_col2\" class=\"data row6 col2\" >1.000000</td>\n",
              "    </tr>\n",
              "    <tr>\n",
              "      <th id=\"T_4cd7b_level0_row7\" class=\"row_heading level0 row7\" >10</th>\n",
              "      <td id=\"T_4cd7b_row7_col0\" class=\"data row7 col0\" >114839206</td>\n",
              "      <td id=\"T_4cd7b_row7_col1\" class=\"data row7 col1\" >El FMI se corrige y proyecta que la recesión argentina será peor</td>\n",
              "      <td id=\"T_4cd7b_row7_col2\" class=\"data row7 col2\" >1.000000</td>\n",
              "    </tr>\n",
              "    <tr>\n",
              "      <th id=\"T_4cd7b_level0_row8\" class=\"row_heading level0 row8\" >11</th>\n",
              "      <td id=\"T_4cd7b_row8_col0\" class=\"data row8 col0\" >114847513</td>\n",
              "      <td id=\"T_4cd7b_row8_col1\" class=\"data row8 col1\" >El FMI pide diálogo político en Argentina tras revisar al alza su contracción para 2024</td>\n",
              "      <td id=\"T_4cd7b_row8_col2\" class=\"data row8 col2\" >1.000000</td>\n",
              "    </tr>\n",
              "    <tr>\n",
              "      <th id=\"T_4cd7b_level0_row9\" class=\"row_heading level0 row9\" >12</th>\n",
              "      <td id=\"T_4cd7b_row9_col0\" class=\"data row9 col0\" >114805524</td>\n",
              "      <td id=\"T_4cd7b_row9_col1\" class=\"data row9 col1\" >Argentina tiene la nafta más cara de la región</td>\n",
              "      <td id=\"T_4cd7b_row9_col2\" class=\"data row9 col2\" >1.000000</td>\n",
              "    </tr>\n",
              "    <tr>\n",
              "      <th id=\"T_4cd7b_level0_row10\" class=\"row_heading level0 row10\" >5</th>\n",
              "      <td id=\"T_4cd7b_row10_col0\" class=\"data row10 col0\" >114851566</td>\n",
              "      <td id=\"T_4cd7b_row10_col1\" class=\"data row10 col1\" >Proponen fijar la cantidad máxima de empleados por cada legislador</td>\n",
              "      <td id=\"T_4cd7b_row10_col2\" class=\"data row10 col2\" >0.968500</td>\n",
              "    </tr>\n",
              "    <tr>\n",
              "      <th id=\"T_4cd7b_level0_row11\" class=\"row_heading level0 row11\" >7</th>\n",
              "      <td id=\"T_4cd7b_row11_col0\" class=\"data row11 col0\" >114880251</td>\n",
              "      <td id=\"T_4cd7b_row11_col1\" class=\"data row11 col1\" >El FMI destacó la baja de la inflación en Argentina, pero proyectó que la economía caerá más de lo esperado</td>\n",
              "      <td id=\"T_4cd7b_row11_col2\" class=\"data row11 col2\" >0.826900</td>\n",
              "    </tr>\n",
              "    <tr>\n",
              "      <th id=\"T_4cd7b_level0_row12\" class=\"row_heading level0 row12\" >9</th>\n",
              "      <td id=\"T_4cd7b_row12_col0\" class=\"data row12 col0\" >114839614</td>\n",
              "      <td id=\"T_4cd7b_row12_col1\" class=\"data row12 col1\" >El Gobierno reveló la \"fase 3\" del plan y los millones que prevé por el Rigi</td>\n",
              "      <td id=\"T_4cd7b_row12_col2\" class=\"data row12 col2\" >0.586500</td>\n",
              "    </tr>\n",
              "  </tbody>\n",
              "</table>\n"
            ],
            "text/plain": [
              "<pandas.io.formats.style.Styler at 0x21c509820d0>"
            ]
          },
          "execution_count": 27,
          "metadata": {},
          "output_type": "execute_result"
        }
      ],
      "source": [
        "# Definir la función de estilo\n",
        "def color_rows(row, label, value):\n",
        "    if row[label] >= value:\n",
        "        return ['color: cyan'] * len(row)\n",
        "    else:\n",
        "        return [''] * len(row)\n",
        "\n",
        "# Calcular la media\n",
        "threshold = df_query.score.mean()\n",
        "\n",
        "print(f\"Topico N°: {topic_id} --> {topic_labels[topic_id+1]}\" )\n",
        "print(f\"Umbral de corte {threshold}\")\n",
        "\n",
        "df_query.sort_values('score', ascending=False, inplace=True)\n",
        "df_query.style.apply(lambda row: color_rows(row, 'score', threshold), axis=1).set_properties(subset=['titulo'], **{'text-align': 'left'})"
      ]
    },
    {
      "cell_type": "markdown",
      "metadata": {
        "id": "_P-1fHJ2N_Bf"
      },
      "source": [
        "#### Documentos mas representativos de un topico"
      ]
    },
    {
      "cell_type": "markdown",
      "metadata": {
        "id": "X7uKkzfWN_Bg"
      },
      "source": [
        "- [1]  Desde el metodo del modelo"
      ]
    },
    {
      "cell_type": "code",
      "execution_count": 28,
      "metadata": {
        "id": "LifmcWPCN_Bg"
      },
      "outputs": [
        {
          "name": "stdout",
          "output_type": "stream",
          "text": [
            "Topico N°: 14 --> 14_crecimiento_inflación_alza\n"
          ]
        },
        {
          "data": {
            "text/plain": [
              "['El Fondo Monetario Internacional FMI pidió este martes diálogo político en Argentina a la vez que siguió apoyando las medidas de su presidente Javier Milei tras aumentar en siete décimas su perspectiva al 3 5 % para 2024 Por primera vez en mucho mucho el Gobierno ha entregado un presupuesto equilibrado La pregunta es si puede continuar haciéndolo en el futuro y ahí es donde la colaboración con el Parlamento será muy importante afirmó el economista jefe del FMI Pierre Olivier Gourinchas Gourinchas habló durante una rueda de prensa en Washington para presentar el último informe de perspectivas de crecimiento WEO por sus siglas en inglés del Fondo En ese documento el Fondo prevé que el Producto Interior Bruto PIB argentino tenga una contracción del 3 5 % una revisión al alza de siete décimas respecto a su informe de abril En cambio para 2025 la economía argentina crecerá un 5 % el Fondo Gourinchas destacó una importante reducción en la inflación para 2024 que ahora el FMI proyecta en el 140 % producto de medidas monetarias y fiscales Todas estas cosas están yendo en la dirección de controlar la inflación que ha sido un problema clave en el país pero esto tiene un impacto en la actividad económica por supuesto porque hay menos gasto público y condiciones monetarias más estrictas explicó Gourinchas Esto ha llevado a una desaceleración muy significativa para 2024 en Argentina añadió En relación a las perspectivas trazadas para la economía global el FMI precisó que se proyecta que el crecimiento mundial estará en línea con el pronóstico de Perspectivas de la economía mundial WEO de abril de 2024 de 3 2% en 2024 y 3 3% en 2025 aunque remarcó que el variado impulso de la actividad a principios de año ha reducido la divergencia de producción entre las economías a medida que los factores cíclicos disminuyen y la actividad se alinea mejor con sus potencial Asimismo advirtió que la aceleración de los precios de los servicios está frenando los avances en materia de desinflación lo que está complicando la política monetaria y sostuvo que los riesgos al alza para la inflación aumentaron incrementando así la perspectiva de tasas de interés más altas durante un período aún más largo en un contexto de crecientes tensiones comerciales y mayor incertidumbre política Al respecto consideró que para gestionar estos riesgos y preservar el crecimiento la combinación de políticas debe secuenciarse cuidadosamente para lograr la estabilidad de precios y reponer las reservas disminuidas Por el lado de los pronósticos para la región el reporte reflejó un empeoramiento al detallar que para América Latina y el Caribe espera un alza de 1 9% del PBI mientras que en abril estimaba un repunte de 2% y lo vincula esencialmente a la contracción fiscal en la Argentina En cambio para 2025 espera una mayor expansión al estimar un crecimiento del 2 7% En este contexto indicó que el crecimiento se ha revisado a la baja para 2024 en Brasil reflejando el impacto a corto plazo de las inundaciones y en México debido a la moderación de la demanda sin embargo el crecimiento se ha revisado al alza en 2025 para Brasil para reflejar la reconstrucción después de las inundaciones y factores estructurales de apoyo por ejemplo la aceleración de la producción de hidrocarburos En ese marco puntualizó que Brasil crecerá este año un 2 1% mientras que espera una recuperación de 2 4% del PBI para 2025 En cuanto a México el Fondo calculó un alza de 2 2% del PBI para este año y de 1 6% para el año próximo',\n",
              " 'Secciones Regiones Videos Podcast Fotogalerías Informes especiales Clima Licitaciones Radios y TV en vivo Hace 5 minutos En su último World Economic Outlook el organismo detalló sus proyecciones sobre el PBI de 30 países y para el de Argentina señaló que el ajuste fiscal aplicado por el Gobierno de Javier Milei para frenar la suba de precios deterioró aún más los niveles de actividad productiva El Fondo Monetario Internacional FMI empeoró la caída pronosticada para la economía Argentina en el 2024 en un 0 7% con respecto a la proyección previa de abril pasado De este modo el organismo de crédito el PBI del país caerá un 3 5% este año y no un 2 8% preveía hace tres meses En su último World Economic Outlook el reporte trimestral con datos sobre la economía mundial que se difundió este martes el organismo detalló sus proyecciones sobre el PBI de 30 países entre ellos Argentina El reporte anticipa además un aumento de 3 2% en la economía global y advierte sobre riesgos al alza para la inflación en un contexto de crecientes tensiones comerciales y una mayor incertidumbre política En cuanto a los precios de las materias primas las proyecciones estiman un aumento de las cotizaciones de los commodities excluidos los combustibles de 5% en 2024 En cambio se espera que los precios de las materias primas energéticas caigan alrededor del 4 6% a lo largo del año Durante la rueda de prensa tras la presentación del informe los representantes del organismo internacional respondieron preguntas sobre la caída en las proyecciones para la Argentina y se refirieron también a la inflación La inflación ha venido bajando muy significativamente en la Argentina consideró Pierre Olivier Gourinchas Economic Counselor Director of the Research Department y agregó Esa es la buena noticia En su análisis repasó los siguientes datos En 2023 rondaba el 211% Y en 2024 proyectamos alrededor del 140% indicó y agregó Sigue siendo una cifra alta pero también refleja que gran parte de la inflación ya ha ocurrido En la misma línea comentó que la inflación secuencial está disminuyendo bastante rápido gracias a medidas muy fuertes que han sido implementadas por las autoridades del país Por otro lado Gourinchas señaló que el componente clave de las medidas que se han implementado es el plano fiscal Y agregó El aspecto fiscal siempre ha sido un problema durante muchos muchos años en Argentina y aquí por primera vez en mucho mucho el gobierno ha entregado un presupuesto equilibrado La pregunta es si podrá seguir haciéndolo en el futuro El director del Departamento de Investigaciones del FMI se refirió a las medidas con las que el Gobierno de Javier Milei busca contener la inflación Se suma también un endurecimiento de la política monetaria y luego de la financiación monetaria del gobierno Así que todas estas cosas van en la dirección de controlar la inflación que ha sido un problema clave en el país puntualizó En cuanto a la baja del PBI proyectada explicó que esas mismas políticas también tienen un impacto en términos de actividad económica claro porque hay menos gasto público hay condiciones monetarias más estrictas y esto ha provocado una desaceleración muy significativa para 2024 en Argentina con un repunte esperado en 2025 hasta alrededor del 5% consideró En tanto Petya Koeva Brooks subdirectora del Departamento de Investigación se refirió al empeoramiento en la proyección para este 2024 La revisión a la baja del 0 7 es realmente una especie de arrastre negativo de la muy considerable contracción que vimos en el último trimestre del año pasado Pero de cara al futuro incluso en los próximos trimestres de este año esperamos que el crecimiento repunte y se recupere a medida que veamos cómo se desvanecen los efectos del ajuste fiscal y el ritmo al que vuelve la confianza y por supuesto suben los salarios reales concluyó Por el lado de los pronósticos para la región el reporte recortó su estimación del crecimiento esperado para América Latina y el Caribe a un 1 9% del PBI mientras que en abril estimaba un repunte de 2% vinculado esencialmente a la contracción fiscal en la Argentina En cambio para 2025 espera una mayor expansión al estimar un crecimiento del 2 7% Argentina Economía Durante la rueda de prensa tras la presentación del informe los representantes del organismo internacional respondieron preguntas sobre la caída en las proyecciones para la Argentina y se refirieron también a la inflación La inflación ha venido bajando muy significativamente en la Argentina consideró Pierre Olivier Gourinchas Economic Counselor Director of the Research Department y agregó Esa es la buena noticia En su análisis repasó los siguientes datos En 2023 rondaba el 211% Y en 2024 proyectamos alrededor del 140% indicó y agregó Sigue siendo una cifra alta pero también refleja que gran parte de la inflación ya ha ocurrido En la misma línea comentó que la inflación secuencial está disminuyendo bastante rápido gracias a medidas muy fuertes que han sido implementadas por las autoridades del país Por otro lado Gourinchas señaló que el componente clave de las medidas que se han implementado es el plano fiscal Y agregó El aspecto fiscal siempre ha sido un problema durante muchos muchos años en Argentina y aquí por primera vez en mucho mucho el gobierno ha entregado un presupuesto equilibrado La pregunta es si podrá seguir haciéndolo en el futuro El director del Departamento de Investigaciones del FMI se refirió a las medidas con las que el Gobierno de Javier Milei busca contener la inflación Se suma también un endurecimiento de la política monetaria y luego de la financiación monetaria del gobierno Así que todas estas cosas van en la dirección de controlar la inflación que ha sido un problema clave en el país puntualizó En cuanto a la baja del PBI proyectada explicó que esas mismas políticas también tienen un impacto en términos de actividad económica claro porque hay menos gasto público hay condiciones monetarias más estrictas y esto ha provocado una desaceleración muy significativa para 2024 en Argentina con un repunte esperado en 2025 hasta alrededor del 5% consideró En tanto Petya Koeva Brooks subdirectora del Departamento de Investigación se refirió al empeoramiento en la proyección para este 2024 La revisión a la baja del 0 7 es realmente una especie de arrastre negativo de la muy considerable contracción que vimos en el último trimestre del año pasado Pero de cara al futuro incluso en los próximos trimestres de este año esperamos que el crecimiento repunte y se recupere a medida que veamos cómo se desvanecen los efectos del ajuste fiscal y el ritmo al que vuelve la confianza y por supuesto suben los salarios reales concluyó Por el lado de los pronósticos para la región el reporte recortó su estimación del crecimiento esperado para América Latina y el Caribe a un 1 9% del PBI mientras que en abril estimaba un repunte de 2% vinculado esencialmente a la contracción fiscal en la Argentina En cambio para 2025 espera una mayor expansión al estimar un crecimiento del 2 7% Más popular Más de Economía Negocios Agro en las redes y serás el primero en informarte Querés recibir notificaciones de nuestro sitio 2024 Rosario 3 ® Todos los derechos reservados Juan Domingo Perón 8101 Rosario Teléfono 4575415 interno 525',\n",
              " 'El Fondo Monetario Internacional FMI empeoró la caída pronosticada para la economía Argentina en el 2024 en un 0 7% respecto a la proyección previa de abril pasado De este modo el organismo de crédito el PBI del país caerá un 3 5% este año y no un 2 8% preveía hace tres meses Así lo precisó el Fondo en su último World Economic Outlook el reporte sobre la economía mundial que realiza de manera trimestral que dio a conocer este martes con la proyección sobre el PBI de 30 países entre ellos Argentina El reporte anticipa además un aumento de 3 2% en la economía global y advierte sobre riesgos al alza para la inflación en un contexto de crecientes tensiones comerciales y una mayor incertidumbre política En cuanto a los precios de las materias primas las proyecciones estiman un aumento de las cotizaciones de los commodities excluidos los combustibles de 5% en 2024 En cambio se espera que los precios de las materias primas energéticas caigan alrededor del 4 6% a lo largo del año Por el lado de los pronósticos para la región el reporte reflejó un empeoramiento al detallar que para América Latina y el Caribe espera un alza de 1 9% del PBI mientras que en abril estimaba un repunte de 2% y lo vincula esencialmente a la contracción fiscal en la Argentina En cambio para 2025 espera una mayor expansión al estimar un crecimiento del 2 7% En este contexto indicó que el crecimiento se ha revisado a la baja para 2024 en Brasil reflejando el impacto a corto plazo de las inundaciones y en México debido a la moderación de la demanda sin embargo el crecimiento se ha revisado al alza en 2025 para Brasil para reflejar la reconstrucción después de las inundaciones y factores estructurales de apoyo por ejemplo la aceleración de la producción de hidrocarburos En la rueda de prensa los representantes del organismo internacional respondieron preguntas sobre la caída en las proyecciones para la Argentina e incluso se refirieron a la inflación uno de los temas que seguirán complicando a la economía mundial el reporte en cuestión La inflación ha venido bajando muy significativamente en la Argentina consideró Pierre Olivier Gourinchas Economic Counselor Director of the Research Department y agregó Esa es la buena noticia En su análisis se refirió a las cifras interanuales En 2023 rondaba el 211% Y en 2024 proyectamos alrededor del 140% indicó y agregó Sigue siendo una cifra alta pero también refleja gran parte de la inflación ya ha ocurrido Y en esa línea comentó otras cuestiones positivas que la inflación secuencial está disminuyendo bastante rápido gracias a medidas muy fuertes que han sido implementadas por las autoridades del país Ahora el componente clave de las medidas que se han implementado es el plano fiscal consideró su mirada el aspecto fiscal siempre ha sido un problema durante muchos muchos años en Argentina y aquí por primera vez en mucho mucho el gobierno ha entregado un presupuesto equilibrado La pregunta es si podrá seguir haciéndolo en el futuro se cuestionó Ahí es donde será muy importante el compromiso con el parlamento y contar con medidas de alta calidad en el aspecto fiscal En ese sentido consideró que hay señales de que se está moviendo en esa dirección El director del Departamento de Investigaciones del FMI explicó que el gobierno de Javier Milei va tras la búsqueda de contener la inflación Se suma también un endurecimiento de la política monetaria y luego de la financiación monetaria del gobierno Así que todas estas cosas van en la dirección de controlar la inflación que ha sido un problema clave en el país puntualizó En cuanto a la baja del PBI proyectada explicó que esas mismas políticas también tienen un impacto en términos de actividad económica claro porque hay menos gasto público hay condiciones monetarias más estrictas y esto ha provocado una desaceleración muy significativa para 2024 en Argentina con un repunte esperado en 2025 hasta alrededor del 5% consideró En tanto Petya Koeva Brooks Deputy director of the Research Department del FMI se refirió a la contracción del PBI pero prefirió poner el acento en el rebote que viene De cara al futuro incluso en los próximos trimestres de este año esperamos que el crecimiento se recupere y veamos los efectos que se desvanecen del ajuste fiscal así que regrese la confianza y que los salarios reales por supuesto aumenten consideró la técnica del organismo multilateral de crédito En desarrollo']"
            ]
          },
          "execution_count": 28,
          "metadata": {},
          "output_type": "execute_result"
        }
      ],
      "source": [
        "docs_representative = topic_model.get_representative_docs(topic=topic_id)\n",
        "print(f\"Topico N°: {topic_id} --> {topic_labels[topic_id+1]}\" )\n",
        "docs_representative"
      ]
    },
    {
      "cell_type": "markdown",
      "metadata": {
        "id": "a-1Q3ReVN_Bg"
      },
      "source": [
        "- [2] Por similitud coseno del topico a los tres documento mas cercanos"
      ]
    },
    {
      "cell_type": "code",
      "execution_count": 29,
      "metadata": {
        "id": "vFCtpfj-N_Bh"
      },
      "outputs": [
        {
          "data": {
            "text/plain": [
              "(21, 1000)"
            ]
          },
          "execution_count": 29,
          "metadata": {},
          "output_type": "execute_result"
        }
      ],
      "source": [
        "# Obtenemos la matriz de similitud coseno entre topicos y documentos\n",
        "sim_matrix = cosine_similarity(topic_model.topic_embeddings_, docs_embedding)\n",
        "sim_matrix.shape"
      ]
    },
    {
      "cell_type": "code",
      "execution_count": 30,
      "metadata": {
        "id": "sCtO8yBMN_Bh"
      },
      "outputs": [
        {
          "name": "stdout",
          "output_type": "stream",
          "text": [
            "Topico N°: 14 --> 14_crecimiento_inflación_alza\n",
            "0 El FMI pronostica una recesión más profunda en Argentina para 2024\n",
            "3 El FMI empeoró las previsiones sobre la caída de la economía argentina en 2024\n",
            "2 El FMI advierte una profundización de la contracción económica en Argentina y proyecta que el PBI caerá 3,5% este año\n"
          ]
        }
      ],
      "source": [
        "# Similitud coseno entre el topico y los documentos del topico elegido\n",
        "s_coseno = []\n",
        "for i in docs_per_topics:\n",
        "    s_coseno.append(cosine_similarity([topic_model.topic_embeddings_[topic_id + 1]], [docs_embedding[i]])[0][0])\n",
        "\n",
        "# Indices\n",
        "idx_coseno_sort = np.argsort(s_coseno)[::-1]\n",
        "\n",
        "print(f\"Topico N°: {topic_id} --> {topic_labels[topic_id+1]}\" )\n",
        "\n",
        "for idx in idx_coseno_sort[:3]:\n",
        "    print(idx, df_parquet.iloc[docs_per_topics[idx]].title)\n"
      ]
    },
    {
      "cell_type": "markdown",
      "metadata": {
        "id": "QAvGGp2JN_Bh"
      },
      "source": [
        "- [3] Primer documento mas cercano al embedding del topico"
      ]
    },
    {
      "cell_type": "code",
      "execution_count": 31,
      "metadata": {
        "id": "CmKsuTeVN_Bi"
      },
      "outputs": [
        {
          "name": "stdout",
          "output_type": "stream",
          "text": [
            "Noticia de maxima similitud con el topico: 14\n",
            "Doc ID: 21\n",
            "Titulo: El FMI pronostica una recesión más profunda en Argentina para 2024\n"
          ]
        }
      ],
      "source": [
        "# Documento de maxima similitud con el topico\n",
        "\n",
        "simil_docs_topic = sim_matrix[topic_id+ 1].argmax()\n",
        "print(f\"Noticia de maxima similitud con el topico: {topic_id}\")\n",
        "print(f\"Doc ID: {df_parquet.index[simil_docs_topic]}\")\n",
        "print(f\"Titulo: {df_parquet.iloc[simil_docs_topic].title}\")\n",
        "best_doc = data[simil_docs_topic]"
      ]
    },
    {
      "cell_type": "markdown",
      "metadata": {},
      "source": [
        "#### Keywords de un topico (modelo)"
      ]
    },
    {
      "cell_type": "code",
      "execution_count": 32,
      "metadata": {},
      "outputs": [
        {
          "name": "stdout",
          "output_type": "stream",
          "text": [
            "Topico N°: 14 --> 14_crecimiento_inflación_alza\n",
            "[('crecimiento', 0.08564659922318589), ('inflación', 0.07257360969676652), ('alza', 0.06561274746900343), ('repunte', 0.059639319456269144), ('contracción', 0.056569679356042374), ('abril', 0.05215634029860844), ('economía', 0.05097464141750148), ('argentina', 0.04884041373880224), ('gasto', 0.047385178781607876), ('reporte', 0.04510765450471674)]\n"
          ]
        }
      ],
      "source": [
        "# Obtener las palabras clave para un topico dado\n",
        "topic_keywords = topic_model.get_topic(topic_id)\n",
        "print(f\"Topico N°: {topic_id} --> {topic_labels[topic_id+1]}\" )\n",
        "print(topic_keywords)"
      ]
    },
    {
      "cell_type": "markdown",
      "metadata": {
        "id": "PyWurS2NN_Bi"
      },
      "source": [
        "#### Keywords de un topico (otra forma de obtenerlos)"
      ]
    },
    {
      "cell_type": "code",
      "execution_count": 33,
      "metadata": {
        "id": "9pK_nj_pN_Bi"
      },
      "outputs": [
        {
          "name": "stdout",
          "output_type": "stream",
          "text": [
            "Topico N°: 14 --> 14_crecimiento_inflación_alza\n"
          ]
        },
        {
          "data": {
            "text/plain": [
              "[{'name': 'crecimiento', 'score': 0.08564659922318589},\n",
              " {'name': 'inflación', 'score': 0.07257360969676652},\n",
              " {'name': 'alza', 'score': 0.06561274746900343},\n",
              " {'name': 'repunte', 'score': 0.059639319456269144},\n",
              " {'name': 'contracción', 'score': 0.056569679356042374},\n",
              " {'name': 'abril', 'score': 0.05215634029860844},\n",
              " {'name': 'economía', 'score': 0.05097464141750148},\n",
              " {'name': 'argentina', 'score': 0.04884041373880224},\n",
              " {'name': 'gasto', 'score': 0.047385178781607876},\n",
              " {'name': 'reporte', 'score': 0.04510765450471674}]"
            ]
          },
          "execution_count": 33,
          "metadata": {},
          "output_type": "execute_result"
        }
      ],
      "source": [
        "keywords = topic_model.topic_representations_[topic_id]\n",
        "topic_keywords = [TopicKeyword(name=keyword, score=score) for keyword, score in keywords if keyword != '']\n",
        "print(f\"Topico N°: {topic_id} --> {topic_labels[topic_id+1]}\" )\n",
        "topic_keywords"
      ]
    },
    {
      "cell_type": "markdown",
      "metadata": {},
      "source": [
        "### Top keywords de un topico"
      ]
    },
    {
      "cell_type": "code",
      "execution_count": 34,
      "metadata": {
        "id": "6nCejcoRN_Bi"
      },
      "outputs": [
        {
          "name": "stdout",
          "output_type": "stream",
          "text": [
            "umbral keywords: 0.05845061839425042\n"
          ]
        },
        {
          "data": {
            "text/plain": [
              "{'crecimiento': 0.08564659922318589,\n",
              " 'inflación': 0.07257360969676652,\n",
              " 'alza': 0.06561274746900343,\n",
              " 'repunte': 0.059639319456269144}"
            ]
          },
          "execution_count": 34,
          "metadata": {},
          "output_type": "execute_result"
        }
      ],
      "source": [
        "# Calculo de umbral de corte para las keywords\n",
        "def keywords_umbral(topic_keywords):\n",
        "    freq_k = []\n",
        "    for name_score in topic_keywords:\n",
        "        freq_k.append(name_score['score'])\n",
        "    umbral_k = np.array(freq_k).mean()\n",
        "    print(f\"umbral keywords: {umbral_k}\")\n",
        "\n",
        "    topic_keywords_top = {}\n",
        "    for name_score in topic_keywords:\n",
        "        if name_score['score'] >= umbral_k:\n",
        "            topic_keywords_top[name_score['name']] = name_score['score']\n",
        "\n",
        "    return topic_keywords_top\n",
        "\n",
        "keywords_umbral(topic_keywords)"
      ]
    },
    {
      "cell_type": "markdown",
      "metadata": {},
      "source": [
        "### Top Entities de un topico"
      ]
    },
    {
      "cell_type": "code",
      "execution_count": 35,
      "metadata": {},
      "outputs": [
        {
          "name": "stdout",
          "output_type": "stream",
          "text": [
            "umbral entities: 0.9524538461538463\n"
          ]
        },
        {
          "data": {
            "text/plain": [
              "{'Brasil': 7,\n",
              " 'FMI': 6,\n",
              " 'la Argentina': 6,\n",
              " 'Fondo Monetario Internacional': 5,\n",
              " 'Argentina': 3,\n",
              " 'WEO': 3,\n",
              " 'México': 3,\n",
              " 'Javier Milei': 2,\n",
              " 'Manuel Adorni': 2,\n",
              " 'Perspectivas': 2}"
            ]
          },
          "execution_count": 35,
          "metadata": {},
          "output_type": "execute_result"
        }
      ],
      "source": [
        "threshold = df_query.score.mean()\n",
        "print(f\"umbral entities: {threshold}\")\n",
        "\n",
        "entities_topic = []\n",
        "for doc_ID in list(df_query[df_query[\"score\"] > threshold]['ID']):\n",
        "    entities_topic.append(get_entities_news(doc_ID))\n",
        "\n",
        "# Crear un diccionario para contar en cuántos documentos aparece cada palabra\n",
        "document_frequencies = defaultdict(int)\n",
        "\n",
        "# Crear un conjunto para cada documento y contar las palabras únicas\n",
        "for lista in entities_topic:\n",
        "    unique_words = set(lista)\n",
        "    for palabra in unique_words:\n",
        "        document_frequencies[palabra] += 1\n",
        "\n",
        "# Ordenar las palabras por la frecuencia de documentos de mayor a menor\n",
        "sorted_frequencies = sorted(document_frequencies.items(), key=lambda item: item[1], reverse=True)\n",
        "\n",
        "# Calcular el umbral\n",
        "freq_e = [item[1] for item in sorted_frequencies]\n",
        "umbral_e = np.mean(freq_e)\n",
        "\n",
        "# Obtener el resultado ordenado de las primeras 10 entidades segun criterio de corte\n",
        "topic_entities_top = {}\n",
        "c=0\n",
        "for idx in range(len(sorted_frequencies)):\n",
        "    if sorted_frequencies[idx][1] >= umbral_e:\n",
        "        if c != 10:\n",
        "            topic_entities_top[sorted_frequencies[idx][0]] = sorted_frequencies[idx][1]\n",
        "        else:\n",
        "            break\n",
        "        c += 1 \n",
        "\n",
        "    elif len(topic_entities_top) <= 3:\n",
        "        topic_entities_top[sorted_frequencies[idx][0]] = sorted_frequencies[idx][1]\n",
        "\n",
        "topic_entities_top\n",
        "\n"
      ]
    },
    {
      "cell_type": "markdown",
      "metadata": {},
      "source": [
        "### Obtener los titulos de noticias del topico filtrado por umbral de corte "
      ]
    },
    {
      "cell_type": "code",
      "execution_count": 36,
      "metadata": {},
      "outputs": [
        {
          "name": "stdout",
          "output_type": "stream",
          "text": [
            "0.9524538461538463\n"
          ]
        },
        {
          "data": {
            "text/plain": [
              "['El FMI pronostica una recesión más profunda en Argentina para 2024',\n",
              " 'Se pronostica que la recesión económica del país será más fuerte a fin de año',\n",
              " 'El FMI advierte una profundización de la contracción económica en Argentina y proyecta que el PBI caerá 3,5% este año',\n",
              " 'El FMI empeoró las previsiones sobre la caída de la economía argentina en 2024',\n",
              " 'FMI recorta previsiones económicas para Argentina: Se espera una caída más pronunciada',\n",
              " 'El FMI prevé que la actividad en Argentina caiga más de lo esperado y subió el riesgo país',\n",
              " 'El FMI estimó que el PBI en Argentina caerá 3,5%',\n",
              " 'El FMI se corrige y proyecta que la recesión argentina será peor',\n",
              " 'El FMI pide diálogo político en Argentina tras revisar al alza su contracción para 2024',\n",
              " 'Argentina tiene la nafta más cara de la región',\n",
              " 'Proponen fijar la cantidad máxima de empleados por cada legislador']"
            ]
          },
          "execution_count": 36,
          "metadata": {},
          "output_type": "execute_result"
        }
      ],
      "source": [
        "topic_documents_title, threshold = topic_documents(topic_id, topic_model, df_parquet)\n",
        "print(threshold)\n",
        "topic_documents_title"
      ]
    },
    {
      "cell_type": "markdown",
      "metadata": {},
      "source": [
        "### Generar un nombre de topico con LLM ( Open AI)\n",
        "- Validar OPENAI_API_KEY en .env"
      ]
    },
    {
      "cell_type": "code",
      "execution_count": 37,
      "metadata": {},
      "outputs": [
        {
          "name": "stdout",
          "output_type": "stream",
          "text": [
            "0 Violencia y justicia en Argentina\n",
            "1 Diálogo entre Gobierno y CGT\n",
            "2 Actividades culturales y recreativas invernales\n",
            "3 Cambios en regulaciones y tarifas.\n",
            "4 Accidentes y polémicas en espectáculos\n",
            "5 Incendios forestales en Córdoba\n",
            "6 Escándalo por refuerzos de Boca\n",
            "7 Cotización del dólar blue hoy\n",
            "8 Consejos de cocina y salud.\n",
            "9 Pronóstico del clima en Argentina\n",
            "10 Disolución y reestructuración de inteligencia.\n",
            "11 Crisis económica en América Latina\n",
            "12 Relaciones políticas y seguridad presidencial\n",
            "13 Riesgo financiero y deuda argentina\n",
            "14 Pronóstico de recesión en Argentina\n",
            "15 Presentación de Kylian Mbappé en Madrid\n",
            "16 Recepción de la Selección Argentina\n",
            "17 Temas variados de actualidad.\n",
            "18 Reality show de supervivencia extrema\n",
            "19 Actividades culturales y eventos destacados\n"
          ]
        }
      ],
      "source": [
        "for topic_id in topic_model.get_topics().keys():\n",
        "    if topic_id > -1:\n",
        "        topic_documents_title, threshold  = topic_documents(topic_id, topic_model, df_parquet)        \n",
        "        print(f\"{topic_id} {get_topic_name(''.join(topic_documents_title), topic_id, topic_model, client)}\")"
      ]
    },
    {
      "cell_type": "markdown",
      "metadata": {
        "id": "AJUr6_NTN_Bk"
      },
      "source": [
        "### Recuperar todos los topicos desde el indice Topic de la base"
      ]
    },
    {
      "cell_type": "code",
      "execution_count": 38,
      "metadata": {
        "id": "hgldS9M_N_Bk"
      },
      "outputs": [
        {
          "name": "stdout",
          "output_type": "stream",
          "text": [
            "0 Violencia y justicia en la sociedad\n",
            "1 Diálogo entre Gobierno y CGT\n",
            "2 Actividades culturales y recreativas invernales\n",
            "3 Cambios en regulaciones y tarifas\n",
            "4 Accidentes y polémicas en espectáculos\n",
            "5 Incendios forestales en Córdoba\n",
            "6 Escándalo por refuerzos de Boca\n",
            "7 Cotización del dólar blue hoy\n",
            "8 Consejos de cocina y salud.\n",
            "9 Pronóstico del clima en Argentina\n",
            "10 Disolución y reestructuración de inteligencia.\n",
            "11 Crisis económica en América Latina\n",
            "12 Relaciones políticas y seguridad presidencial\n",
            "13 Riesgos económicos en Argentina\n",
            "14 Pronóstico de recesión en Argentina\n",
            "15 Presentación de Kylian Mbappé\n",
            "16 Recepción de la Selección Argentina\n",
            "17 Temas diversos de actualidad.\n",
            "18 Reality show de supervivencia extrema\n",
            "19 Actividades culturales y eventos destacados\n"
          ]
        }
      ],
      "source": [
        "index_name = 'topic'\n",
        "\n",
        "topics_list = []\n",
        "for i, doc in enumerate(Topic.search().query().scan()):\n",
        "    topics_list.append(doc.to_dict())\n",
        "    print(topics_list[i]['index'], topics_list[i]['name'])"
      ]
    },
    {
      "cell_type": "markdown",
      "metadata": {},
      "source": [
        "### Busqueda de 5 documentos del indice news de la base correspondiente a un topico\n",
        "** (devuelve los docs que han sido marcados en el campo process en True )"
      ]
    },
    {
      "cell_type": "code",
      "execution_count": 39,
      "metadata": {},
      "outputs": [
        {
          "name": "stdout",
          "output_type": "stream",
          "text": [
            "Topico N°: 12 --> Relaciones políticas y seguridad presidencial\n"
          ]
        }
      ],
      "source": [
        "topic_id = np.random.randint(len(set(topic_model.topics_))-1) # Obtener un topico al azar\n",
        "print(f\"Topico N°: {topic_id} --> {topics_list[topic_id]['name']}\" )"
      ]
    },
    {
      "cell_type": "code",
      "execution_count": 40,
      "metadata": {},
      "outputs": [
        {
          "name": "stdout",
          "output_type": "stream",
          "text": [
            "Topico N°: 12 --> Relaciones políticas y seguridad presidencial\n",
            "Custodias presidenciales: piden revisar los protocolos por la \"discrecionalidad\" que tienen los funcionarios\n",
            "Increíble: ahora Manuel Adorni asegura que no les preocupa el valor del dólar ni el riesgo país\n",
            "El Gobierno no reforzará la seguridad del presidente Milei tras el atentado contra Trump\n",
            "Donald Trump reapareció con la oreja vendada en la Convención Republicana\n",
            "Rosendo Fraga: \"Para Milei es más importante Elon Musk que Trump\"\n"
          ]
        }
      ],
      "source": [
        "topic_embedding = topics_list[topic_id]['vector']\n",
        "\n",
        "index_name = 'news'\n",
        "# Crear una consulta KNN para buscar embeddings cercanos\n",
        "knn_query = {\n",
        "    \"size\": 5,  # Número de resultados que deseas obtener\n",
        "    \"query\": {\n",
        "        \"bool\": {\n",
        "            \"must\": [\n",
        "                {\n",
        "                    \"knn\": {\n",
        "                        \"vector\": {\n",
        "                            \"vector\": topic_embedding,\n",
        "                            \"k\": 10  # Número de vecinos más cercanos\n",
        "                        }\n",
        "                    }\n",
        "                },\n",
        "                {\n",
        "                    \"term\": {\n",
        "                        \"process\": True  # Solo incluir documentos donde 'process' es True\n",
        "                    }\n",
        "                }\n",
        "            ],\n",
        "            \"filter\": {\n",
        "                \"exists\": {\n",
        "                    \"field\": \"vector\"  # Solo incluir documentos que tienen el campo 'vector'\n",
        "                }\n",
        "            }\n",
        "        }\n",
        "    }\n",
        "}\n",
        "# Realizar la búsqueda\n",
        "response_topic = os_client.search(index=index_name, body=knn_query)\n",
        "\n",
        "# Obtener el tópico más cercano\n",
        "print(f\"Topico N°: {topic_id} --> {topics_list[topic_id]['name']}\" )\n",
        "\n",
        "if response_topic['hits']['total']['value'] > 0:\n",
        "    for i in [hit['_source']['title'] for hit in response_topic['hits']['hits']]:\n",
        "        print(i)\n",
        "else:\n",
        "    print(\"No se encontraron documentos cercanos al topico dado.\")"
      ]
    },
    {
      "cell_type": "markdown",
      "metadata": {
        "id": "jMH2jt5YN_Bl"
      },
      "source": [
        "### Nuevo documento consultando embeddings generados por el modelo"
      ]
    },
    {
      "cell_type": "code",
      "execution_count": 41,
      "metadata": {
        "id": "3c0ZTllTN_Bl"
      },
      "outputs": [
        {
          "name": "stdout",
          "output_type": "stream",
          "text": [
            "Topico N°: 0 --> Violencia y justicia en la sociedad\n"
          ]
        }
      ],
      "source": [
        "new_doc = \"Fuga de presos en San Telmo\"\n",
        "\n",
        "new_doc_embedding = topic_model.embedding_model.embed(new_doc)\n",
        "sim_matrix_new = cosine_similarity(topic_model.topic_embeddings_, new_doc_embedding.reshape(1, -1))\n",
        "\n",
        "idx = np.argmax(sim_matrix_new)-1         # Topicos desde -1, 0, 1, ..., n\n",
        "print(f\"Topico N°: {topics_list[idx]['index']} --> {topics_list[idx]['name']}\" )"
      ]
    },
    {
      "cell_type": "markdown",
      "metadata": {
        "id": "lae8_RU7N_Bm"
      },
      "source": [
        "### Nuevo documento consultando embeddings de la base"
      ]
    },
    {
      "cell_type": "code",
      "execution_count": 42,
      "metadata": {
        "id": "VVylIBiFN_Bm"
      },
      "outputs": [
        {
          "name": "stdout",
          "output_type": "stream",
          "text": [
            "Topico: Violencia y justicia en la sociedad\n",
            "Estimacion: 0.7237131\n"
          ]
        }
      ],
      "source": [
        "new_doc = \"Fuga de presos en San Telmo\"\n",
        "\n",
        "new_doc_embedding = topic_model.embedding_model.embed(new_doc)\n",
        "\n",
        "# Buscamos en la base a que topico pertenece el nuevo documento\n",
        "knn_query = {\n",
        "    \"size\": 1,\n",
        "    \"query\": {\n",
        "        \"knn\": {\n",
        "            \"vector\": {\n",
        "                \"vector\": new_doc_embedding,\n",
        "                \"k\" : 3\n",
        "            }\n",
        "        }\n",
        "    }\n",
        "}\n",
        "response = os_client.search(index='topic', body=knn_query)\n",
        "\n",
        "if response['hits']['total']['value'] > 0:\n",
        "    print(f\"Topico: {response['hits']['hits'][0]['_source']['name']}\")\n",
        "    print(f\"Estimacion: {response['hits']['hits'][0]['_score']}\")\n",
        "else:\n",
        "    print(f\"Topico no encontrado\")"
      ]
    },
    {
      "cell_type": "markdown",
      "metadata": {
        "id": "fzKqZk3HN_Bm"
      },
      "source": [
        "### Graficar los topicos en 3d"
      ]
    },
    {
      "cell_type": "code",
      "execution_count": 43,
      "metadata": {
        "id": "SKNFKczxN_Bm"
      },
      "outputs": [
        {
          "data": {
            "application/vnd.plotly.v1+json": {
              "config": {
                "plotlyServerURL": "https://plot.ly"
              },
              "data": [
                {
                  "hovertemplate": "Topico=-1<br>Dim1=%{x}<br>Dim2=%{y}<br>Dim3=%{z}<br>Etiqueta=%{text}<extra></extra>",
                  "legendgroup": "-1",
                  "marker": {
                    "color": "#636efa",
                    "symbol": "circle"
                  },
                  "mode": "markers+text",
                  "name": "-1",
                  "scene": "scene",
                  "showlegend": true,
                  "text": [
                    -1
                  ],
                  "type": "scatter3d",
                  "x": [
                    7.80246114730835
                  ],
                  "y": [
                    5.417399883270264
                  ],
                  "z": [
                    6.932316780090332
                  ]
                },
                {
                  "hovertemplate": "Topico=0 Violencia y justicia en la sociedad<br>Dim1=%{x}<br>Dim2=%{y}<br>Dim3=%{z}<br>Etiqueta=%{text}<extra></extra>",
                  "legendgroup": "0 Violencia y justicia en la sociedad",
                  "marker": {
                    "color": "#EF553B",
                    "symbol": "circle"
                  },
                  "mode": "markers+text",
                  "name": "0 Violencia y justicia en la sociedad",
                  "scene": "scene",
                  "showlegend": true,
                  "text": [
                    0
                  ],
                  "type": "scatter3d",
                  "x": [
                    7.524231433868408
                  ],
                  "y": [
                    5.68820858001709
                  ],
                  "z": [
                    7.564210891723633
                  ]
                },
                {
                  "hovertemplate": "Topico=1 Diálogo entre Gobierno y CGT<br>Dim1=%{x}<br>Dim2=%{y}<br>Dim3=%{z}<br>Etiqueta=%{text}<extra></extra>",
                  "legendgroup": "1 Diálogo entre Gobierno y CGT",
                  "marker": {
                    "color": "#00cc96",
                    "symbol": "circle"
                  },
                  "mode": "markers+text",
                  "name": "1 Diálogo entre Gobierno y CGT",
                  "scene": "scene",
                  "showlegend": true,
                  "text": [
                    1
                  ],
                  "type": "scatter3d",
                  "x": [
                    8.3606538772583
                  ],
                  "y": [
                    6.179811954498291
                  ],
                  "z": [
                    7.27295446395874
                  ]
                },
                {
                  "hovertemplate": "Topico=2 Actividades culturales y recreativas invernales<br>Dim1=%{x}<br>Dim2=%{y}<br>Dim3=%{z}<br>Etiqueta=%{text}<extra></extra>",
                  "legendgroup": "2 Actividades culturales y recreativas invernales",
                  "marker": {
                    "color": "#ab63fa",
                    "symbol": "circle"
                  },
                  "mode": "markers+text",
                  "name": "2 Actividades culturales y recreativas invernales",
                  "scene": "scene",
                  "showlegend": true,
                  "text": [
                    2
                  ],
                  "type": "scatter3d",
                  "x": [
                    8.435015678405762
                  ],
                  "y": [
                    4.762510299682617
                  ],
                  "z": [
                    7.413985252380371
                  ]
                },
                {
                  "hovertemplate": "Topico=3 Cambios en regulaciones y tarifas<br>Dim1=%{x}<br>Dim2=%{y}<br>Dim3=%{z}<br>Etiqueta=%{text}<extra></extra>",
                  "legendgroup": "3 Cambios en regulaciones y tarifas",
                  "marker": {
                    "color": "#FFA15A",
                    "symbol": "circle"
                  },
                  "mode": "markers+text",
                  "name": "3 Cambios en regulaciones y tarifas",
                  "scene": "scene",
                  "showlegend": true,
                  "text": [
                    3
                  ],
                  "type": "scatter3d",
                  "x": [
                    8.863256454467773
                  ],
                  "y": [
                    6.286368370056152
                  ],
                  "z": [
                    7.937137126922607
                  ]
                },
                {
                  "hovertemplate": "Topico=4 Accidentes y polémicas en espectáculos<br>Dim1=%{x}<br>Dim2=%{y}<br>Dim3=%{z}<br>Etiqueta=%{text}<extra></extra>",
                  "legendgroup": "4 Accidentes y polémicas en espectáculos",
                  "marker": {
                    "color": "#19d3f3",
                    "symbol": "circle"
                  },
                  "mode": "markers+text",
                  "name": "4 Accidentes y polémicas en espectáculos",
                  "scene": "scene",
                  "showlegend": true,
                  "text": [
                    4
                  ],
                  "type": "scatter3d",
                  "x": [
                    7.512197017669678
                  ],
                  "y": [
                    4.760361194610596
                  ],
                  "z": [
                    8.166203498840332
                  ]
                },
                {
                  "hovertemplate": "Topico=5 Incendios forestales en Córdoba<br>Dim1=%{x}<br>Dim2=%{y}<br>Dim3=%{z}<br>Etiqueta=%{text}<extra></extra>",
                  "legendgroup": "5 Incendios forestales en Córdoba",
                  "marker": {
                    "color": "#FF6692",
                    "symbol": "circle"
                  },
                  "mode": "markers+text",
                  "name": "5 Incendios forestales en Córdoba",
                  "scene": "scene",
                  "showlegend": true,
                  "text": [
                    5
                  ],
                  "type": "scatter3d",
                  "x": [
                    8.347039222717285
                  ],
                  "y": [
                    5.43140983581543
                  ],
                  "z": [
                    7.286304950714111
                  ]
                },
                {
                  "hovertemplate": "Topico=6 Escándalo por refuerzos de Boca<br>Dim1=%{x}<br>Dim2=%{y}<br>Dim3=%{z}<br>Etiqueta=%{text}<extra></extra>",
                  "legendgroup": "6 Escándalo por refuerzos de Boca",
                  "marker": {
                    "color": "#B6E880",
                    "symbol": "circle"
                  },
                  "mode": "markers+text",
                  "name": "6 Escándalo por refuerzos de Boca",
                  "scene": "scene",
                  "showlegend": true,
                  "text": [
                    6
                  ],
                  "type": "scatter3d",
                  "x": [
                    7.942869663238525
                  ],
                  "y": [
                    5.478012561798096
                  ],
                  "z": [
                    8.616012573242188
                  ]
                },
                {
                  "hovertemplate": "Topico=7 Cotización del dólar blue hoy<br>Dim1=%{x}<br>Dim2=%{y}<br>Dim3=%{z}<br>Etiqueta=%{text}<extra></extra>",
                  "legendgroup": "7 Cotización del dólar blue hoy",
                  "marker": {
                    "color": "#FF97FF",
                    "symbol": "circle"
                  },
                  "mode": "markers+text",
                  "name": "7 Cotización del dólar blue hoy",
                  "scene": "scene",
                  "showlegend": true,
                  "text": [
                    7
                  ],
                  "type": "scatter3d",
                  "x": [
                    9.255440711975098
                  ],
                  "y": [
                    6.426703453063965
                  ],
                  "z": [
                    8.566983222961426
                  ]
                },
                {
                  "hovertemplate": "Topico=8 Consejos de cocina y salud.<br>Dim1=%{x}<br>Dim2=%{y}<br>Dim3=%{z}<br>Etiqueta=%{text}<extra></extra>",
                  "legendgroup": "8 Consejos de cocina y salud.",
                  "marker": {
                    "color": "#FECB52",
                    "symbol": "circle"
                  },
                  "mode": "markers+text",
                  "name": "8 Consejos de cocina y salud.",
                  "scene": "scene",
                  "showlegend": true,
                  "text": [
                    8
                  ],
                  "type": "scatter3d",
                  "x": [
                    9.025959968566895
                  ],
                  "y": [
                    5.620981693267822
                  ],
                  "z": [
                    7.5439453125
                  ]
                },
                {
                  "hovertemplate": "Topico=9 Pronóstico del clima en Argentina<br>Dim1=%{x}<br>Dim2=%{y}<br>Dim3=%{z}<br>Etiqueta=%{text}<extra></extra>",
                  "legendgroup": "9 Pronóstico del clima en Argentina",
                  "marker": {
                    "color": "#636efa",
                    "symbol": "circle"
                  },
                  "mode": "markers+text",
                  "name": "9 Pronóstico del clima en Argentina",
                  "scene": "scene",
                  "showlegend": true,
                  "text": [
                    9
                  ],
                  "type": "scatter3d",
                  "x": [
                    8.810632705688477
                  ],
                  "y": [
                    5.377435684204102
                  ],
                  "z": [
                    7.014297962188721
                  ]
                },
                {
                  "hovertemplate": "Topico=10 Disolución y reestructuración de inteligencia.<br>Dim1=%{x}<br>Dim2=%{y}<br>Dim3=%{z}<br>Etiqueta=%{text}<extra></extra>",
                  "legendgroup": "10 Disolución y reestructuración de inteligencia.",
                  "marker": {
                    "color": "#EF553B",
                    "symbol": "circle"
                  },
                  "mode": "markers+text",
                  "name": "10 Disolución y reestructuración de inteligencia.",
                  "scene": "scene",
                  "showlegend": true,
                  "text": [
                    10
                  ],
                  "type": "scatter3d",
                  "x": [
                    8.150144577026367
                  ],
                  "y": [
                    6.66821813583374
                  ],
                  "z": [
                    7.708888530731201
                  ]
                },
                {
                  "hovertemplate": "Topico=11 Crisis económica en América Latina<br>Dim1=%{x}<br>Dim2=%{y}<br>Dim3=%{z}<br>Etiqueta=%{text}<extra></extra>",
                  "legendgroup": "11 Crisis económica en América Latina",
                  "marker": {
                    "color": "#00cc96",
                    "symbol": "circle"
                  },
                  "mode": "markers+text",
                  "name": "11 Crisis económica en América Latina",
                  "scene": "scene",
                  "showlegend": true,
                  "text": [
                    11
                  ],
                  "type": "scatter3d",
                  "x": [
                    9.237353324890137
                  ],
                  "y": [
                    6.643975734710693
                  ],
                  "z": [
                    7.530886650085449
                  ]
                },
                {
                  "hovertemplate": "Topico=12 Relaciones políticas y seguridad presidencial<br>Dim1=%{x}<br>Dim2=%{y}<br>Dim3=%{z}<br>Etiqueta=%{text}<extra></extra>",
                  "legendgroup": "12 Relaciones políticas y seguridad presidencial",
                  "marker": {
                    "color": "#ab63fa",
                    "symbol": "circle"
                  },
                  "mode": "markers+text",
                  "name": "12 Relaciones políticas y seguridad presidencial",
                  "scene": "scene",
                  "showlegend": true,
                  "text": [
                    12
                  ],
                  "type": "scatter3d",
                  "x": [
                    7.69003963470459
                  ],
                  "y": [
                    6.3020710945129395
                  ],
                  "z": [
                    7.812453746795654
                  ]
                },
                {
                  "hovertemplate": "Topico=13 Riesgos económicos en Argentina<br>Dim1=%{x}<br>Dim2=%{y}<br>Dim3=%{z}<br>Etiqueta=%{text}<extra></extra>",
                  "legendgroup": "13 Riesgos económicos en Argentina",
                  "marker": {
                    "color": "#FFA15A",
                    "symbol": "circle"
                  },
                  "mode": "markers+text",
                  "name": "13 Riesgos económicos en Argentina",
                  "scene": "scene",
                  "showlegend": true,
                  "text": [
                    13
                  ],
                  "type": "scatter3d",
                  "x": [
                    8.891819953918457
                  ],
                  "y": [
                    6.831592082977295
                  ],
                  "z": [
                    8.482717514038086
                  ]
                },
                {
                  "hovertemplate": "Topico=14 Pronóstico de recesión en Argentina<br>Dim1=%{x}<br>Dim2=%{y}<br>Dim3=%{z}<br>Etiqueta=%{text}<extra></extra>",
                  "legendgroup": "14 Pronóstico de recesión en Argentina",
                  "marker": {
                    "color": "#19d3f3",
                    "symbol": "circle"
                  },
                  "mode": "markers+text",
                  "name": "14 Pronóstico de recesión en Argentina",
                  "scene": "scene",
                  "showlegend": true,
                  "text": [
                    14
                  ],
                  "type": "scatter3d",
                  "x": [
                    9.236617088317871
                  ],
                  "y": [
                    7.073211193084717
                  ],
                  "z": [
                    8.01932430267334
                  ]
                },
                {
                  "hovertemplate": "Topico=15 Presentación de Kylian Mbappé<br>Dim1=%{x}<br>Dim2=%{y}<br>Dim3=%{z}<br>Etiqueta=%{text}<extra></extra>",
                  "legendgroup": "15 Presentación de Kylian Mbappé",
                  "marker": {
                    "color": "#FF6692",
                    "symbol": "circle"
                  },
                  "mode": "markers+text",
                  "name": "15 Presentación de Kylian Mbappé",
                  "scene": "scene",
                  "showlegend": true,
                  "text": [
                    15
                  ],
                  "type": "scatter3d",
                  "x": [
                    7.909306526184082
                  ],
                  "y": [
                    4.804931640625
                  ],
                  "z": [
                    8.760558128356934
                  ]
                },
                {
                  "hovertemplate": "Topico=16 Recepción de la Selección Argentina<br>Dim1=%{x}<br>Dim2=%{y}<br>Dim3=%{z}<br>Etiqueta=%{text}<extra></extra>",
                  "legendgroup": "16 Recepción de la Selección Argentina",
                  "marker": {
                    "color": "#B6E880",
                    "symbol": "circle"
                  },
                  "mode": "markers+text",
                  "name": "16 Recepción de la Selección Argentina",
                  "scene": "scene",
                  "showlegend": true,
                  "text": [
                    16
                  ],
                  "type": "scatter3d",
                  "x": [
                    7.617608070373535
                  ],
                  "y": [
                    5.103967189788818
                  ],
                  "z": [
                    9.141786575317383
                  ]
                },
                {
                  "hovertemplate": "Topico=17 Temas diversos de actualidad.<br>Dim1=%{x}<br>Dim2=%{y}<br>Dim3=%{z}<br>Etiqueta=%{text}<extra></extra>",
                  "legendgroup": "17 Temas diversos de actualidad.",
                  "marker": {
                    "color": "#FF97FF",
                    "symbol": "circle"
                  },
                  "mode": "markers+text",
                  "name": "17 Temas diversos de actualidad.",
                  "scene": "scene",
                  "showlegend": true,
                  "text": [
                    17
                  ],
                  "type": "scatter3d",
                  "x": [
                    8.71994400024414
                  ],
                  "y": [
                    5.185088634490967
                  ],
                  "z": [
                    8.317476272583008
                  ]
                },
                {
                  "hovertemplate": "Topico=18 Reality show de supervivencia extrema<br>Dim1=%{x}<br>Dim2=%{y}<br>Dim3=%{z}<br>Etiqueta=%{text}<extra></extra>",
                  "legendgroup": "18 Reality show de supervivencia extrema",
                  "marker": {
                    "color": "#FECB52",
                    "symbol": "circle"
                  },
                  "mode": "markers+text",
                  "name": "18 Reality show de supervivencia extrema",
                  "scene": "scene",
                  "showlegend": true,
                  "text": [
                    18
                  ],
                  "type": "scatter3d",
                  "x": [
                    7.4742326736450195
                  ],
                  "y": [
                    4.82364559173584
                  ],
                  "z": [
                    7.471190929412842
                  ]
                },
                {
                  "hovertemplate": "Topico=19 Actividades culturales y eventos destacados<br>Dim1=%{x}<br>Dim2=%{y}<br>Dim3=%{z}<br>Etiqueta=%{text}<extra></extra>",
                  "legendgroup": "19 Actividades culturales y eventos destacados",
                  "marker": {
                    "color": "#636efa",
                    "symbol": "circle"
                  },
                  "mode": "markers+text",
                  "name": "19 Actividades culturales y eventos destacados",
                  "scene": "scene",
                  "showlegend": true,
                  "text": [
                    19
                  ],
                  "type": "scatter3d",
                  "x": [
                    8.124995231628418
                  ],
                  "y": [
                    4.47872257232666
                  ],
                  "z": [
                    7.88047456741333
                  ]
                },
                {
                  "hovertemplate": "Topico=>>Fuga de presos <br>Dim1=%{x}<br>Dim2=%{y}<br>Dim3=%{z}<br>Etiqueta=%{text}<extra></extra>",
                  "legendgroup": ">>Fuga de presos ",
                  "marker": {
                    "color": "#EF553B",
                    "symbol": "circle"
                  },
                  "mode": "markers+text",
                  "name": ">>Fuga de presos ",
                  "scene": "scene",
                  "showlegend": true,
                  "text": [
                    "Fuga de presos "
                  ],
                  "type": "scatter3d",
                  "x": [
                    7.205873966217041
                  ],
                  "y": [
                    5.716823577880859
                  ],
                  "z": [
                    8.26555347442627
                  ]
                }
              ],
              "layout": {
                "autosize": false,
                "height": 800,
                "legend": {
                  "title": {
                    "text": "Topico"
                  },
                  "tracegroupgap": 0
                },
                "margin": {
                  "b": 65,
                  "l": 65,
                  "r": 50,
                  "t": 90
                },
                "scene": {
                  "domain": {
                    "x": [
                      0,
                      1
                    ],
                    "y": [
                      0,
                      1
                    ]
                  },
                  "xaxis": {
                    "title": {
                      "text": "Dim1"
                    }
                  },
                  "yaxis": {
                    "title": {
                      "text": "Dim2"
                    }
                  },
                  "zaxis": {
                    "title": {
                      "text": "Dim3"
                    }
                  }
                },
                "template": {
                  "data": {
                    "bar": [
                      {
                        "error_x": {
                          "color": "#2a3f5f"
                        },
                        "error_y": {
                          "color": "#2a3f5f"
                        },
                        "marker": {
                          "line": {
                            "color": "#E5ECF6",
                            "width": 0.5
                          },
                          "pattern": {
                            "fillmode": "overlay",
                            "size": 10,
                            "solidity": 0.2
                          }
                        },
                        "type": "bar"
                      }
                    ],
                    "barpolar": [
                      {
                        "marker": {
                          "line": {
                            "color": "#E5ECF6",
                            "width": 0.5
                          },
                          "pattern": {
                            "fillmode": "overlay",
                            "size": 10,
                            "solidity": 0.2
                          }
                        },
                        "type": "barpolar"
                      }
                    ],
                    "carpet": [
                      {
                        "aaxis": {
                          "endlinecolor": "#2a3f5f",
                          "gridcolor": "white",
                          "linecolor": "white",
                          "minorgridcolor": "white",
                          "startlinecolor": "#2a3f5f"
                        },
                        "baxis": {
                          "endlinecolor": "#2a3f5f",
                          "gridcolor": "white",
                          "linecolor": "white",
                          "minorgridcolor": "white",
                          "startlinecolor": "#2a3f5f"
                        },
                        "type": "carpet"
                      }
                    ],
                    "choropleth": [
                      {
                        "colorbar": {
                          "outlinewidth": 0,
                          "ticks": ""
                        },
                        "type": "choropleth"
                      }
                    ],
                    "contour": [
                      {
                        "colorbar": {
                          "outlinewidth": 0,
                          "ticks": ""
                        },
                        "colorscale": [
                          [
                            0,
                            "#0d0887"
                          ],
                          [
                            0.1111111111111111,
                            "#46039f"
                          ],
                          [
                            0.2222222222222222,
                            "#7201a8"
                          ],
                          [
                            0.3333333333333333,
                            "#9c179e"
                          ],
                          [
                            0.4444444444444444,
                            "#bd3786"
                          ],
                          [
                            0.5555555555555556,
                            "#d8576b"
                          ],
                          [
                            0.6666666666666666,
                            "#ed7953"
                          ],
                          [
                            0.7777777777777778,
                            "#fb9f3a"
                          ],
                          [
                            0.8888888888888888,
                            "#fdca26"
                          ],
                          [
                            1,
                            "#f0f921"
                          ]
                        ],
                        "type": "contour"
                      }
                    ],
                    "contourcarpet": [
                      {
                        "colorbar": {
                          "outlinewidth": 0,
                          "ticks": ""
                        },
                        "type": "contourcarpet"
                      }
                    ],
                    "heatmap": [
                      {
                        "colorbar": {
                          "outlinewidth": 0,
                          "ticks": ""
                        },
                        "colorscale": [
                          [
                            0,
                            "#0d0887"
                          ],
                          [
                            0.1111111111111111,
                            "#46039f"
                          ],
                          [
                            0.2222222222222222,
                            "#7201a8"
                          ],
                          [
                            0.3333333333333333,
                            "#9c179e"
                          ],
                          [
                            0.4444444444444444,
                            "#bd3786"
                          ],
                          [
                            0.5555555555555556,
                            "#d8576b"
                          ],
                          [
                            0.6666666666666666,
                            "#ed7953"
                          ],
                          [
                            0.7777777777777778,
                            "#fb9f3a"
                          ],
                          [
                            0.8888888888888888,
                            "#fdca26"
                          ],
                          [
                            1,
                            "#f0f921"
                          ]
                        ],
                        "type": "heatmap"
                      }
                    ],
                    "heatmapgl": [
                      {
                        "colorbar": {
                          "outlinewidth": 0,
                          "ticks": ""
                        },
                        "colorscale": [
                          [
                            0,
                            "#0d0887"
                          ],
                          [
                            0.1111111111111111,
                            "#46039f"
                          ],
                          [
                            0.2222222222222222,
                            "#7201a8"
                          ],
                          [
                            0.3333333333333333,
                            "#9c179e"
                          ],
                          [
                            0.4444444444444444,
                            "#bd3786"
                          ],
                          [
                            0.5555555555555556,
                            "#d8576b"
                          ],
                          [
                            0.6666666666666666,
                            "#ed7953"
                          ],
                          [
                            0.7777777777777778,
                            "#fb9f3a"
                          ],
                          [
                            0.8888888888888888,
                            "#fdca26"
                          ],
                          [
                            1,
                            "#f0f921"
                          ]
                        ],
                        "type": "heatmapgl"
                      }
                    ],
                    "histogram": [
                      {
                        "marker": {
                          "pattern": {
                            "fillmode": "overlay",
                            "size": 10,
                            "solidity": 0.2
                          }
                        },
                        "type": "histogram"
                      }
                    ],
                    "histogram2d": [
                      {
                        "colorbar": {
                          "outlinewidth": 0,
                          "ticks": ""
                        },
                        "colorscale": [
                          [
                            0,
                            "#0d0887"
                          ],
                          [
                            0.1111111111111111,
                            "#46039f"
                          ],
                          [
                            0.2222222222222222,
                            "#7201a8"
                          ],
                          [
                            0.3333333333333333,
                            "#9c179e"
                          ],
                          [
                            0.4444444444444444,
                            "#bd3786"
                          ],
                          [
                            0.5555555555555556,
                            "#d8576b"
                          ],
                          [
                            0.6666666666666666,
                            "#ed7953"
                          ],
                          [
                            0.7777777777777778,
                            "#fb9f3a"
                          ],
                          [
                            0.8888888888888888,
                            "#fdca26"
                          ],
                          [
                            1,
                            "#f0f921"
                          ]
                        ],
                        "type": "histogram2d"
                      }
                    ],
                    "histogram2dcontour": [
                      {
                        "colorbar": {
                          "outlinewidth": 0,
                          "ticks": ""
                        },
                        "colorscale": [
                          [
                            0,
                            "#0d0887"
                          ],
                          [
                            0.1111111111111111,
                            "#46039f"
                          ],
                          [
                            0.2222222222222222,
                            "#7201a8"
                          ],
                          [
                            0.3333333333333333,
                            "#9c179e"
                          ],
                          [
                            0.4444444444444444,
                            "#bd3786"
                          ],
                          [
                            0.5555555555555556,
                            "#d8576b"
                          ],
                          [
                            0.6666666666666666,
                            "#ed7953"
                          ],
                          [
                            0.7777777777777778,
                            "#fb9f3a"
                          ],
                          [
                            0.8888888888888888,
                            "#fdca26"
                          ],
                          [
                            1,
                            "#f0f921"
                          ]
                        ],
                        "type": "histogram2dcontour"
                      }
                    ],
                    "mesh3d": [
                      {
                        "colorbar": {
                          "outlinewidth": 0,
                          "ticks": ""
                        },
                        "type": "mesh3d"
                      }
                    ],
                    "parcoords": [
                      {
                        "line": {
                          "colorbar": {
                            "outlinewidth": 0,
                            "ticks": ""
                          }
                        },
                        "type": "parcoords"
                      }
                    ],
                    "pie": [
                      {
                        "automargin": true,
                        "type": "pie"
                      }
                    ],
                    "scatter": [
                      {
                        "fillpattern": {
                          "fillmode": "overlay",
                          "size": 10,
                          "solidity": 0.2
                        },
                        "type": "scatter"
                      }
                    ],
                    "scatter3d": [
                      {
                        "line": {
                          "colorbar": {
                            "outlinewidth": 0,
                            "ticks": ""
                          }
                        },
                        "marker": {
                          "colorbar": {
                            "outlinewidth": 0,
                            "ticks": ""
                          }
                        },
                        "type": "scatter3d"
                      }
                    ],
                    "scattercarpet": [
                      {
                        "marker": {
                          "colorbar": {
                            "outlinewidth": 0,
                            "ticks": ""
                          }
                        },
                        "type": "scattercarpet"
                      }
                    ],
                    "scattergeo": [
                      {
                        "marker": {
                          "colorbar": {
                            "outlinewidth": 0,
                            "ticks": ""
                          }
                        },
                        "type": "scattergeo"
                      }
                    ],
                    "scattergl": [
                      {
                        "marker": {
                          "colorbar": {
                            "outlinewidth": 0,
                            "ticks": ""
                          }
                        },
                        "type": "scattergl"
                      }
                    ],
                    "scattermapbox": [
                      {
                        "marker": {
                          "colorbar": {
                            "outlinewidth": 0,
                            "ticks": ""
                          }
                        },
                        "type": "scattermapbox"
                      }
                    ],
                    "scatterpolar": [
                      {
                        "marker": {
                          "colorbar": {
                            "outlinewidth": 0,
                            "ticks": ""
                          }
                        },
                        "type": "scatterpolar"
                      }
                    ],
                    "scatterpolargl": [
                      {
                        "marker": {
                          "colorbar": {
                            "outlinewidth": 0,
                            "ticks": ""
                          }
                        },
                        "type": "scatterpolargl"
                      }
                    ],
                    "scatterternary": [
                      {
                        "marker": {
                          "colorbar": {
                            "outlinewidth": 0,
                            "ticks": ""
                          }
                        },
                        "type": "scatterternary"
                      }
                    ],
                    "surface": [
                      {
                        "colorbar": {
                          "outlinewidth": 0,
                          "ticks": ""
                        },
                        "colorscale": [
                          [
                            0,
                            "#0d0887"
                          ],
                          [
                            0.1111111111111111,
                            "#46039f"
                          ],
                          [
                            0.2222222222222222,
                            "#7201a8"
                          ],
                          [
                            0.3333333333333333,
                            "#9c179e"
                          ],
                          [
                            0.4444444444444444,
                            "#bd3786"
                          ],
                          [
                            0.5555555555555556,
                            "#d8576b"
                          ],
                          [
                            0.6666666666666666,
                            "#ed7953"
                          ],
                          [
                            0.7777777777777778,
                            "#fb9f3a"
                          ],
                          [
                            0.8888888888888888,
                            "#fdca26"
                          ],
                          [
                            1,
                            "#f0f921"
                          ]
                        ],
                        "type": "surface"
                      }
                    ],
                    "table": [
                      {
                        "cells": {
                          "fill": {
                            "color": "#EBF0F8"
                          },
                          "line": {
                            "color": "white"
                          }
                        },
                        "header": {
                          "fill": {
                            "color": "#C8D4E3"
                          },
                          "line": {
                            "color": "white"
                          }
                        },
                        "type": "table"
                      }
                    ]
                  },
                  "layout": {
                    "annotationdefaults": {
                      "arrowcolor": "#2a3f5f",
                      "arrowhead": 0,
                      "arrowwidth": 1
                    },
                    "autotypenumbers": "strict",
                    "coloraxis": {
                      "colorbar": {
                        "outlinewidth": 0,
                        "ticks": ""
                      }
                    },
                    "colorscale": {
                      "diverging": [
                        [
                          0,
                          "#8e0152"
                        ],
                        [
                          0.1,
                          "#c51b7d"
                        ],
                        [
                          0.2,
                          "#de77ae"
                        ],
                        [
                          0.3,
                          "#f1b6da"
                        ],
                        [
                          0.4,
                          "#fde0ef"
                        ],
                        [
                          0.5,
                          "#f7f7f7"
                        ],
                        [
                          0.6,
                          "#e6f5d0"
                        ],
                        [
                          0.7,
                          "#b8e186"
                        ],
                        [
                          0.8,
                          "#7fbc41"
                        ],
                        [
                          0.9,
                          "#4d9221"
                        ],
                        [
                          1,
                          "#276419"
                        ]
                      ],
                      "sequential": [
                        [
                          0,
                          "#0d0887"
                        ],
                        [
                          0.1111111111111111,
                          "#46039f"
                        ],
                        [
                          0.2222222222222222,
                          "#7201a8"
                        ],
                        [
                          0.3333333333333333,
                          "#9c179e"
                        ],
                        [
                          0.4444444444444444,
                          "#bd3786"
                        ],
                        [
                          0.5555555555555556,
                          "#d8576b"
                        ],
                        [
                          0.6666666666666666,
                          "#ed7953"
                        ],
                        [
                          0.7777777777777778,
                          "#fb9f3a"
                        ],
                        [
                          0.8888888888888888,
                          "#fdca26"
                        ],
                        [
                          1,
                          "#f0f921"
                        ]
                      ],
                      "sequentialminus": [
                        [
                          0,
                          "#0d0887"
                        ],
                        [
                          0.1111111111111111,
                          "#46039f"
                        ],
                        [
                          0.2222222222222222,
                          "#7201a8"
                        ],
                        [
                          0.3333333333333333,
                          "#9c179e"
                        ],
                        [
                          0.4444444444444444,
                          "#bd3786"
                        ],
                        [
                          0.5555555555555556,
                          "#d8576b"
                        ],
                        [
                          0.6666666666666666,
                          "#ed7953"
                        ],
                        [
                          0.7777777777777778,
                          "#fb9f3a"
                        ],
                        [
                          0.8888888888888888,
                          "#fdca26"
                        ],
                        [
                          1,
                          "#f0f921"
                        ]
                      ]
                    },
                    "colorway": [
                      "#636efa",
                      "#EF553B",
                      "#00cc96",
                      "#ab63fa",
                      "#FFA15A",
                      "#19d3f3",
                      "#FF6692",
                      "#B6E880",
                      "#FF97FF",
                      "#FECB52"
                    ],
                    "font": {
                      "color": "#2a3f5f"
                    },
                    "geo": {
                      "bgcolor": "white",
                      "lakecolor": "white",
                      "landcolor": "#E5ECF6",
                      "showlakes": true,
                      "showland": true,
                      "subunitcolor": "white"
                    },
                    "hoverlabel": {
                      "align": "left"
                    },
                    "hovermode": "closest",
                    "mapbox": {
                      "style": "light"
                    },
                    "paper_bgcolor": "white",
                    "plot_bgcolor": "#E5ECF6",
                    "polar": {
                      "angularaxis": {
                        "gridcolor": "white",
                        "linecolor": "white",
                        "ticks": ""
                      },
                      "bgcolor": "#E5ECF6",
                      "radialaxis": {
                        "gridcolor": "white",
                        "linecolor": "white",
                        "ticks": ""
                      }
                    },
                    "scene": {
                      "xaxis": {
                        "backgroundcolor": "#E5ECF6",
                        "gridcolor": "white",
                        "gridwidth": 2,
                        "linecolor": "white",
                        "showbackground": true,
                        "ticks": "",
                        "zerolinecolor": "white"
                      },
                      "yaxis": {
                        "backgroundcolor": "#E5ECF6",
                        "gridcolor": "white",
                        "gridwidth": 2,
                        "linecolor": "white",
                        "showbackground": true,
                        "ticks": "",
                        "zerolinecolor": "white"
                      },
                      "zaxis": {
                        "backgroundcolor": "#E5ECF6",
                        "gridcolor": "white",
                        "gridwidth": 2,
                        "linecolor": "white",
                        "showbackground": true,
                        "ticks": "",
                        "zerolinecolor": "white"
                      }
                    },
                    "shapedefaults": {
                      "line": {
                        "color": "#2a3f5f"
                      }
                    },
                    "ternary": {
                      "aaxis": {
                        "gridcolor": "white",
                        "linecolor": "white",
                        "ticks": ""
                      },
                      "baxis": {
                        "gridcolor": "white",
                        "linecolor": "white",
                        "ticks": ""
                      },
                      "bgcolor": "#E5ECF6",
                      "caxis": {
                        "gridcolor": "white",
                        "linecolor": "white",
                        "ticks": ""
                      }
                    },
                    "title": {
                      "x": 0.05
                    },
                    "xaxis": {
                      "automargin": true,
                      "gridcolor": "white",
                      "linecolor": "white",
                      "ticks": "",
                      "title": {
                        "standoff": 15
                      },
                      "zerolinecolor": "white",
                      "zerolinewidth": 2
                    },
                    "yaxis": {
                      "automargin": true,
                      "gridcolor": "white",
                      "linecolor": "white",
                      "ticks": "",
                      "title": {
                        "standoff": 15
                      },
                      "zerolinecolor": "white",
                      "zerolinewidth": 2
                    }
                  }
                },
                "title": {
                  "text": "Visualización 3D de Tópicos con BERTopic"
                },
                "width": 1200
              }
            }
          },
          "metadata": {},
          "output_type": "display_data"
        }
      ],
      "source": [
        "import plotly.express as px\n",
        "\n",
        "# Obtener los embeddings de los tópicos\n",
        "topic_embeddings = topic_model.topic_embeddings_\n",
        "\n",
        "new_doc = \"Fuga de presos en San Telmo\"  # nuevo texto\n",
        "new_doc_embedding = topic_model.embedding_model.embed([new_doc])[0] # embedding de nuevo texto\n",
        "\n",
        "total = np.vstack((topic_embeddings, new_doc_embedding))\n",
        "\n",
        "# Reducir la dimensionalidad de los embeddings a 3D usando UMAP\n",
        "umap_model = UMAP(n_components=3)\n",
        "embeddings_3d = umap_model.fit_transform(total)\n",
        "\n",
        "# Obtener las etiquetas de los tópicos\n",
        "topics_labels = [str(i)+\" \"+name['name'][:50] for i, name in enumerate(topics_list) ]\n",
        "\n",
        "# Crear un DataFrame para Plotly\n",
        "df_plotly = pd.DataFrame(embeddings_3d, columns=['Dim1', 'Dim2', 'Dim3'])\n",
        "df_plotly['Topico'] = [\"-1\"] + topics_labels + ['>>'+new_doc[:15]] # Identificamos el nuevo documento\n",
        "df_plotly['Etiqueta'] = list(range(-1, len(topic_embeddings)-1)) + [new_doc[:15]]\n",
        "\n",
        "# Graficar los tópicos en 3D de manera interactiva usando Plotly, ajustando el tamaño del gráfico\n",
        "fig = px.scatter_3d(df_plotly, x='Dim1', y='Dim2', z='Dim3', color='Topico', text='Etiqueta', title='Visualización 3D de Tópicos con BERTopic')\n",
        "\n",
        "\n",
        "# Ajustar el tamaño del gráfico\n",
        "fig.update_layout(\n",
        "    autosize=False,\n",
        "    width=1200,  # Ancho del gráfico\n",
        "    height=800,  # Altura del gráfico\n",
        "    margin=dict(l=65, r=50, b=65, t=90)\n",
        ")\n",
        "\n",
        "# Mostrar el gráfico\n",
        "fig.show()"
      ]
    },
    {
      "cell_type": "markdown",
      "metadata": {},
      "source": [
        "### Resumen"
      ]
    },
    {
      "cell_type": "markdown",
      "metadata": {},
      "source": [
        "Luego de correr esta notebook se puede observar en elastivue los topicos generados"
      ]
    },
    {
      "cell_type": "code",
      "execution_count": 44,
      "metadata": {},
      "outputs": [
        {
          "data": {
            "image/png": "[encoded data removed]",
            "text/plain": [
              "<IPython.core.display.Image object>"
            ]
          },
          "metadata": {},
          "output_type": "display_data"
        }
      ],
      "source": [
        "display(Image(filename=r'C:\\Users\\gabri\\OneDrive\\Machine Learning\\Github\\ITBA-NLP\\images\\elastivue_1.png'))"
      ]
    }
  ],
  "metadata": {
    "colab": {
      "include_colab_link": true,
      "provenance": []
    },
    "kernelspec": {
      "display_name": "Python 3",
      "name": "python3"
    },
    "language_info": {
      "codemirror_mode": {
        "name": "ipython",
        "version": 3
      },
      "file_extension": ".py",
      "mimetype": "text/x-python",
      "name": "python",
      "nbconvert_exporter": "python",
      "pygments_lexer": "ipython3",
      "version": "3.11.8"
    }
  },
  "nbformat": 4,
  "nbformat_minor": 0
}
