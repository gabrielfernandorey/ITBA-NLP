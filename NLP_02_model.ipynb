{
  "cells": [
    {
      "cell_type": "markdown",
      "metadata": {
        "colab_type": "text",
        "id": "view-in-github"
      },
      "source": [
        "<a href=\"https://colab.research.google.com/github/gabrielfernandorey/ITBA-NLP/blob/main/NLP_02_model.ipynb\" target=\"_parent\"><img src=\"https://colab.research.google.com/assets/colab-badge.svg\" alt=\"Open In Colab\"/></a>"
      ]
    },
    {
      "cell_type": "markdown",
      "metadata": {
        "id": "g6GzUxPz0r9-"
      },
      "source": [
        "# Trabajo Practico NLP - Detección de Tópicos y clasificación\n",
        "- ITBA 2024\n",
        "- Alumno: Gabriel Rey\n",
        "---"
      ]
    },
    {
      "cell_type": "markdown",
      "metadata": {},
      "source": [
        "### NLP_02_model\n",
        "\n",
        "Esta notebook se utiliza para:\n",
        "- armar el modelo de estimación de tópicos\n",
        "- validar resultados obtenidos\n",
        "- guardar datos en los indices de opensearch\n",
        "\n",
        "Esta y las consecuentes notebooks son el desarrollo de base de procesos y funciones para la web app provista."
      ]
    },
    {
      "cell_type": "markdown",
      "metadata": {
        "id": "e59GBP66N_BK"
      },
      "source": [
        "### MODELO"
      ]
    },
    {
      "cell_type": "code",
      "execution_count": 45,
      "metadata": {
        "colab": {
          "base_uri": "https://localhost:8080/",
          "height": 366
        },
        "collapsed": true,
        "id": "P7eCyxiT1rcu",
        "outputId": "5c718fba-d95f-4b07-91d3-cad4d8c81c00"
      },
      "outputs": [],
      "source": [
        "import warnings\n",
        "warnings.filterwarnings('ignore')\n",
        "\n",
        "import pandas as pd\n",
        "pd.set_option('display.max_colwidth', None)\n",
        "import numpy as np\n",
        "from matplotlib import pyplot as plt\n",
        "import os\n",
        "import json\n",
        "import pickle\n",
        "from datetime import datetime, date, timedelta\n",
        "from dateutil.parser import parse\n",
        "from dotenv import load_dotenv\n",
        "from IPython.display import Image, display\n",
        "\n",
        "from NLP_tools import *\n"
      ]
    },
    {
      "cell_type": "code",
      "execution_count": 2,
      "metadata": {
        "id": "7QSVkkTWN_BP"
      },
      "outputs": [],
      "source": [
        "from sklearn.feature_extraction.text import CountVectorizer, TfidfVectorizer\n",
        "from sklearn.metrics.pairwise import cosine_similarity\n",
        "from sklearn.decomposition import NMF\n",
        "\n",
        "from tqdm import tqdm\n",
        "\n",
        "from umap import UMAP\n",
        "from hdbscan import HDBSCAN\n",
        "from sentence_transformers import SentenceTransformer\n",
        "from bertopic import BERTopic\n",
        "from bertopic.representation import KeyBERTInspired\n",
        "from bertopic.vectorizers import ClassTfidfTransformer"
      ]
    },
    {
      "cell_type": "code",
      "execution_count": 3,
      "metadata": {
        "id": "yECzCViiN_BP"
      },
      "outputs": [],
      "source": [
        "from opensearch_data_model import Topic, TopicKeyword, News, os_client, TOPIC_INDEX_NAME, NEWS_INDEX_NAME\n",
        "from opensearch_io import init_opensearch, get_news, get_entities_news, get_title_news, update_news, get_pos_id\n",
        "from opensearchpy import helpers\n",
        "\n",
        "from openai import OpenAI"
      ]
    },
    {
      "cell_type": "markdown",
      "metadata": {
        "id": "ZmkslbsDN_BT"
      },
      "source": [
        "### Path"
      ]
    },
    {
      "cell_type": "code",
      "execution_count": 4,
      "metadata": {
        "colab": {
          "base_uri": "https://localhost:8080/",
          "height": 35
        },
        "id": "ZAu1QkwYN_BU",
        "outputId": "86b5d60e-88a3-4ffa-cfab-e89ce3e6086c"
      },
      "outputs": [
        {
          "data": {
            "text/plain": [
              "'C:/Users/gabri/OneDrive/Machine Learning/Github/ITBA-NLP/data/'"
            ]
          },
          "execution_count": 4,
          "metadata": {},
          "output_type": "execute_result"
        }
      ],
      "source": [
        "load_dotenv()\n",
        "PATH_REMOTO='/content/ITBA-NLP/data/'\n",
        "PATH=os.environ.get('PATH_LOCAL', PATH_REMOTO)\n",
        "PATH"
      ]
    },
    {
      "cell_type": "code",
      "execution_count": 5,
      "metadata": {
        "colab": {
          "base_uri": "https://localhost:8080/",
          "height": 176
        },
        "id": "ofyYU7FzN_BU",
        "outputId": "cbbb459c-53ed-445a-b37b-5eb0a94bc370"
      },
      "outputs": [
        {
          "name": "stdout",
          "output_type": "stream",
          "text": [
            "<openai.OpenAI object at 0x0000022AC4803FD0>\n"
          ]
        }
      ],
      "source": [
        "if PATH == os.environ.get('PATH_LOCAL'):\n",
        "    if os.environ.get('OPENAI_API_KEY'):\n",
        "        client = OpenAI(api_key= os.environ.get('OPENAI_API_KEY'))\n",
        "    else:\n",
        "        client = None\n",
        "    print(client)"
      ]
    },
    {
      "cell_type": "markdown",
      "metadata": {
        "id": "PrAEQ0VIN_BR"
      },
      "source": [
        "### Inicializamos la base vectorial"
      ]
    },
    {
      "cell_type": "code",
      "execution_count": 6,
      "metadata": {
        "id": "wOEOjKN4N_BS",
        "outputId": "2e883aa5-49ab-4a7a-8dfb-8574ba88700b"
      },
      "outputs": [
        {
          "name": "stdout",
          "output_type": "stream",
          "text": [
            "El índice Topic ya existe. Saltando inicialización de base de datos.\n",
            "El índice News ya existe. Saltando inicialización de base de datos.\n"
          ]
        }
      ],
      "source": [
        "init_opensearch()"
      ]
    },
    {
      "cell_type": "markdown",
      "metadata": {
        "id": "mHLnakcu2MOq"
      },
      "source": [
        "### Data de noticias original"
      ]
    },
    {
      "cell_type": "code",
      "execution_count": 7,
      "metadata": {
        "id": "cmp3cLLv28-T"
      },
      "outputs": [],
      "source": [
        "# Cargar archivo previamente preprocesado en NLP_01_data \n",
        "choice = \"20240716\"   \n",
        "df_parquet = pd.read_parquet(PATH+choice+\".parquet\").reset_index()\n",
        "data = list(df_parquet['text'])\n",
        "id_data = list(df_parquet['asset_id'])\n",
        "title_data = list(df_parquet['title'])"
      ]
    },
    {
      "cell_type": "code",
      "execution_count": 8,
      "metadata": {
        "id": "DxbMdlz-N_BV"
      },
      "outputs": [
        {
          "data": {
            "text/plain": [
              "6233"
            ]
          },
          "execution_count": 8,
          "metadata": {},
          "output_type": "execute_result"
        }
      ],
      "source": [
        "# Cargar vocabulario previamente procesado\n",
        "with open(PATH+f'preproc_notebook/vocabulary_{choice}.json', 'r') as json_file:\n",
        "    vocab = json.load(json_file)\n",
        "len(vocab)"
      ]
    },
    {
      "cell_type": "markdown",
      "metadata": {},
      "source": [
        "### Preprocesar las noticias\n",
        "Se realiza un preprocesamiento mínimo del texto, pero no se le quita el sentido semántico para que mediante SentenceTransformer se puedan capturar embeddings de mejor calidad."
      ]
    },
    {
      "cell_type": "code",
      "execution_count": 9,
      "metadata": {},
      "outputs": [],
      "source": [
        "# Stopwords\n",
        "SPANISH_STOPWORDS = list(pd.read_csv(PATH+'spanish_stop_words.csv' )['stopwords'].values)\n",
        "SPANISH_STOPWORDS_SPECIAL = list(pd.read_csv(PATH+'spanish_stop_words_spec.csv' )['stopwords'].values)"
      ]
    },
    {
      "cell_type": "code",
      "execution_count": 10,
      "metadata": {},
      "outputs": [
        {
          "name": "stderr",
          "output_type": "stream",
          "text": [
            "100%|██████████| 1000/1000 [00:00<00:00, 1758.02it/s]\n"
          ]
        }
      ],
      "source": [
        "clean_data = Cleaning_text()\n",
        "\n",
        "proc_data = []\n",
        "for data_in in tqdm(data):\n",
        "    aux = clean_data.unicode(data_in)\n",
        "    aux = clean_data.urls(aux)\n",
        "    aux = clean_data.simbols(aux)\n",
        "    aux = clean_data.escape_sequence(aux)\n",
        "    aux = \" \".join([ word for word in aux.split() if word.lower() not in SPANISH_STOPWORDS_SPECIAL])\n",
        "    proc_data.append(aux)\n"
      ]
    },
    {
      "cell_type": "markdown",
      "metadata": {
        "id": "Hl06QkGoN_BW"
      },
      "source": [
        "### Modelo"
      ]
    },
    {
      "cell_type": "code",
      "execution_count": 11,
      "metadata": {
        "id": "6U8qmnllN_BW"
      },
      "outputs": [
        {
          "data": {
            "text/html": [
              "<style>#sk-container-id-1 {\n",
              "  /* Definition of color scheme common for light and dark mode */\n",
              "  --sklearn-color-text: black;\n",
              "  --sklearn-color-line: gray;\n",
              "  /* Definition of color scheme for unfitted estimators */\n",
              "  --sklearn-color-unfitted-level-0: #fff5e6;\n",
              "  --sklearn-color-unfitted-level-1: #f6e4d2;\n",
              "  --sklearn-color-unfitted-level-2: #ffe0b3;\n",
              "  --sklearn-color-unfitted-level-3: chocolate;\n",
              "  /* Definition of color scheme for fitted estimators */\n",
              "  --sklearn-color-fitted-level-0: #f0f8ff;\n",
              "  --sklearn-color-fitted-level-1: #d4ebff;\n",
              "  --sklearn-color-fitted-level-2: #b3dbfd;\n",
              "  --sklearn-color-fitted-level-3: cornflowerblue;\n",
              "\n",
              "  /* Specific color for light theme */\n",
              "  --sklearn-color-text-on-default-background: var(--sg-text-color, var(--theme-code-foreground, var(--jp-content-font-color1, black)));\n",
              "  --sklearn-color-background: var(--sg-background-color, var(--theme-background, var(--jp-layout-color0, white)));\n",
              "  --sklearn-color-border-box: var(--sg-text-color, var(--theme-code-foreground, var(--jp-content-font-color1, black)));\n",
              "  --sklearn-color-icon: #696969;\n",
              "\n",
              "  @media (prefers-color-scheme: dark) {\n",
              "    /* Redefinition of color scheme for dark theme */\n",
              "    --sklearn-color-text-on-default-background: var(--sg-text-color, var(--theme-code-foreground, var(--jp-content-font-color1, white)));\n",
              "    --sklearn-color-background: var(--sg-background-color, var(--theme-background, var(--jp-layout-color0, #111)));\n",
              "    --sklearn-color-border-box: var(--sg-text-color, var(--theme-code-foreground, var(--jp-content-font-color1, white)));\n",
              "    --sklearn-color-icon: #878787;\n",
              "  }\n",
              "}\n",
              "\n",
              "#sk-container-id-1 {\n",
              "  color: var(--sklearn-color-text);\n",
              "}\n",
              "\n",
              "#sk-container-id-1 pre {\n",
              "  padding: 0;\n",
              "}\n",
              "\n",
              "#sk-container-id-1 input.sk-hidden--visually {\n",
              "  border: 0;\n",
              "  clip: rect(1px 1px 1px 1px);\n",
              "  clip: rect(1px, 1px, 1px, 1px);\n",
              "  height: 1px;\n",
              "  margin: -1px;\n",
              "  overflow: hidden;\n",
              "  padding: 0;\n",
              "  position: absolute;\n",
              "  width: 1px;\n",
              "}\n",
              "\n",
              "#sk-container-id-1 div.sk-dashed-wrapped {\n",
              "  border: 1px dashed var(--sklearn-color-line);\n",
              "  margin: 0 0.4em 0.5em 0.4em;\n",
              "  box-sizing: border-box;\n",
              "  padding-bottom: 0.4em;\n",
              "  background-color: var(--sklearn-color-background);\n",
              "}\n",
              "\n",
              "#sk-container-id-1 div.sk-container {\n",
              "  /* jupyter's `normalize.less` sets `[hidden] { display: none; }`\n",
              "     but bootstrap.min.css set `[hidden] { display: none !important; }`\n",
              "     so we also need the `!important` here to be able to override the\n",
              "     default hidden behavior on the sphinx rendered scikit-learn.org.\n",
              "     See: https://github.com/scikit-learn/scikit-learn/issues/21755 */\n",
              "  display: inline-block !important;\n",
              "  position: relative;\n",
              "}\n",
              "\n",
              "#sk-container-id-1 div.sk-text-repr-fallback {\n",
              "  display: none;\n",
              "}\n",
              "\n",
              "div.sk-parallel-item,\n",
              "div.sk-serial,\n",
              "div.sk-item {\n",
              "  /* draw centered vertical line to link estimators */\n",
              "  background-image: linear-gradient(var(--sklearn-color-text-on-default-background), var(--sklearn-color-text-on-default-background));\n",
              "  background-size: 2px 100%;\n",
              "  background-repeat: no-repeat;\n",
              "  background-position: center center;\n",
              "}\n",
              "\n",
              "/* Parallel-specific style estimator block */\n",
              "\n",
              "#sk-container-id-1 div.sk-parallel-item::after {\n",
              "  content: \"\";\n",
              "  width: 100%;\n",
              "  border-bottom: 2px solid var(--sklearn-color-text-on-default-background);\n",
              "  flex-grow: 1;\n",
              "}\n",
              "\n",
              "#sk-container-id-1 div.sk-parallel {\n",
              "  display: flex;\n",
              "  align-items: stretch;\n",
              "  justify-content: center;\n",
              "  background-color: var(--sklearn-color-background);\n",
              "  position: relative;\n",
              "}\n",
              "\n",
              "#sk-container-id-1 div.sk-parallel-item {\n",
              "  display: flex;\n",
              "  flex-direction: column;\n",
              "}\n",
              "\n",
              "#sk-container-id-1 div.sk-parallel-item:first-child::after {\n",
              "  align-self: flex-end;\n",
              "  width: 50%;\n",
              "}\n",
              "\n",
              "#sk-container-id-1 div.sk-parallel-item:last-child::after {\n",
              "  align-self: flex-start;\n",
              "  width: 50%;\n",
              "}\n",
              "\n",
              "#sk-container-id-1 div.sk-parallel-item:only-child::after {\n",
              "  width: 0;\n",
              "}\n",
              "\n",
              "/* Serial-specific style estimator block */\n",
              "\n",
              "#sk-container-id-1 div.sk-serial {\n",
              "  display: flex;\n",
              "  flex-direction: column;\n",
              "  align-items: center;\n",
              "  background-color: var(--sklearn-color-background);\n",
              "  padding-right: 1em;\n",
              "  padding-left: 1em;\n",
              "}\n",
              "\n",
              "\n",
              "/* Toggleable style: style used for estimator/Pipeline/ColumnTransformer box that is\n",
              "clickable and can be expanded/collapsed.\n",
              "- Pipeline and ColumnTransformer use this feature and define the default style\n",
              "- Estimators will overwrite some part of the style using the `sk-estimator` class\n",
              "*/\n",
              "\n",
              "/* Pipeline and ColumnTransformer style (default) */\n",
              "\n",
              "#sk-container-id-1 div.sk-toggleable {\n",
              "  /* Default theme specific background. It is overwritten whether we have a\n",
              "  specific estimator or a Pipeline/ColumnTransformer */\n",
              "  background-color: var(--sklearn-color-background);\n",
              "}\n",
              "\n",
              "/* Toggleable label */\n",
              "#sk-container-id-1 label.sk-toggleable__label {\n",
              "  cursor: pointer;\n",
              "  display: block;\n",
              "  width: 100%;\n",
              "  margin-bottom: 0;\n",
              "  padding: 0.5em;\n",
              "  box-sizing: border-box;\n",
              "  text-align: center;\n",
              "}\n",
              "\n",
              "#sk-container-id-1 label.sk-toggleable__label-arrow:before {\n",
              "  /* Arrow on the left of the label */\n",
              "  content: \"▸\";\n",
              "  float: left;\n",
              "  margin-right: 0.25em;\n",
              "  color: var(--sklearn-color-icon);\n",
              "}\n",
              "\n",
              "#sk-container-id-1 label.sk-toggleable__label-arrow:hover:before {\n",
              "  color: var(--sklearn-color-text);\n",
              "}\n",
              "\n",
              "/* Toggleable content - dropdown */\n",
              "\n",
              "#sk-container-id-1 div.sk-toggleable__content {\n",
              "  max-height: 0;\n",
              "  max-width: 0;\n",
              "  overflow: hidden;\n",
              "  text-align: left;\n",
              "  /* unfitted */\n",
              "  background-color: var(--sklearn-color-unfitted-level-0);\n",
              "}\n",
              "\n",
              "#sk-container-id-1 div.sk-toggleable__content.fitted {\n",
              "  /* fitted */\n",
              "  background-color: var(--sklearn-color-fitted-level-0);\n",
              "}\n",
              "\n",
              "#sk-container-id-1 div.sk-toggleable__content pre {\n",
              "  margin: 0.2em;\n",
              "  border-radius: 0.25em;\n",
              "  color: var(--sklearn-color-text);\n",
              "  /* unfitted */\n",
              "  background-color: var(--sklearn-color-unfitted-level-0);\n",
              "}\n",
              "\n",
              "#sk-container-id-1 div.sk-toggleable__content.fitted pre {\n",
              "  /* unfitted */\n",
              "  background-color: var(--sklearn-color-fitted-level-0);\n",
              "}\n",
              "\n",
              "#sk-container-id-1 input.sk-toggleable__control:checked~div.sk-toggleable__content {\n",
              "  /* Expand drop-down */\n",
              "  max-height: 200px;\n",
              "  max-width: 100%;\n",
              "  overflow: auto;\n",
              "}\n",
              "\n",
              "#sk-container-id-1 input.sk-toggleable__control:checked~label.sk-toggleable__label-arrow:before {\n",
              "  content: \"▾\";\n",
              "}\n",
              "\n",
              "/* Pipeline/ColumnTransformer-specific style */\n",
              "\n",
              "#sk-container-id-1 div.sk-label input.sk-toggleable__control:checked~label.sk-toggleable__label {\n",
              "  color: var(--sklearn-color-text);\n",
              "  background-color: var(--sklearn-color-unfitted-level-2);\n",
              "}\n",
              "\n",
              "#sk-container-id-1 div.sk-label.fitted input.sk-toggleable__control:checked~label.sk-toggleable__label {\n",
              "  background-color: var(--sklearn-color-fitted-level-2);\n",
              "}\n",
              "\n",
              "/* Estimator-specific style */\n",
              "\n",
              "/* Colorize estimator box */\n",
              "#sk-container-id-1 div.sk-estimator input.sk-toggleable__control:checked~label.sk-toggleable__label {\n",
              "  /* unfitted */\n",
              "  background-color: var(--sklearn-color-unfitted-level-2);\n",
              "}\n",
              "\n",
              "#sk-container-id-1 div.sk-estimator.fitted input.sk-toggleable__control:checked~label.sk-toggleable__label {\n",
              "  /* fitted */\n",
              "  background-color: var(--sklearn-color-fitted-level-2);\n",
              "}\n",
              "\n",
              "#sk-container-id-1 div.sk-label label.sk-toggleable__label,\n",
              "#sk-container-id-1 div.sk-label label {\n",
              "  /* The background is the default theme color */\n",
              "  color: var(--sklearn-color-text-on-default-background);\n",
              "}\n",
              "\n",
              "/* On hover, darken the color of the background */\n",
              "#sk-container-id-1 div.sk-label:hover label.sk-toggleable__label {\n",
              "  color: var(--sklearn-color-text);\n",
              "  background-color: var(--sklearn-color-unfitted-level-2);\n",
              "}\n",
              "\n",
              "/* Label box, darken color on hover, fitted */\n",
              "#sk-container-id-1 div.sk-label.fitted:hover label.sk-toggleable__label.fitted {\n",
              "  color: var(--sklearn-color-text);\n",
              "  background-color: var(--sklearn-color-fitted-level-2);\n",
              "}\n",
              "\n",
              "/* Estimator label */\n",
              "\n",
              "#sk-container-id-1 div.sk-label label {\n",
              "  font-family: monospace;\n",
              "  font-weight: bold;\n",
              "  display: inline-block;\n",
              "  line-height: 1.2em;\n",
              "}\n",
              "\n",
              "#sk-container-id-1 div.sk-label-container {\n",
              "  text-align: center;\n",
              "}\n",
              "\n",
              "/* Estimator-specific */\n",
              "#sk-container-id-1 div.sk-estimator {\n",
              "  font-family: monospace;\n",
              "  border: 1px dotted var(--sklearn-color-border-box);\n",
              "  border-radius: 0.25em;\n",
              "  box-sizing: border-box;\n",
              "  margin-bottom: 0.5em;\n",
              "  /* unfitted */\n",
              "  background-color: var(--sklearn-color-unfitted-level-0);\n",
              "}\n",
              "\n",
              "#sk-container-id-1 div.sk-estimator.fitted {\n",
              "  /* fitted */\n",
              "  background-color: var(--sklearn-color-fitted-level-0);\n",
              "}\n",
              "\n",
              "/* on hover */\n",
              "#sk-container-id-1 div.sk-estimator:hover {\n",
              "  /* unfitted */\n",
              "  background-color: var(--sklearn-color-unfitted-level-2);\n",
              "}\n",
              "\n",
              "#sk-container-id-1 div.sk-estimator.fitted:hover {\n",
              "  /* fitted */\n",
              "  background-color: var(--sklearn-color-fitted-level-2);\n",
              "}\n",
              "\n",
              "/* Specification for estimator info (e.g. \"i\" and \"?\") */\n",
              "\n",
              "/* Common style for \"i\" and \"?\" */\n",
              "\n",
              ".sk-estimator-doc-link,\n",
              "a:link.sk-estimator-doc-link,\n",
              "a:visited.sk-estimator-doc-link {\n",
              "  float: right;\n",
              "  font-size: smaller;\n",
              "  line-height: 1em;\n",
              "  font-family: monospace;\n",
              "  background-color: var(--sklearn-color-background);\n",
              "  border-radius: 1em;\n",
              "  height: 1em;\n",
              "  width: 1em;\n",
              "  text-decoration: none !important;\n",
              "  margin-left: 1ex;\n",
              "  /* unfitted */\n",
              "  border: var(--sklearn-color-unfitted-level-1) 1pt solid;\n",
              "  color: var(--sklearn-color-unfitted-level-1);\n",
              "}\n",
              "\n",
              ".sk-estimator-doc-link.fitted,\n",
              "a:link.sk-estimator-doc-link.fitted,\n",
              "a:visited.sk-estimator-doc-link.fitted {\n",
              "  /* fitted */\n",
              "  border: var(--sklearn-color-fitted-level-1) 1pt solid;\n",
              "  color: var(--sklearn-color-fitted-level-1);\n",
              "}\n",
              "\n",
              "/* On hover */\n",
              "div.sk-estimator:hover .sk-estimator-doc-link:hover,\n",
              ".sk-estimator-doc-link:hover,\n",
              "div.sk-label-container:hover .sk-estimator-doc-link:hover,\n",
              ".sk-estimator-doc-link:hover {\n",
              "  /* unfitted */\n",
              "  background-color: var(--sklearn-color-unfitted-level-3);\n",
              "  color: var(--sklearn-color-background);\n",
              "  text-decoration: none;\n",
              "}\n",
              "\n",
              "div.sk-estimator.fitted:hover .sk-estimator-doc-link.fitted:hover,\n",
              ".sk-estimator-doc-link.fitted:hover,\n",
              "div.sk-label-container:hover .sk-estimator-doc-link.fitted:hover,\n",
              ".sk-estimator-doc-link.fitted:hover {\n",
              "  /* fitted */\n",
              "  background-color: var(--sklearn-color-fitted-level-3);\n",
              "  color: var(--sklearn-color-background);\n",
              "  text-decoration: none;\n",
              "}\n",
              "\n",
              "/* Span, style for the box shown on hovering the info icon */\n",
              ".sk-estimator-doc-link span {\n",
              "  display: none;\n",
              "  z-index: 9999;\n",
              "  position: relative;\n",
              "  font-weight: normal;\n",
              "  right: .2ex;\n",
              "  padding: .5ex;\n",
              "  margin: .5ex;\n",
              "  width: min-content;\n",
              "  min-width: 20ex;\n",
              "  max-width: 50ex;\n",
              "  color: var(--sklearn-color-text);\n",
              "  box-shadow: 2pt 2pt 4pt #999;\n",
              "  /* unfitted */\n",
              "  background: var(--sklearn-color-unfitted-level-0);\n",
              "  border: .5pt solid var(--sklearn-color-unfitted-level-3);\n",
              "}\n",
              "\n",
              ".sk-estimator-doc-link.fitted span {\n",
              "  /* fitted */\n",
              "  background: var(--sklearn-color-fitted-level-0);\n",
              "  border: var(--sklearn-color-fitted-level-3);\n",
              "}\n",
              "\n",
              ".sk-estimator-doc-link:hover span {\n",
              "  display: block;\n",
              "}\n",
              "\n",
              "/* \"?\"-specific style due to the `<a>` HTML tag */\n",
              "\n",
              "#sk-container-id-1 a.estimator_doc_link {\n",
              "  float: right;\n",
              "  font-size: 1rem;\n",
              "  line-height: 1em;\n",
              "  font-family: monospace;\n",
              "  background-color: var(--sklearn-color-background);\n",
              "  border-radius: 1rem;\n",
              "  height: 1rem;\n",
              "  width: 1rem;\n",
              "  text-decoration: none;\n",
              "  /* unfitted */\n",
              "  color: var(--sklearn-color-unfitted-level-1);\n",
              "  border: var(--sklearn-color-unfitted-level-1) 1pt solid;\n",
              "}\n",
              "\n",
              "#sk-container-id-1 a.estimator_doc_link.fitted {\n",
              "  /* fitted */\n",
              "  border: var(--sklearn-color-fitted-level-1) 1pt solid;\n",
              "  color: var(--sklearn-color-fitted-level-1);\n",
              "}\n",
              "\n",
              "/* On hover */\n",
              "#sk-container-id-1 a.estimator_doc_link:hover {\n",
              "  /* unfitted */\n",
              "  background-color: var(--sklearn-color-unfitted-level-3);\n",
              "  color: var(--sklearn-color-background);\n",
              "  text-decoration: none;\n",
              "}\n",
              "\n",
              "#sk-container-id-1 a.estimator_doc_link.fitted:hover {\n",
              "  /* fitted */\n",
              "  background-color: var(--sklearn-color-fitted-level-3);\n",
              "}\n",
              "</style><div id=\"sk-container-id-1\" class=\"sk-top-container\"><div class=\"sk-text-repr-fallback\"><pre>TfidfVectorizer(max_df=0.9, min_df=0.1, ngram_range=(1, 2),\n",
              "                vocabulary=[&#x27;Jakari Shaw&#x27;, &#x27;Observatorio Turístico&#x27;,\n",
              "                            &#x27;utilización&#x27;, &#x27;tragedia&#x27;, &#x27;Ignacio «Nacho» Torres&#x27;,\n",
              "                            &#x27;acusado número&#x27;, &#x27;incidentes&#x27;, &#x27;Adolfo Alsina&#x27;,\n",
              "                            &#x27;teléfono celular&#x27;, &#x27;Las Zetas&#x27;,\n",
              "                            &#x27;peregrinación acuática&#x27;, &#x27;políticas actuales&#x27;,\n",
              "                            &#x27;últimos datos&#x27;, &#x27;pisos&#x27;, &#x27;residencia fiscal&#x27;,\n",
              "                            &#x27;carros&#x27;, &#x27;Sol de Mayo&#x27;, &#x27;Sierra Chica&#x27;, &#x27;lingotes&#x27;,\n",
              "                            &#x27;Puerto Escobar&#x27;, &#x27;Dirección&#x27;, &#x27;Audi&#x27;,\n",
              "                            &#x27;Lorena Paola Medina&#x27;, &#x27;Tiago Nunes&#x27;,\n",
              "                            &#x27;Cadena 3 Rosario&#x27;, &#x27;cerro Champaquí&#x27;, &#x27;Nobel&#x27;,\n",
              "                            &#x27;Scott Panchik&#x27;, &#x27;baja velocidad&#x27;, &#x27;moneda oficial&#x27;, ...])</pre><b>In a Jupyter environment, please rerun this cell to show the HTML representation or trust the notebook. <br />On GitHub, the HTML representation is unable to render, please try loading this page with nbviewer.org.</b></div><div class=\"sk-container\" hidden><div class=\"sk-item\"><div class=\"sk-estimator fitted sk-toggleable\"><input class=\"sk-toggleable__control sk-hidden--visually\" id=\"sk-estimator-id-1\" type=\"checkbox\" checked><label for=\"sk-estimator-id-1\" class=\"sk-toggleable__label fitted sk-toggleable__label-arrow fitted\">&nbsp;&nbsp;TfidfVectorizer<a class=\"sk-estimator-doc-link fitted\" rel=\"noreferrer\" target=\"_blank\" href=\"https://scikit-learn.org/1.4/modules/generated/sklearn.feature_extraction.text.TfidfVectorizer.html\">?<span>Documentation for TfidfVectorizer</span></a><span class=\"sk-estimator-doc-link fitted\">i<span>Fitted</span></span></label><div class=\"sk-toggleable__content fitted\"><pre>TfidfVectorizer(max_df=0.9, min_df=0.1, ngram_range=(1, 2),\n",
              "                vocabulary=[&#x27;Jakari Shaw&#x27;, &#x27;Observatorio Turístico&#x27;,\n",
              "                            &#x27;utilización&#x27;, &#x27;tragedia&#x27;, &#x27;Ignacio «Nacho» Torres&#x27;,\n",
              "                            &#x27;acusado número&#x27;, &#x27;incidentes&#x27;, &#x27;Adolfo Alsina&#x27;,\n",
              "                            &#x27;teléfono celular&#x27;, &#x27;Las Zetas&#x27;,\n",
              "                            &#x27;peregrinación acuática&#x27;, &#x27;políticas actuales&#x27;,\n",
              "                            &#x27;últimos datos&#x27;, &#x27;pisos&#x27;, &#x27;residencia fiscal&#x27;,\n",
              "                            &#x27;carros&#x27;, &#x27;Sol de Mayo&#x27;, &#x27;Sierra Chica&#x27;, &#x27;lingotes&#x27;,\n",
              "                            &#x27;Puerto Escobar&#x27;, &#x27;Dirección&#x27;, &#x27;Audi&#x27;,\n",
              "                            &#x27;Lorena Paola Medina&#x27;, &#x27;Tiago Nunes&#x27;,\n",
              "                            &#x27;Cadena 3 Rosario&#x27;, &#x27;cerro Champaquí&#x27;, &#x27;Nobel&#x27;,\n",
              "                            &#x27;Scott Panchik&#x27;, &#x27;baja velocidad&#x27;, &#x27;moneda oficial&#x27;, ...])</pre></div> </div></div></div></div>"
            ],
            "text/plain": [
              "TfidfVectorizer(max_df=0.9, min_df=0.1, ngram_range=(1, 2),\n",
              "                vocabulary=['Jakari Shaw', 'Observatorio Turístico',\n",
              "                            'utilización', 'tragedia', 'Ignacio «Nacho» Torres',\n",
              "                            'acusado número', 'incidentes', 'Adolfo Alsina',\n",
              "                            'teléfono celular', 'Las Zetas',\n",
              "                            'peregrinación acuática', 'políticas actuales',\n",
              "                            'últimos datos', 'pisos', 'residencia fiscal',\n",
              "                            'carros', 'Sol de Mayo', 'Sierra Chica', 'lingotes',\n",
              "                            'Puerto Escobar', 'Dirección', 'Audi',\n",
              "                            'Lorena Paola Medina', 'Tiago Nunes',\n",
              "                            'Cadena 3 Rosario', 'cerro Champaquí', 'Nobel',\n",
              "                            'Scott Panchik', 'baja velocidad', 'moneda oficial', ...])"
            ]
          },
          "execution_count": 11,
          "metadata": {},
          "output_type": "execute_result"
        }
      ],
      "source": [
        "tfidf_vectorizer = TfidfVectorizer(\n",
        "        tokenizer=None,\n",
        "        max_df=0.9,\n",
        "        min_df=0.1,\n",
        "        ngram_range=(1, 2),\n",
        "        vocabulary=vocab,\n",
        "        # max_features=100_000\n",
        ")\n",
        "tfidf_vectorizer.fit(proc_data)"
      ]
    },
    {
      "cell_type": "markdown",
      "metadata": {
        "id": "6KB5tMtLN_BW"
      },
      "source": [
        "Capas del modelo BERTopic"
      ]
    },
    {
      "cell_type": "code",
      "execution_count": 12,
      "metadata": {
        "id": "Mpb75EAM3R53"
      },
      "outputs": [],
      "source": [
        "# Step 1 - Extract embeddings\n",
        "embedding_model = SentenceTransformer(\"paraphrase-multilingual-MiniLM-L12-v2\")\n",
        "# Step 2 - Reduce dimensionality\n",
        "umap_model = UMAP(n_neighbors=15, n_components=5, min_dist=0.0, metric='cosine', random_state=42)\n",
        "# Step 3 - Cluster reduced embeddings\n",
        "hdbscan_model = HDBSCAN(min_cluster_size=10, metric='euclidean', cluster_selection_method='eom', prediction_data=True)\n",
        "# Step 4 - Tokenize topics\n",
        "vectorizer_model = tfidf_vectorizer\n",
        "# Step 5 - Create topic representation\n",
        "ctfidf_model = ClassTfidfTransformer()\n",
        "# Step 6 - (Optional) Fine-tune topic representations with a `bertopic.representation` model\n",
        "# representation_model = KeyBERTInspired()\n",
        "\n",
        "# All steps together\n",
        "topic_model = BERTopic(\n",
        "  embedding_model=embedding_model,              # Step 1 - Extract embeddings\n",
        "  umap_model=umap_model,                        # Step 2 - Reduce dimensionality\n",
        "  hdbscan_model=hdbscan_model,                  # Step 3 - Cluster reduced embeddings\n",
        "  vectorizer_model=vectorizer_model,            # Step 4 - Tokenize topics\n",
        "  ctfidf_model=ctfidf_model,                    # Step 5 - Extract topic words\n",
        "  # representation_model=representation_model,  # Step 6 - (Optional) Fine-tune topic represenations\n",
        "  # language='multilingual',                    # This is not used if embedding_model is used.\n",
        "  verbose=True,\n",
        "  # calculate_probabilities=True\n",
        ")"
      ]
    },
    {
      "cell_type": "markdown",
      "metadata": {
        "id": "RYk1SbbdN_BX"
      },
      "source": [
        "### Datos de Entrenamiento a recuperar"
      ]
    },
    {
      "cell_type": "code",
      "execution_count": 13,
      "metadata": {
        "id": "uZb5UYa5N_BX"
      },
      "outputs": [],
      "source": [
        "# Cargar modelo entrenado o saltar celda y entrenar\n",
        "#topic_model = BERTopic.load(PATH+f\"modelos_notebook/bertopic_model_{choice}\")\n",
        "#topics = np.load(PATH+f\"modelos_notebook/topics_{choice}.npy\")\n",
        "#probs = np.load(PATH+f\"modelos_notebook/probs_{choice}.npy\")\n",
        "\n",
        "# Cargar los embeddings\n",
        "#docs_embedding = np.load(PATH+f\"modelos_notebook/docs_embeddings_{choice}.npy\")"
      ]
    },
    {
      "cell_type": "markdown",
      "metadata": {},
      "source": [
        "### Entrenamiento"
      ]
    },
    {
      "cell_type": "code",
      "execution_count": 14,
      "metadata": {
        "id": "MUSgR75RN_BY"
      },
      "outputs": [
        {
          "name": "stderr",
          "output_type": "stream",
          "text": [
            "2024-08-29 13:51:17,802 - BERTopic - Embedding - Transforming documents to embeddings.\n"
          ]
        },
        {
          "data": {
            "application/vnd.jupyter.widget-view+json": {
              "model_id": "9adfb0ac619943db95c030a0d6facd9f",
              "version_major": 2,
              "version_minor": 0
            },
            "text/plain": [
              "Batches:   0%|          | 0/32 [00:00<?, ?it/s]"
            ]
          },
          "metadata": {},
          "output_type": "display_data"
        },
        {
          "name": "stderr",
          "output_type": "stream",
          "text": [
            "2024-08-29 13:52:51,986 - BERTopic - Embedding - Completed ✓\n",
            "2024-08-29 13:52:51,987 - BERTopic - Dimensionality - Fitting the dimensionality reduction algorithm\n",
            "2024-08-29 13:53:02,461 - BERTopic - Dimensionality - Completed ✓\n",
            "2024-08-29 13:53:02,462 - BERTopic - Cluster - Start clustering the reduced embeddings\n",
            "2024-08-29 13:53:02,500 - BERTopic - Cluster - Completed ✓\n",
            "2024-08-29 13:53:02,508 - BERTopic - Representation - Extracting topics from clusters using representation models.\n",
            "2024-08-29 13:53:03,107 - BERTopic - Representation - Completed ✓\n"
          ]
        }
      ],
      "source": [
        "# Entrenamiento\n",
        "topics, probs = topic_model.fit_transform(proc_data)"
      ]
    },
    {
      "cell_type": "code",
      "execution_count": 15,
      "metadata": {
        "id": "7fssvPfyN_BY"
      },
      "outputs": [],
      "source": [
        "# Obtenemos embeddings de todos los documentos\n",
        "docs_embedding = topic_model.embedding_model.embed(data)"
      ]
    },
    {
      "cell_type": "markdown",
      "metadata": {},
      "source": [
        "### Datos de entrenamiento a guardar"
      ]
    },
    {
      "cell_type": "code",
      "execution_count": 17,
      "metadata": {
        "id": "4NXVfA04N_BY"
      },
      "outputs": [
        {
          "name": "stderr",
          "output_type": "stream",
          "text": [
            "2024-08-29 13:57:51,689 - BERTopic - WARNING: When you use `pickle` to save/load a BERTopic model,please make sure that the environments in which you saveand load the model are **exactly** the same. The version of BERTopic,its dependencies, and python need to remain the same.\n"
          ]
        }
      ],
      "source": [
        "# Grabar modelo\n",
        "topic_model.save(PATH+f\"modelos_notebook/bertopic_model_last\")\n",
        "#np.save(PATH+f\"modelos_notebook/topics_{choice}.npy\", topics)\n",
        "#np.save(PATH+f\"modelos_notebook/probs_{choice}.npy\", probs)\n",
        "\n",
        "# Guardar los embeddings en un archivo de NumPy\n",
        "np.save(PATH+f\"modelos_notebook/docs_embeddings_last.npy\", docs_embedding)"
      ]
    },
    {
      "cell_type": "markdown",
      "metadata": {},
      "source": [
        "## Grabar solo resultados del primer modelo en Topic y News\n",
        "*** El segundo modelo corre en NLP_03_merged, para luego fusionar. ***"
      ]
    },
    {
      "cell_type": "markdown",
      "metadata": {},
      "source": [
        "### Actualizar datos en news "
      ]
    },
    {
      "cell_type": "code",
      "execution_count": 18,
      "metadata": {},
      "outputs": [
        {
          "data": {
            "text/plain": [
              "True"
            ]
          },
          "execution_count": 18,
          "metadata": {},
          "output_type": "execute_result"
        }
      ],
      "source": [
        "# Marcar registros de noticias como procesados y grabar sus embeddings, topicos, probs \n",
        "update_news( id_data, docs_embedding, topics, probs )"
      ]
    },
    {
      "cell_type": "markdown",
      "metadata": {},
      "source": [
        "### Grabar todos los registros en Topic y la actualizacion en news"
      ]
    },
    {
      "cell_type": "code",
      "execution_count": 19,
      "metadata": {},
      "outputs": [],
      "source": [
        "# Grabar todos los topicos en la base\n",
        "date_choice = choice[:4]+\"-\"+choice[4:6]+\"-\"+choice[6:8]\n",
        "\n",
        "for topic_id in topic_model.get_topics().keys():\n",
        "    if topic_id > -1:\n",
        "\n",
        "        topic_keywords_top  = top_keywords(topic_id, topic_model, PATH)\n",
        "        topic_entities_top  = top_entities(topic_id, topic_model, df_parquet)\n",
        "        topic_documents_title, threshold  = topic_documents(topic_id, topic_model, df_parquet)\n",
        "        id_best_doc, title_best_doc, best_doc = best_document(topic_id, topic_model, docs_embedding, id_data, title_data, data)\n",
        "        \n",
        "\n",
        "        topic_doc = Topic(\n",
        "            index = topic_id,\n",
        "            name =  get_topic_name(''.join(topic_documents_title), topic_id, topic_model, client),\n",
        "            vector = list(topic_model.topic_embeddings_[topic_id + 1 ]),\n",
        "            similarity_threshold = threshold,\n",
        "            created_at = datetime.now(),\n",
        "            from_date = parse(date_choice),\n",
        "            to_date = datetime.strptime(date_choice, '%Y-%m-%d') + timedelta(days=1),\n",
        "            keywords = topic_keywords_top,\n",
        "            entities = topic_entities_top,\n",
        "            id_best_doc = id_best_doc,\n",
        "            title_best_doc = title_best_doc,\n",
        "            best_doc = best_doc,\n",
        "        )\n",
        "\n",
        "        topic_doc.save()\n",
        "\n"
      ]
    },
    {
      "cell_type": "markdown",
      "metadata": {
        "id": "McTgk142N_BY"
      },
      "source": [
        "## Resultados y operaciones con el modelo"
      ]
    },
    {
      "cell_type": "code",
      "execution_count": 20,
      "metadata": {
        "id": "-oHKP19MN_BY"
      },
      "outputs": [
        {
          "name": "stdout",
          "output_type": "stream",
          "text": [
            "Cantidad de tópicos 19 (incluye topico -1)\n"
          ]
        }
      ],
      "source": [
        "print(f\"Cantidad de tópicos {len(set(topic_model.topics_))} (incluye topico -1)\")"
      ]
    },
    {
      "cell_type": "code",
      "execution_count": 21,
      "metadata": {
        "id": "qZusn9JUN_BY"
      },
      "outputs": [
        {
          "name": "stdout",
          "output_type": "stream",
          "text": [
            "Número de tópicos encontrados: 19 (incluye el topico -1)\n",
            " Topic  Count\n",
            "    -1    237\n",
            "     0    146\n",
            "     1     96\n",
            "     2     91\n",
            "     3     64\n",
            "     4     45\n",
            "     5     43\n",
            "     6     37\n",
            "     7     36\n",
            "     8     34\n",
            "     9     28\n",
            "    10     26\n",
            "    11     24\n",
            "    12     21\n",
            "    13     17\n",
            "    14     16\n",
            "    15     14\n",
            "    16     14\n",
            "    17     11\n"
          ]
        }
      ],
      "source": [
        "# Obtener documentos de cada tópico\n",
        "topic_freq = topic_model.get_topic_freq()\n",
        "\n",
        "# Imprimir el número de tópicos encontrados (incluyendo el tópico -1)\n",
        "num_topics = len(topic_freq)\n",
        "print(f\"Número de tópicos encontrados: {num_topics} (incluye el topico -1)\")\n",
        "\n",
        "# Imprimir la cant de documentos de cada tópico\n",
        "print(topic_freq.to_string(index=False))"
      ]
    },
    {
      "cell_type": "markdown",
      "metadata": {
        "id": "J8NuMpv7N_BZ"
      },
      "source": [
        "### Recuperar todos los topicos y sus etiquetas generadas por el modelo"
      ]
    },
    {
      "cell_type": "code",
      "execution_count": 22,
      "metadata": {
        "id": "QyGA8qOBN_BZ"
      },
      "outputs": [
        {
          "data": {
            "text/plain": [
              "['-1_años_selección_final',\n",
              " '0_víctima_policía_robo',\n",
              " '1_ciudad_agua_espacio',\n",
              " '2_dólar_bitcoin_dólares',\n",
              " '3_gobierno_ministro_reunión',\n",
              " '4_selección_selección argentina_títulos',\n",
              " '5_url ordinal_visible seccion_dato confiable',\n",
              " '6_temperaturas_invierno_temperatura',\n",
              " '7_dni terminados_julio_embarazo',\n",
              " '8_inversiones_gobernador_planta',\n",
              " '9_refuerzos_error_jugadores',\n",
              " '10_sociedades_sociedades anónimas_asociaciones civiles',\n",
              " '11_árbitro asistente_playoff_fecha',\n",
              " '12_ela_em_separación',\n",
              " '13_convención_mitin_asesinato',\n",
              " '14_banda_lomitos_pesca',\n",
              " '15_inteligencia_agencia_agencias',\n",
              " '16_bomberos_incendio_fuego',\n",
              " '17_francés_jugador_club']"
            ]
          },
          "execution_count": 22,
          "metadata": {},
          "output_type": "execute_result"
        }
      ],
      "source": [
        "topic_labels = topic_model.generate_topic_labels()\n",
        "topic_labels"
      ]
    },
    {
      "cell_type": "markdown",
      "metadata": {
        "id": "szmrk5CcN_BZ"
      },
      "source": [
        "### Buscar topicos ingresando un texto"
      ]
    },
    {
      "cell_type": "code",
      "execution_count": 23,
      "metadata": {
        "id": "IDMc0KZVN_BZ"
      },
      "outputs": [
        {
          "name": "stdout",
          "output_type": "stream",
          "text": [
            "([6, 2, 8, 1, 16], [0.5449766, 0.31518775, 0.25997964, 0.2517021, 0.23166545])\n"
          ]
        },
        {
          "data": {
            "text/plain": [
              "'6_temperaturas_invierno_temperatura'"
            ]
          },
          "execution_count": 23,
          "metadata": {},
          "output_type": "execute_result"
        }
      ],
      "source": [
        "topic_res = topic_model.find_topics(\"cambio climatico\")\n",
        "print(topic_res)\n",
        "topic_labels[topic_res[0][np.argmax(topic_res[1])]+1]"
      ]
    },
    {
      "cell_type": "markdown",
      "metadata": {},
      "source": [
        "## Elegir un topico para pruebas"
      ]
    },
    {
      "cell_type": "code",
      "execution_count": 24,
      "metadata": {},
      "outputs": [
        {
          "name": "stdout",
          "output_type": "stream",
          "text": [
            "Topico N°: 5 --> 5_url ordinal_visible seccion_dato confiable\n"
          ]
        }
      ],
      "source": [
        "# Obtener los n documentos de un tópico\n",
        "topic_id = np.random.randint(len(set(topic_model.topics_))-1) # Obtener un topico al azar\n",
        "print(f\"Topico N°: {topic_id} --> {topic_labels[topic_id+1]}\" )"
      ]
    },
    {
      "cell_type": "markdown",
      "metadata": {
        "id": "p4lJj7ySN_BZ"
      },
      "source": [
        "### Buscar los titulos de los primeros n documentos de un topico"
      ]
    },
    {
      "cell_type": "code",
      "execution_count": 25,
      "metadata": {
        "id": "mDaQzIduN_BZ"
      },
      "outputs": [
        {
          "name": "stdout",
          "output_type": "stream",
          "text": [
            "5 de 43 titulos de noticias encontrados en el tópico 5\n",
            "-  Farmacia de turno\n",
            "-  Museo GüemesLa Cámara de Diputados de Buenos Aires reconoció a Güemes como héroe nacional\n",
            "-  La princesa Leonor visita Galicia, su casa el próximo año: el abandono exprés de Juan Carlos I y un emotivo reencuentro\n",
            "-  El cronograma de los mercados itinerantes de Moreno para los próximos días\n",
            "-  Agenda\n"
          ]
        }
      ],
      "source": [
        "n_docs = 5  # N documentos a recuperar\n",
        "topic_docs_idx = [i for i, (doc, topic) in enumerate(zip(list(df_parquet['title']), topic_model.topics_)) if topic == topic_id]\n",
        "n_docs = n_docs if n_docs <= len(topic_docs_idx) else len(topic_docs_idx)\n",
        "\n",
        "print(f\"{n_docs} de {len(topic_docs_idx)} titulos de noticias encontrados en el tópico {topic_id:}\")\n",
        "for idx in topic_docs_idx[:n_docs]:\n",
        "    print(\"- \",df_parquet.iloc[idx]['title'])"
      ]
    },
    {
      "cell_type": "markdown",
      "metadata": {
        "id": "Oe7n7ofuN_Ba"
      },
      "source": [
        "#### Busqueda de documentos por topico, ordenados por mayor probabilidad"
      ]
    },
    {
      "cell_type": "code",
      "execution_count": 26,
      "metadata": {
        "id": "KFpaYMzpN_Ba"
      },
      "outputs": [
        {
          "name": "stdout",
          "output_type": "stream",
          "text": [
            "Topico N°: 5 --> 5_url ordinal_visible seccion_dato confiable\n",
            "43 docs encontrados\n"
          ]
        },
        {
          "data": {
            "text/html": [
              "<style type=\"text/css\">\n",
              "#T_fdb6e_row0_col1, #T_fdb6e_row1_col1, #T_fdb6e_row2_col1, #T_fdb6e_row3_col1, #T_fdb6e_row4_col1, #T_fdb6e_row5_col1, #T_fdb6e_row6_col1, #T_fdb6e_row7_col1, #T_fdb6e_row8_col1, #T_fdb6e_row9_col1, #T_fdb6e_row10_col1, #T_fdb6e_row11_col1, #T_fdb6e_row12_col1, #T_fdb6e_row13_col1, #T_fdb6e_row14_col1, #T_fdb6e_row15_col1, #T_fdb6e_row16_col1, #T_fdb6e_row17_col1, #T_fdb6e_row18_col1, #T_fdb6e_row19_col1, #T_fdb6e_row20_col1, #T_fdb6e_row21_col1, #T_fdb6e_row22_col1, #T_fdb6e_row23_col1, #T_fdb6e_row24_col1, #T_fdb6e_row25_col1, #T_fdb6e_row26_col1, #T_fdb6e_row27_col1, #T_fdb6e_row28_col1, #T_fdb6e_row29_col1, #T_fdb6e_row30_col1, #T_fdb6e_row31_col1, #T_fdb6e_row32_col1, #T_fdb6e_row33_col1, #T_fdb6e_row34_col1, #T_fdb6e_row35_col1, #T_fdb6e_row36_col1, #T_fdb6e_row37_col1, #T_fdb6e_row38_col1, #T_fdb6e_row39_col1, #T_fdb6e_row40_col1, #T_fdb6e_row41_col1, #T_fdb6e_row42_col1 {\n",
              "  text-align: left;\n",
              "}\n",
              "</style>\n",
              "<table id=\"T_fdb6e\">\n",
              "  <thead>\n",
              "    <tr>\n",
              "      <th class=\"blank level0\" >&nbsp;</th>\n",
              "      <th id=\"T_fdb6e_level0_col0\" class=\"col_heading level0 col0\" >ID</th>\n",
              "      <th id=\"T_fdb6e_level0_col1\" class=\"col_heading level0 col1\" >titulo</th>\n",
              "      <th id=\"T_fdb6e_level0_col2\" class=\"col_heading level0 col2\" >score</th>\n",
              "    </tr>\n",
              "  </thead>\n",
              "  <tbody>\n",
              "    <tr>\n",
              "      <th id=\"T_fdb6e_level0_row0\" class=\"row_heading level0 row0\" >21</th>\n",
              "      <td id=\"T_fdb6e_row0_col0\" class=\"data row0 col0\" >114829049</td>\n",
              "      <td id=\"T_fdb6e_row0_col1\" class=\"data row0 col1\" >Chubut recibió 15 ambulancias de la Provincia de Buenos Aires</td>\n",
              "      <td id=\"T_fdb6e_row0_col2\" class=\"data row0 col2\" >1.000000</td>\n",
              "    </tr>\n",
              "    <tr>\n",
              "      <th id=\"T_fdb6e_level0_row1\" class=\"row_heading level0 row1\" >14</th>\n",
              "      <td id=\"T_fdb6e_row1_col0\" class=\"data row1 col0\" >114878111</td>\n",
              "      <td id=\"T_fdb6e_row1_col1\" class=\"data row1 col1\" >Las apps de movilidad se amplían en Mendoza y un importante jugador llega a San Rafael</td>\n",
              "      <td id=\"T_fdb6e_row1_col2\" class=\"data row1 col2\" >1.000000</td>\n",
              "    </tr>\n",
              "    <tr>\n",
              "      <th id=\"T_fdb6e_level0_row2\" class=\"row_heading level0 row2\" >41</th>\n",
              "      <td id=\"T_fdb6e_row2_col0\" class=\"data row2 col0\" >114849918</td>\n",
              "      <td id=\"T_fdb6e_row2_col1\" class=\"data row2 col1\" >Entregan 149 escrituras a familias lujanenses</td>\n",
              "      <td id=\"T_fdb6e_row2_col2\" class=\"data row2 col2\" >1.000000</td>\n",
              "    </tr>\n",
              "    <tr>\n",
              "      <th id=\"T_fdb6e_level0_row3\" class=\"row_heading level0 row3\" >40</th>\n",
              "      <td id=\"T_fdb6e_row3_col0\" class=\"data row3 col0\" >114818914</td>\n",
              "      <td id=\"T_fdb6e_row3_col1\" class=\"data row3 col1\" >Talleres para diferentes etapas del embarazo y la familia</td>\n",
              "      <td id=\"T_fdb6e_row3_col2\" class=\"data row3 col2\" >1.000000</td>\n",
              "    </tr>\n",
              "    <tr>\n",
              "      <th id=\"T_fdb6e_level0_row4\" class=\"row_heading level0 row4\" >5</th>\n",
              "      <td id=\"T_fdb6e_row4_col0\" class=\"data row4 col0\" >114817993</td>\n",
              "      <td id=\"T_fdb6e_row4_col1\" class=\"data row4 col1\" >Xuxa pede o despejo de inquilino por dívida de R$ 14 mil, diz colunista</td>\n",
              "      <td id=\"T_fdb6e_row4_col2\" class=\"data row4 col2\" >1.000000</td>\n",
              "    </tr>\n",
              "    <tr>\n",
              "      <th id=\"T_fdb6e_level0_row5\" class=\"row_heading level0 row5\" >31</th>\n",
              "      <td id=\"T_fdb6e_row5_col0\" class=\"data row5 col0\" >114835295</td>\n",
              "      <td id=\"T_fdb6e_row5_col1\" class=\"data row5 col1\" >Seguí con \"LA GACETA Central\", con toda la información de Tucumán</td>\n",
              "      <td id=\"T_fdb6e_row5_col2\" class=\"data row5 col2\" >1.000000</td>\n",
              "    </tr>\n",
              "    <tr>\n",
              "      <th id=\"T_fdb6e_level0_row6\" class=\"row_heading level0 row6\" >29</th>\n",
              "      <td id=\"T_fdb6e_row6_col0\" class=\"data row6 col0\" >114851890</td>\n",
              "      <td id=\"T_fdb6e_row6_col1\" class=\"data row6 col1\" >TAPA Martes 16 de Julio de 2024</td>\n",
              "      <td id=\"T_fdb6e_row6_col2\" class=\"data row6 col2\" >1.000000</td>\n",
              "    </tr>\n",
              "    <tr>\n",
              "      <th id=\"T_fdb6e_level0_row7\" class=\"row_heading level0 row7\" >27</th>\n",
              "      <td id=\"T_fdb6e_row7_col0\" class=\"data row7 col0\" >114870623</td>\n",
              "      <td id=\"T_fdb6e_row7_col1\" class=\"data row7 col1\" >Biss participó del acto por el Día del Servicio Penitenciario Federal</td>\n",
              "      <td id=\"T_fdb6e_row7_col2\" class=\"data row7 col2\" >1.000000</td>\n",
              "    </tr>\n",
              "    <tr>\n",
              "      <th id=\"T_fdb6e_level0_row8\" class=\"row_heading level0 row8\" >25</th>\n",
              "      <td id=\"T_fdb6e_row8_col0\" class=\"data row8 col0\" >114847456</td>\n",
              "      <td id=\"T_fdb6e_row8_col1\" class=\"data row8 col1\" >Mauro Cezar: Ramon Díaz talvez seja uma versão argentina do Luxemburgo</td>\n",
              "      <td id=\"T_fdb6e_row8_col2\" class=\"data row8 col2\" >1.000000</td>\n",
              "    </tr>\n",
              "    <tr>\n",
              "      <th id=\"T_fdb6e_level0_row9\" class=\"row_heading level0 row9\" >22</th>\n",
              "      <td id=\"T_fdb6e_row9_col0\" class=\"data row9 col0\" >114850991</td>\n",
              "      <td id=\"T_fdb6e_row9_col1\" class=\"data row9 col1\" >Feria de emprendedores este viernes en el Paseo Evita</td>\n",
              "      <td id=\"T_fdb6e_row9_col2\" class=\"data row9 col2\" >1.000000</td>\n",
              "    </tr>\n",
              "    <tr>\n",
              "      <th id=\"T_fdb6e_level0_row10\" class=\"row_heading level0 row10\" >9</th>\n",
              "      <td id=\"T_fdb6e_row10_col0\" class=\"data row10 col0\" >114849648</td>\n",
              "      <td id=\"T_fdb6e_row10_col1\" class=\"data row10 col1\" >Lotes Financiados - Strobel Diamante - Clasionce</td>\n",
              "      <td id=\"T_fdb6e_row10_col2\" class=\"data row10 col2\" >0.984400</td>\n",
              "    </tr>\n",
              "    <tr>\n",
              "      <th id=\"T_fdb6e_level0_row11\" class=\"row_heading level0 row11\" >33</th>\n",
              "      <td id=\"T_fdb6e_row11_col0\" class=\"data row11 col0\" >114854936</td>\n",
              "      <td id=\"T_fdb6e_row11_col1\" class=\"data row11 col1\" >Sunchales: Atención de AFIP Rafaela</td>\n",
              "      <td id=\"T_fdb6e_row11_col2\" class=\"data row11 col2\" >0.981400</td>\n",
              "    </tr>\n",
              "    <tr>\n",
              "      <th id=\"T_fdb6e_level0_row12\" class=\"row_heading level0 row12\" >42</th>\n",
              "      <td id=\"T_fdb6e_row12_col0\" class=\"data row12 col0\" >114852595</td>\n",
              "      <td id=\"T_fdb6e_row12_col1\" class=\"data row12 col1\" >Fúnebres · Diario La Capital</td>\n",
              "      <td id=\"T_fdb6e_row12_col2\" class=\"data row12 col2\" >0.963400</td>\n",
              "    </tr>\n",
              "    <tr>\n",
              "      <th id=\"T_fdb6e_level0_row13\" class=\"row_heading level0 row13\" >35</th>\n",
              "      <td id=\"T_fdb6e_row13_col0\" class=\"data row13 col0\" >114874919</td>\n",
              "      <td id=\"T_fdb6e_row13_col1\" class=\"data row13 col1\" >Hasta el 17 continúa venta de libros:  GOYA SE CONSOLIDA COMO CENTRO CULTURAL: IMPRESIONES DE LA 6ª FERIA DEL LIBRO POR RUBÉN BISCEGLIA</td>\n",
              "      <td id=\"T_fdb6e_row13_col2\" class=\"data row13 col2\" >0.954500</td>\n",
              "    </tr>\n",
              "    <tr>\n",
              "      <th id=\"T_fdb6e_level0_row14\" class=\"row_heading level0 row14\" >38</th>\n",
              "      <td id=\"T_fdb6e_row14_col0\" class=\"data row14 col0\" >114830052</td>\n",
              "      <td id=\"T_fdb6e_row14_col1\" class=\"data row14 col1\" >Empresa de transporte busca personal técnico para el sector de Electricidad</td>\n",
              "      <td id=\"T_fdb6e_row14_col2\" class=\"data row14 col2\" >0.929000</td>\n",
              "    </tr>\n",
              "    <tr>\n",
              "      <th id=\"T_fdb6e_level0_row15\" class=\"row_heading level0 row15\" >28</th>\n",
              "      <td id=\"T_fdb6e_row15_col0\" class=\"data row15 col0\" >114872713</td>\n",
              "      <td id=\"T_fdb6e_row15_col1\" class=\"data row15 col1\" >Se realizará un curso de chacinados y embutidos caseros en Trelew</td>\n",
              "      <td id=\"T_fdb6e_row15_col2\" class=\"data row15 col2\" >0.927000</td>\n",
              "    </tr>\n",
              "    <tr>\n",
              "      <th id=\"T_fdb6e_level0_row16\" class=\"row_heading level0 row16\" >4</th>\n",
              "      <td id=\"T_fdb6e_row16_col0\" class=\"data row16 col0\" >114822948</td>\n",
              "      <td id=\"T_fdb6e_row16_col1\" class=\"data row16 col1\" >Agenda</td>\n",
              "      <td id=\"T_fdb6e_row16_col2\" class=\"data row16 col2\" >0.927000</td>\n",
              "    </tr>\n",
              "    <tr>\n",
              "      <th id=\"T_fdb6e_level0_row17\" class=\"row_heading level0 row17\" >15</th>\n",
              "      <td id=\"T_fdb6e_row17_col0\" class=\"data row17 col0\" >114849621</td>\n",
              "      <td id=\"T_fdb6e_row17_col1\" class=\"data row17 col1\" >REZO del Santo Rosario por NUESTROS hijos</td>\n",
              "      <td id=\"T_fdb6e_row17_col2\" class=\"data row17 col2\" >0.927000</td>\n",
              "    </tr>\n",
              "    <tr>\n",
              "      <th id=\"T_fdb6e_level0_row18\" class=\"row_heading level0 row18\" >37</th>\n",
              "      <td id=\"T_fdb6e_row18_col0\" class=\"data row18 col0\" >114802128</td>\n",
              "      <td id=\"T_fdb6e_row18_col1\" class=\"data row18 col1\" >Provincia entregó 90 equipos de radio a la Unidad Regional de Puerto Madryn</td>\n",
              "      <td id=\"T_fdb6e_row18_col2\" class=\"data row18 col2\" >0.922300</td>\n",
              "    </tr>\n",
              "    <tr>\n",
              "      <th id=\"T_fdb6e_level0_row19\" class=\"row_heading level0 row19\" >0</th>\n",
              "      <td id=\"T_fdb6e_row19_col0\" class=\"data row19 col0\" >114840111</td>\n",
              "      <td id=\"T_fdb6e_row19_col1\" class=\"data row19 col1\" >Farmacia de turno</td>\n",
              "      <td id=\"T_fdb6e_row19_col2\" class=\"data row19 col2\" >0.914800</td>\n",
              "    </tr>\n",
              "    <tr>\n",
              "      <th id=\"T_fdb6e_level0_row20\" class=\"row_heading level0 row20\" >13</th>\n",
              "      <td id=\"T_fdb6e_row20_col0\" class=\"data row20 col0\" >114880919</td>\n",
              "      <td id=\"T_fdb6e_row20_col1\" class=\"data row20 col1\" >Chocaron fuertemente dos autos en el comienzo de la autopista Rosario-Córdoba</td>\n",
              "      <td id=\"T_fdb6e_row20_col2\" class=\"data row20 col2\" >0.910000</td>\n",
              "    </tr>\n",
              "    <tr>\n",
              "      <th id=\"T_fdb6e_level0_row21\" class=\"row_heading level0 row21\" >39</th>\n",
              "      <td id=\"T_fdb6e_row21_col0\" class=\"data row21 col0\" >114805905</td>\n",
              "      <td id=\"T_fdb6e_row21_col1\" class=\"data row21 col1\" >Acceso Digital</td>\n",
              "      <td id=\"T_fdb6e_row21_col2\" class=\"data row21 col2\" >0.909700</td>\n",
              "    </tr>\n",
              "    <tr>\n",
              "      <th id=\"T_fdb6e_level0_row22\" class=\"row_heading level0 row22\" >30</th>\n",
              "      <td id=\"T_fdb6e_row22_col0\" class=\"data row22 col0\" >114853334</td>\n",
              "      <td id=\"T_fdb6e_row22_col1\" class=\"data row22 col1\" >Invitan a disfrutar de las vacaciones de invierno en el Centro Cultural Provincial</td>\n",
              "      <td id=\"T_fdb6e_row22_col2\" class=\"data row22 col2\" >0.907100</td>\n",
              "    </tr>\n",
              "    <tr>\n",
              "      <th id=\"T_fdb6e_level0_row23\" class=\"row_heading level0 row23\" >11</th>\n",
              "      <td id=\"T_fdb6e_row23_col0\" class=\"data row23 col0\" >114817749</td>\n",
              "      <td id=\"T_fdb6e_row23_col1\" class=\"data row23 col1\" >INSSSEP amplía y democratiza su red de institutos médicos en Buenos Aires</td>\n",
              "      <td id=\"T_fdb6e_row23_col2\" class=\"data row23 col2\" >0.907100</td>\n",
              "    </tr>\n",
              "    <tr>\n",
              "      <th id=\"T_fdb6e_level0_row24\" class=\"row_heading level0 row24\" >20</th>\n",
              "      <td id=\"T_fdb6e_row24_col0\" class=\"data row24 col0\" >114853339</td>\n",
              "      <td id=\"T_fdb6e_row24_col1\" class=\"data row24 col1\" >Corte de agua en el Parque Liviano de Madryn</td>\n",
              "      <td id=\"T_fdb6e_row24_col2\" class=\"data row24 col2\" >0.900000</td>\n",
              "    </tr>\n",
              "    <tr>\n",
              "      <th id=\"T_fdb6e_level0_row25\" class=\"row_heading level0 row25\" >19</th>\n",
              "      <td id=\"T_fdb6e_row25_col0\" class=\"data row25 col0\" >114845286</td>\n",
              "      <td id=\"T_fdb6e_row25_col1\" class=\"data row25 col1\" >El ISJ implementa la receta digital para todos los afiliados – Perico Noticias</td>\n",
              "      <td id=\"T_fdb6e_row25_col2\" class=\"data row25 col2\" >0.889200</td>\n",
              "    </tr>\n",
              "    <tr>\n",
              "      <th id=\"T_fdb6e_level0_row26\" class=\"row_heading level0 row26\" >34</th>\n",
              "      <td id=\"T_fdb6e_row26_col0\" class=\"data row26 col0\" >114839781</td>\n",
              "      <td id=\"T_fdb6e_row26_col1\" class=\"data row26 col1\" >Despapelización: el Tribunal de Cuentas realiza notificaciones electrónicas</td>\n",
              "      <td id=\"T_fdb6e_row26_col2\" class=\"data row26 col2\" >0.886600</td>\n",
              "    </tr>\n",
              "    <tr>\n",
              "      <th id=\"T_fdb6e_level0_row27\" class=\"row_heading level0 row27\" >23</th>\n",
              "      <td id=\"T_fdb6e_row27_col0\" class=\"data row27 col0\" >114820133</td>\n",
              "      <td id=\"T_fdb6e_row27_col1\" class=\"data row27 col1\" >Cayo Levantado, el hotel de lujo sostenible en el paraíso de República Dominicana</td>\n",
              "      <td id=\"T_fdb6e_row27_col2\" class=\"data row27 col2\" >0.882600</td>\n",
              "    </tr>\n",
              "    <tr>\n",
              "      <th id=\"T_fdb6e_level0_row28\" class=\"row_heading level0 row28\" >10</th>\n",
              "      <td id=\"T_fdb6e_row28_col0\" class=\"data row28 col0\" >114845659</td>\n",
              "      <td id=\"T_fdb6e_row28_col1\" class=\"data row28 col1\" >Por las heladas, los precios de las verduras aumentaron entre un 15% y un 40%</td>\n",
              "      <td id=\"T_fdb6e_row28_col2\" class=\"data row28 col2\" >0.873200</td>\n",
              "    </tr>\n",
              "    <tr>\n",
              "      <th id=\"T_fdb6e_level0_row29\" class=\"row_heading level0 row29\" >26</th>\n",
              "      <td id=\"T_fdb6e_row29_col0\" class=\"data row29 col0\" >114880930</td>\n",
              "      <td id=\"T_fdb6e_row29_col1\" class=\"data row29 col1\" >Patricia Baca Urquiza es la nueva directora del ballet oficial de Córdoba</td>\n",
              "      <td id=\"T_fdb6e_row29_col2\" class=\"data row29 col2\" >0.853300</td>\n",
              "    </tr>\n",
              "    <tr>\n",
              "      <th id=\"T_fdb6e_level0_row30\" class=\"row_heading level0 row30\" >8</th>\n",
              "      <td id=\"T_fdb6e_row30_col0\" class=\"data row30 col0\" >114840465</td>\n",
              "      <td id=\"T_fdb6e_row30_col1\" class=\"data row30 col1\" >Descubriendo el universo del vermut en Pilar</td>\n",
              "      <td id=\"T_fdb6e_row30_col2\" class=\"data row30 col2\" >0.848400</td>\n",
              "    </tr>\n",
              "    <tr>\n",
              "      <th id=\"T_fdb6e_level0_row31\" class=\"row_heading level0 row31\" >24</th>\n",
              "      <td id=\"T_fdb6e_row31_col0\" class=\"data row31 col0\" >114839375</td>\n",
              "      <td id=\"T_fdb6e_row31_col1\" class=\"data row31 col1\" >EDESA promueve los medios electrónicos para el pago de facturas de energía</td>\n",
              "      <td id=\"T_fdb6e_row31_col2\" class=\"data row31 col2\" >0.847900</td>\n",
              "    </tr>\n",
              "    <tr>\n",
              "      <th id=\"T_fdb6e_level0_row32\" class=\"row_heading level0 row32\" >3</th>\n",
              "      <td id=\"T_fdb6e_row32_col0\" class=\"data row32 col0\" >114851103</td>\n",
              "      <td id=\"T_fdb6e_row32_col1\" class=\"data row32 col1\" >El cronograma de los mercados itinerantes de Moreno para los próximos días</td>\n",
              "      <td id=\"T_fdb6e_row32_col2\" class=\"data row32 col2\" >0.837300</td>\n",
              "    </tr>\n",
              "    <tr>\n",
              "      <th id=\"T_fdb6e_level0_row33\" class=\"row_heading level0 row33\" >36</th>\n",
              "      <td id=\"T_fdb6e_row33_col0\" class=\"data row33 col0\" >114819505</td>\n",
              "      <td id=\"T_fdb6e_row33_col1\" class=\"data row33 col1\" >Un hombre resultó herido tras un fuerte choque en el Cordón Forestal</td>\n",
              "      <td id=\"T_fdb6e_row33_col2\" class=\"data row33 col2\" >0.832000</td>\n",
              "    </tr>\n",
              "    <tr>\n",
              "      <th id=\"T_fdb6e_level0_row34\" class=\"row_heading level0 row34\" >1</th>\n",
              "      <td id=\"T_fdb6e_row34_col0\" class=\"data row34 col0\" >114855973</td>\n",
              "      <td id=\"T_fdb6e_row34_col1\" class=\"data row34 col1\" >Museo GüemesLa Cámara de Diputados de Buenos Aires reconoció a Güemes como héroe nacional</td>\n",
              "      <td id=\"T_fdb6e_row34_col2\" class=\"data row34 col2\" >0.830200</td>\n",
              "    </tr>\n",
              "    <tr>\n",
              "      <th id=\"T_fdb6e_level0_row35\" class=\"row_heading level0 row35\" >12</th>\n",
              "      <td id=\"T_fdb6e_row35_col0\" class=\"data row35 col0\" >114850345</td>\n",
              "      <td id=\"T_fdb6e_row35_col1\" class=\"data row35 col1\" >Grafología: qué significa que una persona firma con su nombre completo</td>\n",
              "      <td id=\"T_fdb6e_row35_col2\" class=\"data row35 col2\" >0.826300</td>\n",
              "    </tr>\n",
              "    <tr>\n",
              "      <th id=\"T_fdb6e_level0_row36\" class=\"row_heading level0 row36\" >16</th>\n",
              "      <td id=\"T_fdb6e_row36_col0\" class=\"data row36 col0\" >114882799</td>\n",
              "      <td id=\"T_fdb6e_row36_col1\" class=\"data row36 col1\" >SE VENDE AMPLIA CASA -ROS. DEL TALA - Clasionce</td>\n",
              "      <td id=\"T_fdb6e_row36_col2\" class=\"data row36 col2\" >0.824400</td>\n",
              "    </tr>\n",
              "    <tr>\n",
              "      <th id=\"T_fdb6e_level0_row37\" class=\"row_heading level0 row37\" >17</th>\n",
              "      <td id=\"T_fdb6e_row37_col0\" class=\"data row37 col0\" >114878510</td>\n",
              "      <td id=\"T_fdb6e_row37_col1\" class=\"data row37 col1\" >FIAT CRONOS 1.3 ¡¡0KM!! Recibo vehículos. - Clasionce</td>\n",
              "      <td id=\"T_fdb6e_row37_col2\" class=\"data row37 col2\" >0.794300</td>\n",
              "    </tr>\n",
              "    <tr>\n",
              "      <th id=\"T_fdb6e_level0_row38\" class=\"row_heading level0 row38\" >6</th>\n",
              "      <td id=\"T_fdb6e_row38_col0\" class=\"data row38 col0\" >114871588</td>\n",
              "      <td id=\"T_fdb6e_row38_col1\" class=\"data row38 col1\" >\"Yo te vi sufrir\": La emotiva carta de Jorgelina Cardoso a Di María</td>\n",
              "      <td id=\"T_fdb6e_row38_col2\" class=\"data row38 col2\" >0.779500</td>\n",
              "    </tr>\n",
              "    <tr>\n",
              "      <th id=\"T_fdb6e_level0_row39\" class=\"row_heading level0 row39\" >18</th>\n",
              "      <td id=\"T_fdb6e_row39_col0\" class=\"data row39 col0\" >114853540</td>\n",
              "      <td id=\"T_fdb6e_row39_col1\" class=\"data row39 col1\" >Guinda: el color que arrasa</td>\n",
              "      <td id=\"T_fdb6e_row39_col2\" class=\"data row39 col2\" >0.776800</td>\n",
              "    </tr>\n",
              "    <tr>\n",
              "      <th id=\"T_fdb6e_level0_row40\" class=\"row_heading level0 row40\" >2</th>\n",
              "      <td id=\"T_fdb6e_row40_col0\" class=\"data row40 col0\" >114839249</td>\n",
              "      <td id=\"T_fdb6e_row40_col1\" class=\"data row40 col1\" >La princesa Leonor visita Galicia, su casa el próximo año: el abandono exprés de Juan Carlos I y un emotivo reencuentro</td>\n",
              "      <td id=\"T_fdb6e_row40_col2\" class=\"data row40 col2\" >0.770800</td>\n",
              "    </tr>\n",
              "    <tr>\n",
              "      <th id=\"T_fdb6e_level0_row41\" class=\"row_heading level0 row41\" >7</th>\n",
              "      <td id=\"T_fdb6e_row41_col0\" class=\"data row41 col0\" >114838486</td>\n",
              "      <td id=\"T_fdb6e_row41_col1\" class=\"data row41 col1\" >Llega el \"Operativo DNI\" a los barrios Colonia Lola, Observatorio y Campo de la Ribera</td>\n",
              "      <td id=\"T_fdb6e_row41_col2\" class=\"data row41 col2\" >0.761500</td>\n",
              "    </tr>\n",
              "    <tr>\n",
              "      <th id=\"T_fdb6e_level0_row42\" class=\"row_heading level0 row42\" >32</th>\n",
              "      <td id=\"T_fdb6e_row42_col0\" class=\"data row42 col0\" >114823025</td>\n",
              "      <td id=\"T_fdb6e_row42_col1\" class=\"data row42 col1\" >¿La IA puede ayudar a tomar mejores decisiones?</td>\n",
              "      <td id=\"T_fdb6e_row42_col2\" class=\"data row42 col2\" >0.740300</td>\n",
              "    </tr>\n",
              "  </tbody>\n",
              "</table>\n"
            ],
            "text/plain": [
              "<pandas.io.formats.style.Styler at 0x22ac751cf10>"
            ]
          },
          "execution_count": 26,
          "metadata": {},
          "output_type": "execute_result"
        }
      ],
      "source": [
        "docs_per_topics = [i for i, x in enumerate(topic_model.topics_) if x == topic_id]\n",
        "score_docs = topic_model.probabilities_[docs_per_topics]\n",
        "\n",
        "print(f\"Topico N°: {topic_id} --> {topic_labels[topic_id+1]}\" )\n",
        "\n",
        "reg_data = []\n",
        "for i, doc in enumerate(docs_per_topics):\n",
        "    reg_data.append([df_parquet.iloc[doc].asset_id, df_parquet.iloc[doc].title, round(score_docs[i],4)])\n",
        "\n",
        "df_query = pd.DataFrame(reg_data, columns=['ID','titulo','score'])\n",
        "print(len(df_query), \"docs encontrados\")\n",
        "df_query.sort_values('score', ascending=False).style.set_properties(subset=['titulo'], **{'text-align': 'left'})"
      ]
    },
    {
      "cell_type": "markdown",
      "metadata": {
        "id": "G9oQK911N_Bf"
      },
      "source": [
        "### Criterio de corte (umbral)\n",
        "El criterio de corte utilizado para filtrar las noticias que pertenecen a un topico es la \"media\""
      ]
    },
    {
      "cell_type": "code",
      "execution_count": 27,
      "metadata": {
        "id": "tAt7-_Q8N_Bf"
      },
      "outputs": [
        {
          "data": {
            "image/png": "[encoded data removed]",
            "text/plain": [
              "<Figure size 640x480 with 1 Axes>"
            ]
          },
          "metadata": {},
          "output_type": "display_data"
        }
      ],
      "source": [
        "# Calcular la media, el desvío estándar\n",
        "\n",
        "mean = np.mean([fila[2] for fila in reg_data])\n",
        "std_dev = np.std([fila[2] for fila in reg_data])\n",
        "\n",
        "# Crear el histograma\n",
        "plt.hist([fila[2] for fila in reg_data], bins=10, edgecolor='black')\n",
        "\n",
        "# Añadir líneas para la media, la moda y el desvío estándar\n",
        "plt.axvline(mean, color='r', linestyle='dashed', linewidth=1, label=f'Media: {mean:.2f}')\n",
        "plt.axvline(mean - std_dev, color='b', linestyle='dashed', linewidth=1, label=f'-1 STD: {mean - std_dev:.2f}')\n",
        "\n",
        "\n",
        "# Añadir títulos y etiquetas\n",
        "plt.title(f'Histograma de probabilidades topico: {topic_id}')\n",
        "plt.xlabel('Valor')\n",
        "plt.ylabel('Frecuencia')\n",
        "plt.legend()\n",
        "\n",
        "# Mostrar el gráfico\n",
        "plt.show()"
      ]
    },
    {
      "cell_type": "code",
      "execution_count": 28,
      "metadata": {},
      "outputs": [
        {
          "name": "stdout",
          "output_type": "stream",
          "text": [
            "Topico N°: 5 --> 5_url ordinal_visible seccion_dato confiable\n",
            "Umbral de corte 0.9027744186046512\n"
          ]
        },
        {
          "data": {
            "text/html": [
              "<style type=\"text/css\">\n",
              "#T_207b8_row0_col0, #T_207b8_row0_col2, #T_207b8_row1_col0, #T_207b8_row1_col2, #T_207b8_row2_col0, #T_207b8_row2_col2, #T_207b8_row3_col0, #T_207b8_row3_col2, #T_207b8_row4_col0, #T_207b8_row4_col2, #T_207b8_row5_col0, #T_207b8_row5_col2, #T_207b8_row6_col0, #T_207b8_row6_col2, #T_207b8_row7_col0, #T_207b8_row7_col2, #T_207b8_row8_col0, #T_207b8_row8_col2, #T_207b8_row9_col0, #T_207b8_row9_col2, #T_207b8_row10_col0, #T_207b8_row10_col2, #T_207b8_row11_col0, #T_207b8_row11_col2, #T_207b8_row12_col0, #T_207b8_row12_col2, #T_207b8_row13_col0, #T_207b8_row13_col2, #T_207b8_row14_col0, #T_207b8_row14_col2, #T_207b8_row15_col0, #T_207b8_row15_col2, #T_207b8_row16_col0, #T_207b8_row16_col2, #T_207b8_row17_col0, #T_207b8_row17_col2, #T_207b8_row18_col0, #T_207b8_row18_col2, #T_207b8_row19_col0, #T_207b8_row19_col2, #T_207b8_row20_col0, #T_207b8_row20_col2, #T_207b8_row21_col0, #T_207b8_row21_col2, #T_207b8_row22_col0, #T_207b8_row22_col2, #T_207b8_row23_col0, #T_207b8_row23_col2 {\n",
              "  color: cyan;\n",
              "}\n",
              "#T_207b8_row0_col1, #T_207b8_row1_col1, #T_207b8_row2_col1, #T_207b8_row3_col1, #T_207b8_row4_col1, #T_207b8_row5_col1, #T_207b8_row6_col1, #T_207b8_row7_col1, #T_207b8_row8_col1, #T_207b8_row9_col1, #T_207b8_row10_col1, #T_207b8_row11_col1, #T_207b8_row12_col1, #T_207b8_row13_col1, #T_207b8_row14_col1, #T_207b8_row15_col1, #T_207b8_row16_col1, #T_207b8_row17_col1, #T_207b8_row18_col1, #T_207b8_row19_col1, #T_207b8_row20_col1, #T_207b8_row21_col1, #T_207b8_row22_col1, #T_207b8_row23_col1 {\n",
              "  color: cyan;\n",
              "  text-align: left;\n",
              "}\n",
              "#T_207b8_row24_col1, #T_207b8_row25_col1, #T_207b8_row26_col1, #T_207b8_row27_col1, #T_207b8_row28_col1, #T_207b8_row29_col1, #T_207b8_row30_col1, #T_207b8_row31_col1, #T_207b8_row32_col1, #T_207b8_row33_col1, #T_207b8_row34_col1, #T_207b8_row35_col1, #T_207b8_row36_col1, #T_207b8_row37_col1, #T_207b8_row38_col1, #T_207b8_row39_col1, #T_207b8_row40_col1, #T_207b8_row41_col1, #T_207b8_row42_col1 {\n",
              "  text-align: left;\n",
              "}\n",
              "</style>\n",
              "<table id=\"T_207b8\">\n",
              "  <thead>\n",
              "    <tr>\n",
              "      <th class=\"blank level0\" >&nbsp;</th>\n",
              "      <th id=\"T_207b8_level0_col0\" class=\"col_heading level0 col0\" >ID</th>\n",
              "      <th id=\"T_207b8_level0_col1\" class=\"col_heading level0 col1\" >titulo</th>\n",
              "      <th id=\"T_207b8_level0_col2\" class=\"col_heading level0 col2\" >score</th>\n",
              "    </tr>\n",
              "  </thead>\n",
              "  <tbody>\n",
              "    <tr>\n",
              "      <th id=\"T_207b8_level0_row0\" class=\"row_heading level0 row0\" >21</th>\n",
              "      <td id=\"T_207b8_row0_col0\" class=\"data row0 col0\" >114829049</td>\n",
              "      <td id=\"T_207b8_row0_col1\" class=\"data row0 col1\" >Chubut recibió 15 ambulancias de la Provincia de Buenos Aires</td>\n",
              "      <td id=\"T_207b8_row0_col2\" class=\"data row0 col2\" >1.000000</td>\n",
              "    </tr>\n",
              "    <tr>\n",
              "      <th id=\"T_207b8_level0_row1\" class=\"row_heading level0 row1\" >14</th>\n",
              "      <td id=\"T_207b8_row1_col0\" class=\"data row1 col0\" >114878111</td>\n",
              "      <td id=\"T_207b8_row1_col1\" class=\"data row1 col1\" >Las apps de movilidad se amplían en Mendoza y un importante jugador llega a San Rafael</td>\n",
              "      <td id=\"T_207b8_row1_col2\" class=\"data row1 col2\" >1.000000</td>\n",
              "    </tr>\n",
              "    <tr>\n",
              "      <th id=\"T_207b8_level0_row2\" class=\"row_heading level0 row2\" >41</th>\n",
              "      <td id=\"T_207b8_row2_col0\" class=\"data row2 col0\" >114849918</td>\n",
              "      <td id=\"T_207b8_row2_col1\" class=\"data row2 col1\" >Entregan 149 escrituras a familias lujanenses</td>\n",
              "      <td id=\"T_207b8_row2_col2\" class=\"data row2 col2\" >1.000000</td>\n",
              "    </tr>\n",
              "    <tr>\n",
              "      <th id=\"T_207b8_level0_row3\" class=\"row_heading level0 row3\" >40</th>\n",
              "      <td id=\"T_207b8_row3_col0\" class=\"data row3 col0\" >114818914</td>\n",
              "      <td id=\"T_207b8_row3_col1\" class=\"data row3 col1\" >Talleres para diferentes etapas del embarazo y la familia</td>\n",
              "      <td id=\"T_207b8_row3_col2\" class=\"data row3 col2\" >1.000000</td>\n",
              "    </tr>\n",
              "    <tr>\n",
              "      <th id=\"T_207b8_level0_row4\" class=\"row_heading level0 row4\" >5</th>\n",
              "      <td id=\"T_207b8_row4_col0\" class=\"data row4 col0\" >114817993</td>\n",
              "      <td id=\"T_207b8_row4_col1\" class=\"data row4 col1\" >Xuxa pede o despejo de inquilino por dívida de R$ 14 mil, diz colunista</td>\n",
              "      <td id=\"T_207b8_row4_col2\" class=\"data row4 col2\" >1.000000</td>\n",
              "    </tr>\n",
              "    <tr>\n",
              "      <th id=\"T_207b8_level0_row5\" class=\"row_heading level0 row5\" >31</th>\n",
              "      <td id=\"T_207b8_row5_col0\" class=\"data row5 col0\" >114835295</td>\n",
              "      <td id=\"T_207b8_row5_col1\" class=\"data row5 col1\" >Seguí con \"LA GACETA Central\", con toda la información de Tucumán</td>\n",
              "      <td id=\"T_207b8_row5_col2\" class=\"data row5 col2\" >1.000000</td>\n",
              "    </tr>\n",
              "    <tr>\n",
              "      <th id=\"T_207b8_level0_row6\" class=\"row_heading level0 row6\" >29</th>\n",
              "      <td id=\"T_207b8_row6_col0\" class=\"data row6 col0\" >114851890</td>\n",
              "      <td id=\"T_207b8_row6_col1\" class=\"data row6 col1\" >TAPA Martes 16 de Julio de 2024</td>\n",
              "      <td id=\"T_207b8_row6_col2\" class=\"data row6 col2\" >1.000000</td>\n",
              "    </tr>\n",
              "    <tr>\n",
              "      <th id=\"T_207b8_level0_row7\" class=\"row_heading level0 row7\" >27</th>\n",
              "      <td id=\"T_207b8_row7_col0\" class=\"data row7 col0\" >114870623</td>\n",
              "      <td id=\"T_207b8_row7_col1\" class=\"data row7 col1\" >Biss participó del acto por el Día del Servicio Penitenciario Federal</td>\n",
              "      <td id=\"T_207b8_row7_col2\" class=\"data row7 col2\" >1.000000</td>\n",
              "    </tr>\n",
              "    <tr>\n",
              "      <th id=\"T_207b8_level0_row8\" class=\"row_heading level0 row8\" >25</th>\n",
              "      <td id=\"T_207b8_row8_col0\" class=\"data row8 col0\" >114847456</td>\n",
              "      <td id=\"T_207b8_row8_col1\" class=\"data row8 col1\" >Mauro Cezar: Ramon Díaz talvez seja uma versão argentina do Luxemburgo</td>\n",
              "      <td id=\"T_207b8_row8_col2\" class=\"data row8 col2\" >1.000000</td>\n",
              "    </tr>\n",
              "    <tr>\n",
              "      <th id=\"T_207b8_level0_row9\" class=\"row_heading level0 row9\" >22</th>\n",
              "      <td id=\"T_207b8_row9_col0\" class=\"data row9 col0\" >114850991</td>\n",
              "      <td id=\"T_207b8_row9_col1\" class=\"data row9 col1\" >Feria de emprendedores este viernes en el Paseo Evita</td>\n",
              "      <td id=\"T_207b8_row9_col2\" class=\"data row9 col2\" >1.000000</td>\n",
              "    </tr>\n",
              "    <tr>\n",
              "      <th id=\"T_207b8_level0_row10\" class=\"row_heading level0 row10\" >9</th>\n",
              "      <td id=\"T_207b8_row10_col0\" class=\"data row10 col0\" >114849648</td>\n",
              "      <td id=\"T_207b8_row10_col1\" class=\"data row10 col1\" >Lotes Financiados - Strobel Diamante - Clasionce</td>\n",
              "      <td id=\"T_207b8_row10_col2\" class=\"data row10 col2\" >0.984400</td>\n",
              "    </tr>\n",
              "    <tr>\n",
              "      <th id=\"T_207b8_level0_row11\" class=\"row_heading level0 row11\" >33</th>\n",
              "      <td id=\"T_207b8_row11_col0\" class=\"data row11 col0\" >114854936</td>\n",
              "      <td id=\"T_207b8_row11_col1\" class=\"data row11 col1\" >Sunchales: Atención de AFIP Rafaela</td>\n",
              "      <td id=\"T_207b8_row11_col2\" class=\"data row11 col2\" >0.981400</td>\n",
              "    </tr>\n",
              "    <tr>\n",
              "      <th id=\"T_207b8_level0_row12\" class=\"row_heading level0 row12\" >42</th>\n",
              "      <td id=\"T_207b8_row12_col0\" class=\"data row12 col0\" >114852595</td>\n",
              "      <td id=\"T_207b8_row12_col1\" class=\"data row12 col1\" >Fúnebres · Diario La Capital</td>\n",
              "      <td id=\"T_207b8_row12_col2\" class=\"data row12 col2\" >0.963400</td>\n",
              "    </tr>\n",
              "    <tr>\n",
              "      <th id=\"T_207b8_level0_row13\" class=\"row_heading level0 row13\" >35</th>\n",
              "      <td id=\"T_207b8_row13_col0\" class=\"data row13 col0\" >114874919</td>\n",
              "      <td id=\"T_207b8_row13_col1\" class=\"data row13 col1\" >Hasta el 17 continúa venta de libros:  GOYA SE CONSOLIDA COMO CENTRO CULTURAL: IMPRESIONES DE LA 6ª FERIA DEL LIBRO POR RUBÉN BISCEGLIA</td>\n",
              "      <td id=\"T_207b8_row13_col2\" class=\"data row13 col2\" >0.954500</td>\n",
              "    </tr>\n",
              "    <tr>\n",
              "      <th id=\"T_207b8_level0_row14\" class=\"row_heading level0 row14\" >38</th>\n",
              "      <td id=\"T_207b8_row14_col0\" class=\"data row14 col0\" >114830052</td>\n",
              "      <td id=\"T_207b8_row14_col1\" class=\"data row14 col1\" >Empresa de transporte busca personal técnico para el sector de Electricidad</td>\n",
              "      <td id=\"T_207b8_row14_col2\" class=\"data row14 col2\" >0.929000</td>\n",
              "    </tr>\n",
              "    <tr>\n",
              "      <th id=\"T_207b8_level0_row15\" class=\"row_heading level0 row15\" >28</th>\n",
              "      <td id=\"T_207b8_row15_col0\" class=\"data row15 col0\" >114872713</td>\n",
              "      <td id=\"T_207b8_row15_col1\" class=\"data row15 col1\" >Se realizará un curso de chacinados y embutidos caseros en Trelew</td>\n",
              "      <td id=\"T_207b8_row15_col2\" class=\"data row15 col2\" >0.927000</td>\n",
              "    </tr>\n",
              "    <tr>\n",
              "      <th id=\"T_207b8_level0_row16\" class=\"row_heading level0 row16\" >4</th>\n",
              "      <td id=\"T_207b8_row16_col0\" class=\"data row16 col0\" >114822948</td>\n",
              "      <td id=\"T_207b8_row16_col1\" class=\"data row16 col1\" >Agenda</td>\n",
              "      <td id=\"T_207b8_row16_col2\" class=\"data row16 col2\" >0.927000</td>\n",
              "    </tr>\n",
              "    <tr>\n",
              "      <th id=\"T_207b8_level0_row17\" class=\"row_heading level0 row17\" >15</th>\n",
              "      <td id=\"T_207b8_row17_col0\" class=\"data row17 col0\" >114849621</td>\n",
              "      <td id=\"T_207b8_row17_col1\" class=\"data row17 col1\" >REZO del Santo Rosario por NUESTROS hijos</td>\n",
              "      <td id=\"T_207b8_row17_col2\" class=\"data row17 col2\" >0.927000</td>\n",
              "    </tr>\n",
              "    <tr>\n",
              "      <th id=\"T_207b8_level0_row18\" class=\"row_heading level0 row18\" >37</th>\n",
              "      <td id=\"T_207b8_row18_col0\" class=\"data row18 col0\" >114802128</td>\n",
              "      <td id=\"T_207b8_row18_col1\" class=\"data row18 col1\" >Provincia entregó 90 equipos de radio a la Unidad Regional de Puerto Madryn</td>\n",
              "      <td id=\"T_207b8_row18_col2\" class=\"data row18 col2\" >0.922300</td>\n",
              "    </tr>\n",
              "    <tr>\n",
              "      <th id=\"T_207b8_level0_row19\" class=\"row_heading level0 row19\" >0</th>\n",
              "      <td id=\"T_207b8_row19_col0\" class=\"data row19 col0\" >114840111</td>\n",
              "      <td id=\"T_207b8_row19_col1\" class=\"data row19 col1\" >Farmacia de turno</td>\n",
              "      <td id=\"T_207b8_row19_col2\" class=\"data row19 col2\" >0.914800</td>\n",
              "    </tr>\n",
              "    <tr>\n",
              "      <th id=\"T_207b8_level0_row20\" class=\"row_heading level0 row20\" >13</th>\n",
              "      <td id=\"T_207b8_row20_col0\" class=\"data row20 col0\" >114880919</td>\n",
              "      <td id=\"T_207b8_row20_col1\" class=\"data row20 col1\" >Chocaron fuertemente dos autos en el comienzo de la autopista Rosario-Córdoba</td>\n",
              "      <td id=\"T_207b8_row20_col2\" class=\"data row20 col2\" >0.910000</td>\n",
              "    </tr>\n",
              "    <tr>\n",
              "      <th id=\"T_207b8_level0_row21\" class=\"row_heading level0 row21\" >39</th>\n",
              "      <td id=\"T_207b8_row21_col0\" class=\"data row21 col0\" >114805905</td>\n",
              "      <td id=\"T_207b8_row21_col1\" class=\"data row21 col1\" >Acceso Digital</td>\n",
              "      <td id=\"T_207b8_row21_col2\" class=\"data row21 col2\" >0.909700</td>\n",
              "    </tr>\n",
              "    <tr>\n",
              "      <th id=\"T_207b8_level0_row22\" class=\"row_heading level0 row22\" >30</th>\n",
              "      <td id=\"T_207b8_row22_col0\" class=\"data row22 col0\" >114853334</td>\n",
              "      <td id=\"T_207b8_row22_col1\" class=\"data row22 col1\" >Invitan a disfrutar de las vacaciones de invierno en el Centro Cultural Provincial</td>\n",
              "      <td id=\"T_207b8_row22_col2\" class=\"data row22 col2\" >0.907100</td>\n",
              "    </tr>\n",
              "    <tr>\n",
              "      <th id=\"T_207b8_level0_row23\" class=\"row_heading level0 row23\" >11</th>\n",
              "      <td id=\"T_207b8_row23_col0\" class=\"data row23 col0\" >114817749</td>\n",
              "      <td id=\"T_207b8_row23_col1\" class=\"data row23 col1\" >INSSSEP amplía y democratiza su red de institutos médicos en Buenos Aires</td>\n",
              "      <td id=\"T_207b8_row23_col2\" class=\"data row23 col2\" >0.907100</td>\n",
              "    </tr>\n",
              "    <tr>\n",
              "      <th id=\"T_207b8_level0_row24\" class=\"row_heading level0 row24\" >20</th>\n",
              "      <td id=\"T_207b8_row24_col0\" class=\"data row24 col0\" >114853339</td>\n",
              "      <td id=\"T_207b8_row24_col1\" class=\"data row24 col1\" >Corte de agua en el Parque Liviano de Madryn</td>\n",
              "      <td id=\"T_207b8_row24_col2\" class=\"data row24 col2\" >0.900000</td>\n",
              "    </tr>\n",
              "    <tr>\n",
              "      <th id=\"T_207b8_level0_row25\" class=\"row_heading level0 row25\" >19</th>\n",
              "      <td id=\"T_207b8_row25_col0\" class=\"data row25 col0\" >114845286</td>\n",
              "      <td id=\"T_207b8_row25_col1\" class=\"data row25 col1\" >El ISJ implementa la receta digital para todos los afiliados – Perico Noticias</td>\n",
              "      <td id=\"T_207b8_row25_col2\" class=\"data row25 col2\" >0.889200</td>\n",
              "    </tr>\n",
              "    <tr>\n",
              "      <th id=\"T_207b8_level0_row26\" class=\"row_heading level0 row26\" >34</th>\n",
              "      <td id=\"T_207b8_row26_col0\" class=\"data row26 col0\" >114839781</td>\n",
              "      <td id=\"T_207b8_row26_col1\" class=\"data row26 col1\" >Despapelización: el Tribunal de Cuentas realiza notificaciones electrónicas</td>\n",
              "      <td id=\"T_207b8_row26_col2\" class=\"data row26 col2\" >0.886600</td>\n",
              "    </tr>\n",
              "    <tr>\n",
              "      <th id=\"T_207b8_level0_row27\" class=\"row_heading level0 row27\" >23</th>\n",
              "      <td id=\"T_207b8_row27_col0\" class=\"data row27 col0\" >114820133</td>\n",
              "      <td id=\"T_207b8_row27_col1\" class=\"data row27 col1\" >Cayo Levantado, el hotel de lujo sostenible en el paraíso de República Dominicana</td>\n",
              "      <td id=\"T_207b8_row27_col2\" class=\"data row27 col2\" >0.882600</td>\n",
              "    </tr>\n",
              "    <tr>\n",
              "      <th id=\"T_207b8_level0_row28\" class=\"row_heading level0 row28\" >10</th>\n",
              "      <td id=\"T_207b8_row28_col0\" class=\"data row28 col0\" >114845659</td>\n",
              "      <td id=\"T_207b8_row28_col1\" class=\"data row28 col1\" >Por las heladas, los precios de las verduras aumentaron entre un 15% y un 40%</td>\n",
              "      <td id=\"T_207b8_row28_col2\" class=\"data row28 col2\" >0.873200</td>\n",
              "    </tr>\n",
              "    <tr>\n",
              "      <th id=\"T_207b8_level0_row29\" class=\"row_heading level0 row29\" >26</th>\n",
              "      <td id=\"T_207b8_row29_col0\" class=\"data row29 col0\" >114880930</td>\n",
              "      <td id=\"T_207b8_row29_col1\" class=\"data row29 col1\" >Patricia Baca Urquiza es la nueva directora del ballet oficial de Córdoba</td>\n",
              "      <td id=\"T_207b8_row29_col2\" class=\"data row29 col2\" >0.853300</td>\n",
              "    </tr>\n",
              "    <tr>\n",
              "      <th id=\"T_207b8_level0_row30\" class=\"row_heading level0 row30\" >8</th>\n",
              "      <td id=\"T_207b8_row30_col0\" class=\"data row30 col0\" >114840465</td>\n",
              "      <td id=\"T_207b8_row30_col1\" class=\"data row30 col1\" >Descubriendo el universo del vermut en Pilar</td>\n",
              "      <td id=\"T_207b8_row30_col2\" class=\"data row30 col2\" >0.848400</td>\n",
              "    </tr>\n",
              "    <tr>\n",
              "      <th id=\"T_207b8_level0_row31\" class=\"row_heading level0 row31\" >24</th>\n",
              "      <td id=\"T_207b8_row31_col0\" class=\"data row31 col0\" >114839375</td>\n",
              "      <td id=\"T_207b8_row31_col1\" class=\"data row31 col1\" >EDESA promueve los medios electrónicos para el pago de facturas de energía</td>\n",
              "      <td id=\"T_207b8_row31_col2\" class=\"data row31 col2\" >0.847900</td>\n",
              "    </tr>\n",
              "    <tr>\n",
              "      <th id=\"T_207b8_level0_row32\" class=\"row_heading level0 row32\" >3</th>\n",
              "      <td id=\"T_207b8_row32_col0\" class=\"data row32 col0\" >114851103</td>\n",
              "      <td id=\"T_207b8_row32_col1\" class=\"data row32 col1\" >El cronograma de los mercados itinerantes de Moreno para los próximos días</td>\n",
              "      <td id=\"T_207b8_row32_col2\" class=\"data row32 col2\" >0.837300</td>\n",
              "    </tr>\n",
              "    <tr>\n",
              "      <th id=\"T_207b8_level0_row33\" class=\"row_heading level0 row33\" >36</th>\n",
              "      <td id=\"T_207b8_row33_col0\" class=\"data row33 col0\" >114819505</td>\n",
              "      <td id=\"T_207b8_row33_col1\" class=\"data row33 col1\" >Un hombre resultó herido tras un fuerte choque en el Cordón Forestal</td>\n",
              "      <td id=\"T_207b8_row33_col2\" class=\"data row33 col2\" >0.832000</td>\n",
              "    </tr>\n",
              "    <tr>\n",
              "      <th id=\"T_207b8_level0_row34\" class=\"row_heading level0 row34\" >1</th>\n",
              "      <td id=\"T_207b8_row34_col0\" class=\"data row34 col0\" >114855973</td>\n",
              "      <td id=\"T_207b8_row34_col1\" class=\"data row34 col1\" >Museo GüemesLa Cámara de Diputados de Buenos Aires reconoció a Güemes como héroe nacional</td>\n",
              "      <td id=\"T_207b8_row34_col2\" class=\"data row34 col2\" >0.830200</td>\n",
              "    </tr>\n",
              "    <tr>\n",
              "      <th id=\"T_207b8_level0_row35\" class=\"row_heading level0 row35\" >12</th>\n",
              "      <td id=\"T_207b8_row35_col0\" class=\"data row35 col0\" >114850345</td>\n",
              "      <td id=\"T_207b8_row35_col1\" class=\"data row35 col1\" >Grafología: qué significa que una persona firma con su nombre completo</td>\n",
              "      <td id=\"T_207b8_row35_col2\" class=\"data row35 col2\" >0.826300</td>\n",
              "    </tr>\n",
              "    <tr>\n",
              "      <th id=\"T_207b8_level0_row36\" class=\"row_heading level0 row36\" >16</th>\n",
              "      <td id=\"T_207b8_row36_col0\" class=\"data row36 col0\" >114882799</td>\n",
              "      <td id=\"T_207b8_row36_col1\" class=\"data row36 col1\" >SE VENDE AMPLIA CASA -ROS. DEL TALA - Clasionce</td>\n",
              "      <td id=\"T_207b8_row36_col2\" class=\"data row36 col2\" >0.824400</td>\n",
              "    </tr>\n",
              "    <tr>\n",
              "      <th id=\"T_207b8_level0_row37\" class=\"row_heading level0 row37\" >17</th>\n",
              "      <td id=\"T_207b8_row37_col0\" class=\"data row37 col0\" >114878510</td>\n",
              "      <td id=\"T_207b8_row37_col1\" class=\"data row37 col1\" >FIAT CRONOS 1.3 ¡¡0KM!! Recibo vehículos. - Clasionce</td>\n",
              "      <td id=\"T_207b8_row37_col2\" class=\"data row37 col2\" >0.794300</td>\n",
              "    </tr>\n",
              "    <tr>\n",
              "      <th id=\"T_207b8_level0_row38\" class=\"row_heading level0 row38\" >6</th>\n",
              "      <td id=\"T_207b8_row38_col0\" class=\"data row38 col0\" >114871588</td>\n",
              "      <td id=\"T_207b8_row38_col1\" class=\"data row38 col1\" >\"Yo te vi sufrir\": La emotiva carta de Jorgelina Cardoso a Di María</td>\n",
              "      <td id=\"T_207b8_row38_col2\" class=\"data row38 col2\" >0.779500</td>\n",
              "    </tr>\n",
              "    <tr>\n",
              "      <th id=\"T_207b8_level0_row39\" class=\"row_heading level0 row39\" >18</th>\n",
              "      <td id=\"T_207b8_row39_col0\" class=\"data row39 col0\" >114853540</td>\n",
              "      <td id=\"T_207b8_row39_col1\" class=\"data row39 col1\" >Guinda: el color que arrasa</td>\n",
              "      <td id=\"T_207b8_row39_col2\" class=\"data row39 col2\" >0.776800</td>\n",
              "    </tr>\n",
              "    <tr>\n",
              "      <th id=\"T_207b8_level0_row40\" class=\"row_heading level0 row40\" >2</th>\n",
              "      <td id=\"T_207b8_row40_col0\" class=\"data row40 col0\" >114839249</td>\n",
              "      <td id=\"T_207b8_row40_col1\" class=\"data row40 col1\" >La princesa Leonor visita Galicia, su casa el próximo año: el abandono exprés de Juan Carlos I y un emotivo reencuentro</td>\n",
              "      <td id=\"T_207b8_row40_col2\" class=\"data row40 col2\" >0.770800</td>\n",
              "    </tr>\n",
              "    <tr>\n",
              "      <th id=\"T_207b8_level0_row41\" class=\"row_heading level0 row41\" >7</th>\n",
              "      <td id=\"T_207b8_row41_col0\" class=\"data row41 col0\" >114838486</td>\n",
              "      <td id=\"T_207b8_row41_col1\" class=\"data row41 col1\" >Llega el \"Operativo DNI\" a los barrios Colonia Lola, Observatorio y Campo de la Ribera</td>\n",
              "      <td id=\"T_207b8_row41_col2\" class=\"data row41 col2\" >0.761500</td>\n",
              "    </tr>\n",
              "    <tr>\n",
              "      <th id=\"T_207b8_level0_row42\" class=\"row_heading level0 row42\" >32</th>\n",
              "      <td id=\"T_207b8_row42_col0\" class=\"data row42 col0\" >114823025</td>\n",
              "      <td id=\"T_207b8_row42_col1\" class=\"data row42 col1\" >¿La IA puede ayudar a tomar mejores decisiones?</td>\n",
              "      <td id=\"T_207b8_row42_col2\" class=\"data row42 col2\" >0.740300</td>\n",
              "    </tr>\n",
              "  </tbody>\n",
              "</table>\n"
            ],
            "text/plain": [
              "<pandas.io.formats.style.Styler at 0x22acbf65ed0>"
            ]
          },
          "execution_count": 28,
          "metadata": {},
          "output_type": "execute_result"
        }
      ],
      "source": [
        "# Definir la función de estilo\n",
        "def color_rows(row, label, value):\n",
        "    if row[label] >= value:\n",
        "        return ['color: cyan'] * len(row)\n",
        "    else:\n",
        "        return [''] * len(row)\n",
        "\n",
        "# Calcular la media\n",
        "threshold = df_query.score.mean()\n",
        "\n",
        "print(f\"Topico N°: {topic_id} --> {topic_labels[topic_id+1]}\" )\n",
        "print(f\"Umbral de corte {threshold}\")\n",
        "\n",
        "df_query.sort_values('score', ascending=False, inplace=True)\n",
        "df_query.style.apply(lambda row: color_rows(row, 'score', threshold), axis=1).set_properties(subset=['titulo'], **{'text-align': 'left'})"
      ]
    },
    {
      "cell_type": "markdown",
      "metadata": {
        "id": "_P-1fHJ2N_Bf"
      },
      "source": [
        "#### Documentos mas representativos de un topico"
      ]
    },
    {
      "cell_type": "markdown",
      "metadata": {
        "id": "X7uKkzfWN_Bg"
      },
      "source": [
        "- [1]  Desde el metodo del modelo"
      ]
    },
    {
      "cell_type": "code",
      "execution_count": 29,
      "metadata": {
        "id": "LifmcWPCN_Bg"
      },
      "outputs": [
        {
          "name": "stdout",
          "output_type": "stream",
          "text": [
            "Topico N°: 5 --> 5_url ordinal_visible seccion_dato confiable\n"
          ]
        },
        {
          "data": {
            "text/plain": [
              "['EN VIVO 3 Argentina Ahora país Guillermo López 3 Rosario Siempre Juntos Rosario Alberto Lotuf Heat Una que sabemos todos Música La Popu Los Populares Colorete Gianola Cosquín Rock Cosquín Rock Muy pronto La Mesa de Café 3x1 4 Por Sergio Suppo Un Mundo de Historias Siempre Juntos Actualidad La quinta pata del gato Por Adrián Simioni Siempre Juntos Rosario El dato confiable Por Federico Albarenque Radioinforme 3 Radioinforme 3 Siempre Juntos Rosario Siempre Juntos La Mesa de Café Otra mirada Por Fernando Genesir Radioinforme 3 Rosario Radioinforme 3 Rosario Radioinforme 3 Radioinforme 3 Radioinforme 3 Radioinforme 3 Radioinforme 3 Radioinforme 3 Radioinforme 3 Radioinforme 3 Radioinforme 3 Cuadro de situación Por Sergio Berensztein Radioinforme 3 Radioinforme 3 Radioinforme 3 Radioinforme 3 Radioinforme 3 Rosario Radioinforme 3 Rosario Turno Noche al Cuadrado al regreso al regreso la Abrapalabra la la la Copa América 2024 En familia aquí y allá Ahora país La de Pablo Sirvén Ahora país Política esquina Economía Por Adrián Simioni Ahora país Siempre Juntos Siempre Juntos Siempre Juntos Rosario Siempre Juntos Siempre Juntos Siempre Juntos Siempre Juntos Radioinforme 3 Radioinforme 3 Siempre Juntos Rosario Ahora país 3x1 4 Por Sergio Suppo Las Claves de Zucho Siempre Juntos Siempre Juntos Rosario Siempre Juntos El dato confiable Por Federico Albarenque Editorial de Alberto Lotuf La quinta pata del gato Por Adrián Simioni Copa América 2024 Copa América 2024 La Mesa de Café Otra mirada Por Fernando Genesir Radioinforme 3 Rosario Radioinforme 3 Radioinforme 3 Radioinforme 3 Radioinforme 3 Radioinforme 3 Radioinforme 3 Radioinforme 3 Rosario Radioinforme 3 Copa América 2024 Radioinforme 3 Radioinforme 3 Copa América 2024 Deportes Estadio 3 Rosario Selección argentina Copa América 2024 Copa América 2024 Copa América 2024 La Central Deportiva Deportes Copa América 2024 Deportes Copa América 2024 Rony en Vivo Rony en Vivo Santa Misa Rony en Vivo Más Emisoras En vivo Deportes en Siempre Juntos Elegí tu emisora Podés cambiar tu emisora cuando lo desees Golpe al bolsillo 16 07 2024 11 45 Redacción 3 archivo 3 Siempre Juntos Audio Los precios de las verduras en el Mercado de Abasto en Córdoba han experimentado un aumento entre el 15% y el 40% confirmó Facundo Barreras encargado del puesto Cruzanelli Los Gringos Las subas fueron anticipadas días atrás y se concretaron esta semana debido a factores climáticos Barreras explicó que el factor climático incidió y hubo un aumento de entre 15 a 40% en varios artículos Entre los productos que más subieron se encuentran la hortaliza y el pimiento rojo más de un 20% el tomate un 35% la berenjena un 20% y la papa un 15% El incremento se debe principalmente a las heladas de las dos semanas Las heladas influyen mucho no hay maduración en planta lo que hace que salga menos producto y no cubra la demanda explicó Barreras Vendedores en el Mercado de Abasto de Córdoba Federico Borello 3 No obstante no todos los productos han visto incrementados sus precios Barreras recomendó consumir frutas de estación naranjas mandarinas peras o manzanas ya que su precio se mantiene estable La fruta que se vende hoy en día es de estación Toda esa fruta de estación está a buen precio en este momento y se mantiene afirmó Con respecto al futuro inmediato del Mercado de Abasto Barreras adelantó Cuando hay un buen clima aparece más producto y eso hace que baje el precio Inicio tambiénIndignanteEntraron a su casa mientras velaban a su hermana y robaron el dinero del sepelio Fin Informe de Federico Borello Los precios de las verduras en el Mercado de Abasto en Córdoba han experimentado un aumento entre el 15% y el 40% confirmó Facundo Barreras encargado del puesto Cruzanelli Los Gringos Las subas fueron anticipadas días atrás y se concretaron esta semana debido a factores climáticos Barreras explicó que el factor climático incidió y hubo un aumento de entre 15 a 40% en varios artículos Entre los productos que más subieron se encuentran la hortaliza y el pimiento rojo más de un 20% el tomate un 35% la berenjena un 20% y la papa un 15% El incremento se debe principalmente a las heladas de las dos semanas Las heladas influyen mucho no hay maduración en planta lo que hace que salga menos producto y no cubra la demanda explicó Barreras No obstante no todos los productos han visto incrementados sus precios Barreras recomendó consumir frutas de estación naranjas mandarinas peras o manzanas ya que su precio se mantiene estable La fruta que se vende hoy en día es de estación Toda esa fruta de estación está a buen precio en este momento y se mantiene afirmó Con respecto al futuro inmediato del Mercado de Abasto Barreras adelantó Cuando hay un buen clima aparece más producto y eso hace que baje el precio Inicio también Indignante Fin Informe de Federico Borello Mercado de Abasto Córdoba Verduras Aumento Precios Heladas Frío Te puede interesar Inseguridad en Córdoba El episodio ocurrió a plena luz de día Los involucrados tienen entre 12 y 17 años En segundos rodearon a la mujer y la despojaron de sus pertenencias Golpe al bolsillo El nuevo valor representa un incremento promedio del 13% Actualización de precio La Inspección Técnica Vehicular tiene un incremento del 100% desde julio Nicolás Molina responsable de la entidad en declaraciones con 3 afirmó que es consecuencia de la inflación Golpe al bolsillo La suba ronda alrededor del 4% y es un monto menor al esperado debido a la decisión del Gobierno de atenuar el incremento en el impuesto a los combustibles La Súper en algunas YPF de Córdoba se vende a $1 077 Lo último de Sociedad Juan Federico Homicidio en Córdoba Un joven de 19 años fue asesinado de varios disparos en el pecho Luego los matadores colocaron el cuerpo en una bolsa y lo arrojaron en una zona rural en la periferia La pista del pipazo Golpe al bolsillo Vendedores del Mercado de Abasto en Córdoba explicaron a 3 que el intenso frío redujo la oferta en las dos semanas Indignante Caren murió tras batallar con un cáncer que la llevó a viajar a tratarse a España donde falleció Luego de traer el cuerpo su familia estaba despidiendo sus restos y fue asaltada Piden ayuda para cubrir los gastos del velatorio Federico Albarenque El dato confiable Cambios en el Gobierno El exdirector de la SIDE Secretaría de Inteligencia del Estado habló tras la disolución de la Agencia Federal de Inteligencia AFI y analizó las relaciones internacionales del Gobierno de Javier Milei Ver más Sergio Suppo 3x1 4 Adrián Simioni La quinta pata del gato Federico Albarenque El dato confiable Fernando Genesir Otra mirada Sergio Berensztein Cuadro de situación Julio Perotti Abrapalabra Pablo Sirvén Te puede interesar 3 Festivales El evento se realizó en Santa Victoria un lugar donde la electricidad es un lujo La tecnología permitió que 3 transmita de una manera impecable desde un lugar remoto al mundo 3 Festivales Los Nocheros actuaron en la primera velada del festival solidario organizado por el Chaqueño Palavecino desde hace más de 20 años El cierre de este domingo estuvo a cargo del Indio Lucio Rojas Copa América 2024 Roberto Fontanarrosa Osvaldo Soriano Eduardo Sacheri y Hernán Casciari Clásicos infaltables que han hecho derramar alguna que otra lágrima a más de a uno La Gran Federal Los oyentes de la ahora podrán sintonizar la FM 92 9 para escuchar contenidos de todo tipo entretenerse e informarse Más innovación La te acompaña en cada vez más lugares para que no te pierdas ningún ni especial Ahora Juan Federico Homicidio en Córdoba Un joven de 19 años fue asesinado de varios disparos en el pecho Luego los matadores colocaron el cuerpo en una bolsa y lo arrojaron en una zona rural en la periferia La pista del pipazo Córdoba En el lugar trabajan 45 bomberos voluntarios 14 unidades móviles livianas cinco aviones hidrantes y dos helicópteros La zona es inaccesible por tierra Golpe al bolsillo Vendedores del Mercado de Abasto en Córdoba explicaron a 3 que el intenso frío redujo la oferta en las dos semanas Es oficial Se permite así el ingreso de capital privado en el fútbol a partir de la puesta en marcha de las SAD Basta de pobrismo en el fútbol había dicho Milei Nuevo informe El organismo proyectó que el PBI caerá 3 5% este año Copa América 2024 La polémica se dio luego de un que se viralizó de Enzo Fernández durante los festejos tras ganar la Copa América Nuevo informe El organismo proyectó que el PBI caerá 3 5% este año Es oficial Se permite así el ingreso de capital privado en el fútbol a partir de la puesta en marcha de las SAD Basta de pobrismo en el fútbol había dicho Milei Juan Federico Homicidio en Córdoba Un joven de 19 años fue asesinado de varios disparos en el pecho Luego los matadores colocaron el cuerpo en una bolsa y lo arrojaron en una zona rural en la periferia La pista del pipazo Golpe al bolsillo El nuevo valor representa un incremento promedio del 13% Pandemia de ludopatía El argumento es la adicción que está provocando sobre todo en adolescentes Walter Nostrala legislador del Frente Cívico es uno de los impulsores de esta propuesta Terrible susto El cantante se lesionó levemente y pudo seguir adelante con su show el Aniversario Será a las 18 15 en Tribunales I Schiaretti entre los principales oradores Primer encuentro La reunión será a agenda abierta Busca robustecer las relaciones y el diálogo entre',\n",
              " 'EN VIVO 3 Argentina al regreso Luis Fernández Echegaray de Juego Juan y Juan Pablo 3 Rosario Estadio 3 Rosario Ctral Inter Porto Alegre Heat Clásicos a la vuelta Lucas Correa La Popu Desde la Popular Matías Barzola Cosquín Rock Cosquín Rock Muy pronto la la la la Rosario Abrapalabra Estadio 3 Rosario la la Ahora país Ahora país Política esquina Economía Por Adrián Simioni Ahora país Ahora país La Mesa de Café Siempre Juntos Ahora país Siempre Juntos Siempre Juntos 3x1 4 Por Sergio Suppo Un Mundo de Historias Siempre Juntos Actualidad La quinta pata del gato Por Adrián Simioni Siempre Juntos Rosario El dato confiable Por Federico Albarenque Radioinforme 3 Radioinforme 3 Siempre Juntos Rosario Siempre Juntos La Mesa de Café Otra mirada Por Fernando Genesir Radioinforme 3 Rosario Radioinforme 3 Rosario Radioinforme 3 Radioinforme 3 Radioinforme 3 Radioinforme 3 Radioinforme 3 Radioinforme 3 Radioinforme 3 Radioinforme 3 Radioinforme 3 Cuadro de situación Por Sergio Berensztein Radioinforme 3 Radioinforme 3 Radioinforme 3 Radioinforme 3 Radioinforme 3 Rosario Radioinforme 3 Rosario Turno Noche al Cuadrado al regreso al regreso la Abrapalabra la la la Copa América 2024 En familia aquí y allá Ahora país La de Pablo Sirvén Ahora país Política esquina Economía Por Adrián Simioni Ahora país Siempre Juntos Siempre Juntos Siempre Juntos Rosario Siempre Juntos Siempre Juntos Siempre Juntos Siempre Juntos Radioinforme 3 Radioinforme 3 Siempre Juntos Rosario Ahora país 3x1 4 Por Sergio Suppo Las Claves de Zucho Siempre Juntos Siempre Juntos Rosario Siempre Juntos El dato confiable Por Federico Albarenque Editorial de Alberto Lotuf La quinta pata del gato Por Adrián Simioni Copa América 2024 Copa América 2024 La Mesa de Café Otra mirada Por Fernando Genesir Radioinforme 3 Rosario Radioinforme 3 Radioinforme 3 Radioinforme 3 Radioinforme 3 Radioinforme 3 Radioinforme 3 Radioinforme 3 Rosario Radioinforme 3 Copa América 2024 Radioinforme 3 Más Emisoras En vivo Deportes en Sociedad Elegí tu emisora Podés cambiar tu emisora cuando lo desees Rutas peligrosas 16 07 2024 18 07 Redacción 3 Rosario Chocaron fuertemente dos autos en el comienzo de la autopista Rosario Córdoba la Rosario Audio Un siniestro vial ocurrió en el comienzo de la autopista Rosario Córdoba mano hacia Rosario a unos 500 metros después del viaducto Che Guevara y antes del puente de avenida Huilde El incidente se produjo entre dos vehículos un Fiat Palio y un Citroën El conductor del Citroën que viajaba con su familia desde Buenos Aires hacia Córdoba relató Veníamos de un viaje de Buenos Aires a Córdoba de vacaciones y saliendo acá de Rosario en la curva de la salida camino a Córdoba se vio de repente un palio en el camino y lo chocamos Inicio tambiénRutas peligrosasChoque entre dos camiones interrumpió el tránsito en Autopista Córdoba Rosario Fin Explicó que el Palio parecía estar saliendo de la banquina y fue sorpresivo debido a que estaba oculto por la curva A pesar del impacto todos los ocupantes están bien Nos revisó la ambulancia acá de la autopista y estamos bien aseguró el conductor del Citroën al móvil 3 Rosario La misma suerte corrió para los ocupantes del Palio una pareja con un niño que también fueron revisados por los servicios médicos antes de ser retirados por una grúa Inicio tambiénRutas peligrosasImpactante choque en en la autopista Rosario Santa Fe Fin Aunque las dos vías hacia Córdoba están liberadas tras el accidente hay cierta congestión en el tránsito debido a parte del vehículo aún presente sobre la calzada La Agencia Vial Provincial está señalizando para redirigir los autos hacia la vía rápida ya que es justo donde comienza la autopista y donde los autos empiezan a tomar velocidad El frente derecho del Citroën quedó bastante golpeado tras el impacto aunque no se registraron heridos Se trató de un siniestro de alcance ya que el Citroën impactó con su parte delantera a la parte trasera del Palio mientras ambos vehículos se desplazaban en el sentido Informe de Agostina Meneghetti Un siniestro vial ocurrió en el comienzo de la autopista Rosario Córdoba mano hacia Rosario a unos 500 metros después del viaducto Che Guevara y antes del puente de avenida Huilde El incidente se produjo entre dos vehículos un Fiat Palio y un Citroën El conductor del Citroën que viajaba con su familia desde Buenos Aires hacia Córdoba relató Veníamos de un viaje de Buenos Aires a Córdoba de vacaciones y saliendo acá de Rosario en la curva de la salida camino a Córdoba se vio de repente un palio en el camino y lo chocamos Inicio también Rutas peligrosas Fin Explicó que el Palio parecía estar saliendo de la banquina y fue sorpresivo debido a que estaba oculto por la curva A pesar del impacto todos los ocupantes están bien Nos revisó la ambulancia acá de la autopista y estamos bien aseguró el conductor del Citroën al móvil 3 Rosario La misma suerte corrió para los ocupantes del Palio una pareja con un niño que también fueron revisados por los servicios médicos antes de ser retirados por una grúa Inicio también Rutas peligrosas Fin Aunque las dos vías hacia Córdoba están liberadas tras el accidente hay cierta congestión en el tránsito debido a parte del vehículo aún presente sobre la calzada La Agencia Vial Provincial está señalizando para redirigir los autos hacia la vía rápida ya que es justo donde comienza la autopista y donde los autos empiezan a tomar velocidad El frente derecho del Citroën quedó bastante golpeado tras el impacto aunque no se registraron heridos Se trató de un siniestro de alcance ya que el Citroën impactó con su parte delantera a la parte trasera del Palio mientras ambos vehículos se desplazaban en el sentido Informe de Agostina Meneghetti autopista rosario córdoba siniestro vial choque Te puede interesar Madrugada accidentada Fue en la avenida Circunvalación entre la variante Juárez Celman y el puente de Juan B Justo Córdoba Todo ocurrió este miércoles por la mañana a la altura del kilómetro 564 de la Ruta 9 El conductor fue derivado al Hospital Pasteur Siniestro vial El accidente se produjo en la esquina de 3 de Febrero y Pueyrredón El conductor de la moto tiene 18 años y su estado de salud es crítico Madrugada accidentada Fue en avenida Colón al 6000 El conductor resultó con heridas leves Lo último de Sociedad Aniversario En el salón de los Pasos Perdidos de Tribunales 1 tiene lugar el evento que cuenta con la presencia de personalidades destacadas Juan Schiaretti entre los principales oradores Rutas peligrosas A pesar del impacto todos los ocupantes están bien Nos revisó la ambulancia acá de la autopista y estamos bien aseguró el conductor del Citroën al móvil de 3 Rosario Violencia en la vía pública Un hombre que manejaba un Renault 18 se bajó del automóvil al ser rozado por un colectivo de ERSA y tras a la unidad agredió a uno de los choferes y reventó los vidrios con un trabavolantes 2 Córdoba Más de 100 efectivos participan del operativo para contener las llamas que ya afectaron casi 3 000 hectáreas informó a 3 el vocero del Plan Provincial del Manejo del Fuego Roberto Schreiner Nueva Directora La destacada artista con una vasta experiencia en elencos estables y compañías privadas asumió la dirección artística Ver más Julio Perotti Abrapalabra Adrián Simioni Política esquina economía Sergio Suppo 3x1 4 Adrián Simioni La quinta pata del gato Federico Albarenque El dato confiable Fernando Genesir Otra mirada Sergio Berensztein Cuadro de situación Te puede interesar 3 Festivales El evento se realizó en Santa Victoria un lugar donde la electricidad es un lujo La tecnología permitió que 3 transmita de una manera impecable desde un lugar remoto al mundo 3 Festivales Los Nocheros actuaron en la primera velada del festival solidario organizado por el Chaqueño Palavecino desde hace más de 20 años El cierre de este domingo estuvo a cargo del Indio Lucio Rojas Copa América 2024 Roberto Fontanarrosa Osvaldo Soriano Eduardo Sacheri y Hernán Casciari Clásicos infaltables que han hecho derramar alguna que otra lágrima a más de a uno La Gran Federal Los oyentes de la ahora podrán sintonizar la FM 92 9 para escuchar contenidos de todo tipo entretenerse e informarse Más innovación La te acompaña en cada vez más lugares para que no te pierdas ningún ni especial Ahora La salud del crack El astro argentino tuvo que ser reemplazado a los 20 minutos del segundo después de una dura entrada de un futbolista colombiano y no pudo seguir disputando el partido jugado en el Hard Rock Stadium de Miami Aniversario En el salón de los Pasos Perdidos de Tribunales 1 tiene lugar el evento que cuenta con la presencia de personalidades destacadas Juan Schiaretti entre los principales oradores 2 Córdoba Más de 100 efectivos participan del operativo para contener las llamas que ya afectaron casi 3 000 hectáreas informó a 3 el vocero del Plan Provincial del Manejo del Fuego Roberto Schreiner Violencia en la vía pública Un hombre que manejaba un Renault 18 se bajó del automóvil al ser rozado por un colectivo de ERSA y tras a la unidad agredió a uno de los choferes y reventó los vidrios con un trabavolantes Importaciones La medida de la Secretaría de Comercio apunta a facilitar la llegada de esos productos y reducir su costo burocrático Hasta ahora de',\n",
              " 'EN VIVO 3 Argentina al regreso Luis Fernández Echegaray de Juego Juan y Juan Pablo 3 Rosario Estadio 3 Rosario Ctral Inter Porto Alegre Heat Clásicos a la vuelta Lucas Correa La Popu Desde la Popular Matías Barzola Cosquín Rock Cosquín Rock Muy pronto la la la la Rosario Abrapalabra Estadio 3 Rosario la la Ahora país Ahora país Política esquina Economía Por Adrián Simioni Ahora país Ahora país La Mesa de Café Siempre Juntos Ahora país Siempre Juntos Siempre Juntos 3x1 4 Por Sergio Suppo Un Mundo de Historias Siempre Juntos Actualidad La quinta pata del gato Por Adrián Simioni Siempre Juntos Rosario El dato confiable Por Federico Albarenque Radioinforme 3 Radioinforme 3 Siempre Juntos Rosario Siempre Juntos La Mesa de Café Otra mirada Por Fernando Genesir Radioinforme 3 Rosario Radioinforme 3 Rosario Radioinforme 3 Radioinforme 3 Radioinforme 3 Radioinforme 3 Radioinforme 3 Radioinforme 3 Radioinforme 3 Radioinforme 3 Radioinforme 3 Cuadro de situación Por Sergio Berensztein Radioinforme 3 Radioinforme 3 Radioinforme 3 Radioinforme 3 Radioinforme 3 Rosario Radioinforme 3 Rosario Turno Noche al Cuadrado al regreso al regreso la Abrapalabra la la la Copa América 2024 En familia aquí y allá Ahora país La de Pablo Sirvén Ahora país Política esquina Economía Por Adrián Simioni Ahora país Siempre Juntos Siempre Juntos Siempre Juntos Rosario Siempre Juntos Siempre Juntos Siempre Juntos Siempre Juntos Radioinforme 3 Radioinforme 3 Siempre Juntos Rosario Ahora país 3x1 4 Por Sergio Suppo Las Claves de Zucho Siempre Juntos Siempre Juntos Rosario Siempre Juntos El dato confiable Por Federico Albarenque Editorial de Alberto Lotuf La quinta pata del gato Por Adrián Simioni Copa América 2024 Copa América 2024 La Mesa de Café Otra mirada Por Fernando Genesir Radioinforme 3 Rosario Radioinforme 3 Radioinforme 3 Radioinforme 3 Radioinforme 3 Radioinforme 3 Radioinforme 3 Radioinforme 3 Rosario Radioinforme 3 Copa América 2024 Radioinforme 3 Más Emisoras En vivo Deportes en la Elegí tu emisora Podés cambiar tu emisora cuando lo desees Nueva Directora 16 07 2024 15 51 Redacción 3 Patricia Baca Urquiza es la nueva directora del ballet oficial de Córdoba Patricia Baca Urquiza es la nueva directora del ballet oficial de Córdoba la Audio La reconocida bailarina Patricia Baca Urquiza fue convocada para dirigir la compañía del Teatro Libertador de Córdoba En diálogo con 3 expresó que es un desafío que a sus 46 años recibe con entusiasmo y alegría Fui convocada por el director Maximiliano Olocco estoy feliz valoró La compañía de ballet estaba sin dirección hasta su llegada y se prepara para estrenar su primera puesta en escena bajo su liderazgo el próximo 25 de julio Patricia Baca Urquiza junto a bailarines El ballet estaba sin dirección creo que es muy importante haber gestionado esto de parte de la Agencia Cultura de Córdoba subrayó la bailarina ella contar con una directora trae alivio a los bailarines ya que pueden confiar en una figura que los guíe y tome decisiones importantes elegir las obras a interpretar quiénes bailan o qué maestros invitados colaboran Inicio tambiénImperdibles de Mariana AsanLa torre trunca de la Iglesia de los Capuchinos un hito único de Nueva Córdoba Fin En cuanto a reorganizar un ballet clásico ella comenta Primero es conocerlos tienen unos colores de talento maravillosos También habló sobre el proceso de adaptación al teatro oficial tras venir del ambiente privado Es aprender cómo se da un parte para el otro día cómo se avisa a vestuario reuniones con producción reuniones con los técnicos con la inspectora del ballet Finalmente destacó su principal objetivo nueva directora darle visibilidad al Ballet de Córdoba Considera que es uno de los más importantes en Argentina y espera poder llevar funciones exquisitas al público cordobés para que vuelvan al teatro a disfrutar del ballet Entrevista de Celeste Benecchi La reconocida bailarina Patricia Baca Urquiza fue convocada para dirigir la compañía del Teatro Libertador de Córdoba En diálogo con 3 expresó que es un desafío que a sus 46 años recibe con entusiasmo y alegría Fui convocada por el director Maximiliano Olocco estoy feliz valoró La compañía de ballet estaba sin dirección hasta su llegada y se prepara para estrenar su primera puesta en escena bajo su liderazgo el próximo 25 de julio Patricia Baca Urquiza junto a bailarines El ballet estaba sin dirección creo que es muy importante haber gestionado esto de parte de la Agencia Cultura de Córdoba subrayó la bailarina ella contar con una directora trae alivio a los bailarines ya que pueden confiar en una figura que los guíe y tome decisiones importantes elegir las obras a interpretar quiénes bailan o qué maestros invitados colaboran Inicio también Imperdibles de Mariana Asan Fin En cuanto a reorganizar un ballet clásico ella comenta Primero es conocerlos tienen unos colores de talento maravillosos También habló sobre el proceso de adaptación al teatro oficial tras venir del ambiente privado Es aprender cómo se da un parte para el otro día cómo se avisa a vestuario reuniones con producción reuniones con los técnicos con la inspectora del ballet Finalmente destacó su principal objetivo nueva directora darle visibilidad al Ballet de Córdoba Considera que es uno de los más importantes en Argentina y espera poder llevar funciones exquisitas al público cordobés para que vuelvan al teatro a disfrutar del ballet Entrevista de Celeste Benecchi Patricia Baca Urquiza Ballet oficial de Córdoba Directora Maximiliano Olocco Te puede interesar Lo último de Sociedad Aniversario En el salón de los Pasos Perdidos de Tribunales 1 tiene lugar el evento que cuenta con la presencia de personalidades destacadas Juan Schiaretti entre los principales oradores Rutas peligrosas A pesar del impacto todos los ocupantes están bien Nos revisó la ambulancia acá de la autopista y estamos bien aseguró el conductor del Citroën al móvil de 3 Rosario Violencia en la vía pública Un hombre que manejaba un Renault 18 se bajó del automóvil al ser rozado por un colectivo de ERSA y tras a la unidad agredió a uno de los choferes y reventó los vidrios con un trabavolantes 2 Córdoba Más de 100 efectivos participan del operativo para contener las llamas que ya afectaron casi 3 000 hectáreas informó a 3 el vocero del Plan Provincial del Manejo del Fuego Roberto Schreiner Nueva Directora La destacada artista con una vasta experiencia en elencos estables y compañías privadas asumió la dirección artística Ver más Julio Perotti Abrapalabra Adrián Simioni Política esquina economía Sergio Suppo 3x1 4 Adrián Simioni La quinta pata del gato Federico Albarenque El dato confiable Fernando Genesir Otra mirada Sergio Berensztein Cuadro de situación Te puede interesar 3 Festivales El evento se realizó en Santa Victoria un lugar donde la electricidad es un lujo La tecnología permitió que 3 transmita de una manera impecable desde un lugar remoto al mundo 3 Festivales Los Nocheros actuaron en la primera velada del festival solidario organizado por el Chaqueño Palavecino desde hace más de 20 años El cierre de este domingo estuvo a cargo del Indio Lucio Rojas Copa América 2024 Roberto Fontanarrosa Osvaldo Soriano Eduardo Sacheri y Hernán Casciari Clásicos infaltables que han hecho derramar alguna que otra lágrima a más de a uno La Gran Federal Los oyentes de la ahora podrán sintonizar la FM 92 9 para escuchar contenidos de todo tipo entretenerse e informarse Más innovación La te acompaña en cada vez más lugares para que no te pierdas ningún ni especial Ahora La salud del crack El astro argentino tuvo que ser reemplazado a los 20 minutos del segundo después de una dura entrada de un futbolista colombiano y no pudo seguir disputando el partido jugado en el Hard Rock Stadium de Miami Aniversario En el salón de los Pasos Perdidos de Tribunales 1 tiene lugar el evento que cuenta con la presencia de personalidades destacadas Juan Schiaretti entre los principales oradores 2 Córdoba Más de 100 efectivos participan del operativo para contener las llamas que ya afectaron casi 3 000 hectáreas informó a 3 el vocero del Plan Provincial del Manejo del Fuego Roberto Schreiner Violencia en la vía pública Un hombre que manejaba un Renault 18 se bajó del automóvil al ser rozado por un colectivo de ERSA y tras a la unidad agredió a uno de los choferes y reventó los vidrios con un trabavolantes Importaciones La medida de la Secretaría de Comercio apunta a facilitar la llegada de esos productos y reducir su costo burocrático Hasta ahora debían tener un etiquetado hecho en su lugar de procedencia La salud del crack El astro argentino tuvo que ser reemplazado a los 20 minutos del segundo después de una dura entrada de un futbolista colombiano y no pudo seguir disputando el partido jugado en el Hard Rock Stadium de Miami Importaciones La medida de la Secretaría de Comercio apunta a facilitar la llegada de esos productos y reducir su costo burocrático Hasta ahora debían tener un etiquetado hecho en su lugar de procedencia Violencia en la vía pública Un hombre que manejaba un Renault 18 se bajó del automóvil al ser rozado por un colectivo de ERSA y tras a la unidad agredió a uno de los choferes y reventó los vidrios con un trabavolantes Primer encuentro La mesa chica de']"
            ]
          },
          "execution_count": 29,
          "metadata": {},
          "output_type": "execute_result"
        }
      ],
      "source": [
        "docs_representative = topic_model.get_representative_docs(topic=topic_id)\n",
        "print(f\"Topico N°: {topic_id} --> {topic_labels[topic_id+1]}\" )\n",
        "docs_representative"
      ]
    },
    {
      "cell_type": "markdown",
      "metadata": {
        "id": "a-1Q3ReVN_Bg"
      },
      "source": [
        "- [2] Por similitud coseno del topico a los tres documento mas cercanos"
      ]
    },
    {
      "cell_type": "code",
      "execution_count": 30,
      "metadata": {
        "id": "vFCtpfj-N_Bh"
      },
      "outputs": [
        {
          "data": {
            "text/plain": [
              "(19, 1000)"
            ]
          },
          "execution_count": 30,
          "metadata": {},
          "output_type": "execute_result"
        }
      ],
      "source": [
        "# Obtenemos la matriz de similitud coseno entre topicos y documentos\n",
        "sim_matrix = cosine_similarity(topic_model.topic_embeddings_, docs_embedding)\n",
        "sim_matrix.shape"
      ]
    },
    {
      "cell_type": "code",
      "execution_count": 31,
      "metadata": {
        "id": "sCtO8yBMN_Bh"
      },
      "outputs": [
        {
          "name": "stdout",
          "output_type": "stream",
          "text": [
            "Topico N°: 5 --> 5_url ordinal_visible seccion_dato confiable\n",
            "28 Se realizará un curso de chacinados y embutidos caseros en Trelew\n",
            "27 Biss participó del acto por el Día del Servicio Penitenciario Federal\n",
            "21 Chubut recibió 15 ambulancias de la Provincia de Buenos Aires\n"
          ]
        }
      ],
      "source": [
        "# Similitud coseno entre el topico y los documentos del topico elegido\n",
        "s_coseno = []\n",
        "for i in docs_per_topics:\n",
        "    s_coseno.append(cosine_similarity([topic_model.topic_embeddings_[topic_id + 1]], [docs_embedding[i]])[0][0])\n",
        "\n",
        "# Indices\n",
        "idx_coseno_sort = np.argsort(s_coseno)[::-1]\n",
        "\n",
        "print(f\"Topico N°: {topic_id} --> {topic_labels[topic_id+1]}\" )\n",
        "\n",
        "for idx in idx_coseno_sort[:3]:\n",
        "    print(idx, df_parquet.iloc[docs_per_topics[idx]].title)\n"
      ]
    },
    {
      "cell_type": "markdown",
      "metadata": {
        "id": "QAvGGp2JN_Bh"
      },
      "source": [
        "- [3] Primer documento mas cercano al embedding del topico"
      ]
    },
    {
      "cell_type": "code",
      "execution_count": 32,
      "metadata": {
        "id": "CmKsuTeVN_Bi"
      },
      "outputs": [
        {
          "name": "stdout",
          "output_type": "stream",
          "text": [
            "Noticia de maxima similitud con el topico: 5\n",
            "Doc ID: 748\n",
            "Titulo: Se realizará un curso de chacinados y embutidos caseros en Trelew\n"
          ]
        }
      ],
      "source": [
        "# Documento de maxima similitud con el topico\n",
        "\n",
        "simil_docs_topic = sim_matrix[topic_id+ 1].argmax()\n",
        "print(f\"Noticia de maxima similitud con el topico: {topic_id}\")\n",
        "print(f\"Doc ID: {df_parquet.index[simil_docs_topic]}\")\n",
        "print(f\"Titulo: {df_parquet.iloc[simil_docs_topic].title}\")\n",
        "best_doc = data[simil_docs_topic]"
      ]
    },
    {
      "cell_type": "markdown",
      "metadata": {},
      "source": [
        "#### Keywords de un topico (modelo)"
      ]
    },
    {
      "cell_type": "code",
      "execution_count": 33,
      "metadata": {},
      "outputs": [
        {
          "name": "stdout",
          "output_type": "stream",
          "text": [
            "Topico N°: 5 --> 5_url ordinal_visible seccion_dato confiable\n",
            "[('url ordinal', 0.05215937754684874), ('visible seccion', 0.05215937754684874), ('dato confiable', 0.03307001885180649), ('quinta pata', 0.0304257475889183), ('nombre', 0.029350674355965355), ('autopista', 0.028009524515433714), ('feria', 0.027269849448666342), ('detalle', 0.026344920373670592), ('mail', 0.025164916990443868), ('nueva directora', 0.024895714804563332)]\n"
          ]
        }
      ],
      "source": [
        "# Obtener las palabras clave para un topico dado\n",
        "topic_keywords = topic_model.get_topic(topic_id)\n",
        "print(f\"Topico N°: {topic_id} --> {topic_labels[topic_id+1]}\" )\n",
        "print(topic_keywords)"
      ]
    },
    {
      "cell_type": "markdown",
      "metadata": {
        "id": "PyWurS2NN_Bi"
      },
      "source": [
        "#### Keywords de un topico (otra forma de obtenerlos)"
      ]
    },
    {
      "cell_type": "code",
      "execution_count": 34,
      "metadata": {
        "id": "9pK_nj_pN_Bi"
      },
      "outputs": [
        {
          "name": "stdout",
          "output_type": "stream",
          "text": [
            "Topico N°: 5 --> 5_url ordinal_visible seccion_dato confiable\n"
          ]
        },
        {
          "data": {
            "text/plain": [
              "[{'name': 'url ordinal', 'score': 0.05215937754684874},\n",
              " {'name': 'visible seccion', 'score': 0.05215937754684874},\n",
              " {'name': 'dato confiable', 'score': 0.03307001885180649},\n",
              " {'name': 'quinta pata', 'score': 0.0304257475889183},\n",
              " {'name': 'nombre', 'score': 0.029350674355965355},\n",
              " {'name': 'autopista', 'score': 0.028009524515433714},\n",
              " {'name': 'feria', 'score': 0.027269849448666342},\n",
              " {'name': 'detalle', 'score': 0.026344920373670592},\n",
              " {'name': 'mail', 'score': 0.025164916990443868},\n",
              " {'name': 'nueva directora', 'score': 0.024895714804563332}]"
            ]
          },
          "execution_count": 34,
          "metadata": {},
          "output_type": "execute_result"
        }
      ],
      "source": [
        "keywords = topic_model.topic_representations_[topic_id]\n",
        "topic_keywords = [TopicKeyword(name=keyword, score=score) for keyword, score in keywords if keyword != '']\n",
        "print(f\"Topico N°: {topic_id} --> {topic_labels[topic_id+1]}\" )\n",
        "topic_keywords"
      ]
    },
    {
      "cell_type": "markdown",
      "metadata": {},
      "source": [
        "### Top keywords de un topico"
      ]
    },
    {
      "cell_type": "code",
      "execution_count": 35,
      "metadata": {
        "id": "6nCejcoRN_Bi"
      },
      "outputs": [
        {
          "name": "stdout",
          "output_type": "stream",
          "text": [
            "umbral keywords: 0.032885012202316544\n"
          ]
        },
        {
          "data": {
            "text/plain": [
              "{'url ordinal': 0.05215937754684874,\n",
              " 'visible seccion': 0.05215937754684874,\n",
              " 'dato confiable': 0.03307001885180649}"
            ]
          },
          "execution_count": 35,
          "metadata": {},
          "output_type": "execute_result"
        }
      ],
      "source": [
        "# Calculo de umbral de corte para las keywords\n",
        "def keywords_umbral(topic_keywords):\n",
        "    freq_k = []\n",
        "    for name_score in topic_keywords:\n",
        "        freq_k.append(name_score['score'])\n",
        "    umbral_k = np.array(freq_k).mean()\n",
        "    print(f\"umbral keywords: {umbral_k}\")\n",
        "\n",
        "    topic_keywords_top = {}\n",
        "    for name_score in topic_keywords:\n",
        "        if name_score['score'] >= umbral_k:\n",
        "            topic_keywords_top[name_score['name']] = name_score['score']\n",
        "\n",
        "    return topic_keywords_top\n",
        "\n",
        "keywords_umbral(topic_keywords)"
      ]
    },
    {
      "cell_type": "markdown",
      "metadata": {},
      "source": [
        "### Top Entities de un topico"
      ]
    },
    {
      "cell_type": "code",
      "execution_count": 36,
      "metadata": {},
      "outputs": [
        {
          "name": "stdout",
          "output_type": "stream",
          "text": [
            "umbral entities: 0.9027744186046511\n"
          ]
        },
        {
          "data": {
            "text/plain": [
              "{'Teléfono': 4,\n",
              " 'TRELEW': 4,\n",
              " 'Argentina': 2,\n",
              " 'Madryn': 2,\n",
              " 'Gobierno del Chubut': 2}"
            ]
          },
          "execution_count": 36,
          "metadata": {},
          "output_type": "execute_result"
        }
      ],
      "source": [
        "threshold = df_query.score.mean()\n",
        "print(f\"umbral entities: {threshold}\")\n",
        "\n",
        "entities_topic = []\n",
        "for doc_ID in list(df_query[df_query[\"score\"] > threshold]['ID']):\n",
        "    entities_topic.append(get_entities_news(doc_ID))\n",
        "\n",
        "# Crear un diccionario para contar en cuántos documentos aparece cada palabra\n",
        "document_frequencies = defaultdict(int)\n",
        "\n",
        "# Crear un conjunto para cada documento y contar las palabras únicas\n",
        "for lista in entities_topic:\n",
        "    unique_words = set(lista)\n",
        "    for palabra in unique_words:\n",
        "        document_frequencies[palabra] += 1\n",
        "\n",
        "# Ordenar las palabras por la frecuencia de documentos de mayor a menor\n",
        "sorted_frequencies = sorted(document_frequencies.items(), key=lambda item: item[1], reverse=True)\n",
        "\n",
        "# Calcular el umbral\n",
        "freq_e = [item[1] for item in sorted_frequencies]\n",
        "umbral_e = np.mean(freq_e)\n",
        "\n",
        "# Obtener el resultado ordenado de las primeras 10 entidades segun criterio de corte\n",
        "topic_entities_top = {}\n",
        "c=0\n",
        "for idx in range(len(sorted_frequencies)):\n",
        "    if sorted_frequencies[idx][1] >= umbral_e:\n",
        "        if c != 10:\n",
        "            topic_entities_top[sorted_frequencies[idx][0]] = sorted_frequencies[idx][1]\n",
        "        else:\n",
        "            break\n",
        "        c += 1 \n",
        "\n",
        "    elif len(topic_entities_top) <= 3:\n",
        "        topic_entities_top[sorted_frequencies[idx][0]] = sorted_frequencies[idx][1]\n",
        "\n",
        "topic_entities_top\n",
        "\n"
      ]
    },
    {
      "cell_type": "markdown",
      "metadata": {},
      "source": [
        "### Obtener los titulos de noticias del topico filtrado por umbral de corte "
      ]
    },
    {
      "cell_type": "code",
      "execution_count": 37,
      "metadata": {},
      "outputs": [
        {
          "name": "stdout",
          "output_type": "stream",
          "text": [
            "0.9027744186046511\n"
          ]
        },
        {
          "data": {
            "text/plain": [
              "['Chubut recibió 15 ambulancias de la Provincia de Buenos Aires',\n",
              " 'Las apps de movilidad se amplían en Mendoza y un importante jugador llega a San Rafael',\n",
              " 'Entregan 149 escrituras a familias lujanenses',\n",
              " 'Talleres para diferentes etapas del embarazo y la familia',\n",
              " 'Xuxa pede o despejo de inquilino por dívida de R$ 14 mil, diz colunista',\n",
              " 'Seguí con \"LA GACETA Central\", con toda la información de Tucumán',\n",
              " 'TAPA Martes 16 de Julio de 2024',\n",
              " 'Biss participó del acto por el Día del Servicio Penitenciario Federal',\n",
              " 'Mauro Cezar: Ramon Díaz talvez seja uma versão argentina do Luxemburgo',\n",
              " 'Feria de emprendedores este viernes en el Paseo Evita',\n",
              " 'Lotes Financiados - Strobel Diamante - Clasionce',\n",
              " 'Sunchales: Atención de AFIP Rafaela',\n",
              " 'Fúnebres · Diario La Capital',\n",
              " 'Hasta el 17 continúa venta de libros:  GOYA SE CONSOLIDA COMO CENTRO CULTURAL: IMPRESIONES DE LA 6ª FERIA DEL LIBRO POR RUBÉN BISCEGLIA',\n",
              " 'Empresa de transporte busca personal técnico para el sector de Electricidad',\n",
              " 'Se realizará un curso de chacinados y embutidos caseros en Trelew',\n",
              " 'Agenda',\n",
              " 'REZO del Santo Rosario por NUESTROS hijos',\n",
              " 'Provincia entregó 90 equipos de radio a la Unidad Regional de Puerto Madryn',\n",
              " 'Farmacia de turno',\n",
              " 'Chocaron fuertemente dos autos en el comienzo de la autopista Rosario-Córdoba',\n",
              " 'Acceso Digital',\n",
              " 'Invitan a disfrutar de las vacaciones de invierno en el Centro Cultural Provincial',\n",
              " 'INSSSEP amplía y democratiza su red de institutos médicos en Buenos Aires']"
            ]
          },
          "execution_count": 37,
          "metadata": {},
          "output_type": "execute_result"
        }
      ],
      "source": [
        "topic_documents_title, threshold = topic_documents(topic_id, topic_model, df_parquet)\n",
        "print(threshold)\n",
        "topic_documents_title"
      ]
    },
    {
      "cell_type": "markdown",
      "metadata": {},
      "source": [
        "### Generar un nombre de topico con LLM ( Open AI)\n",
        "- Validar OPENAI_API_KEY en .env"
      ]
    },
    {
      "cell_type": "code",
      "execution_count": 38,
      "metadata": {},
      "outputs": [
        {
          "name": "stdout",
          "output_type": "stream",
          "text": [
            "0 Criminalidad y justicia en Argentina\n",
            "1 Eventos culturales y recreativos locales\n",
            "2 Crisis económica y financiera en Argentina\n",
            "3 Reforma laboral y diálogo sindical\n",
            "4 Logros y eventos del fútbol argentino\n",
            "5 Desarrollo y servicios en provincias\n",
            "6 Pronóstico del clima en Argentina\n",
            "7 Aumentos y ajustes económicos recientes\n",
            "8 Inversiones estratégicas en energía\n",
            "9 Problemas administrativos en Boca Juniors\n",
            "10 Transformación de clubes en SAD\n",
            "11 Eventos deportivos y programación actual\n",
            "12 Escándalos y controversias en entretenimiento\n",
            "13 Elecciones presidenciales y Trump\n",
            "14 Eventos musicales destacados en Argentina\n",
            "15 Reestructuración de servicios de inteligencia\n",
            "16 Incendios forestales y emergencias actuales\n",
            "17 Presentación de Kylian Mbappé\n"
          ]
        }
      ],
      "source": [
        "for topic_id in topic_model.get_topics().keys():\n",
        "    if topic_id > -1:\n",
        "        topic_documents_title, threshold  = topic_documents(topic_id, topic_model, df_parquet)        \n",
        "        print(f\"{topic_id} {get_topic_name(''.join(topic_documents_title), topic_id, topic_model, client)}\")"
      ]
    },
    {
      "cell_type": "markdown",
      "metadata": {
        "id": "AJUr6_NTN_Bk"
      },
      "source": [
        "### Recuperar todos los topicos desde el indice Topic de la base"
      ]
    },
    {
      "cell_type": "code",
      "execution_count": 39,
      "metadata": {
        "id": "hgldS9M_N_Bk"
      },
      "outputs": [
        {
          "name": "stdout",
          "output_type": "stream",
          "text": [
            "0 Delitos y tragedias en Argentina\n",
            "1 Eventos culturales y recreativos \n",
            "2 Crisis económica en Argentina 2024\n",
            "3 Reforma laboral y diálogo sindical\n",
            "4 Logros y eventos del fútbol argentino\n",
            "5 Actividades y servicios comunitarios recientes\n",
            "6 Pronóstico del clima en Argentina\n",
            "7 Aumentos y regulaciones económicas recientes\n",
            "8 Inversiones estratégicas en energía\n",
            "9 Problemas administrativos en Boca Juniors\n",
            "10 Transformación de clubes deportivos\n",
            "11 Eventos deportivos y programación actual\n",
            "12 Escándalos y controversias en entretenimiento\n",
            "13 Elecciones presidenciales y Trump 2024\n",
            "14 Eventos musicales destacados en Argentina\n",
            "15 Reestructuración de servicios de inteligencia\n",
            "16 Incendios forestales en Argentina\n",
            "17 Presentación de Kylian Mbappé\n"
          ]
        }
      ],
      "source": [
        "index_name = 'topic'\n",
        "\n",
        "topics_list = []\n",
        "for i, doc in enumerate(Topic.search().query().scan()):\n",
        "    topics_list.append(doc.to_dict())\n",
        "    print(topics_list[i]['index'], topics_list[i]['name'])"
      ]
    },
    {
      "cell_type": "markdown",
      "metadata": {},
      "source": [
        "### Busqueda de 5 documentos del indice news de la base correspondiente a un topico\n",
        "** (devuelve los docs que han sido marcados en el campo process en True )"
      ]
    },
    {
      "cell_type": "code",
      "execution_count": 40,
      "metadata": {},
      "outputs": [
        {
          "name": "stdout",
          "output_type": "stream",
          "text": [
            "Topico N°: 4 --> Logros y eventos del fútbol argentino\n"
          ]
        }
      ],
      "source": [
        "topic_id = np.random.randint(len(set(topic_model.topics_))-1) # Obtener un topico al azar\n",
        "print(f\"Topico N°: {topic_id} --> {topics_list[topic_id]['name']}\" )"
      ]
    },
    {
      "cell_type": "code",
      "execution_count": 41,
      "metadata": {},
      "outputs": [
        {
          "name": "stdout",
          "output_type": "stream",
          "text": [
            "Topico N°: 4 --> Logros y eventos del fútbol argentino\n",
            "No se encontraron documentos cercanos al topico dado.\n"
          ]
        }
      ],
      "source": [
        "topic_embedding = topics_list[topic_id]['vector']\n",
        "\n",
        "index_name = 'news'\n",
        "# Crear una consulta KNN para buscar embeddings cercanos\n",
        "knn_query = {\n",
        "    \"size\": 5,  # Número de resultados que deseas obtener\n",
        "    \"query\": {\n",
        "        \"bool\": {\n",
        "            \"must\": [\n",
        "                {\n",
        "                    \"knn\": {\n",
        "                        \"vector\": {\n",
        "                            \"vector\": topic_embedding,\n",
        "                            \"k\": 10  # Número de vecinos más cercanos\n",
        "                        }\n",
        "                    }\n",
        "                },\n",
        "                {\n",
        "                    \"term\": {\n",
        "                        \"process\": True  # Solo incluir documentos donde 'process' es True\n",
        "                    }\n",
        "                }\n",
        "            ],\n",
        "            \"filter\": {\n",
        "                \"exists\": {\n",
        "                    \"field\": \"vector\"  # Solo incluir documentos que tienen el campo 'vector'\n",
        "                }\n",
        "            }\n",
        "        }\n",
        "    }\n",
        "}\n",
        "# Realizar la búsqueda\n",
        "response_topic = os_client.search(index=index_name, body=knn_query)\n",
        "\n",
        "# Obtener el tópico más cercano\n",
        "print(f\"Topico N°: {topic_id} --> {topics_list[topic_id]['name']}\" )\n",
        "\n",
        "if response_topic['hits']['total']['value'] > 0:\n",
        "    for i in [hit['_source']['title'] for hit in response_topic['hits']['hits']]:\n",
        "        print(i)\n",
        "else:\n",
        "    print(\"No se encontraron documentos cercanos al topico dado.\")"
      ]
    },
    {
      "cell_type": "markdown",
      "metadata": {
        "id": "jMH2jt5YN_Bl"
      },
      "source": [
        "### Nuevo documento consultando embeddings generados por el modelo"
      ]
    },
    {
      "cell_type": "code",
      "execution_count": 42,
      "metadata": {
        "id": "3c0ZTllTN_Bl"
      },
      "outputs": [
        {
          "name": "stdout",
          "output_type": "stream",
          "text": [
            "Topico N°: 0 --> Delitos y tragedias en Argentina\n"
          ]
        }
      ],
      "source": [
        "new_doc = \"Fuga de presos en San Telmo\"\n",
        "\n",
        "new_doc_embedding = topic_model.embedding_model.embed(new_doc)\n",
        "sim_matrix_new = cosine_similarity(topic_model.topic_embeddings_, new_doc_embedding.reshape(1, -1))\n",
        "\n",
        "idx = np.argmax(sim_matrix_new)-1         # Topicos desde -1, 0, 1, ..., n\n",
        "print(f\"Topico N°: {topics_list[idx]['index']} --> {topics_list[idx]['name']}\" )"
      ]
    },
    {
      "cell_type": "markdown",
      "metadata": {
        "id": "lae8_RU7N_Bm"
      },
      "source": [
        "### Nuevo documento consultando embeddings de la base"
      ]
    },
    {
      "cell_type": "code",
      "execution_count": 43,
      "metadata": {
        "id": "VVylIBiFN_Bm"
      },
      "outputs": [
        {
          "name": "stdout",
          "output_type": "stream",
          "text": [
            "Topico no encontrado\n"
          ]
        }
      ],
      "source": [
        "new_doc = \"Fuga de presos en San Telmo\"\n",
        "\n",
        "new_doc_embedding = topic_model.embedding_model.embed(new_doc)\n",
        "\n",
        "# Buscamos en la base a que topico pertenece el nuevo documento\n",
        "knn_query = {\n",
        "    \"size\": 1,\n",
        "    \"query\": {\n",
        "        \"knn\": {\n",
        "            \"vector\": {\n",
        "                \"vector\": new_doc_embedding,\n",
        "                \"k\" : 3\n",
        "            }\n",
        "        }\n",
        "    }\n",
        "}\n",
        "response = os_client.search(index='topic', body=knn_query)\n",
        "\n",
        "if response['hits']['total']['value'] > 0:\n",
        "    print(f\"Topico: {response['hits']['hits'][0]['_source']['name']}\")\n",
        "    print(f\"Estimacion: {response['hits']['hits'][0]['_score']}\")\n",
        "else:\n",
        "    print(f\"Topico no encontrado\")"
      ]
    },
    {
      "cell_type": "markdown",
      "metadata": {
        "id": "fzKqZk3HN_Bm"
      },
      "source": [
        "### Graficar los topicos en 3d"
      ]
    },
    {
      "cell_type": "code",
      "execution_count": null,
      "metadata": {
        "id": "SKNFKczxN_Bm"
      },
      "outputs": [
        {
          "data": {
            "application/vnd.plotly.v1+json": {
              "config": {
                "plotlyServerURL": "https://plot.ly"
              },
              "data": [
                {
                  "hovertemplate": "Topico=-1<br>Dim1=%{x}<br>Dim2=%{y}<br>Dim3=%{z}<br>Etiqueta=%{text}<extra></extra>",
                  "legendgroup": "-1",
                  "marker": {
                    "color": "#636efa",
                    "symbol": "circle"
                  },
                  "mode": "markers+text",
                  "name": "-1",
                  "scene": "scene",
                  "showlegend": true,
                  "text": [
                    -1
                  ],
                  "type": "scatter3d",
                  "x": [
                    13.014519691467285
                  ],
                  "y": [
                    -2.917353630065918
                  ],
                  "z": [
                    1.875910758972168
                  ]
                },
                {
                  "hovertemplate": "Topico=0 Actualidad y sucesos impactantes.<br>Dim1=%{x}<br>Dim2=%{y}<br>Dim3=%{z}<br>Etiqueta=%{text}<extra></extra>",
                  "legendgroup": "0 Actualidad y sucesos impactantes.",
                  "marker": {
                    "color": "#EF553B",
                    "symbol": "circle"
                  },
                  "mode": "markers+text",
                  "name": "0 Actualidad y sucesos impactantes.",
                  "scene": "scene",
                  "showlegend": true,
                  "text": [
                    0
                  ],
                  "type": "scatter3d",
                  "x": [
                    12.454195022583008
                  ],
                  "y": [
                    -2.2006301879882812
                  ],
                  "z": [
                    1.9982692003250122
                  ]
                },
                {
                  "hovertemplate": "Topico=1 Crisis y cambios en Boca Juniors<br>Dim1=%{x}<br>Dim2=%{y}<br>Dim3=%{z}<br>Etiqueta=%{text}<extra></extra>",
                  "legendgroup": "1 Crisis y cambios en Boca Juniors",
                  "marker": {
                    "color": "#00cc96",
                    "symbol": "circle"
                  },
                  "mode": "markers+text",
                  "name": "1 Crisis y cambios en Boca Juniors",
                  "scene": "scene",
                  "showlegend": true,
                  "text": [
                    1
                  ],
                  "type": "scatter3d",
                  "x": [
                    12.220904350280762
                  ],
                  "y": [
                    -2.771735191345215
                  ],
                  "z": [
                    2.69228458404541
                  ]
                },
                {
                  "hovertemplate": "Topico=2 Actividades culturales en invierno<br>Dim1=%{x}<br>Dim2=%{y}<br>Dim3=%{z}<br>Etiqueta=%{text}<extra></extra>",
                  "legendgroup": "2 Actividades culturales en invierno",
                  "marker": {
                    "color": "#ab63fa",
                    "symbol": "circle"
                  },
                  "mode": "markers+text",
                  "name": "2 Actividades culturales en invierno",
                  "scene": "scene",
                  "showlegend": true,
                  "text": [
                    2
                  ],
                  "type": "scatter3d",
                  "x": [
                    12.311725616455078
                  ],
                  "y": [
                    -3.103074550628662
                  ],
                  "z": [
                    1.2959537506103516
                  ]
                },
                {
                  "hovertemplate": "Topico=3 Reestructuración de servicios de inteligencia<br>Dim1=%{x}<br>Dim2=%{y}<br>Dim3=%{z}<br>Etiqueta=%{text}<extra></extra>",
                  "legendgroup": "3 Reestructuración de servicios de inteligencia",
                  "marker": {
                    "color": "#FFA15A",
                    "symbol": "circle"
                  },
                  "mode": "markers+text",
                  "name": "3 Reestructuración de servicios de inteligencia",
                  "scene": "scene",
                  "showlegend": true,
                  "text": [
                    3
                  ],
                  "type": "scatter3d",
                  "x": [
                    13.666101455688477
                  ],
                  "y": [
                    -2.600741147994995
                  ],
                  "z": [
                    2.760730743408203
                  ]
                },
                {
                  "hovertemplate": "Topico=4 Problemas sociales y servicios básicos<br>Dim1=%{x}<br>Dim2=%{y}<br>Dim3=%{z}<br>Etiqueta=%{text}<extra></extra>",
                  "legendgroup": "4 Problemas sociales y servicios básicos",
                  "marker": {
                    "color": "#19d3f3",
                    "symbol": "circle"
                  },
                  "mode": "markers+text",
                  "name": "4 Problemas sociales y servicios básicos",
                  "scene": "scene",
                  "showlegend": true,
                  "text": [
                    4
                  ],
                  "type": "scatter3d",
                  "x": [
                    13.234931945800781
                  ],
                  "y": [
                    -2.6349639892578125
                  ],
                  "z": [
                    1.1278607845306396
                  ]
                },
                {
                  "hovertemplate": "Topico=5 Negociaciones laborales y reformas gubernamentales<br>Dim1=%{x}<br>Dim2=%{y}<br>Dim3=%{z}<br>Etiqueta=%{text}<extra></extra>",
                  "legendgroup": "5 Negociaciones laborales y reformas gubernamentales",
                  "marker": {
                    "color": "#FF6692",
                    "symbol": "circle"
                  },
                  "mode": "markers+text",
                  "name": "5 Negociaciones laborales y reformas gubernamentales",
                  "scene": "scene",
                  "showlegend": true,
                  "text": [
                    5
                  ],
                  "type": "scatter3d",
                  "x": [
                    13.955708503723145
                  ],
                  "y": [
                    -2.7641143798828125
                  ],
                  "z": [
                    2.0934600830078125
                  ]
                },
                {
                  "hovertemplate": "Topico=6 Mercados financieros y criptomonedas.<br>Dim1=%{x}<br>Dim2=%{y}<br>Dim3=%{z}<br>Etiqueta=%{text}<extra></extra>",
                  "legendgroup": "6 Mercados financieros y criptomonedas.",
                  "marker": {
                    "color": "#B6E880",
                    "symbol": "circle"
                  },
                  "mode": "markers+text",
                  "name": "6 Mercados financieros y criptomonedas.",
                  "scene": "scene",
                  "showlegend": true,
                  "text": [
                    6
                  ],
                  "type": "scatter3d",
                  "x": [
                    13.208581924438477
                  ],
                  "y": [
                    -3.3296167850494385
                  ],
                  "z": [
                    2.707517385482788
                  ]
                },
                {
                  "hovertemplate": "Topico=7 Pronóstico del clima en Argentina<br>Dim1=%{x}<br>Dim2=%{y}<br>Dim3=%{z}<br>Etiqueta=%{text}<extra></extra>",
                  "legendgroup": "7 Pronóstico del clima en Argentina",
                  "marker": {
                    "color": "#FF97FF",
                    "symbol": "circle"
                  },
                  "mode": "markers+text",
                  "name": "7 Pronóstico del clima en Argentina",
                  "scene": "scene",
                  "showlegend": true,
                  "text": [
                    7
                  ],
                  "type": "scatter3d",
                  "x": [
                    13.003239631652832
                  ],
                  "y": [
                    -3.4747302532196045
                  ],
                  "z": [
                    1.2199293375015259
                  ]
                },
                {
                  "hovertemplate": "Topico=8 Impacto económico en la agricultura<br>Dim1=%{x}<br>Dim2=%{y}<br>Dim3=%{z}<br>Etiqueta=%{text}<extra></extra>",
                  "legendgroup": "8 Impacto económico en la agricultura",
                  "marker": {
                    "color": "#FECB52",
                    "symbol": "circle"
                  },
                  "mode": "markers+text",
                  "name": "8 Impacto económico en la agricultura",
                  "scene": "scene",
                  "showlegend": true,
                  "text": [
                    8
                  ],
                  "type": "scatter3d",
                  "x": [
                    12.630396842956543
                  ],
                  "y": [
                    -3.6799917221069336
                  ],
                  "z": [
                    2.1601994037628174
                  ]
                },
                {
                  "hovertemplate": "Topico=9 Impacto del Pacto de Mayo en Neuquén<br>Dim1=%{x}<br>Dim2=%{y}<br>Dim3=%{z}<br>Etiqueta=%{text}<extra></extra>",
                  "legendgroup": "9 Impacto del Pacto de Mayo en Neuquén",
                  "marker": {
                    "color": "#636efa",
                    "symbol": "circle"
                  },
                  "mode": "markers+text",
                  "name": "9 Impacto del Pacto de Mayo en Neuquén",
                  "scene": "scene",
                  "showlegend": true,
                  "text": [
                    9
                  ],
                  "type": "scatter3d",
                  "x": [
                    11.809294700622559
                  ],
                  "y": [
                    -2.545999050140381
                  ],
                  "z": [
                    1.9518436193466187
                  ]
                },
                {
                  "hovertemplate": "Topico=10 Transformación de clubes deportivos<br>Dim1=%{x}<br>Dim2=%{y}<br>Dim3=%{z}<br>Etiqueta=%{text}<extra></extra>",
                  "legendgroup": "10 Transformación de clubes deportivos",
                  "marker": {
                    "color": "#EF553B",
                    "symbol": "circle"
                  },
                  "mode": "markers+text",
                  "name": "10 Transformación de clubes deportivos",
                  "scene": "scene",
                  "showlegend": true,
                  "text": [
                    10
                  ],
                  "type": "scatter3d",
                  "x": [
                    12.870403289794922
                  ],
                  "y": [
                    -2.398040771484375
                  ],
                  "z": [
                    2.972116470336914
                  ]
                },
                {
                  "hovertemplate": "Topico=11 Iniciativas comunitarias y desarrollo local<br>Dim1=%{x}<br>Dim2=%{y}<br>Dim3=%{z}<br>Etiqueta=%{text}<extra></extra>",
                  "legendgroup": "11 Iniciativas comunitarias y desarrollo local",
                  "marker": {
                    "color": "#00cc96",
                    "symbol": "circle"
                  },
                  "mode": "markers+text",
                  "name": "11 Iniciativas comunitarias y desarrollo local",
                  "scene": "scene",
                  "showlegend": true,
                  "text": [
                    11
                  ],
                  "type": "scatter3d",
                  "x": [
                    13.835502624511719
                  ],
                  "y": [
                    -3.2621309757232666
                  ],
                  "z": [
                    1.5744035243988037
                  ]
                },
                {
                  "hovertemplate": "Topico=>>Fuga de presos <br>Dim1=%{x}<br>Dim2=%{y}<br>Dim3=%{z}<br>Etiqueta=%{text}<extra></extra>",
                  "legendgroup": ">>Fuga de presos ",
                  "marker": {
                    "color": "#ab63fa",
                    "symbol": "circle"
                  },
                  "mode": "markers+text",
                  "name": ">>Fuga de presos ",
                  "scene": "scene",
                  "showlegend": true,
                  "text": [
                    "Fuga de presos "
                  ],
                  "type": "scatter3d",
                  "x": [
                    12.988417625427246
                  ],
                  "y": [
                    -1.8133745193481445
                  ],
                  "z": [
                    1.7503727674484253
                  ]
                }
              ],
              "layout": {
                "autosize": false,
                "height": 800,
                "legend": {
                  "title": {
                    "text": "Topico"
                  },
                  "tracegroupgap": 0
                },
                "margin": {
                  "b": 65,
                  "l": 65,
                  "r": 50,
                  "t": 90
                },
                "scene": {
                  "domain": {
                    "x": [
                      0,
                      1
                    ],
                    "y": [
                      0,
                      1
                    ]
                  },
                  "xaxis": {
                    "title": {
                      "text": "Dim1"
                    }
                  },
                  "yaxis": {
                    "title": {
                      "text": "Dim2"
                    }
                  },
                  "zaxis": {
                    "title": {
                      "text": "Dim3"
                    }
                  }
                },
                "template": {
                  "data": {
                    "bar": [
                      {
                        "error_x": {
                          "color": "#2a3f5f"
                        },
                        "error_y": {
                          "color": "#2a3f5f"
                        },
                        "marker": {
                          "line": {
                            "color": "#E5ECF6",
                            "width": 0.5
                          },
                          "pattern": {
                            "fillmode": "overlay",
                            "size": 10,
                            "solidity": 0.2
                          }
                        },
                        "type": "bar"
                      }
                    ],
                    "barpolar": [
                      {
                        "marker": {
                          "line": {
                            "color": "#E5ECF6",
                            "width": 0.5
                          },
                          "pattern": {
                            "fillmode": "overlay",
                            "size": 10,
                            "solidity": 0.2
                          }
                        },
                        "type": "barpolar"
                      }
                    ],
                    "carpet": [
                      {
                        "aaxis": {
                          "endlinecolor": "#2a3f5f",
                          "gridcolor": "white",
                          "linecolor": "white",
                          "minorgridcolor": "white",
                          "startlinecolor": "#2a3f5f"
                        },
                        "baxis": {
                          "endlinecolor": "#2a3f5f",
                          "gridcolor": "white",
                          "linecolor": "white",
                          "minorgridcolor": "white",
                          "startlinecolor": "#2a3f5f"
                        },
                        "type": "carpet"
                      }
                    ],
                    "choropleth": [
                      {
                        "colorbar": {
                          "outlinewidth": 0,
                          "ticks": ""
                        },
                        "type": "choropleth"
                      }
                    ],
                    "contour": [
                      {
                        "colorbar": {
                          "outlinewidth": 0,
                          "ticks": ""
                        },
                        "colorscale": [
                          [
                            0,
                            "#0d0887"
                          ],
                          [
                            0.1111111111111111,
                            "#46039f"
                          ],
                          [
                            0.2222222222222222,
                            "#7201a8"
                          ],
                          [
                            0.3333333333333333,
                            "#9c179e"
                          ],
                          [
                            0.4444444444444444,
                            "#bd3786"
                          ],
                          [
                            0.5555555555555556,
                            "#d8576b"
                          ],
                          [
                            0.6666666666666666,
                            "#ed7953"
                          ],
                          [
                            0.7777777777777778,
                            "#fb9f3a"
                          ],
                          [
                            0.8888888888888888,
                            "#fdca26"
                          ],
                          [
                            1,
                            "#f0f921"
                          ]
                        ],
                        "type": "contour"
                      }
                    ],
                    "contourcarpet": [
                      {
                        "colorbar": {
                          "outlinewidth": 0,
                          "ticks": ""
                        },
                        "type": "contourcarpet"
                      }
                    ],
                    "heatmap": [
                      {
                        "colorbar": {
                          "outlinewidth": 0,
                          "ticks": ""
                        },
                        "colorscale": [
                          [
                            0,
                            "#0d0887"
                          ],
                          [
                            0.1111111111111111,
                            "#46039f"
                          ],
                          [
                            0.2222222222222222,
                            "#7201a8"
                          ],
                          [
                            0.3333333333333333,
                            "#9c179e"
                          ],
                          [
                            0.4444444444444444,
                            "#bd3786"
                          ],
                          [
                            0.5555555555555556,
                            "#d8576b"
                          ],
                          [
                            0.6666666666666666,
                            "#ed7953"
                          ],
                          [
                            0.7777777777777778,
                            "#fb9f3a"
                          ],
                          [
                            0.8888888888888888,
                            "#fdca26"
                          ],
                          [
                            1,
                            "#f0f921"
                          ]
                        ],
                        "type": "heatmap"
                      }
                    ],
                    "heatmapgl": [
                      {
                        "colorbar": {
                          "outlinewidth": 0,
                          "ticks": ""
                        },
                        "colorscale": [
                          [
                            0,
                            "#0d0887"
                          ],
                          [
                            0.1111111111111111,
                            "#46039f"
                          ],
                          [
                            0.2222222222222222,
                            "#7201a8"
                          ],
                          [
                            0.3333333333333333,
                            "#9c179e"
                          ],
                          [
                            0.4444444444444444,
                            "#bd3786"
                          ],
                          [
                            0.5555555555555556,
                            "#d8576b"
                          ],
                          [
                            0.6666666666666666,
                            "#ed7953"
                          ],
                          [
                            0.7777777777777778,
                            "#fb9f3a"
                          ],
                          [
                            0.8888888888888888,
                            "#fdca26"
                          ],
                          [
                            1,
                            "#f0f921"
                          ]
                        ],
                        "type": "heatmapgl"
                      }
                    ],
                    "histogram": [
                      {
                        "marker": {
                          "pattern": {
                            "fillmode": "overlay",
                            "size": 10,
                            "solidity": 0.2
                          }
                        },
                        "type": "histogram"
                      }
                    ],
                    "histogram2d": [
                      {
                        "colorbar": {
                          "outlinewidth": 0,
                          "ticks": ""
                        },
                        "colorscale": [
                          [
                            0,
                            "#0d0887"
                          ],
                          [
                            0.1111111111111111,
                            "#46039f"
                          ],
                          [
                            0.2222222222222222,
                            "#7201a8"
                          ],
                          [
                            0.3333333333333333,
                            "#9c179e"
                          ],
                          [
                            0.4444444444444444,
                            "#bd3786"
                          ],
                          [
                            0.5555555555555556,
                            "#d8576b"
                          ],
                          [
                            0.6666666666666666,
                            "#ed7953"
                          ],
                          [
                            0.7777777777777778,
                            "#fb9f3a"
                          ],
                          [
                            0.8888888888888888,
                            "#fdca26"
                          ],
                          [
                            1,
                            "#f0f921"
                          ]
                        ],
                        "type": "histogram2d"
                      }
                    ],
                    "histogram2dcontour": [
                      {
                        "colorbar": {
                          "outlinewidth": 0,
                          "ticks": ""
                        },
                        "colorscale": [
                          [
                            0,
                            "#0d0887"
                          ],
                          [
                            0.1111111111111111,
                            "#46039f"
                          ],
                          [
                            0.2222222222222222,
                            "#7201a8"
                          ],
                          [
                            0.3333333333333333,
                            "#9c179e"
                          ],
                          [
                            0.4444444444444444,
                            "#bd3786"
                          ],
                          [
                            0.5555555555555556,
                            "#d8576b"
                          ],
                          [
                            0.6666666666666666,
                            "#ed7953"
                          ],
                          [
                            0.7777777777777778,
                            "#fb9f3a"
                          ],
                          [
                            0.8888888888888888,
                            "#fdca26"
                          ],
                          [
                            1,
                            "#f0f921"
                          ]
                        ],
                        "type": "histogram2dcontour"
                      }
                    ],
                    "mesh3d": [
                      {
                        "colorbar": {
                          "outlinewidth": 0,
                          "ticks": ""
                        },
                        "type": "mesh3d"
                      }
                    ],
                    "parcoords": [
                      {
                        "line": {
                          "colorbar": {
                            "outlinewidth": 0,
                            "ticks": ""
                          }
                        },
                        "type": "parcoords"
                      }
                    ],
                    "pie": [
                      {
                        "automargin": true,
                        "type": "pie"
                      }
                    ],
                    "scatter": [
                      {
                        "fillpattern": {
                          "fillmode": "overlay",
                          "size": 10,
                          "solidity": 0.2
                        },
                        "type": "scatter"
                      }
                    ],
                    "scatter3d": [
                      {
                        "line": {
                          "colorbar": {
                            "outlinewidth": 0,
                            "ticks": ""
                          }
                        },
                        "marker": {
                          "colorbar": {
                            "outlinewidth": 0,
                            "ticks": ""
                          }
                        },
                        "type": "scatter3d"
                      }
                    ],
                    "scattercarpet": [
                      {
                        "marker": {
                          "colorbar": {
                            "outlinewidth": 0,
                            "ticks": ""
                          }
                        },
                        "type": "scattercarpet"
                      }
                    ],
                    "scattergeo": [
                      {
                        "marker": {
                          "colorbar": {
                            "outlinewidth": 0,
                            "ticks": ""
                          }
                        },
                        "type": "scattergeo"
                      }
                    ],
                    "scattergl": [
                      {
                        "marker": {
                          "colorbar": {
                            "outlinewidth": 0,
                            "ticks": ""
                          }
                        },
                        "type": "scattergl"
                      }
                    ],
                    "scattermapbox": [
                      {
                        "marker": {
                          "colorbar": {
                            "outlinewidth": 0,
                            "ticks": ""
                          }
                        },
                        "type": "scattermapbox"
                      }
                    ],
                    "scatterpolar": [
                      {
                        "marker": {
                          "colorbar": {
                            "outlinewidth": 0,
                            "ticks": ""
                          }
                        },
                        "type": "scatterpolar"
                      }
                    ],
                    "scatterpolargl": [
                      {
                        "marker": {
                          "colorbar": {
                            "outlinewidth": 0,
                            "ticks": ""
                          }
                        },
                        "type": "scatterpolargl"
                      }
                    ],
                    "scatterternary": [
                      {
                        "marker": {
                          "colorbar": {
                            "outlinewidth": 0,
                            "ticks": ""
                          }
                        },
                        "type": "scatterternary"
                      }
                    ],
                    "surface": [
                      {
                        "colorbar": {
                          "outlinewidth": 0,
                          "ticks": ""
                        },
                        "colorscale": [
                          [
                            0,
                            "#0d0887"
                          ],
                          [
                            0.1111111111111111,
                            "#46039f"
                          ],
                          [
                            0.2222222222222222,
                            "#7201a8"
                          ],
                          [
                            0.3333333333333333,
                            "#9c179e"
                          ],
                          [
                            0.4444444444444444,
                            "#bd3786"
                          ],
                          [
                            0.5555555555555556,
                            "#d8576b"
                          ],
                          [
                            0.6666666666666666,
                            "#ed7953"
                          ],
                          [
                            0.7777777777777778,
                            "#fb9f3a"
                          ],
                          [
                            0.8888888888888888,
                            "#fdca26"
                          ],
                          [
                            1,
                            "#f0f921"
                          ]
                        ],
                        "type": "surface"
                      }
                    ],
                    "table": [
                      {
                        "cells": {
                          "fill": {
                            "color": "#EBF0F8"
                          },
                          "line": {
                            "color": "white"
                          }
                        },
                        "header": {
                          "fill": {
                            "color": "#C8D4E3"
                          },
                          "line": {
                            "color": "white"
                          }
                        },
                        "type": "table"
                      }
                    ]
                  },
                  "layout": {
                    "annotationdefaults": {
                      "arrowcolor": "#2a3f5f",
                      "arrowhead": 0,
                      "arrowwidth": 1
                    },
                    "autotypenumbers": "strict",
                    "coloraxis": {
                      "colorbar": {
                        "outlinewidth": 0,
                        "ticks": ""
                      }
                    },
                    "colorscale": {
                      "diverging": [
                        [
                          0,
                          "#8e0152"
                        ],
                        [
                          0.1,
                          "#c51b7d"
                        ],
                        [
                          0.2,
                          "#de77ae"
                        ],
                        [
                          0.3,
                          "#f1b6da"
                        ],
                        [
                          0.4,
                          "#fde0ef"
                        ],
                        [
                          0.5,
                          "#f7f7f7"
                        ],
                        [
                          0.6,
                          "#e6f5d0"
                        ],
                        [
                          0.7,
                          "#b8e186"
                        ],
                        [
                          0.8,
                          "#7fbc41"
                        ],
                        [
                          0.9,
                          "#4d9221"
                        ],
                        [
                          1,
                          "#276419"
                        ]
                      ],
                      "sequential": [
                        [
                          0,
                          "#0d0887"
                        ],
                        [
                          0.1111111111111111,
                          "#46039f"
                        ],
                        [
                          0.2222222222222222,
                          "#7201a8"
                        ],
                        [
                          0.3333333333333333,
                          "#9c179e"
                        ],
                        [
                          0.4444444444444444,
                          "#bd3786"
                        ],
                        [
                          0.5555555555555556,
                          "#d8576b"
                        ],
                        [
                          0.6666666666666666,
                          "#ed7953"
                        ],
                        [
                          0.7777777777777778,
                          "#fb9f3a"
                        ],
                        [
                          0.8888888888888888,
                          "#fdca26"
                        ],
                        [
                          1,
                          "#f0f921"
                        ]
                      ],
                      "sequentialminus": [
                        [
                          0,
                          "#0d0887"
                        ],
                        [
                          0.1111111111111111,
                          "#46039f"
                        ],
                        [
                          0.2222222222222222,
                          "#7201a8"
                        ],
                        [
                          0.3333333333333333,
                          "#9c179e"
                        ],
                        [
                          0.4444444444444444,
                          "#bd3786"
                        ],
                        [
                          0.5555555555555556,
                          "#d8576b"
                        ],
                        [
                          0.6666666666666666,
                          "#ed7953"
                        ],
                        [
                          0.7777777777777778,
                          "#fb9f3a"
                        ],
                        [
                          0.8888888888888888,
                          "#fdca26"
                        ],
                        [
                          1,
                          "#f0f921"
                        ]
                      ]
                    },
                    "colorway": [
                      "#636efa",
                      "#EF553B",
                      "#00cc96",
                      "#ab63fa",
                      "#FFA15A",
                      "#19d3f3",
                      "#FF6692",
                      "#B6E880",
                      "#FF97FF",
                      "#FECB52"
                    ],
                    "font": {
                      "color": "#2a3f5f"
                    },
                    "geo": {
                      "bgcolor": "white",
                      "lakecolor": "white",
                      "landcolor": "#E5ECF6",
                      "showlakes": true,
                      "showland": true,
                      "subunitcolor": "white"
                    },
                    "hoverlabel": {
                      "align": "left"
                    },
                    "hovermode": "closest",
                    "mapbox": {
                      "style": "light"
                    },
                    "paper_bgcolor": "white",
                    "plot_bgcolor": "#E5ECF6",
                    "polar": {
                      "angularaxis": {
                        "gridcolor": "white",
                        "linecolor": "white",
                        "ticks": ""
                      },
                      "bgcolor": "#E5ECF6",
                      "radialaxis": {
                        "gridcolor": "white",
                        "linecolor": "white",
                        "ticks": ""
                      }
                    },
                    "scene": {
                      "xaxis": {
                        "backgroundcolor": "#E5ECF6",
                        "gridcolor": "white",
                        "gridwidth": 2,
                        "linecolor": "white",
                        "showbackground": true,
                        "ticks": "",
                        "zerolinecolor": "white"
                      },
                      "yaxis": {
                        "backgroundcolor": "#E5ECF6",
                        "gridcolor": "white",
                        "gridwidth": 2,
                        "linecolor": "white",
                        "showbackground": true,
                        "ticks": "",
                        "zerolinecolor": "white"
                      },
                      "zaxis": {
                        "backgroundcolor": "#E5ECF6",
                        "gridcolor": "white",
                        "gridwidth": 2,
                        "linecolor": "white",
                        "showbackground": true,
                        "ticks": "",
                        "zerolinecolor": "white"
                      }
                    },
                    "shapedefaults": {
                      "line": {
                        "color": "#2a3f5f"
                      }
                    },
                    "ternary": {
                      "aaxis": {
                        "gridcolor": "white",
                        "linecolor": "white",
                        "ticks": ""
                      },
                      "baxis": {
                        "gridcolor": "white",
                        "linecolor": "white",
                        "ticks": ""
                      },
                      "bgcolor": "#E5ECF6",
                      "caxis": {
                        "gridcolor": "white",
                        "linecolor": "white",
                        "ticks": ""
                      }
                    },
                    "title": {
                      "x": 0.05
                    },
                    "xaxis": {
                      "automargin": true,
                      "gridcolor": "white",
                      "linecolor": "white",
                      "ticks": "",
                      "title": {
                        "standoff": 15
                      },
                      "zerolinecolor": "white",
                      "zerolinewidth": 2
                    },
                    "yaxis": {
                      "automargin": true,
                      "gridcolor": "white",
                      "linecolor": "white",
                      "ticks": "",
                      "title": {
                        "standoff": 15
                      },
                      "zerolinecolor": "white",
                      "zerolinewidth": 2
                    }
                  }
                },
                "title": {
                  "text": "Visualización 3D de Tópicos con BERTopic"
                },
                "width": 1200
              }
            }
          },
          "metadata": {},
          "output_type": "display_data"
        }
      ],
      "source": [
        "import plotly.express as px\n",
        "\n",
        "# Obtener los embeddings de los tópicos\n",
        "topic_embeddings = topic_model.topic_embeddings_\n",
        "\n",
        "new_doc = \"Fuga de presos en San Telmo\"  # nuevo texto\n",
        "new_doc_embedding = topic_model.embedding_model.embed([new_doc])[0] # embedding de nuevo texto\n",
        "\n",
        "total = np.vstack((topic_embeddings, new_doc_embedding))\n",
        "\n",
        "# Reducir la dimensionalidad de los embeddings a 3D usando UMAP\n",
        "umap_model = UMAP(n_components=3)\n",
        "embeddings_3d = umap_model.fit_transform(total)\n",
        "\n",
        "# Obtener las etiquetas de los tópicos\n",
        "topics_labels = [str(i)+\" \"+name['name'][:50] for i, name in enumerate(topics_list) ]\n",
        "\n",
        "# Crear un DataFrame para Plotly\n",
        "df_plotly = pd.DataFrame(embeddings_3d, columns=['Dim1', 'Dim2', 'Dim3'])\n",
        "df_plotly['Topico'] = [\"-1\"] + topics_labels + ['>>'+new_doc[:15]] # Identificamos el nuevo documento\n",
        "df_plotly['Etiqueta'] = list(range(-1, len(topic_embeddings)-1)) + [new_doc[:15]]\n",
        "\n",
        "# Graficar los tópicos en 3D de manera interactiva usando Plotly, ajustando el tamaño del gráfico\n",
        "fig = px.scatter_3d(df_plotly, x='Dim1', y='Dim2', z='Dim3', color='Topico', text='Etiqueta', title='Visualización 3D de Tópicos con BERTopic')\n",
        "\n",
        "\n",
        "# Ajustar el tamaño del gráfico\n",
        "fig.update_layout(\n",
        "    autosize=False,\n",
        "    width=1200,  # Ancho del gráfico\n",
        "    height=800,  # Altura del gráfico\n",
        "    margin=dict(l=65, r=50, b=65, t=90)\n",
        ")\n",
        "\n",
        "# Mostrar el gráfico\n",
        "fig.show()"
      ]
    },
    {
      "cell_type": "markdown",
      "metadata": {},
      "source": [
        "### Resumen"
      ]
    },
    {
      "cell_type": "markdown",
      "metadata": {},
      "source": [
        "Luego de correr esta notebook se puede observar en elastivue los topicos generados"
      ]
    },
    {
      "cell_type": "code",
      "execution_count": 46,
      "metadata": {},
      "outputs": [
        {
          "data": {
            "image/png": "[encoded data removed]",
            "text/plain": [
              "<IPython.core.display.Image object>"
            ]
          },
          "metadata": {},
          "output_type": "display_data"
        }
      ],
      "source": [
        "display(Image(filename=r'C:\\Users\\gabri\\OneDrive\\Machine Learning\\Github\\ITBA-NLP\\images\\elastivue_1.png'))"
      ]
    }
  ],
  "metadata": {
    "colab": {
      "include_colab_link": true,
      "provenance": []
    },
    "kernelspec": {
      "display_name": "Python 3",
      "name": "python3"
    },
    "language_info": {
      "codemirror_mode": {
        "name": "ipython",
        "version": 3
      },
      "file_extension": ".py",
      "mimetype": "text/x-python",
      "name": "python",
      "nbconvert_exporter": "python",
      "pygments_lexer": "ipython3",
      "version": "3.11.8"
    }
  },
  "nbformat": 4,
  "nbformat_minor": 0
}
