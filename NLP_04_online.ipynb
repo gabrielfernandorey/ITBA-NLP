{
  "cells": [
    {
      "cell_type": "markdown",
      "metadata": {
        "colab_type": "text",
        "id": "view-in-github"
      },
      "source": [
        "<a href=\"https://colab.research.google.com/github/gabrielfernandorey/ITBA-NLP/blob/main/ITBA_nlp01.ipynb\" target=\"_parent\"><img src=\"https://colab.research.google.com/assets/colab-badge.svg\" alt=\"Open In Colab\"/></a>"
      ]
    },
    {
      "cell_type": "markdown",
      "metadata": {
        "id": "g6GzUxPz0r9-"
      },
      "source": [
        "# Trabajo Practico NLP - Detección de Tópicos y clasificación\n",
        "- ITBA 2024\n",
        "- Alumno: Gabriel Rey\n",
        "---"
      ]
    },
    {
      "cell_type": "markdown",
      "metadata": {},
      "source": [
        "## OnLine models"
      ]
    },
    {
      "cell_type": "code",
      "execution_count": 1,
      "metadata": {
        "colab": {
          "base_uri": "https://localhost:8080/"
        },
        "collapsed": true,
        "id": "P7eCyxiT1rcu",
        "outputId": "1e5d8d12-903f-4a10-ddd3-6d7d9ae83cc7"
      },
      "outputs": [],
      "source": [
        "import warnings\n",
        "warnings.filterwarnings('ignore')\n",
        "\n",
        "import pandas as pd\n",
        "pd.set_option('display.max_colwidth', None)\n",
        "import numpy as np\n",
        "from matplotlib import pyplot as plt\n",
        "import os\n",
        "import json\n",
        "from datetime import datetime, date\n",
        "from dateutil.parser import parse\n",
        "from dotenv import load_dotenv\n",
        "\n",
        "from NLP_tools import Cleaning_text, top_keywords, top_entities, get_topic_name, best_document, clean_all, topic_documents\n",
        "from core.functions import *"
      ]
    },
    {
      "cell_type": "code",
      "execution_count": 2,
      "metadata": {},
      "outputs": [],
      "source": [
        "from sklearn.feature_extraction.text import CountVectorizer, TfidfVectorizer\n",
        "from sklearn.metrics.pairwise import cosine_similarity\n",
        "from sklearn.cluster import MiniBatchKMeans\n",
        "from sklearn.decomposition import IncrementalPCA\n",
        "\n",
        "from tqdm import tqdm\n",
        "\n",
        "from umap import UMAP\n",
        "from hdbscan import HDBSCAN\n",
        "from sentence_transformers import SentenceTransformer\n",
        "from bertopic import BERTopic\n",
        "from bertopic.representation import KeyBERTInspired\n",
        "from bertopic.vectorizers import ClassTfidfTransformer\n",
        "from bertopic.vectorizers import OnlineCountVectorizer"
      ]
    },
    {
      "cell_type": "markdown",
      "metadata": {},
      "source": [
        "### Path"
      ]
    },
    {
      "cell_type": "code",
      "execution_count": 3,
      "metadata": {},
      "outputs": [
        {
          "data": {
            "text/plain": [
              "'C:/Users/gabri/OneDrive/Machine Learning/Github/ITBA-NLP/data/'"
            ]
          },
          "execution_count": 3,
          "metadata": {},
          "output_type": "execute_result"
        }
      ],
      "source": [
        "load_dotenv()\n",
        "PATH_REMOTO='/content/ITBA-NLP/data/'\n",
        "PATH=os.environ.get('PATH_LOCAL', PATH_REMOTO)\n",
        "PATH"
      ]
    },
    {
      "cell_type": "code",
      "execution_count": 4,
      "metadata": {},
      "outputs": [],
      "source": [
        "if PATH == os.environ.get('PATH_LOCAL'):\n",
        "    client = OpenAI(api_key= os.environ.get('OPENAI_API_KEY'))\n",
        "else:\n",
        "    from google.colab import userdata\n",
        "    client = OpenAI(api_key= userdata.get('OPENAI_API_KEY'))"
      ]
    },
    {
      "cell_type": "markdown",
      "metadata": {},
      "source": [
        "### Cargamos noticias de dos chunks"
      ]
    },
    {
      "cell_type": "code",
      "execution_count": 44,
      "metadata": {},
      "outputs": [],
      "source": [
        "# Set de datos\n",
        "\n",
        "batch_news = 500\n",
        "\n",
        "chunk_1 = '20240715'\n",
        "df_parquet_1 = pd.read_parquet(PATH+chunk_1+\".parquet\")\n",
        "df_parquet_1 = df_parquet_1.sample(n=int(batch_news)).copy()\n",
        "data_1 = list(df_parquet_1['text'])\n",
        "\n",
        "chunk_2 = '20240716'\n",
        "df_parquet_2 = pd.read_parquet(PATH+chunk_2+\".parquet\")\n",
        "df_parquet_2 = df_parquet_2.sample(n=int(batch_news)).copy()\n",
        "data_2 = list(df_parquet_2['text'])"
      ]
    },
    {
      "cell_type": "code",
      "execution_count": 45,
      "metadata": {},
      "outputs": [],
      "source": [
        "# Unificamos datos\n",
        "df_parquet = pd.concat([df_parquet_1, df_parquet_2], ignore_index=True)"
      ]
    },
    {
      "cell_type": "code",
      "execution_count": 46,
      "metadata": {},
      "outputs": [
        {
          "data": {
            "text/plain": [
              "1000"
            ]
          },
          "execution_count": 46,
          "metadata": {},
          "output_type": "execute_result"
        }
      ],
      "source": [
        "len(df_parquet)"
      ]
    },
    {
      "cell_type": "code",
      "execution_count": 8,
      "metadata": {},
      "outputs": [],
      "source": [
        "# Stopwords\n",
        "SPANISH_STOPWORDS = list(pd.read_csv(PATH+'spanish_stop_words.csv' )['stopwords'].values)"
      ]
    },
    {
      "cell_type": "markdown",
      "metadata": {
        "id": "mHLnakcu2MOq"
      },
      "source": [
        "### Modelo "
      ]
    },
    {
      "cell_type": "code",
      "execution_count": 47,
      "metadata": {},
      "outputs": [],
      "source": [
        "# Step 1 - Extract embeddings\n",
        "embedding_model = SentenceTransformer(\"paraphrase-multilingual-MiniLM-L12-v2\")\n",
        "\n",
        "# Prepare sub-models that support online learning\n",
        "umap_model = IncrementalPCA(n_components=10)\n",
        "cluster_model = MiniBatchKMeans(n_clusters=100, random_state=0)\n",
        "vectorizer_model = OnlineCountVectorizer(stop_words=SPANISH_STOPWORDS, decay=.01)\n",
        "\n",
        "\n",
        "topic_model = BERTopic(\n",
        "    embedding_model=embedding_model,\n",
        "    umap_model=umap_model,\n",
        "    hdbscan_model=cluster_model,\n",
        "    vectorizer_model=vectorizer_model,\n",
        "    ) #calculate_probabilities=True"
      ]
    },
    {
      "cell_type": "code",
      "execution_count": 48,
      "metadata": {},
      "outputs": [
        {
          "data": {
            "text/plain": [
              "<bertopic._bertopic.BERTopic at 0x26fdb98ef10>"
            ]
          },
          "execution_count": 48,
          "metadata": {},
          "output_type": "execute_result"
        }
      ],
      "source": [
        "# Entrenar con el primer set de datos\n",
        "topic_model.partial_fit(data_1)"
      ]
    },
    {
      "cell_type": "code",
      "execution_count": 15,
      "metadata": {},
      "outputs": [],
      "source": [
        "def topic_data_view(model, df, probs=None):\n",
        "    reg = []\n",
        "    for topic_number in range(len(model.get_topic_info())):\n",
        "        docs_per_topics = [i for i, x in enumerate(model.topics_) if x == topic_number]\n",
        "        for doc in docs_per_topics:\n",
        "            if probs is None:\n",
        "                reg.append([str(topic_number), str(doc), df.iloc[doc].title])\n",
        "                columns=['Topic','Id Doc','Title']\n",
        "            else:\n",
        "                prob = np.max(probs[doc])\n",
        "                reg.append([str(topic_number), str(doc), df.iloc[doc].title, prob])\n",
        "                columns=['Topic','Id Doc','Title','Probs']\n",
        "\n",
        "    df_query = pd.DataFrame(reg, columns=columns)\n",
        "    return df_query"
      ]
    },
    {
      "cell_type": "code",
      "execution_count": 49,
      "metadata": {},
      "outputs": [
        {
          "data": {
            "text/html": [
              "<div>\n",
              "<style scoped>\n",
              "    .dataframe tbody tr th:only-of-type {\n",
              "        vertical-align: middle;\n",
              "    }\n",
              "\n",
              "    .dataframe tbody tr th {\n",
              "        vertical-align: top;\n",
              "    }\n",
              "\n",
              "    .dataframe thead th {\n",
              "        text-align: right;\n",
              "    }\n",
              "</style>\n",
              "<table border=\"1\" class=\"dataframe\">\n",
              "  <thead>\n",
              "    <tr style=\"text-align: right;\">\n",
              "      <th></th>\n",
              "      <th>Topic</th>\n",
              "      <th>Id Doc</th>\n",
              "      <th>Title</th>\n",
              "    </tr>\n",
              "  </thead>\n",
              "  <tbody>\n",
              "    <tr>\n",
              "      <th>0</th>\n",
              "      <td>0</td>\n",
              "      <td>146</td>\n",
              "      <td>El equipo de TN fue echado brutalmente del estadio de la final de la Copa América</td>\n",
              "    </tr>\n",
              "    <tr>\n",
              "      <th>1</th>\n",
              "      <td>0</td>\n",
              "      <td>176</td>\n",
              "      <td>La paridad de género llega a los Juegos Olímpicos</td>\n",
              "    </tr>\n",
              "    <tr>\n",
              "      <th>2</th>\n",
              "      <td>0</td>\n",
              "      <td>228</td>\n",
              "      <td>Imposible no llorar: los mejores videos de Ángel Di María en la Selección</td>\n",
              "    </tr>\n",
              "    <tr>\n",
              "      <th>3</th>\n",
              "      <td>0</td>\n",
              "      <td>270</td>\n",
              "      <td>El penal que no fue y el gol anulado: las polémicas del Argentina-Colombia en la final de la Copa América</td>\n",
              "    </tr>\n",
              "    <tr>\n",
              "      <th>4</th>\n",
              "      <td>0</td>\n",
              "      <td>274</td>\n",
              "      <td>Del Obelisco a un paseo en canoa por Tucumán: los festejos en toda Argentina por la conquista de la Copa América</td>\n",
              "    </tr>\n",
              "    <tr>\n",
              "      <th>...</th>\n",
              "      <td>...</td>\n",
              "      <td>...</td>\n",
              "      <td>...</td>\n",
              "    </tr>\n",
              "    <tr>\n",
              "      <th>495</th>\n",
              "      <td>99</td>\n",
              "      <td>153</td>\n",
              "      <td>Homenaje memorable de la Selección a Ángel Di María en su despedida</td>\n",
              "    </tr>\n",
              "    <tr>\n",
              "      <th>496</th>\n",
              "      <td>99</td>\n",
              "      <td>167</td>\n",
              "      <td>Histórico: Argentina venció 1-0 a Colombia en el tiempo extra y se consagró bicampeón de la Copa América</td>\n",
              "    </tr>\n",
              "    <tr>\n",
              "      <th>497</th>\n",
              "      <td>99</td>\n",
              "      <td>275</td>\n",
              "      <td>La última de Di María, el héroe de las mil finales | Adiós grandioso del crack que se hizo ídolo a fuerza de perseverancia y golazos</td>\n",
              "    </tr>\n",
              "    <tr>\n",
              "      <th>498</th>\n",
              "      <td>99</td>\n",
              "      <td>339</td>\n",
              "      <td>Así cantó Abel Pintos el Himno de Argentina en la final</td>\n",
              "    </tr>\n",
              "    <tr>\n",
              "      <th>499</th>\n",
              "      <td>99</td>\n",
              "      <td>475</td>\n",
              "      <td>Argentina, bicampeón de la Copa América: sin Messi y con drama, la Scaloneta estiró su saga de éxitos y ya es la mejor Selección de la historia</td>\n",
              "    </tr>\n",
              "  </tbody>\n",
              "</table>\n",
              "<p>500 rows × 3 columns</p>\n",
              "</div>"
            ],
            "text/plain": [
              "    Topic Id Doc  \\\n",
              "0       0    146   \n",
              "1       0    176   \n",
              "2       0    228   \n",
              "3       0    270   \n",
              "4       0    274   \n",
              "..    ...    ...   \n",
              "495    99    153   \n",
              "496    99    167   \n",
              "497    99    275   \n",
              "498    99    339   \n",
              "499    99    475   \n",
              "\n",
              "                                                                                                                                               Title  \n",
              "0                                                                  El equipo de TN fue echado brutalmente del estadio de la final de la Copa América  \n",
              "1                                                                                                  La paridad de género llega a los Juegos Olímpicos  \n",
              "2                                                                          Imposible no llorar: los mejores videos de Ángel Di María en la Selección  \n",
              "3                                          El penal que no fue y el gol anulado: las polémicas del Argentina-Colombia en la final de la Copa América  \n",
              "4                                   Del Obelisco a un paseo en canoa por Tucumán: los festejos en toda Argentina por la conquista de la Copa América  \n",
              "..                                                                                                                                               ...  \n",
              "495                                                                              Homenaje memorable de la Selección a Ángel Di María en su despedida  \n",
              "496                                         Histórico: Argentina venció 1-0 a Colombia en el tiempo extra y se consagró bicampeón de la Copa América  \n",
              "497             La última de Di María, el héroe de las mil finales | Adiós grandioso del crack que se hizo ídolo a fuerza de perseverancia y golazos  \n",
              "498                                                                                          Así cantó Abel Pintos el Himno de Argentina en la final  \n",
              "499  Argentina, bicampeón de la Copa América: sin Messi y con drama, la Scaloneta estiró su saga de éxitos y ya es la mejor Selección de la historia  \n",
              "\n",
              "[500 rows x 3 columns]"
            ]
          },
          "execution_count": 49,
          "metadata": {},
          "output_type": "execute_result"
        }
      ],
      "source": [
        "df_out_1 = topic_data_view(topic_model, df_parquet_1)\n",
        "df_out_1"
      ]
    },
    {
      "cell_type": "code",
      "execution_count": null,
      "metadata": {},
      "outputs": [],
      "source": [
        "# Copia del modelo original\n",
        "model_1 = topic_model\n",
        "\n",
        "# Realizar un fit_transform en lugar de partial_fit, (para obtener mas adelante las probs)\n",
        "topics_1 = model_1.fit_transform(data_1)"
      ]
    },
    {
      "cell_type": "code",
      "execution_count": null,
      "metadata": {},
      "outputs": [],
      "source": [
        "def calculate_probabilities(model, docs):\n",
        "    # Transformar documentos al espacio vectorial\n",
        "    embeddings = model.embedding_model.embed(docs)\n",
        "\n",
        "    # Aplicar reducción de dimensionalidad\n",
        "    reduced_embeddings = model.umap_model.transform(embeddings)\n",
        "    \n",
        "    # Predecir clústeres y calcular distancias\n",
        "    clusters = model.hdbscan_model.predict(reduced_embeddings)\n",
        "    distances = model.hdbscan_model.transform(reduced_embeddings)\n",
        "    \n",
        "    # Aproximar probabilidades (probabilidad inversamente proporcional a la distancia)\n",
        "    max_distances = np.max(distances, axis=1, keepdims=True)\n",
        "    probs = 1 - (distances / max_distances)\n",
        "    return clusters, probs"
      ]
    },
    {
      "cell_type": "code",
      "execution_count": null,
      "metadata": {},
      "outputs": [],
      "source": [
        "# Obtener probabilidades para un nuevo conjunto de datos\n",
        "topics_1x, probs_1 = calculate_probabilities(model_1, data_1)"
      ]
    },
    {
      "cell_type": "code",
      "execution_count": null,
      "metadata": {},
      "outputs": [],
      "source": [
        "topic_data_view(model_1, df_parquet_1, probs_1)"
      ]
    },
    {
      "cell_type": "code",
      "execution_count": null,
      "metadata": {},
      "outputs": [],
      "source": [
        "def topic_count(topic_model):\n",
        "    # Obtener documentos de cada tópico\n",
        "    topic_freq = topic_model.get_topic_freq()\n",
        "\n",
        "    # Imprimir el número de tópicos encontrados (incluyendo el tópico -1)\n",
        "    num_topics = len(topic_freq)\n",
        "    print(f\"Número de tópicos encontrados: {num_topics} (incluye el topico -1)\")\n",
        "\n",
        "    # Imprimir la cant de documentos de cada tópico\n",
        "    print(topic_freq)"
      ]
    },
    {
      "cell_type": "code",
      "execution_count": null,
      "metadata": {},
      "outputs": [],
      "source": [
        "topic_count(model_1)"
      ]
    },
    {
      "cell_type": "code",
      "execution_count": null,
      "metadata": {},
      "outputs": [],
      "source": [
        "topic_labels = model_1.generate_topic_labels()\n",
        "topic_labels"
      ]
    },
    {
      "cell_type": "markdown",
      "metadata": {},
      "source": [
        "Resultado parcial set 2 (incremental)"
      ]
    },
    {
      "cell_type": "code",
      "execution_count": 13,
      "metadata": {},
      "outputs": [
        {
          "data": {
            "text/plain": [
              "<bertopic._bertopic.BERTopic at 0x1c72c058190>"
            ]
          },
          "execution_count": 13,
          "metadata": {},
          "output_type": "execute_result"
        }
      ],
      "source": [
        "# Entrenar con el segundo set de datos\n",
        "topic_model.partial_fit(data_2)"
      ]
    },
    {
      "cell_type": "code",
      "execution_count": null,
      "metadata": {},
      "outputs": [],
      "source": [
        "# Copia del modelo original\n",
        "model_2 = topic_model\n",
        "\n",
        "# Realizar un fit_transform en lugar de partial_fit, (para obtener mas adelante las probs)\n",
        "topics_2 = model_2.fit_transform(data_2)"
      ]
    },
    {
      "cell_type": "code",
      "execution_count": null,
      "metadata": {},
      "outputs": [],
      "source": [
        "topic_data_view(model_2, df_parquet_2)"
      ]
    },
    {
      "cell_type": "code",
      "execution_count": 16,
      "metadata": {},
      "outputs": [
        {
          "data": {
            "text/html": [
              "<div>\n",
              "<style scoped>\n",
              "    .dataframe tbody tr th:only-of-type {\n",
              "        vertical-align: middle;\n",
              "    }\n",
              "\n",
              "    .dataframe tbody tr th {\n",
              "        vertical-align: top;\n",
              "    }\n",
              "\n",
              "    .dataframe thead th {\n",
              "        text-align: right;\n",
              "    }\n",
              "</style>\n",
              "<table border=\"1\" class=\"dataframe\">\n",
              "  <thead>\n",
              "    <tr style=\"text-align: right;\">\n",
              "      <th></th>\n",
              "      <th>Topic</th>\n",
              "      <th>Id Doc</th>\n",
              "      <th>Title</th>\n",
              "    </tr>\n",
              "  </thead>\n",
              "  <tbody>\n",
              "    <tr>\n",
              "      <th>0</th>\n",
              "      <td>0</td>\n",
              "      <td>38</td>\n",
              "      <td>La Municipalidad anuncia los cortes de calle por obras para este martes</td>\n",
              "    </tr>\n",
              "    <tr>\n",
              "      <th>1</th>\n",
              "      <td>0</td>\n",
              "      <td>64</td>\n",
              "      <td>Pistas seguras para lograr identificar y detener al asaltante de \"Tiso\" Dam y su esposa</td>\n",
              "    </tr>\n",
              "    <tr>\n",
              "      <th>2</th>\n",
              "      <td>0</td>\n",
              "      <td>75</td>\n",
              "      <td>Nuevos focos de fuego complican el control del incendio en el predio de OSSE</td>\n",
              "    </tr>\n",
              "    <tr>\n",
              "      <th>3</th>\n",
              "      <td>0</td>\n",
              "      <td>76</td>\n",
              "      <td>Incendio afectó casi 40 hectáreas del predio de OSSE en ruta 11: controlado y sin viviendas en riesgo</td>\n",
              "    </tr>\n",
              "    <tr>\n",
              "      <th>4</th>\n",
              "      <td>0</td>\n",
              "      <td>80</td>\n",
              "      <td>El Gobierno envió al Congreso el proyecto para bajar la edad de imputabilidad a los 13 años</td>\n",
              "    </tr>\n",
              "    <tr>\n",
              "      <th>...</th>\n",
              "      <td>...</td>\n",
              "      <td>...</td>\n",
              "      <td>...</td>\n",
              "    </tr>\n",
              "    <tr>\n",
              "      <th>995</th>\n",
              "      <td>49</td>\n",
              "      <td>865</td>\n",
              "      <td>Claudio Sesín: acecho e intuición del infinito</td>\n",
              "    </tr>\n",
              "    <tr>\n",
              "      <th>996</th>\n",
              "      <td>49</td>\n",
              "      <td>904</td>\n",
              "      <td>Fiesta de la Abuela: «La Peña de Demi» tendrá como figuras a Raly Barrionuevo y Orellana-Lucca</td>\n",
              "    </tr>\n",
              "    <tr>\n",
              "      <th>997</th>\n",
              "      <td>49</td>\n",
              "      <td>916</td>\n",
              "      <td>Tras un enigma llamado Guillermo E. Hudson</td>\n",
              "    </tr>\n",
              "    <tr>\n",
              "      <th>998</th>\n",
              "      <td>49</td>\n",
              "      <td>917</td>\n",
              "      <td>Después de un año se estrenó Survivor: Expedición Robinson y generó todo tipo de memes</td>\n",
              "    </tr>\n",
              "    <tr>\n",
              "      <th>999</th>\n",
              "      <td>49</td>\n",
              "      <td>951</td>\n",
              "      <td>La Orquesta de Jóvenes y Adultos de la Escuela Municipal de Música brindo un espectacular concierto</td>\n",
              "    </tr>\n",
              "  </tbody>\n",
              "</table>\n",
              "<p>1000 rows × 3 columns</p>\n",
              "</div>"
            ],
            "text/plain": [
              "    Topic Id Doc  \\\n",
              "0       0     38   \n",
              "1       0     64   \n",
              "2       0     75   \n",
              "3       0     76   \n",
              "4       0     80   \n",
              "..    ...    ...   \n",
              "995    49    865   \n",
              "996    49    904   \n",
              "997    49    916   \n",
              "998    49    917   \n",
              "999    49    951   \n",
              "\n",
              "                                                                                                     Title  \n",
              "0                                  La Municipalidad anuncia los cortes de calle por obras para este martes  \n",
              "1                  Pistas seguras para lograr identificar y detener al asaltante de \"Tiso\" Dam y su esposa  \n",
              "2                             Nuevos focos de fuego complican el control del incendio en el predio de OSSE  \n",
              "3    Incendio afectó casi 40 hectáreas del predio de OSSE en ruta 11: controlado y sin viviendas en riesgo  \n",
              "4              El Gobierno envió al Congreso el proyecto para bajar la edad de imputabilidad a los 13 años  \n",
              "..                                                                                                     ...  \n",
              "995                                                         Claudio Sesín: acecho e intuición del infinito  \n",
              "996         Fiesta de la Abuela: «La Peña de Demi» tendrá como figuras a Raly Barrionuevo y Orellana-Lucca  \n",
              "997                                                             Tras un enigma llamado Guillermo E. Hudson  \n",
              "998                 Después de un año se estrenó Survivor: Expedición Robinson y generó todo tipo de memes  \n",
              "999    La Orquesta de Jóvenes y Adultos de la Escuela Municipal de Música brindo un espectacular concierto  \n",
              "\n",
              "[1000 rows x 3 columns]"
            ]
          },
          "execution_count": 16,
          "metadata": {},
          "output_type": "execute_result"
        }
      ],
      "source": [
        "df_iter_2 = topic_data_view(topic_model, df_parquet_2)\n",
        "df_iter_2"
      ]
    },
    {
      "cell_type": "code",
      "execution_count": null,
      "metadata": {},
      "outputs": [],
      "source": [
        "# Obtener documentos de cada tópico\n",
        "topic_freq = topic_model.get_topic_freq()\n",
        "\n",
        "# Imprimir el número de tópicos encontrados (incluyendo el tópico -1)\n",
        "num_topics = len(topic_freq)\n",
        "print(f\"Número de tópicos encontrados: {num_topics} (incluye el topico -1)\")\n",
        "\n",
        "# Imprimir la cant de documentos de cada tópico\n",
        "print(topic_freq)"
      ]
    },
    {
      "cell_type": "code",
      "execution_count": null,
      "metadata": {},
      "outputs": [],
      "source": [
        "topic_labels = topic_model.generate_topic_labels()\n",
        "topic_labels"
      ]
    },
    {
      "cell_type": "markdown",
      "metadata": {},
      "source": [
        "### Resultados"
      ]
    },
    {
      "cell_type": "code",
      "execution_count": null,
      "metadata": {},
      "outputs": [],
      "source": [
        "# Obtener los n documentos de un tópico\n",
        "topic_id = 7\n",
        "n_docs = 5\n",
        "topic_docs_idx = [i for i, (doc, topic) in enumerate(zip(list(df_parquet_1['title']), topics)) if topic == topic_id]\n",
        "n_docs = n_docs if n_docs <= len(topic_docs_idx) else len(topic_docs_idx)\n",
        "\n",
        "print(f\"{n_docs} de {len(topic_docs_idx)} titulos de noticias encontrados en el tópico {topic_id:} | {topic_labels[topic_id-1]}\")\n",
        "for idx in topic_docs_idx[:n_docs]:\n",
        "    print(\"- \",df_parquet_1.iloc[idx]['title'])"
      ]
    },
    {
      "cell_type": "code",
      "execution_count": null,
      "metadata": {},
      "outputs": [],
      "source": []
    },
    {
      "cell_type": "code",
      "execution_count": null,
      "metadata": {},
      "outputs": [],
      "source": []
    }
  ],
  "metadata": {
    "colab": {
      "authorship_tag": "ABX9TyNGxTNO4yTgb9k2r4ffbTN0",
      "include_colab_link": true,
      "provenance": []
    },
    "kernelspec": {
      "display_name": "Python 3",
      "name": "python3"
    },
    "language_info": {
      "codemirror_mode": {
        "name": "ipython",
        "version": 3
      },
      "file_extension": ".py",
      "mimetype": "text/x-python",
      "name": "python",
      "nbconvert_exporter": "python",
      "pygments_lexer": "ipython3",
      "version": "3.11.8"
    }
  },
  "nbformat": 4,
  "nbformat_minor": 0
}
