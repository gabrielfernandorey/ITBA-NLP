{
  "cells": [
    {
      "cell_type": "markdown",
      "metadata": {
        "id": "view-in-github",
        "colab_type": "text"
      },
      "source": [
        "<a href=\"https://colab.research.google.com/github/gabrielfernandorey/ITBA-NLP/blob/main/Colab%20copia%20NLP_02_model.ipynb\" target=\"_parent\"><img src=\"https://colab.research.google.com/assets/colab-badge.svg\" alt=\"Open In Colab\"/></a>"
      ]
    },
    {
      "cell_type": "markdown",
      "metadata": {
        "id": "g6GzUxPz0r9-"
      },
      "source": [
        "# Trabajo Practico NLP - Detección de Tópicos y clasificación\n",
        "- ITBA 2024\n",
        "- Alumno: Gabriel Rey\n",
        "---"
      ]
    },
    {
      "cell_type": "markdown",
      "metadata": {
        "id": "jnOQ0AwHcGdb"
      },
      "source": [
        "### NLP_02_model\n",
        "\n",
        "Esta notebook se utiliza para:\n",
        "- armar el modelo de estimación de tópicos\n",
        "- validar resultados obtenidos\n",
        "- guardar datos en los indices de opensearch\n",
        "\n",
        "Esta y las consecuentes notebooks son el desarrollo de base de procesos y funciones para la web app provista."
      ]
    },
    {
      "cell_type": "markdown",
      "metadata": {
        "id": "e59GBP66N_BK"
      },
      "source": [
        "### MODELO"
      ]
    },
    {
      "cell_type": "code",
      "source": [
        "%%capture\n",
        "from google.colab import userdata\n",
        "\n",
        "git_token = userdata.get('GIT_TOKEN')\n",
        "git_username = \"gabrielfernandorey\"\n",
        "git_repository = \"ITBA-NLP.git\"\n",
        "\n",
        "!git clone https://{git_token}@github.com/{git_username}/{git_repository}"
      ],
      "metadata": {
        "id": "MhSVZt7RdmPQ"
      },
      "execution_count": 1,
      "outputs": []
    },
    {
      "cell_type": "code",
      "source": [
        "%%capture\n",
        "!pip install python-dotenv\n",
        "!pip install bertopic\n",
        "!pip install OpenAI\n",
        "!pip install datasets"
      ],
      "metadata": {
        "id": "w_7LQNGacRdR"
      },
      "execution_count": 2,
      "outputs": []
    },
    {
      "cell_type": "code",
      "execution_count": 3,
      "metadata": {
        "collapsed": true,
        "id": "P7eCyxiT1rcu"
      },
      "outputs": [],
      "source": [
        "import warnings\n",
        "warnings.filterwarnings('ignore')\n",
        "\n",
        "import pandas as pd\n",
        "pd.set_option('display.max_colwidth', None)\n",
        "import numpy as np\n",
        "from matplotlib import pyplot as plt\n",
        "import os, sys\n",
        "import json\n",
        "import pickle\n",
        "from datetime import datetime, date\n",
        "from dateutil.parser import parse\n",
        "from dotenv import load_dotenv\n",
        "\n",
        "from sklearn.feature_extraction.text import CountVectorizer, TfidfVectorizer\n",
        "from sklearn.metrics.pairwise import cosine_similarity\n",
        "from sklearn.decomposition import NMF\n",
        "\n",
        "from tqdm import tqdm\n",
        "\n",
        "from umap import UMAP\n",
        "from hdbscan import HDBSCAN\n",
        "from sentence_transformers import SentenceTransformer\n",
        "from bertopic import BERTopic\n",
        "from bertopic.representation import KeyBERTInspired\n",
        "from bertopic.vectorizers import ClassTfidfTransformer\n",
        "\n",
        "from openai import OpenAI\n",
        "from datasets import load_dataset"
      ]
    },
    {
      "cell_type": "code",
      "source": [
        "import unicodedata\n",
        "from functools import wraps\n",
        "import re\n",
        "class Cleaning_text:\n",
        "    '''\n",
        "    Limpiar elementos no deseados del texto\n",
        "    '''\n",
        "\n",
        "    def __init__(self):\n",
        "        # Definir los caracteres Unicode no deseados\n",
        "        self.unicode_pattern    = ['\\u200e', '\\u200f', '\\u202a', '\\u202b', '\\u202c', '\\u202d', '\\u202e', '\\u202f']\n",
        "        self.urls_pattern       = re.compile(r'http\\S+')\n",
        "        self.simbols_chars      = r\"\"\"#&’'\"`´“”″()[]*+,-.;:/<=>¿?!¡@\\^_{|}~©√≠\"\"\"                 # Lista de símbolos a eliminar\n",
        "        self.simbols_pattern    = re.compile(f\"[{re.escape(self.simbols_chars)}]\")\n",
        "        self.escape_pattern     = ['\\n', '\\t', '\\r']\n",
        "\n",
        "    def _clean_decorator(clean_func):\n",
        "        @wraps(clean_func)\n",
        "        def wrapper(self, input_data):\n",
        "            def clean_string(text):\n",
        "                return clean_func(self, text)\n",
        "\n",
        "            if isinstance(input_data, str):\n",
        "                return clean_string(input_data)\n",
        "            elif isinstance(input_data, list):\n",
        "                return [clean_string(item) for item in input_data]\n",
        "            else:\n",
        "                raise TypeError(\"El argumento debe ser una cadena o una lista de cadenas.\")\n",
        "        return wrapper\n",
        "\n",
        "    @_clean_decorator\n",
        "    def unicode(self, text):\n",
        "        for pattern in self.unicode_pattern:\n",
        "            text = text.replace(pattern, ' ')\n",
        "        return text\n",
        "\n",
        "    @_clean_decorator\n",
        "    def urls(self, text):\n",
        "        return self.urls_pattern.sub(' ', text)\n",
        "\n",
        "    @_clean_decorator\n",
        "    def simbols(self, text):\n",
        "        return self.simbols_pattern.sub(' ', text)\n",
        "\n",
        "    @_clean_decorator\n",
        "    def accents_emojis(self, text):\n",
        "        return unicodedata.normalize('NFKD', text).encode('ASCII', 'ignore').decode('ASCII')\n",
        "\n",
        "    @_clean_decorator\n",
        "    def escape_sequence(self, text):\n",
        "        for pattern in self.escape_pattern:\n",
        "            text = text.replace(pattern, ' ').strip()\n",
        "        return text\n",
        "\n",
        "    @_clean_decorator\n",
        "    def str_lower(self, text):\n",
        "        return text.lower()\n",
        "\n",
        "#---------------------------------------------------------------------------------------------------------\n",
        "def clean_all(entities, accents=True, lower=True) -> list:\n",
        "    \"\"\"\n",
        "    Función que toma una lista de entidades, realiza una operación de limpieza\n",
        "    y devuelve una lista de entidades limpias.\n",
        "    \"\"\"\n",
        "    cleaner = Cleaning_text()\n",
        "\n",
        "    entities_clean = []\n",
        "    for ent in entities:\n",
        "        clean_txt = cleaner.unicode(ent)\n",
        "        clean_txt = cleaner.urls(clean_txt)\n",
        "        clean_txt = cleaner.simbols(clean_txt)\n",
        "\n",
        "        if accents:\n",
        "            clean_txt = cleaner.accents_emojis(clean_txt)\n",
        "\n",
        "        clean_txt = cleaner.escape_sequence(clean_txt)\n",
        "\n",
        "        if lower:\n",
        "            clean_txt = cleaner.str_lower(clean_txt)\n",
        "\n",
        "        entities_clean.append(\" \".join(clean_txt.split()))\n",
        "\n",
        "    return entities_clean"
      ],
      "metadata": {
        "id": "FaHddA39iape"
      },
      "execution_count": 4,
      "outputs": []
    },
    {
      "cell_type": "markdown",
      "metadata": {
        "id": "ZmkslbsDN_BT"
      },
      "source": [
        "### Path"
      ]
    },
    {
      "cell_type": "code",
      "execution_count": 5,
      "metadata": {
        "colab": {
          "base_uri": "https://localhost:8080/",
          "height": 35
        },
        "id": "ZAu1QkwYN_BU",
        "outputId": "3da076a5-0399-435e-91b9-e0f2d61a0f80"
      },
      "outputs": [
        {
          "output_type": "execute_result",
          "data": {
            "text/plain": [
              "'/content/ITBA-NLP/data/'"
            ],
            "application/vnd.google.colaboratory.intrinsic+json": {
              "type": "string"
            }
          },
          "metadata": {},
          "execution_count": 5
        }
      ],
      "source": [
        "load_dotenv()\n",
        "PATH_REMOTO='/content/ITBA-NLP/data/'\n",
        "PATH=os.environ.get('PATH_LOCAL', PATH_REMOTO)\n",
        "PATH"
      ]
    },
    {
      "cell_type": "code",
      "execution_count": 6,
      "metadata": {
        "id": "ofyYU7FzN_BU"
      },
      "outputs": [],
      "source": [
        "if PATH == os.environ.get('PATH_LOCAL'):\n",
        "    if os.environ.get('OPENAI_API_KEY'):\n",
        "        client = OpenAI(api_key= os.environ.get('OPENAI_API_KEY'))\n",
        "    else:\n",
        "        client = None\n",
        "    print(client)"
      ]
    },
    {
      "cell_type": "markdown",
      "metadata": {
        "id": "mHLnakcu2MOq"
      },
      "source": [
        "### Data de noticias original"
      ]
    },
    {
      "cell_type": "code",
      "source": [
        "def get_data_news_parquet(date_choice):\n",
        "    # Desde Hugginface\n",
        "    path_file = f\"jganzabalseenka/news_{date_choice}_24hs\"\n",
        "    dataset = load_dataset(path_file)\n",
        "    df_parquet = pd.DataFrame(dataset['train'])\n",
        "    return df_parquet\n",
        "\n",
        "def valid_data_news(df_parquet, date_choice):\n",
        "    # Validar datos para la fecha\n",
        "    choice = \"\".join(date_choice.split('-'))\n",
        "    df_parquet.sort_values(\"start_time_local\", ascending=True, inplace=True)\n",
        "    df_date_filtered = df_parquet[df_parquet['start_time_local'].dt.date == pd.to_datetime(choice).date()]\n",
        "    print(f\"Registros para la fecha {choice} -> {len(df_date_filtered)} de un total de {len(df_parquet)}\")\n",
        "    return df_date_filtered\n",
        "\n",
        "def get_batch_news(df_date_filtered, batch_news):\n",
        "    # Obtenemos un lote de N noticias por dia (para agilizar el procesamiento)\n",
        "    df_batch = df_date_filtered.sample(n=int(batch_news)).reset_index()\n",
        "    data_1 = list(df_batch['text'])\n",
        "    id_data_1 = list(df_batch['asset_id'])\n",
        "    title_data_1 = list(df_batch['title'])\n",
        "    print(f\"Batch: {len(data_1)}\")\n",
        "    return data_1, id_data_1, title_data_1\n",
        "\n",
        "def clean_data_news(data):\n",
        "    clean_data = Cleaning_text()\n",
        "    proc_data = []\n",
        "    for data_in in tqdm(data):\n",
        "        aux = clean_data.unicode(data_in)\n",
        "        aux = clean_data.urls(aux)\n",
        "        aux = clean_data.simbols(aux)\n",
        "        aux = clean_data.escape_sequence(aux)\n",
        "        aux = \" \".join([ word for word in aux.split() if word.lower() not in SPANISH_STOPWORDS_SPECIAL])\n",
        "        proc_data.append(aux)\n",
        "    return proc_data"
      ],
      "metadata": {
        "id": "6kH_VduG-kXs"
      },
      "execution_count": 7,
      "outputs": []
    },
    {
      "cell_type": "markdown",
      "metadata": {
        "id": "HM-iYEoUcGdi"
      },
      "source": [
        "### Preprocesar las noticias\n",
        "Se realiza un preprocesamiento mínimo del texto, pero no se le quita el sentido semántico para que mediante SentenceTransformer se puedan capturar embeddings de mejor calidad."
      ]
    },
    {
      "cell_type": "code",
      "execution_count": 8,
      "metadata": {
        "id": "U6elzeTacGdi"
      },
      "outputs": [],
      "source": [
        "# Stopwords\n",
        "SPANISH_STOPWORDS = list(pd.read_csv(PATH+'spanish_stop_words.csv' )['stopwords'].values)\n",
        "SPANISH_STOPWORDS_SPECIAL = list(pd.read_csv(PATH+'spanish_stop_words_spec.csv' )['stopwords'].values)"
      ]
    },
    {
      "cell_type": "markdown",
      "metadata": {
        "id": "Hl06QkGoN_BW"
      },
      "source": [
        "### Modelo"
      ]
    },
    {
      "cell_type": "code",
      "source": [
        "#### OnLine Topic Modeling\n",
        "from sklearn.cluster import MiniBatchKMeans\n",
        "from sklearn.decomposition import IncrementalPCA\n",
        "from bertopic.vectorizers import OnlineCountVectorizer\n",
        "\n",
        "# Step 1 - Extract embeddings\n",
        "embedding_model = SentenceTransformer(\"paraphrase-multilingual-MiniLM-L12-v2\")\n",
        "\n",
        "# Prepare sub-models that support online learning\n",
        "umap_model = IncrementalPCA(n_components=5)\n",
        "cluster_model = MiniBatchKMeans(n_clusters=50, random_state=42)\n",
        "vectorizer_model = OnlineCountVectorizer(stop_words=SPANISH_STOPWORDS, decay=.01)\n",
        "\n",
        "# Step 5 - Create topic representation\n",
        "ctfidf_model = ClassTfidfTransformer()\n",
        "\n",
        "topic_online_model = BERTopic(\n",
        "    embedding_model=embedding_model,\n",
        "    umap_model=umap_model,\n",
        "    hdbscan_model=cluster_model,\n",
        "    vectorizer_model=vectorizer_model,\n",
        "    ctfidf_model=ctfidf_model,\n",
        "    verbose=True\n",
        "    )"
      ],
      "metadata": {
        "id": "wr2wXiomlP0g"
      },
      "execution_count": 45,
      "outputs": []
    },
    {
      "cell_type": "markdown",
      "source": [
        "### Entrenamiento"
      ],
      "metadata": {
        "id": "XWc6-oJXlaEq"
      }
    },
    {
      "cell_type": "code",
      "source": [
        "titles = []\n",
        "topics = []\n",
        "total_data = []"
      ],
      "metadata": {
        "id": "z-epc0S16Es5"
      },
      "execution_count": 46,
      "outputs": []
    },
    {
      "cell_type": "code",
      "source": [
        "dates_list = ['2024-07-17']\n",
        "batch_news = 1000\n",
        "for date_choice in dates_list:\n",
        "    df_parquet = get_data_news_parquet(date_choice)\n",
        "    df_date_filtered = valid_data_news(df_parquet, date_choice)\n",
        "    data, id_data, title_data = get_batch_news(df_date_filtered, batch_news)\n",
        "\n",
        "    titles.extend(title_data)\n",
        "    total_data.extend(data)\n",
        "\n",
        "    proc_data = clean_data_news(data)\n",
        "    topics_online = topic_online_model.partial_fit(proc_data)\n",
        "    topics.extend(topic_online_model.topics_)\n",
        "\n"
      ],
      "metadata": {
        "id": "31YArq36AMf9",
        "outputId": "c0cb3069-e49e-44b0-cdcd-14e4a8171d16",
        "colab": {
          "base_uri": "https://localhost:8080/",
          "height": 171,
          "referenced_widgets": [
            "aac80b82cbb742ddb8e78f0471228ba4",
            "1bf5235d471f41cc9de5beac0f736dda",
            "88a8c2b62765434bbb93da6e732bfcda",
            "01cb9646561a42a195bf601dbe115b13",
            "8a5f5f236ae640a2b269ea2ef59a6590",
            "f97a814d2c774e61a6ff714ad3716a43",
            "9ef1ebc4445f41fb8e2e05ccce43c869",
            "65ce5e533aa645b4862342483ad212b0",
            "9e3c730905ef4773a1d5bc5aa2e7c31f",
            "dcc48acc16ca411d97daee5d452e9812",
            "b7412ff0e9894b4eb515b57d5144da90"
          ]
        }
      },
      "execution_count": 56,
      "outputs": [
        {
          "output_type": "stream",
          "name": "stdout",
          "text": [
            "Registros para la fecha 20240717 -> 11663 de un total de 16037\n",
            "Batch: 1000\n"
          ]
        },
        {
          "output_type": "stream",
          "name": "stderr",
          "text": [
            "100%|██████████| 1000/1000 [00:04<00:00, 201.05it/s]\n"
          ]
        },
        {
          "output_type": "display_data",
          "data": {
            "text/plain": [
              "Batches:   0%|          | 0/32 [00:00<?, ?it/s]"
            ],
            "application/vnd.jupyter.widget-view+json": {
              "version_major": 2,
              "version_minor": 0,
              "model_id": "aac80b82cbb742ddb8e78f0471228ba4"
            }
          },
          "metadata": {}
        },
        {
          "output_type": "stream",
          "name": "stderr",
          "text": [
            "2024-08-25 19:25:01,678 - BERTopic - Dimensionality - Fitting the dimensionality reduction algorithm\n",
            "2024-08-25 19:25:02,526 - BERTopic - Dimensionality - Completed ✓\n",
            "2024-08-25 19:25:02,532 - BERTopic - Cluster - Start clustering the reduced embeddings\n",
            "2024-08-25 19:25:02,538 - BERTopic - Cluster - Completed ✓\n"
          ]
        }
      ]
    },
    {
      "cell_type": "code",
      "source": [
        "topic_id = np.random.randint(len(set(topic_online_model.topics_))-1) # Obtener un topico al azar\n",
        "topic_id = 48\n",
        "topic_keywords = topic_online_model.get_topics()[topic_id]\n",
        "docs_position_per_topic = [i for i, x in enumerate(topics) if x == topic_id]\n",
        "print(topic_id, \"_\".join([keyword[0] for keyword in topic_keywords[:4]]))\n",
        "print('-'*80)\n",
        "for doc in docs_position_per_topic:\n",
        "    print(doc, titles[doc])"
      ],
      "metadata": {
        "id": "sOuZfRZ4nofW",
        "outputId": "7eb9ea4a-cc4a-4b22-f138-b23f626eaecf",
        "colab": {
          "base_uri": "https://localhost:8080/"
        }
      },
      "execution_count": 61,
      "outputs": [
        {
          "output_type": "stream",
          "name": "stdout",
          "text": [
            "48 copa_selección_américa_argentina\n",
            "--------------------------------------------------------------------------------\n",
            "23 Deportes\n",
            "121 Caro Calvagni, la esposa de Nico Tagliafico, contó cómo fue la romántica propuesta de casamiento\n",
            "220 La Federación Francesa denunciaría a los jugadores de la Selección argentina por cantos racistas y homofóbicos\n",
            "260 La Federación Francesa denunciaría a los jugadores de la Selección argentina por cantos racistas y homofóbicos\n",
            "266 La Selección trajo la Copa América a Argentina\n",
            "290 \"La versión malvada de Julián Álvarez\": el increíble parecido del hermano del delantero\n",
            "350 El conmovedor elogio a Messi de un comentarista brasileño luego de la escena del llanto: \"La imagen es muy poderosa\"\n",
            "429 El particular elogio de un exjugador colombiano a la Scaloneta: \"En Argentina el segundo se pone a llorar\"\n",
            "436 Video: en medio de cantos eufóricos, así llegaba la Selección argentina tras ganar la final de la Copa América\n",
            "504 La Selección trajo la Copa América a Argentina y disfrutó de un recibimiento multitudinario\n",
            "549 Estas han sido las derrotas más dolorosas de la selección Colombia de fútbol en su historia reciente\n",
            "649 Insólito: salió campeón de América y pidió que no lo insulten\n",
            "660 La Federación Francesa denunciaría a los jugadores de la Selección argentina\n",
            "706 La Federación Francesa llevará a la FIFA los cánticos racistas de los jugadores argentinos\n",
            "727 El primer revés de Luciano Cabral en su llegada a México\n",
            "732 Inter Miami confirmó el grado de lesión de Lionel Messi: preocupación para Martino y la selección\n",
            "783 La crítica de tres periodistas colombianos a la Argentina antes de la final de la Copa América que se hizo viral: \"Son flojos en defensa\"\n",
            "801 Las insólitas críticas de periodistas colombianos a Cuti Romero y Molina antes de la final\n",
            "817 Subcampeón de la Copa América con la selección Colombia ya tiene nuevo equipo en España\n",
            "848 Conmebol se desliga de los incidentes en final de Copa América\n",
            "874 La Selección regresó a la Argentina después de ganar la Copa América\n",
            "964 Este es el video por el que Francia denunció a la Selección Argentina\n",
            "1027 El Gobierno oficializó la conformación del Consejo de Mayo: detalló cuales serán sus funciones y sus facultades\n",
            "1259 Paso a paso: cómo actualizar los datos para mantener los subsidios de gas y luz\n",
            "1703 Cuántas obras transfirió el Gobierno nacional a Jujuy\n"
          ]
        }
      ]
    },
    {
      "cell_type": "code",
      "source": [
        "\n",
        "\n",
        "topic_counts = {}\n",
        "for topic in set(topics):\n",
        "  topic_counts[topic] = topics.count(topic)\n",
        "\n",
        "topic_counts_list = [[topic, count] for topic, count in topic_counts.items()]\n",
        "print(len(topic_counts_list))\n",
        "for i in range(len(topic_counts_list)):\n",
        "    print(topic_counts_list[i])\n"
      ],
      "metadata": {
        "id": "rXUAZ9Kc-8jW",
        "outputId": "24732465-2900-4e24-cc2e-6a99f74ffa27",
        "colab": {
          "base_uri": "https://localhost:8080/"
        }
      },
      "execution_count": 57,
      "outputs": [
        {
          "output_type": "stream",
          "name": "stdout",
          "text": [
            "50\n",
            "[0, 66]\n",
            "[1, 71]\n",
            "[2, 47]\n",
            "[3, 43]\n",
            "[4, 44]\n",
            "[5, 31]\n",
            "[6, 43]\n",
            "[7, 35]\n",
            "[8, 55]\n",
            "[9, 16]\n",
            "[10, 31]\n",
            "[11, 34]\n",
            "[12, 36]\n",
            "[13, 30]\n",
            "[14, 72]\n",
            "[15, 21]\n",
            "[16, 40]\n",
            "[17, 58]\n",
            "[18, 7]\n",
            "[19, 34]\n",
            "[20, 35]\n",
            "[21, 33]\n",
            "[22, 57]\n",
            "[23, 19]\n",
            "[24, 57]\n",
            "[25, 58]\n",
            "[26, 54]\n",
            "[27, 42]\n",
            "[28, 28]\n",
            "[29, 24]\n",
            "[30, 37]\n",
            "[31, 42]\n",
            "[32, 22]\n",
            "[33, 69]\n",
            "[34, 16]\n",
            "[35, 9]\n",
            "[36, 43]\n",
            "[37, 67]\n",
            "[38, 37]\n",
            "[39, 29]\n",
            "[40, 34]\n",
            "[41, 48]\n",
            "[42, 23]\n",
            "[43, 30]\n",
            "[44, 32]\n",
            "[45, 36]\n",
            "[46, 77]\n",
            "[47, 44]\n",
            "[48, 25]\n",
            "[49, 59]\n"
          ]
        }
      ]
    },
    {
      "cell_type": "code",
      "source": [
        "embeddings = topic_online_model.embedding_model.embed(total_data)"
      ],
      "metadata": {
        "id": "606CbBmxIOwB"
      },
      "execution_count": 63,
      "outputs": []
    },
    {
      "cell_type": "code",
      "source": [
        "def calculate_probabilities(model, docs):\n",
        "    # Transformar documentos al espacio vectorial\n",
        "    embeddings = model.embedding_model.embed(docs)\n",
        "\n",
        "    # Aplicar reducción de dimensionalidad\n",
        "    reduced_embeddings = model.umap_model.transform(embeddings)\n",
        "\n",
        "    # Predecir clústeres y calcular distancias\n",
        "    clusters = model.hdbscan_model.predict(reduced_embeddings)\n",
        "    distances = model.hdbscan_model.transform(reduced_embeddings)\n",
        "\n",
        "    # Aproximar probabilidades (probabilidad inversamente proporcional a la distancia)\n",
        "    max_distances = np.max(distances, axis=1, keepdims=True)\n",
        "    probs = 1 - (distances / max_distances)\n",
        "    return clusters, probs"
      ],
      "metadata": {
        "id": "JULvyqZZEx8S"
      },
      "execution_count": 64,
      "outputs": []
    },
    {
      "cell_type": "code",
      "source": [
        "# Obtener probabilidades para un nuevo conjunto de datos\n",
        "topics_x, probs_x = calculate_probabilities(topic_online_model, data)"
      ],
      "metadata": {
        "id": "_onu0NMHE832"
      },
      "execution_count": 65,
      "outputs": []
    },
    {
      "cell_type": "code",
      "source": [
        "def topic_data_view(model, df, probs=None):\n",
        "    reg = []\n",
        "    for topic_number in range(len(model.get_topic_info())):\n",
        "        docs_per_topics = [i for i, x in enumerate(model.topics_) if x == topic_number]\n",
        "        for doc in docs_per_topics:\n",
        "            if probs is None:\n",
        "                reg.append([str(topic_number), str(doc), df.iloc[doc].title])\n",
        "                columns=['Topic','Id Doc','Title']\n",
        "            else:\n",
        "                prob = np.max(probs[doc])\n",
        "                reg.append([str(topic_number), str(doc), df.iloc[doc].title, prob])\n",
        "                columns=['Topic','Id Doc','Title','Probs']\n",
        "\n",
        "    df_query = pd.DataFrame(reg, columns=columns)\n",
        "    return df_query"
      ],
      "metadata": {
        "id": "7hjYtLmxJn2L"
      },
      "execution_count": 66,
      "outputs": []
    },
    {
      "cell_type": "code",
      "source": [
        "topic_data_view(topic_online_model, df_parquet, probs_x)"
      ],
      "metadata": {
        "id": "30Vo2X-eJrny",
        "outputId": "22a9ec0b-d8a8-40e6-b60e-3766a01ac18a",
        "colab": {
          "base_uri": "https://localhost:8080/",
          "height": 2300
        }
      },
      "execution_count": 67,
      "outputs": [
        {
          "output_type": "execute_result",
          "data": {
            "text/plain": [
              "    Topic Id Doc  \\\n",
              "0       0      0   \n",
              "1       0     22   \n",
              "2       0     89   \n",
              "3       0     98   \n",
              "4       0    106   \n",
              "..    ...    ...   \n",
              "995    49    926   \n",
              "996    49    927   \n",
              "997    49    966   \n",
              "998    49    983   \n",
              "999    49    988   \n",
              "\n",
              "                                                                                                          Title  \\\n",
              "0                                                    Venado Tuerto: Joven Herido de Gravedad tras Violenta Riña   \n",
              "1                                                     Empleo remoto y pagan 48.000 dólares al año: cómo aplicar   \n",
              "2                    En el Servicio Penitenciario de San Juan ayudan a jóvenes que transitan su primera condena   \n",
              "3          Estados Unidos y China enfrentados por la supremacía del dinero cuántico, un nuevo paradigma mundial   \n",
              "4                                         Walter Mercado: Horóscopos mágicos de la semana del 16 al 22 de julio   \n",
              "..                                                                                                          ...   \n",
              "995                                                                 Viví las vacaciones de invierno en Baradero   \n",
              "996            PreocupaciónConfirmado por Inter Miami: ¿Qué lesión tiene Messi y cuánto tiempo de recuperación?   \n",
              "997      A un año de ser diagnosticada con leucemia, Wanda Nara compartió una impactante foto de su internación   \n",
              "998  «¿Cuál es la diferencia entre el euro hoy y el euro blue? Descubre cómo cotizaron este martes 16 de julio»   \n",
              "999                                                   Senior: final de la primera fase de playoffs del Apertura   \n",
              "\n",
              "        Probs  \n",
              "0    0.835167  \n",
              "1    0.775971  \n",
              "2    0.836286  \n",
              "3    0.803121  \n",
              "4    0.808945  \n",
              "..        ...  \n",
              "995  0.749698  \n",
              "996  0.817684  \n",
              "997  0.737150  \n",
              "998  0.712060  \n",
              "999  0.777201  \n",
              "\n",
              "[1000 rows x 4 columns]"
            ],
            "text/html": [
              "\n",
              "  <div id=\"df-2659fbeb-4579-43b9-9fe7-534adeb94c61\" class=\"colab-df-container\">\n",
              "    <div>\n",
              "<style scoped>\n",
              "    .dataframe tbody tr th:only-of-type {\n",
              "        vertical-align: middle;\n",
              "    }\n",
              "\n",
              "    .dataframe tbody tr th {\n",
              "        vertical-align: top;\n",
              "    }\n",
              "\n",
              "    .dataframe thead th {\n",
              "        text-align: right;\n",
              "    }\n",
              "</style>\n",
              "<table border=\"1\" class=\"dataframe\">\n",
              "  <thead>\n",
              "    <tr style=\"text-align: right;\">\n",
              "      <th></th>\n",
              "      <th>Topic</th>\n",
              "      <th>Id Doc</th>\n",
              "      <th>Title</th>\n",
              "      <th>Probs</th>\n",
              "    </tr>\n",
              "  </thead>\n",
              "  <tbody>\n",
              "    <tr>\n",
              "      <th>0</th>\n",
              "      <td>0</td>\n",
              "      <td>0</td>\n",
              "      <td>Venado Tuerto: Joven Herido de Gravedad tras Violenta Riña</td>\n",
              "      <td>0.835167</td>\n",
              "    </tr>\n",
              "    <tr>\n",
              "      <th>1</th>\n",
              "      <td>0</td>\n",
              "      <td>22</td>\n",
              "      <td>Empleo remoto y pagan 48.000 dólares al año: cómo aplicar</td>\n",
              "      <td>0.775971</td>\n",
              "    </tr>\n",
              "    <tr>\n",
              "      <th>2</th>\n",
              "      <td>0</td>\n",
              "      <td>89</td>\n",
              "      <td>En el Servicio Penitenciario de San Juan ayudan a jóvenes que transitan su primera condena</td>\n",
              "      <td>0.836286</td>\n",
              "    </tr>\n",
              "    <tr>\n",
              "      <th>3</th>\n",
              "      <td>0</td>\n",
              "      <td>98</td>\n",
              "      <td>Estados Unidos y China enfrentados por la supremacía del dinero cuántico, un nuevo paradigma mundial</td>\n",
              "      <td>0.803121</td>\n",
              "    </tr>\n",
              "    <tr>\n",
              "      <th>4</th>\n",
              "      <td>0</td>\n",
              "      <td>106</td>\n",
              "      <td>Walter Mercado: Horóscopos mágicos de la semana del 16 al 22 de julio</td>\n",
              "      <td>0.808945</td>\n",
              "    </tr>\n",
              "    <tr>\n",
              "      <th>...</th>\n",
              "      <td>...</td>\n",
              "      <td>...</td>\n",
              "      <td>...</td>\n",
              "      <td>...</td>\n",
              "    </tr>\n",
              "    <tr>\n",
              "      <th>995</th>\n",
              "      <td>49</td>\n",
              "      <td>926</td>\n",
              "      <td>Viví las vacaciones de invierno en Baradero</td>\n",
              "      <td>0.749698</td>\n",
              "    </tr>\n",
              "    <tr>\n",
              "      <th>996</th>\n",
              "      <td>49</td>\n",
              "      <td>927</td>\n",
              "      <td>PreocupaciónConfirmado por Inter Miami: ¿Qué lesión tiene Messi y cuánto tiempo de recuperación?</td>\n",
              "      <td>0.817684</td>\n",
              "    </tr>\n",
              "    <tr>\n",
              "      <th>997</th>\n",
              "      <td>49</td>\n",
              "      <td>966</td>\n",
              "      <td>A un año de ser diagnosticada con leucemia, Wanda Nara compartió una impactante foto de su internación</td>\n",
              "      <td>0.737150</td>\n",
              "    </tr>\n",
              "    <tr>\n",
              "      <th>998</th>\n",
              "      <td>49</td>\n",
              "      <td>983</td>\n",
              "      <td>«¿Cuál es la diferencia entre el euro hoy y el euro blue? Descubre cómo cotizaron este martes 16 de julio»</td>\n",
              "      <td>0.712060</td>\n",
              "    </tr>\n",
              "    <tr>\n",
              "      <th>999</th>\n",
              "      <td>49</td>\n",
              "      <td>988</td>\n",
              "      <td>Senior: final de la primera fase de playoffs del Apertura</td>\n",
              "      <td>0.777201</td>\n",
              "    </tr>\n",
              "  </tbody>\n",
              "</table>\n",
              "<p>1000 rows × 4 columns</p>\n",
              "</div>\n",
              "    <div class=\"colab-df-buttons\">\n",
              "\n",
              "  <div class=\"colab-df-container\">\n",
              "    <button class=\"colab-df-convert\" onclick=\"convertToInteractive('df-2659fbeb-4579-43b9-9fe7-534adeb94c61')\"\n",
              "            title=\"Convert this dataframe to an interactive table.\"\n",
              "            style=\"display:none;\">\n",
              "\n",
              "  <svg xmlns=\"http://www.w3.org/2000/svg\" height=\"24px\" viewBox=\"0 -960 960 960\">\n",
              "    <path d=\"M120-120v-720h720v720H120Zm60-500h600v-160H180v160Zm220 220h160v-160H400v160Zm0 220h160v-160H400v160ZM180-400h160v-160H180v160Zm440 0h160v-160H620v160ZM180-180h160v-160H180v160Zm440 0h160v-160H620v160Z\"/>\n",
              "  </svg>\n",
              "    </button>\n",
              "\n",
              "  <style>\n",
              "    .colab-df-container {\n",
              "      display:flex;\n",
              "      gap: 12px;\n",
              "    }\n",
              "\n",
              "    .colab-df-convert {\n",
              "      background-color: #E8F0FE;\n",
              "      border: none;\n",
              "      border-radius: 50%;\n",
              "      cursor: pointer;\n",
              "      display: none;\n",
              "      fill: #1967D2;\n",
              "      height: 32px;\n",
              "      padding: 0 0 0 0;\n",
              "      width: 32px;\n",
              "    }\n",
              "\n",
              "    .colab-df-convert:hover {\n",
              "      background-color: #E2EBFA;\n",
              "      box-shadow: 0px 1px 2px rgba(60, 64, 67, 0.3), 0px 1px 3px 1px rgba(60, 64, 67, 0.15);\n",
              "      fill: #174EA6;\n",
              "    }\n",
              "\n",
              "    .colab-df-buttons div {\n",
              "      margin-bottom: 4px;\n",
              "    }\n",
              "\n",
              "    [theme=dark] .colab-df-convert {\n",
              "      background-color: #3B4455;\n",
              "      fill: #D2E3FC;\n",
              "    }\n",
              "\n",
              "    [theme=dark] .colab-df-convert:hover {\n",
              "      background-color: #434B5C;\n",
              "      box-shadow: 0px 1px 3px 1px rgba(0, 0, 0, 0.15);\n",
              "      filter: drop-shadow(0px 1px 2px rgba(0, 0, 0, 0.3));\n",
              "      fill: #FFFFFF;\n",
              "    }\n",
              "  </style>\n",
              "\n",
              "    <script>\n",
              "      const buttonEl =\n",
              "        document.querySelector('#df-2659fbeb-4579-43b9-9fe7-534adeb94c61 button.colab-df-convert');\n",
              "      buttonEl.style.display =\n",
              "        google.colab.kernel.accessAllowed ? 'block' : 'none';\n",
              "\n",
              "      async function convertToInteractive(key) {\n",
              "        const element = document.querySelector('#df-2659fbeb-4579-43b9-9fe7-534adeb94c61');\n",
              "        const dataTable =\n",
              "          await google.colab.kernel.invokeFunction('convertToInteractive',\n",
              "                                                    [key], {});\n",
              "        if (!dataTable) return;\n",
              "\n",
              "        const docLinkHtml = 'Like what you see? Visit the ' +\n",
              "          '<a target=\"_blank\" href=https://colab.research.google.com/notebooks/data_table.ipynb>data table notebook</a>'\n",
              "          + ' to learn more about interactive tables.';\n",
              "        element.innerHTML = '';\n",
              "        dataTable['output_type'] = 'display_data';\n",
              "        await google.colab.output.renderOutput(dataTable, element);\n",
              "        const docLink = document.createElement('div');\n",
              "        docLink.innerHTML = docLinkHtml;\n",
              "        element.appendChild(docLink);\n",
              "      }\n",
              "    </script>\n",
              "  </div>\n",
              "\n",
              "\n",
              "<div id=\"df-3b702f85-f482-442a-b1f5-eb32e3131b0d\">\n",
              "  <button class=\"colab-df-quickchart\" onclick=\"quickchart('df-3b702f85-f482-442a-b1f5-eb32e3131b0d')\"\n",
              "            title=\"Suggest charts\"\n",
              "            style=\"display:none;\">\n",
              "\n",
              "<svg xmlns=\"http://www.w3.org/2000/svg\" height=\"24px\"viewBox=\"0 0 24 24\"\n",
              "     width=\"24px\">\n",
              "    <g>\n",
              "        <path d=\"M19 3H5c-1.1 0-2 .9-2 2v14c0 1.1.9 2 2 2h14c1.1 0 2-.9 2-2V5c0-1.1-.9-2-2-2zM9 17H7v-7h2v7zm4 0h-2V7h2v10zm4 0h-2v-4h2v4z\"/>\n",
              "    </g>\n",
              "</svg>\n",
              "  </button>\n",
              "\n",
              "<style>\n",
              "  .colab-df-quickchart {\n",
              "      --bg-color: #E8F0FE;\n",
              "      --fill-color: #1967D2;\n",
              "      --hover-bg-color: #E2EBFA;\n",
              "      --hover-fill-color: #174EA6;\n",
              "      --disabled-fill-color: #AAA;\n",
              "      --disabled-bg-color: #DDD;\n",
              "  }\n",
              "\n",
              "  [theme=dark] .colab-df-quickchart {\n",
              "      --bg-color: #3B4455;\n",
              "      --fill-color: #D2E3FC;\n",
              "      --hover-bg-color: #434B5C;\n",
              "      --hover-fill-color: #FFFFFF;\n",
              "      --disabled-bg-color: #3B4455;\n",
              "      --disabled-fill-color: #666;\n",
              "  }\n",
              "\n",
              "  .colab-df-quickchart {\n",
              "    background-color: var(--bg-color);\n",
              "    border: none;\n",
              "    border-radius: 50%;\n",
              "    cursor: pointer;\n",
              "    display: none;\n",
              "    fill: var(--fill-color);\n",
              "    height: 32px;\n",
              "    padding: 0;\n",
              "    width: 32px;\n",
              "  }\n",
              "\n",
              "  .colab-df-quickchart:hover {\n",
              "    background-color: var(--hover-bg-color);\n",
              "    box-shadow: 0 1px 2px rgba(60, 64, 67, 0.3), 0 1px 3px 1px rgba(60, 64, 67, 0.15);\n",
              "    fill: var(--button-hover-fill-color);\n",
              "  }\n",
              "\n",
              "  .colab-df-quickchart-complete:disabled,\n",
              "  .colab-df-quickchart-complete:disabled:hover {\n",
              "    background-color: var(--disabled-bg-color);\n",
              "    fill: var(--disabled-fill-color);\n",
              "    box-shadow: none;\n",
              "  }\n",
              "\n",
              "  .colab-df-spinner {\n",
              "    border: 2px solid var(--fill-color);\n",
              "    border-color: transparent;\n",
              "    border-bottom-color: var(--fill-color);\n",
              "    animation:\n",
              "      spin 1s steps(1) infinite;\n",
              "  }\n",
              "\n",
              "  @keyframes spin {\n",
              "    0% {\n",
              "      border-color: transparent;\n",
              "      border-bottom-color: var(--fill-color);\n",
              "      border-left-color: var(--fill-color);\n",
              "    }\n",
              "    20% {\n",
              "      border-color: transparent;\n",
              "      border-left-color: var(--fill-color);\n",
              "      border-top-color: var(--fill-color);\n",
              "    }\n",
              "    30% {\n",
              "      border-color: transparent;\n",
              "      border-left-color: var(--fill-color);\n",
              "      border-top-color: var(--fill-color);\n",
              "      border-right-color: var(--fill-color);\n",
              "    }\n",
              "    40% {\n",
              "      border-color: transparent;\n",
              "      border-right-color: var(--fill-color);\n",
              "      border-top-color: var(--fill-color);\n",
              "    }\n",
              "    60% {\n",
              "      border-color: transparent;\n",
              "      border-right-color: var(--fill-color);\n",
              "    }\n",
              "    80% {\n",
              "      border-color: transparent;\n",
              "      border-right-color: var(--fill-color);\n",
              "      border-bottom-color: var(--fill-color);\n",
              "    }\n",
              "    90% {\n",
              "      border-color: transparent;\n",
              "      border-bottom-color: var(--fill-color);\n",
              "    }\n",
              "  }\n",
              "</style>\n",
              "\n",
              "  <script>\n",
              "    async function quickchart(key) {\n",
              "      const quickchartButtonEl =\n",
              "        document.querySelector('#' + key + ' button');\n",
              "      quickchartButtonEl.disabled = true;  // To prevent multiple clicks.\n",
              "      quickchartButtonEl.classList.add('colab-df-spinner');\n",
              "      try {\n",
              "        const charts = await google.colab.kernel.invokeFunction(\n",
              "            'suggestCharts', [key], {});\n",
              "      } catch (error) {\n",
              "        console.error('Error during call to suggestCharts:', error);\n",
              "      }\n",
              "      quickchartButtonEl.classList.remove('colab-df-spinner');\n",
              "      quickchartButtonEl.classList.add('colab-df-quickchart-complete');\n",
              "    }\n",
              "    (() => {\n",
              "      let quickchartButtonEl =\n",
              "        document.querySelector('#df-3b702f85-f482-442a-b1f5-eb32e3131b0d button');\n",
              "      quickchartButtonEl.style.display =\n",
              "        google.colab.kernel.accessAllowed ? 'block' : 'none';\n",
              "    })();\n",
              "  </script>\n",
              "</div>\n",
              "\n",
              "    </div>\n",
              "  </div>\n"
            ],
            "application/vnd.google.colaboratory.intrinsic+json": {
              "type": "dataframe",
              "summary": "{\n  \"name\": \"topic_data_view(topic_online_model, df_parquet, probs_x)\",\n  \"rows\": 1000,\n  \"fields\": [\n    {\n      \"column\": \"Topic\",\n      \"properties\": {\n        \"dtype\": \"category\",\n        \"num_unique_values\": 47,\n        \"samples\": [\n          \"30\",\n          \"42\",\n          \"29\"\n        ],\n        \"semantic_type\": \"\",\n        \"description\": \"\"\n      }\n    },\n    {\n      \"column\": \"Id Doc\",\n      \"properties\": {\n        \"dtype\": \"string\",\n        \"num_unique_values\": 1000,\n        \"samples\": [\n          \"509\",\n          \"584\",\n          \"615\"\n        ],\n        \"semantic_type\": \"\",\n        \"description\": \"\"\n      }\n    },\n    {\n      \"column\": \"Title\",\n      \"properties\": {\n        \"dtype\": \"string\",\n        \"num_unique_values\": 948,\n        \"samples\": [\n          \"Maluma rompi\\u00f3 el silencio tras los insultos con hinchas argentinos en la Copa Am\\u00e9rica\",\n          \"Inter Miami confirm\\u00f3 la lesi\\u00f3n de Messi: qu\\u00e9 fue lo que le pas\\u00f3 y cu\\u00e1nto tiempo estar\\u00eda de fuera de las canchas\",\n          \"El crossover de Marvel m\\u00e1s \\u00e9pico: Deadpool y Wolverine se unen en un cameo explosivo\"\n        ],\n        \"semantic_type\": \"\",\n        \"description\": \"\"\n      }\n    },\n    {\n      \"column\": \"Probs\",\n      \"properties\": {\n        \"dtype\": \"number\",\n        \"std\": 0.0620381837094043,\n        \"min\": 0.5732844301381448,\n        \"max\": 0.9600590053431078,\n        \"num_unique_values\": 980,\n        \"samples\": [\n          0.7339260438921732,\n          0.7879156540290877,\n          0.9065482827598015\n        ],\n        \"semantic_type\": \"\",\n        \"description\": \"\"\n      }\n    }\n  ]\n}"
            }
          },
          "metadata": {},
          "execution_count": 67
        }
      ]
    },
    {
      "cell_type": "code",
      "source": [],
      "metadata": {
        "id": "TyNWGp8VKB62"
      },
      "execution_count": null,
      "outputs": []
    }
  ],
  "metadata": {
    "colab": {
      "provenance": [],
      "gpuType": "T4",
      "include_colab_link": true
    },
    "kernelspec": {
      "display_name": "Python 3",
      "name": "python3"
    },
    "language_info": {
      "codemirror_mode": {
        "name": "ipython",
        "version": 3
      },
      "file_extension": ".py",
      "mimetype": "text/x-python",
      "name": "python",
      "nbconvert_exporter": "python",
      "pygments_lexer": "ipython3",
      "version": "3.11.8"
    },
    "widgets": {
      "application/vnd.jupyter.widget-state+json": {
        "aac80b82cbb742ddb8e78f0471228ba4": {
          "model_module": "@jupyter-widgets/controls",
          "model_name": "HBoxModel",
          "model_module_version": "1.5.0",
          "state": {
            "_dom_classes": [],
            "_model_module": "@jupyter-widgets/controls",
            "_model_module_version": "1.5.0",
            "_model_name": "HBoxModel",
            "_view_count": null,
            "_view_module": "@jupyter-widgets/controls",
            "_view_module_version": "1.5.0",
            "_view_name": "HBoxView",
            "box_style": "",
            "children": [
              "IPY_MODEL_1bf5235d471f41cc9de5beac0f736dda",
              "IPY_MODEL_88a8c2b62765434bbb93da6e732bfcda",
              "IPY_MODEL_01cb9646561a42a195bf601dbe115b13"
            ],
            "layout": "IPY_MODEL_8a5f5f236ae640a2b269ea2ef59a6590"
          }
        },
        "1bf5235d471f41cc9de5beac0f736dda": {
          "model_module": "@jupyter-widgets/controls",
          "model_name": "HTMLModel",
          "model_module_version": "1.5.0",
          "state": {
            "_dom_classes": [],
            "_model_module": "@jupyter-widgets/controls",
            "_model_module_version": "1.5.0",
            "_model_name": "HTMLModel",
            "_view_count": null,
            "_view_module": "@jupyter-widgets/controls",
            "_view_module_version": "1.5.0",
            "_view_name": "HTMLView",
            "description": "",
            "description_tooltip": null,
            "layout": "IPY_MODEL_f97a814d2c774e61a6ff714ad3716a43",
            "placeholder": "​",
            "style": "IPY_MODEL_9ef1ebc4445f41fb8e2e05ccce43c869",
            "value": "Batches: 100%"
          }
        },
        "88a8c2b62765434bbb93da6e732bfcda": {
          "model_module": "@jupyter-widgets/controls",
          "model_name": "FloatProgressModel",
          "model_module_version": "1.5.0",
          "state": {
            "_dom_classes": [],
            "_model_module": "@jupyter-widgets/controls",
            "_model_module_version": "1.5.0",
            "_model_name": "FloatProgressModel",
            "_view_count": null,
            "_view_module": "@jupyter-widgets/controls",
            "_view_module_version": "1.5.0",
            "_view_name": "ProgressView",
            "bar_style": "success",
            "description": "",
            "description_tooltip": null,
            "layout": "IPY_MODEL_65ce5e533aa645b4862342483ad212b0",
            "max": 32,
            "min": 0,
            "orientation": "horizontal",
            "style": "IPY_MODEL_9e3c730905ef4773a1d5bc5aa2e7c31f",
            "value": 32
          }
        },
        "01cb9646561a42a195bf601dbe115b13": {
          "model_module": "@jupyter-widgets/controls",
          "model_name": "HTMLModel",
          "model_module_version": "1.5.0",
          "state": {
            "_dom_classes": [],
            "_model_module": "@jupyter-widgets/controls",
            "_model_module_version": "1.5.0",
            "_model_name": "HTMLModel",
            "_view_count": null,
            "_view_module": "@jupyter-widgets/controls",
            "_view_module_version": "1.5.0",
            "_view_name": "HTMLView",
            "description": "",
            "description_tooltip": null,
            "layout": "IPY_MODEL_dcc48acc16ca411d97daee5d452e9812",
            "placeholder": "​",
            "style": "IPY_MODEL_b7412ff0e9894b4eb515b57d5144da90",
            "value": " 32/32 [00:05&lt;00:00, 11.93it/s]"
          }
        },
        "8a5f5f236ae640a2b269ea2ef59a6590": {
          "model_module": "@jupyter-widgets/base",
          "model_name": "LayoutModel",
          "model_module_version": "1.2.0",
          "state": {
            "_model_module": "@jupyter-widgets/base",
            "_model_module_version": "1.2.0",
            "_model_name": "LayoutModel",
            "_view_count": null,
            "_view_module": "@jupyter-widgets/base",
            "_view_module_version": "1.2.0",
            "_view_name": "LayoutView",
            "align_content": null,
            "align_items": null,
            "align_self": null,
            "border": null,
            "bottom": null,
            "display": null,
            "flex": null,
            "flex_flow": null,
            "grid_area": null,
            "grid_auto_columns": null,
            "grid_auto_flow": null,
            "grid_auto_rows": null,
            "grid_column": null,
            "grid_gap": null,
            "grid_row": null,
            "grid_template_areas": null,
            "grid_template_columns": null,
            "grid_template_rows": null,
            "height": null,
            "justify_content": null,
            "justify_items": null,
            "left": null,
            "margin": null,
            "max_height": null,
            "max_width": null,
            "min_height": null,
            "min_width": null,
            "object_fit": null,
            "object_position": null,
            "order": null,
            "overflow": null,
            "overflow_x": null,
            "overflow_y": null,
            "padding": null,
            "right": null,
            "top": null,
            "visibility": null,
            "width": null
          }
        },
        "f97a814d2c774e61a6ff714ad3716a43": {
          "model_module": "@jupyter-widgets/base",
          "model_name": "LayoutModel",
          "model_module_version": "1.2.0",
          "state": {
            "_model_module": "@jupyter-widgets/base",
            "_model_module_version": "1.2.0",
            "_model_name": "LayoutModel",
            "_view_count": null,
            "_view_module": "@jupyter-widgets/base",
            "_view_module_version": "1.2.0",
            "_view_name": "LayoutView",
            "align_content": null,
            "align_items": null,
            "align_self": null,
            "border": null,
            "bottom": null,
            "display": null,
            "flex": null,
            "flex_flow": null,
            "grid_area": null,
            "grid_auto_columns": null,
            "grid_auto_flow": null,
            "grid_auto_rows": null,
            "grid_column": null,
            "grid_gap": null,
            "grid_row": null,
            "grid_template_areas": null,
            "grid_template_columns": null,
            "grid_template_rows": null,
            "height": null,
            "justify_content": null,
            "justify_items": null,
            "left": null,
            "margin": null,
            "max_height": null,
            "max_width": null,
            "min_height": null,
            "min_width": null,
            "object_fit": null,
            "object_position": null,
            "order": null,
            "overflow": null,
            "overflow_x": null,
            "overflow_y": null,
            "padding": null,
            "right": null,
            "top": null,
            "visibility": null,
            "width": null
          }
        },
        "9ef1ebc4445f41fb8e2e05ccce43c869": {
          "model_module": "@jupyter-widgets/controls",
          "model_name": "DescriptionStyleModel",
          "model_module_version": "1.5.0",
          "state": {
            "_model_module": "@jupyter-widgets/controls",
            "_model_module_version": "1.5.0",
            "_model_name": "DescriptionStyleModel",
            "_view_count": null,
            "_view_module": "@jupyter-widgets/base",
            "_view_module_version": "1.2.0",
            "_view_name": "StyleView",
            "description_width": ""
          }
        },
        "65ce5e533aa645b4862342483ad212b0": {
          "model_module": "@jupyter-widgets/base",
          "model_name": "LayoutModel",
          "model_module_version": "1.2.0",
          "state": {
            "_model_module": "@jupyter-widgets/base",
            "_model_module_version": "1.2.0",
            "_model_name": "LayoutModel",
            "_view_count": null,
            "_view_module": "@jupyter-widgets/base",
            "_view_module_version": "1.2.0",
            "_view_name": "LayoutView",
            "align_content": null,
            "align_items": null,
            "align_self": null,
            "border": null,
            "bottom": null,
            "display": null,
            "flex": null,
            "flex_flow": null,
            "grid_area": null,
            "grid_auto_columns": null,
            "grid_auto_flow": null,
            "grid_auto_rows": null,
            "grid_column": null,
            "grid_gap": null,
            "grid_row": null,
            "grid_template_areas": null,
            "grid_template_columns": null,
            "grid_template_rows": null,
            "height": null,
            "justify_content": null,
            "justify_items": null,
            "left": null,
            "margin": null,
            "max_height": null,
            "max_width": null,
            "min_height": null,
            "min_width": null,
            "object_fit": null,
            "object_position": null,
            "order": null,
            "overflow": null,
            "overflow_x": null,
            "overflow_y": null,
            "padding": null,
            "right": null,
            "top": null,
            "visibility": null,
            "width": null
          }
        },
        "9e3c730905ef4773a1d5bc5aa2e7c31f": {
          "model_module": "@jupyter-widgets/controls",
          "model_name": "ProgressStyleModel",
          "model_module_version": "1.5.0",
          "state": {
            "_model_module": "@jupyter-widgets/controls",
            "_model_module_version": "1.5.0",
            "_model_name": "ProgressStyleModel",
            "_view_count": null,
            "_view_module": "@jupyter-widgets/base",
            "_view_module_version": "1.2.0",
            "_view_name": "StyleView",
            "bar_color": null,
            "description_width": ""
          }
        },
        "dcc48acc16ca411d97daee5d452e9812": {
          "model_module": "@jupyter-widgets/base",
          "model_name": "LayoutModel",
          "model_module_version": "1.2.0",
          "state": {
            "_model_module": "@jupyter-widgets/base",
            "_model_module_version": "1.2.0",
            "_model_name": "LayoutModel",
            "_view_count": null,
            "_view_module": "@jupyter-widgets/base",
            "_view_module_version": "1.2.0",
            "_view_name": "LayoutView",
            "align_content": null,
            "align_items": null,
            "align_self": null,
            "border": null,
            "bottom": null,
            "display": null,
            "flex": null,
            "flex_flow": null,
            "grid_area": null,
            "grid_auto_columns": null,
            "grid_auto_flow": null,
            "grid_auto_rows": null,
            "grid_column": null,
            "grid_gap": null,
            "grid_row": null,
            "grid_template_areas": null,
            "grid_template_columns": null,
            "grid_template_rows": null,
            "height": null,
            "justify_content": null,
            "justify_items": null,
            "left": null,
            "margin": null,
            "max_height": null,
            "max_width": null,
            "min_height": null,
            "min_width": null,
            "object_fit": null,
            "object_position": null,
            "order": null,
            "overflow": null,
            "overflow_x": null,
            "overflow_y": null,
            "padding": null,
            "right": null,
            "top": null,
            "visibility": null,
            "width": null
          }
        },
        "b7412ff0e9894b4eb515b57d5144da90": {
          "model_module": "@jupyter-widgets/controls",
          "model_name": "DescriptionStyleModel",
          "model_module_version": "1.5.0",
          "state": {
            "_model_module": "@jupyter-widgets/controls",
            "_model_module_version": "1.5.0",
            "_model_name": "DescriptionStyleModel",
            "_view_count": null,
            "_view_module": "@jupyter-widgets/base",
            "_view_module_version": "1.2.0",
            "_view_name": "StyleView",
            "description_width": ""
          }
        }
      }
    },
    "accelerator": "GPU"
  },
  "nbformat": 4,
  "nbformat_minor": 0
}