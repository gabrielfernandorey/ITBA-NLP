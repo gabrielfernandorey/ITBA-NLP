{
 "cells": [
  {
   "cell_type": "code",
   "execution_count": 14,
   "metadata": {},
   "outputs": [
    {
     "name": "stdout",
     "output_type": "stream",
     "text": [
      "3221\n",
      "123456789\n"
     ]
    }
   ],
   "source": [
    "def reverse_number(num: int) -> int:\n",
    "  # Reverse the number\n",
    "  num = [i for i in str(num)][::-1]\n",
    "  reverse = \"\".join([n for n in num])\n",
    "  # Return the number\n",
    "  return int(reverse)\n",
    "\n",
    "## Example usage:\n",
    "print(reverse_number(1223)) # Output: 3221\n",
    "print(reverse_number(987654321)) # Output: 123456789"
   ]
  },
  {
   "cell_type": "code",
   "execution_count": 10,
   "metadata": {},
   "outputs": [],
   "source": [
    "v = ['3', '2', '2', '1']"
   ]
  },
  {
   "cell_type": "code",
   "execution_count": 12,
   "metadata": {},
   "outputs": [
    {
     "data": {
      "text/plain": [
       "'3221'"
      ]
     },
     "execution_count": 12,
     "metadata": {},
     "output_type": "execute_result"
    }
   ],
   "source": [
    "\"\".join([n for n in v])"
   ]
  },
  {
   "cell_type": "code",
   "execution_count": 2,
   "metadata": {},
   "outputs": [
    {
     "name": "stdout",
     "output_type": "stream",
     "text": [
      "-5\n",
      "7\n"
     ]
    }
   ],
   "source": [
    "def oppositeNumber(num):\n",
    "    return -num\n",
    "\n",
    "# Example usage:\n",
    "print(oppositeNumber(5)) # Output: -5\n",
    "print(oppositeNumber(-7)) # Output: 7"
   ]
  },
  {
   "cell_type": "code",
   "execution_count": null,
   "metadata": {},
   "outputs": [],
   "source": []
  }
 ],
 "metadata": {
  "kernelspec": {
   "display_name": "nlp-env",
   "language": "python",
   "name": "python3"
  },
  "language_info": {
   "codemirror_mode": {
    "name": "ipython",
    "version": 3
   },
   "file_extension": ".py",
   "mimetype": "text/x-python",
   "name": "python",
   "nbconvert_exporter": "python",
   "pygments_lexer": "ipython3",
   "version": "3.11.8"
  }
 },
 "nbformat": 4,
 "nbformat_minor": 2
}
