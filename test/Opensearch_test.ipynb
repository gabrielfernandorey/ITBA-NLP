{
 "cells": [
  {
   "cell_type": "code",
   "execution_count": 6,
   "metadata": {},
   "outputs": [],
   "source": [
    "import warnings\n",
    "warnings.filterwarnings('ignore')"
   ]
  },
  {
   "cell_type": "code",
   "execution_count": 1,
   "metadata": {},
   "outputs": [
    {
     "name": "stderr",
     "output_type": "stream",
     "text": [
      "c:\\Users\\gabri\\OneDrive\\Machine Learning\\nlp-env\\Lib\\site-packages\\opensearchpy\\connection\\http_urllib3.py:214: UserWarning: Connecting to https://localhost:9200 using SSL with verify_certs=False is insecure.\n",
      "  warnings.warn(\n",
      "c:\\Users\\gabri\\OneDrive\\Machine Learning\\nlp-env\\Lib\\site-packages\\urllib3\\connectionpool.py:1103: InsecureRequestWarning: Unverified HTTPS request is being made to host 'localhost'. Adding certificate verification is strongly advised. See: https://urllib3.readthedocs.io/en/latest/advanced-usage.html#tls-warnings\n",
      "  warnings.warn(\n"
     ]
    }
   ],
   "source": [
    "from opensearchpy import Float, OpenSearch, Field, Integer, Document, Keyword, Text, Boolean, DenseVector, Nested, Date, Object, connections, InnerDoc, helpers\n",
    "import os\n",
    "\n",
    "# local test\n",
    "# docker pull opensearchproject/opensearch:latest\n",
    "# docker run -it -p 9200:9200 -p 9600:9600 -e OPENSEARCH_INITIAL_ADMIN_PASSWORD=PassWord#1234! -e \"discovery.type=single-node\"  --name opensearch-node opensearchproject/opensearch:latest\n",
    "# docker stop opensearch-node\n",
    "# docker start opensearch-node\n",
    "# curl -X GET \"https://localhost:9200\" -ku admin:PassWord#1234!\n",
    "# Al usar el plugin de Chrome, primero acceder al link --> When using https make sure that your browser trusts the clusters ssl certificate. Help\n",
    "# y luego configurar el acceso: abrir en navegador https://localhost:9200, luego loguearse.\n",
    "# Nota: verificar \"https://....\"\n",
    "\n",
    "\n",
    "\n",
    "OPENSEARCH_HOST = os.getenv('OPENSEARCH_HOST', \"localhost\")\n",
    "auth = ('admin', 'PassWord#1234!')\n",
    "port = 9200\n",
    "os_client = connections.create_connection(\n",
    "    hosts = [{'host': OPENSEARCH_HOST, 'port': port}],\n",
    "    http_auth = auth,\n",
    "    http_compress = True, # enables gzip compression for request bodies\n",
    "    use_ssl = True,\n",
    "    verify_certs = False,\n",
    "    alias='default'\n",
    "    # ssl_assert_hostname = False,\n",
    "    # ssl_show_warn = False\n",
    ")\n",
    "\n",
    "# Index Test\n",
    "TEST_DIMENSIONS = 4\n",
    "TEST_INDEX_NAME = 'test'\n",
    "TEST_INDEX_PARAMS = {\n",
    "    'number_of_shards': 1,      # 1 fragmento (no hay replicas)\n",
    "    'knn': True\n",
    "}\n",
    "\n",
    "knn_params = {                      # parámetros de knn\n",
    "    \"name\": \"hnsw\",\n",
    "    \"space_type\": \"cosinesimil\",    # usamos similitud coseno\n",
    "    \"engine\": \"nmslib\"              # tipo de algortimo que va a utilizar\n",
    "}\n",
    "#-------------------------------------------------------------------------------------------------\n",
    "class KNNVector(Field):\n",
    "    name = \"knn_vector\"\n",
    "    def __init__(self, dimension, method, **kwargs):\n",
    "        super(KNNVector, self).__init__(dimension=dimension, method=method, **kwargs)\n",
    "    \n",
    "#-------------------------------------------------------------------------------------------------------------\n",
    "class Test(Document):\n",
    "    name = Text() \n",
    "    vector = KNNVector(TEST_DIMENSIONS, knn_params)    # vector                       \n",
    "\n",
    "    class Index:\n",
    "        name = TEST_INDEX_NAME                          \n",
    "        if not os_client.indices.exists(index=TEST_INDEX_NAME):\n",
    "            settings = {\n",
    "                'index': TEST_INDEX_PARAMS\n",
    "            }\n",
    "\n",
    "    def save(self, ** kwargs):\n",
    "        self.meta.id = f'{self.meta.id}'\n",
    "        return super(Test, self).save(** kwargs)\n",
    "    "
   ]
  },
  {
   "cell_type": "code",
   "execution_count": 2,
   "metadata": {},
   "outputs": [],
   "source": [
    "def init_opensearch():\n",
    "    \n",
    "    if not os_client.indices.exists(index=TEST_INDEX_NAME):\n",
    "        Test.init()\n",
    "        print(\"Índice Test creado\")\n",
    "    else:\n",
    "        print(\"El índice Test ya existe. Saltando inicialización de base de datos.\")\n",
    "        \n",
    "    return "
   ]
  },
  {
   "cell_type": "code",
   "execution_count": 7,
   "metadata": {},
   "outputs": [],
   "source": [
    "test_embeddings = [ [1.5, 5.5, 4.5, 6.4],\n",
    "                    [2.5, 3.5, 5.6, 6.7],\n",
    "                    [4.5, 5.5, 6.7, 3.7],\n",
    "                    [1.5, 5.4, 4.4, 6.3]\n",
    "                ]\n",
    "\n",
    "# Cargar registros de prueba en test\n",
    "index_name = 'test'\n",
    "\n",
    "for i, embedding in enumerate(test_embeddings):\n",
    "    doc = Test( meta={'id': i+1},\n",
    "                name = str(i),\n",
    "                vector=embedding)\n",
    "    \n",
    "    doc.save()"
   ]
  },
  {
   "cell_type": "code",
   "execution_count": 8,
   "metadata": {},
   "outputs": [
    {
     "data": {
      "text/plain": [
       "4"
      ]
     },
     "execution_count": 8,
     "metadata": {},
     "output_type": "execute_result"
    }
   ],
   "source": [
    "Test().search().count()"
   ]
  },
  {
   "cell_type": "code",
   "execution_count": 9,
   "metadata": {},
   "outputs": [
    {
     "name": "stdout",
     "output_type": "stream",
     "text": [
      "Embedding más cercano encontrado:\n",
      "{'name': '1', 'vector': [2.5, 3.5, 5.6, 6.7]}\n"
     ]
    }
   ],
   "source": [
    "search_embedding = [2.5, 3.5, 5.1, 6.4]  \n",
    "\n",
    "# Consulta de búsqueda por similitud de vectores\n",
    "query = {\n",
    "    \"size\": 2,  # Devolver solo el embedding más cercano\n",
    "    \"query\": {\n",
    "        \"knn\": {\n",
    "            \"vector\": {\n",
    "                \"vector\": search_embedding,\n",
    "                \"k\" : 3\n",
    "            }\n",
    "        }\n",
    "    }\n",
    "}\n",
    "\n",
    "# Realizar la consulta\n",
    "result = os_client.search(index='test', body=query)\n",
    "\n",
    "# Obtener el embedding más cercano\n",
    "if result['hits']['total']['value'] > 0:\n",
    "    closest_embedding = result['hits']['hits'][0]['_source']\n",
    "    print(\"Embedding más cercano encontrado:\")\n",
    "    print(closest_embedding)\n",
    "else:\n",
    "    print(\"No se encontraron resultados para el embedding más cercano.\")"
   ]
  },
  {
   "cell_type": "code",
   "execution_count": 10,
   "metadata": {},
   "outputs": [
    {
     "name": "stdout",
     "output_type": "stream",
     "text": [
      "Mapeo actual del índice 'test':\n",
      "{'test': {'mappings': {'properties': {'name': {'type': 'text'}, 'vector': {'type': 'knn_vector', 'dimension': 4, 'method': {'engine': 'nmslib', 'space_type': 'cosinesimil', 'name': 'hnsw', 'parameters': {}}}}}}}\n"
     ]
    }
   ],
   "source": [
    "# Verificar que el índice y el campo están correctamente configurados\n",
    "mapping_result = os_client.indices.get_mapping(index='test')\n",
    "print(f\"Mapeo actual del índice 'test':\")\n",
    "print(mapping_result)"
   ]
  },
  {
   "cell_type": "code",
   "execution_count": null,
   "metadata": {},
   "outputs": [],
   "source": []
  }
 ],
 "metadata": {
  "kernelspec": {
   "display_name": "nlp-env",
   "language": "python",
   "name": "python3"
  },
  "language_info": {
   "codemirror_mode": {
    "name": "ipython",
    "version": 3
   },
   "file_extension": ".py",
   "mimetype": "text/x-python",
   "name": "python",
   "nbconvert_exporter": "python",
   "pygments_lexer": "ipython3",
   "version": "3.11.8"
  }
 },
 "nbformat": 4,
 "nbformat_minor": 2
}
